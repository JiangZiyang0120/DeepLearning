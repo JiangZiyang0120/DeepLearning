{
 "cells": [
  {
   "metadata": {},
   "cell_type": "markdown",
   "source": [
    "在开始寻找最好的模型参数（model parameters）w和b之前，我们还需要两个东西：\n",
    "1. 一种模型质量的度量方式；\n",
    "2. 一种能够更新模型以提高模型预测质量的方法。"
   ],
   "id": "966e1fccaeb5b91e"
  },
  {
   "metadata": {
    "ExecuteTime": {
     "end_time": "2025-02-15T22:45:21.332904Z",
     "start_time": "2025-02-15T22:45:21.329551Z"
    }
   },
   "cell_type": "code",
   "source": [
    "from matplotlib.pyplot import xlabel\n",
    "%matplotlib inline\n",
    "import math\n",
    "import time\n",
    "import numpy as np\n",
    "import torch\n",
    "from d2l import torch as d2l"
   ],
   "id": "dc561d1f2d8945b0",
   "outputs": [],
   "execution_count": 4
  },
  {
   "metadata": {
    "ExecuteTime": {
     "end_time": "2025-02-16T02:33:14.399911Z",
     "start_time": "2025-02-16T02:33:14.312461Z"
    }
   },
   "cell_type": "code",
   "source": [
    "# 定义并可视化正态分布\n",
    "def normal(x, mu, sigma):\n",
    "    return 1/(math.sqrt(2*math.pi)*sigma)*np.exp(-0.5*((x-mu)**2)/sigma**2)\n",
    "\n",
    "# 再次使用numpy进行可视化\n",
    "x = np.arange(-7, 7, 0.01)\n",
    "# 均值和标准差对\n",
    "params = [(0, 1), (0, 2), (3, 1)]\n",
    "d2l.plot(x, [normal(x, mu, sigma) for mu, sigma in params], xlabel='x',\n",
    "ylabel='p(x)', figsize=(4.5, 2.5),\n",
    "legend=[f'mean {mu}, std {sigma}' for mu, sigma in params])"
   ],
   "id": "40142f53710e09b6",
   "outputs": [
    {
     "data": {
      "text/plain": [
       "<Figure size 450x250 with 1 Axes>"
      ],
      "image/svg+xml": "<?xml version=\"1.0\" encoding=\"utf-8\" standalone=\"no\"?>\n<!DOCTYPE svg PUBLIC \"-//W3C//DTD SVG 1.1//EN\"\n  \"http://www.w3.org/Graphics/SVG/1.1/DTD/svg11.dtd\">\n<svg xmlns:xlink=\"http://www.w3.org/1999/xlink\" width=\"302.08125pt\" height=\"183.35625pt\" viewBox=\"0 0 302.08125 183.35625\" xmlns=\"http://www.w3.org/2000/svg\" version=\"1.1\">\n <metadata>\n  <rdf:RDF xmlns:dc=\"http://purl.org/dc/elements/1.1/\" xmlns:cc=\"http://creativecommons.org/ns#\" xmlns:rdf=\"http://www.w3.org/1999/02/22-rdf-syntax-ns#\">\n   <cc:Work>\n    <dc:type rdf:resource=\"http://purl.org/dc/dcmitype/StillImage\"/>\n    <dc:date>2025-02-16T10:33:14.385158</dc:date>\n    <dc:format>image/svg+xml</dc:format>\n    <dc:creator>\n     <cc:Agent>\n      <dc:title>Matplotlib v3.7.2, https://matplotlib.org/</dc:title>\n     </cc:Agent>\n    </dc:creator>\n   </cc:Work>\n  </rdf:RDF>\n </metadata>\n <defs>\n  <style type=\"text/css\">*{stroke-linejoin: round; stroke-linecap: butt}</style>\n </defs>\n <g id=\"figure_1\">\n  <g id=\"patch_1\">\n   <path d=\"M 0 183.35625 \nL 302.08125 183.35625 \nL 302.08125 0 \nL 0 0 \nz\n\" style=\"fill: #ffffff\"/>\n  </g>\n  <g id=\"axes_1\">\n   <g id=\"patch_2\">\n    <path d=\"M 43.78125 145.8 \nL 294.88125 145.8 \nL 294.88125 7.2 \nL 43.78125 7.2 \nz\n\" style=\"fill: #ffffff\"/>\n   </g>\n   <g id=\"matplotlib.axis_1\">\n    <g id=\"xtick_1\">\n     <g id=\"line2d_1\">\n      <path d=\"M 71.511736 145.8 \nL 71.511736 7.2 \n\" clip-path=\"url(#pd2384fd52c)\" style=\"fill: none; stroke: #b0b0b0; stroke-width: 0.8; stroke-linecap: square\"/>\n     </g>\n     <g id=\"line2d_2\">\n      <defs>\n       <path id=\"m0a3584c140\" d=\"M 0 0 \nL 0 3.5 \n\" style=\"stroke: #000000; stroke-width: 0.8\"/>\n      </defs>\n      <g>\n       <use xlink:href=\"#m0a3584c140\" x=\"71.511736\" y=\"145.8\" style=\"stroke: #000000; stroke-width: 0.8\"/>\n      </g>\n     </g>\n     <g id=\"text_1\">\n      <!-- −6 -->\n      <g transform=\"translate(64.140642 160.398438) scale(0.1 -0.1)\">\n       <defs>\n        <path id=\"DejaVuSans-2212\" d=\"M 678 2272 \nL 4684 2272 \nL 4684 1741 \nL 678 1741 \nL 678 2272 \nz\n\" transform=\"scale(0.015625)\"/>\n        <path id=\"DejaVuSans-36\" d=\"M 2113 2584 \nQ 1688 2584 1439 2293 \nQ 1191 2003 1191 1497 \nQ 1191 994 1439 701 \nQ 1688 409 2113 409 \nQ 2538 409 2786 701 \nQ 3034 994 3034 1497 \nQ 3034 2003 2786 2293 \nQ 2538 2584 2113 2584 \nz\nM 3366 4563 \nL 3366 3988 \nQ 3128 4100 2886 4159 \nQ 2644 4219 2406 4219 \nQ 1781 4219 1451 3797 \nQ 1122 3375 1075 2522 \nQ 1259 2794 1537 2939 \nQ 1816 3084 2150 3084 \nQ 2853 3084 3261 2657 \nQ 3669 2231 3669 1497 \nQ 3669 778 3244 343 \nQ 2819 -91 2113 -91 \nQ 1303 -91 875 529 \nQ 447 1150 447 2328 \nQ 447 3434 972 4092 \nQ 1497 4750 2381 4750 \nQ 2619 4750 2861 4703 \nQ 3103 4656 3366 4563 \nz\n\" transform=\"scale(0.015625)\"/>\n       </defs>\n       <use xlink:href=\"#DejaVuSans-2212\"/>\n       <use xlink:href=\"#DejaVuSans-36\" x=\"83.789062\"/>\n      </g>\n     </g>\n    </g>\n    <g id=\"xtick_2\">\n     <g id=\"line2d_3\">\n      <path d=\"M 104.145435 145.8 \nL 104.145435 7.2 \n\" clip-path=\"url(#pd2384fd52c)\" style=\"fill: none; stroke: #b0b0b0; stroke-width: 0.8; stroke-linecap: square\"/>\n     </g>\n     <g id=\"line2d_4\">\n      <g>\n       <use xlink:href=\"#m0a3584c140\" x=\"104.145435\" y=\"145.8\" style=\"stroke: #000000; stroke-width: 0.8\"/>\n      </g>\n     </g>\n     <g id=\"text_2\">\n      <!-- −4 -->\n      <g transform=\"translate(96.774342 160.398438) scale(0.1 -0.1)\">\n       <defs>\n        <path id=\"DejaVuSans-34\" d=\"M 2419 4116 \nL 825 1625 \nL 2419 1625 \nL 2419 4116 \nz\nM 2253 4666 \nL 3047 4666 \nL 3047 1625 \nL 3713 1625 \nL 3713 1100 \nL 3047 1100 \nL 3047 0 \nL 2419 0 \nL 2419 1100 \nL 313 1100 \nL 313 1709 \nL 2253 4666 \nz\n\" transform=\"scale(0.015625)\"/>\n       </defs>\n       <use xlink:href=\"#DejaVuSans-2212\"/>\n       <use xlink:href=\"#DejaVuSans-34\" x=\"83.789062\"/>\n      </g>\n     </g>\n    </g>\n    <g id=\"xtick_3\">\n     <g id=\"line2d_5\">\n      <path d=\"M 136.779135 145.8 \nL 136.779135 7.2 \n\" clip-path=\"url(#pd2384fd52c)\" style=\"fill: none; stroke: #b0b0b0; stroke-width: 0.8; stroke-linecap: square\"/>\n     </g>\n     <g id=\"line2d_6\">\n      <g>\n       <use xlink:href=\"#m0a3584c140\" x=\"136.779135\" y=\"145.8\" style=\"stroke: #000000; stroke-width: 0.8\"/>\n      </g>\n     </g>\n     <g id=\"text_3\">\n      <!-- −2 -->\n      <g transform=\"translate(129.408041 160.398438) scale(0.1 -0.1)\">\n       <defs>\n        <path id=\"DejaVuSans-32\" d=\"M 1228 531 \nL 3431 531 \nL 3431 0 \nL 469 0 \nL 469 531 \nQ 828 903 1448 1529 \nQ 2069 2156 2228 2338 \nQ 2531 2678 2651 2914 \nQ 2772 3150 2772 3378 \nQ 2772 3750 2511 3984 \nQ 2250 4219 1831 4219 \nQ 1534 4219 1204 4116 \nQ 875 4013 500 3803 \nL 500 4441 \nQ 881 4594 1212 4672 \nQ 1544 4750 1819 4750 \nQ 2544 4750 2975 4387 \nQ 3406 4025 3406 3419 \nQ 3406 3131 3298 2873 \nQ 3191 2616 2906 2266 \nQ 2828 2175 2409 1742 \nQ 1991 1309 1228 531 \nz\n\" transform=\"scale(0.015625)\"/>\n       </defs>\n       <use xlink:href=\"#DejaVuSans-2212\"/>\n       <use xlink:href=\"#DejaVuSans-32\" x=\"83.789062\"/>\n      </g>\n     </g>\n    </g>\n    <g id=\"xtick_4\">\n     <g id=\"line2d_7\">\n      <path d=\"M 169.412834 145.8 \nL 169.412834 7.2 \n\" clip-path=\"url(#pd2384fd52c)\" style=\"fill: none; stroke: #b0b0b0; stroke-width: 0.8; stroke-linecap: square\"/>\n     </g>\n     <g id=\"line2d_8\">\n      <g>\n       <use xlink:href=\"#m0a3584c140\" x=\"169.412834\" y=\"145.8\" style=\"stroke: #000000; stroke-width: 0.8\"/>\n      </g>\n     </g>\n     <g id=\"text_4\">\n      <!-- 0 -->\n      <g transform=\"translate(166.231584 160.398438) scale(0.1 -0.1)\">\n       <defs>\n        <path id=\"DejaVuSans-30\" d=\"M 2034 4250 \nQ 1547 4250 1301 3770 \nQ 1056 3291 1056 2328 \nQ 1056 1369 1301 889 \nQ 1547 409 2034 409 \nQ 2525 409 2770 889 \nQ 3016 1369 3016 2328 \nQ 3016 3291 2770 3770 \nQ 2525 4250 2034 4250 \nz\nM 2034 4750 \nQ 2819 4750 3233 4129 \nQ 3647 3509 3647 2328 \nQ 3647 1150 3233 529 \nQ 2819 -91 2034 -91 \nQ 1250 -91 836 529 \nQ 422 1150 422 2328 \nQ 422 3509 836 4129 \nQ 1250 4750 2034 4750 \nz\n\" transform=\"scale(0.015625)\"/>\n       </defs>\n       <use xlink:href=\"#DejaVuSans-30\"/>\n      </g>\n     </g>\n    </g>\n    <g id=\"xtick_5\">\n     <g id=\"line2d_9\">\n      <path d=\"M 202.046534 145.8 \nL 202.046534 7.2 \n\" clip-path=\"url(#pd2384fd52c)\" style=\"fill: none; stroke: #b0b0b0; stroke-width: 0.8; stroke-linecap: square\"/>\n     </g>\n     <g id=\"line2d_10\">\n      <g>\n       <use xlink:href=\"#m0a3584c140\" x=\"202.046534\" y=\"145.8\" style=\"stroke: #000000; stroke-width: 0.8\"/>\n      </g>\n     </g>\n     <g id=\"text_5\">\n      <!-- 2 -->\n      <g transform=\"translate(198.865284 160.398438) scale(0.1 -0.1)\">\n       <use xlink:href=\"#DejaVuSans-32\"/>\n      </g>\n     </g>\n    </g>\n    <g id=\"xtick_6\">\n     <g id=\"line2d_11\">\n      <path d=\"M 234.680233 145.8 \nL 234.680233 7.2 \n\" clip-path=\"url(#pd2384fd52c)\" style=\"fill: none; stroke: #b0b0b0; stroke-width: 0.8; stroke-linecap: square\"/>\n     </g>\n     <g id=\"line2d_12\">\n      <g>\n       <use xlink:href=\"#m0a3584c140\" x=\"234.680233\" y=\"145.8\" style=\"stroke: #000000; stroke-width: 0.8\"/>\n      </g>\n     </g>\n     <g id=\"text_6\">\n      <!-- 4 -->\n      <g transform=\"translate(231.498983 160.398438) scale(0.1 -0.1)\">\n       <use xlink:href=\"#DejaVuSans-34\"/>\n      </g>\n     </g>\n    </g>\n    <g id=\"xtick_7\">\n     <g id=\"line2d_13\">\n      <path d=\"M 267.313932 145.8 \nL 267.313932 7.2 \n\" clip-path=\"url(#pd2384fd52c)\" style=\"fill: none; stroke: #b0b0b0; stroke-width: 0.8; stroke-linecap: square\"/>\n     </g>\n     <g id=\"line2d_14\">\n      <g>\n       <use xlink:href=\"#m0a3584c140\" x=\"267.313932\" y=\"145.8\" style=\"stroke: #000000; stroke-width: 0.8\"/>\n      </g>\n     </g>\n     <g id=\"text_7\">\n      <!-- 6 -->\n      <g transform=\"translate(264.132682 160.398438) scale(0.1 -0.1)\">\n       <use xlink:href=\"#DejaVuSans-36\"/>\n      </g>\n     </g>\n    </g>\n    <g id=\"text_8\">\n     <!-- x -->\n     <g transform=\"translate(166.371875 174.076563) scale(0.1 -0.1)\">\n      <defs>\n       <path id=\"DejaVuSans-78\" d=\"M 3513 3500 \nL 2247 1797 \nL 3578 0 \nL 2900 0 \nL 1881 1375 \nL 863 0 \nL 184 0 \nL 1544 1831 \nL 300 3500 \nL 978 3500 \nL 1906 2253 \nL 2834 3500 \nL 3513 3500 \nz\n\" transform=\"scale(0.015625)\"/>\n      </defs>\n      <use xlink:href=\"#DejaVuSans-78\"/>\n     </g>\n    </g>\n   </g>\n   <g id=\"matplotlib.axis_2\">\n    <g id=\"ytick_1\">\n     <g id=\"line2d_15\">\n      <path d=\"M 43.78125 139.5 \nL 294.88125 139.5 \n\" clip-path=\"url(#pd2384fd52c)\" style=\"fill: none; stroke: #b0b0b0; stroke-width: 0.8; stroke-linecap: square\"/>\n     </g>\n     <g id=\"line2d_16\">\n      <defs>\n       <path id=\"m1a403dfa90\" d=\"M 0 0 \nL -3.5 0 \n\" style=\"stroke: #000000; stroke-width: 0.8\"/>\n      </defs>\n      <g>\n       <use xlink:href=\"#m1a403dfa90\" x=\"43.78125\" y=\"139.5\" style=\"stroke: #000000; stroke-width: 0.8\"/>\n      </g>\n     </g>\n     <g id=\"text_9\">\n      <!-- 0.0 -->\n      <g transform=\"translate(20.878125 143.299219) scale(0.1 -0.1)\">\n       <defs>\n        <path id=\"DejaVuSans-2e\" d=\"M 684 794 \nL 1344 794 \nL 1344 0 \nL 684 0 \nL 684 794 \nz\n\" transform=\"scale(0.015625)\"/>\n       </defs>\n       <use xlink:href=\"#DejaVuSans-30\"/>\n       <use xlink:href=\"#DejaVuSans-2e\" x=\"63.623047\"/>\n       <use xlink:href=\"#DejaVuSans-30\" x=\"95.410156\"/>\n      </g>\n     </g>\n    </g>\n    <g id=\"ytick_2\">\n     <g id=\"line2d_17\">\n      <path d=\"M 43.78125 107.916484 \nL 294.88125 107.916484 \n\" clip-path=\"url(#pd2384fd52c)\" style=\"fill: none; stroke: #b0b0b0; stroke-width: 0.8; stroke-linecap: square\"/>\n     </g>\n     <g id=\"line2d_18\">\n      <g>\n       <use xlink:href=\"#m1a403dfa90\" x=\"43.78125\" y=\"107.916484\" style=\"stroke: #000000; stroke-width: 0.8\"/>\n      </g>\n     </g>\n     <g id=\"text_10\">\n      <!-- 0.1 -->\n      <g transform=\"translate(20.878125 111.715702) scale(0.1 -0.1)\">\n       <defs>\n        <path id=\"DejaVuSans-31\" d=\"M 794 531 \nL 1825 531 \nL 1825 4091 \nL 703 3866 \nL 703 4441 \nL 1819 4666 \nL 2450 4666 \nL 2450 531 \nL 3481 531 \nL 3481 0 \nL 794 0 \nL 794 531 \nz\n\" transform=\"scale(0.015625)\"/>\n       </defs>\n       <use xlink:href=\"#DejaVuSans-30\"/>\n       <use xlink:href=\"#DejaVuSans-2e\" x=\"63.623047\"/>\n       <use xlink:href=\"#DejaVuSans-31\" x=\"95.410156\"/>\n      </g>\n     </g>\n    </g>\n    <g id=\"ytick_3\">\n     <g id=\"line2d_19\">\n      <path d=\"M 43.78125 76.332967 \nL 294.88125 76.332967 \n\" clip-path=\"url(#pd2384fd52c)\" style=\"fill: none; stroke: #b0b0b0; stroke-width: 0.8; stroke-linecap: square\"/>\n     </g>\n     <g id=\"line2d_20\">\n      <g>\n       <use xlink:href=\"#m1a403dfa90\" x=\"43.78125\" y=\"76.332967\" style=\"stroke: #000000; stroke-width: 0.8\"/>\n      </g>\n     </g>\n     <g id=\"text_11\">\n      <!-- 0.2 -->\n      <g transform=\"translate(20.878125 80.132186) scale(0.1 -0.1)\">\n       <use xlink:href=\"#DejaVuSans-30\"/>\n       <use xlink:href=\"#DejaVuSans-2e\" x=\"63.623047\"/>\n       <use xlink:href=\"#DejaVuSans-32\" x=\"95.410156\"/>\n      </g>\n     </g>\n    </g>\n    <g id=\"ytick_4\">\n     <g id=\"line2d_21\">\n      <path d=\"M 43.78125 44.749451 \nL 294.88125 44.749451 \n\" clip-path=\"url(#pd2384fd52c)\" style=\"fill: none; stroke: #b0b0b0; stroke-width: 0.8; stroke-linecap: square\"/>\n     </g>\n     <g id=\"line2d_22\">\n      <g>\n       <use xlink:href=\"#m1a403dfa90\" x=\"43.78125\" y=\"44.749451\" style=\"stroke: #000000; stroke-width: 0.8\"/>\n      </g>\n     </g>\n     <g id=\"text_12\">\n      <!-- 0.3 -->\n      <g transform=\"translate(20.878125 48.54867) scale(0.1 -0.1)\">\n       <defs>\n        <path id=\"DejaVuSans-33\" d=\"M 2597 2516 \nQ 3050 2419 3304 2112 \nQ 3559 1806 3559 1356 \nQ 3559 666 3084 287 \nQ 2609 -91 1734 -91 \nQ 1441 -91 1130 -33 \nQ 819 25 488 141 \nL 488 750 \nQ 750 597 1062 519 \nQ 1375 441 1716 441 \nQ 2309 441 2620 675 \nQ 2931 909 2931 1356 \nQ 2931 1769 2642 2001 \nQ 2353 2234 1838 2234 \nL 1294 2234 \nL 1294 2753 \nL 1863 2753 \nQ 2328 2753 2575 2939 \nQ 2822 3125 2822 3475 \nQ 2822 3834 2567 4026 \nQ 2313 4219 1838 4219 \nQ 1578 4219 1281 4162 \nQ 984 4106 628 3988 \nL 628 4550 \nQ 988 4650 1302 4700 \nQ 1616 4750 1894 4750 \nQ 2613 4750 3031 4423 \nQ 3450 4097 3450 3541 \nQ 3450 3153 3228 2886 \nQ 3006 2619 2597 2516 \nz\n\" transform=\"scale(0.015625)\"/>\n       </defs>\n       <use xlink:href=\"#DejaVuSans-30\"/>\n       <use xlink:href=\"#DejaVuSans-2e\" x=\"63.623047\"/>\n       <use xlink:href=\"#DejaVuSans-33\" x=\"95.410156\"/>\n      </g>\n     </g>\n    </g>\n    <g id=\"ytick_5\">\n     <g id=\"line2d_23\">\n      <path d=\"M 43.78125 13.165935 \nL 294.88125 13.165935 \n\" clip-path=\"url(#pd2384fd52c)\" style=\"fill: none; stroke: #b0b0b0; stroke-width: 0.8; stroke-linecap: square\"/>\n     </g>\n     <g id=\"line2d_24\">\n      <g>\n       <use xlink:href=\"#m1a403dfa90\" x=\"43.78125\" y=\"13.165935\" style=\"stroke: #000000; stroke-width: 0.8\"/>\n      </g>\n     </g>\n     <g id=\"text_13\">\n      <!-- 0.4 -->\n      <g transform=\"translate(20.878125 16.965154) scale(0.1 -0.1)\">\n       <use xlink:href=\"#DejaVuSans-30\"/>\n       <use xlink:href=\"#DejaVuSans-2e\" x=\"63.623047\"/>\n       <use xlink:href=\"#DejaVuSans-34\" x=\"95.410156\"/>\n      </g>\n     </g>\n    </g>\n    <g id=\"text_14\">\n     <!-- p(x) -->\n     <g transform=\"translate(14.798438 86.535156) rotate(-90) scale(0.1 -0.1)\">\n      <defs>\n       <path id=\"DejaVuSans-70\" d=\"M 1159 525 \nL 1159 -1331 \nL 581 -1331 \nL 581 3500 \nL 1159 3500 \nL 1159 2969 \nQ 1341 3281 1617 3432 \nQ 1894 3584 2278 3584 \nQ 2916 3584 3314 3078 \nQ 3713 2572 3713 1747 \nQ 3713 922 3314 415 \nQ 2916 -91 2278 -91 \nQ 1894 -91 1617 61 \nQ 1341 213 1159 525 \nz\nM 3116 1747 \nQ 3116 2381 2855 2742 \nQ 2594 3103 2138 3103 \nQ 1681 3103 1420 2742 \nQ 1159 2381 1159 1747 \nQ 1159 1113 1420 752 \nQ 1681 391 2138 391 \nQ 2594 391 2855 752 \nQ 3116 1113 3116 1747 \nz\n\" transform=\"scale(0.015625)\"/>\n       <path id=\"DejaVuSans-28\" d=\"M 1984 4856 \nQ 1566 4138 1362 3434 \nQ 1159 2731 1159 2009 \nQ 1159 1288 1364 580 \nQ 1569 -128 1984 -844 \nL 1484 -844 \nQ 1016 -109 783 600 \nQ 550 1309 550 2009 \nQ 550 2706 781 3412 \nQ 1013 4119 1484 4856 \nL 1984 4856 \nz\n\" transform=\"scale(0.015625)\"/>\n       <path id=\"DejaVuSans-29\" d=\"M 513 4856 \nL 1013 4856 \nQ 1481 4119 1714 3412 \nQ 1947 2706 1947 2009 \nQ 1947 1309 1714 600 \nQ 1481 -109 1013 -844 \nL 513 -844 \nQ 928 -128 1133 580 \nQ 1338 1288 1338 2009 \nQ 1338 2731 1133 3434 \nQ 928 4138 513 4856 \nz\n\" transform=\"scale(0.015625)\"/>\n      </defs>\n      <use xlink:href=\"#DejaVuSans-70\"/>\n      <use xlink:href=\"#DejaVuSans-28\" x=\"63.476562\"/>\n      <use xlink:href=\"#DejaVuSans-78\" x=\"102.490234\"/>\n      <use xlink:href=\"#DejaVuSans-29\" x=\"161.669922\"/>\n     </g>\n    </g>\n   </g>\n   <g id=\"line2d_25\">\n    <path d=\"M 55.194886 139.5 \nL 108.061479 139.392742 \nL 113.44604 139.148719 \nL 117.035747 138.770771 \nL 119.809611 138.25954 \nL 122.09397 137.619981 \nL 124.051992 136.856558 \nL 125.846846 135.932618 \nL 127.478531 134.864093 \nL 129.110215 133.53546 \nL 130.7419 131.902404 \nL 132.373585 129.918522 \nL 133.842102 127.79423 \nL 135.473787 125.01546 \nL 137.105472 121.755388 \nL 138.737157 117.977866 \nL 140.368842 113.655911 \nL 142.163695 108.255858 \nL 144.121717 101.596938 \nL 146.242908 93.525729 \nL 148.690435 83.248545 \nL 151.790637 69.178196 \nL 157.827871 41.57206 \nL 159.949061 33.006718 \nL 161.743915 26.675681 \nL 163.212431 22.276554 \nL 164.517779 19.044317 \nL 165.659959 16.789011 \nL 166.63897 15.307609 \nL 167.454812 14.403942 \nL 168.270655 13.808322 \nL 168.923329 13.556687 \nL 169.576003 13.5063 \nL 170.228677 13.657402 \nL 170.881351 14.009268 \nL 171.697193 14.728769 \nL 172.513036 15.753897 \nL 173.492047 17.376612 \nL 174.634226 19.788832 \nL 175.776406 22.726997 \nL 177.081754 26.675681 \nL 178.713439 32.392617 \nL 180.671461 40.191426 \nL 183.118988 50.957567 \nL 192.256424 92.210802 \nL 194.540783 101.006788 \nL 196.498805 107.731288 \nL 198.456827 113.655911 \nL 200.25168 118.379758 \nL 201.883365 122.104146 \nL 203.51505 125.314336 \nL 205.146735 128.047227 \nL 206.77842 130.345625 \nL 208.410105 132.255577 \nL 210.04179 133.824084 \nL 211.673475 135.097239 \nL 213.468328 136.208702 \nL 215.42635 137.136646 \nL 217.547541 137.875773 \nL 219.8319 138.435791 \nL 222.605764 138.879679 \nL 226.032303 139.193999 \nL 230.927358 139.396705 \nL 239.412119 139.487295 \nL 277.104042 139.5 \nL 283.467614 139.5 \nL 283.467614 139.5 \n\" clip-path=\"url(#pd2384fd52c)\" style=\"fill: none; stroke: #1f77b4; stroke-width: 1.5; stroke-linecap: square\"/>\n   </g>\n   <g id=\"line2d_26\">\n    <path d=\"M 55.194886 139.362188 \nL 65.63767 139.098708 \nL 72.980253 138.699787 \nL 78.69115 138.178279 \nL 83.586205 137.516853 \nL 87.991754 136.697191 \nL 91.907798 135.745999 \nL 95.497505 134.654637 \nL 98.924044 133.387507 \nL 102.187413 131.951607 \nL 105.450783 130.271147 \nL 108.714153 128.328848 \nL 111.977523 126.112322 \nL 115.240893 123.615644 \nL 118.504263 120.840886 \nL 121.930802 117.640793 \nL 125.683677 113.829699 \nL 130.089226 109.01843 \nL 136.126461 102.052696 \nL 144.448054 92.482389 \nL 148.364098 88.331596 \nL 151.627468 85.194678 \nL 154.401333 82.824913 \nL 157.012028 80.888277 \nL 159.296387 79.455574 \nL 161.580746 78.288522 \nL 163.701937 77.457339 \nL 165.659959 76.915213 \nL 167.617981 76.595215 \nL 169.576003 76.500787 \nL 171.534025 76.632947 \nL 173.492047 76.99027 \nL 175.450069 77.568916 \nL 177.571259 78.438306 \nL 179.69245 79.54932 \nL 181.976809 81.000265 \nL 184.424336 82.824913 \nL 187.035032 85.047175 \nL 189.972065 87.839952 \nL 193.398603 91.412502 \nL 197.804153 96.3499 \nL 212.978823 113.657453 \nL 216.894867 117.640793 \nL 220.484574 120.986092 \nL 223.911112 123.877929 \nL 227.174482 126.346542 \nL 230.437852 128.535259 \nL 233.701222 130.450724 \nL 236.964592 132.105883 \nL 240.227962 133.51842 \nL 243.6545 134.763387 \nL 247.244207 135.834289 \nL 251.160251 136.766392 \nL 255.402632 137.542786 \nL 260.134519 138.178279 \nL 265.682247 138.687887 \nL 272.372156 139.065638 \nL 281.020086 139.318239 \nL 283.467614 139.359757 \nL 283.467614 139.359757 \n\" clip-path=\"url(#pd2384fd52c)\" style=\"fill: none; stroke-dasharray: 5.55,2.4; stroke-dashoffset: 0; stroke: #bf00bf; stroke-width: 1.5\"/>\n   </g>\n   <g id=\"line2d_27\">\n    <path d=\"M 55.194886 139.5 \nL 157.012028 139.392742 \nL 162.396589 139.148719 \nL 165.986296 138.770771 \nL 168.76016 138.25954 \nL 171.044519 137.619981 \nL 173.002541 136.856558 \nL 174.797395 135.932618 \nL 176.42908 134.864093 \nL 178.060765 133.53546 \nL 179.69245 131.902404 \nL 181.324135 129.918522 \nL 182.792651 127.79423 \nL 184.424336 125.01546 \nL 186.056021 121.755388 \nL 187.687706 117.977866 \nL 189.319391 113.655911 \nL 191.114244 108.255858 \nL 193.072266 101.596938 \nL 195.193457 93.525729 \nL 197.640984 83.248545 \nL 200.741186 69.178196 \nL 206.77842 41.57206 \nL 208.899611 33.006718 \nL 210.694464 26.675681 \nL 212.16298 22.276554 \nL 213.468328 19.044317 \nL 214.610508 16.789011 \nL 215.589519 15.307609 \nL 216.405361 14.403942 \nL 217.221204 13.808322 \nL 217.873878 13.556687 \nL 218.526552 13.5063 \nL 219.179226 13.657402 \nL 219.8319 14.009268 \nL 220.647742 14.728769 \nL 221.463585 15.753897 \nL 222.442596 17.376612 \nL 223.584775 19.788832 \nL 224.726955 22.726997 \nL 226.032303 26.675681 \nL 227.663988 32.392617 \nL 229.62201 40.191426 \nL 232.069537 50.957567 \nL 241.206973 92.210802 \nL 243.491332 101.006788 \nL 245.449354 107.731288 \nL 247.407376 113.655911 \nL 249.202229 118.379758 \nL 250.833914 122.104146 \nL 252.465599 125.314336 \nL 254.097284 128.047227 \nL 255.728969 130.345625 \nL 257.360654 132.255577 \nL 258.992339 133.824084 \nL 260.624024 135.097239 \nL 262.418878 136.208702 \nL 264.376899 137.136646 \nL 266.49809 137.875773 \nL 268.782449 138.435791 \nL 271.556313 138.879679 \nL 274.982852 139.193999 \nL 279.877907 139.396705 \nL 283.467614 139.456009 \nL 283.467614 139.456009 \n\" clip-path=\"url(#pd2384fd52c)\" style=\"fill: none; stroke-dasharray: 9.6,2.4,1.5,2.4; stroke-dashoffset: 0; stroke: #008000; stroke-width: 1.5\"/>\n   </g>\n   <g id=\"patch_3\">\n    <path d=\"M 43.78125 145.8 \nL 43.78125 7.2 \n\" style=\"fill: none; stroke: #000000; stroke-width: 0.8; stroke-linejoin: miter; stroke-linecap: square\"/>\n   </g>\n   <g id=\"patch_4\">\n    <path d=\"M 294.88125 145.8 \nL 294.88125 7.2 \n\" style=\"fill: none; stroke: #000000; stroke-width: 0.8; stroke-linejoin: miter; stroke-linecap: square\"/>\n   </g>\n   <g id=\"patch_5\">\n    <path d=\"M 43.78125 145.8 \nL 294.88125 145.8 \n\" style=\"fill: none; stroke: #000000; stroke-width: 0.8; stroke-linejoin: miter; stroke-linecap: square\"/>\n   </g>\n   <g id=\"patch_6\">\n    <path d=\"M 43.78125 7.2 \nL 294.88125 7.2 \n\" style=\"fill: none; stroke: #000000; stroke-width: 0.8; stroke-linejoin: miter; stroke-linecap: square\"/>\n   </g>\n   <g id=\"legend_1\">\n    <g id=\"patch_7\">\n     <path d=\"M 50.78125 59.234375 \nL 152.05625 59.234375 \nQ 154.05625 59.234375 154.05625 57.234375 \nL 154.05625 14.2 \nQ 154.05625 12.2 152.05625 12.2 \nL 50.78125 12.2 \nQ 48.78125 12.2 48.78125 14.2 \nL 48.78125 57.234375 \nQ 48.78125 59.234375 50.78125 59.234375 \nz\n\" style=\"fill: #ffffff; opacity: 0.8; stroke: #cccccc; stroke-linejoin: miter\"/>\n    </g>\n    <g id=\"line2d_28\">\n     <path d=\"M 52.78125 20.298438 \nL 62.78125 20.298438 \nL 72.78125 20.298438 \n\" style=\"fill: none; stroke: #1f77b4; stroke-width: 1.5; stroke-linecap: square\"/>\n    </g>\n    <g id=\"text_15\">\n     <!-- mean 0, std 1 -->\n     <g transform=\"translate(80.78125 23.798438) scale(0.1 -0.1)\">\n      <defs>\n       <path id=\"DejaVuSans-6d\" d=\"M 3328 2828 \nQ 3544 3216 3844 3400 \nQ 4144 3584 4550 3584 \nQ 5097 3584 5394 3201 \nQ 5691 2819 5691 2113 \nL 5691 0 \nL 5113 0 \nL 5113 2094 \nQ 5113 2597 4934 2840 \nQ 4756 3084 4391 3084 \nQ 3944 3084 3684 2787 \nQ 3425 2491 3425 1978 \nL 3425 0 \nL 2847 0 \nL 2847 2094 \nQ 2847 2600 2669 2842 \nQ 2491 3084 2119 3084 \nQ 1678 3084 1418 2786 \nQ 1159 2488 1159 1978 \nL 1159 0 \nL 581 0 \nL 581 3500 \nL 1159 3500 \nL 1159 2956 \nQ 1356 3278 1631 3431 \nQ 1906 3584 2284 3584 \nQ 2666 3584 2933 3390 \nQ 3200 3197 3328 2828 \nz\n\" transform=\"scale(0.015625)\"/>\n       <path id=\"DejaVuSans-65\" d=\"M 3597 1894 \nL 3597 1613 \nL 953 1613 \nQ 991 1019 1311 708 \nQ 1631 397 2203 397 \nQ 2534 397 2845 478 \nQ 3156 559 3463 722 \nL 3463 178 \nQ 3153 47 2828 -22 \nQ 2503 -91 2169 -91 \nQ 1331 -91 842 396 \nQ 353 884 353 1716 \nQ 353 2575 817 3079 \nQ 1281 3584 2069 3584 \nQ 2775 3584 3186 3129 \nQ 3597 2675 3597 1894 \nz\nM 3022 2063 \nQ 3016 2534 2758 2815 \nQ 2500 3097 2075 3097 \nQ 1594 3097 1305 2825 \nQ 1016 2553 972 2059 \nL 3022 2063 \nz\n\" transform=\"scale(0.015625)\"/>\n       <path id=\"DejaVuSans-61\" d=\"M 2194 1759 \nQ 1497 1759 1228 1600 \nQ 959 1441 959 1056 \nQ 959 750 1161 570 \nQ 1363 391 1709 391 \nQ 2188 391 2477 730 \nQ 2766 1069 2766 1631 \nL 2766 1759 \nL 2194 1759 \nz\nM 3341 1997 \nL 3341 0 \nL 2766 0 \nL 2766 531 \nQ 2569 213 2275 61 \nQ 1981 -91 1556 -91 \nQ 1019 -91 701 211 \nQ 384 513 384 1019 \nQ 384 1609 779 1909 \nQ 1175 2209 1959 2209 \nL 2766 2209 \nL 2766 2266 \nQ 2766 2663 2505 2880 \nQ 2244 3097 1772 3097 \nQ 1472 3097 1187 3025 \nQ 903 2953 641 2809 \nL 641 3341 \nQ 956 3463 1253 3523 \nQ 1550 3584 1831 3584 \nQ 2591 3584 2966 3190 \nQ 3341 2797 3341 1997 \nz\n\" transform=\"scale(0.015625)\"/>\n       <path id=\"DejaVuSans-6e\" d=\"M 3513 2113 \nL 3513 0 \nL 2938 0 \nL 2938 2094 \nQ 2938 2591 2744 2837 \nQ 2550 3084 2163 3084 \nQ 1697 3084 1428 2787 \nQ 1159 2491 1159 1978 \nL 1159 0 \nL 581 0 \nL 581 3500 \nL 1159 3500 \nL 1159 2956 \nQ 1366 3272 1645 3428 \nQ 1925 3584 2291 3584 \nQ 2894 3584 3203 3211 \nQ 3513 2838 3513 2113 \nz\n\" transform=\"scale(0.015625)\"/>\n       <path id=\"DejaVuSans-20\" transform=\"scale(0.015625)\"/>\n       <path id=\"DejaVuSans-2c\" d=\"M 750 794 \nL 1409 794 \nL 1409 256 \nL 897 -744 \nL 494 -744 \nL 750 256 \nL 750 794 \nz\n\" transform=\"scale(0.015625)\"/>\n       <path id=\"DejaVuSans-73\" d=\"M 2834 3397 \nL 2834 2853 \nQ 2591 2978 2328 3040 \nQ 2066 3103 1784 3103 \nQ 1356 3103 1142 2972 \nQ 928 2841 928 2578 \nQ 928 2378 1081 2264 \nQ 1234 2150 1697 2047 \nL 1894 2003 \nQ 2506 1872 2764 1633 \nQ 3022 1394 3022 966 \nQ 3022 478 2636 193 \nQ 2250 -91 1575 -91 \nQ 1294 -91 989 -36 \nQ 684 19 347 128 \nL 347 722 \nQ 666 556 975 473 \nQ 1284 391 1588 391 \nQ 1994 391 2212 530 \nQ 2431 669 2431 922 \nQ 2431 1156 2273 1281 \nQ 2116 1406 1581 1522 \nL 1381 1569 \nQ 847 1681 609 1914 \nQ 372 2147 372 2553 \nQ 372 3047 722 3315 \nQ 1072 3584 1716 3584 \nQ 2034 3584 2315 3537 \nQ 2597 3491 2834 3397 \nz\n\" transform=\"scale(0.015625)\"/>\n       <path id=\"DejaVuSans-74\" d=\"M 1172 4494 \nL 1172 3500 \nL 2356 3500 \nL 2356 3053 \nL 1172 3053 \nL 1172 1153 \nQ 1172 725 1289 603 \nQ 1406 481 1766 481 \nL 2356 481 \nL 2356 0 \nL 1766 0 \nQ 1100 0 847 248 \nQ 594 497 594 1153 \nL 594 3053 \nL 172 3053 \nL 172 3500 \nL 594 3500 \nL 594 4494 \nL 1172 4494 \nz\n\" transform=\"scale(0.015625)\"/>\n       <path id=\"DejaVuSans-64\" d=\"M 2906 2969 \nL 2906 4863 \nL 3481 4863 \nL 3481 0 \nL 2906 0 \nL 2906 525 \nQ 2725 213 2448 61 \nQ 2172 -91 1784 -91 \nQ 1150 -91 751 415 \nQ 353 922 353 1747 \nQ 353 2572 751 3078 \nQ 1150 3584 1784 3584 \nQ 2172 3584 2448 3432 \nQ 2725 3281 2906 2969 \nz\nM 947 1747 \nQ 947 1113 1208 752 \nQ 1469 391 1925 391 \nQ 2381 391 2643 752 \nQ 2906 1113 2906 1747 \nQ 2906 2381 2643 2742 \nQ 2381 3103 1925 3103 \nQ 1469 3103 1208 2742 \nQ 947 2381 947 1747 \nz\n\" transform=\"scale(0.015625)\"/>\n      </defs>\n      <use xlink:href=\"#DejaVuSans-6d\"/>\n      <use xlink:href=\"#DejaVuSans-65\" x=\"97.412109\"/>\n      <use xlink:href=\"#DejaVuSans-61\" x=\"158.935547\"/>\n      <use xlink:href=\"#DejaVuSans-6e\" x=\"220.214844\"/>\n      <use xlink:href=\"#DejaVuSans-20\" x=\"283.59375\"/>\n      <use xlink:href=\"#DejaVuSans-30\" x=\"315.380859\"/>\n      <use xlink:href=\"#DejaVuSans-2c\" x=\"379.003906\"/>\n      <use xlink:href=\"#DejaVuSans-20\" x=\"410.791016\"/>\n      <use xlink:href=\"#DejaVuSans-73\" x=\"442.578125\"/>\n      <use xlink:href=\"#DejaVuSans-74\" x=\"494.677734\"/>\n      <use xlink:href=\"#DejaVuSans-64\" x=\"533.886719\"/>\n      <use xlink:href=\"#DejaVuSans-20\" x=\"597.363281\"/>\n      <use xlink:href=\"#DejaVuSans-31\" x=\"629.150391\"/>\n     </g>\n    </g>\n    <g id=\"line2d_29\">\n     <path d=\"M 52.78125 34.976563 \nL 62.78125 34.976563 \nL 72.78125 34.976563 \n\" style=\"fill: none; stroke-dasharray: 5.55,2.4; stroke-dashoffset: 0; stroke: #bf00bf; stroke-width: 1.5\"/>\n    </g>\n    <g id=\"text_16\">\n     <!-- mean 0, std 2 -->\n     <g transform=\"translate(80.78125 38.476563) scale(0.1 -0.1)\">\n      <use xlink:href=\"#DejaVuSans-6d\"/>\n      <use xlink:href=\"#DejaVuSans-65\" x=\"97.412109\"/>\n      <use xlink:href=\"#DejaVuSans-61\" x=\"158.935547\"/>\n      <use xlink:href=\"#DejaVuSans-6e\" x=\"220.214844\"/>\n      <use xlink:href=\"#DejaVuSans-20\" x=\"283.59375\"/>\n      <use xlink:href=\"#DejaVuSans-30\" x=\"315.380859\"/>\n      <use xlink:href=\"#DejaVuSans-2c\" x=\"379.003906\"/>\n      <use xlink:href=\"#DejaVuSans-20\" x=\"410.791016\"/>\n      <use xlink:href=\"#DejaVuSans-73\" x=\"442.578125\"/>\n      <use xlink:href=\"#DejaVuSans-74\" x=\"494.677734\"/>\n      <use xlink:href=\"#DejaVuSans-64\" x=\"533.886719\"/>\n      <use xlink:href=\"#DejaVuSans-20\" x=\"597.363281\"/>\n      <use xlink:href=\"#DejaVuSans-32\" x=\"629.150391\"/>\n     </g>\n    </g>\n    <g id=\"line2d_30\">\n     <path d=\"M 52.78125 49.654688 \nL 62.78125 49.654688 \nL 72.78125 49.654688 \n\" style=\"fill: none; stroke-dasharray: 9.6,2.4,1.5,2.4; stroke-dashoffset: 0; stroke: #008000; stroke-width: 1.5\"/>\n    </g>\n    <g id=\"text_17\">\n     <!-- mean 3, std 1 -->\n     <g transform=\"translate(80.78125 53.154688) scale(0.1 -0.1)\">\n      <use xlink:href=\"#DejaVuSans-6d\"/>\n      <use xlink:href=\"#DejaVuSans-65\" x=\"97.412109\"/>\n      <use xlink:href=\"#DejaVuSans-61\" x=\"158.935547\"/>\n      <use xlink:href=\"#DejaVuSans-6e\" x=\"220.214844\"/>\n      <use xlink:href=\"#DejaVuSans-20\" x=\"283.59375\"/>\n      <use xlink:href=\"#DejaVuSans-33\" x=\"315.380859\"/>\n      <use xlink:href=\"#DejaVuSans-2c\" x=\"379.003906\"/>\n      <use xlink:href=\"#DejaVuSans-20\" x=\"410.791016\"/>\n      <use xlink:href=\"#DejaVuSans-73\" x=\"442.578125\"/>\n      <use xlink:href=\"#DejaVuSans-74\" x=\"494.677734\"/>\n      <use xlink:href=\"#DejaVuSans-64\" x=\"533.886719\"/>\n      <use xlink:href=\"#DejaVuSans-20\" x=\"597.363281\"/>\n      <use xlink:href=\"#DejaVuSans-31\" x=\"629.150391\"/>\n     </g>\n    </g>\n   </g>\n  </g>\n </g>\n <defs>\n  <clipPath id=\"pd2384fd52c\">\n   <rect x=\"43.78125\" y=\"7.2\" width=\"251.1\" height=\"138.6\"/>\n  </clipPath>\n </defs>\n</svg>\n"
     },
     "metadata": {},
     "output_type": "display_data"
    }
   ],
   "execution_count": 9
  },
  {
   "metadata": {},
   "cell_type": "markdown",
   "source": [
    "## 线性回归的从零开始实现\n",
    "\n",
    "在了解线性回归的关键思想之后，我们可以开始通过代码来动手实现线性回归了。在这一节中，我们将从零开始实现整个方法，包括数据流水线、模型、损失函数和小批量随机梯度下降优化器。虽然现代的深度学习框架几乎可以自动化地进行所有这些工作，但从零开始实现可以确保我们真正知道自己在做什么。同时，了解更细致的工作原理将方便我们自定义模型、自定义层或自定义损失函数。"
   ],
   "id": "1606aa1ab9887d91"
  },
  {
   "metadata": {
    "ExecuteTime": {
     "end_time": "2025-02-22T06:25:47.813637Z",
     "start_time": "2025-02-22T06:25:47.811498Z"
    }
   },
   "cell_type": "code",
   "source": [
    "%matplotlib inline\n",
    "import random\n",
    "import torch\n",
    "import d2l"
   ],
   "id": "603f0e2f22b07f86",
   "outputs": [],
   "execution_count": 3
  },
  {
   "metadata": {
    "ExecuteTime": {
     "end_time": "2025-02-22T06:25:50.473433Z",
     "start_time": "2025-02-22T06:25:50.470793Z"
    }
   },
   "cell_type": "code",
   "source": [
    "def synthetic_data(w, b, num_examples): #@save\n",
    "    \"\"\"生成y=Xw+b+噪声\"\"\"\n",
    "    X = torch.normal(0, 1, [num_examples, len(w)])\n",
    "    y = torch.matmul(X, w) + b\n",
    "    y += torch.normal(0, 0.01, y.shape)\n",
    "    return X, y.reshape((-1, 1))"
   ],
   "id": "2203667a32b54b75",
   "outputs": [],
   "execution_count": 4
  },
  {
   "metadata": {
    "ExecuteTime": {
     "end_time": "2025-02-22T06:25:51.000870Z",
     "start_time": "2025-02-22T06:25:50.998125Z"
    }
   },
   "cell_type": "code",
   "source": [
    "true_w = torch.tensor([2, -3.4])\n",
    "true_b = 4.2\n",
    "features, labels = synthetic_data(true_w, true_b, 1000)"
   ],
   "id": "39406505354f293e",
   "outputs": [],
   "execution_count": 5
  },
  {
   "metadata": {
    "ExecuteTime": {
     "end_time": "2025-02-22T06:25:51.460443Z",
     "start_time": "2025-02-22T06:25:51.404302Z"
    }
   },
   "cell_type": "code",
   "source": [
    "d2l.set_figsize()\n",
    "d2l.plt.scatter(features[:, (1)].detach().numpy(), labels.detach().numpy(), 1);"
   ],
   "id": "c5c504dd55062b9f",
   "outputs": [
    {
     "data": {
      "text/plain": [
       "<Figure size 350x250 with 1 Axes>"
      ],
      "image/svg+xml": "<?xml version=\"1.0\" encoding=\"utf-8\" standalone=\"no\"?>\n<!DOCTYPE svg PUBLIC \"-//W3C//DTD SVG 1.1//EN\"\n  \"http://www.w3.org/Graphics/SVG/1.1/DTD/svg11.dtd\">\n<svg xmlns:xlink=\"http://www.w3.org/1999/xlink\" width=\"229.425pt\" height=\"169.678125pt\" viewBox=\"0 0 229.425 169.678125\" xmlns=\"http://www.w3.org/2000/svg\" version=\"1.1\">\n <metadata>\n  <rdf:RDF xmlns:dc=\"http://purl.org/dc/elements/1.1/\" xmlns:cc=\"http://creativecommons.org/ns#\" xmlns:rdf=\"http://www.w3.org/1999/02/22-rdf-syntax-ns#\">\n   <cc:Work>\n    <dc:type rdf:resource=\"http://purl.org/dc/dcmitype/StillImage\"/>\n    <dc:date>2025-02-22T14:25:51.442083</dc:date>\n    <dc:format>image/svg+xml</dc:format>\n    <dc:creator>\n     <cc:Agent>\n      <dc:title>Matplotlib v3.7.2, https://matplotlib.org/</dc:title>\n     </cc:Agent>\n    </dc:creator>\n   </cc:Work>\n  </rdf:RDF>\n </metadata>\n <defs>\n  <style type=\"text/css\">*{stroke-linejoin: round; stroke-linecap: butt}</style>\n </defs>\n <g id=\"figure_1\">\n  <g id=\"patch_1\">\n   <path d=\"M 0 169.678125 \nL 229.425 169.678125 \nL 229.425 0 \nL 0 0 \nz\n\" style=\"fill: #ffffff\"/>\n  </g>\n  <g id=\"axes_1\">\n   <g id=\"patch_2\">\n    <path d=\"M 26.925 145.8 \nL 222.225 145.8 \nL 222.225 7.2 \nL 26.925 7.2 \nz\n\" style=\"fill: #ffffff\"/>\n   </g>\n   <g id=\"PathCollection_1\">\n    <defs>\n     <path id=\"m72efd0573d\" d=\"M 0 0.5 \nC 0.132602 0.5 0.25979 0.447317 0.353553 0.353553 \nC 0.447317 0.25979 0.5 0.132602 0.5 0 \nC 0.5 -0.132602 0.447317 -0.25979 0.353553 -0.353553 \nC 0.25979 -0.447317 0.132602 -0.5 0 -0.5 \nC -0.132602 -0.5 -0.25979 -0.447317 -0.353553 -0.353553 \nC -0.447317 -0.25979 -0.5 -0.132602 -0.5 0 \nC -0.5 0.132602 -0.447317 0.25979 -0.353553 0.353553 \nC -0.25979 0.447317 -0.132602 0.5 0 0.5 \nz\n\" style=\"stroke: #1f77b4\"/>\n    </defs>\n    <g clip-path=\"url(#p19144ce6e9)\">\n     <use xlink:href=\"#m72efd0573d\" x=\"173.101778\" y=\"111.278663\" style=\"fill: #1f77b4; stroke: #1f77b4\"/>\n     <use xlink:href=\"#m72efd0573d\" x=\"128.510845\" y=\"78.908166\" style=\"fill: #1f77b4; stroke: #1f77b4\"/>\n     <use xlink:href=\"#m72efd0573d\" x=\"134.562745\" y=\"86.753732\" style=\"fill: #1f77b4; stroke: #1f77b4\"/>\n     <use xlink:href=\"#m72efd0573d\" x=\"87.545085\" y=\"45.327111\" style=\"fill: #1f77b4; stroke: #1f77b4\"/>\n     <use xlink:href=\"#m72efd0573d\" x=\"80.020004\" y=\"55.731646\" style=\"fill: #1f77b4; stroke: #1f77b4\"/>\n     <use xlink:href=\"#m72efd0573d\" x=\"156.951255\" y=\"99.228515\" style=\"fill: #1f77b4; stroke: #1f77b4\"/>\n     <use xlink:href=\"#m72efd0573d\" x=\"101.819941\" y=\"65.307981\" style=\"fill: #1f77b4; stroke: #1f77b4\"/>\n     <use xlink:href=\"#m72efd0573d\" x=\"125.463373\" y=\"82.860214\" style=\"fill: #1f77b4; stroke: #1f77b4\"/>\n     <use xlink:href=\"#m72efd0573d\" x=\"86.07149\" y=\"44.850722\" style=\"fill: #1f77b4; stroke: #1f77b4\"/>\n     <use xlink:href=\"#m72efd0573d\" x=\"122.416863\" y=\"75.728671\" style=\"fill: #1f77b4; stroke: #1f77b4\"/>\n     <use xlink:href=\"#m72efd0573d\" x=\"178.993084\" y=\"107.337834\" style=\"fill: #1f77b4; stroke: #1f77b4\"/>\n     <use xlink:href=\"#m72efd0573d\" x=\"124.056499\" y=\"64.464925\" style=\"fill: #1f77b4; stroke: #1f77b4\"/>\n     <use xlink:href=\"#m72efd0573d\" x=\"121.010037\" y=\"70.389988\" style=\"fill: #1f77b4; stroke: #1f77b4\"/>\n     <use xlink:href=\"#m72efd0573d\" x=\"181.926862\" y=\"106.311207\" style=\"fill: #1f77b4; stroke: #1f77b4\"/>\n     <use xlink:href=\"#m72efd0573d\" x=\"144.459553\" y=\"89.031739\" style=\"fill: #1f77b4; stroke: #1f77b4\"/>\n     <use xlink:href=\"#m72efd0573d\" x=\"117.525812\" y=\"77.548006\" style=\"fill: #1f77b4; stroke: #1f77b4\"/>\n     <use xlink:href=\"#m72efd0573d\" x=\"136.691051\" y=\"71.167624\" style=\"fill: #1f77b4; stroke: #1f77b4\"/>\n     <use xlink:href=\"#m72efd0573d\" x=\"160.607117\" y=\"115.002798\" style=\"fill: #1f77b4; stroke: #1f77b4\"/>\n     <use xlink:href=\"#m72efd0573d\" x=\"144.188942\" y=\"102.171021\" style=\"fill: #1f77b4; stroke: #1f77b4\"/>\n     <use xlink:href=\"#m72efd0573d\" x=\"163.31372\" y=\"100.259994\" style=\"fill: #1f77b4; stroke: #1f77b4\"/>\n     <use xlink:href=\"#m72efd0573d\" x=\"142.057377\" y=\"90.535786\" style=\"fill: #1f77b4; stroke: #1f77b4\"/>\n     <use xlink:href=\"#m72efd0573d\" x=\"105.642271\" y=\"70.4836\" style=\"fill: #1f77b4; stroke: #1f77b4\"/>\n     <use xlink:href=\"#m72efd0573d\" x=\"141.465709\" y=\"82.498368\" style=\"fill: #1f77b4; stroke: #1f77b4\"/>\n     <use xlink:href=\"#m72efd0573d\" x=\"195.075473\" y=\"131.730014\" style=\"fill: #1f77b4; stroke: #1f77b4\"/>\n     <use xlink:href=\"#m72efd0573d\" x=\"99.596908\" y=\"68.710136\" style=\"fill: #1f77b4; stroke: #1f77b4\"/>\n     <use xlink:href=\"#m72efd0573d\" x=\"147.81345\" y=\"103.504546\" style=\"fill: #1f77b4; stroke: #1f77b4\"/>\n     <use xlink:href=\"#m72efd0573d\" x=\"111.293735\" y=\"72.823843\" style=\"fill: #1f77b4; stroke: #1f77b4\"/>\n     <use xlink:href=\"#m72efd0573d\" x=\"149.883032\" y=\"92.442618\" style=\"fill: #1f77b4; stroke: #1f77b4\"/>\n     <use xlink:href=\"#m72efd0573d\" x=\"132.169148\" y=\"91.037711\" style=\"fill: #1f77b4; stroke: #1f77b4\"/>\n     <use xlink:href=\"#m72efd0573d\" x=\"189.701378\" y=\"123.131135\" style=\"fill: #1f77b4; stroke: #1f77b4\"/>\n     <use xlink:href=\"#m72efd0573d\" x=\"146.607676\" y=\"99.881437\" style=\"fill: #1f77b4; stroke: #1f77b4\"/>\n     <use xlink:href=\"#m72efd0573d\" x=\"142.665443\" y=\"80.560544\" style=\"fill: #1f77b4; stroke: #1f77b4\"/>\n     <use xlink:href=\"#m72efd0573d\" x=\"179.928583\" y=\"125.177381\" style=\"fill: #1f77b4; stroke: #1f77b4\"/>\n     <use xlink:href=\"#m72efd0573d\" x=\"84.810147\" y=\"59.546741\" style=\"fill: #1f77b4; stroke: #1f77b4\"/>\n     <use xlink:href=\"#m72efd0573d\" x=\"80.633423\" y=\"51.7291\" style=\"fill: #1f77b4; stroke: #1f77b4\"/>\n     <use xlink:href=\"#m72efd0573d\" x=\"85.241958\" y=\"67.536514\" style=\"fill: #1f77b4; stroke: #1f77b4\"/>\n     <use xlink:href=\"#m72efd0573d\" x=\"167.431511\" y=\"92.766793\" style=\"fill: #1f77b4; stroke: #1f77b4\"/>\n     <use xlink:href=\"#m72efd0573d\" x=\"112.7693\" y=\"74.726288\" style=\"fill: #1f77b4; stroke: #1f77b4\"/>\n     <use xlink:href=\"#m72efd0573d\" x=\"128.836199\" y=\"85.539792\" style=\"fill: #1f77b4; stroke: #1f77b4\"/>\n     <use xlink:href=\"#m72efd0573d\" x=\"153.453332\" y=\"90.606845\" style=\"fill: #1f77b4; stroke: #1f77b4\"/>\n     <use xlink:href=\"#m72efd0573d\" x=\"168.938508\" y=\"114.154352\" style=\"fill: #1f77b4; stroke: #1f77b4\"/>\n     <use xlink:href=\"#m72efd0573d\" x=\"149.160412\" y=\"102.389608\" style=\"fill: #1f77b4; stroke: #1f77b4\"/>\n     <use xlink:href=\"#m72efd0573d\" x=\"157.572283\" y=\"82.20106\" style=\"fill: #1f77b4; stroke: #1f77b4\"/>\n     <use xlink:href=\"#m72efd0573d\" x=\"126.848965\" y=\"90.257983\" style=\"fill: #1f77b4; stroke: #1f77b4\"/>\n     <use xlink:href=\"#m72efd0573d\" x=\"152.2563\" y=\"92.795456\" style=\"fill: #1f77b4; stroke: #1f77b4\"/>\n     <use xlink:href=\"#m72efd0573d\" x=\"190.261616\" y=\"125.407112\" style=\"fill: #1f77b4; stroke: #1f77b4\"/>\n     <use xlink:href=\"#m72efd0573d\" x=\"115.568119\" y=\"60.892094\" style=\"fill: #1f77b4; stroke: #1f77b4\"/>\n     <use xlink:href=\"#m72efd0573d\" x=\"127.735268\" y=\"80.493958\" style=\"fill: #1f77b4; stroke: #1f77b4\"/>\n     <use xlink:href=\"#m72efd0573d\" x=\"140.081427\" y=\"93.270262\" style=\"fill: #1f77b4; stroke: #1f77b4\"/>\n     <use xlink:href=\"#m72efd0573d\" x=\"137.440898\" y=\"86.296367\" style=\"fill: #1f77b4; stroke: #1f77b4\"/>\n     <use xlink:href=\"#m72efd0573d\" x=\"106.765462\" y=\"75.139731\" style=\"fill: #1f77b4; stroke: #1f77b4\"/>\n     <use xlink:href=\"#m72efd0573d\" x=\"82.609024\" y=\"78.550316\" style=\"fill: #1f77b4; stroke: #1f77b4\"/>\n     <use xlink:href=\"#m72efd0573d\" x=\"105.481596\" y=\"69.755409\" style=\"fill: #1f77b4; stroke: #1f77b4\"/>\n     <use xlink:href=\"#m72efd0573d\" x=\"132.845894\" y=\"75.140638\" style=\"fill: #1f77b4; stroke: #1f77b4\"/>\n     <use xlink:href=\"#m72efd0573d\" x=\"184.958376\" y=\"110.39731\" style=\"fill: #1f77b4; stroke: #1f77b4\"/>\n     <use xlink:href=\"#m72efd0573d\" x=\"103.857909\" y=\"60.020008\" style=\"fill: #1f77b4; stroke: #1f77b4\"/>\n     <use xlink:href=\"#m72efd0573d\" x=\"98.323666\" y=\"72.437168\" style=\"fill: #1f77b4; stroke: #1f77b4\"/>\n     <use xlink:href=\"#m72efd0573d\" x=\"142.767924\" y=\"88.412587\" style=\"fill: #1f77b4; stroke: #1f77b4\"/>\n     <use xlink:href=\"#m72efd0573d\" x=\"168.980659\" y=\"103.037415\" style=\"fill: #1f77b4; stroke: #1f77b4\"/>\n     <use xlink:href=\"#m72efd0573d\" x=\"98.325943\" y=\"57.025285\" style=\"fill: #1f77b4; stroke: #1f77b4\"/>\n     <use xlink:href=\"#m72efd0573d\" x=\"126.605116\" y=\"82.309211\" style=\"fill: #1f77b4; stroke: #1f77b4\"/>\n     <use xlink:href=\"#m72efd0573d\" x=\"184.627277\" y=\"104.07328\" style=\"fill: #1f77b4; stroke: #1f77b4\"/>\n     <use xlink:href=\"#m72efd0573d\" x=\"125.190627\" y=\"84.845315\" style=\"fill: #1f77b4; stroke: #1f77b4\"/>\n     <use xlink:href=\"#m72efd0573d\" x=\"161.635957\" y=\"98.168874\" style=\"fill: #1f77b4; stroke: #1f77b4\"/>\n     <use xlink:href=\"#m72efd0573d\" x=\"104.374636\" y=\"66.265566\" style=\"fill: #1f77b4; stroke: #1f77b4\"/>\n     <use xlink:href=\"#m72efd0573d\" x=\"126.20126\" y=\"66.893659\" style=\"fill: #1f77b4; stroke: #1f77b4\"/>\n     <use xlink:href=\"#m72efd0573d\" x=\"135.11472\" y=\"90.482415\" style=\"fill: #1f77b4; stroke: #1f77b4\"/>\n     <use xlink:href=\"#m72efd0573d\" x=\"134.494684\" y=\"81.656222\" style=\"fill: #1f77b4; stroke: #1f77b4\"/>\n     <use xlink:href=\"#m72efd0573d\" x=\"136.08581\" y=\"88.878731\" style=\"fill: #1f77b4; stroke: #1f77b4\"/>\n     <use xlink:href=\"#m72efd0573d\" x=\"115.442034\" y=\"74.437203\" style=\"fill: #1f77b4; stroke: #1f77b4\"/>\n     <use xlink:href=\"#m72efd0573d\" x=\"99.283244\" y=\"71.973718\" style=\"fill: #1f77b4; stroke: #1f77b4\"/>\n     <use xlink:href=\"#m72efd0573d\" x=\"123.61681\" y=\"69.562503\" style=\"fill: #1f77b4; stroke: #1f77b4\"/>\n     <use xlink:href=\"#m72efd0573d\" x=\"113.174581\" y=\"91.992874\" style=\"fill: #1f77b4; stroke: #1f77b4\"/>\n     <use xlink:href=\"#m72efd0573d\" x=\"143.183312\" y=\"102.619883\" style=\"fill: #1f77b4; stroke: #1f77b4\"/>\n     <use xlink:href=\"#m72efd0573d\" x=\"134.275982\" y=\"72.164286\" style=\"fill: #1f77b4; stroke: #1f77b4\"/>\n     <use xlink:href=\"#m72efd0573d\" x=\"126.84671\" y=\"82.928922\" style=\"fill: #1f77b4; stroke: #1f77b4\"/>\n     <use xlink:href=\"#m72efd0573d\" x=\"178.553639\" y=\"129.570495\" style=\"fill: #1f77b4; stroke: #1f77b4\"/>\n     <use xlink:href=\"#m72efd0573d\" x=\"132.880505\" y=\"90.516148\" style=\"fill: #1f77b4; stroke: #1f77b4\"/>\n     <use xlink:href=\"#m72efd0573d\" x=\"118.23648\" y=\"71.009725\" style=\"fill: #1f77b4; stroke: #1f77b4\"/>\n     <use xlink:href=\"#m72efd0573d\" x=\"106.427093\" y=\"75.692866\" style=\"fill: #1f77b4; stroke: #1f77b4\"/>\n     <use xlink:href=\"#m72efd0573d\" x=\"131.018052\" y=\"83.23479\" style=\"fill: #1f77b4; stroke: #1f77b4\"/>\n     <use xlink:href=\"#m72efd0573d\" x=\"91.049602\" y=\"65.98674\" style=\"fill: #1f77b4; stroke: #1f77b4\"/>\n     <use xlink:href=\"#m72efd0573d\" x=\"152.678357\" y=\"116.091037\" style=\"fill: #1f77b4; stroke: #1f77b4\"/>\n     <use xlink:href=\"#m72efd0573d\" x=\"133.73444\" y=\"70.057627\" style=\"fill: #1f77b4; stroke: #1f77b4\"/>\n     <use xlink:href=\"#m72efd0573d\" x=\"187.401914\" y=\"103.709325\" style=\"fill: #1f77b4; stroke: #1f77b4\"/>\n     <use xlink:href=\"#m72efd0573d\" x=\"148.291309\" y=\"118.269456\" style=\"fill: #1f77b4; stroke: #1f77b4\"/>\n     <use xlink:href=\"#m72efd0573d\" x=\"199.750849\" y=\"120.048093\" style=\"fill: #1f77b4; stroke: #1f77b4\"/>\n     <use xlink:href=\"#m72efd0573d\" x=\"141.517309\" y=\"91.976388\" style=\"fill: #1f77b4; stroke: #1f77b4\"/>\n     <use xlink:href=\"#m72efd0573d\" x=\"115.747398\" y=\"81.56935\" style=\"fill: #1f77b4; stroke: #1f77b4\"/>\n     <use xlink:href=\"#m72efd0573d\" x=\"148.250991\" y=\"82.237832\" style=\"fill: #1f77b4; stroke: #1f77b4\"/>\n     <use xlink:href=\"#m72efd0573d\" x=\"109.744004\" y=\"63.774435\" style=\"fill: #1f77b4; stroke: #1f77b4\"/>\n     <use xlink:href=\"#m72efd0573d\" x=\"132.144751\" y=\"75.887157\" style=\"fill: #1f77b4; stroke: #1f77b4\"/>\n     <use xlink:href=\"#m72efd0573d\" x=\"83.199298\" y=\"60.686356\" style=\"fill: #1f77b4; stroke: #1f77b4\"/>\n     <use xlink:href=\"#m72efd0573d\" x=\"115.298633\" y=\"78.090396\" style=\"fill: #1f77b4; stroke: #1f77b4\"/>\n     <use xlink:href=\"#m72efd0573d\" x=\"89.327713\" y=\"71.574652\" style=\"fill: #1f77b4; stroke: #1f77b4\"/>\n     <use xlink:href=\"#m72efd0573d\" x=\"93.233771\" y=\"63.691994\" style=\"fill: #1f77b4; stroke: #1f77b4\"/>\n     <use xlink:href=\"#m72efd0573d\" x=\"140.798393\" y=\"92.059302\" style=\"fill: #1f77b4; stroke: #1f77b4\"/>\n     <use xlink:href=\"#m72efd0573d\" x=\"133.589525\" y=\"95.988902\" style=\"fill: #1f77b4; stroke: #1f77b4\"/>\n     <use xlink:href=\"#m72efd0573d\" x=\"150.814958\" y=\"98.753841\" style=\"fill: #1f77b4; stroke: #1f77b4\"/>\n     <use xlink:href=\"#m72efd0573d\" x=\"91.94309\" y=\"86.064499\" style=\"fill: #1f77b4; stroke: #1f77b4\"/>\n     <use xlink:href=\"#m72efd0573d\" x=\"163.440935\" y=\"102.033086\" style=\"fill: #1f77b4; stroke: #1f77b4\"/>\n     <use xlink:href=\"#m72efd0573d\" x=\"125.614753\" y=\"83.499649\" style=\"fill: #1f77b4; stroke: #1f77b4\"/>\n     <use xlink:href=\"#m72efd0573d\" x=\"129.019159\" y=\"74.131968\" style=\"fill: #1f77b4; stroke: #1f77b4\"/>\n     <use xlink:href=\"#m72efd0573d\" x=\"125.811519\" y=\"75.723434\" style=\"fill: #1f77b4; stroke: #1f77b4\"/>\n     <use xlink:href=\"#m72efd0573d\" x=\"78.436976\" y=\"62.393589\" style=\"fill: #1f77b4; stroke: #1f77b4\"/>\n     <use xlink:href=\"#m72efd0573d\" x=\"117.957445\" y=\"72.46959\" style=\"fill: #1f77b4; stroke: #1f77b4\"/>\n     <use xlink:href=\"#m72efd0573d\" x=\"115.533423\" y=\"76.890508\" style=\"fill: #1f77b4; stroke: #1f77b4\"/>\n     <use xlink:href=\"#m72efd0573d\" x=\"149.544524\" y=\"94.029533\" style=\"fill: #1f77b4; stroke: #1f77b4\"/>\n     <use xlink:href=\"#m72efd0573d\" x=\"139.833334\" y=\"91.721644\" style=\"fill: #1f77b4; stroke: #1f77b4\"/>\n     <use xlink:href=\"#m72efd0573d\" x=\"98.360211\" y=\"53.471805\" style=\"fill: #1f77b4; stroke: #1f77b4\"/>\n     <use xlink:href=\"#m72efd0573d\" x=\"108.329991\" y=\"81.341071\" style=\"fill: #1f77b4; stroke: #1f77b4\"/>\n     <use xlink:href=\"#m72efd0573d\" x=\"120.201604\" y=\"75.508397\" style=\"fill: #1f77b4; stroke: #1f77b4\"/>\n     <use xlink:href=\"#m72efd0573d\" x=\"151.399351\" y=\"84.820222\" style=\"fill: #1f77b4; stroke: #1f77b4\"/>\n     <use xlink:href=\"#m72efd0573d\" x=\"166.420329\" y=\"91.552378\" style=\"fill: #1f77b4; stroke: #1f77b4\"/>\n     <use xlink:href=\"#m72efd0573d\" x=\"135.141328\" y=\"78.560065\" style=\"fill: #1f77b4; stroke: #1f77b4\"/>\n     <use xlink:href=\"#m72efd0573d\" x=\"121.919895\" y=\"82.124704\" style=\"fill: #1f77b4; stroke: #1f77b4\"/>\n     <use xlink:href=\"#m72efd0573d\" x=\"135.880801\" y=\"82.015823\" style=\"fill: #1f77b4; stroke: #1f77b4\"/>\n     <use xlink:href=\"#m72efd0573d\" x=\"130.919609\" y=\"96.824495\" style=\"fill: #1f77b4; stroke: #1f77b4\"/>\n     <use xlink:href=\"#m72efd0573d\" x=\"67.357551\" y=\"52.076827\" style=\"fill: #1f77b4; stroke: #1f77b4\"/>\n     <use xlink:href=\"#m72efd0573d\" x=\"103.901154\" y=\"80.43989\" style=\"fill: #1f77b4; stroke: #1f77b4\"/>\n     <use xlink:href=\"#m72efd0573d\" x=\"121.153628\" y=\"70.353712\" style=\"fill: #1f77b4; stroke: #1f77b4\"/>\n     <use xlink:href=\"#m72efd0573d\" x=\"142.406839\" y=\"102.257708\" style=\"fill: #1f77b4; stroke: #1f77b4\"/>\n     <use xlink:href=\"#m72efd0573d\" x=\"126.464661\" y=\"92.180821\" style=\"fill: #1f77b4; stroke: #1f77b4\"/>\n     <use xlink:href=\"#m72efd0573d\" x=\"148.678953\" y=\"115.172606\" style=\"fill: #1f77b4; stroke: #1f77b4\"/>\n     <use xlink:href=\"#m72efd0573d\" x=\"103.586537\" y=\"70.697499\" style=\"fill: #1f77b4; stroke: #1f77b4\"/>\n     <use xlink:href=\"#m72efd0573d\" x=\"157.990481\" y=\"85.461822\" style=\"fill: #1f77b4; stroke: #1f77b4\"/>\n     <use xlink:href=\"#m72efd0573d\" x=\"171.42038\" y=\"106.878592\" style=\"fill: #1f77b4; stroke: #1f77b4\"/>\n     <use xlink:href=\"#m72efd0573d\" x=\"80.129528\" y=\"56.685534\" style=\"fill: #1f77b4; stroke: #1f77b4\"/>\n     <use xlink:href=\"#m72efd0573d\" x=\"143.080181\" y=\"81.125072\" style=\"fill: #1f77b4; stroke: #1f77b4\"/>\n     <use xlink:href=\"#m72efd0573d\" x=\"129.569105\" y=\"91.064382\" style=\"fill: #1f77b4; stroke: #1f77b4\"/>\n     <use xlink:href=\"#m72efd0573d\" x=\"101.661156\" y=\"77.419332\" style=\"fill: #1f77b4; stroke: #1f77b4\"/>\n     <use xlink:href=\"#m72efd0573d\" x=\"116.796619\" y=\"82.456302\" style=\"fill: #1f77b4; stroke: #1f77b4\"/>\n     <use xlink:href=\"#m72efd0573d\" x=\"119.39579\" y=\"84.379223\" style=\"fill: #1f77b4; stroke: #1f77b4\"/>\n     <use xlink:href=\"#m72efd0573d\" x=\"93.730904\" y=\"59.09735\" style=\"fill: #1f77b4; stroke: #1f77b4\"/>\n     <use xlink:href=\"#m72efd0573d\" x=\"124.648631\" y=\"84.253232\" style=\"fill: #1f77b4; stroke: #1f77b4\"/>\n     <use xlink:href=\"#m72efd0573d\" x=\"97.103713\" y=\"59.734693\" style=\"fill: #1f77b4; stroke: #1f77b4\"/>\n     <use xlink:href=\"#m72efd0573d\" x=\"162.059413\" y=\"99.690939\" style=\"fill: #1f77b4; stroke: #1f77b4\"/>\n     <use xlink:href=\"#m72efd0573d\" x=\"119.848809\" y=\"73.70271\" style=\"fill: #1f77b4; stroke: #1f77b4\"/>\n     <use xlink:href=\"#m72efd0573d\" x=\"132.725157\" y=\"96.124718\" style=\"fill: #1f77b4; stroke: #1f77b4\"/>\n     <use xlink:href=\"#m72efd0573d\" x=\"135.843165\" y=\"87.389925\" style=\"fill: #1f77b4; stroke: #1f77b4\"/>\n     <use xlink:href=\"#m72efd0573d\" x=\"144.890502\" y=\"99.932692\" style=\"fill: #1f77b4; stroke: #1f77b4\"/>\n     <use xlink:href=\"#m72efd0573d\" x=\"109.209208\" y=\"63.364766\" style=\"fill: #1f77b4; stroke: #1f77b4\"/>\n     <use xlink:href=\"#m72efd0573d\" x=\"116.032667\" y=\"75.373118\" style=\"fill: #1f77b4; stroke: #1f77b4\"/>\n     <use xlink:href=\"#m72efd0573d\" x=\"151.623584\" y=\"83.469532\" style=\"fill: #1f77b4; stroke: #1f77b4\"/>\n     <use xlink:href=\"#m72efd0573d\" x=\"170.228204\" y=\"107.377549\" style=\"fill: #1f77b4; stroke: #1f77b4\"/>\n     <use xlink:href=\"#m72efd0573d\" x=\"178.633581\" y=\"111.0419\" style=\"fill: #1f77b4; stroke: #1f77b4\"/>\n     <use xlink:href=\"#m72efd0573d\" x=\"197.126853\" y=\"120.77074\" style=\"fill: #1f77b4; stroke: #1f77b4\"/>\n     <use xlink:href=\"#m72efd0573d\" x=\"114.143359\" y=\"71.507219\" style=\"fill: #1f77b4; stroke: #1f77b4\"/>\n     <use xlink:href=\"#m72efd0573d\" x=\"124.125014\" y=\"86.690085\" style=\"fill: #1f77b4; stroke: #1f77b4\"/>\n     <use xlink:href=\"#m72efd0573d\" x=\"119.789102\" y=\"74.678282\" style=\"fill: #1f77b4; stroke: #1f77b4\"/>\n     <use xlink:href=\"#m72efd0573d\" x=\"177.071428\" y=\"125.079669\" style=\"fill: #1f77b4; stroke: #1f77b4\"/>\n     <use xlink:href=\"#m72efd0573d\" x=\"112.02708\" y=\"76.770077\" style=\"fill: #1f77b4; stroke: #1f77b4\"/>\n     <use xlink:href=\"#m72efd0573d\" x=\"158.537814\" y=\"95.640061\" style=\"fill: #1f77b4; stroke: #1f77b4\"/>\n     <use xlink:href=\"#m72efd0573d\" x=\"163.482977\" y=\"108.37466\" style=\"fill: #1f77b4; stroke: #1f77b4\"/>\n     <use xlink:href=\"#m72efd0573d\" x=\"113.375692\" y=\"88.114259\" style=\"fill: #1f77b4; stroke: #1f77b4\"/>\n     <use xlink:href=\"#m72efd0573d\" x=\"105.170977\" y=\"60.252957\" style=\"fill: #1f77b4; stroke: #1f77b4\"/>\n     <use xlink:href=\"#m72efd0573d\" x=\"111.96851\" y=\"84.419678\" style=\"fill: #1f77b4; stroke: #1f77b4\"/>\n     <use xlink:href=\"#m72efd0573d\" x=\"152.492706\" y=\"85.859751\" style=\"fill: #1f77b4; stroke: #1f77b4\"/>\n     <use xlink:href=\"#m72efd0573d\" x=\"120.651802\" y=\"86.487588\" style=\"fill: #1f77b4; stroke: #1f77b4\"/>\n     <use xlink:href=\"#m72efd0573d\" x=\"139.257156\" y=\"90.581095\" style=\"fill: #1f77b4; stroke: #1f77b4\"/>\n     <use xlink:href=\"#m72efd0573d\" x=\"130.894527\" y=\"73.8808\" style=\"fill: #1f77b4; stroke: #1f77b4\"/>\n     <use xlink:href=\"#m72efd0573d\" x=\"140.074814\" y=\"88.499199\" style=\"fill: #1f77b4; stroke: #1f77b4\"/>\n     <use xlink:href=\"#m72efd0573d\" x=\"86.210021\" y=\"65.948768\" style=\"fill: #1f77b4; stroke: #1f77b4\"/>\n     <use xlink:href=\"#m72efd0573d\" x=\"129.699758\" y=\"82.233487\" style=\"fill: #1f77b4; stroke: #1f77b4\"/>\n     <use xlink:href=\"#m72efd0573d\" x=\"163.089562\" y=\"95.889755\" style=\"fill: #1f77b4; stroke: #1f77b4\"/>\n     <use xlink:href=\"#m72efd0573d\" x=\"123.350332\" y=\"84.663557\" style=\"fill: #1f77b4; stroke: #1f77b4\"/>\n     <use xlink:href=\"#m72efd0573d\" x=\"126.688414\" y=\"89.906838\" style=\"fill: #1f77b4; stroke: #1f77b4\"/>\n     <use xlink:href=\"#m72efd0573d\" x=\"118.049011\" y=\"83.543224\" style=\"fill: #1f77b4; stroke: #1f77b4\"/>\n     <use xlink:href=\"#m72efd0573d\" x=\"126.947358\" y=\"67.855977\" style=\"fill: #1f77b4; stroke: #1f77b4\"/>\n     <use xlink:href=\"#m72efd0573d\" x=\"158.115753\" y=\"113.352249\" style=\"fill: #1f77b4; stroke: #1f77b4\"/>\n     <use xlink:href=\"#m72efd0573d\" x=\"97.667009\" y=\"57.518379\" style=\"fill: #1f77b4; stroke: #1f77b4\"/>\n     <use xlink:href=\"#m72efd0573d\" x=\"116.236567\" y=\"62.269526\" style=\"fill: #1f77b4; stroke: #1f77b4\"/>\n     <use xlink:href=\"#m72efd0573d\" x=\"113.802537\" y=\"71.977874\" style=\"fill: #1f77b4; stroke: #1f77b4\"/>\n     <use xlink:href=\"#m72efd0573d\" x=\"113.305996\" y=\"73.220818\" style=\"fill: #1f77b4; stroke: #1f77b4\"/>\n     <use xlink:href=\"#m72efd0573d\" x=\"127.651149\" y=\"84.56276\" style=\"fill: #1f77b4; stroke: #1f77b4\"/>\n     <use xlink:href=\"#m72efd0573d\" x=\"145.414229\" y=\"95.934366\" style=\"fill: #1f77b4; stroke: #1f77b4\"/>\n     <use xlink:href=\"#m72efd0573d\" x=\"150.583827\" y=\"95.622505\" style=\"fill: #1f77b4; stroke: #1f77b4\"/>\n     <use xlink:href=\"#m72efd0573d\" x=\"109.61247\" y=\"76.357787\" style=\"fill: #1f77b4; stroke: #1f77b4\"/>\n     <use xlink:href=\"#m72efd0573d\" x=\"120.937021\" y=\"82.02782\" style=\"fill: #1f77b4; stroke: #1f77b4\"/>\n     <use xlink:href=\"#m72efd0573d\" x=\"126.295842\" y=\"68.799133\" style=\"fill: #1f77b4; stroke: #1f77b4\"/>\n     <use xlink:href=\"#m72efd0573d\" x=\"130.211012\" y=\"88.568414\" style=\"fill: #1f77b4; stroke: #1f77b4\"/>\n     <use xlink:href=\"#m72efd0573d\" x=\"140.869697\" y=\"94.184959\" style=\"fill: #1f77b4; stroke: #1f77b4\"/>\n     <use xlink:href=\"#m72efd0573d\" x=\"84.783118\" y=\"51.784342\" style=\"fill: #1f77b4; stroke: #1f77b4\"/>\n     <use xlink:href=\"#m72efd0573d\" x=\"70.879892\" y=\"35.008368\" style=\"fill: #1f77b4; stroke: #1f77b4\"/>\n     <use xlink:href=\"#m72efd0573d\" x=\"168.87709\" y=\"117.89104\" style=\"fill: #1f77b4; stroke: #1f77b4\"/>\n     <use xlink:href=\"#m72efd0573d\" x=\"98.378061\" y=\"77.480551\" style=\"fill: #1f77b4; stroke: #1f77b4\"/>\n     <use xlink:href=\"#m72efd0573d\" x=\"162.416598\" y=\"109.119942\" style=\"fill: #1f77b4; stroke: #1f77b4\"/>\n     <use xlink:href=\"#m72efd0573d\" x=\"89.814842\" y=\"64.937235\" style=\"fill: #1f77b4; stroke: #1f77b4\"/>\n     <use xlink:href=\"#m72efd0573d\" x=\"125.48938\" y=\"85.086583\" style=\"fill: #1f77b4; stroke: #1f77b4\"/>\n     <use xlink:href=\"#m72efd0573d\" x=\"137.802195\" y=\"99.314967\" style=\"fill: #1f77b4; stroke: #1f77b4\"/>\n     <use xlink:href=\"#m72efd0573d\" x=\"115.409145\" y=\"72.299578\" style=\"fill: #1f77b4; stroke: #1f77b4\"/>\n     <use xlink:href=\"#m72efd0573d\" x=\"139.741255\" y=\"88.287833\" style=\"fill: #1f77b4; stroke: #1f77b4\"/>\n     <use xlink:href=\"#m72efd0573d\" x=\"108.601781\" y=\"72.135067\" style=\"fill: #1f77b4; stroke: #1f77b4\"/>\n     <use xlink:href=\"#m72efd0573d\" x=\"145.784342\" y=\"92.431491\" style=\"fill: #1f77b4; stroke: #1f77b4\"/>\n     <use xlink:href=\"#m72efd0573d\" x=\"176.957763\" y=\"119.120796\" style=\"fill: #1f77b4; stroke: #1f77b4\"/>\n     <use xlink:href=\"#m72efd0573d\" x=\"88.892259\" y=\"46.667094\" style=\"fill: #1f77b4; stroke: #1f77b4\"/>\n     <use xlink:href=\"#m72efd0573d\" x=\"136.669004\" y=\"99.529961\" style=\"fill: #1f77b4; stroke: #1f77b4\"/>\n     <use xlink:href=\"#m72efd0573d\" x=\"113.551588\" y=\"63.584266\" style=\"fill: #1f77b4; stroke: #1f77b4\"/>\n     <use xlink:href=\"#m72efd0573d\" x=\"115.579956\" y=\"75.557912\" style=\"fill: #1f77b4; stroke: #1f77b4\"/>\n     <use xlink:href=\"#m72efd0573d\" x=\"135.480165\" y=\"83.948372\" style=\"fill: #1f77b4; stroke: #1f77b4\"/>\n     <use xlink:href=\"#m72efd0573d\" x=\"139.211896\" y=\"94.326219\" style=\"fill: #1f77b4; stroke: #1f77b4\"/>\n     <use xlink:href=\"#m72efd0573d\" x=\"125.588575\" y=\"67.302522\" style=\"fill: #1f77b4; stroke: #1f77b4\"/>\n     <use xlink:href=\"#m72efd0573d\" x=\"125.816754\" y=\"86.946476\" style=\"fill: #1f77b4; stroke: #1f77b4\"/>\n     <use xlink:href=\"#m72efd0573d\" x=\"132.015128\" y=\"91.746877\" style=\"fill: #1f77b4; stroke: #1f77b4\"/>\n     <use xlink:href=\"#m72efd0573d\" x=\"123.271913\" y=\"80.638794\" style=\"fill: #1f77b4; stroke: #1f77b4\"/>\n     <use xlink:href=\"#m72efd0573d\" x=\"117.023287\" y=\"81.240005\" style=\"fill: #1f77b4; stroke: #1f77b4\"/>\n     <use xlink:href=\"#m72efd0573d\" x=\"155.02593\" y=\"107.198542\" style=\"fill: #1f77b4; stroke: #1f77b4\"/>\n     <use xlink:href=\"#m72efd0573d\" x=\"130.117425\" y=\"79.368839\" style=\"fill: #1f77b4; stroke: #1f77b4\"/>\n     <use xlink:href=\"#m72efd0573d\" x=\"102.749197\" y=\"67.659336\" style=\"fill: #1f77b4; stroke: #1f77b4\"/>\n     <use xlink:href=\"#m72efd0573d\" x=\"139.700136\" y=\"106.03054\" style=\"fill: #1f77b4; stroke: #1f77b4\"/>\n     <use xlink:href=\"#m72efd0573d\" x=\"138.060441\" y=\"73.846621\" style=\"fill: #1f77b4; stroke: #1f77b4\"/>\n     <use xlink:href=\"#m72efd0573d\" x=\"122.371751\" y=\"73.223911\" style=\"fill: #1f77b4; stroke: #1f77b4\"/>\n     <use xlink:href=\"#m72efd0573d\" x=\"139.672519\" y=\"93.432587\" style=\"fill: #1f77b4; stroke: #1f77b4\"/>\n     <use xlink:href=\"#m72efd0573d\" x=\"61.383869\" y=\"36.753603\" style=\"fill: #1f77b4; stroke: #1f77b4\"/>\n     <use xlink:href=\"#m72efd0573d\" x=\"129.394866\" y=\"87.96839\" style=\"fill: #1f77b4; stroke: #1f77b4\"/>\n     <use xlink:href=\"#m72efd0573d\" x=\"146.70857\" y=\"100.243946\" style=\"fill: #1f77b4; stroke: #1f77b4\"/>\n     <use xlink:href=\"#m72efd0573d\" x=\"77.157504\" y=\"49.126184\" style=\"fill: #1f77b4; stroke: #1f77b4\"/>\n     <use xlink:href=\"#m72efd0573d\" x=\"170.368866\" y=\"108.6621\" style=\"fill: #1f77b4; stroke: #1f77b4\"/>\n     <use xlink:href=\"#m72efd0573d\" x=\"101.037162\" y=\"72.497362\" style=\"fill: #1f77b4; stroke: #1f77b4\"/>\n     <use xlink:href=\"#m72efd0573d\" x=\"101.87939\" y=\"55.735437\" style=\"fill: #1f77b4; stroke: #1f77b4\"/>\n     <use xlink:href=\"#m72efd0573d\" x=\"121.840378\" y=\"94.604517\" style=\"fill: #1f77b4; stroke: #1f77b4\"/>\n     <use xlink:href=\"#m72efd0573d\" x=\"111.610578\" y=\"72.275068\" style=\"fill: #1f77b4; stroke: #1f77b4\"/>\n     <use xlink:href=\"#m72efd0573d\" x=\"134.594427\" y=\"77.298488\" style=\"fill: #1f77b4; stroke: #1f77b4\"/>\n     <use xlink:href=\"#m72efd0573d\" x=\"124.757789\" y=\"90.546658\" style=\"fill: #1f77b4; stroke: #1f77b4\"/>\n     <use xlink:href=\"#m72efd0573d\" x=\"109.506074\" y=\"45.201868\" style=\"fill: #1f77b4; stroke: #1f77b4\"/>\n     <use xlink:href=\"#m72efd0573d\" x=\"118.541461\" y=\"73.580911\" style=\"fill: #1f77b4; stroke: #1f77b4\"/>\n     <use xlink:href=\"#m72efd0573d\" x=\"159.703401\" y=\"100.751324\" style=\"fill: #1f77b4; stroke: #1f77b4\"/>\n     <use xlink:href=\"#m72efd0573d\" x=\"150.302886\" y=\"95.221971\" style=\"fill: #1f77b4; stroke: #1f77b4\"/>\n     <use xlink:href=\"#m72efd0573d\" x=\"171.259067\" y=\"112.982891\" style=\"fill: #1f77b4; stroke: #1f77b4\"/>\n     <use xlink:href=\"#m72efd0573d\" x=\"89.967056\" y=\"56.430052\" style=\"fill: #1f77b4; stroke: #1f77b4\"/>\n     <use xlink:href=\"#m72efd0573d\" x=\"115.4172\" y=\"80.442616\" style=\"fill: #1f77b4; stroke: #1f77b4\"/>\n     <use xlink:href=\"#m72efd0573d\" x=\"116.142929\" y=\"65.178037\" style=\"fill: #1f77b4; stroke: #1f77b4\"/>\n     <use xlink:href=\"#m72efd0573d\" x=\"94.338638\" y=\"59.287498\" style=\"fill: #1f77b4; stroke: #1f77b4\"/>\n     <use xlink:href=\"#m72efd0573d\" x=\"158.458417\" y=\"111.666829\" style=\"fill: #1f77b4; stroke: #1f77b4\"/>\n     <use xlink:href=\"#m72efd0573d\" x=\"80.254013\" y=\"34.410248\" style=\"fill: #1f77b4; stroke: #1f77b4\"/>\n     <use xlink:href=\"#m72efd0573d\" x=\"135.077811\" y=\"77.232782\" style=\"fill: #1f77b4; stroke: #1f77b4\"/>\n     <use xlink:href=\"#m72efd0573d\" x=\"135.627518\" y=\"89.227358\" style=\"fill: #1f77b4; stroke: #1f77b4\"/>\n     <use xlink:href=\"#m72efd0573d\" x=\"140.27048\" y=\"75.569307\" style=\"fill: #1f77b4; stroke: #1f77b4\"/>\n     <use xlink:href=\"#m72efd0573d\" x=\"143.537168\" y=\"90.924203\" style=\"fill: #1f77b4; stroke: #1f77b4\"/>\n     <use xlink:href=\"#m72efd0573d\" x=\"142.948049\" y=\"81.139746\" style=\"fill: #1f77b4; stroke: #1f77b4\"/>\n     <use xlink:href=\"#m72efd0573d\" x=\"112.485594\" y=\"82.823254\" style=\"fill: #1f77b4; stroke: #1f77b4\"/>\n     <use xlink:href=\"#m72efd0573d\" x=\"132.980508\" y=\"85.655634\" style=\"fill: #1f77b4; stroke: #1f77b4\"/>\n     <use xlink:href=\"#m72efd0573d\" x=\"93.820853\" y=\"60.256744\" style=\"fill: #1f77b4; stroke: #1f77b4\"/>\n     <use xlink:href=\"#m72efd0573d\" x=\"171.350752\" y=\"110.950502\" style=\"fill: #1f77b4; stroke: #1f77b4\"/>\n     <use xlink:href=\"#m72efd0573d\" x=\"155.22808\" y=\"68.035622\" style=\"fill: #1f77b4; stroke: #1f77b4\"/>\n     <use xlink:href=\"#m72efd0573d\" x=\"101.668186\" y=\"75.030903\" style=\"fill: #1f77b4; stroke: #1f77b4\"/>\n     <use xlink:href=\"#m72efd0573d\" x=\"93.926708\" y=\"52.050812\" style=\"fill: #1f77b4; stroke: #1f77b4\"/>\n     <use xlink:href=\"#m72efd0573d\" x=\"119.470007\" y=\"78.814874\" style=\"fill: #1f77b4; stroke: #1f77b4\"/>\n     <use xlink:href=\"#m72efd0573d\" x=\"122.054692\" y=\"96.11286\" style=\"fill: #1f77b4; stroke: #1f77b4\"/>\n     <use xlink:href=\"#m72efd0573d\" x=\"91.643529\" y=\"72.114964\" style=\"fill: #1f77b4; stroke: #1f77b4\"/>\n     <use xlink:href=\"#m72efd0573d\" x=\"109.81824\" y=\"74.602173\" style=\"fill: #1f77b4; stroke: #1f77b4\"/>\n     <use xlink:href=\"#m72efd0573d\" x=\"186.207065\" y=\"113.277621\" style=\"fill: #1f77b4; stroke: #1f77b4\"/>\n     <use xlink:href=\"#m72efd0573d\" x=\"168.982149\" y=\"105.991045\" style=\"fill: #1f77b4; stroke: #1f77b4\"/>\n     <use xlink:href=\"#m72efd0573d\" x=\"133.791454\" y=\"81.992406\" style=\"fill: #1f77b4; stroke: #1f77b4\"/>\n     <use xlink:href=\"#m72efd0573d\" x=\"163.10014\" y=\"116.269508\" style=\"fill: #1f77b4; stroke: #1f77b4\"/>\n     <use xlink:href=\"#m72efd0573d\" x=\"125.977864\" y=\"76.79119\" style=\"fill: #1f77b4; stroke: #1f77b4\"/>\n     <use xlink:href=\"#m72efd0573d\" x=\"149.109286\" y=\"90.993315\" style=\"fill: #1f77b4; stroke: #1f77b4\"/>\n     <use xlink:href=\"#m72efd0573d\" x=\"156.856315\" y=\"84.556509\" style=\"fill: #1f77b4; stroke: #1f77b4\"/>\n     <use xlink:href=\"#m72efd0573d\" x=\"119.278259\" y=\"85.028573\" style=\"fill: #1f77b4; stroke: #1f77b4\"/>\n     <use xlink:href=\"#m72efd0573d\" x=\"162.099284\" y=\"89.642081\" style=\"fill: #1f77b4; stroke: #1f77b4\"/>\n     <use xlink:href=\"#m72efd0573d\" x=\"136.061504\" y=\"101.296813\" style=\"fill: #1f77b4; stroke: #1f77b4\"/>\n     <use xlink:href=\"#m72efd0573d\" x=\"131.524627\" y=\"81.849709\" style=\"fill: #1f77b4; stroke: #1f77b4\"/>\n     <use xlink:href=\"#m72efd0573d\" x=\"143.386783\" y=\"100.710659\" style=\"fill: #1f77b4; stroke: #1f77b4\"/>\n     <use xlink:href=\"#m72efd0573d\" x=\"154.133982\" y=\"105.28118\" style=\"fill: #1f77b4; stroke: #1f77b4\"/>\n     <use xlink:href=\"#m72efd0573d\" x=\"130.855733\" y=\"92.391988\" style=\"fill: #1f77b4; stroke: #1f77b4\"/>\n     <use xlink:href=\"#m72efd0573d\" x=\"172.498448\" y=\"109.917108\" style=\"fill: #1f77b4; stroke: #1f77b4\"/>\n     <use xlink:href=\"#m72efd0573d\" x=\"170.277028\" y=\"114.772675\" style=\"fill: #1f77b4; stroke: #1f77b4\"/>\n     <use xlink:href=\"#m72efd0573d\" x=\"172.670932\" y=\"103.261759\" style=\"fill: #1f77b4; stroke: #1f77b4\"/>\n     <use xlink:href=\"#m72efd0573d\" x=\"171.663126\" y=\"114.320819\" style=\"fill: #1f77b4; stroke: #1f77b4\"/>\n     <use xlink:href=\"#m72efd0573d\" x=\"124.862898\" y=\"85.137909\" style=\"fill: #1f77b4; stroke: #1f77b4\"/>\n     <use xlink:href=\"#m72efd0573d\" x=\"105.753764\" y=\"84.444645\" style=\"fill: #1f77b4; stroke: #1f77b4\"/>\n     <use xlink:href=\"#m72efd0573d\" x=\"95.173801\" y=\"61.352422\" style=\"fill: #1f77b4; stroke: #1f77b4\"/>\n     <use xlink:href=\"#m72efd0573d\" x=\"120.846346\" y=\"80.557002\" style=\"fill: #1f77b4; stroke: #1f77b4\"/>\n     <use xlink:href=\"#m72efd0573d\" x=\"144.271567\" y=\"86.689299\" style=\"fill: #1f77b4; stroke: #1f77b4\"/>\n     <use xlink:href=\"#m72efd0573d\" x=\"169.491593\" y=\"100.31987\" style=\"fill: #1f77b4; stroke: #1f77b4\"/>\n     <use xlink:href=\"#m72efd0573d\" x=\"108.54513\" y=\"71.10686\" style=\"fill: #1f77b4; stroke: #1f77b4\"/>\n     <use xlink:href=\"#m72efd0573d\" x=\"132.496765\" y=\"103.560649\" style=\"fill: #1f77b4; stroke: #1f77b4\"/>\n     <use xlink:href=\"#m72efd0573d\" x=\"135.377953\" y=\"60.473032\" style=\"fill: #1f77b4; stroke: #1f77b4\"/>\n     <use xlink:href=\"#m72efd0573d\" x=\"177.369757\" y=\"114.355632\" style=\"fill: #1f77b4; stroke: #1f77b4\"/>\n     <use xlink:href=\"#m72efd0573d\" x=\"132.592518\" y=\"87.8453\" style=\"fill: #1f77b4; stroke: #1f77b4\"/>\n     <use xlink:href=\"#m72efd0573d\" x=\"141.827209\" y=\"84.499806\" style=\"fill: #1f77b4; stroke: #1f77b4\"/>\n     <use xlink:href=\"#m72efd0573d\" x=\"150.539004\" y=\"86.044364\" style=\"fill: #1f77b4; stroke: #1f77b4\"/>\n     <use xlink:href=\"#m72efd0573d\" x=\"131.103953\" y=\"86.522683\" style=\"fill: #1f77b4; stroke: #1f77b4\"/>\n     <use xlink:href=\"#m72efd0573d\" x=\"131.770598\" y=\"85.491811\" style=\"fill: #1f77b4; stroke: #1f77b4\"/>\n     <use xlink:href=\"#m72efd0573d\" x=\"135.364163\" y=\"81.112511\" style=\"fill: #1f77b4; stroke: #1f77b4\"/>\n     <use xlink:href=\"#m72efd0573d\" x=\"131.530008\" y=\"73.196326\" style=\"fill: #1f77b4; stroke: #1f77b4\"/>\n     <use xlink:href=\"#m72efd0573d\" x=\"108.55595\" y=\"66.357216\" style=\"fill: #1f77b4; stroke: #1f77b4\"/>\n     <use xlink:href=\"#m72efd0573d\" x=\"180.962121\" y=\"114.353685\" style=\"fill: #1f77b4; stroke: #1f77b4\"/>\n     <use xlink:href=\"#m72efd0573d\" x=\"121.23109\" y=\"78.800584\" style=\"fill: #1f77b4; stroke: #1f77b4\"/>\n     <use xlink:href=\"#m72efd0573d\" x=\"142.811895\" y=\"91.589418\" style=\"fill: #1f77b4; stroke: #1f77b4\"/>\n     <use xlink:href=\"#m72efd0573d\" x=\"147.044054\" y=\"93.485767\" style=\"fill: #1f77b4; stroke: #1f77b4\"/>\n     <use xlink:href=\"#m72efd0573d\" x=\"52.344857\" y=\"35.77324\" style=\"fill: #1f77b4; stroke: #1f77b4\"/>\n     <use xlink:href=\"#m72efd0573d\" x=\"134.079595\" y=\"79.147177\" style=\"fill: #1f77b4; stroke: #1f77b4\"/>\n     <use xlink:href=\"#m72efd0573d\" x=\"126.351423\" y=\"78.953735\" style=\"fill: #1f77b4; stroke: #1f77b4\"/>\n     <use xlink:href=\"#m72efd0573d\" x=\"123.27146\" y=\"71.276855\" style=\"fill: #1f77b4; stroke: #1f77b4\"/>\n     <use xlink:href=\"#m72efd0573d\" x=\"129.428544\" y=\"82.11293\" style=\"fill: #1f77b4; stroke: #1f77b4\"/>\n     <use xlink:href=\"#m72efd0573d\" x=\"106.327974\" y=\"66.408105\" style=\"fill: #1f77b4; stroke: #1f77b4\"/>\n     <use xlink:href=\"#m72efd0573d\" x=\"147.617764\" y=\"97.273332\" style=\"fill: #1f77b4; stroke: #1f77b4\"/>\n     <use xlink:href=\"#m72efd0573d\" x=\"136.531571\" y=\"81.554918\" style=\"fill: #1f77b4; stroke: #1f77b4\"/>\n     <use xlink:href=\"#m72efd0573d\" x=\"171.466407\" y=\"108.00033\" style=\"fill: #1f77b4; stroke: #1f77b4\"/>\n     <use xlink:href=\"#m72efd0573d\" x=\"108.464688\" y=\"81.385026\" style=\"fill: #1f77b4; stroke: #1f77b4\"/>\n     <use xlink:href=\"#m72efd0573d\" x=\"148.017229\" y=\"82.277502\" style=\"fill: #1f77b4; stroke: #1f77b4\"/>\n     <use xlink:href=\"#m72efd0573d\" x=\"121.367189\" y=\"74.100954\" style=\"fill: #1f77b4; stroke: #1f77b4\"/>\n     <use xlink:href=\"#m72efd0573d\" x=\"138.554681\" y=\"81.497954\" style=\"fill: #1f77b4; stroke: #1f77b4\"/>\n     <use xlink:href=\"#m72efd0573d\" x=\"100.517769\" y=\"57.077191\" style=\"fill: #1f77b4; stroke: #1f77b4\"/>\n     <use xlink:href=\"#m72efd0573d\" x=\"95.705566\" y=\"62.09037\" style=\"fill: #1f77b4; stroke: #1f77b4\"/>\n     <use xlink:href=\"#m72efd0573d\" x=\"108.389991\" y=\"86.204309\" style=\"fill: #1f77b4; stroke: #1f77b4\"/>\n     <use xlink:href=\"#m72efd0573d\" x=\"85.416295\" y=\"65.287425\" style=\"fill: #1f77b4; stroke: #1f77b4\"/>\n     <use xlink:href=\"#m72efd0573d\" x=\"106.885324\" y=\"75.9035\" style=\"fill: #1f77b4; stroke: #1f77b4\"/>\n     <use xlink:href=\"#m72efd0573d\" x=\"159.197535\" y=\"97.125664\" style=\"fill: #1f77b4; stroke: #1f77b4\"/>\n     <use xlink:href=\"#m72efd0573d\" x=\"118.985146\" y=\"80.865846\" style=\"fill: #1f77b4; stroke: #1f77b4\"/>\n     <use xlink:href=\"#m72efd0573d\" x=\"118.311113\" y=\"61.054588\" style=\"fill: #1f77b4; stroke: #1f77b4\"/>\n     <use xlink:href=\"#m72efd0573d\" x=\"151.082126\" y=\"93.285909\" style=\"fill: #1f77b4; stroke: #1f77b4\"/>\n     <use xlink:href=\"#m72efd0573d\" x=\"142.700349\" y=\"102.618704\" style=\"fill: #1f77b4; stroke: #1f77b4\"/>\n     <use xlink:href=\"#m72efd0573d\" x=\"100.685048\" y=\"60.601611\" style=\"fill: #1f77b4; stroke: #1f77b4\"/>\n     <use xlink:href=\"#m72efd0573d\" x=\"142.766814\" y=\"95.567773\" style=\"fill: #1f77b4; stroke: #1f77b4\"/>\n     <use xlink:href=\"#m72efd0573d\" x=\"143.550893\" y=\"102.073564\" style=\"fill: #1f77b4; stroke: #1f77b4\"/>\n     <use xlink:href=\"#m72efd0573d\" x=\"138.91446\" y=\"95.689907\" style=\"fill: #1f77b4; stroke: #1f77b4\"/>\n     <use xlink:href=\"#m72efd0573d\" x=\"151.393135\" y=\"96.649949\" style=\"fill: #1f77b4; stroke: #1f77b4\"/>\n     <use xlink:href=\"#m72efd0573d\" x=\"123.184055\" y=\"84.795356\" style=\"fill: #1f77b4; stroke: #1f77b4\"/>\n     <use xlink:href=\"#m72efd0573d\" x=\"102.306057\" y=\"76.242985\" style=\"fill: #1f77b4; stroke: #1f77b4\"/>\n     <use xlink:href=\"#m72efd0573d\" x=\"169.62018\" y=\"112.820852\" style=\"fill: #1f77b4; stroke: #1f77b4\"/>\n     <use xlink:href=\"#m72efd0573d\" x=\"127.804797\" y=\"84.276835\" style=\"fill: #1f77b4; stroke: #1f77b4\"/>\n     <use xlink:href=\"#m72efd0573d\" x=\"123.338313\" y=\"93.562804\" style=\"fill: #1f77b4; stroke: #1f77b4\"/>\n     <use xlink:href=\"#m72efd0573d\" x=\"133.312729\" y=\"87.497929\" style=\"fill: #1f77b4; stroke: #1f77b4\"/>\n     <use xlink:href=\"#m72efd0573d\" x=\"96.85739\" y=\"66.576523\" style=\"fill: #1f77b4; stroke: #1f77b4\"/>\n     <use xlink:href=\"#m72efd0573d\" x=\"138.691032\" y=\"74.160634\" style=\"fill: #1f77b4; stroke: #1f77b4\"/>\n     <use xlink:href=\"#m72efd0573d\" x=\"141.62724\" y=\"91.599469\" style=\"fill: #1f77b4; stroke: #1f77b4\"/>\n     <use xlink:href=\"#m72efd0573d\" x=\"134.322057\" y=\"93.761045\" style=\"fill: #1f77b4; stroke: #1f77b4\"/>\n     <use xlink:href=\"#m72efd0573d\" x=\"156.689211\" y=\"103.119424\" style=\"fill: #1f77b4; stroke: #1f77b4\"/>\n     <use xlink:href=\"#m72efd0573d\" x=\"138.135355\" y=\"77.143848\" style=\"fill: #1f77b4; stroke: #1f77b4\"/>\n     <use xlink:href=\"#m72efd0573d\" x=\"104.031763\" y=\"66.676694\" style=\"fill: #1f77b4; stroke: #1f77b4\"/>\n     <use xlink:href=\"#m72efd0573d\" x=\"118.319323\" y=\"77.504234\" style=\"fill: #1f77b4; stroke: #1f77b4\"/>\n     <use xlink:href=\"#m72efd0573d\" x=\"109.776435\" y=\"70.523427\" style=\"fill: #1f77b4; stroke: #1f77b4\"/>\n     <use xlink:href=\"#m72efd0573d\" x=\"177.184673\" y=\"112.166467\" style=\"fill: #1f77b4; stroke: #1f77b4\"/>\n     <use xlink:href=\"#m72efd0573d\" x=\"115.684754\" y=\"76.940104\" style=\"fill: #1f77b4; stroke: #1f77b4\"/>\n     <use xlink:href=\"#m72efd0573d\" x=\"116.889888\" y=\"86.945866\" style=\"fill: #1f77b4; stroke: #1f77b4\"/>\n     <use xlink:href=\"#m72efd0573d\" x=\"141.88194\" y=\"87.431028\" style=\"fill: #1f77b4; stroke: #1f77b4\"/>\n     <use xlink:href=\"#m72efd0573d\" x=\"118.176944\" y=\"70.147012\" style=\"fill: #1f77b4; stroke: #1f77b4\"/>\n     <use xlink:href=\"#m72efd0573d\" x=\"109.192238\" y=\"65.227139\" style=\"fill: #1f77b4; stroke: #1f77b4\"/>\n     <use xlink:href=\"#m72efd0573d\" x=\"130.84912\" y=\"99.189697\" style=\"fill: #1f77b4; stroke: #1f77b4\"/>\n     <use xlink:href=\"#m72efd0573d\" x=\"107.03388\" y=\"79.091988\" style=\"fill: #1f77b4; stroke: #1f77b4\"/>\n     <use xlink:href=\"#m72efd0573d\" x=\"109.775376\" y=\"69.619142\" style=\"fill: #1f77b4; stroke: #1f77b4\"/>\n     <use xlink:href=\"#m72efd0573d\" x=\"141.076258\" y=\"90.225014\" style=\"fill: #1f77b4; stroke: #1f77b4\"/>\n     <use xlink:href=\"#m72efd0573d\" x=\"124.452063\" y=\"75.183159\" style=\"fill: #1f77b4; stroke: #1f77b4\"/>\n     <use xlink:href=\"#m72efd0573d\" x=\"89.890793\" y=\"61.617733\" style=\"fill: #1f77b4; stroke: #1f77b4\"/>\n     <use xlink:href=\"#m72efd0573d\" x=\"128.735279\" y=\"81.492192\" style=\"fill: #1f77b4; stroke: #1f77b4\"/>\n     <use xlink:href=\"#m72efd0573d\" x=\"112.429076\" y=\"60.904578\" style=\"fill: #1f77b4; stroke: #1f77b4\"/>\n     <use xlink:href=\"#m72efd0573d\" x=\"128.779944\" y=\"84.758044\" style=\"fill: #1f77b4; stroke: #1f77b4\"/>\n     <use xlink:href=\"#m72efd0573d\" x=\"129.855367\" y=\"80.072001\" style=\"fill: #1f77b4; stroke: #1f77b4\"/>\n     <use xlink:href=\"#m72efd0573d\" x=\"111.145856\" y=\"72.049847\" style=\"fill: #1f77b4; stroke: #1f77b4\"/>\n     <use xlink:href=\"#m72efd0573d\" x=\"127.270646\" y=\"86.578649\" style=\"fill: #1f77b4; stroke: #1f77b4\"/>\n     <use xlink:href=\"#m72efd0573d\" x=\"157.018616\" y=\"83.003198\" style=\"fill: #1f77b4; stroke: #1f77b4\"/>\n     <use xlink:href=\"#m72efd0573d\" x=\"117.03154\" y=\"65.372423\" style=\"fill: #1f77b4; stroke: #1f77b4\"/>\n     <use xlink:href=\"#m72efd0573d\" x=\"118.094572\" y=\"69.094187\" style=\"fill: #1f77b4; stroke: #1f77b4\"/>\n     <use xlink:href=\"#m72efd0573d\" x=\"120.3157\" y=\"97.626743\" style=\"fill: #1f77b4; stroke: #1f77b4\"/>\n     <use xlink:href=\"#m72efd0573d\" x=\"142.072138\" y=\"96.850477\" style=\"fill: #1f77b4; stroke: #1f77b4\"/>\n     <use xlink:href=\"#m72efd0573d\" x=\"123.332966\" y=\"82.096015\" style=\"fill: #1f77b4; stroke: #1f77b4\"/>\n     <use xlink:href=\"#m72efd0573d\" x=\"165.568419\" y=\"101.317113\" style=\"fill: #1f77b4; stroke: #1f77b4\"/>\n     <use xlink:href=\"#m72efd0573d\" x=\"144.273963\" y=\"76.42144\" style=\"fill: #1f77b4; stroke: #1f77b4\"/>\n     <use xlink:href=\"#m72efd0573d\" x=\"135.328517\" y=\"99.749559\" style=\"fill: #1f77b4; stroke: #1f77b4\"/>\n     <use xlink:href=\"#m72efd0573d\" x=\"62.776815\" y=\"58.558213\" style=\"fill: #1f77b4; stroke: #1f77b4\"/>\n     <use xlink:href=\"#m72efd0573d\" x=\"109.572921\" y=\"65.58811\" style=\"fill: #1f77b4; stroke: #1f77b4\"/>\n     <use xlink:href=\"#m72efd0573d\" x=\"131.422497\" y=\"90.124882\" style=\"fill: #1f77b4; stroke: #1f77b4\"/>\n     <use xlink:href=\"#m72efd0573d\" x=\"135.850834\" y=\"90.579681\" style=\"fill: #1f77b4; stroke: #1f77b4\"/>\n     <use xlink:href=\"#m72efd0573d\" x=\"158.379409\" y=\"105.11778\" style=\"fill: #1f77b4; stroke: #1f77b4\"/>\n     <use xlink:href=\"#m72efd0573d\" x=\"88.673168\" y=\"60.228529\" style=\"fill: #1f77b4; stroke: #1f77b4\"/>\n     <use xlink:href=\"#m72efd0573d\" x=\"161.352337\" y=\"109.297224\" style=\"fill: #1f77b4; stroke: #1f77b4\"/>\n     <use xlink:href=\"#m72efd0573d\" x=\"147.085377\" y=\"88.122224\" style=\"fill: #1f77b4; stroke: #1f77b4\"/>\n     <use xlink:href=\"#m72efd0573d\" x=\"130.155576\" y=\"76.287596\" style=\"fill: #1f77b4; stroke: #1f77b4\"/>\n     <use xlink:href=\"#m72efd0573d\" x=\"167.714041\" y=\"112.116374\" style=\"fill: #1f77b4; stroke: #1f77b4\"/>\n     <use xlink:href=\"#m72efd0573d\" x=\"109.305687\" y=\"74.426823\" style=\"fill: #1f77b4; stroke: #1f77b4\"/>\n     <use xlink:href=\"#m72efd0573d\" x=\"74.328441\" y=\"63.774495\" style=\"fill: #1f77b4; stroke: #1f77b4\"/>\n     <use xlink:href=\"#m72efd0573d\" x=\"112.786969\" y=\"69.783656\" style=\"fill: #1f77b4; stroke: #1f77b4\"/>\n     <use xlink:href=\"#m72efd0573d\" x=\"82.955498\" y=\"57.906219\" style=\"fill: #1f77b4; stroke: #1f77b4\"/>\n     <use xlink:href=\"#m72efd0573d\" x=\"179.83744\" y=\"89.042121\" style=\"fill: #1f77b4; stroke: #1f77b4\"/>\n     <use xlink:href=\"#m72efd0573d\" x=\"87.941615\" y=\"65.052138\" style=\"fill: #1f77b4; stroke: #1f77b4\"/>\n     <use xlink:href=\"#m72efd0573d\" x=\"151.699442\" y=\"78.275381\" style=\"fill: #1f77b4; stroke: #1f77b4\"/>\n     <use xlink:href=\"#m72efd0573d\" x=\"122.452117\" y=\"72.051313\" style=\"fill: #1f77b4; stroke: #1f77b4\"/>\n     <use xlink:href=\"#m72efd0573d\" x=\"137.006462\" y=\"105.271328\" style=\"fill: #1f77b4; stroke: #1f77b4\"/>\n     <use xlink:href=\"#m72efd0573d\" x=\"108.188976\" y=\"65.667417\" style=\"fill: #1f77b4; stroke: #1f77b4\"/>\n     <use xlink:href=\"#m72efd0573d\" x=\"134.568814\" y=\"100.862639\" style=\"fill: #1f77b4; stroke: #1f77b4\"/>\n     <use xlink:href=\"#m72efd0573d\" x=\"102.745999\" y=\"74.371591\" style=\"fill: #1f77b4; stroke: #1f77b4\"/>\n     <use xlink:href=\"#m72efd0573d\" x=\"113.8419\" y=\"56.408094\" style=\"fill: #1f77b4; stroke: #1f77b4\"/>\n     <use xlink:href=\"#m72efd0573d\" x=\"131.513968\" y=\"89.611588\" style=\"fill: #1f77b4; stroke: #1f77b4\"/>\n     <use xlink:href=\"#m72efd0573d\" x=\"147.052923\" y=\"91.054738\" style=\"fill: #1f77b4; stroke: #1f77b4\"/>\n     <use xlink:href=\"#m72efd0573d\" x=\"115.325671\" y=\"78.221343\" style=\"fill: #1f77b4; stroke: #1f77b4\"/>\n     <use xlink:href=\"#m72efd0573d\" x=\"184.14683\" y=\"127.795912\" style=\"fill: #1f77b4; stroke: #1f77b4\"/>\n     <use xlink:href=\"#m72efd0573d\" x=\"174.54966\" y=\"102.877991\" style=\"fill: #1f77b4; stroke: #1f77b4\"/>\n     <use xlink:href=\"#m72efd0573d\" x=\"132.369653\" y=\"82.685092\" style=\"fill: #1f77b4; stroke: #1f77b4\"/>\n     <use xlink:href=\"#m72efd0573d\" x=\"122.50814\" y=\"97.136791\" style=\"fill: #1f77b4; stroke: #1f77b4\"/>\n     <use xlink:href=\"#m72efd0573d\" x=\"100.412012\" y=\"60.18957\" style=\"fill: #1f77b4; stroke: #1f77b4\"/>\n     <use xlink:href=\"#m72efd0573d\" x=\"127.266572\" y=\"91.609142\" style=\"fill: #1f77b4; stroke: #1f77b4\"/>\n     <use xlink:href=\"#m72efd0573d\" x=\"149.149398\" y=\"101.141832\" style=\"fill: #1f77b4; stroke: #1f77b4\"/>\n     <use xlink:href=\"#m72efd0573d\" x=\"104.054761\" y=\"64.317355\" style=\"fill: #1f77b4; stroke: #1f77b4\"/>\n     <use xlink:href=\"#m72efd0573d\" x=\"122.11113\" y=\"68.958497\" style=\"fill: #1f77b4; stroke: #1f77b4\"/>\n     <use xlink:href=\"#m72efd0573d\" x=\"155.403279\" y=\"80.873216\" style=\"fill: #1f77b4; stroke: #1f77b4\"/>\n     <use xlink:href=\"#m72efd0573d\" x=\"163.746633\" y=\"113.011379\" style=\"fill: #1f77b4; stroke: #1f77b4\"/>\n     <use xlink:href=\"#m72efd0573d\" x=\"161.631925\" y=\"94.804626\" style=\"fill: #1f77b4; stroke: #1f77b4\"/>\n     <use xlink:href=\"#m72efd0573d\" x=\"74.928895\" y=\"52.680445\" style=\"fill: #1f77b4; stroke: #1f77b4\"/>\n     <use xlink:href=\"#m72efd0573d\" x=\"89.039819\" y=\"42.374319\" style=\"fill: #1f77b4; stroke: #1f77b4\"/>\n     <use xlink:href=\"#m72efd0573d\" x=\"157.441358\" y=\"108.687801\" style=\"fill: #1f77b4; stroke: #1f77b4\"/>\n     <use xlink:href=\"#m72efd0573d\" x=\"174.597436\" y=\"94.428534\" style=\"fill: #1f77b4; stroke: #1f77b4\"/>\n     <use xlink:href=\"#m72efd0573d\" x=\"132.257845\" y=\"74.008005\" style=\"fill: #1f77b4; stroke: #1f77b4\"/>\n     <use xlink:href=\"#m72efd0573d\" x=\"159.719738\" y=\"97.606547\" style=\"fill: #1f77b4; stroke: #1f77b4\"/>\n     <use xlink:href=\"#m72efd0573d\" x=\"126.460654\" y=\"79.572338\" style=\"fill: #1f77b4; stroke: #1f77b4\"/>\n     <use xlink:href=\"#m72efd0573d\" x=\"125.061384\" y=\"87.732701\" style=\"fill: #1f77b4; stroke: #1f77b4\"/>\n     <use xlink:href=\"#m72efd0573d\" x=\"118.343383\" y=\"56.795891\" style=\"fill: #1f77b4; stroke: #1f77b4\"/>\n     <use xlink:href=\"#m72efd0573d\" x=\"109.146313\" y=\"62.988158\" style=\"fill: #1f77b4; stroke: #1f77b4\"/>\n     <use xlink:href=\"#m72efd0573d\" x=\"107.264538\" y=\"68.610235\" style=\"fill: #1f77b4; stroke: #1f77b4\"/>\n     <use xlink:href=\"#m72efd0573d\" x=\"112.858964\" y=\"55.418836\" style=\"fill: #1f77b4; stroke: #1f77b4\"/>\n     <use xlink:href=\"#m72efd0573d\" x=\"106.926373\" y=\"69.684684\" style=\"fill: #1f77b4; stroke: #1f77b4\"/>\n     <use xlink:href=\"#m72efd0573d\" x=\"109.427388\" y=\"77.152095\" style=\"fill: #1f77b4; stroke: #1f77b4\"/>\n     <use xlink:href=\"#m72efd0573d\" x=\"122.415133\" y=\"88.540721\" style=\"fill: #1f77b4; stroke: #1f77b4\"/>\n     <use xlink:href=\"#m72efd0573d\" x=\"139.194546\" y=\"119.452275\" style=\"fill: #1f77b4; stroke: #1f77b4\"/>\n     <use xlink:href=\"#m72efd0573d\" x=\"104.285843\" y=\"40.012527\" style=\"fill: #1f77b4; stroke: #1f77b4\"/>\n     <use xlink:href=\"#m72efd0573d\" x=\"138.256903\" y=\"73.942\" style=\"fill: #1f77b4; stroke: #1f77b4\"/>\n     <use xlink:href=\"#m72efd0573d\" x=\"114.792139\" y=\"79.420899\" style=\"fill: #1f77b4; stroke: #1f77b4\"/>\n     <use xlink:href=\"#m72efd0573d\" x=\"122.349889\" y=\"79.813049\" style=\"fill: #1f77b4; stroke: #1f77b4\"/>\n     <use xlink:href=\"#m72efd0573d\" x=\"116.961245\" y=\"67.495287\" style=\"fill: #1f77b4; stroke: #1f77b4\"/>\n     <use xlink:href=\"#m72efd0573d\" x=\"101.444279\" y=\"71.500693\" style=\"fill: #1f77b4; stroke: #1f77b4\"/>\n     <use xlink:href=\"#m72efd0573d\" x=\"111.648159\" y=\"61.180294\" style=\"fill: #1f77b4; stroke: #1f77b4\"/>\n     <use xlink:href=\"#m72efd0573d\" x=\"132.832283\" y=\"100.337421\" style=\"fill: #1f77b4; stroke: #1f77b4\"/>\n     <use xlink:href=\"#m72efd0573d\" x=\"123.855796\" y=\"86.992616\" style=\"fill: #1f77b4; stroke: #1f77b4\"/>\n     <use xlink:href=\"#m72efd0573d\" x=\"132.93594\" y=\"68.431845\" style=\"fill: #1f77b4; stroke: #1f77b4\"/>\n     <use xlink:href=\"#m72efd0573d\" x=\"115.406452\" y=\"63.374475\" style=\"fill: #1f77b4; stroke: #1f77b4\"/>\n     <use xlink:href=\"#m72efd0573d\" x=\"119.395136\" y=\"72.728842\" style=\"fill: #1f77b4; stroke: #1f77b4\"/>\n     <use xlink:href=\"#m72efd0573d\" x=\"93.953374\" y=\"55.55689\" style=\"fill: #1f77b4; stroke: #1f77b4\"/>\n     <use xlink:href=\"#m72efd0573d\" x=\"141.839719\" y=\"98.155591\" style=\"fill: #1f77b4; stroke: #1f77b4\"/>\n     <use xlink:href=\"#m72efd0573d\" x=\"153.905938\" y=\"99.56612\" style=\"fill: #1f77b4; stroke: #1f77b4\"/>\n     <use xlink:href=\"#m72efd0573d\" x=\"98.882793\" y=\"74.604506\" style=\"fill: #1f77b4; stroke: #1f77b4\"/>\n     <use xlink:href=\"#m72efd0573d\" x=\"176.055564\" y=\"113.5901\" style=\"fill: #1f77b4; stroke: #1f77b4\"/>\n     <use xlink:href=\"#m72efd0573d\" x=\"121.090683\" y=\"61.944747\" style=\"fill: #1f77b4; stroke: #1f77b4\"/>\n     <use xlink:href=\"#m72efd0573d\" x=\"146.57521\" y=\"109.204494\" style=\"fill: #1f77b4; stroke: #1f77b4\"/>\n     <use xlink:href=\"#m72efd0573d\" x=\"172.096612\" y=\"110.76758\" style=\"fill: #1f77b4; stroke: #1f77b4\"/>\n     <use xlink:href=\"#m72efd0573d\" x=\"117.72215\" y=\"62.098445\" style=\"fill: #1f77b4; stroke: #1f77b4\"/>\n     <use xlink:href=\"#m72efd0573d\" x=\"81.069992\" y=\"57.206238\" style=\"fill: #1f77b4; stroke: #1f77b4\"/>\n     <use xlink:href=\"#m72efd0573d\" x=\"175.861358\" y=\"108.822521\" style=\"fill: #1f77b4; stroke: #1f77b4\"/>\n     <use xlink:href=\"#m72efd0573d\" x=\"166.011533\" y=\"97.204461\" style=\"fill: #1f77b4; stroke: #1f77b4\"/>\n     <use xlink:href=\"#m72efd0573d\" x=\"117.868321\" y=\"82.186893\" style=\"fill: #1f77b4; stroke: #1f77b4\"/>\n     <use xlink:href=\"#m72efd0573d\" x=\"111.312583\" y=\"74.231305\" style=\"fill: #1f77b4; stroke: #1f77b4\"/>\n     <use xlink:href=\"#m72efd0573d\" x=\"113.330634\" y=\"67.073858\" style=\"fill: #1f77b4; stroke: #1f77b4\"/>\n     <use xlink:href=\"#m72efd0573d\" x=\"150.819445\" y=\"114.468206\" style=\"fill: #1f77b4; stroke: #1f77b4\"/>\n     <use xlink:href=\"#m72efd0573d\" x=\"101.803856\" y=\"55.43437\" style=\"fill: #1f77b4; stroke: #1f77b4\"/>\n     <use xlink:href=\"#m72efd0573d\" x=\"142.632667\" y=\"80.624605\" style=\"fill: #1f77b4; stroke: #1f77b4\"/>\n     <use xlink:href=\"#m72efd0573d\" x=\"106.958311\" y=\"62.764849\" style=\"fill: #1f77b4; stroke: #1f77b4\"/>\n     <use xlink:href=\"#m72efd0573d\" x=\"99.644939\" y=\"77.868014\" style=\"fill: #1f77b4; stroke: #1f77b4\"/>\n     <use xlink:href=\"#m72efd0573d\" x=\"120.006419\" y=\"83.410997\" style=\"fill: #1f77b4; stroke: #1f77b4\"/>\n     <use xlink:href=\"#m72efd0573d\" x=\"131.523245\" y=\"86.940649\" style=\"fill: #1f77b4; stroke: #1f77b4\"/>\n     <use xlink:href=\"#m72efd0573d\" x=\"105.054541\" y=\"71.739497\" style=\"fill: #1f77b4; stroke: #1f77b4\"/>\n     <use xlink:href=\"#m72efd0573d\" x=\"101.91555\" y=\"61.674233\" style=\"fill: #1f77b4; stroke: #1f77b4\"/>\n     <use xlink:href=\"#m72efd0573d\" x=\"115.331449\" y=\"67.671647\" style=\"fill: #1f77b4; stroke: #1f77b4\"/>\n     <use xlink:href=\"#m72efd0573d\" x=\"173.96203\" y=\"116.081207\" style=\"fill: #1f77b4; stroke: #1f77b4\"/>\n     <use xlink:href=\"#m72efd0573d\" x=\"152.333835\" y=\"86.666884\" style=\"fill: #1f77b4; stroke: #1f77b4\"/>\n     <use xlink:href=\"#m72efd0573d\" x=\"76.759856\" y=\"46.005125\" style=\"fill: #1f77b4; stroke: #1f77b4\"/>\n     <use xlink:href=\"#m72efd0573d\" x=\"106.633824\" y=\"61.586332\" style=\"fill: #1f77b4; stroke: #1f77b4\"/>\n     <use xlink:href=\"#m72efd0573d\" x=\"140.612704\" y=\"92.413768\" style=\"fill: #1f77b4; stroke: #1f77b4\"/>\n     <use xlink:href=\"#m72efd0573d\" x=\"126.988965\" y=\"98.591362\" style=\"fill: #1f77b4; stroke: #1f77b4\"/>\n     <use xlink:href=\"#m72efd0573d\" x=\"135.156462\" y=\"96.265054\" style=\"fill: #1f77b4; stroke: #1f77b4\"/>\n     <use xlink:href=\"#m72efd0573d\" x=\"72.158501\" y=\"54.712414\" style=\"fill: #1f77b4; stroke: #1f77b4\"/>\n     <use xlink:href=\"#m72efd0573d\" x=\"77.929893\" y=\"56.395091\" style=\"fill: #1f77b4; stroke: #1f77b4\"/>\n     <use xlink:href=\"#m72efd0573d\" x=\"134.720415\" y=\"84.61956\" style=\"fill: #1f77b4; stroke: #1f77b4\"/>\n     <use xlink:href=\"#m72efd0573d\" x=\"121.462873\" y=\"90.643679\" style=\"fill: #1f77b4; stroke: #1f77b4\"/>\n     <use xlink:href=\"#m72efd0573d\" x=\"122.551385\" y=\"86.570092\" style=\"fill: #1f77b4; stroke: #1f77b4\"/>\n     <use xlink:href=\"#m72efd0573d\" x=\"81.713476\" y=\"67.347768\" style=\"fill: #1f77b4; stroke: #1f77b4\"/>\n     <use xlink:href=\"#m72efd0573d\" x=\"130.520367\" y=\"85.017014\" style=\"fill: #1f77b4; stroke: #1f77b4\"/>\n     <use xlink:href=\"#m72efd0573d\" x=\"121.55012\" y=\"81.806723\" style=\"fill: #1f77b4; stroke: #1f77b4\"/>\n     <use xlink:href=\"#m72efd0573d\" x=\"120.999849\" y=\"75.631896\" style=\"fill: #1f77b4; stroke: #1f77b4\"/>\n     <use xlink:href=\"#m72efd0573d\" x=\"185.665268\" y=\"117.693231\" style=\"fill: #1f77b4; stroke: #1f77b4\"/>\n     <use xlink:href=\"#m72efd0573d\" x=\"103.866648\" y=\"76.480302\" style=\"fill: #1f77b4; stroke: #1f77b4\"/>\n     <use xlink:href=\"#m72efd0573d\" x=\"186.629722\" y=\"125.186677\" style=\"fill: #1f77b4; stroke: #1f77b4\"/>\n     <use xlink:href=\"#m72efd0573d\" x=\"161.180749\" y=\"85.003947\" style=\"fill: #1f77b4; stroke: #1f77b4\"/>\n     <use xlink:href=\"#m72efd0573d\" x=\"108.159605\" y=\"62.351843\" style=\"fill: #1f77b4; stroke: #1f77b4\"/>\n     <use xlink:href=\"#m72efd0573d\" x=\"137.66631\" y=\"85.910804\" style=\"fill: #1f77b4; stroke: #1f77b4\"/>\n     <use xlink:href=\"#m72efd0573d\" x=\"100.357739\" y=\"68.531761\" style=\"fill: #1f77b4; stroke: #1f77b4\"/>\n     <use xlink:href=\"#m72efd0573d\" x=\"157.742617\" y=\"119.046356\" style=\"fill: #1f77b4; stroke: #1f77b4\"/>\n     <use xlink:href=\"#m72efd0573d\" x=\"92.733367\" y=\"65.777293\" style=\"fill: #1f77b4; stroke: #1f77b4\"/>\n     <use xlink:href=\"#m72efd0573d\" x=\"122.482483\" y=\"68.283844\" style=\"fill: #1f77b4; stroke: #1f77b4\"/>\n     <use xlink:href=\"#m72efd0573d\" x=\"161.527254\" y=\"101.466587\" style=\"fill: #1f77b4; stroke: #1f77b4\"/>\n     <use xlink:href=\"#m72efd0573d\" x=\"126.421238\" y=\"82.615229\" style=\"fill: #1f77b4; stroke: #1f77b4\"/>\n     <use xlink:href=\"#m72efd0573d\" x=\"144.389336\" y=\"86.596425\" style=\"fill: #1f77b4; stroke: #1f77b4\"/>\n     <use xlink:href=\"#m72efd0573d\" x=\"137.75041\" y=\"90.059839\" style=\"fill: #1f77b4; stroke: #1f77b4\"/>\n     <use xlink:href=\"#m72efd0573d\" x=\"161.728241\" y=\"88.995108\" style=\"fill: #1f77b4; stroke: #1f77b4\"/>\n     <use xlink:href=\"#m72efd0573d\" x=\"177.078289\" y=\"96.631913\" style=\"fill: #1f77b4; stroke: #1f77b4\"/>\n     <use xlink:href=\"#m72efd0573d\" x=\"95.402409\" y=\"62.223821\" style=\"fill: #1f77b4; stroke: #1f77b4\"/>\n     <use xlink:href=\"#m72efd0573d\" x=\"139.730714\" y=\"94.15572\" style=\"fill: #1f77b4; stroke: #1f77b4\"/>\n     <use xlink:href=\"#m72efd0573d\" x=\"133.859719\" y=\"87.228255\" style=\"fill: #1f77b4; stroke: #1f77b4\"/>\n     <use xlink:href=\"#m72efd0573d\" x=\"119.805498\" y=\"90.300499\" style=\"fill: #1f77b4; stroke: #1f77b4\"/>\n     <use xlink:href=\"#m72efd0573d\" x=\"101.077928\" y=\"83.26168\" style=\"fill: #1f77b4; stroke: #1f77b4\"/>\n     <use xlink:href=\"#m72efd0573d\" x=\"139.608956\" y=\"92.431496\" style=\"fill: #1f77b4; stroke: #1f77b4\"/>\n     <use xlink:href=\"#m72efd0573d\" x=\"122.650878\" y=\"82.785597\" style=\"fill: #1f77b4; stroke: #1f77b4\"/>\n     <use xlink:href=\"#m72efd0573d\" x=\"137.00852\" y=\"86.784301\" style=\"fill: #1f77b4; stroke: #1f77b4\"/>\n     <use xlink:href=\"#m72efd0573d\" x=\"146.534598\" y=\"68.77146\" style=\"fill: #1f77b4; stroke: #1f77b4\"/>\n     <use xlink:href=\"#m72efd0573d\" x=\"144.666497\" y=\"83.616278\" style=\"fill: #1f77b4; stroke: #1f77b4\"/>\n     <use xlink:href=\"#m72efd0573d\" x=\"153.452257\" y=\"94.07416\" style=\"fill: #1f77b4; stroke: #1f77b4\"/>\n     <use xlink:href=\"#m72efd0573d\" x=\"146.039535\" y=\"109.422359\" style=\"fill: #1f77b4; stroke: #1f77b4\"/>\n     <use xlink:href=\"#m72efd0573d\" x=\"144.899484\" y=\"103.0427\" style=\"fill: #1f77b4; stroke: #1f77b4\"/>\n     <use xlink:href=\"#m72efd0573d\" x=\"107.568636\" y=\"56.760303\" style=\"fill: #1f77b4; stroke: #1f77b4\"/>\n     <use xlink:href=\"#m72efd0573d\" x=\"135.744119\" y=\"99.788217\" style=\"fill: #1f77b4; stroke: #1f77b4\"/>\n     <use xlink:href=\"#m72efd0573d\" x=\"95.365714\" y=\"55.395703\" style=\"fill: #1f77b4; stroke: #1f77b4\"/>\n     <use xlink:href=\"#m72efd0573d\" x=\"123.573712\" y=\"69.657124\" style=\"fill: #1f77b4; stroke: #1f77b4\"/>\n     <use xlink:href=\"#m72efd0573d\" x=\"115.342362\" y=\"85.957366\" style=\"fill: #1f77b4; stroke: #1f77b4\"/>\n     <use xlink:href=\"#m72efd0573d\" x=\"134.375163\" y=\"82.506004\" style=\"fill: #1f77b4; stroke: #1f77b4\"/>\n     <use xlink:href=\"#m72efd0573d\" x=\"97.421601\" y=\"63.744676\" style=\"fill: #1f77b4; stroke: #1f77b4\"/>\n     <use xlink:href=\"#m72efd0573d\" x=\"134.027602\" y=\"89.660555\" style=\"fill: #1f77b4; stroke: #1f77b4\"/>\n     <use xlink:href=\"#m72efd0573d\" x=\"197.990882\" y=\"137.6954\" style=\"fill: #1f77b4; stroke: #1f77b4\"/>\n     <use xlink:href=\"#m72efd0573d\" x=\"138.980424\" y=\"106.56673\" style=\"fill: #1f77b4; stroke: #1f77b4\"/>\n     <use xlink:href=\"#m72efd0573d\" x=\"148.155354\" y=\"101.972018\" style=\"fill: #1f77b4; stroke: #1f77b4\"/>\n     <use xlink:href=\"#m72efd0573d\" x=\"108.607479\" y=\"66.963323\" style=\"fill: #1f77b4; stroke: #1f77b4\"/>\n     <use xlink:href=\"#m72efd0573d\" x=\"141.68196\" y=\"100.687132\" style=\"fill: #1f77b4; stroke: #1f77b4\"/>\n     <use xlink:href=\"#m72efd0573d\" x=\"107.421498\" y=\"60.517326\" style=\"fill: #1f77b4; stroke: #1f77b4\"/>\n     <use xlink:href=\"#m72efd0573d\" x=\"188.306947\" y=\"109.90681\" style=\"fill: #1f77b4; stroke: #1f77b4\"/>\n     <use xlink:href=\"#m72efd0573d\" x=\"159.077681\" y=\"80.527114\" style=\"fill: #1f77b4; stroke: #1f77b4\"/>\n     <use xlink:href=\"#m72efd0573d\" x=\"93.863218\" y=\"59.957526\" style=\"fill: #1f77b4; stroke: #1f77b4\"/>\n     <use xlink:href=\"#m72efd0573d\" x=\"129.446789\" y=\"76.803799\" style=\"fill: #1f77b4; stroke: #1f77b4\"/>\n     <use xlink:href=\"#m72efd0573d\" x=\"103.145313\" y=\"64.879685\" style=\"fill: #1f77b4; stroke: #1f77b4\"/>\n     <use xlink:href=\"#m72efd0573d\" x=\"135.355443\" y=\"110.008686\" style=\"fill: #1f77b4; stroke: #1f77b4\"/>\n     <use xlink:href=\"#m72efd0573d\" x=\"79.479232\" y=\"58.609771\" style=\"fill: #1f77b4; stroke: #1f77b4\"/>\n     <use xlink:href=\"#m72efd0573d\" x=\"148.454946\" y=\"85.286887\" style=\"fill: #1f77b4; stroke: #1f77b4\"/>\n     <use xlink:href=\"#m72efd0573d\" x=\"200.707863\" y=\"139.5\" style=\"fill: #1f77b4; stroke: #1f77b4\"/>\n     <use xlink:href=\"#m72efd0573d\" x=\"191.849533\" y=\"126.143212\" style=\"fill: #1f77b4; stroke: #1f77b4\"/>\n     <use xlink:href=\"#m72efd0573d\" x=\"118.942451\" y=\"74.621877\" style=\"fill: #1f77b4; stroke: #1f77b4\"/>\n     <use xlink:href=\"#m72efd0573d\" x=\"112.566162\" y=\"92.725998\" style=\"fill: #1f77b4; stroke: #1f77b4\"/>\n     <use xlink:href=\"#m72efd0573d\" x=\"119.050598\" y=\"82.206848\" style=\"fill: #1f77b4; stroke: #1f77b4\"/>\n     <use xlink:href=\"#m72efd0573d\" x=\"150.732356\" y=\"107.492581\" style=\"fill: #1f77b4; stroke: #1f77b4\"/>\n     <use xlink:href=\"#m72efd0573d\" x=\"157.256597\" y=\"90.657445\" style=\"fill: #1f77b4; stroke: #1f77b4\"/>\n     <use xlink:href=\"#m72efd0573d\" x=\"175.760478\" y=\"112.676595\" style=\"fill: #1f77b4; stroke: #1f77b4\"/>\n     <use xlink:href=\"#m72efd0573d\" x=\"112.944156\" y=\"61.983868\" style=\"fill: #1f77b4; stroke: #1f77b4\"/>\n     <use xlink:href=\"#m72efd0573d\" x=\"142.840948\" y=\"79.006819\" style=\"fill: #1f77b4; stroke: #1f77b4\"/>\n     <use xlink:href=\"#m72efd0573d\" x=\"115.437729\" y=\"77.249176\" style=\"fill: #1f77b4; stroke: #1f77b4\"/>\n     <use xlink:href=\"#m72efd0573d\" x=\"113.674633\" y=\"82.28876\" style=\"fill: #1f77b4; stroke: #1f77b4\"/>\n     <use xlink:href=\"#m72efd0573d\" x=\"108.162887\" y=\"85.313358\" style=\"fill: #1f77b4; stroke: #1f77b4\"/>\n     <use xlink:href=\"#m72efd0573d\" x=\"170.780923\" y=\"116.902336\" style=\"fill: #1f77b4; stroke: #1f77b4\"/>\n     <use xlink:href=\"#m72efd0573d\" x=\"161.855592\" y=\"110.032493\" style=\"fill: #1f77b4; stroke: #1f77b4\"/>\n     <use xlink:href=\"#m72efd0573d\" x=\"139.113702\" y=\"86.047315\" style=\"fill: #1f77b4; stroke: #1f77b4\"/>\n     <use xlink:href=\"#m72efd0573d\" x=\"160.822242\" y=\"96.57467\" style=\"fill: #1f77b4; stroke: #1f77b4\"/>\n     <use xlink:href=\"#m72efd0573d\" x=\"116.501052\" y=\"59.150148\" style=\"fill: #1f77b4; stroke: #1f77b4\"/>\n     <use xlink:href=\"#m72efd0573d\" x=\"83.900444\" y=\"51.063347\" style=\"fill: #1f77b4; stroke: #1f77b4\"/>\n     <use xlink:href=\"#m72efd0573d\" x=\"75.766698\" y=\"47.500891\" style=\"fill: #1f77b4; stroke: #1f77b4\"/>\n     <use xlink:href=\"#m72efd0573d\" x=\"126.389452\" y=\"95.087474\" style=\"fill: #1f77b4; stroke: #1f77b4\"/>\n     <use xlink:href=\"#m72efd0573d\" x=\"143.759691\" y=\"88.295052\" style=\"fill: #1f77b4; stroke: #1f77b4\"/>\n     <use xlink:href=\"#m72efd0573d\" x=\"117.091366\" y=\"75.513217\" style=\"fill: #1f77b4; stroke: #1f77b4\"/>\n     <use xlink:href=\"#m72efd0573d\" x=\"125.461233\" y=\"83.817\" style=\"fill: #1f77b4; stroke: #1f77b4\"/>\n     <use xlink:href=\"#m72efd0573d\" x=\"168.418818\" y=\"108.94548\" style=\"fill: #1f77b4; stroke: #1f77b4\"/>\n     <use xlink:href=\"#m72efd0573d\" x=\"174.915085\" y=\"106.021468\" style=\"fill: #1f77b4; stroke: #1f77b4\"/>\n     <use xlink:href=\"#m72efd0573d\" x=\"115.842426\" y=\"72.287762\" style=\"fill: #1f77b4; stroke: #1f77b4\"/>\n     <use xlink:href=\"#m72efd0573d\" x=\"113.45542\" y=\"77.181766\" style=\"fill: #1f77b4; stroke: #1f77b4\"/>\n     <use xlink:href=\"#m72efd0573d\" x=\"124.59463\" y=\"92.090143\" style=\"fill: #1f77b4; stroke: #1f77b4\"/>\n     <use xlink:href=\"#m72efd0573d\" x=\"141.737938\" y=\"89.902392\" style=\"fill: #1f77b4; stroke: #1f77b4\"/>\n     <use xlink:href=\"#m72efd0573d\" x=\"189.087121\" y=\"110.253804\" style=\"fill: #1f77b4; stroke: #1f77b4\"/>\n     <use xlink:href=\"#m72efd0573d\" x=\"146.053624\" y=\"94.589493\" style=\"fill: #1f77b4; stroke: #1f77b4\"/>\n     <use xlink:href=\"#m72efd0573d\" x=\"147.913855\" y=\"96.635267\" style=\"fill: #1f77b4; stroke: #1f77b4\"/>\n     <use xlink:href=\"#m72efd0573d\" x=\"130.661055\" y=\"76.942489\" style=\"fill: #1f77b4; stroke: #1f77b4\"/>\n     <use xlink:href=\"#m72efd0573d\" x=\"118.539147\" y=\"78.217132\" style=\"fill: #1f77b4; stroke: #1f77b4\"/>\n     <use xlink:href=\"#m72efd0573d\" x=\"146.260398\" y=\"97.275336\" style=\"fill: #1f77b4; stroke: #1f77b4\"/>\n     <use xlink:href=\"#m72efd0573d\" x=\"191.563521\" y=\"126.667625\" style=\"fill: #1f77b4; stroke: #1f77b4\"/>\n     <use xlink:href=\"#m72efd0573d\" x=\"127.677039\" y=\"80.187614\" style=\"fill: #1f77b4; stroke: #1f77b4\"/>\n     <use xlink:href=\"#m72efd0573d\" x=\"95.611922\" y=\"54.828145\" style=\"fill: #1f77b4; stroke: #1f77b4\"/>\n     <use xlink:href=\"#m72efd0573d\" x=\"132.255534\" y=\"96.118867\" style=\"fill: #1f77b4; stroke: #1f77b4\"/>\n     <use xlink:href=\"#m72efd0573d\" x=\"124.682251\" y=\"71.797613\" style=\"fill: #1f77b4; stroke: #1f77b4\"/>\n     <use xlink:href=\"#m72efd0573d\" x=\"126.840589\" y=\"81.330596\" style=\"fill: #1f77b4; stroke: #1f77b4\"/>\n     <use xlink:href=\"#m72efd0573d\" x=\"123.59635\" y=\"75.227825\" style=\"fill: #1f77b4; stroke: #1f77b4\"/>\n     <use xlink:href=\"#m72efd0573d\" x=\"127.086983\" y=\"88.285034\" style=\"fill: #1f77b4; stroke: #1f77b4\"/>\n     <use xlink:href=\"#m72efd0573d\" x=\"127.382124\" y=\"94.864075\" style=\"fill: #1f77b4; stroke: #1f77b4\"/>\n     <use xlink:href=\"#m72efd0573d\" x=\"150.333736\" y=\"90.937045\" style=\"fill: #1f77b4; stroke: #1f77b4\"/>\n     <use xlink:href=\"#m72efd0573d\" x=\"141.991123\" y=\"94.582236\" style=\"fill: #1f77b4; stroke: #1f77b4\"/>\n     <use xlink:href=\"#m72efd0573d\" x=\"150.356696\" y=\"98.063503\" style=\"fill: #1f77b4; stroke: #1f77b4\"/>\n     <use xlink:href=\"#m72efd0573d\" x=\"122.747433\" y=\"87.635167\" style=\"fill: #1f77b4; stroke: #1f77b4\"/>\n     <use xlink:href=\"#m72efd0573d\" x=\"139.679832\" y=\"89.992454\" style=\"fill: #1f77b4; stroke: #1f77b4\"/>\n     <use xlink:href=\"#m72efd0573d\" x=\"129.210921\" y=\"76.685834\" style=\"fill: #1f77b4; stroke: #1f77b4\"/>\n     <use xlink:href=\"#m72efd0573d\" x=\"171.198601\" y=\"109.345726\" style=\"fill: #1f77b4; stroke: #1f77b4\"/>\n     <use xlink:href=\"#m72efd0573d\" x=\"128.223837\" y=\"68.529155\" style=\"fill: #1f77b4; stroke: #1f77b4\"/>\n     <use xlink:href=\"#m72efd0573d\" x=\"112.35823\" y=\"49.370091\" style=\"fill: #1f77b4; stroke: #1f77b4\"/>\n     <use xlink:href=\"#m72efd0573d\" x=\"128.132944\" y=\"73.970811\" style=\"fill: #1f77b4; stroke: #1f77b4\"/>\n     <use xlink:href=\"#m72efd0573d\" x=\"130.90479\" y=\"80.103718\" style=\"fill: #1f77b4; stroke: #1f77b4\"/>\n     <use xlink:href=\"#m72efd0573d\" x=\"172.724371\" y=\"120.479743\" style=\"fill: #1f77b4; stroke: #1f77b4\"/>\n     <use xlink:href=\"#m72efd0573d\" x=\"131.328299\" y=\"63.892713\" style=\"fill: #1f77b4; stroke: #1f77b4\"/>\n     <use xlink:href=\"#m72efd0573d\" x=\"118.173297\" y=\"86.099093\" style=\"fill: #1f77b4; stroke: #1f77b4\"/>\n     <use xlink:href=\"#m72efd0573d\" x=\"96.594187\" y=\"59.530264\" style=\"fill: #1f77b4; stroke: #1f77b4\"/>\n     <use xlink:href=\"#m72efd0573d\" x=\"107.103008\" y=\"60.742418\" style=\"fill: #1f77b4; stroke: #1f77b4\"/>\n     <use xlink:href=\"#m72efd0573d\" x=\"134.236497\" y=\"104.902182\" style=\"fill: #1f77b4; stroke: #1f77b4\"/>\n     <use xlink:href=\"#m72efd0573d\" x=\"124.964268\" y=\"85.034107\" style=\"fill: #1f77b4; stroke: #1f77b4\"/>\n     <use xlink:href=\"#m72efd0573d\" x=\"138.571957\" y=\"75.955481\" style=\"fill: #1f77b4; stroke: #1f77b4\"/>\n     <use xlink:href=\"#m72efd0573d\" x=\"125.075424\" y=\"83.071156\" style=\"fill: #1f77b4; stroke: #1f77b4\"/>\n     <use xlink:href=\"#m72efd0573d\" x=\"129.663771\" y=\"86.449127\" style=\"fill: #1f77b4; stroke: #1f77b4\"/>\n     <use xlink:href=\"#m72efd0573d\" x=\"130.122769\" y=\"75.7929\" style=\"fill: #1f77b4; stroke: #1f77b4\"/>\n     <use xlink:href=\"#m72efd0573d\" x=\"98.169162\" y=\"64.432421\" style=\"fill: #1f77b4; stroke: #1f77b4\"/>\n     <use xlink:href=\"#m72efd0573d\" x=\"89.536325\" y=\"81.764203\" style=\"fill: #1f77b4; stroke: #1f77b4\"/>\n     <use xlink:href=\"#m72efd0573d\" x=\"122.917177\" y=\"80.159122\" style=\"fill: #1f77b4; stroke: #1f77b4\"/>\n     <use xlink:href=\"#m72efd0573d\" x=\"101.417171\" y=\"75.565994\" style=\"fill: #1f77b4; stroke: #1f77b4\"/>\n     <use xlink:href=\"#m72efd0573d\" x=\"131.62089\" y=\"79.436094\" style=\"fill: #1f77b4; stroke: #1f77b4\"/>\n     <use xlink:href=\"#m72efd0573d\" x=\"114.526185\" y=\"85.55933\" style=\"fill: #1f77b4; stroke: #1f77b4\"/>\n     <use xlink:href=\"#m72efd0573d\" x=\"111.440614\" y=\"58.363519\" style=\"fill: #1f77b4; stroke: #1f77b4\"/>\n     <use xlink:href=\"#m72efd0573d\" x=\"119.38354\" y=\"78.65186\" style=\"fill: #1f77b4; stroke: #1f77b4\"/>\n     <use xlink:href=\"#m72efd0573d\" x=\"120.079814\" y=\"77.78984\" style=\"fill: #1f77b4; stroke: #1f77b4\"/>\n     <use xlink:href=\"#m72efd0573d\" x=\"148.015665\" y=\"88.88426\" style=\"fill: #1f77b4; stroke: #1f77b4\"/>\n     <use xlink:href=\"#m72efd0573d\" x=\"124.609921\" y=\"75.748371\" style=\"fill: #1f77b4; stroke: #1f77b4\"/>\n     <use xlink:href=\"#m72efd0573d\" x=\"108.133583\" y=\"76.264632\" style=\"fill: #1f77b4; stroke: #1f77b4\"/>\n     <use xlink:href=\"#m72efd0573d\" x=\"83.635422\" y=\"51.991525\" style=\"fill: #1f77b4; stroke: #1f77b4\"/>\n     <use xlink:href=\"#m72efd0573d\" x=\"140.600016\" y=\"98.018595\" style=\"fill: #1f77b4; stroke: #1f77b4\"/>\n     <use xlink:href=\"#m72efd0573d\" x=\"156.01087\" y=\"102.505561\" style=\"fill: #1f77b4; stroke: #1f77b4\"/>\n     <use xlink:href=\"#m72efd0573d\" x=\"131.85898\" y=\"84.155943\" style=\"fill: #1f77b4; stroke: #1f77b4\"/>\n     <use xlink:href=\"#m72efd0573d\" x=\"138.531597\" y=\"96.757418\" style=\"fill: #1f77b4; stroke: #1f77b4\"/>\n     <use xlink:href=\"#m72efd0573d\" x=\"144.709054\" y=\"85.545221\" style=\"fill: #1f77b4; stroke: #1f77b4\"/>\n     <use xlink:href=\"#m72efd0573d\" x=\"123.817744\" y=\"70.790131\" style=\"fill: #1f77b4; stroke: #1f77b4\"/>\n     <use xlink:href=\"#m72efd0573d\" x=\"93.450278\" y=\"66.044608\" style=\"fill: #1f77b4; stroke: #1f77b4\"/>\n     <use xlink:href=\"#m72efd0573d\" x=\"83.618273\" y=\"46.326949\" style=\"fill: #1f77b4; stroke: #1f77b4\"/>\n     <use xlink:href=\"#m72efd0573d\" x=\"113.648396\" y=\"70.897567\" style=\"fill: #1f77b4; stroke: #1f77b4\"/>\n     <use xlink:href=\"#m72efd0573d\" x=\"113.792722\" y=\"64.048149\" style=\"fill: #1f77b4; stroke: #1f77b4\"/>\n     <use xlink:href=\"#m72efd0573d\" x=\"112.508353\" y=\"72.65441\" style=\"fill: #1f77b4; stroke: #1f77b4\"/>\n     <use xlink:href=\"#m72efd0573d\" x=\"148.430124\" y=\"100.116996\" style=\"fill: #1f77b4; stroke: #1f77b4\"/>\n     <use xlink:href=\"#m72efd0573d\" x=\"150.011773\" y=\"81.716471\" style=\"fill: #1f77b4; stroke: #1f77b4\"/>\n     <use xlink:href=\"#m72efd0573d\" x=\"150.161718\" y=\"95.070265\" style=\"fill: #1f77b4; stroke: #1f77b4\"/>\n     <use xlink:href=\"#m72efd0573d\" x=\"137.138608\" y=\"88.540272\" style=\"fill: #1f77b4; stroke: #1f77b4\"/>\n     <use xlink:href=\"#m72efd0573d\" x=\"143.495594\" y=\"90.787088\" style=\"fill: #1f77b4; stroke: #1f77b4\"/>\n     <use xlink:href=\"#m72efd0573d\" x=\"151.899126\" y=\"110.502405\" style=\"fill: #1f77b4; stroke: #1f77b4\"/>\n     <use xlink:href=\"#m72efd0573d\" x=\"131.284777\" y=\"99.069824\" style=\"fill: #1f77b4; stroke: #1f77b4\"/>\n     <use xlink:href=\"#m72efd0573d\" x=\"126.03337\" y=\"87.188763\" style=\"fill: #1f77b4; stroke: #1f77b4\"/>\n     <use xlink:href=\"#m72efd0573d\" x=\"86.864808\" y=\"54.04824\" style=\"fill: #1f77b4; stroke: #1f77b4\"/>\n     <use xlink:href=\"#m72efd0573d\" x=\"138.797554\" y=\"96.146581\" style=\"fill: #1f77b4; stroke: #1f77b4\"/>\n     <use xlink:href=\"#m72efd0573d\" x=\"139.509675\" y=\"82.200812\" style=\"fill: #1f77b4; stroke: #1f77b4\"/>\n     <use xlink:href=\"#m72efd0573d\" x=\"124.884463\" y=\"84.043469\" style=\"fill: #1f77b4; stroke: #1f77b4\"/>\n     <use xlink:href=\"#m72efd0573d\" x=\"143.391176\" y=\"89.210328\" style=\"fill: #1f77b4; stroke: #1f77b4\"/>\n     <use xlink:href=\"#m72efd0573d\" x=\"117.122665\" y=\"68.757861\" style=\"fill: #1f77b4; stroke: #1f77b4\"/>\n     <use xlink:href=\"#m72efd0573d\" x=\"138.75228\" y=\"94.997748\" style=\"fill: #1f77b4; stroke: #1f77b4\"/>\n     <use xlink:href=\"#m72efd0573d\" x=\"167.011596\" y=\"107.305347\" style=\"fill: #1f77b4; stroke: #1f77b4\"/>\n     <use xlink:href=\"#m72efd0573d\" x=\"160.133177\" y=\"86.419266\" style=\"fill: #1f77b4; stroke: #1f77b4\"/>\n     <use xlink:href=\"#m72efd0573d\" x=\"95.231298\" y=\"64.696905\" style=\"fill: #1f77b4; stroke: #1f77b4\"/>\n     <use xlink:href=\"#m72efd0573d\" x=\"114.99174\" y=\"80.464049\" style=\"fill: #1f77b4; stroke: #1f77b4\"/>\n     <use xlink:href=\"#m72efd0573d\" x=\"149.791191\" y=\"100.896705\" style=\"fill: #1f77b4; stroke: #1f77b4\"/>\n     <use xlink:href=\"#m72efd0573d\" x=\"148.478162\" y=\"82.963025\" style=\"fill: #1f77b4; stroke: #1f77b4\"/>\n     <use xlink:href=\"#m72efd0573d\" x=\"124.310683\" y=\"76.60223\" style=\"fill: #1f77b4; stroke: #1f77b4\"/>\n     <use xlink:href=\"#m72efd0573d\" x=\"122.228586\" y=\"79.513694\" style=\"fill: #1f77b4; stroke: #1f77b4\"/>\n     <use xlink:href=\"#m72efd0573d\" x=\"96.82726\" y=\"68.48923\" style=\"fill: #1f77b4; stroke: #1f77b4\"/>\n     <use xlink:href=\"#m72efd0573d\" x=\"112.943094\" y=\"81.687077\" style=\"fill: #1f77b4; stroke: #1f77b4\"/>\n     <use xlink:href=\"#m72efd0573d\" x=\"149.511809\" y=\"90.316757\" style=\"fill: #1f77b4; stroke: #1f77b4\"/>\n     <use xlink:href=\"#m72efd0573d\" x=\"113.277511\" y=\"89.113334\" style=\"fill: #1f77b4; stroke: #1f77b4\"/>\n     <use xlink:href=\"#m72efd0573d\" x=\"113.456333\" y=\"68.13966\" style=\"fill: #1f77b4; stroke: #1f77b4\"/>\n     <use xlink:href=\"#m72efd0573d\" x=\"137.783011\" y=\"95.515479\" style=\"fill: #1f77b4; stroke: #1f77b4\"/>\n     <use xlink:href=\"#m72efd0573d\" x=\"127.860247\" y=\"92.162694\" style=\"fill: #1f77b4; stroke: #1f77b4\"/>\n     <use xlink:href=\"#m72efd0573d\" x=\"118.705766\" y=\"78.776387\" style=\"fill: #1f77b4; stroke: #1f77b4\"/>\n     <use xlink:href=\"#m72efd0573d\" x=\"171.522952\" y=\"101.705224\" style=\"fill: #1f77b4; stroke: #1f77b4\"/>\n     <use xlink:href=\"#m72efd0573d\" x=\"141.380124\" y=\"90.263494\" style=\"fill: #1f77b4; stroke: #1f77b4\"/>\n     <use xlink:href=\"#m72efd0573d\" x=\"70.306078\" y=\"59.602674\" style=\"fill: #1f77b4; stroke: #1f77b4\"/>\n     <use xlink:href=\"#m72efd0573d\" x=\"97.994436\" y=\"55.244149\" style=\"fill: #1f77b4; stroke: #1f77b4\"/>\n     <use xlink:href=\"#m72efd0573d\" x=\"97.534014\" y=\"71.162975\" style=\"fill: #1f77b4; stroke: #1f77b4\"/>\n     <use xlink:href=\"#m72efd0573d\" x=\"123.276117\" y=\"75.158985\" style=\"fill: #1f77b4; stroke: #1f77b4\"/>\n     <use xlink:href=\"#m72efd0573d\" x=\"133.105493\" y=\"84.99687\" style=\"fill: #1f77b4; stroke: #1f77b4\"/>\n     <use xlink:href=\"#m72efd0573d\" x=\"145.910523\" y=\"88.09881\" style=\"fill: #1f77b4; stroke: #1f77b4\"/>\n     <use xlink:href=\"#m72efd0573d\" x=\"129.48678\" y=\"79.073332\" style=\"fill: #1f77b4; stroke: #1f77b4\"/>\n     <use xlink:href=\"#m72efd0573d\" x=\"148.822667\" y=\"80.235592\" style=\"fill: #1f77b4; stroke: #1f77b4\"/>\n     <use xlink:href=\"#m72efd0573d\" x=\"147.102493\" y=\"90.243208\" style=\"fill: #1f77b4; stroke: #1f77b4\"/>\n     <use xlink:href=\"#m72efd0573d\" x=\"118.270483\" y=\"63.548875\" style=\"fill: #1f77b4; stroke: #1f77b4\"/>\n     <use xlink:href=\"#m72efd0573d\" x=\"88.331584\" y=\"47.105249\" style=\"fill: #1f77b4; stroke: #1f77b4\"/>\n     <use xlink:href=\"#m72efd0573d\" x=\"122.481454\" y=\"74.381253\" style=\"fill: #1f77b4; stroke: #1f77b4\"/>\n     <use xlink:href=\"#m72efd0573d\" x=\"151.061909\" y=\"96.042676\" style=\"fill: #1f77b4; stroke: #1f77b4\"/>\n     <use xlink:href=\"#m72efd0573d\" x=\"135.148877\" y=\"96.428255\" style=\"fill: #1f77b4; stroke: #1f77b4\"/>\n     <use xlink:href=\"#m72efd0573d\" x=\"86.16163\" y=\"45.622894\" style=\"fill: #1f77b4; stroke: #1f77b4\"/>\n     <use xlink:href=\"#m72efd0573d\" x=\"110.658351\" y=\"58.174747\" style=\"fill: #1f77b4; stroke: #1f77b4\"/>\n     <use xlink:href=\"#m72efd0573d\" x=\"177.001121\" y=\"113.627542\" style=\"fill: #1f77b4; stroke: #1f77b4\"/>\n     <use xlink:href=\"#m72efd0573d\" x=\"154.747626\" y=\"103.948096\" style=\"fill: #1f77b4; stroke: #1f77b4\"/>\n     <use xlink:href=\"#m72efd0573d\" x=\"104.873607\" y=\"55.299936\" style=\"fill: #1f77b4; stroke: #1f77b4\"/>\n     <use xlink:href=\"#m72efd0573d\" x=\"146.701834\" y=\"90.079581\" style=\"fill: #1f77b4; stroke: #1f77b4\"/>\n     <use xlink:href=\"#m72efd0573d\" x=\"120.507091\" y=\"89.658577\" style=\"fill: #1f77b4; stroke: #1f77b4\"/>\n     <use xlink:href=\"#m72efd0573d\" x=\"160.344152\" y=\"98.116289\" style=\"fill: #1f77b4; stroke: #1f77b4\"/>\n     <use xlink:href=\"#m72efd0573d\" x=\"95.54237\" y=\"64.806305\" style=\"fill: #1f77b4; stroke: #1f77b4\"/>\n     <use xlink:href=\"#m72efd0573d\" x=\"124.758332\" y=\"80.720005\" style=\"fill: #1f77b4; stroke: #1f77b4\"/>\n     <use xlink:href=\"#m72efd0573d\" x=\"164.138478\" y=\"104.829809\" style=\"fill: #1f77b4; stroke: #1f77b4\"/>\n     <use xlink:href=\"#m72efd0573d\" x=\"115.712711\" y=\"66.4397\" style=\"fill: #1f77b4; stroke: #1f77b4\"/>\n     <use xlink:href=\"#m72efd0573d\" x=\"160.854105\" y=\"107.235009\" style=\"fill: #1f77b4; stroke: #1f77b4\"/>\n     <use xlink:href=\"#m72efd0573d\" x=\"124.974381\" y=\"72.138252\" style=\"fill: #1f77b4; stroke: #1f77b4\"/>\n     <use xlink:href=\"#m72efd0573d\" x=\"141.520451\" y=\"90.828635\" style=\"fill: #1f77b4; stroke: #1f77b4\"/>\n     <use xlink:href=\"#m72efd0573d\" x=\"122.860892\" y=\"72.497372\" style=\"fill: #1f77b4; stroke: #1f77b4\"/>\n     <use xlink:href=\"#m72efd0573d\" x=\"163.969902\" y=\"100.181341\" style=\"fill: #1f77b4; stroke: #1f77b4\"/>\n     <use xlink:href=\"#m72efd0573d\" x=\"145.695659\" y=\"91.905743\" style=\"fill: #1f77b4; stroke: #1f77b4\"/>\n     <use xlink:href=\"#m72efd0573d\" x=\"159.497519\" y=\"90.311498\" style=\"fill: #1f77b4; stroke: #1f77b4\"/>\n     <use xlink:href=\"#m72efd0573d\" x=\"148.385014\" y=\"105.509653\" style=\"fill: #1f77b4; stroke: #1f77b4\"/>\n     <use xlink:href=\"#m72efd0573d\" x=\"160.850828\" y=\"119.807868\" style=\"fill: #1f77b4; stroke: #1f77b4\"/>\n     <use xlink:href=\"#m72efd0573d\" x=\"178.485584\" y=\"117.382065\" style=\"fill: #1f77b4; stroke: #1f77b4\"/>\n     <use xlink:href=\"#m72efd0573d\" x=\"101.019992\" y=\"56.473102\" style=\"fill: #1f77b4; stroke: #1f77b4\"/>\n     <use xlink:href=\"#m72efd0573d\" x=\"202.700466\" y=\"117.909492\" style=\"fill: #1f77b4; stroke: #1f77b4\"/>\n     <use xlink:href=\"#m72efd0573d\" x=\"130.757378\" y=\"91.166771\" style=\"fill: #1f77b4; stroke: #1f77b4\"/>\n     <use xlink:href=\"#m72efd0573d\" x=\"106.118679\" y=\"80.731046\" style=\"fill: #1f77b4; stroke: #1f77b4\"/>\n     <use xlink:href=\"#m72efd0573d\" x=\"120.059756\" y=\"76.932222\" style=\"fill: #1f77b4; stroke: #1f77b4\"/>\n     <use xlink:href=\"#m72efd0573d\" x=\"151.014912\" y=\"102.606781\" style=\"fill: #1f77b4; stroke: #1f77b4\"/>\n     <use xlink:href=\"#m72efd0573d\" x=\"111.289746\" y=\"70.416954\" style=\"fill: #1f77b4; stroke: #1f77b4\"/>\n     <use xlink:href=\"#m72efd0573d\" x=\"146.626905\" y=\"104.036876\" style=\"fill: #1f77b4; stroke: #1f77b4\"/>\n     <use xlink:href=\"#m72efd0573d\" x=\"116.323866\" y=\"89.161367\" style=\"fill: #1f77b4; stroke: #1f77b4\"/>\n     <use xlink:href=\"#m72efd0573d\" x=\"137.409442\" y=\"88.26945\" style=\"fill: #1f77b4; stroke: #1f77b4\"/>\n     <use xlink:href=\"#m72efd0573d\" x=\"116.714536\" y=\"68.413714\" style=\"fill: #1f77b4; stroke: #1f77b4\"/>\n     <use xlink:href=\"#m72efd0573d\" x=\"197.293291\" y=\"117.614052\" style=\"fill: #1f77b4; stroke: #1f77b4\"/>\n     <use xlink:href=\"#m72efd0573d\" x=\"151.181065\" y=\"93.477205\" style=\"fill: #1f77b4; stroke: #1f77b4\"/>\n     <use xlink:href=\"#m72efd0573d\" x=\"131.554635\" y=\"88.657207\" style=\"fill: #1f77b4; stroke: #1f77b4\"/>\n     <use xlink:href=\"#m72efd0573d\" x=\"115.427618\" y=\"67.660539\" style=\"fill: #1f77b4; stroke: #1f77b4\"/>\n     <use xlink:href=\"#m72efd0573d\" x=\"124.610456\" y=\"79.843945\" style=\"fill: #1f77b4; stroke: #1f77b4\"/>\n     <use xlink:href=\"#m72efd0573d\" x=\"99.321936\" y=\"77.137404\" style=\"fill: #1f77b4; stroke: #1f77b4\"/>\n     <use xlink:href=\"#m72efd0573d\" x=\"110.021603\" y=\"59.528201\" style=\"fill: #1f77b4; stroke: #1f77b4\"/>\n     <use xlink:href=\"#m72efd0573d\" x=\"119.287885\" y=\"78.394306\" style=\"fill: #1f77b4; stroke: #1f77b4\"/>\n     <use xlink:href=\"#m72efd0573d\" x=\"112.519864\" y=\"74.282195\" style=\"fill: #1f77b4; stroke: #1f77b4\"/>\n     <use xlink:href=\"#m72efd0573d\" x=\"116.279708\" y=\"68.453082\" style=\"fill: #1f77b4; stroke: #1f77b4\"/>\n     <use xlink:href=\"#m72efd0573d\" x=\"150.634566\" y=\"81.604438\" style=\"fill: #1f77b4; stroke: #1f77b4\"/>\n     <use xlink:href=\"#m72efd0573d\" x=\"147.075943\" y=\"98.834985\" style=\"fill: #1f77b4; stroke: #1f77b4\"/>\n     <use xlink:href=\"#m72efd0573d\" x=\"177.844343\" y=\"106.086003\" style=\"fill: #1f77b4; stroke: #1f77b4\"/>\n     <use xlink:href=\"#m72efd0573d\" x=\"127.208831\" y=\"84.184089\" style=\"fill: #1f77b4; stroke: #1f77b4\"/>\n     <use xlink:href=\"#m72efd0573d\" x=\"128.794417\" y=\"81.918872\" style=\"fill: #1f77b4; stroke: #1f77b4\"/>\n     <use xlink:href=\"#m72efd0573d\" x=\"123.916129\" y=\"83.39407\" style=\"fill: #1f77b4; stroke: #1f77b4\"/>\n     <use xlink:href=\"#m72efd0573d\" x=\"127.844451\" y=\"74.98472\" style=\"fill: #1f77b4; stroke: #1f77b4\"/>\n     <use xlink:href=\"#m72efd0573d\" x=\"137.501005\" y=\"84.180326\" style=\"fill: #1f77b4; stroke: #1f77b4\"/>\n     <use xlink:href=\"#m72efd0573d\" x=\"96.223424\" y=\"68.267311\" style=\"fill: #1f77b4; stroke: #1f77b4\"/>\n     <use xlink:href=\"#m72efd0573d\" x=\"93.49306\" y=\"78.989229\" style=\"fill: #1f77b4; stroke: #1f77b4\"/>\n     <use xlink:href=\"#m72efd0573d\" x=\"156.482207\" y=\"109.509204\" style=\"fill: #1f77b4; stroke: #1f77b4\"/>\n     <use xlink:href=\"#m72efd0573d\" x=\"130.278017\" y=\"88.876131\" style=\"fill: #1f77b4; stroke: #1f77b4\"/>\n     <use xlink:href=\"#m72efd0573d\" x=\"146.918462\" y=\"103.837355\" style=\"fill: #1f77b4; stroke: #1f77b4\"/>\n     <use xlink:href=\"#m72efd0573d\" x=\"95.679053\" y=\"55.022723\" style=\"fill: #1f77b4; stroke: #1f77b4\"/>\n     <use xlink:href=\"#m72efd0573d\" x=\"111.116864\" y=\"74.981639\" style=\"fill: #1f77b4; stroke: #1f77b4\"/>\n     <use xlink:href=\"#m72efd0573d\" x=\"98.730248\" y=\"56.706532\" style=\"fill: #1f77b4; stroke: #1f77b4\"/>\n     <use xlink:href=\"#m72efd0573d\" x=\"141.360394\" y=\"99.397897\" style=\"fill: #1f77b4; stroke: #1f77b4\"/>\n     <use xlink:href=\"#m72efd0573d\" x=\"117.090094\" y=\"70.348948\" style=\"fill: #1f77b4; stroke: #1f77b4\"/>\n     <use xlink:href=\"#m72efd0573d\" x=\"116.678378\" y=\"78.168283\" style=\"fill: #1f77b4; stroke: #1f77b4\"/>\n     <use xlink:href=\"#m72efd0573d\" x=\"93.400094\" y=\"60.565252\" style=\"fill: #1f77b4; stroke: #1f77b4\"/>\n     <use xlink:href=\"#m72efd0573d\" x=\"177.140041\" y=\"102.289596\" style=\"fill: #1f77b4; stroke: #1f77b4\"/>\n     <use xlink:href=\"#m72efd0573d\" x=\"133.906332\" y=\"92.692146\" style=\"fill: #1f77b4; stroke: #1f77b4\"/>\n     <use xlink:href=\"#m72efd0573d\" x=\"121.723682\" y=\"86.138721\" style=\"fill: #1f77b4; stroke: #1f77b4\"/>\n     <use xlink:href=\"#m72efd0573d\" x=\"122.646349\" y=\"77.429932\" style=\"fill: #1f77b4; stroke: #1f77b4\"/>\n     <use xlink:href=\"#m72efd0573d\" x=\"105.506172\" y=\"80.344838\" style=\"fill: #1f77b4; stroke: #1f77b4\"/>\n     <use xlink:href=\"#m72efd0573d\" x=\"98.31778\" y=\"67.873276\" style=\"fill: #1f77b4; stroke: #1f77b4\"/>\n     <use xlink:href=\"#m72efd0573d\" x=\"181.621737\" y=\"106.415082\" style=\"fill: #1f77b4; stroke: #1f77b4\"/>\n     <use xlink:href=\"#m72efd0573d\" x=\"147.369122\" y=\"91.529414\" style=\"fill: #1f77b4; stroke: #1f77b4\"/>\n     <use xlink:href=\"#m72efd0573d\" x=\"153.824822\" y=\"95.163129\" style=\"fill: #1f77b4; stroke: #1f77b4\"/>\n     <use xlink:href=\"#m72efd0573d\" x=\"125.711561\" y=\"82.122807\" style=\"fill: #1f77b4; stroke: #1f77b4\"/>\n     <use xlink:href=\"#m72efd0573d\" x=\"137.033189\" y=\"69.457766\" style=\"fill: #1f77b4; stroke: #1f77b4\"/>\n     <use xlink:href=\"#m72efd0573d\" x=\"186.295087\" y=\"136.492115\" style=\"fill: #1f77b4; stroke: #1f77b4\"/>\n     <use xlink:href=\"#m72efd0573d\" x=\"110.279701\" y=\"78.668251\" style=\"fill: #1f77b4; stroke: #1f77b4\"/>\n     <use xlink:href=\"#m72efd0573d\" x=\"113.617681\" y=\"69.636251\" style=\"fill: #1f77b4; stroke: #1f77b4\"/>\n     <use xlink:href=\"#m72efd0573d\" x=\"137.450006\" y=\"79.255538\" style=\"fill: #1f77b4; stroke: #1f77b4\"/>\n     <use xlink:href=\"#m72efd0573d\" x=\"129.239857\" y=\"78.829108\" style=\"fill: #1f77b4; stroke: #1f77b4\"/>\n     <use xlink:href=\"#m72efd0573d\" x=\"108.328306\" y=\"69.565331\" style=\"fill: #1f77b4; stroke: #1f77b4\"/>\n     <use xlink:href=\"#m72efd0573d\" x=\"131.108062\" y=\"90.777895\" style=\"fill: #1f77b4; stroke: #1f77b4\"/>\n     <use xlink:href=\"#m72efd0573d\" x=\"141.825469\" y=\"85.537459\" style=\"fill: #1f77b4; stroke: #1f77b4\"/>\n     <use xlink:href=\"#m72efd0573d\" x=\"89.989982\" y=\"48.795242\" style=\"fill: #1f77b4; stroke: #1f77b4\"/>\n     <use xlink:href=\"#m72efd0573d\" x=\"74.628232\" y=\"47.164163\" style=\"fill: #1f77b4; stroke: #1f77b4\"/>\n     <use xlink:href=\"#m72efd0573d\" x=\"111.947089\" y=\"81.589813\" style=\"fill: #1f77b4; stroke: #1f77b4\"/>\n     <use xlink:href=\"#m72efd0573d\" x=\"114.836512\" y=\"83.646387\" style=\"fill: #1f77b4; stroke: #1f77b4\"/>\n     <use xlink:href=\"#m72efd0573d\" x=\"162.195533\" y=\"99.852128\" style=\"fill: #1f77b4; stroke: #1f77b4\"/>\n     <use xlink:href=\"#m72efd0573d\" x=\"151.823682\" y=\"85.01664\" style=\"fill: #1f77b4; stroke: #1f77b4\"/>\n     <use xlink:href=\"#m72efd0573d\" x=\"156.322056\" y=\"101.343722\" style=\"fill: #1f77b4; stroke: #1f77b4\"/>\n     <use xlink:href=\"#m72efd0573d\" x=\"74.873742\" y=\"60.863398\" style=\"fill: #1f77b4; stroke: #1f77b4\"/>\n     <use xlink:href=\"#m72efd0573d\" x=\"110.302837\" y=\"74.936698\" style=\"fill: #1f77b4; stroke: #1f77b4\"/>\n     <use xlink:href=\"#m72efd0573d\" x=\"156.16428\" y=\"98.881975\" style=\"fill: #1f77b4; stroke: #1f77b4\"/>\n     <use xlink:href=\"#m72efd0573d\" x=\"190.624038\" y=\"113.661801\" style=\"fill: #1f77b4; stroke: #1f77b4\"/>\n     <use xlink:href=\"#m72efd0573d\" x=\"35.802273\" y=\"13.5\" style=\"fill: #1f77b4; stroke: #1f77b4\"/>\n     <use xlink:href=\"#m72efd0573d\" x=\"119.733394\" y=\"79.998943\" style=\"fill: #1f77b4; stroke: #1f77b4\"/>\n     <use xlink:href=\"#m72efd0573d\" x=\"160.565128\" y=\"93.061541\" style=\"fill: #1f77b4; stroke: #1f77b4\"/>\n     <use xlink:href=\"#m72efd0573d\" x=\"130.360794\" y=\"87.305206\" style=\"fill: #1f77b4; stroke: #1f77b4\"/>\n     <use xlink:href=\"#m72efd0573d\" x=\"86.583067\" y=\"44.376692\" style=\"fill: #1f77b4; stroke: #1f77b4\"/>\n     <use xlink:href=\"#m72efd0573d\" x=\"124.844924\" y=\"78.23589\" style=\"fill: #1f77b4; stroke: #1f77b4\"/>\n     <use xlink:href=\"#m72efd0573d\" x=\"147.81214\" y=\"81.725371\" style=\"fill: #1f77b4; stroke: #1f77b4\"/>\n     <use xlink:href=\"#m72efd0573d\" x=\"109.909377\" y=\"68.354858\" style=\"fill: #1f77b4; stroke: #1f77b4\"/>\n     <use xlink:href=\"#m72efd0573d\" x=\"149.705742\" y=\"92.725871\" style=\"fill: #1f77b4; stroke: #1f77b4\"/>\n     <use xlink:href=\"#m72efd0573d\" x=\"107.003733\" y=\"73.586083\" style=\"fill: #1f77b4; stroke: #1f77b4\"/>\n     <use xlink:href=\"#m72efd0573d\" x=\"174.778022\" y=\"125.081423\" style=\"fill: #1f77b4; stroke: #1f77b4\"/>\n     <use xlink:href=\"#m72efd0573d\" x=\"151.409589\" y=\"97.015921\" style=\"fill: #1f77b4; stroke: #1f77b4\"/>\n     <use xlink:href=\"#m72efd0573d\" x=\"164.66226\" y=\"106.082829\" style=\"fill: #1f77b4; stroke: #1f77b4\"/>\n     <use xlink:href=\"#m72efd0573d\" x=\"180.24964\" y=\"131.826759\" style=\"fill: #1f77b4; stroke: #1f77b4\"/>\n     <use xlink:href=\"#m72efd0573d\" x=\"118.789781\" y=\"75.111321\" style=\"fill: #1f77b4; stroke: #1f77b4\"/>\n     <use xlink:href=\"#m72efd0573d\" x=\"37.063969\" y=\"24.702182\" style=\"fill: #1f77b4; stroke: #1f77b4\"/>\n     <use xlink:href=\"#m72efd0573d\" x=\"61.813195\" y=\"48.965285\" style=\"fill: #1f77b4; stroke: #1f77b4\"/>\n     <use xlink:href=\"#m72efd0573d\" x=\"155.978585\" y=\"95.38824\" style=\"fill: #1f77b4; stroke: #1f77b4\"/>\n     <use xlink:href=\"#m72efd0573d\" x=\"149.459074\" y=\"104.047488\" style=\"fill: #1f77b4; stroke: #1f77b4\"/>\n     <use xlink:href=\"#m72efd0573d\" x=\"126.485662\" y=\"84.068444\" style=\"fill: #1f77b4; stroke: #1f77b4\"/>\n     <use xlink:href=\"#m72efd0573d\" x=\"148.204169\" y=\"112.056701\" style=\"fill: #1f77b4; stroke: #1f77b4\"/>\n     <use xlink:href=\"#m72efd0573d\" x=\"135.858849\" y=\"95.884597\" style=\"fill: #1f77b4; stroke: #1f77b4\"/>\n     <use xlink:href=\"#m72efd0573d\" x=\"112.2508\" y=\"83.781121\" style=\"fill: #1f77b4; stroke: #1f77b4\"/>\n     <use xlink:href=\"#m72efd0573d\" x=\"166.101151\" y=\"111.69241\" style=\"fill: #1f77b4; stroke: #1f77b4\"/>\n     <use xlink:href=\"#m72efd0573d\" x=\"181.85345\" y=\"115.133315\" style=\"fill: #1f77b4; stroke: #1f77b4\"/>\n     <use xlink:href=\"#m72efd0573d\" x=\"114.847395\" y=\"71.445944\" style=\"fill: #1f77b4; stroke: #1f77b4\"/>\n     <use xlink:href=\"#m72efd0573d\" x=\"105.709196\" y=\"69.122478\" style=\"fill: #1f77b4; stroke: #1f77b4\"/>\n     <use xlink:href=\"#m72efd0573d\" x=\"102.696806\" y=\"64.34654\" style=\"fill: #1f77b4; stroke: #1f77b4\"/>\n     <use xlink:href=\"#m72efd0573d\" x=\"114.323209\" y=\"79.575112\" style=\"fill: #1f77b4; stroke: #1f77b4\"/>\n     <use xlink:href=\"#m72efd0573d\" x=\"128.436377\" y=\"77.232855\" style=\"fill: #1f77b4; stroke: #1f77b4\"/>\n     <use xlink:href=\"#m72efd0573d\" x=\"112.21206\" y=\"76.177689\" style=\"fill: #1f77b4; stroke: #1f77b4\"/>\n     <use xlink:href=\"#m72efd0573d\" x=\"132.210483\" y=\"87.271127\" style=\"fill: #1f77b4; stroke: #1f77b4\"/>\n     <use xlink:href=\"#m72efd0573d\" x=\"117.918875\" y=\"60.213531\" style=\"fill: #1f77b4; stroke: #1f77b4\"/>\n     <use xlink:href=\"#m72efd0573d\" x=\"176.957537\" y=\"118.393996\" style=\"fill: #1f77b4; stroke: #1f77b4\"/>\n     <use xlink:href=\"#m72efd0573d\" x=\"144.394913\" y=\"98.809186\" style=\"fill: #1f77b4; stroke: #1f77b4\"/>\n     <use xlink:href=\"#m72efd0573d\" x=\"132.708741\" y=\"80.384988\" style=\"fill: #1f77b4; stroke: #1f77b4\"/>\n     <use xlink:href=\"#m72efd0573d\" x=\"89.093666\" y=\"54.832322\" style=\"fill: #1f77b4; stroke: #1f77b4\"/>\n     <use xlink:href=\"#m72efd0573d\" x=\"103.557265\" y=\"81.161333\" style=\"fill: #1f77b4; stroke: #1f77b4\"/>\n     <use xlink:href=\"#m72efd0573d\" x=\"107.10361\" y=\"74.869397\" style=\"fill: #1f77b4; stroke: #1f77b4\"/>\n     <use xlink:href=\"#m72efd0573d\" x=\"112.591177\" y=\"75.582988\" style=\"fill: #1f77b4; stroke: #1f77b4\"/>\n     <use xlink:href=\"#m72efd0573d\" x=\"144.166884\" y=\"99.67901\" style=\"fill: #1f77b4; stroke: #1f77b4\"/>\n     <use xlink:href=\"#m72efd0573d\" x=\"164.615341\" y=\"114.024403\" style=\"fill: #1f77b4; stroke: #1f77b4\"/>\n     <use xlink:href=\"#m72efd0573d\" x=\"128.177913\" y=\"89.52832\" style=\"fill: #1f77b4; stroke: #1f77b4\"/>\n     <use xlink:href=\"#m72efd0573d\" x=\"112.732068\" y=\"91.355465\" style=\"fill: #1f77b4; stroke: #1f77b4\"/>\n     <use xlink:href=\"#m72efd0573d\" x=\"99.588637\" y=\"61.160575\" style=\"fill: #1f77b4; stroke: #1f77b4\"/>\n     <use xlink:href=\"#m72efd0573d\" x=\"88.585468\" y=\"68.476717\" style=\"fill: #1f77b4; stroke: #1f77b4\"/>\n     <use xlink:href=\"#m72efd0573d\" x=\"134.161823\" y=\"83.988188\" style=\"fill: #1f77b4; stroke: #1f77b4\"/>\n     <use xlink:href=\"#m72efd0573d\" x=\"109.213298\" y=\"67.259095\" style=\"fill: #1f77b4; stroke: #1f77b4\"/>\n     <use xlink:href=\"#m72efd0573d\" x=\"127.110142\" y=\"83.252663\" style=\"fill: #1f77b4; stroke: #1f77b4\"/>\n     <use xlink:href=\"#m72efd0573d\" x=\"106.519756\" y=\"66.832356\" style=\"fill: #1f77b4; stroke: #1f77b4\"/>\n     <use xlink:href=\"#m72efd0573d\" x=\"124.175107\" y=\"71.66955\" style=\"fill: #1f77b4; stroke: #1f77b4\"/>\n     <use xlink:href=\"#m72efd0573d\" x=\"125.590025\" y=\"67.99188\" style=\"fill: #1f77b4; stroke: #1f77b4\"/>\n     <use xlink:href=\"#m72efd0573d\" x=\"153.790137\" y=\"96.6642\" style=\"fill: #1f77b4; stroke: #1f77b4\"/>\n     <use xlink:href=\"#m72efd0573d\" x=\"120.149453\" y=\"80.738873\" style=\"fill: #1f77b4; stroke: #1f77b4\"/>\n     <use xlink:href=\"#m72efd0573d\" x=\"142.843414\" y=\"95.305465\" style=\"fill: #1f77b4; stroke: #1f77b4\"/>\n     <use xlink:href=\"#m72efd0573d\" x=\"121.494701\" y=\"82.817375\" style=\"fill: #1f77b4; stroke: #1f77b4\"/>\n     <use xlink:href=\"#m72efd0573d\" x=\"146.067734\" y=\"85.19187\" style=\"fill: #1f77b4; stroke: #1f77b4\"/>\n     <use xlink:href=\"#m72efd0573d\" x=\"145.730253\" y=\"95.478953\" style=\"fill: #1f77b4; stroke: #1f77b4\"/>\n     <use xlink:href=\"#m72efd0573d\" x=\"128.372556\" y=\"75.765324\" style=\"fill: #1f77b4; stroke: #1f77b4\"/>\n     <use xlink:href=\"#m72efd0573d\" x=\"155.649374\" y=\"90.63925\" style=\"fill: #1f77b4; stroke: #1f77b4\"/>\n     <use xlink:href=\"#m72efd0573d\" x=\"117.094343\" y=\"80.132613\" style=\"fill: #1f77b4; stroke: #1f77b4\"/>\n     <use xlink:href=\"#m72efd0573d\" x=\"133.383804\" y=\"88.058053\" style=\"fill: #1f77b4; stroke: #1f77b4\"/>\n     <use xlink:href=\"#m72efd0573d\" x=\"128.228297\" y=\"85.599751\" style=\"fill: #1f77b4; stroke: #1f77b4\"/>\n     <use xlink:href=\"#m72efd0573d\" x=\"124.2249\" y=\"68.044213\" style=\"fill: #1f77b4; stroke: #1f77b4\"/>\n     <use xlink:href=\"#m72efd0573d\" x=\"121.784707\" y=\"78.1693\" style=\"fill: #1f77b4; stroke: #1f77b4\"/>\n     <use xlink:href=\"#m72efd0573d\" x=\"136.261624\" y=\"82.297183\" style=\"fill: #1f77b4; stroke: #1f77b4\"/>\n     <use xlink:href=\"#m72efd0573d\" x=\"124.338285\" y=\"82.353845\" style=\"fill: #1f77b4; stroke: #1f77b4\"/>\n     <use xlink:href=\"#m72efd0573d\" x=\"144.504925\" y=\"78.01683\" style=\"fill: #1f77b4; stroke: #1f77b4\"/>\n     <use xlink:href=\"#m72efd0573d\" x=\"116.254206\" y=\"74.213153\" style=\"fill: #1f77b4; stroke: #1f77b4\"/>\n     <use xlink:href=\"#m72efd0573d\" x=\"170.967809\" y=\"109.214813\" style=\"fill: #1f77b4; stroke: #1f77b4\"/>\n     <use xlink:href=\"#m72efd0573d\" x=\"109.230844\" y=\"68.356115\" style=\"fill: #1f77b4; stroke: #1f77b4\"/>\n     <use xlink:href=\"#m72efd0573d\" x=\"128.106413\" y=\"72.700569\" style=\"fill: #1f77b4; stroke: #1f77b4\"/>\n     <use xlink:href=\"#m72efd0573d\" x=\"92.610589\" y=\"56.188731\" style=\"fill: #1f77b4; stroke: #1f77b4\"/>\n     <use xlink:href=\"#m72efd0573d\" x=\"146.784413\" y=\"113.671147\" style=\"fill: #1f77b4; stroke: #1f77b4\"/>\n     <use xlink:href=\"#m72efd0573d\" x=\"125.019448\" y=\"90.492624\" style=\"fill: #1f77b4; stroke: #1f77b4\"/>\n     <use xlink:href=\"#m72efd0573d\" x=\"142.410971\" y=\"95.428919\" style=\"fill: #1f77b4; stroke: #1f77b4\"/>\n     <use xlink:href=\"#m72efd0573d\" x=\"131.78411\" y=\"83.439826\" style=\"fill: #1f77b4; stroke: #1f77b4\"/>\n     <use xlink:href=\"#m72efd0573d\" x=\"143.970387\" y=\"100.434759\" style=\"fill: #1f77b4; stroke: #1f77b4\"/>\n     <use xlink:href=\"#m72efd0573d\" x=\"98.986607\" y=\"69.730418\" style=\"fill: #1f77b4; stroke: #1f77b4\"/>\n     <use xlink:href=\"#m72efd0573d\" x=\"151.283483\" y=\"90.40943\" style=\"fill: #1f77b4; stroke: #1f77b4\"/>\n     <use xlink:href=\"#m72efd0573d\" x=\"91.031699\" y=\"64.201865\" style=\"fill: #1f77b4; stroke: #1f77b4\"/>\n     <use xlink:href=\"#m72efd0573d\" x=\"116.851773\" y=\"76.690834\" style=\"fill: #1f77b4; stroke: #1f77b4\"/>\n     <use xlink:href=\"#m72efd0573d\" x=\"129.269915\" y=\"95.222638\" style=\"fill: #1f77b4; stroke: #1f77b4\"/>\n     <use xlink:href=\"#m72efd0573d\" x=\"122.749179\" y=\"85.793444\" style=\"fill: #1f77b4; stroke: #1f77b4\"/>\n     <use xlink:href=\"#m72efd0573d\" x=\"178.009845\" y=\"119.749567\" style=\"fill: #1f77b4; stroke: #1f77b4\"/>\n     <use xlink:href=\"#m72efd0573d\" x=\"213.347727\" y=\"121.843598\" style=\"fill: #1f77b4; stroke: #1f77b4\"/>\n     <use xlink:href=\"#m72efd0573d\" x=\"130.508807\" y=\"80.87339\" style=\"fill: #1f77b4; stroke: #1f77b4\"/>\n     <use xlink:href=\"#m72efd0573d\" x=\"111.523566\" y=\"65.753006\" style=\"fill: #1f77b4; stroke: #1f77b4\"/>\n     <use xlink:href=\"#m72efd0573d\" x=\"174.440677\" y=\"111.790783\" style=\"fill: #1f77b4; stroke: #1f77b4\"/>\n     <use xlink:href=\"#m72efd0573d\" x=\"191.112256\" y=\"101.094957\" style=\"fill: #1f77b4; stroke: #1f77b4\"/>\n     <use xlink:href=\"#m72efd0573d\" x=\"83.954927\" y=\"53.031878\" style=\"fill: #1f77b4; stroke: #1f77b4\"/>\n     <use xlink:href=\"#m72efd0573d\" x=\"181.729194\" y=\"96.895316\" style=\"fill: #1f77b4; stroke: #1f77b4\"/>\n     <use xlink:href=\"#m72efd0573d\" x=\"134.834785\" y=\"85.177331\" style=\"fill: #1f77b4; stroke: #1f77b4\"/>\n     <use xlink:href=\"#m72efd0573d\" x=\"101.890566\" y=\"72.323955\" style=\"fill: #1f77b4; stroke: #1f77b4\"/>\n     <use xlink:href=\"#m72efd0573d\" x=\"116.345446\" y=\"84.509782\" style=\"fill: #1f77b4; stroke: #1f77b4\"/>\n     <use xlink:href=\"#m72efd0573d\" x=\"141.237346\" y=\"79.570538\" style=\"fill: #1f77b4; stroke: #1f77b4\"/>\n     <use xlink:href=\"#m72efd0573d\" x=\"114.493164\" y=\"75.440702\" style=\"fill: #1f77b4; stroke: #1f77b4\"/>\n     <use xlink:href=\"#m72efd0573d\" x=\"138.789667\" y=\"80.034027\" style=\"fill: #1f77b4; stroke: #1f77b4\"/>\n     <use xlink:href=\"#m72efd0573d\" x=\"116.753493\" y=\"74.993023\" style=\"fill: #1f77b4; stroke: #1f77b4\"/>\n     <use xlink:href=\"#m72efd0573d\" x=\"92.590316\" y=\"87.630502\" style=\"fill: #1f77b4; stroke: #1f77b4\"/>\n     <use xlink:href=\"#m72efd0573d\" x=\"190.959118\" y=\"118.23982\" style=\"fill: #1f77b4; stroke: #1f77b4\"/>\n     <use xlink:href=\"#m72efd0573d\" x=\"198.146058\" y=\"134.001769\" style=\"fill: #1f77b4; stroke: #1f77b4\"/>\n     <use xlink:href=\"#m72efd0573d\" x=\"95.911464\" y=\"70.402374\" style=\"fill: #1f77b4; stroke: #1f77b4\"/>\n     <use xlink:href=\"#m72efd0573d\" x=\"139.048169\" y=\"85.445764\" style=\"fill: #1f77b4; stroke: #1f77b4\"/>\n     <use xlink:href=\"#m72efd0573d\" x=\"145.315963\" y=\"122.339663\" style=\"fill: #1f77b4; stroke: #1f77b4\"/>\n     <use xlink:href=\"#m72efd0573d\" x=\"86.872525\" y=\"60.523394\" style=\"fill: #1f77b4; stroke: #1f77b4\"/>\n     <use xlink:href=\"#m72efd0573d\" x=\"186.806384\" y=\"114.941833\" style=\"fill: #1f77b4; stroke: #1f77b4\"/>\n     <use xlink:href=\"#m72efd0573d\" x=\"143.827459\" y=\"88.829802\" style=\"fill: #1f77b4; stroke: #1f77b4\"/>\n     <use xlink:href=\"#m72efd0573d\" x=\"178.697861\" y=\"118.571115\" style=\"fill: #1f77b4; stroke: #1f77b4\"/>\n     <use xlink:href=\"#m72efd0573d\" x=\"111.490162\" y=\"64.597913\" style=\"fill: #1f77b4; stroke: #1f77b4\"/>\n     <use xlink:href=\"#m72efd0573d\" x=\"91.503078\" y=\"74.93302\" style=\"fill: #1f77b4; stroke: #1f77b4\"/>\n     <use xlink:href=\"#m72efd0573d\" x=\"124.386091\" y=\"79.734751\" style=\"fill: #1f77b4; stroke: #1f77b4\"/>\n     <use xlink:href=\"#m72efd0573d\" x=\"113.306274\" y=\"59.883743\" style=\"fill: #1f77b4; stroke: #1f77b4\"/>\n     <use xlink:href=\"#m72efd0573d\" x=\"132.949839\" y=\"81.745062\" style=\"fill: #1f77b4; stroke: #1f77b4\"/>\n     <use xlink:href=\"#m72efd0573d\" x=\"124.343966\" y=\"86.053556\" style=\"fill: #1f77b4; stroke: #1f77b4\"/>\n     <use xlink:href=\"#m72efd0573d\" x=\"138.096151\" y=\"92.690682\" style=\"fill: #1f77b4; stroke: #1f77b4\"/>\n     <use xlink:href=\"#m72efd0573d\" x=\"105.965064\" y=\"72.10873\" style=\"fill: #1f77b4; stroke: #1f77b4\"/>\n     <use xlink:href=\"#m72efd0573d\" x=\"170.185409\" y=\"118.288585\" style=\"fill: #1f77b4; stroke: #1f77b4\"/>\n     <use xlink:href=\"#m72efd0573d\" x=\"132.621134\" y=\"85.867115\" style=\"fill: #1f77b4; stroke: #1f77b4\"/>\n     <use xlink:href=\"#m72efd0573d\" x=\"107.894452\" y=\"84.469753\" style=\"fill: #1f77b4; stroke: #1f77b4\"/>\n     <use xlink:href=\"#m72efd0573d\" x=\"117.350798\" y=\"67.085778\" style=\"fill: #1f77b4; stroke: #1f77b4\"/>\n     <use xlink:href=\"#m72efd0573d\" x=\"94.978064\" y=\"66.751197\" style=\"fill: #1f77b4; stroke: #1f77b4\"/>\n     <use xlink:href=\"#m72efd0573d\" x=\"143.242398\" y=\"104.292123\" style=\"fill: #1f77b4; stroke: #1f77b4\"/>\n     <use xlink:href=\"#m72efd0573d\" x=\"100.657949\" y=\"73.275096\" style=\"fill: #1f77b4; stroke: #1f77b4\"/>\n     <use xlink:href=\"#m72efd0573d\" x=\"115.325896\" y=\"73.674387\" style=\"fill: #1f77b4; stroke: #1f77b4\"/>\n     <use xlink:href=\"#m72efd0573d\" x=\"127.066537\" y=\"76.682306\" style=\"fill: #1f77b4; stroke: #1f77b4\"/>\n     <use xlink:href=\"#m72efd0573d\" x=\"157.919385\" y=\"102.726872\" style=\"fill: #1f77b4; stroke: #1f77b4\"/>\n     <use xlink:href=\"#m72efd0573d\" x=\"134.933156\" y=\"88.379099\" style=\"fill: #1f77b4; stroke: #1f77b4\"/>\n     <use xlink:href=\"#m72efd0573d\" x=\"175.040824\" y=\"104.5874\" style=\"fill: #1f77b4; stroke: #1f77b4\"/>\n     <use xlink:href=\"#m72efd0573d\" x=\"73.446372\" y=\"52.202581\" style=\"fill: #1f77b4; stroke: #1f77b4\"/>\n     <use xlink:href=\"#m72efd0573d\" x=\"137.873764\" y=\"90.304124\" style=\"fill: #1f77b4; stroke: #1f77b4\"/>\n     <use xlink:href=\"#m72efd0573d\" x=\"134.141186\" y=\"85.510522\" style=\"fill: #1f77b4; stroke: #1f77b4\"/>\n     <use xlink:href=\"#m72efd0573d\" x=\"146.388357\" y=\"98.250658\" style=\"fill: #1f77b4; stroke: #1f77b4\"/>\n     <use xlink:href=\"#m72efd0573d\" x=\"148.137441\" y=\"96.599746\" style=\"fill: #1f77b4; stroke: #1f77b4\"/>\n     <use xlink:href=\"#m72efd0573d\" x=\"150.443266\" y=\"98.882569\" style=\"fill: #1f77b4; stroke: #1f77b4\"/>\n     <use xlink:href=\"#m72efd0573d\" x=\"147.50456\" y=\"89.238508\" style=\"fill: #1f77b4; stroke: #1f77b4\"/>\n     <use xlink:href=\"#m72efd0573d\" x=\"153.190284\" y=\"96.545924\" style=\"fill: #1f77b4; stroke: #1f77b4\"/>\n     <use xlink:href=\"#m72efd0573d\" x=\"150.562487\" y=\"91.842155\" style=\"fill: #1f77b4; stroke: #1f77b4\"/>\n     <use xlink:href=\"#m72efd0573d\" x=\"106.459853\" y=\"67.566758\" style=\"fill: #1f77b4; stroke: #1f77b4\"/>\n     <use xlink:href=\"#m72efd0573d\" x=\"106.368114\" y=\"78.089819\" style=\"fill: #1f77b4; stroke: #1f77b4\"/>\n     <use xlink:href=\"#m72efd0573d\" x=\"103.682237\" y=\"63.52729\" style=\"fill: #1f77b4; stroke: #1f77b4\"/>\n     <use xlink:href=\"#m72efd0573d\" x=\"123.824542\" y=\"72.934342\" style=\"fill: #1f77b4; stroke: #1f77b4\"/>\n     <use xlink:href=\"#m72efd0573d\" x=\"136.916793\" y=\"85.047508\" style=\"fill: #1f77b4; stroke: #1f77b4\"/>\n     <use xlink:href=\"#m72efd0573d\" x=\"117.356504\" y=\"80.196459\" style=\"fill: #1f77b4; stroke: #1f77b4\"/>\n     <use xlink:href=\"#m72efd0573d\" x=\"97.769071\" y=\"62.452701\" style=\"fill: #1f77b4; stroke: #1f77b4\"/>\n     <use xlink:href=\"#m72efd0573d\" x=\"104.007613\" y=\"72.760362\" style=\"fill: #1f77b4; stroke: #1f77b4\"/>\n     <use xlink:href=\"#m72efd0573d\" x=\"112.926459\" y=\"72.66089\" style=\"fill: #1f77b4; stroke: #1f77b4\"/>\n     <use xlink:href=\"#m72efd0573d\" x=\"123.11881\" y=\"88.396685\" style=\"fill: #1f77b4; stroke: #1f77b4\"/>\n     <use xlink:href=\"#m72efd0573d\" x=\"105.165312\" y=\"73.582081\" style=\"fill: #1f77b4; stroke: #1f77b4\"/>\n     <use xlink:href=\"#m72efd0573d\" x=\"155.580997\" y=\"105.223554\" style=\"fill: #1f77b4; stroke: #1f77b4\"/>\n     <use xlink:href=\"#m72efd0573d\" x=\"202.383992\" y=\"112.420009\" style=\"fill: #1f77b4; stroke: #1f77b4\"/>\n     <use xlink:href=\"#m72efd0573d\" x=\"118.238822\" y=\"87.408873\" style=\"fill: #1f77b4; stroke: #1f77b4\"/>\n     <use xlink:href=\"#m72efd0573d\" x=\"137.308447\" y=\"91.546076\" style=\"fill: #1f77b4; stroke: #1f77b4\"/>\n     <use xlink:href=\"#m72efd0573d\" x=\"133.957597\" y=\"73.976479\" style=\"fill: #1f77b4; stroke: #1f77b4\"/>\n     <use xlink:href=\"#m72efd0573d\" x=\"107.849807\" y=\"72.16381\" style=\"fill: #1f77b4; stroke: #1f77b4\"/>\n     <use xlink:href=\"#m72efd0573d\" x=\"126.745683\" y=\"83.473681\" style=\"fill: #1f77b4; stroke: #1f77b4\"/>\n     <use xlink:href=\"#m72efd0573d\" x=\"110.512532\" y=\"73.513198\" style=\"fill: #1f77b4; stroke: #1f77b4\"/>\n     <use xlink:href=\"#m72efd0573d\" x=\"149.244773\" y=\"97.184899\" style=\"fill: #1f77b4; stroke: #1f77b4\"/>\n     <use xlink:href=\"#m72efd0573d\" x=\"108.624027\" y=\"74.561769\" style=\"fill: #1f77b4; stroke: #1f77b4\"/>\n     <use xlink:href=\"#m72efd0573d\" x=\"130.11839\" y=\"90.188972\" style=\"fill: #1f77b4; stroke: #1f77b4\"/>\n     <use xlink:href=\"#m72efd0573d\" x=\"88.484578\" y=\"59.736984\" style=\"fill: #1f77b4; stroke: #1f77b4\"/>\n     <use xlink:href=\"#m72efd0573d\" x=\"113.74805\" y=\"81.118592\" style=\"fill: #1f77b4; stroke: #1f77b4\"/>\n     <use xlink:href=\"#m72efd0573d\" x=\"154.029722\" y=\"83.651147\" style=\"fill: #1f77b4; stroke: #1f77b4\"/>\n     <use xlink:href=\"#m72efd0573d\" x=\"86.521443\" y=\"50.656174\" style=\"fill: #1f77b4; stroke: #1f77b4\"/>\n     <use xlink:href=\"#m72efd0573d\" x=\"138.936392\" y=\"99.555818\" style=\"fill: #1f77b4; stroke: #1f77b4\"/>\n     <use xlink:href=\"#m72efd0573d\" x=\"189.567038\" y=\"122.052254\" style=\"fill: #1f77b4; stroke: #1f77b4\"/>\n     <use xlink:href=\"#m72efd0573d\" x=\"134.422129\" y=\"88.544176\" style=\"fill: #1f77b4; stroke: #1f77b4\"/>\n     <use xlink:href=\"#m72efd0573d\" x=\"107.505427\" y=\"67.809715\" style=\"fill: #1f77b4; stroke: #1f77b4\"/>\n     <use xlink:href=\"#m72efd0573d\" x=\"119.152436\" y=\"75.686095\" style=\"fill: #1f77b4; stroke: #1f77b4\"/>\n     <use xlink:href=\"#m72efd0573d\" x=\"99.846537\" y=\"59.831241\" style=\"fill: #1f77b4; stroke: #1f77b4\"/>\n     <use xlink:href=\"#m72efd0573d\" x=\"124.081939\" y=\"101.0228\" style=\"fill: #1f77b4; stroke: #1f77b4\"/>\n     <use xlink:href=\"#m72efd0573d\" x=\"123.533891\" y=\"88.796111\" style=\"fill: #1f77b4; stroke: #1f77b4\"/>\n     <use xlink:href=\"#m72efd0573d\" x=\"94.426539\" y=\"63.733972\" style=\"fill: #1f77b4; stroke: #1f77b4\"/>\n     <use xlink:href=\"#m72efd0573d\" x=\"130.736044\" y=\"93.980112\" style=\"fill: #1f77b4; stroke: #1f77b4\"/>\n     <use xlink:href=\"#m72efd0573d\" x=\"152.209515\" y=\"97.010478\" style=\"fill: #1f77b4; stroke: #1f77b4\"/>\n     <use xlink:href=\"#m72efd0573d\" x=\"122.771528\" y=\"93.557341\" style=\"fill: #1f77b4; stroke: #1f77b4\"/>\n     <use xlink:href=\"#m72efd0573d\" x=\"132.455635\" y=\"88.611158\" style=\"fill: #1f77b4; stroke: #1f77b4\"/>\n     <use xlink:href=\"#m72efd0573d\" x=\"110.973715\" y=\"70.303299\" style=\"fill: #1f77b4; stroke: #1f77b4\"/>\n     <use xlink:href=\"#m72efd0573d\" x=\"111.135686\" y=\"71.345908\" style=\"fill: #1f77b4; stroke: #1f77b4\"/>\n     <use xlink:href=\"#m72efd0573d\" x=\"168.290142\" y=\"120.799505\" style=\"fill: #1f77b4; stroke: #1f77b4\"/>\n     <use xlink:href=\"#m72efd0573d\" x=\"116.438952\" y=\"76.713586\" style=\"fill: #1f77b4; stroke: #1f77b4\"/>\n     <use xlink:href=\"#m72efd0573d\" x=\"130.201848\" y=\"86.516853\" style=\"fill: #1f77b4; stroke: #1f77b4\"/>\n     <use xlink:href=\"#m72efd0573d\" x=\"144.141679\" y=\"79.064656\" style=\"fill: #1f77b4; stroke: #1f77b4\"/>\n     <use xlink:href=\"#m72efd0573d\" x=\"162.750838\" y=\"82.621587\" style=\"fill: #1f77b4; stroke: #1f77b4\"/>\n     <use xlink:href=\"#m72efd0573d\" x=\"84.852135\" y=\"67.115087\" style=\"fill: #1f77b4; stroke: #1f77b4\"/>\n     <use xlink:href=\"#m72efd0573d\" x=\"120.123381\" y=\"89.825511\" style=\"fill: #1f77b4; stroke: #1f77b4\"/>\n     <use xlink:href=\"#m72efd0573d\" x=\"112.418404\" y=\"68.15812\" style=\"fill: #1f77b4; stroke: #1f77b4\"/>\n     <use xlink:href=\"#m72efd0573d\" x=\"123.88355\" y=\"85.788005\" style=\"fill: #1f77b4; stroke: #1f77b4\"/>\n     <use xlink:href=\"#m72efd0573d\" x=\"126.495125\" y=\"65.605411\" style=\"fill: #1f77b4; stroke: #1f77b4\"/>\n     <use xlink:href=\"#m72efd0573d\" x=\"103.419806\" y=\"58.134287\" style=\"fill: #1f77b4; stroke: #1f77b4\"/>\n     <use xlink:href=\"#m72efd0573d\" x=\"89.212363\" y=\"62.190957\" style=\"fill: #1f77b4; stroke: #1f77b4\"/>\n     <use xlink:href=\"#m72efd0573d\" x=\"133.768047\" y=\"77.795865\" style=\"fill: #1f77b4; stroke: #1f77b4\"/>\n     <use xlink:href=\"#m72efd0573d\" x=\"76.306425\" y=\"47.406685\" style=\"fill: #1f77b4; stroke: #1f77b4\"/>\n     <use xlink:href=\"#m72efd0573d\" x=\"172.526066\" y=\"106.615039\" style=\"fill: #1f77b4; stroke: #1f77b4\"/>\n     <use xlink:href=\"#m72efd0573d\" x=\"115.994198\" y=\"66.373984\" style=\"fill: #1f77b4; stroke: #1f77b4\"/>\n     <use xlink:href=\"#m72efd0573d\" x=\"119.287462\" y=\"73.290877\" style=\"fill: #1f77b4; stroke: #1f77b4\"/>\n     <use xlink:href=\"#m72efd0573d\" x=\"119.957497\" y=\"78.103562\" style=\"fill: #1f77b4; stroke: #1f77b4\"/>\n     <use xlink:href=\"#m72efd0573d\" x=\"124.491182\" y=\"83.605503\" style=\"fill: #1f77b4; stroke: #1f77b4\"/>\n     <use xlink:href=\"#m72efd0573d\" x=\"127.346358\" y=\"84.313784\" style=\"fill: #1f77b4; stroke: #1f77b4\"/>\n     <use xlink:href=\"#m72efd0573d\" x=\"136.500087\" y=\"90.22519\" style=\"fill: #1f77b4; stroke: #1f77b4\"/>\n     <use xlink:href=\"#m72efd0573d\" x=\"175.697733\" y=\"104.083654\" style=\"fill: #1f77b4; stroke: #1f77b4\"/>\n     <use xlink:href=\"#m72efd0573d\" x=\"145.093742\" y=\"93.163882\" style=\"fill: #1f77b4; stroke: #1f77b4\"/>\n     <use xlink:href=\"#m72efd0573d\" x=\"108.450324\" y=\"77.096329\" style=\"fill: #1f77b4; stroke: #1f77b4\"/>\n     <use xlink:href=\"#m72efd0573d\" x=\"154.865731\" y=\"108.713169\" style=\"fill: #1f77b4; stroke: #1f77b4\"/>\n     <use xlink:href=\"#m72efd0573d\" x=\"129.831117\" y=\"82.812576\" style=\"fill: #1f77b4; stroke: #1f77b4\"/>\n     <use xlink:href=\"#m72efd0573d\" x=\"113.278356\" y=\"70.037873\" style=\"fill: #1f77b4; stroke: #1f77b4\"/>\n     <use xlink:href=\"#m72efd0573d\" x=\"124.636948\" y=\"72.018766\" style=\"fill: #1f77b4; stroke: #1f77b4\"/>\n     <use xlink:href=\"#m72efd0573d\" x=\"174.607306\" y=\"115.590588\" style=\"fill: #1f77b4; stroke: #1f77b4\"/>\n     <use xlink:href=\"#m72efd0573d\" x=\"107.772757\" y=\"58.483053\" style=\"fill: #1f77b4; stroke: #1f77b4\"/>\n     <use xlink:href=\"#m72efd0573d\" x=\"93.426753\" y=\"57.878651\" style=\"fill: #1f77b4; stroke: #1f77b4\"/>\n     <use xlink:href=\"#m72efd0573d\" x=\"148.170041\" y=\"99.776165\" style=\"fill: #1f77b4; stroke: #1f77b4\"/>\n     <use xlink:href=\"#m72efd0573d\" x=\"131.93172\" y=\"82.162192\" style=\"fill: #1f77b4; stroke: #1f77b4\"/>\n     <use xlink:href=\"#m72efd0573d\" x=\"118.796711\" y=\"86.17324\" style=\"fill: #1f77b4; stroke: #1f77b4\"/>\n     <use xlink:href=\"#m72efd0573d\" x=\"113.50038\" y=\"58.1425\" style=\"fill: #1f77b4; stroke: #1f77b4\"/>\n     <use xlink:href=\"#m72efd0573d\" x=\"129.451885\" y=\"82.18914\" style=\"fill: #1f77b4; stroke: #1f77b4\"/>\n     <use xlink:href=\"#m72efd0573d\" x=\"148.287326\" y=\"104.337291\" style=\"fill: #1f77b4; stroke: #1f77b4\"/>\n     <use xlink:href=\"#m72efd0573d\" x=\"152.072951\" y=\"110.829792\" style=\"fill: #1f77b4; stroke: #1f77b4\"/>\n     <use xlink:href=\"#m72efd0573d\" x=\"116.457212\" y=\"78.847864\" style=\"fill: #1f77b4; stroke: #1f77b4\"/>\n     <use xlink:href=\"#m72efd0573d\" x=\"164.710122\" y=\"107.912562\" style=\"fill: #1f77b4; stroke: #1f77b4\"/>\n     <use xlink:href=\"#m72efd0573d\" x=\"118.97155\" y=\"76.483992\" style=\"fill: #1f77b4; stroke: #1f77b4\"/>\n     <use xlink:href=\"#m72efd0573d\" x=\"114.190665\" y=\"67.246257\" style=\"fill: #1f77b4; stroke: #1f77b4\"/>\n     <use xlink:href=\"#m72efd0573d\" x=\"145.957661\" y=\"102.494979\" style=\"fill: #1f77b4; stroke: #1f77b4\"/>\n     <use xlink:href=\"#m72efd0573d\" x=\"160.40763\" y=\"104.844295\" style=\"fill: #1f77b4; stroke: #1f77b4\"/>\n     <use xlink:href=\"#m72efd0573d\" x=\"146.510259\" y=\"95.197298\" style=\"fill: #1f77b4; stroke: #1f77b4\"/>\n     <use xlink:href=\"#m72efd0573d\" x=\"138.778811\" y=\"93.33781\" style=\"fill: #1f77b4; stroke: #1f77b4\"/>\n     <use xlink:href=\"#m72efd0573d\" x=\"91.426449\" y=\"66.739914\" style=\"fill: #1f77b4; stroke: #1f77b4\"/>\n     <use xlink:href=\"#m72efd0573d\" x=\"98.216718\" y=\"68.533253\" style=\"fill: #1f77b4; stroke: #1f77b4\"/>\n     <use xlink:href=\"#m72efd0573d\" x=\"93.366103\" y=\"67.468208\" style=\"fill: #1f77b4; stroke: #1f77b4\"/>\n     <use xlink:href=\"#m72efd0573d\" x=\"120.946223\" y=\"78.501768\" style=\"fill: #1f77b4; stroke: #1f77b4\"/>\n     <use xlink:href=\"#m72efd0573d\" x=\"140.933121\" y=\"98.937534\" style=\"fill: #1f77b4; stroke: #1f77b4\"/>\n     <use xlink:href=\"#m72efd0573d\" x=\"181.49329\" y=\"96.697696\" style=\"fill: #1f77b4; stroke: #1f77b4\"/>\n     <use xlink:href=\"#m72efd0573d\" x=\"97.816825\" y=\"55.768027\" style=\"fill: #1f77b4; stroke: #1f77b4\"/>\n     <use xlink:href=\"#m72efd0573d\" x=\"129.934438\" y=\"78.930911\" style=\"fill: #1f77b4; stroke: #1f77b4\"/>\n     <use xlink:href=\"#m72efd0573d\" x=\"97.862655\" y=\"67.930781\" style=\"fill: #1f77b4; stroke: #1f77b4\"/>\n     <use xlink:href=\"#m72efd0573d\" x=\"128.045982\" y=\"90.466886\" style=\"fill: #1f77b4; stroke: #1f77b4\"/>\n     <use xlink:href=\"#m72efd0573d\" x=\"152.257729\" y=\"103.952424\" style=\"fill: #1f77b4; stroke: #1f77b4\"/>\n     <use xlink:href=\"#m72efd0573d\" x=\"141.497015\" y=\"96.707858\" style=\"fill: #1f77b4; stroke: #1f77b4\"/>\n     <use xlink:href=\"#m72efd0573d\" x=\"157.912588\" y=\"108.352127\" style=\"fill: #1f77b4; stroke: #1f77b4\"/>\n     <use xlink:href=\"#m72efd0573d\" x=\"136.762185\" y=\"103.347865\" style=\"fill: #1f77b4; stroke: #1f77b4\"/>\n     <use xlink:href=\"#m72efd0573d\" x=\"163.994848\" y=\"111.419546\" style=\"fill: #1f77b4; stroke: #1f77b4\"/>\n     <use xlink:href=\"#m72efd0573d\" x=\"115.749513\" y=\"71.849755\" style=\"fill: #1f77b4; stroke: #1f77b4\"/>\n     <use xlink:href=\"#m72efd0573d\" x=\"166.29493\" y=\"120.419658\" style=\"fill: #1f77b4; stroke: #1f77b4\"/>\n     <use xlink:href=\"#m72efd0573d\" x=\"115.972271\" y=\"73.132278\" style=\"fill: #1f77b4; stroke: #1f77b4\"/>\n     <use xlink:href=\"#m72efd0573d\" x=\"140.550269\" y=\"77.835995\" style=\"fill: #1f77b4; stroke: #1f77b4\"/>\n     <use xlink:href=\"#m72efd0573d\" x=\"132.676408\" y=\"101.637517\" style=\"fill: #1f77b4; stroke: #1f77b4\"/>\n     <use xlink:href=\"#m72efd0573d\" x=\"116.978261\" y=\"91.936923\" style=\"fill: #1f77b4; stroke: #1f77b4\"/>\n     <use xlink:href=\"#m72efd0573d\" x=\"121.696738\" y=\"92.778015\" style=\"fill: #1f77b4; stroke: #1f77b4\"/>\n     <use xlink:href=\"#m72efd0573d\" x=\"70.130499\" y=\"60.496148\" style=\"fill: #1f77b4; stroke: #1f77b4\"/>\n     <use xlink:href=\"#m72efd0573d\" x=\"124.165008\" y=\"91.242309\" style=\"fill: #1f77b4; stroke: #1f77b4\"/>\n     <use xlink:href=\"#m72efd0573d\" x=\"124.912247\" y=\"69.703923\" style=\"fill: #1f77b4; stroke: #1f77b4\"/>\n    </g>\n   </g>\n   <g id=\"matplotlib.axis_1\">\n    <g id=\"xtick_1\">\n     <g id=\"line2d_1\">\n      <defs>\n       <path id=\"m9247a1ef10\" d=\"M 0 0 \nL 0 3.5 \n\" style=\"stroke: #000000; stroke-width: 0.8\"/>\n      </defs>\n      <g>\n       <use xlink:href=\"#m9247a1ef10\" x=\"76.047143\" y=\"145.8\" style=\"stroke: #000000; stroke-width: 0.8\"/>\n      </g>\n     </g>\n     <g id=\"text_1\">\n      <!-- −2 -->\n      <g transform=\"translate(68.676049 160.398438) scale(0.1 -0.1)\">\n       <defs>\n        <path id=\"DejaVuSans-2212\" d=\"M 678 2272 \nL 4684 2272 \nL 4684 1741 \nL 678 1741 \nL 678 2272 \nz\n\" transform=\"scale(0.015625)\"/>\n        <path id=\"DejaVuSans-32\" d=\"M 1228 531 \nL 3431 531 \nL 3431 0 \nL 469 0 \nL 469 531 \nQ 828 903 1448 1529 \nQ 2069 2156 2228 2338 \nQ 2531 2678 2651 2914 \nQ 2772 3150 2772 3378 \nQ 2772 3750 2511 3984 \nQ 2250 4219 1831 4219 \nQ 1534 4219 1204 4116 \nQ 875 4013 500 3803 \nL 500 4441 \nQ 881 4594 1212 4672 \nQ 1544 4750 1819 4750 \nQ 2544 4750 2975 4387 \nQ 3406 4025 3406 3419 \nQ 3406 3131 3298 2873 \nQ 3191 2616 2906 2266 \nQ 2828 2175 2409 1742 \nQ 1991 1309 1228 531 \nz\n\" transform=\"scale(0.015625)\"/>\n       </defs>\n       <use xlink:href=\"#DejaVuSans-2212\"/>\n       <use xlink:href=\"#DejaVuSans-32\" x=\"83.789062\"/>\n      </g>\n     </g>\n    </g>\n    <g id=\"xtick_2\">\n     <g id=\"line2d_2\">\n      <g>\n       <use xlink:href=\"#m9247a1ef10\" x=\"129.483522\" y=\"145.8\" style=\"stroke: #000000; stroke-width: 0.8\"/>\n      </g>\n     </g>\n     <g id=\"text_2\">\n      <!-- 0 -->\n      <g transform=\"translate(126.302272 160.398438) scale(0.1 -0.1)\">\n       <defs>\n        <path id=\"DejaVuSans-30\" d=\"M 2034 4250 \nQ 1547 4250 1301 3770 \nQ 1056 3291 1056 2328 \nQ 1056 1369 1301 889 \nQ 1547 409 2034 409 \nQ 2525 409 2770 889 \nQ 3016 1369 3016 2328 \nQ 3016 3291 2770 3770 \nQ 2525 4250 2034 4250 \nz\nM 2034 4750 \nQ 2819 4750 3233 4129 \nQ 3647 3509 3647 2328 \nQ 3647 1150 3233 529 \nQ 2819 -91 2034 -91 \nQ 1250 -91 836 529 \nQ 422 1150 422 2328 \nQ 422 3509 836 4129 \nQ 1250 4750 2034 4750 \nz\n\" transform=\"scale(0.015625)\"/>\n       </defs>\n       <use xlink:href=\"#DejaVuSans-30\"/>\n      </g>\n     </g>\n    </g>\n    <g id=\"xtick_3\">\n     <g id=\"line2d_3\">\n      <g>\n       <use xlink:href=\"#m9247a1ef10\" x=\"182.919902\" y=\"145.8\" style=\"stroke: #000000; stroke-width: 0.8\"/>\n      </g>\n     </g>\n     <g id=\"text_3\">\n      <!-- 2 -->\n      <g transform=\"translate(179.738652 160.398438) scale(0.1 -0.1)\">\n       <use xlink:href=\"#DejaVuSans-32\"/>\n      </g>\n     </g>\n    </g>\n   </g>\n   <g id=\"matplotlib.axis_2\">\n    <g id=\"ytick_1\">\n     <g id=\"line2d_4\">\n      <defs>\n       <path id=\"m95e65b43e9\" d=\"M 0 0 \nL -3.5 0 \n\" style=\"stroke: #000000; stroke-width: 0.8\"/>\n      </defs>\n      <g>\n       <use xlink:href=\"#m95e65b43e9\" x=\"26.925\" y=\"102.908404\" style=\"stroke: #000000; stroke-width: 0.8\"/>\n      </g>\n     </g>\n     <g id=\"text_4\">\n      <!-- 0 -->\n      <g transform=\"translate(13.5625 106.707622) scale(0.1 -0.1)\">\n       <use xlink:href=\"#DejaVuSans-30\"/>\n      </g>\n     </g>\n    </g>\n    <g id=\"ytick_2\">\n     <g id=\"line2d_5\">\n      <g>\n       <use xlink:href=\"#m95e65b43e9\" x=\"26.925\" y=\"57.938114\" style=\"stroke: #000000; stroke-width: 0.8\"/>\n      </g>\n     </g>\n     <g id=\"text_5\">\n      <!-- 10 -->\n      <g transform=\"translate(7.2 61.737332) scale(0.1 -0.1)\">\n       <defs>\n        <path id=\"DejaVuSans-31\" d=\"M 794 531 \nL 1825 531 \nL 1825 4091 \nL 703 3866 \nL 703 4441 \nL 1819 4666 \nL 2450 4666 \nL 2450 531 \nL 3481 531 \nL 3481 0 \nL 794 0 \nL 794 531 \nz\n\" transform=\"scale(0.015625)\"/>\n       </defs>\n       <use xlink:href=\"#DejaVuSans-31\"/>\n       <use xlink:href=\"#DejaVuSans-30\" x=\"63.623047\"/>\n      </g>\n     </g>\n    </g>\n    <g id=\"ytick_3\">\n     <g id=\"line2d_6\">\n      <g>\n       <use xlink:href=\"#m95e65b43e9\" x=\"26.925\" y=\"12.967824\" style=\"stroke: #000000; stroke-width: 0.8\"/>\n      </g>\n     </g>\n     <g id=\"text_6\">\n      <!-- 20 -->\n      <g transform=\"translate(7.2 16.767042) scale(0.1 -0.1)\">\n       <use xlink:href=\"#DejaVuSans-32\"/>\n       <use xlink:href=\"#DejaVuSans-30\" x=\"63.623047\"/>\n      </g>\n     </g>\n    </g>\n   </g>\n   <g id=\"patch_3\">\n    <path d=\"M 26.925 145.8 \nL 26.925 7.2 \n\" style=\"fill: none; stroke: #000000; stroke-width: 0.8; stroke-linejoin: miter; stroke-linecap: square\"/>\n   </g>\n   <g id=\"patch_4\">\n    <path d=\"M 222.225 145.8 \nL 222.225 7.2 \n\" style=\"fill: none; stroke: #000000; stroke-width: 0.8; stroke-linejoin: miter; stroke-linecap: square\"/>\n   </g>\n   <g id=\"patch_5\">\n    <path d=\"M 26.925 145.8 \nL 222.225 145.8 \n\" style=\"fill: none; stroke: #000000; stroke-width: 0.8; stroke-linejoin: miter; stroke-linecap: square\"/>\n   </g>\n   <g id=\"patch_6\">\n    <path d=\"M 26.925 7.2 \nL 222.225 7.2 \n\" style=\"fill: none; stroke: #000000; stroke-width: 0.8; stroke-linejoin: miter; stroke-linecap: square\"/>\n   </g>\n  </g>\n </g>\n <defs>\n  <clipPath id=\"p19144ce6e9\">\n   <rect x=\"26.925\" y=\"7.2\" width=\"195.3\" height=\"138.6\"/>\n  </clipPath>\n </defs>\n</svg>\n"
     },
     "metadata": {},
     "output_type": "display_data"
    }
   ],
   "execution_count": 6
  },
  {
   "metadata": {
    "ExecuteTime": {
     "end_time": "2025-02-18T04:19:11.215933Z",
     "start_time": "2025-02-18T04:19:11.212772Z"
    }
   },
   "cell_type": "code",
   "source": [
    "#该函数接收批量大小、特征矩阵和标签向量作为输入，生成大小为batch_size的小批量。每个小批量包含一组特征和标签。\n",
    "def data_iter(batch_size, features, labels):\n",
    "    num_examples = len(features)\n",
    "    indices = list(range(num_examples))\n",
    "    # 这些样本是随机读取的，没有特定的顺序\n",
    "    random.shuffle(indices)\n",
    "    for i in range(0, num_examples, batch_size):\n",
    "        batch_indices = torch.tensor(\n",
    "        indices[i: min(i + batch_size, num_examples)])\n",
    "        yield features[batch_indices], labels[batch_indices]"
   ],
   "id": "40307f3cac7d032e",
   "outputs": [],
   "execution_count": 22
  },
  {
   "metadata": {
    "ExecuteTime": {
     "end_time": "2025-02-18T04:19:13.794220Z",
     "start_time": "2025-02-18T04:19:13.791517Z"
    }
   },
   "cell_type": "code",
   "source": [
    "#定义模型\n",
    "def linreg(X, w, b): #@save\n",
    "    return torch.matmul(X, w) + b"
   ],
   "id": "45c56c76f69575a",
   "outputs": [],
   "execution_count": 24
  },
  {
   "metadata": {
    "ExecuteTime": {
     "end_time": "2025-02-18T07:00:54.619060Z",
     "start_time": "2025-02-18T07:00:54.616614Z"
    }
   },
   "cell_type": "code",
   "source": [
    "#定义损失函数\n",
    "def squared_loss(y_hat, y): #@save\n",
    "    \"\"\"均方损失\"\"\"\n",
    "    return (y_hat - y.reshape(y_hat.shape)) ** 2 / 2"
   ],
   "id": "1fce2127909dcc19",
   "outputs": [],
   "execution_count": 63
  },
  {
   "metadata": {
    "ExecuteTime": {
     "end_time": "2025-02-18T07:00:55.450186Z",
     "start_time": "2025-02-18T07:00:55.446609Z"
    }
   },
   "cell_type": "code",
   "source": [
    "#定义优化算法\n",
    "def sgd(params, lr, batch_size):\n",
    "    \"\"\"小批量随机梯度下降\"\"\"\n",
    "\n",
    "    \"\"\"torch.no_grad() 是一个上下文管理器，其作用是临时禁止 PyTorch 进行自动求导。由于在参数更新阶段无需进行梯度计算，所以使用这个上下文管理器能够提升计算效率，同时节省内存。\"\"\"\n",
    "    with torch.no_grad():\n",
    "        for param in params:\n",
    "            \"\"\"\n",
    "            这行代码是小批量随机梯度下降算法的核心更新步骤。具体而言：\n",
    "            - param.grad 表示当前参数的梯度，它是在反向传播过程中由 PyTorch 自动计算得出的。\n",
    "            - lr * param.grad / batch_size 计算的是参数的更新量。因为梯度是小批量样本上的梯度总和，所以要除以 batch_size 以得到平均梯度。\n",
    "            - param -= ... 采用原地操作的方式更新参数，也就是直接在原参数上减去更新量。\n",
    "            \"\"\"\n",
    "            param -= lr * param.grad / batch_size\n",
    "            \"\"\"param.grad.zero_() 这行代码的作用是将当前参数的梯度清零。在 PyTorch 里，梯度默认是累积的，所以在每次更新参数之后，需要手动将梯度清零，从而避免梯度累积对下一次迭代产生影响。\"\"\"\n",
    "            param.grad.zero_()"
   ],
   "id": "ff0c8bb4904159e9",
   "outputs": [],
   "execution_count": 64
  },
  {
   "metadata": {
    "ExecuteTime": {
     "end_time": "2025-02-18T07:05:36.886333Z",
     "start_time": "2025-02-18T07:05:36.883810Z"
    }
   },
   "cell_type": "code",
   "source": [
    "#初始化权重，并将\n",
    "w = torch.tensor([0., 0.])\n",
    "b = 0"
   ],
   "id": "c0d963e91450926a",
   "outputs": [],
   "execution_count": 89
  },
  {
   "metadata": {
    "ExecuteTime": {
     "end_time": "2025-02-18T07:05:37.586840Z",
     "start_time": "2025-02-18T07:05:37.500363Z"
    }
   },
   "cell_type": "code",
   "source": [
    "lr = 0.03\n",
    "num_epochs =3\n",
    "batch_size = 10\n",
    "net = linreg\n",
    "loss = squard_loss\n",
    "\n",
    "for epoch in range(num_epochs):\n",
    "    for X, y in data_iter(batch_size, features, labels):\n",
    "        l = loss(net(X, w, b), y) # X和y的小批量损失\n",
    "        # 因为l形状是(batch_size,1)，而不是一个标量。l中的所有元素被加到一起，\n",
    "        # 并以此计算关于[w,b]的梯度\n",
    "        l.sum().backward()\n",
    "        sgd([w, b], lr, batch_size) # 使用参数的梯度更新参数\n",
    "    with torch.no_grad():\n",
    "        train_l = loss(net(features, w, b), labels)\n",
    "        print(f'epoch {epoch + 1}, loss {float(train_l.mean()):f}')"
   ],
   "id": "9d5ad6e8c5c9a256",
   "outputs": [
    {
     "ename": "RuntimeError",
     "evalue": "element 0 of tensors does not require grad and does not have a grad_fn",
     "output_type": "error",
     "traceback": [
      "\u001B[0;31m---------------------------------------------------------------------------\u001B[0m",
      "\u001B[0;31mRuntimeError\u001B[0m                              Traceback (most recent call last)",
      "Cell \u001B[0;32mIn[90], line 12\u001B[0m\n\u001B[1;32m      9\u001B[0m     l \u001B[38;5;241m=\u001B[39m loss(net(X, w, b), y) \u001B[38;5;66;03m# X和y的小批量损失\u001B[39;00m\n\u001B[1;32m     10\u001B[0m     \u001B[38;5;66;03m# 因为l形状是(batch_size,1)，而不是一个标量。l中的所有元素被加到一起，\u001B[39;00m\n\u001B[1;32m     11\u001B[0m     \u001B[38;5;66;03m# 并以此计算关于[w,b]的梯度\u001B[39;00m\n\u001B[0;32m---> 12\u001B[0m     \u001B[43ml\u001B[49m\u001B[38;5;241;43m.\u001B[39;49m\u001B[43msum\u001B[49m\u001B[43m(\u001B[49m\u001B[43m)\u001B[49m\u001B[38;5;241;43m.\u001B[39;49m\u001B[43mbackward\u001B[49m\u001B[43m(\u001B[49m\u001B[43m)\u001B[49m\n\u001B[1;32m     13\u001B[0m     sgd([w, b], lr, batch_size) \u001B[38;5;66;03m# 使用参数的梯度更新参数\u001B[39;00m\n\u001B[1;32m     14\u001B[0m \u001B[38;5;28;01mwith\u001B[39;00m torch\u001B[38;5;241m.\u001B[39mno_grad():\n",
      "File \u001B[0;32m~/Library/Python/3.9/lib/python/site-packages/torch/_tensor.py:626\u001B[0m, in \u001B[0;36mTensor.backward\u001B[0;34m(self, gradient, retain_graph, create_graph, inputs)\u001B[0m\n\u001B[1;32m    616\u001B[0m \u001B[38;5;28;01mif\u001B[39;00m has_torch_function_unary(\u001B[38;5;28mself\u001B[39m):\n\u001B[1;32m    617\u001B[0m     \u001B[38;5;28;01mreturn\u001B[39;00m handle_torch_function(\n\u001B[1;32m    618\u001B[0m         Tensor\u001B[38;5;241m.\u001B[39mbackward,\n\u001B[1;32m    619\u001B[0m         (\u001B[38;5;28mself\u001B[39m,),\n\u001B[0;32m   (...)\u001B[0m\n\u001B[1;32m    624\u001B[0m         inputs\u001B[38;5;241m=\u001B[39minputs,\n\u001B[1;32m    625\u001B[0m     )\n\u001B[0;32m--> 626\u001B[0m \u001B[43mtorch\u001B[49m\u001B[38;5;241;43m.\u001B[39;49m\u001B[43mautograd\u001B[49m\u001B[38;5;241;43m.\u001B[39;49m\u001B[43mbackward\u001B[49m\u001B[43m(\u001B[49m\n\u001B[1;32m    627\u001B[0m \u001B[43m    \u001B[49m\u001B[38;5;28;43mself\u001B[39;49m\u001B[43m,\u001B[49m\u001B[43m \u001B[49m\u001B[43mgradient\u001B[49m\u001B[43m,\u001B[49m\u001B[43m \u001B[49m\u001B[43mretain_graph\u001B[49m\u001B[43m,\u001B[49m\u001B[43m \u001B[49m\u001B[43mcreate_graph\u001B[49m\u001B[43m,\u001B[49m\u001B[43m \u001B[49m\u001B[43minputs\u001B[49m\u001B[38;5;241;43m=\u001B[39;49m\u001B[43minputs\u001B[49m\n\u001B[1;32m    628\u001B[0m \u001B[43m\u001B[49m\u001B[43m)\u001B[49m\n",
      "File \u001B[0;32m~/Library/Python/3.9/lib/python/site-packages/torch/autograd/__init__.py:347\u001B[0m, in \u001B[0;36mbackward\u001B[0;34m(tensors, grad_tensors, retain_graph, create_graph, grad_variables, inputs)\u001B[0m\n\u001B[1;32m    342\u001B[0m     retain_graph \u001B[38;5;241m=\u001B[39m create_graph\n\u001B[1;32m    344\u001B[0m \u001B[38;5;66;03m# The reason we repeat the same comment below is that\u001B[39;00m\n\u001B[1;32m    345\u001B[0m \u001B[38;5;66;03m# some Python versions print out the first line of a multi-line function\u001B[39;00m\n\u001B[1;32m    346\u001B[0m \u001B[38;5;66;03m# calls in the traceback and some print out the last line\u001B[39;00m\n\u001B[0;32m--> 347\u001B[0m \u001B[43m_engine_run_backward\u001B[49m\u001B[43m(\u001B[49m\n\u001B[1;32m    348\u001B[0m \u001B[43m    \u001B[49m\u001B[43mtensors\u001B[49m\u001B[43m,\u001B[49m\n\u001B[1;32m    349\u001B[0m \u001B[43m    \u001B[49m\u001B[43mgrad_tensors_\u001B[49m\u001B[43m,\u001B[49m\n\u001B[1;32m    350\u001B[0m \u001B[43m    \u001B[49m\u001B[43mretain_graph\u001B[49m\u001B[43m,\u001B[49m\n\u001B[1;32m    351\u001B[0m \u001B[43m    \u001B[49m\u001B[43mcreate_graph\u001B[49m\u001B[43m,\u001B[49m\n\u001B[1;32m    352\u001B[0m \u001B[43m    \u001B[49m\u001B[43minputs\u001B[49m\u001B[43m,\u001B[49m\n\u001B[1;32m    353\u001B[0m \u001B[43m    \u001B[49m\u001B[43mallow_unreachable\u001B[49m\u001B[38;5;241;43m=\u001B[39;49m\u001B[38;5;28;43;01mTrue\u001B[39;49;00m\u001B[43m,\u001B[49m\n\u001B[1;32m    354\u001B[0m \u001B[43m    \u001B[49m\u001B[43maccumulate_grad\u001B[49m\u001B[38;5;241;43m=\u001B[39;49m\u001B[38;5;28;43;01mTrue\u001B[39;49;00m\u001B[43m,\u001B[49m\n\u001B[1;32m    355\u001B[0m \u001B[43m\u001B[49m\u001B[43m)\u001B[49m\n",
      "File \u001B[0;32m~/Library/Python/3.9/lib/python/site-packages/torch/autograd/graph.py:823\u001B[0m, in \u001B[0;36m_engine_run_backward\u001B[0;34m(t_outputs, *args, **kwargs)\u001B[0m\n\u001B[1;32m    821\u001B[0m     unregister_hooks \u001B[38;5;241m=\u001B[39m _register_logging_hooks_on_whole_graph(t_outputs)\n\u001B[1;32m    822\u001B[0m \u001B[38;5;28;01mtry\u001B[39;00m:\n\u001B[0;32m--> 823\u001B[0m     \u001B[38;5;28;01mreturn\u001B[39;00m \u001B[43mVariable\u001B[49m\u001B[38;5;241;43m.\u001B[39;49m\u001B[43m_execution_engine\u001B[49m\u001B[38;5;241;43m.\u001B[39;49m\u001B[43mrun_backward\u001B[49m\u001B[43m(\u001B[49m\u001B[43m  \u001B[49m\u001B[38;5;66;43;03m# Calls into the C++ engine to run the backward pass\u001B[39;49;00m\n\u001B[1;32m    824\u001B[0m \u001B[43m        \u001B[49m\u001B[43mt_outputs\u001B[49m\u001B[43m,\u001B[49m\u001B[43m \u001B[49m\u001B[38;5;241;43m*\u001B[39;49m\u001B[43margs\u001B[49m\u001B[43m,\u001B[49m\u001B[43m \u001B[49m\u001B[38;5;241;43m*\u001B[39;49m\u001B[38;5;241;43m*\u001B[39;49m\u001B[43mkwargs\u001B[49m\n\u001B[1;32m    825\u001B[0m \u001B[43m    \u001B[49m\u001B[43m)\u001B[49m  \u001B[38;5;66;03m# Calls into the C++ engine to run the backward pass\u001B[39;00m\n\u001B[1;32m    826\u001B[0m \u001B[38;5;28;01mfinally\u001B[39;00m:\n\u001B[1;32m    827\u001B[0m     \u001B[38;5;28;01mif\u001B[39;00m attach_logging_hooks:\n",
      "\u001B[0;31mRuntimeError\u001B[0m: element 0 of tensors does not require grad and does not have a grad_fn"
     ]
    }
   ],
   "execution_count": 90
  },
  {
   "metadata": {
    "ExecuteTime": {
     "end_time": "2025-02-18T07:03:58.051320Z",
     "start_time": "2025-02-18T07:03:58.047523Z"
    }
   },
   "cell_type": "code",
   "source": [
    "print(f'w的估计误差: {true_w - w.reshape(true_w.shape)}')\n",
    "print(f'b的估计误差: {true_b - b}')"
   ],
   "id": "b61abbecea09b3fc",
   "outputs": [
    {
     "name": "stdout",
     "output_type": "stream",
     "text": [
      "w的估计误差: tensor([ 0.2873, -0.4656], grad_fn=<SubBackward0>)\n",
      "b的估计误差: tensor([0.6343], grad_fn=<RsubBackward1>)\n"
     ]
    }
   ],
   "execution_count": 82
  },
  {
   "metadata": {
    "ExecuteTime": {
     "end_time": "2025-02-18T07:09:28.143430Z",
     "start_time": "2025-02-18T07:09:28.140995Z"
    }
   },
   "cell_type": "code",
   "source": [
    "import numpy as np\n",
    "import torch\n",
    "from torch.utils import data\n",
    "from d2l import torch as d2l"
   ],
   "id": "3b4fe47ca81e0f53",
   "outputs": [],
   "execution_count": 91
  },
  {
   "metadata": {
    "ExecuteTime": {
     "end_time": "2025-02-18T07:09:48.183473Z",
     "start_time": "2025-02-18T07:09:48.180452Z"
    }
   },
   "cell_type": "code",
   "source": [
    "true_w = torch.tensor([2,-3.4])\n",
    "true_b = 4.2\n",
    "features, labels = d2l.synthetic_data(true_w, true_b, 1000)"
   ],
   "id": "fb1b74d2cb6054a4",
   "outputs": [],
   "execution_count": 93
  },
  {
   "metadata": {
    "ExecuteTime": {
     "end_time": "2025-02-18T07:11:39.217916Z",
     "start_time": "2025-02-18T07:11:39.215283Z"
    }
   },
   "cell_type": "code",
   "source": [
    "def load_array(data_arrays, batch_size, is_train=True): #@save\n",
    "    \"\"\"构造一个PyTorch数据迭代器\"\"\"\n",
    "    dataset = data.TensorDataset(*data_arrays)\n",
    "    return data.DataLoader(dataset, batch_size, shuffle=is_train)"
   ],
   "id": "f363a35093ea07df",
   "outputs": [],
   "execution_count": 94
  },
  {
   "metadata": {
    "ExecuteTime": {
     "end_time": "2025-02-18T07:12:16.041528Z",
     "start_time": "2025-02-18T07:12:16.038646Z"
    }
   },
   "cell_type": "code",
   "source": [
    "batch_size = 10\n",
    "data_iter = load_array((features, labels), batch_size, True)"
   ],
   "id": "9afed356f453d4bc",
   "outputs": [],
   "execution_count": 95
  },
  {
   "metadata": {
    "ExecuteTime": {
     "end_time": "2025-02-18T07:12:36.878185Z",
     "start_time": "2025-02-18T07:12:36.874755Z"
    }
   },
   "cell_type": "code",
   "source": "next(iter(data_iter))",
   "id": "d886b5a8f28f119f",
   "outputs": [
    {
     "data": {
      "text/plain": [
       "[tensor([[ 0.2982, -0.7477],\n",
       "         [ 0.1266, -0.5896],\n",
       "         [ 0.7669,  0.0431],\n",
       "         [ 0.6088,  0.3894],\n",
       "         [ 0.4173,  0.0813],\n",
       "         [ 2.5875, -0.4629],\n",
       "         [ 0.0967,  1.5507],\n",
       "         [ 0.6778,  0.0720],\n",
       "         [-0.9892,  1.0274],\n",
       "         [ 0.6163, -0.4709]]),\n",
       " tensor([[ 7.3304],\n",
       "         [ 6.4415],\n",
       "         [ 5.5760],\n",
       "         [ 4.0963],\n",
       "         [ 4.7599],\n",
       "         [10.9595],\n",
       "         [-0.8824],\n",
       "         [ 5.2882],\n",
       "         [-1.2662],\n",
       "         [ 7.0454]])]"
      ]
     },
     "execution_count": 96,
     "metadata": {},
     "output_type": "execute_result"
    }
   ],
   "execution_count": 96
  },
  {
   "metadata": {
    "ExecuteTime": {
     "end_time": "2025-02-18T18:44:32.654221Z",
     "start_time": "2025-02-18T18:44:32.651555Z"
    }
   },
   "cell_type": "code",
   "source": [
    "# nn是神经网络的缩写\n",
    "from torch import nn\n",
    "\n",
    "# 第一个参数为特征形状，我们的模型有两个特征，故为2\n",
    "# 第二个参数为输出特征形状，输出特征形状为单个标量（target），故为1\n",
    "net = nn.Sequential(nn.Linear(2,1))"
   ],
   "id": "9c0d1f67913420c6",
   "outputs": [],
   "execution_count": 121
  },
  {
   "metadata": {
    "ExecuteTime": {
     "end_time": "2025-02-18T18:44:33.180229Z",
     "start_time": "2025-02-18T18:44:33.177867Z"
    }
   },
   "cell_type": "code",
   "source": [
    "# MSELoss 也称为平方L2范数\n",
    "loss = nn.MSELoss()"
   ],
   "id": "14dcd60f830acb42",
   "outputs": [],
   "execution_count": 122
  },
  {
   "metadata": {
    "ExecuteTime": {
     "end_time": "2025-02-18T18:44:33.766186Z",
     "start_time": "2025-02-18T18:44:33.763497Z"
    }
   },
   "cell_type": "code",
   "source": "trainer = torch.optim.SGD(net.parameters(), lr=0.03)",
   "id": "9c4af3561df7c0c2",
   "outputs": [],
   "execution_count": 123
  },
  {
   "metadata": {
    "ExecuteTime": {
     "end_time": "2025-02-19T03:35:50.039643Z",
     "start_time": "2025-02-19T03:35:49.962036Z"
    }
   },
   "cell_type": "code",
   "source": [
    "num_epochs = 3\n",
    "\n",
    "for epoch in range(num_epochs):\n",
    "    for X, y in data_iter:\n",
    "        l = loss(net(X), y)\n",
    "        trainer.zero_grad()\n",
    "        l.backward()\n",
    "\n",
    "        # 查找并打印模型参数的梯度\n",
    "        for name, param in net.named_parameters():\n",
    "            if param.grad is not None:\n",
    "                print(f\"Epoch {epoch + 1}, Parameter: {name}, Gradient: {param.grad}\")\n",
    "\n",
    "        trainer.step()\n",
    "    print(X.grad)\n",
    "    l = loss(net(features), labels)\n",
    "    print(f'epoch {epoch + 1}, loss {l:f}')"
   ],
   "id": "67bdc63b57836d1",
   "outputs": [
    {
     "name": "stdout",
     "output_type": "stream",
     "text": [
      "Epoch 1, Parameter: 0.weight, Gradient: tensor([[ 0.0030, -0.0013]])\n",
      "Epoch 1, Parameter: 0.bias, Gradient: tensor([0.0018])\n",
      "Epoch 1, Parameter: 0.weight, Gradient: tensor([[-0.0018, -0.0017]])\n",
      "Epoch 1, Parameter: 0.bias, Gradient: tensor([0.0023])\n",
      "Epoch 1, Parameter: 0.weight, Gradient: tensor([[0.0004, 0.0038]])\n",
      "Epoch 1, Parameter: 0.bias, Gradient: tensor([0.0033])\n",
      "Epoch 1, Parameter: 0.weight, Gradient: tensor([[0.0057, 0.0108]])\n",
      "Epoch 1, Parameter: 0.bias, Gradient: tensor([0.0036])\n",
      "Epoch 1, Parameter: 0.weight, Gradient: tensor([[0.0023, 0.0132]])\n",
      "Epoch 1, Parameter: 0.bias, Gradient: tensor([0.0019])\n",
      "Epoch 1, Parameter: 0.weight, Gradient: tensor([[-0.0032, -0.0037]])\n",
      "Epoch 1, Parameter: 0.bias, Gradient: tensor([-0.0076])\n",
      "Epoch 1, Parameter: 0.weight, Gradient: tensor([[0.0048, 0.0008]])\n",
      "Epoch 1, Parameter: 0.bias, Gradient: tensor([0.0070])\n",
      "Epoch 1, Parameter: 0.weight, Gradient: tensor([[-0.0004, -0.0015]])\n",
      "Epoch 1, Parameter: 0.bias, Gradient: tensor([0.0020])\n",
      "Epoch 1, Parameter: 0.weight, Gradient: tensor([[-0.0023,  0.0043]])\n",
      "Epoch 1, Parameter: 0.bias, Gradient: tensor([-0.0098])\n",
      "Epoch 1, Parameter: 0.weight, Gradient: tensor([[-0.0093, -0.0051]])\n",
      "Epoch 1, Parameter: 0.bias, Gradient: tensor([-0.0068])\n",
      "Epoch 1, Parameter: 0.weight, Gradient: tensor([[0.0154, 0.0133]])\n",
      "Epoch 1, Parameter: 0.bias, Gradient: tensor([0.0065])\n",
      "Epoch 1, Parameter: 0.weight, Gradient: tensor([[ 0.0002, -0.0101]])\n",
      "Epoch 1, Parameter: 0.bias, Gradient: tensor([0.0057])\n",
      "Epoch 1, Parameter: 0.weight, Gradient: tensor([[-0.0040, -0.0004]])\n",
      "Epoch 1, Parameter: 0.bias, Gradient: tensor([-0.0015])\n",
      "Epoch 1, Parameter: 0.weight, Gradient: tensor([[0.0012, 0.0074]])\n",
      "Epoch 1, Parameter: 0.bias, Gradient: tensor([0.0032])\n",
      "Epoch 1, Parameter: 0.weight, Gradient: tensor([[-0.0006,  0.0094]])\n",
      "Epoch 1, Parameter: 0.bias, Gradient: tensor([-0.0021])\n",
      "Epoch 1, Parameter: 0.weight, Gradient: tensor([[-0.0012, -0.0059]])\n",
      "Epoch 1, Parameter: 0.bias, Gradient: tensor([-0.0046])\n",
      "Epoch 1, Parameter: 0.weight, Gradient: tensor([[ 0.0116, -0.0102]])\n",
      "Epoch 1, Parameter: 0.bias, Gradient: tensor([-0.0087])\n",
      "Epoch 1, Parameter: 0.weight, Gradient: tensor([[-0.0013, -0.0104]])\n",
      "Epoch 1, Parameter: 0.bias, Gradient: tensor([-0.0020])\n",
      "Epoch 1, Parameter: 0.weight, Gradient: tensor([[0.0020, 0.0017]])\n",
      "Epoch 1, Parameter: 0.bias, Gradient: tensor([-0.0044])\n",
      "Epoch 1, Parameter: 0.weight, Gradient: tensor([[0.0003, 0.0015]])\n",
      "Epoch 1, Parameter: 0.bias, Gradient: tensor([-0.0053])\n",
      "Epoch 1, Parameter: 0.weight, Gradient: tensor([[-0.0021,  0.0036]])\n",
      "Epoch 1, Parameter: 0.bias, Gradient: tensor([-0.0008])\n",
      "Epoch 1, Parameter: 0.weight, Gradient: tensor([[ 0.0045, -0.0076]])\n",
      "Epoch 1, Parameter: 0.bias, Gradient: tensor([0.0101])\n",
      "Epoch 1, Parameter: 0.weight, Gradient: tensor([[-0.0035, -0.0048]])\n",
      "Epoch 1, Parameter: 0.bias, Gradient: tensor([0.0006])\n",
      "Epoch 1, Parameter: 0.weight, Gradient: tensor([[0.0063, 0.0084]])\n",
      "Epoch 1, Parameter: 0.bias, Gradient: tensor([0.0045])\n",
      "Epoch 1, Parameter: 0.weight, Gradient: tensor([[0.0034, 0.0022]])\n",
      "Epoch 1, Parameter: 0.bias, Gradient: tensor([0.0002])\n",
      "Epoch 1, Parameter: 0.weight, Gradient: tensor([[-0.0044,  0.0056]])\n",
      "Epoch 1, Parameter: 0.bias, Gradient: tensor([-0.0001])\n",
      "Epoch 1, Parameter: 0.weight, Gradient: tensor([[-0.0064, -0.0072]])\n",
      "Epoch 1, Parameter: 0.bias, Gradient: tensor([-0.0046])\n",
      "Epoch 1, Parameter: 0.weight, Gradient: tensor([[0.0058, 0.0007]])\n",
      "Epoch 1, Parameter: 0.bias, Gradient: tensor([-0.0067])\n",
      "Epoch 1, Parameter: 0.weight, Gradient: tensor([[-0.0023,  0.0078]])\n",
      "Epoch 1, Parameter: 0.bias, Gradient: tensor([0.0094])\n",
      "Epoch 1, Parameter: 0.weight, Gradient: tensor([[-0.0038,  0.0059]])\n",
      "Epoch 1, Parameter: 0.bias, Gradient: tensor([0.0079])\n",
      "Epoch 1, Parameter: 0.weight, Gradient: tensor([[-0.0038, -0.0073]])\n",
      "Epoch 1, Parameter: 0.bias, Gradient: tensor([0.0039])\n",
      "Epoch 1, Parameter: 0.weight, Gradient: tensor([[-0.0036, -0.0002]])\n",
      "Epoch 1, Parameter: 0.bias, Gradient: tensor([0.0011])\n",
      "Epoch 1, Parameter: 0.weight, Gradient: tensor([[-0.0045, -0.0092]])\n",
      "Epoch 1, Parameter: 0.bias, Gradient: tensor([-0.0011])\n",
      "Epoch 1, Parameter: 0.weight, Gradient: tensor([[ 0.0002, -0.0092]])\n",
      "Epoch 1, Parameter: 0.bias, Gradient: tensor([0.0014])\n",
      "Epoch 1, Parameter: 0.weight, Gradient: tensor([[ 0.0030, -0.0006]])\n",
      "Epoch 1, Parameter: 0.bias, Gradient: tensor([0.0016])\n",
      "Epoch 1, Parameter: 0.weight, Gradient: tensor([[ 0.0099, -0.0037]])\n",
      "Epoch 1, Parameter: 0.bias, Gradient: tensor([-0.0109])\n",
      "Epoch 1, Parameter: 0.weight, Gradient: tensor([[-0.0072, -0.0097]])\n",
      "Epoch 1, Parameter: 0.bias, Gradient: tensor([0.0061])\n",
      "Epoch 1, Parameter: 0.weight, Gradient: tensor([[-0.0100, -0.0029]])\n",
      "Epoch 1, Parameter: 0.bias, Gradient: tensor([-0.0052])\n",
      "Epoch 1, Parameter: 0.weight, Gradient: tensor([[-0.0052,  0.0035]])\n",
      "Epoch 1, Parameter: 0.bias, Gradient: tensor([0.0053])\n",
      "Epoch 1, Parameter: 0.weight, Gradient: tensor([[-0.0051, -0.0012]])\n",
      "Epoch 1, Parameter: 0.bias, Gradient: tensor([-0.0023])\n",
      "Epoch 1, Parameter: 0.weight, Gradient: tensor([[0.0025, 0.0020]])\n",
      "Epoch 1, Parameter: 0.bias, Gradient: tensor([0.0017])\n",
      "Epoch 1, Parameter: 0.weight, Gradient: tensor([[0.0096, 0.0054]])\n",
      "Epoch 1, Parameter: 0.bias, Gradient: tensor([0.0081])\n",
      "Epoch 1, Parameter: 0.weight, Gradient: tensor([[-0.0152,  0.0061]])\n",
      "Epoch 1, Parameter: 0.bias, Gradient: tensor([-0.0071])\n",
      "Epoch 1, Parameter: 0.weight, Gradient: tensor([[-0.0081, -0.0026]])\n",
      "Epoch 1, Parameter: 0.bias, Gradient: tensor([0.0049])\n",
      "Epoch 1, Parameter: 0.weight, Gradient: tensor([[0.0023, 0.0092]])\n",
      "Epoch 1, Parameter: 0.bias, Gradient: tensor([0.0089])\n",
      "Epoch 1, Parameter: 0.weight, Gradient: tensor([[0.0156, 0.0083]])\n",
      "Epoch 1, Parameter: 0.bias, Gradient: tensor([-0.0074])\n",
      "Epoch 1, Parameter: 0.weight, Gradient: tensor([[-0.0014, -0.0012]])\n",
      "Epoch 1, Parameter: 0.bias, Gradient: tensor([-0.0066])\n",
      "Epoch 1, Parameter: 0.weight, Gradient: tensor([[8.0684e-05, 5.3761e-03]])\n",
      "Epoch 1, Parameter: 0.bias, Gradient: tensor([0.0026])\n",
      "Epoch 1, Parameter: 0.weight, Gradient: tensor([[ 0.0094, -0.0068]])\n",
      "Epoch 1, Parameter: 0.bias, Gradient: tensor([-0.0059])\n",
      "Epoch 1, Parameter: 0.weight, Gradient: tensor([[-0.0053, -0.0132]])\n",
      "Epoch 1, Parameter: 0.bias, Gradient: tensor([0.0084])\n",
      "Epoch 1, Parameter: 0.weight, Gradient: tensor([[-0.0027,  0.0013]])\n",
      "Epoch 1, Parameter: 0.bias, Gradient: tensor([-0.0002])\n",
      "Epoch 1, Parameter: 0.weight, Gradient: tensor([[-0.0116, -0.0017]])\n",
      "Epoch 1, Parameter: 0.bias, Gradient: tensor([-0.0048])\n",
      "Epoch 1, Parameter: 0.weight, Gradient: tensor([[0.0016, 0.0058]])\n",
      "Epoch 1, Parameter: 0.bias, Gradient: tensor([-0.0022])\n",
      "Epoch 1, Parameter: 0.weight, Gradient: tensor([[-0.0024, -0.0023]])\n",
      "Epoch 1, Parameter: 0.bias, Gradient: tensor([-0.0005])\n",
      "Epoch 1, Parameter: 0.weight, Gradient: tensor([[ 0.0032, -0.0015]])\n",
      "Epoch 1, Parameter: 0.bias, Gradient: tensor([-0.0068])\n",
      "Epoch 1, Parameter: 0.weight, Gradient: tensor([[0.0082, 0.0055]])\n",
      "Epoch 1, Parameter: 0.bias, Gradient: tensor([8.6904e-05])\n",
      "Epoch 1, Parameter: 0.weight, Gradient: tensor([[-0.0066,  0.0197]])\n",
      "Epoch 1, Parameter: 0.bias, Gradient: tensor([-0.0058])\n",
      "Epoch 1, Parameter: 0.weight, Gradient: tensor([[0.0118, 0.0032]])\n",
      "Epoch 1, Parameter: 0.bias, Gradient: tensor([-0.0035])\n",
      "Epoch 1, Parameter: 0.weight, Gradient: tensor([[-0.0048, -0.0019]])\n",
      "Epoch 1, Parameter: 0.bias, Gradient: tensor([-0.0061])\n",
      "Epoch 1, Parameter: 0.weight, Gradient: tensor([[0.0128, 0.0012]])\n",
      "Epoch 1, Parameter: 0.bias, Gradient: tensor([0.0083])\n",
      "Epoch 1, Parameter: 0.weight, Gradient: tensor([[-0.0002,  0.0019]])\n",
      "Epoch 1, Parameter: 0.bias, Gradient: tensor([-0.0085])\n",
      "Epoch 1, Parameter: 0.weight, Gradient: tensor([[-0.0077,  0.0043]])\n",
      "Epoch 1, Parameter: 0.bias, Gradient: tensor([0.0075])\n",
      "Epoch 1, Parameter: 0.weight, Gradient: tensor([[-0.0024,  0.0010]])\n",
      "Epoch 1, Parameter: 0.bias, Gradient: tensor([0.0022])\n",
      "Epoch 1, Parameter: 0.weight, Gradient: tensor([[-0.0025,  0.0031]])\n",
      "Epoch 1, Parameter: 0.bias, Gradient: tensor([0.0043])\n",
      "Epoch 1, Parameter: 0.weight, Gradient: tensor([[0.0029, 0.0022]])\n",
      "Epoch 1, Parameter: 0.bias, Gradient: tensor([0.0008])\n",
      "Epoch 1, Parameter: 0.weight, Gradient: tensor([[0.0004, 0.0009]])\n",
      "Epoch 1, Parameter: 0.bias, Gradient: tensor([-0.0042])\n",
      "Epoch 1, Parameter: 0.weight, Gradient: tensor([[-7.4031e-05,  6.2647e-03]])\n",
      "Epoch 1, Parameter: 0.bias, Gradient: tensor([0.0042])\n",
      "Epoch 1, Parameter: 0.weight, Gradient: tensor([[0.0060, 0.0084]])\n",
      "Epoch 1, Parameter: 0.bias, Gradient: tensor([0.0002])\n",
      "Epoch 1, Parameter: 0.weight, Gradient: tensor([[0.0014, 0.0016]])\n",
      "Epoch 1, Parameter: 0.bias, Gradient: tensor([0.0010])\n",
      "Epoch 1, Parameter: 0.weight, Gradient: tensor([[-0.0058,  0.0030]])\n",
      "Epoch 1, Parameter: 0.bias, Gradient: tensor([0.0023])\n",
      "Epoch 1, Parameter: 0.weight, Gradient: tensor([[-0.0011, -0.0184]])\n",
      "Epoch 1, Parameter: 0.bias, Gradient: tensor([0.0088])\n",
      "Epoch 1, Parameter: 0.weight, Gradient: tensor([[-0.0061, -0.0098]])\n",
      "Epoch 1, Parameter: 0.bias, Gradient: tensor([-0.0028])\n",
      "Epoch 1, Parameter: 0.weight, Gradient: tensor([[ 0.0033, -0.0015]])\n",
      "Epoch 1, Parameter: 0.bias, Gradient: tensor([-0.0102])\n",
      "Epoch 1, Parameter: 0.weight, Gradient: tensor([[-0.0010,  0.0028]])\n",
      "Epoch 1, Parameter: 0.bias, Gradient: tensor([0.0030])\n",
      "Epoch 1, Parameter: 0.weight, Gradient: tensor([[-0.0090, -0.0072]])\n",
      "Epoch 1, Parameter: 0.bias, Gradient: tensor([0.0168])\n",
      "Epoch 1, Parameter: 0.weight, Gradient: tensor([[-0.0054,  0.0006]])\n",
      "Epoch 1, Parameter: 0.bias, Gradient: tensor([0.0100])\n",
      "Epoch 1, Parameter: 0.weight, Gradient: tensor([[-0.0129, -0.0052]])\n",
      "Epoch 1, Parameter: 0.bias, Gradient: tensor([-0.0123])\n",
      "Epoch 1, Parameter: 0.weight, Gradient: tensor([[-0.0002, -0.0166]])\n",
      "Epoch 1, Parameter: 0.bias, Gradient: tensor([-0.0016])\n",
      "Epoch 1, Parameter: 0.weight, Gradient: tensor([[ 0.0006, -0.0015]])\n",
      "Epoch 1, Parameter: 0.bias, Gradient: tensor([0.0010])\n",
      "Epoch 1, Parameter: 0.weight, Gradient: tensor([[0.0015, 0.0063]])\n",
      "Epoch 1, Parameter: 0.bias, Gradient: tensor([-3.7086e-05])\n",
      "Epoch 1, Parameter: 0.weight, Gradient: tensor([[0.0028, 0.0049]])\n",
      "Epoch 1, Parameter: 0.bias, Gradient: tensor([0.0035])\n",
      "Epoch 1, Parameter: 0.weight, Gradient: tensor([[-0.0004,  0.0047]])\n",
      "Epoch 1, Parameter: 0.bias, Gradient: tensor([-0.0032])\n",
      "Epoch 1, Parameter: 0.weight, Gradient: tensor([[0.0012, 0.0018]])\n",
      "Epoch 1, Parameter: 0.bias, Gradient: tensor([0.0079])\n",
      "Epoch 1, Parameter: 0.weight, Gradient: tensor([[-0.0025, -0.0045]])\n",
      "Epoch 1, Parameter: 0.bias, Gradient: tensor([-0.0103])\n",
      "Epoch 1, Parameter: 0.weight, Gradient: tensor([[0.0084, 0.0038]])\n",
      "Epoch 1, Parameter: 0.bias, Gradient: tensor([0.0082])\n",
      "Epoch 1, Parameter: 0.weight, Gradient: tensor([[0.0008, 0.0007]])\n",
      "Epoch 1, Parameter: 0.bias, Gradient: tensor([-0.0078])\n",
      "Epoch 1, Parameter: 0.weight, Gradient: tensor([[-0.0025,  0.0092]])\n",
      "Epoch 1, Parameter: 0.bias, Gradient: tensor([-0.0044])\n",
      "Epoch 1, Parameter: 0.weight, Gradient: tensor([[0.0028, 0.0109]])\n",
      "Epoch 1, Parameter: 0.bias, Gradient: tensor([0.0011])\n",
      "Epoch 1, Parameter: 0.weight, Gradient: tensor([[-0.0100, -0.0002]])\n",
      "Epoch 1, Parameter: 0.bias, Gradient: tensor([-0.0007])\n",
      "Epoch 1, Parameter: 0.weight, Gradient: tensor([[0.0016, 0.0054]])\n",
      "Epoch 1, Parameter: 0.bias, Gradient: tensor([0.0055])\n",
      "Epoch 1, Parameter: 0.weight, Gradient: tensor([[ 0.0047, -0.0091]])\n",
      "Epoch 1, Parameter: 0.bias, Gradient: tensor([-0.0015])\n",
      "Epoch 1, Parameter: 0.weight, Gradient: tensor([[0.0084, 0.0047]])\n",
      "Epoch 1, Parameter: 0.bias, Gradient: tensor([-0.0102])\n",
      "Epoch 1, Parameter: 0.weight, Gradient: tensor([[-1.6765e-04,  5.3367e-05]])\n",
      "Epoch 1, Parameter: 0.bias, Gradient: tensor([0.0071])\n",
      "Epoch 1, Parameter: 0.weight, Gradient: tensor([[-0.0021, -0.0091]])\n",
      "Epoch 1, Parameter: 0.bias, Gradient: tensor([-0.0001])\n",
      "Epoch 1, Parameter: 0.weight, Gradient: tensor([[ 0.0134, -0.0062]])\n",
      "Epoch 1, Parameter: 0.bias, Gradient: tensor([0.0060])\n",
      "Epoch 1, Parameter: 0.weight, Gradient: tensor([[-0.0079,  0.0083]])\n",
      "Epoch 1, Parameter: 0.bias, Gradient: tensor([-0.0077])\n",
      "Epoch 1, Parameter: 0.weight, Gradient: tensor([[ 0.0009, -0.0023]])\n",
      "Epoch 1, Parameter: 0.bias, Gradient: tensor([-0.0071])\n",
      "Epoch 1, Parameter: 0.weight, Gradient: tensor([[-0.0033,  0.0019]])\n",
      "Epoch 1, Parameter: 0.bias, Gradient: tensor([0.0029])\n",
      "Epoch 1, Parameter: 0.weight, Gradient: tensor([[ 0.0015, -0.0060]])\n",
      "Epoch 1, Parameter: 0.bias, Gradient: tensor([0.0070])\n",
      "Epoch 1, Parameter: 0.weight, Gradient: tensor([[-2.4262e-03, -3.6262e-05]])\n",
      "Epoch 1, Parameter: 0.bias, Gradient: tensor([-0.0029])\n",
      "None\n",
      "epoch 1, loss 0.000097\n",
      "Epoch 2, Parameter: 0.weight, Gradient: tensor([[0.0084, 0.0020]])\n",
      "Epoch 2, Parameter: 0.bias, Gradient: tensor([-0.0014])\n",
      "Epoch 2, Parameter: 0.weight, Gradient: tensor([[-0.0053,  0.0007]])\n",
      "Epoch 2, Parameter: 0.bias, Gradient: tensor([0.0094])\n",
      "Epoch 2, Parameter: 0.weight, Gradient: tensor([[ 0.0094, -0.0024]])\n",
      "Epoch 2, Parameter: 0.bias, Gradient: tensor([0.0028])\n",
      "Epoch 2, Parameter: 0.weight, Gradient: tensor([[-0.0017,  0.0043]])\n",
      "Epoch 2, Parameter: 0.bias, Gradient: tensor([0.0035])\n",
      "Epoch 2, Parameter: 0.weight, Gradient: tensor([[-0.0054,  0.0043]])\n",
      "Epoch 2, Parameter: 0.bias, Gradient: tensor([-0.0106])\n",
      "Epoch 2, Parameter: 0.weight, Gradient: tensor([[0.0068, 0.0019]])\n",
      "Epoch 2, Parameter: 0.bias, Gradient: tensor([0.0009])\n",
      "Epoch 2, Parameter: 0.weight, Gradient: tensor([[-0.0003, -0.0040]])\n",
      "Epoch 2, Parameter: 0.bias, Gradient: tensor([0.0042])\n",
      "Epoch 2, Parameter: 0.weight, Gradient: tensor([[-0.0096,  0.0006]])\n",
      "Epoch 2, Parameter: 0.bias, Gradient: tensor([0.0026])\n",
      "Epoch 2, Parameter: 0.weight, Gradient: tensor([[0.0030, 0.0051]])\n",
      "Epoch 2, Parameter: 0.bias, Gradient: tensor([-0.0059])\n",
      "Epoch 2, Parameter: 0.weight, Gradient: tensor([[ 0.0113, -0.0037]])\n",
      "Epoch 2, Parameter: 0.bias, Gradient: tensor([-0.0013])\n",
      "Epoch 2, Parameter: 0.weight, Gradient: tensor([[ 0.0013, -0.0089]])\n",
      "Epoch 2, Parameter: 0.bias, Gradient: tensor([0.0053])\n",
      "Epoch 2, Parameter: 0.weight, Gradient: tensor([[ 0.0065, -0.0081]])\n",
      "Epoch 2, Parameter: 0.bias, Gradient: tensor([0.0021])\n",
      "Epoch 2, Parameter: 0.weight, Gradient: tensor([[-0.0030, -0.0045]])\n",
      "Epoch 2, Parameter: 0.bias, Gradient: tensor([-0.0107])\n",
      "Epoch 2, Parameter: 0.weight, Gradient: tensor([[-0.0010,  0.0049]])\n",
      "Epoch 2, Parameter: 0.bias, Gradient: tensor([0.0067])\n",
      "Epoch 2, Parameter: 0.weight, Gradient: tensor([[-0.0010,  0.0013]])\n",
      "Epoch 2, Parameter: 0.bias, Gradient: tensor([0.0066])\n",
      "Epoch 2, Parameter: 0.weight, Gradient: tensor([[-0.0020,  0.0011]])\n",
      "Epoch 2, Parameter: 0.bias, Gradient: tensor([-0.0044])\n",
      "Epoch 2, Parameter: 0.weight, Gradient: tensor([[0.0029, 0.0074]])\n",
      "Epoch 2, Parameter: 0.bias, Gradient: tensor([-0.0088])\n",
      "Epoch 2, Parameter: 0.weight, Gradient: tensor([[-0.0009, -0.0038]])\n",
      "Epoch 2, Parameter: 0.bias, Gradient: tensor([-0.0016])\n",
      "Epoch 2, Parameter: 0.weight, Gradient: tensor([[-0.0047, -0.0007]])\n",
      "Epoch 2, Parameter: 0.bias, Gradient: tensor([-0.0020])\n",
      "Epoch 2, Parameter: 0.weight, Gradient: tensor([[-0.0064,  0.0083]])\n",
      "Epoch 2, Parameter: 0.bias, Gradient: tensor([0.0019])\n",
      "Epoch 2, Parameter: 0.weight, Gradient: tensor([[-0.0006, -0.0022]])\n",
      "Epoch 2, Parameter: 0.bias, Gradient: tensor([-0.0038])\n",
      "Epoch 2, Parameter: 0.weight, Gradient: tensor([[0.0063, 0.0037]])\n",
      "Epoch 2, Parameter: 0.bias, Gradient: tensor([-0.0050])\n",
      "Epoch 2, Parameter: 0.weight, Gradient: tensor([[-0.0043,  0.0057]])\n",
      "Epoch 2, Parameter: 0.bias, Gradient: tensor([3.5536e-05])\n",
      "Epoch 2, Parameter: 0.weight, Gradient: tensor([[0.0086, 0.0065]])\n",
      "Epoch 2, Parameter: 0.bias, Gradient: tensor([0.0095])\n",
      "Epoch 2, Parameter: 0.weight, Gradient: tensor([[-0.0006, -0.0017]])\n",
      "Epoch 2, Parameter: 0.bias, Gradient: tensor([-7.0715e-05])\n",
      "Epoch 2, Parameter: 0.weight, Gradient: tensor([[ 0.0015, -0.0043]])\n",
      "Epoch 2, Parameter: 0.bias, Gradient: tensor([0.0066])\n",
      "Epoch 2, Parameter: 0.weight, Gradient: tensor([[-1.0354e-02, -2.6159e-05]])\n",
      "Epoch 2, Parameter: 0.bias, Gradient: tensor([0.0034])\n",
      "Epoch 2, Parameter: 0.weight, Gradient: tensor([[-0.0020,  0.0004]])\n",
      "Epoch 2, Parameter: 0.bias, Gradient: tensor([0.0068])\n",
      "Epoch 2, Parameter: 0.weight, Gradient: tensor([[0.0022, 0.0008]])\n",
      "Epoch 2, Parameter: 0.bias, Gradient: tensor([0.0059])\n",
      "Epoch 2, Parameter: 0.weight, Gradient: tensor([[ 0.0082, -0.0030]])\n",
      "Epoch 2, Parameter: 0.bias, Gradient: tensor([0.0069])\n",
      "Epoch 2, Parameter: 0.weight, Gradient: tensor([[ 0.0014, -0.0196]])\n",
      "Epoch 2, Parameter: 0.bias, Gradient: tensor([-0.0188])\n",
      "Epoch 2, Parameter: 0.weight, Gradient: tensor([[0.0024, 0.0005]])\n",
      "Epoch 2, Parameter: 0.bias, Gradient: tensor([-0.0086])\n",
      "Epoch 2, Parameter: 0.weight, Gradient: tensor([[-0.0044,  0.0048]])\n",
      "Epoch 2, Parameter: 0.bias, Gradient: tensor([-0.0074])\n",
      "Epoch 2, Parameter: 0.weight, Gradient: tensor([[0.0014, 0.0021]])\n",
      "Epoch 2, Parameter: 0.bias, Gradient: tensor([0.0043])\n",
      "Epoch 2, Parameter: 0.weight, Gradient: tensor([[ 0.0208, -0.0170]])\n",
      "Epoch 2, Parameter: 0.bias, Gradient: tensor([-0.0152])\n",
      "Epoch 2, Parameter: 0.weight, Gradient: tensor([[-0.0076, -0.0072]])\n",
      "Epoch 2, Parameter: 0.bias, Gradient: tensor([-0.0042])\n",
      "Epoch 2, Parameter: 0.weight, Gradient: tensor([[0.0033, 0.0066]])\n",
      "Epoch 2, Parameter: 0.bias, Gradient: tensor([0.0037])\n",
      "Epoch 2, Parameter: 0.weight, Gradient: tensor([[0.0026, 0.0044]])\n",
      "Epoch 2, Parameter: 0.bias, Gradient: tensor([-0.0055])\n",
      "Epoch 2, Parameter: 0.weight, Gradient: tensor([[-0.0115,  0.0026]])\n",
      "Epoch 2, Parameter: 0.bias, Gradient: tensor([2.2018e-05])\n",
      "Epoch 2, Parameter: 0.weight, Gradient: tensor([[-0.0111,  0.0029]])\n",
      "Epoch 2, Parameter: 0.bias, Gradient: tensor([0.0009])\n",
      "Epoch 2, Parameter: 0.weight, Gradient: tensor([[0.0046, 0.0028]])\n",
      "Epoch 2, Parameter: 0.bias, Gradient: tensor([0.0025])\n",
      "Epoch 2, Parameter: 0.weight, Gradient: tensor([[ 0.0048, -0.0003]])\n",
      "Epoch 2, Parameter: 0.bias, Gradient: tensor([-0.0083])\n",
      "Epoch 2, Parameter: 0.weight, Gradient: tensor([[-0.0045,  0.0024]])\n",
      "Epoch 2, Parameter: 0.bias, Gradient: tensor([0.0055])\n",
      "Epoch 2, Parameter: 0.weight, Gradient: tensor([[-0.0016, -0.0072]])\n",
      "Epoch 2, Parameter: 0.bias, Gradient: tensor([-0.0020])\n",
      "Epoch 2, Parameter: 0.weight, Gradient: tensor([[0.0055, 0.0012]])\n",
      "Epoch 2, Parameter: 0.bias, Gradient: tensor([-0.0054])\n",
      "Epoch 2, Parameter: 0.weight, Gradient: tensor([[ 0.0084, -0.0054]])\n",
      "Epoch 2, Parameter: 0.bias, Gradient: tensor([0.0060])\n",
      "Epoch 2, Parameter: 0.weight, Gradient: tensor([[-0.0074,  0.0031]])\n",
      "Epoch 2, Parameter: 0.bias, Gradient: tensor([0.0083])\n",
      "Epoch 2, Parameter: 0.weight, Gradient: tensor([[0.0052, 0.0127]])\n",
      "Epoch 2, Parameter: 0.bias, Gradient: tensor([0.0066])\n",
      "Epoch 2, Parameter: 0.weight, Gradient: tensor([[0.0024, 0.0071]])\n",
      "Epoch 2, Parameter: 0.bias, Gradient: tensor([0.0020])\n",
      "Epoch 2, Parameter: 0.weight, Gradient: tensor([[ 0.0014, -0.0034]])\n",
      "Epoch 2, Parameter: 0.bias, Gradient: tensor([-0.0122])\n",
      "Epoch 2, Parameter: 0.weight, Gradient: tensor([[-0.0108, -0.0069]])\n",
      "Epoch 2, Parameter: 0.bias, Gradient: tensor([0.0067])\n",
      "Epoch 2, Parameter: 0.weight, Gradient: tensor([[0.0034, 0.0010]])\n",
      "Epoch 2, Parameter: 0.bias, Gradient: tensor([-0.0005])\n",
      "Epoch 2, Parameter: 0.weight, Gradient: tensor([[ 0.0053, -0.0049]])\n",
      "Epoch 2, Parameter: 0.bias, Gradient: tensor([0.0065])\n",
      "Epoch 2, Parameter: 0.weight, Gradient: tensor([[-0.0167,  0.0161]])\n",
      "Epoch 2, Parameter: 0.bias, Gradient: tensor([-0.0031])\n",
      "Epoch 2, Parameter: 0.weight, Gradient: tensor([[-0.0036,  0.0025]])\n",
      "Epoch 2, Parameter: 0.bias, Gradient: tensor([0.0053])\n",
      "Epoch 2, Parameter: 0.weight, Gradient: tensor([[-0.0010, -0.0067]])\n",
      "Epoch 2, Parameter: 0.bias, Gradient: tensor([-0.0067])\n",
      "Epoch 2, Parameter: 0.weight, Gradient: tensor([[0.0016, 0.0019]])\n",
      "Epoch 2, Parameter: 0.bias, Gradient: tensor([0.0040])\n",
      "Epoch 2, Parameter: 0.weight, Gradient: tensor([[0.0003, 0.0031]])\n",
      "Epoch 2, Parameter: 0.bias, Gradient: tensor([-0.0101])\n",
      "Epoch 2, Parameter: 0.weight, Gradient: tensor([[-0.0071,  0.0066]])\n",
      "Epoch 2, Parameter: 0.bias, Gradient: tensor([0.0019])\n",
      "Epoch 2, Parameter: 0.weight, Gradient: tensor([[-0.0016, -0.0055]])\n",
      "Epoch 2, Parameter: 0.bias, Gradient: tensor([-0.0037])\n",
      "Epoch 2, Parameter: 0.weight, Gradient: tensor([[-0.0114,  0.0055]])\n",
      "Epoch 2, Parameter: 0.bias, Gradient: tensor([0.0085])\n",
      "Epoch 2, Parameter: 0.weight, Gradient: tensor([[0.0020, 0.0012]])\n",
      "Epoch 2, Parameter: 0.bias, Gradient: tensor([0.0027])\n",
      "Epoch 2, Parameter: 0.weight, Gradient: tensor([[ 0.0098, -0.0009]])\n",
      "Epoch 2, Parameter: 0.bias, Gradient: tensor([-0.0031])\n",
      "Epoch 2, Parameter: 0.weight, Gradient: tensor([[-0.0087, -0.0103]])\n",
      "Epoch 2, Parameter: 0.bias, Gradient: tensor([-0.0103])\n",
      "Epoch 2, Parameter: 0.weight, Gradient: tensor([[ 0.0128, -0.0127]])\n",
      "Epoch 2, Parameter: 0.bias, Gradient: tensor([0.0058])\n",
      "Epoch 2, Parameter: 0.weight, Gradient: tensor([[-0.0011, -0.0083]])\n",
      "Epoch 2, Parameter: 0.bias, Gradient: tensor([0.0145])\n",
      "Epoch 2, Parameter: 0.weight, Gradient: tensor([[-0.0038, -0.0040]])\n",
      "Epoch 2, Parameter: 0.bias, Gradient: tensor([-0.0076])\n",
      "Epoch 2, Parameter: 0.weight, Gradient: tensor([[ 0.0078, -0.0054]])\n",
      "Epoch 2, Parameter: 0.bias, Gradient: tensor([-0.0027])\n",
      "Epoch 2, Parameter: 0.weight, Gradient: tensor([[-0.0045,  0.0057]])\n",
      "Epoch 2, Parameter: 0.bias, Gradient: tensor([0.0013])\n",
      "Epoch 2, Parameter: 0.weight, Gradient: tensor([[-0.0035,  0.0006]])\n",
      "Epoch 2, Parameter: 0.bias, Gradient: tensor([-0.0055])\n",
      "Epoch 2, Parameter: 0.weight, Gradient: tensor([[-0.0024, -0.0026]])\n",
      "Epoch 2, Parameter: 0.bias, Gradient: tensor([-0.0037])\n",
      "Epoch 2, Parameter: 0.weight, Gradient: tensor([[ 0.0065, -0.0026]])\n",
      "Epoch 2, Parameter: 0.bias, Gradient: tensor([0.0022])\n",
      "Epoch 2, Parameter: 0.weight, Gradient: tensor([[0.0072, 0.0003]])\n",
      "Epoch 2, Parameter: 0.bias, Gradient: tensor([-0.0114])\n",
      "Epoch 2, Parameter: 0.weight, Gradient: tensor([[-0.0043,  0.0040]])\n",
      "Epoch 2, Parameter: 0.bias, Gradient: tensor([-0.0078])\n",
      "Epoch 2, Parameter: 0.weight, Gradient: tensor([[-0.0012, -0.0007]])\n",
      "Epoch 2, Parameter: 0.bias, Gradient: tensor([0.0008])\n",
      "Epoch 2, Parameter: 0.weight, Gradient: tensor([[0.0042, 0.0129]])\n",
      "Epoch 2, Parameter: 0.bias, Gradient: tensor([0.0130])\n",
      "Epoch 2, Parameter: 0.weight, Gradient: tensor([[-0.0031, -0.0025]])\n",
      "Epoch 2, Parameter: 0.bias, Gradient: tensor([0.0093])\n",
      "Epoch 2, Parameter: 0.weight, Gradient: tensor([[-0.0072, -0.0084]])\n",
      "Epoch 2, Parameter: 0.bias, Gradient: tensor([0.0071])\n",
      "Epoch 2, Parameter: 0.weight, Gradient: tensor([[0.0033, 0.0051]])\n",
      "Epoch 2, Parameter: 0.bias, Gradient: tensor([0.0130])\n",
      "Epoch 2, Parameter: 0.weight, Gradient: tensor([[-0.0065, -0.0010]])\n",
      "Epoch 2, Parameter: 0.bias, Gradient: tensor([0.0037])\n",
      "Epoch 2, Parameter: 0.weight, Gradient: tensor([[0.0153, 0.0023]])\n",
      "Epoch 2, Parameter: 0.bias, Gradient: tensor([-0.0096])\n",
      "Epoch 2, Parameter: 0.weight, Gradient: tensor([[-0.0034,  0.0011]])\n",
      "Epoch 2, Parameter: 0.bias, Gradient: tensor([0.0094])\n",
      "Epoch 2, Parameter: 0.weight, Gradient: tensor([[-0.0062, -0.0098]])\n",
      "Epoch 2, Parameter: 0.bias, Gradient: tensor([0.0005])\n",
      "Epoch 2, Parameter: 0.weight, Gradient: tensor([[-0.0087,  0.0086]])\n",
      "Epoch 2, Parameter: 0.bias, Gradient: tensor([-0.0001])\n",
      "Epoch 2, Parameter: 0.weight, Gradient: tensor([[-0.0045, -0.0031]])\n",
      "Epoch 2, Parameter: 0.bias, Gradient: tensor([-0.0053])\n",
      "Epoch 2, Parameter: 0.weight, Gradient: tensor([[-0.0043, -0.0005]])\n",
      "Epoch 2, Parameter: 0.bias, Gradient: tensor([0.0008])\n",
      "Epoch 2, Parameter: 0.weight, Gradient: tensor([[-0.0021,  0.0061]])\n",
      "Epoch 2, Parameter: 0.bias, Gradient: tensor([-0.0033])\n",
      "Epoch 2, Parameter: 0.weight, Gradient: tensor([[0.0028, 0.0070]])\n",
      "Epoch 2, Parameter: 0.bias, Gradient: tensor([-0.0022])\n",
      "Epoch 2, Parameter: 0.weight, Gradient: tensor([[-0.0051,  0.0002]])\n",
      "Epoch 2, Parameter: 0.bias, Gradient: tensor([0.0010])\n",
      "Epoch 2, Parameter: 0.weight, Gradient: tensor([[ 0.0034, -0.0043]])\n",
      "Epoch 2, Parameter: 0.bias, Gradient: tensor([-0.0130])\n",
      "Epoch 2, Parameter: 0.weight, Gradient: tensor([[ 0.0011, -0.0043]])\n",
      "Epoch 2, Parameter: 0.bias, Gradient: tensor([0.0120])\n",
      "Epoch 2, Parameter: 0.weight, Gradient: tensor([[-0.0088,  0.0092]])\n",
      "Epoch 2, Parameter: 0.bias, Gradient: tensor([-0.0053])\n",
      "Epoch 2, Parameter: 0.weight, Gradient: tensor([[-0.0027, -0.0004]])\n",
      "Epoch 2, Parameter: 0.bias, Gradient: tensor([0.0018])\n",
      "Epoch 2, Parameter: 0.weight, Gradient: tensor([[-0.0011, -0.0010]])\n",
      "Epoch 2, Parameter: 0.bias, Gradient: tensor([0.0029])\n",
      "Epoch 2, Parameter: 0.weight, Gradient: tensor([[0.0056, 0.0032]])\n",
      "Epoch 2, Parameter: 0.bias, Gradient: tensor([0.0052])\n",
      "Epoch 2, Parameter: 0.weight, Gradient: tensor([[-0.0003,  0.0041]])\n",
      "Epoch 2, Parameter: 0.bias, Gradient: tensor([0.0019])\n",
      "Epoch 2, Parameter: 0.weight, Gradient: tensor([[-0.0027, -0.0163]])\n",
      "Epoch 2, Parameter: 0.bias, Gradient: tensor([-0.0027])\n",
      "Epoch 2, Parameter: 0.weight, Gradient: tensor([[ 0.0025, -0.0032]])\n",
      "Epoch 2, Parameter: 0.bias, Gradient: tensor([-0.0089])\n",
      "Epoch 2, Parameter: 0.weight, Gradient: tensor([[0.0069, 0.0074]])\n",
      "Epoch 2, Parameter: 0.bias, Gradient: tensor([0.0045])\n",
      "Epoch 2, Parameter: 0.weight, Gradient: tensor([[ 0.0038, -0.0046]])\n",
      "Epoch 2, Parameter: 0.bias, Gradient: tensor([0.0116])\n",
      "None\n",
      "epoch 2, loss 0.000098\n",
      "Epoch 3, Parameter: 0.weight, Gradient: tensor([[-0.0036,  0.0042]])\n",
      "Epoch 3, Parameter: 0.bias, Gradient: tensor([-0.0073])\n",
      "Epoch 3, Parameter: 0.weight, Gradient: tensor([[ 0.0007, -0.0005]])\n",
      "Epoch 3, Parameter: 0.bias, Gradient: tensor([-0.0106])\n",
      "Epoch 3, Parameter: 0.weight, Gradient: tensor([[-0.0050,  0.0005]])\n",
      "Epoch 3, Parameter: 0.bias, Gradient: tensor([0.0109])\n",
      "Epoch 3, Parameter: 0.weight, Gradient: tensor([[ 0.0008, -0.0070]])\n",
      "Epoch 3, Parameter: 0.bias, Gradient: tensor([-0.0088])\n",
      "Epoch 3, Parameter: 0.weight, Gradient: tensor([[-0.0015, -0.0079]])\n",
      "Epoch 3, Parameter: 0.bias, Gradient: tensor([-0.0029])\n",
      "Epoch 3, Parameter: 0.weight, Gradient: tensor([[0.0132, 0.0008]])\n",
      "Epoch 3, Parameter: 0.bias, Gradient: tensor([-0.0009])\n",
      "Epoch 3, Parameter: 0.weight, Gradient: tensor([[0.0023, 0.0074]])\n",
      "Epoch 3, Parameter: 0.bias, Gradient: tensor([-0.0031])\n",
      "Epoch 3, Parameter: 0.weight, Gradient: tensor([[0.0017, 0.0040]])\n",
      "Epoch 3, Parameter: 0.bias, Gradient: tensor([0.0139])\n",
      "Epoch 3, Parameter: 0.weight, Gradient: tensor([[0.0122, 0.0003]])\n",
      "Epoch 3, Parameter: 0.bias, Gradient: tensor([0.0062])\n",
      "Epoch 3, Parameter: 0.weight, Gradient: tensor([[-0.0052,  0.0053]])\n",
      "Epoch 3, Parameter: 0.bias, Gradient: tensor([-0.0059])\n",
      "Epoch 3, Parameter: 0.weight, Gradient: tensor([[ 0.0009, -0.0151]])\n",
      "Epoch 3, Parameter: 0.bias, Gradient: tensor([-0.0059])\n",
      "Epoch 3, Parameter: 0.weight, Gradient: tensor([[0.0038, 0.0112]])\n",
      "Epoch 3, Parameter: 0.bias, Gradient: tensor([0.0024])\n",
      "Epoch 3, Parameter: 0.weight, Gradient: tensor([[ 0.0014, -0.0002]])\n",
      "Epoch 3, Parameter: 0.bias, Gradient: tensor([-0.0055])\n",
      "Epoch 3, Parameter: 0.weight, Gradient: tensor([[ 0.0006, -0.0025]])\n",
      "Epoch 3, Parameter: 0.bias, Gradient: tensor([0.0036])\n",
      "Epoch 3, Parameter: 0.weight, Gradient: tensor([[-0.0123, -0.0153]])\n",
      "Epoch 3, Parameter: 0.bias, Gradient: tensor([0.0043])\n",
      "Epoch 3, Parameter: 0.weight, Gradient: tensor([[0.0109, 0.0075]])\n",
      "Epoch 3, Parameter: 0.bias, Gradient: tensor([-0.0004])\n",
      "Epoch 3, Parameter: 0.weight, Gradient: tensor([[ 0.0006, -0.0042]])\n",
      "Epoch 3, Parameter: 0.bias, Gradient: tensor([-0.0008])\n",
      "Epoch 3, Parameter: 0.weight, Gradient: tensor([[0.0121, 0.0035]])\n",
      "Epoch 3, Parameter: 0.bias, Gradient: tensor([-0.0013])\n",
      "Epoch 3, Parameter: 0.weight, Gradient: tensor([[0.0020, 0.0047]])\n",
      "Epoch 3, Parameter: 0.bias, Gradient: tensor([0.0004])\n",
      "Epoch 3, Parameter: 0.weight, Gradient: tensor([[-0.0022,  0.0038]])\n",
      "Epoch 3, Parameter: 0.bias, Gradient: tensor([-0.0016])\n",
      "Epoch 3, Parameter: 0.weight, Gradient: tensor([[-0.0047,  0.0040]])\n",
      "Epoch 3, Parameter: 0.bias, Gradient: tensor([0.0004])\n",
      "Epoch 3, Parameter: 0.weight, Gradient: tensor([[-0.0032, -0.0091]])\n",
      "Epoch 3, Parameter: 0.bias, Gradient: tensor([0.0037])\n",
      "Epoch 3, Parameter: 0.weight, Gradient: tensor([[-2.1271e-03, -5.1525e-05]])\n",
      "Epoch 3, Parameter: 0.bias, Gradient: tensor([0.0026])\n",
      "Epoch 3, Parameter: 0.weight, Gradient: tensor([[0.0006, 0.0004]])\n",
      "Epoch 3, Parameter: 0.bias, Gradient: tensor([0.0017])\n",
      "Epoch 3, Parameter: 0.weight, Gradient: tensor([[-0.0115,  0.0121]])\n",
      "Epoch 3, Parameter: 0.bias, Gradient: tensor([8.1253e-05])\n",
      "Epoch 3, Parameter: 0.weight, Gradient: tensor([[ 0.0141, -0.0172]])\n",
      "Epoch 3, Parameter: 0.bias, Gradient: tensor([-0.0106])\n",
      "Epoch 3, Parameter: 0.weight, Gradient: tensor([[-0.0047,  0.0031]])\n",
      "Epoch 3, Parameter: 0.bias, Gradient: tensor([-0.0028])\n",
      "Epoch 3, Parameter: 0.weight, Gradient: tensor([[0.0014, 0.0113]])\n",
      "Epoch 3, Parameter: 0.bias, Gradient: tensor([-0.0111])\n",
      "Epoch 3, Parameter: 0.weight, Gradient: tensor([[ 0.0036, -0.0172]])\n",
      "Epoch 3, Parameter: 0.bias, Gradient: tensor([0.0035])\n",
      "Epoch 3, Parameter: 0.weight, Gradient: tensor([[ 0.0064, -0.0003]])\n",
      "Epoch 3, Parameter: 0.bias, Gradient: tensor([-0.0004])\n",
      "Epoch 3, Parameter: 0.weight, Gradient: tensor([[0.0077, 0.0057]])\n",
      "Epoch 3, Parameter: 0.bias, Gradient: tensor([0.0070])\n",
      "Epoch 3, Parameter: 0.weight, Gradient: tensor([[-0.0091, -0.0110]])\n",
      "Epoch 3, Parameter: 0.bias, Gradient: tensor([-0.0044])\n",
      "Epoch 3, Parameter: 0.weight, Gradient: tensor([[-0.0010,  0.0088]])\n",
      "Epoch 3, Parameter: 0.bias, Gradient: tensor([0.0069])\n",
      "Epoch 3, Parameter: 0.weight, Gradient: tensor([[-6.0310e-05, -3.8480e-03]])\n",
      "Epoch 3, Parameter: 0.bias, Gradient: tensor([0.0053])\n",
      "Epoch 3, Parameter: 0.weight, Gradient: tensor([[-0.0073,  0.0030]])\n",
      "Epoch 3, Parameter: 0.bias, Gradient: tensor([-0.0008])\n",
      "Epoch 3, Parameter: 0.weight, Gradient: tensor([[-0.0090, -0.0017]])\n",
      "Epoch 3, Parameter: 0.bias, Gradient: tensor([0.0109])\n",
      "Epoch 3, Parameter: 0.weight, Gradient: tensor([[-0.0068, -0.0122]])\n",
      "Epoch 3, Parameter: 0.bias, Gradient: tensor([-0.0078])\n",
      "Epoch 3, Parameter: 0.weight, Gradient: tensor([[0.0009, 0.0059]])\n",
      "Epoch 3, Parameter: 0.bias, Gradient: tensor([-0.0093])\n",
      "Epoch 3, Parameter: 0.weight, Gradient: tensor([[ 0.0076, -0.0058]])\n",
      "Epoch 3, Parameter: 0.bias, Gradient: tensor([-0.0003])\n",
      "Epoch 3, Parameter: 0.weight, Gradient: tensor([[0.0044, 0.0035]])\n",
      "Epoch 3, Parameter: 0.bias, Gradient: tensor([-0.0013])\n",
      "Epoch 3, Parameter: 0.weight, Gradient: tensor([[ 0.0013, -0.0039]])\n",
      "Epoch 3, Parameter: 0.bias, Gradient: tensor([-0.0031])\n",
      "Epoch 3, Parameter: 0.weight, Gradient: tensor([[-0.0053,  0.0030]])\n",
      "Epoch 3, Parameter: 0.bias, Gradient: tensor([-0.0048])\n",
      "Epoch 3, Parameter: 0.weight, Gradient: tensor([[ 0.0082, -0.0097]])\n",
      "Epoch 3, Parameter: 0.bias, Gradient: tensor([0.0008])\n",
      "Epoch 3, Parameter: 0.weight, Gradient: tensor([[-0.0001, -0.0005]])\n",
      "Epoch 3, Parameter: 0.bias, Gradient: tensor([-0.0134])\n",
      "Epoch 3, Parameter: 0.weight, Gradient: tensor([[-0.0217,  0.0120]])\n",
      "Epoch 3, Parameter: 0.bias, Gradient: tensor([-0.0037])\n",
      "Epoch 3, Parameter: 0.weight, Gradient: tensor([[0.0108, 0.0031]])\n",
      "Epoch 3, Parameter: 0.bias, Gradient: tensor([0.0067])\n",
      "Epoch 3, Parameter: 0.weight, Gradient: tensor([[-0.0014,  0.0069]])\n",
      "Epoch 3, Parameter: 0.bias, Gradient: tensor([-0.0055])\n",
      "Epoch 3, Parameter: 0.weight, Gradient: tensor([[-0.0035, -0.0053]])\n",
      "Epoch 3, Parameter: 0.bias, Gradient: tensor([-0.0056])\n",
      "Epoch 3, Parameter: 0.weight, Gradient: tensor([[0.0005, 0.0056]])\n",
      "Epoch 3, Parameter: 0.bias, Gradient: tensor([0.0173])\n",
      "Epoch 3, Parameter: 0.weight, Gradient: tensor([[ 0.0051, -0.0023]])\n",
      "Epoch 3, Parameter: 0.bias, Gradient: tensor([-0.0050])\n",
      "Epoch 3, Parameter: 0.weight, Gradient: tensor([[-0.0193,  0.0039]])\n",
      "Epoch 3, Parameter: 0.bias, Gradient: tensor([-0.0010])\n",
      "Epoch 3, Parameter: 0.weight, Gradient: tensor([[ 0.0123, -0.0010]])\n",
      "Epoch 3, Parameter: 0.bias, Gradient: tensor([-0.0033])\n",
      "Epoch 3, Parameter: 0.weight, Gradient: tensor([[0.0061, 0.0105]])\n",
      "Epoch 3, Parameter: 0.bias, Gradient: tensor([0.0109])\n",
      "Epoch 3, Parameter: 0.weight, Gradient: tensor([[0.0010, 0.0041]])\n",
      "Epoch 3, Parameter: 0.bias, Gradient: tensor([0.0043])\n",
      "Epoch 3, Parameter: 0.weight, Gradient: tensor([[0.0035, 0.0028]])\n",
      "Epoch 3, Parameter: 0.bias, Gradient: tensor([-0.0008])\n",
      "Epoch 3, Parameter: 0.weight, Gradient: tensor([[ 0.0082, -0.0008]])\n",
      "Epoch 3, Parameter: 0.bias, Gradient: tensor([0.0087])\n",
      "Epoch 3, Parameter: 0.weight, Gradient: tensor([[-0.0060, -0.0022]])\n",
      "Epoch 3, Parameter: 0.bias, Gradient: tensor([0.0053])\n",
      "Epoch 3, Parameter: 0.weight, Gradient: tensor([[-0.0126, -0.0043]])\n",
      "Epoch 3, Parameter: 0.bias, Gradient: tensor([0.0007])\n",
      "Epoch 3, Parameter: 0.weight, Gradient: tensor([[ 0.0086, -0.0081]])\n",
      "Epoch 3, Parameter: 0.bias, Gradient: tensor([-0.0141])\n",
      "Epoch 3, Parameter: 0.weight, Gradient: tensor([[ 0.0081, -0.0015]])\n",
      "Epoch 3, Parameter: 0.bias, Gradient: tensor([0.0007])\n",
      "Epoch 3, Parameter: 0.weight, Gradient: tensor([[-0.0057, -0.0055]])\n",
      "Epoch 3, Parameter: 0.bias, Gradient: tensor([0.0053])\n",
      "Epoch 3, Parameter: 0.weight, Gradient: tensor([[0.0006, 0.0075]])\n",
      "Epoch 3, Parameter: 0.bias, Gradient: tensor([0.0045])\n",
      "Epoch 3, Parameter: 0.weight, Gradient: tensor([[0.0103, 0.0042]])\n",
      "Epoch 3, Parameter: 0.bias, Gradient: tensor([0.0084])\n",
      "Epoch 3, Parameter: 0.weight, Gradient: tensor([[0.0010, 0.0132]])\n",
      "Epoch 3, Parameter: 0.bias, Gradient: tensor([-0.0040])\n",
      "Epoch 3, Parameter: 0.weight, Gradient: tensor([[ 0.0012, -0.0127]])\n",
      "Epoch 3, Parameter: 0.bias, Gradient: tensor([-0.0083])\n",
      "Epoch 3, Parameter: 0.weight, Gradient: tensor([[-0.0021,  0.0080]])\n",
      "Epoch 3, Parameter: 0.bias, Gradient: tensor([-0.0061])\n",
      "Epoch 3, Parameter: 0.weight, Gradient: tensor([[-0.0041,  0.0059]])\n",
      "Epoch 3, Parameter: 0.bias, Gradient: tensor([0.0032])\n",
      "Epoch 3, Parameter: 0.weight, Gradient: tensor([[-0.0006,  0.0019]])\n",
      "Epoch 3, Parameter: 0.bias, Gradient: tensor([0.0067])\n",
      "Epoch 3, Parameter: 0.weight, Gradient: tensor([[-0.0043, -0.0013]])\n",
      "Epoch 3, Parameter: 0.bias, Gradient: tensor([0.0070])\n",
      "Epoch 3, Parameter: 0.weight, Gradient: tensor([[0.0074, 0.0008]])\n",
      "Epoch 3, Parameter: 0.bias, Gradient: tensor([-0.0081])\n",
      "Epoch 3, Parameter: 0.weight, Gradient: tensor([[-0.0079,  0.0028]])\n",
      "Epoch 3, Parameter: 0.bias, Gradient: tensor([0.0044])\n",
      "Epoch 3, Parameter: 0.weight, Gradient: tensor([[-0.0085, -0.0010]])\n",
      "Epoch 3, Parameter: 0.bias, Gradient: tensor([-0.0030])\n",
      "Epoch 3, Parameter: 0.weight, Gradient: tensor([[-0.0009, -0.0070]])\n",
      "Epoch 3, Parameter: 0.bias, Gradient: tensor([0.0066])\n",
      "Epoch 3, Parameter: 0.weight, Gradient: tensor([[-0.0108, -0.0100]])\n",
      "Epoch 3, Parameter: 0.bias, Gradient: tensor([0.0036])\n",
      "Epoch 3, Parameter: 0.weight, Gradient: tensor([[0.0065, 0.0051]])\n",
      "Epoch 3, Parameter: 0.bias, Gradient: tensor([0.0011])\n",
      "Epoch 3, Parameter: 0.weight, Gradient: tensor([[-0.0079,  0.0017]])\n",
      "Epoch 3, Parameter: 0.bias, Gradient: tensor([-0.0071])\n",
      "Epoch 3, Parameter: 0.weight, Gradient: tensor([[ 0.0127, -0.0012]])\n",
      "Epoch 3, Parameter: 0.bias, Gradient: tensor([-0.0010])\n",
      "Epoch 3, Parameter: 0.weight, Gradient: tensor([[ 0.0026, -0.0053]])\n",
      "Epoch 3, Parameter: 0.bias, Gradient: tensor([0.0022])\n",
      "Epoch 3, Parameter: 0.weight, Gradient: tensor([[0.0003, 0.0121]])\n",
      "Epoch 3, Parameter: 0.bias, Gradient: tensor([-0.0008])\n",
      "Epoch 3, Parameter: 0.weight, Gradient: tensor([[0.0075, 0.0021]])\n",
      "Epoch 3, Parameter: 0.bias, Gradient: tensor([-0.0012])\n",
      "Epoch 3, Parameter: 0.weight, Gradient: tensor([[-0.0033,  0.0024]])\n",
      "Epoch 3, Parameter: 0.bias, Gradient: tensor([-0.0027])\n",
      "Epoch 3, Parameter: 0.weight, Gradient: tensor([[-0.0088,  0.0060]])\n",
      "Epoch 3, Parameter: 0.bias, Gradient: tensor([0.0069])\n",
      "Epoch 3, Parameter: 0.weight, Gradient: tensor([[-0.0008, -0.0041]])\n",
      "Epoch 3, Parameter: 0.bias, Gradient: tensor([0.0030])\n",
      "Epoch 3, Parameter: 0.weight, Gradient: tensor([[-0.0041,  0.0014]])\n",
      "Epoch 3, Parameter: 0.bias, Gradient: tensor([-0.0146])\n",
      "Epoch 3, Parameter: 0.weight, Gradient: tensor([[0.0046, 0.0040]])\n",
      "Epoch 3, Parameter: 0.bias, Gradient: tensor([0.0033])\n",
      "Epoch 3, Parameter: 0.weight, Gradient: tensor([[ 0.0061, -0.0034]])\n",
      "Epoch 3, Parameter: 0.bias, Gradient: tensor([0.0048])\n",
      "Epoch 3, Parameter: 0.weight, Gradient: tensor([[-0.0005,  0.0043]])\n",
      "Epoch 3, Parameter: 0.bias, Gradient: tensor([0.0056])\n",
      "Epoch 3, Parameter: 0.weight, Gradient: tensor([[-0.0064, -0.0019]])\n",
      "Epoch 3, Parameter: 0.bias, Gradient: tensor([0.0039])\n",
      "Epoch 3, Parameter: 0.weight, Gradient: tensor([[-0.0011,  0.0072]])\n",
      "Epoch 3, Parameter: 0.bias, Gradient: tensor([-0.0041])\n",
      "Epoch 3, Parameter: 0.weight, Gradient: tensor([[-0.0035, -0.0031]])\n",
      "Epoch 3, Parameter: 0.bias, Gradient: tensor([0.0021])\n",
      "Epoch 3, Parameter: 0.weight, Gradient: tensor([[0.0045, 0.0012]])\n",
      "Epoch 3, Parameter: 0.bias, Gradient: tensor([0.0036])\n",
      "Epoch 3, Parameter: 0.weight, Gradient: tensor([[ 0.0016, -0.0027]])\n",
      "Epoch 3, Parameter: 0.bias, Gradient: tensor([0.0060])\n",
      "Epoch 3, Parameter: 0.weight, Gradient: tensor([[0.0088, 0.0038]])\n",
      "Epoch 3, Parameter: 0.bias, Gradient: tensor([0.0036])\n",
      "Epoch 3, Parameter: 0.weight, Gradient: tensor([[ 0.0015, -0.0071]])\n",
      "Epoch 3, Parameter: 0.bias, Gradient: tensor([-0.0074])\n",
      "Epoch 3, Parameter: 0.weight, Gradient: tensor([[ 0.0010, -0.0051]])\n",
      "Epoch 3, Parameter: 0.bias, Gradient: tensor([0.0062])\n",
      "Epoch 3, Parameter: 0.weight, Gradient: tensor([[-0.0025,  0.0044]])\n",
      "Epoch 3, Parameter: 0.bias, Gradient: tensor([0.0022])\n",
      "Epoch 3, Parameter: 0.weight, Gradient: tensor([[-0.0046,  0.0033]])\n",
      "Epoch 3, Parameter: 0.bias, Gradient: tensor([0.0031])\n",
      "Epoch 3, Parameter: 0.weight, Gradient: tensor([[0.0123, 0.0021]])\n",
      "Epoch 3, Parameter: 0.bias, Gradient: tensor([-0.0060])\n",
      "Epoch 3, Parameter: 0.weight, Gradient: tensor([[-0.0081, -0.0023]])\n",
      "Epoch 3, Parameter: 0.bias, Gradient: tensor([-0.0079])\n",
      "Epoch 3, Parameter: 0.weight, Gradient: tensor([[-0.0005,  0.0076]])\n",
      "Epoch 3, Parameter: 0.bias, Gradient: tensor([0.0029])\n",
      "None\n",
      "epoch 3, loss 0.000098\n"
     ]
    }
   ],
   "execution_count": 130
  },
  {
   "metadata": {
    "ExecuteTime": {
     "end_time": "2025-02-18T18:44:35.778747Z",
     "start_time": "2025-02-18T18:44:35.774868Z"
    }
   },
   "cell_type": "code",
   "source": [
    "w = net[0].weight.data\n",
    "print('w的估计误差：', true_w - w.reshape(true_w.shape))\n",
    "b = net[0].bias.data\n",
    "print('b的估计误差：', true_b - b)"
   ],
   "id": "2138bdb5c4607a3c",
   "outputs": [
    {
     "name": "stdout",
     "output_type": "stream",
     "text": [
      "w的估计误差： tensor([-0.0005,  0.0005])\n",
      "b的估计误差： tensor([-0.0005])\n"
     ]
    }
   ],
   "execution_count": 125
  },
  {
   "metadata": {},
   "cell_type": "markdown",
   "source": [
    "## 分类问题\n",
    "\n",
    "对分类问题，我们希望得到它的具体类别，但在实施的时候，我们获得的是它的概率。也就是说，我们使用概率模型来解决分类问题。\n",
    "\n",
    "在分类问题中，我们使用独热编码(One-hot encoding)来标记target。比如说我们希望识别{猫、狗、猪}，我们将之编码为{(1,0,0), (0,1,0), (0,0,1)}。最终我们将得到一个模型，对任何输入，其输出一个三元矩阵(a,b,c)，分别代表输入图片为猫、狗、猪的结果。我们取最大的值所对应的动物作为分类结果。\n",
    "\n",
    "注意到，上面我们将输出结果称为“结果”而非“概率”，这是因为结果（比方说训练一个线性回归模型）并不满足概率公理，其和未必等于1且结果可能是一个负数。要将输出视为概率，我们必须保证结果非负且和为1。\n",
    "此外，我们需要一个训练的目标函数，来激励模型精准地估计概率。这个属性叫做校准(calibration)\n",
    "\n",
    "我们使用 softmax 函数实现上述要求。对一组输出结果，softmax 函数先对每个未规范化的预测求幂，这样可以确保输出结果非负；其次再对每个结果除以它们的总和，这样就确保了结果之和为1。\n",
    "\n",
    "$$\n",
    "\\begin{aligned}\n",
    "\\hat{\\boldsymbol{y}} = \\text{softmax}(\\boldsymbol{o}) &&\\text{其中 } \\hat y_j = \\dfrac{\\exp(o_j)}{\\sum_k \\exp(o_k)}\n",
    "\\end{aligned}\n",
    "$$\n",
    "\n",
    "尽管softmax是一个非线性函数，但softmax回归的输出仍然由输入特征的仿射变换决定。因此，softmax回归是一个线性模型（linear model）。"
   ],
   "id": "b139cd5f4e76b1bf"
  },
  {
   "metadata": {
    "ExecuteTime": {
     "end_time": "2025-02-22T00:37:56.182778Z",
     "start_time": "2025-02-22T00:37:56.180496Z"
    }
   },
   "cell_type": "code",
   "source": [
    "%matplotlib inline\n",
    "import torch\n",
    "import torchvision\n",
    "from torch.utils import data\n",
    "from torchvision import transforms"
   ],
   "id": "59a4d6d0033d032a",
   "outputs": [],
   "execution_count": 3
  },
  {
   "metadata": {
    "ExecuteTime": {
     "end_time": "2025-02-22T00:37:57.533285Z",
     "start_time": "2025-02-22T00:37:57.515577Z"
    }
   },
   "cell_type": "code",
   "source": [
    "# 通过ToTensor实例将图像数据从PIL类型变换成32位浮点数格式，\n",
    "# 并除以255使得所有像素的数值均在0～1之间\n",
    "trans = transforms.ToTensor()\n",
    "mnist_train = torchvision.datasets.FashionMNIST(\n",
    "    root=\"../data\", train=True, transform=trans, download=True)\n",
    "mnist_test = torchvision.datasets.FashionMNIST(\n",
    "    root=\"../data\", train=False, transform=trans, download=True)"
   ],
   "id": "32459b3787e41f66",
   "outputs": [],
   "execution_count": 4
  },
  {
   "metadata": {
    "ExecuteTime": {
     "end_time": "2025-02-19T04:47:56.976731Z",
     "start_time": "2025-02-19T04:47:56.973140Z"
    }
   },
   "cell_type": "code",
   "source": "len(mnist_train), len(mnist_test)",
   "id": "4e1dd2e560c8877d",
   "outputs": [
    {
     "data": {
      "text/plain": [
       "(60000, 10000)"
      ]
     },
     "execution_count": 133,
     "metadata": {},
     "output_type": "execute_result"
    }
   ],
   "execution_count": 133
  },
  {
   "metadata": {
    "ExecuteTime": {
     "end_time": "2025-02-19T04:48:07.410172Z",
     "start_time": "2025-02-19T04:48:07.405890Z"
    }
   },
   "cell_type": "code",
   "source": "mnist_train[0][0].shape",
   "id": "f6c86b1e748447e6",
   "outputs": [
    {
     "data": {
      "text/plain": [
       "torch.Size([1, 28, 28])"
      ]
     },
     "execution_count": 134,
     "metadata": {},
     "output_type": "execute_result"
    }
   ],
   "execution_count": 134
  },
  {
   "metadata": {
    "ExecuteTime": {
     "end_time": "2025-02-19T04:49:51.965724Z",
     "start_time": "2025-02-19T04:49:51.963624Z"
    }
   },
   "cell_type": "code",
   "source": [
    "def get_fashion_mnist_labels(labels): #@save\n",
    "    \"\"\"返回Fashion-MNIST数据集的文本标签\"\"\"\n",
    "    text_labels = ['t-shirt', 'trouser', 'pullover','dress','coat','sandal','shirt','sneaker','bag', 'ankle boot']\n",
    "    return [text_labels[int(i)] for i in labels]"
   ],
   "id": "2a0cac99ca0a5376",
   "outputs": [],
   "execution_count": 135
  },
  {
   "metadata": {
    "ExecuteTime": {
     "end_time": "2025-02-19T04:50:50.806642Z",
     "start_time": "2025-02-19T04:50:50.802879Z"
    }
   },
   "cell_type": "code",
   "source": [
    "def show_images(imgs, num_rows, num_cols, titles=None, scale=1.5): #@save\n",
    "    \"\"\"绘制图像列表\"\"\"\n",
    "    figsize = (num_cols * scale, num_rows * scale)\n",
    "    _, axes = d2l.plt.subplots(num_rows, num_cols, figsize=figsize)\n",
    "    axes = axes.flatten()\n",
    "    for i, (ax, img) in enumerate(zip(axes, imgs)):\n",
    "        if torch.is_tensor(img):\n",
    "            # 图片张量\n",
    "            ax.imshow(img.numpy())\n",
    "        else:\n",
    "            # PIL图片\n",
    "            ax.imshow(img)\n",
    "            ax.axes.get_xaxis().set_visible(False)\n",
    "            ax.axes.get_yaxis().set_visible(False)\n",
    "        if titles:\n",
    "            ax.set_title(titles[i])\n",
    "    return axes"
   ],
   "id": "65d5e2167645a8fb",
   "outputs": [],
   "execution_count": 136
  },
  {
   "metadata": {
    "ExecuteTime": {
     "end_time": "2025-02-19T04:51:12.323853Z",
     "start_time": "2025-02-19T04:51:11.663689Z"
    }
   },
   "cell_type": "code",
   "source": [
    "X, y = next(iter(data.DataLoader(mnist_train, batch_size=18)))\n",
    "show_images(X.reshape(18, 28, 28), 2, 9, titles=get_fashion_mnist_labels(y));"
   ],
   "id": "b33a5c4635f49fef",
   "outputs": [
    {
     "data": {
      "text/plain": [
       "<Figure size 1350x300 with 18 Axes>"
      ],
      "image/svg+xml": "<?xml version=\"1.0\" encoding=\"utf-8\" standalone=\"no\"?>\n<!DOCTYPE svg PUBLIC \"-//W3C//DTD SVG 1.1//EN\"\n  \"http://www.w3.org/Graphics/SVG/1.1/DTD/svg11.dtd\">\n<svg xmlns:xlink=\"http://www.w3.org/1999/xlink\" width=\"787.425pt\" height=\"207.982288pt\" viewBox=\"0 0 787.425 207.982288\" xmlns=\"http://www.w3.org/2000/svg\" version=\"1.1\">\n <metadata>\n  <rdf:RDF xmlns:dc=\"http://purl.org/dc/elements/1.1/\" xmlns:cc=\"http://creativecommons.org/ns#\" xmlns:rdf=\"http://www.w3.org/1999/02/22-rdf-syntax-ns#\">\n   <cc:Work>\n    <dc:type rdf:resource=\"http://purl.org/dc/dcmitype/StillImage\"/>\n    <dc:date>2025-02-19T12:51:12.218607</dc:date>\n    <dc:format>image/svg+xml</dc:format>\n    <dc:creator>\n     <cc:Agent>\n      <dc:title>Matplotlib v3.7.2, https://matplotlib.org/</dc:title>\n     </cc:Agent>\n    </dc:creator>\n   </cc:Work>\n  </rdf:RDF>\n </metadata>\n <defs>\n  <style type=\"text/css\">*{stroke-linejoin: round; stroke-linecap: butt}</style>\n </defs>\n <g id=\"figure_1\">\n  <g id=\"patch_1\">\n   <path d=\"M 0 207.982288 \nL 787.425 207.982288 \nL 787.425 0 \nL 0 0 \nz\n\" style=\"fill: #ffffff\"/>\n  </g>\n  <g id=\"axes_1\">\n   <g id=\"patch_2\">\n    <path d=\"M 26.925 93.384163 \nL 97.991038 93.384163 \nL 97.991038 22.318125 \nL 26.925 22.318125 \nz\n\" style=\"fill: #ffffff\"/>\n   </g>\n   <g clip-path=\"url(#p3433ddb208)\">\n    <image xlink:href=\"data:image/png;base64,\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\" id=\"image35050168d7\" transform=\"scale(1 -1) translate(0 -71.28)\" x=\"26.925\" y=\"-22.104163\" width=\"71.28\" height=\"71.28\"/>\n   </g>\n   <g id=\"matplotlib.axis_1\">\n    <g id=\"xtick_1\">\n     <g id=\"line2d_1\">\n      <defs>\n       <path id=\"md1ee7f82eb\" d=\"M 0 0 \nL 0 3.5 \n\" style=\"stroke: #000000; stroke-width: 0.8\"/>\n      </defs>\n      <g>\n       <use xlink:href=\"#md1ee7f82eb\" x=\"28.194036\" y=\"93.384163\" style=\"stroke: #000000; stroke-width: 0.8\"/>\n      </g>\n     </g>\n     <g id=\"text_1\">\n      <!-- 0 -->\n      <g transform=\"translate(25.012786 107.9826) scale(0.1 -0.1)\">\n       <defs>\n        <path id=\"DejaVuSans-30\" d=\"M 2034 4250 \nQ 1547 4250 1301 3770 \nQ 1056 3291 1056 2328 \nQ 1056 1369 1301 889 \nQ 1547 409 2034 409 \nQ 2525 409 2770 889 \nQ 3016 1369 3016 2328 \nQ 3016 3291 2770 3770 \nQ 2525 4250 2034 4250 \nz\nM 2034 4750 \nQ 2819 4750 3233 4129 \nQ 3647 3509 3647 2328 \nQ 3647 1150 3233 529 \nQ 2819 -91 2034 -91 \nQ 1250 -91 836 529 \nQ 422 1150 422 2328 \nQ 422 3509 836 4129 \nQ 1250 4750 2034 4750 \nz\n\" transform=\"scale(0.015625)\"/>\n       </defs>\n       <use xlink:href=\"#DejaVuSans-30\"/>\n      </g>\n     </g>\n    </g>\n    <g id=\"xtick_2\">\n     <g id=\"line2d_2\">\n      <g>\n       <use xlink:href=\"#md1ee7f82eb\" x=\"78.955492\" y=\"93.384163\" style=\"stroke: #000000; stroke-width: 0.8\"/>\n      </g>\n     </g>\n     <g id=\"text_2\">\n      <!-- 20 -->\n      <g transform=\"translate(72.592992 107.9826) scale(0.1 -0.1)\">\n       <defs>\n        <path id=\"DejaVuSans-32\" d=\"M 1228 531 \nL 3431 531 \nL 3431 0 \nL 469 0 \nL 469 531 \nQ 828 903 1448 1529 \nQ 2069 2156 2228 2338 \nQ 2531 2678 2651 2914 \nQ 2772 3150 2772 3378 \nQ 2772 3750 2511 3984 \nQ 2250 4219 1831 4219 \nQ 1534 4219 1204 4116 \nQ 875 4013 500 3803 \nL 500 4441 \nQ 881 4594 1212 4672 \nQ 1544 4750 1819 4750 \nQ 2544 4750 2975 4387 \nQ 3406 4025 3406 3419 \nQ 3406 3131 3298 2873 \nQ 3191 2616 2906 2266 \nQ 2828 2175 2409 1742 \nQ 1991 1309 1228 531 \nz\n\" transform=\"scale(0.015625)\"/>\n       </defs>\n       <use xlink:href=\"#DejaVuSans-32\"/>\n       <use xlink:href=\"#DejaVuSans-30\" x=\"63.623047\"/>\n      </g>\n     </g>\n    </g>\n   </g>\n   <g id=\"matplotlib.axis_2\">\n    <g id=\"ytick_1\">\n     <g id=\"line2d_3\">\n      <defs>\n       <path id=\"m6f4ac796fa\" d=\"M 0 0 \nL -3.5 0 \n\" style=\"stroke: #000000; stroke-width: 0.8\"/>\n      </defs>\n      <g>\n       <use xlink:href=\"#m6f4ac796fa\" x=\"26.925\" y=\"23.587161\" style=\"stroke: #000000; stroke-width: 0.8\"/>\n      </g>\n     </g>\n     <g id=\"text_3\">\n      <!-- 0 -->\n      <g transform=\"translate(13.5625 27.38638) scale(0.1 -0.1)\">\n       <use xlink:href=\"#DejaVuSans-30\"/>\n      </g>\n     </g>\n    </g>\n    <g id=\"ytick_2\">\n     <g id=\"line2d_4\">\n      <g>\n       <use xlink:href=\"#m6f4ac796fa\" x=\"26.925\" y=\"48.967889\" style=\"stroke: #000000; stroke-width: 0.8\"/>\n      </g>\n     </g>\n     <g id=\"text_4\">\n      <!-- 10 -->\n      <g transform=\"translate(7.2 52.767108) scale(0.1 -0.1)\">\n       <defs>\n        <path id=\"DejaVuSans-31\" d=\"M 794 531 \nL 1825 531 \nL 1825 4091 \nL 703 3866 \nL 703 4441 \nL 1819 4666 \nL 2450 4666 \nL 2450 531 \nL 3481 531 \nL 3481 0 \nL 794 0 \nL 794 531 \nz\n\" transform=\"scale(0.015625)\"/>\n       </defs>\n       <use xlink:href=\"#DejaVuSans-31\"/>\n       <use xlink:href=\"#DejaVuSans-30\" x=\"63.623047\"/>\n      </g>\n     </g>\n    </g>\n    <g id=\"ytick_3\">\n     <g id=\"line2d_5\">\n      <g>\n       <use xlink:href=\"#m6f4ac796fa\" x=\"26.925\" y=\"74.348617\" style=\"stroke: #000000; stroke-width: 0.8\"/>\n      </g>\n     </g>\n     <g id=\"text_5\">\n      <!-- 20 -->\n      <g transform=\"translate(7.2 78.147836) scale(0.1 -0.1)\">\n       <use xlink:href=\"#DejaVuSans-32\"/>\n       <use xlink:href=\"#DejaVuSans-30\" x=\"63.623047\"/>\n      </g>\n     </g>\n    </g>\n   </g>\n   <g id=\"patch_3\">\n    <path d=\"M 26.925 93.384163 \nL 26.925 22.318125 \n\" style=\"fill: none; stroke: #000000; stroke-width: 0.8; stroke-linejoin: miter; stroke-linecap: square\"/>\n   </g>\n   <g id=\"patch_4\">\n    <path d=\"M 97.991038 93.384163 \nL 97.991038 22.318125 \n\" style=\"fill: none; stroke: #000000; stroke-width: 0.8; stroke-linejoin: miter; stroke-linecap: square\"/>\n   </g>\n   <g id=\"patch_5\">\n    <path d=\"M 26.925 93.384163 \nL 97.991038 93.384163 \n\" style=\"fill: none; stroke: #000000; stroke-width: 0.8; stroke-linejoin: miter; stroke-linecap: square\"/>\n   </g>\n   <g id=\"patch_6\">\n    <path d=\"M 26.925 22.318125 \nL 97.991038 22.318125 \n\" style=\"fill: none; stroke: #000000; stroke-width: 0.8; stroke-linejoin: miter; stroke-linecap: square\"/>\n   </g>\n   <g id=\"text_6\">\n    <!-- ankle boot -->\n    <g transform=\"translate(30.734894 16.318125) scale(0.12 -0.12)\">\n     <defs>\n      <path id=\"DejaVuSans-61\" d=\"M 2194 1759 \nQ 1497 1759 1228 1600 \nQ 959 1441 959 1056 \nQ 959 750 1161 570 \nQ 1363 391 1709 391 \nQ 2188 391 2477 730 \nQ 2766 1069 2766 1631 \nL 2766 1759 \nL 2194 1759 \nz\nM 3341 1997 \nL 3341 0 \nL 2766 0 \nL 2766 531 \nQ 2569 213 2275 61 \nQ 1981 -91 1556 -91 \nQ 1019 -91 701 211 \nQ 384 513 384 1019 \nQ 384 1609 779 1909 \nQ 1175 2209 1959 2209 \nL 2766 2209 \nL 2766 2266 \nQ 2766 2663 2505 2880 \nQ 2244 3097 1772 3097 \nQ 1472 3097 1187 3025 \nQ 903 2953 641 2809 \nL 641 3341 \nQ 956 3463 1253 3523 \nQ 1550 3584 1831 3584 \nQ 2591 3584 2966 3190 \nQ 3341 2797 3341 1997 \nz\n\" transform=\"scale(0.015625)\"/>\n      <path id=\"DejaVuSans-6e\" d=\"M 3513 2113 \nL 3513 0 \nL 2938 0 \nL 2938 2094 \nQ 2938 2591 2744 2837 \nQ 2550 3084 2163 3084 \nQ 1697 3084 1428 2787 \nQ 1159 2491 1159 1978 \nL 1159 0 \nL 581 0 \nL 581 3500 \nL 1159 3500 \nL 1159 2956 \nQ 1366 3272 1645 3428 \nQ 1925 3584 2291 3584 \nQ 2894 3584 3203 3211 \nQ 3513 2838 3513 2113 \nz\n\" transform=\"scale(0.015625)\"/>\n      <path id=\"DejaVuSans-6b\" d=\"M 581 4863 \nL 1159 4863 \nL 1159 1991 \nL 2875 3500 \nL 3609 3500 \nL 1753 1863 \nL 3688 0 \nL 2938 0 \nL 1159 1709 \nL 1159 0 \nL 581 0 \nL 581 4863 \nz\n\" transform=\"scale(0.015625)\"/>\n      <path id=\"DejaVuSans-6c\" d=\"M 603 4863 \nL 1178 4863 \nL 1178 0 \nL 603 0 \nL 603 4863 \nz\n\" transform=\"scale(0.015625)\"/>\n      <path id=\"DejaVuSans-65\" d=\"M 3597 1894 \nL 3597 1613 \nL 953 1613 \nQ 991 1019 1311 708 \nQ 1631 397 2203 397 \nQ 2534 397 2845 478 \nQ 3156 559 3463 722 \nL 3463 178 \nQ 3153 47 2828 -22 \nQ 2503 -91 2169 -91 \nQ 1331 -91 842 396 \nQ 353 884 353 1716 \nQ 353 2575 817 3079 \nQ 1281 3584 2069 3584 \nQ 2775 3584 3186 3129 \nQ 3597 2675 3597 1894 \nz\nM 3022 2063 \nQ 3016 2534 2758 2815 \nQ 2500 3097 2075 3097 \nQ 1594 3097 1305 2825 \nQ 1016 2553 972 2059 \nL 3022 2063 \nz\n\" transform=\"scale(0.015625)\"/>\n      <path id=\"DejaVuSans-20\" transform=\"scale(0.015625)\"/>\n      <path id=\"DejaVuSans-62\" d=\"M 3116 1747 \nQ 3116 2381 2855 2742 \nQ 2594 3103 2138 3103 \nQ 1681 3103 1420 2742 \nQ 1159 2381 1159 1747 \nQ 1159 1113 1420 752 \nQ 1681 391 2138 391 \nQ 2594 391 2855 752 \nQ 3116 1113 3116 1747 \nz\nM 1159 2969 \nQ 1341 3281 1617 3432 \nQ 1894 3584 2278 3584 \nQ 2916 3584 3314 3078 \nQ 3713 2572 3713 1747 \nQ 3713 922 3314 415 \nQ 2916 -91 2278 -91 \nQ 1894 -91 1617 61 \nQ 1341 213 1159 525 \nL 1159 0 \nL 581 0 \nL 581 4863 \nL 1159 4863 \nL 1159 2969 \nz\n\" transform=\"scale(0.015625)\"/>\n      <path id=\"DejaVuSans-6f\" d=\"M 1959 3097 \nQ 1497 3097 1228 2736 \nQ 959 2375 959 1747 \nQ 959 1119 1226 758 \nQ 1494 397 1959 397 \nQ 2419 397 2687 759 \nQ 2956 1122 2956 1747 \nQ 2956 2369 2687 2733 \nQ 2419 3097 1959 3097 \nz\nM 1959 3584 \nQ 2709 3584 3137 3096 \nQ 3566 2609 3566 1747 \nQ 3566 888 3137 398 \nQ 2709 -91 1959 -91 \nQ 1206 -91 779 398 \nQ 353 888 353 1747 \nQ 353 2609 779 3096 \nQ 1206 3584 1959 3584 \nz\n\" transform=\"scale(0.015625)\"/>\n      <path id=\"DejaVuSans-74\" d=\"M 1172 4494 \nL 1172 3500 \nL 2356 3500 \nL 2356 3053 \nL 1172 3053 \nL 1172 1153 \nQ 1172 725 1289 603 \nQ 1406 481 1766 481 \nL 2356 481 \nL 2356 0 \nL 1766 0 \nQ 1100 0 847 248 \nQ 594 497 594 1153 \nL 594 3053 \nL 172 3053 \nL 172 3500 \nL 594 3500 \nL 594 4494 \nL 1172 4494 \nz\n\" transform=\"scale(0.015625)\"/>\n     </defs>\n     <use xlink:href=\"#DejaVuSans-61\"/>\n     <use xlink:href=\"#DejaVuSans-6e\" x=\"61.279297\"/>\n     <use xlink:href=\"#DejaVuSans-6b\" x=\"124.658203\"/>\n     <use xlink:href=\"#DejaVuSans-6c\" x=\"182.568359\"/>\n     <use xlink:href=\"#DejaVuSans-65\" x=\"210.351562\"/>\n     <use xlink:href=\"#DejaVuSans-20\" x=\"271.875\"/>\n     <use xlink:href=\"#DejaVuSans-62\" x=\"303.662109\"/>\n     <use xlink:href=\"#DejaVuSans-6f\" x=\"367.138672\"/>\n     <use xlink:href=\"#DejaVuSans-6f\" x=\"428.320312\"/>\n     <use xlink:href=\"#DejaVuSans-74\" x=\"489.501953\"/>\n    </g>\n   </g>\n  </g>\n  <g id=\"axes_2\">\n   <g id=\"patch_7\">\n    <path d=\"M 112.204245 93.384163 \nL 183.270283 93.384163 \nL 183.270283 22.318125 \nL 112.204245 22.318125 \nz\n\" style=\"fill: #ffffff\"/>\n   </g>\n   <g clip-path=\"url(#p3f4e61e7a9)\">\n    <image xlink:href=\"data:image/png;base64,\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\" id=\"imagee34adfa56a\" transform=\"scale(1 -1) translate(0 -71.28)\" x=\"112.204245\" y=\"-22.104163\" width=\"71.28\" height=\"71.28\"/>\n   </g>\n   <g id=\"matplotlib.axis_3\">\n    <g id=\"xtick_3\">\n     <g id=\"line2d_6\">\n      <g>\n       <use xlink:href=\"#md1ee7f82eb\" x=\"113.473282\" y=\"93.384163\" style=\"stroke: #000000; stroke-width: 0.8\"/>\n      </g>\n     </g>\n     <g id=\"text_7\">\n      <!-- 0 -->\n      <g transform=\"translate(110.292032 107.9826) scale(0.1 -0.1)\">\n       <use xlink:href=\"#DejaVuSans-30\"/>\n      </g>\n     </g>\n    </g>\n    <g id=\"xtick_4\">\n     <g id=\"line2d_7\">\n      <g>\n       <use xlink:href=\"#md1ee7f82eb\" x=\"164.234737\" y=\"93.384163\" style=\"stroke: #000000; stroke-width: 0.8\"/>\n      </g>\n     </g>\n     <g id=\"text_8\">\n      <!-- 20 -->\n      <g transform=\"translate(157.872237 107.9826) scale(0.1 -0.1)\">\n       <use xlink:href=\"#DejaVuSans-32\"/>\n       <use xlink:href=\"#DejaVuSans-30\" x=\"63.623047\"/>\n      </g>\n     </g>\n    </g>\n   </g>\n   <g id=\"matplotlib.axis_4\">\n    <g id=\"ytick_4\">\n     <g id=\"line2d_8\">\n      <g>\n       <use xlink:href=\"#m6f4ac796fa\" x=\"112.204245\" y=\"23.587161\" style=\"stroke: #000000; stroke-width: 0.8\"/>\n      </g>\n     </g>\n     <g id=\"text_9\">\n      <!-- 0 -->\n      <g transform=\"translate(98.841745 27.38638) scale(0.1 -0.1)\">\n       <use xlink:href=\"#DejaVuSans-30\"/>\n      </g>\n     </g>\n    </g>\n    <g id=\"ytick_5\">\n     <g id=\"line2d_9\">\n      <g>\n       <use xlink:href=\"#m6f4ac796fa\" x=\"112.204245\" y=\"48.967889\" style=\"stroke: #000000; stroke-width: 0.8\"/>\n      </g>\n     </g>\n     <g id=\"text_10\">\n      <!-- 10 -->\n      <g transform=\"translate(92.479245 52.767108) scale(0.1 -0.1)\">\n       <use xlink:href=\"#DejaVuSans-31\"/>\n       <use xlink:href=\"#DejaVuSans-30\" x=\"63.623047\"/>\n      </g>\n     </g>\n    </g>\n    <g id=\"ytick_6\">\n     <g id=\"line2d_10\">\n      <g>\n       <use xlink:href=\"#m6f4ac796fa\" x=\"112.204245\" y=\"74.348617\" style=\"stroke: #000000; stroke-width: 0.8\"/>\n      </g>\n     </g>\n     <g id=\"text_11\">\n      <!-- 20 -->\n      <g transform=\"translate(92.479245 78.147836) scale(0.1 -0.1)\">\n       <use xlink:href=\"#DejaVuSans-32\"/>\n       <use xlink:href=\"#DejaVuSans-30\" x=\"63.623047\"/>\n      </g>\n     </g>\n    </g>\n   </g>\n   <g id=\"patch_8\">\n    <path d=\"M 112.204245 93.384163 \nL 112.204245 22.318125 \n\" style=\"fill: none; stroke: #000000; stroke-width: 0.8; stroke-linejoin: miter; stroke-linecap: square\"/>\n   </g>\n   <g id=\"patch_9\">\n    <path d=\"M 183.270283 93.384163 \nL 183.270283 22.318125 \n\" style=\"fill: none; stroke: #000000; stroke-width: 0.8; stroke-linejoin: miter; stroke-linecap: square\"/>\n   </g>\n   <g id=\"patch_10\">\n    <path d=\"M 112.204245 93.384163 \nL 183.270283 93.384163 \n\" style=\"fill: none; stroke: #000000; stroke-width: 0.8; stroke-linejoin: miter; stroke-linecap: square\"/>\n   </g>\n   <g id=\"patch_11\">\n    <path d=\"M 112.204245 22.318125 \nL 183.270283 22.318125 \n\" style=\"fill: none; stroke: #000000; stroke-width: 0.8; stroke-linejoin: miter; stroke-linecap: square\"/>\n   </g>\n   <g id=\"text_12\">\n    <!-- t-shirt -->\n    <g transform=\"translate(129.806639 16.318125) scale(0.12 -0.12)\">\n     <defs>\n      <path id=\"DejaVuSans-2d\" d=\"M 313 2009 \nL 1997 2009 \nL 1997 1497 \nL 313 1497 \nL 313 2009 \nz\n\" transform=\"scale(0.015625)\"/>\n      <path id=\"DejaVuSans-73\" d=\"M 2834 3397 \nL 2834 2853 \nQ 2591 2978 2328 3040 \nQ 2066 3103 1784 3103 \nQ 1356 3103 1142 2972 \nQ 928 2841 928 2578 \nQ 928 2378 1081 2264 \nQ 1234 2150 1697 2047 \nL 1894 2003 \nQ 2506 1872 2764 1633 \nQ 3022 1394 3022 966 \nQ 3022 478 2636 193 \nQ 2250 -91 1575 -91 \nQ 1294 -91 989 -36 \nQ 684 19 347 128 \nL 347 722 \nQ 666 556 975 473 \nQ 1284 391 1588 391 \nQ 1994 391 2212 530 \nQ 2431 669 2431 922 \nQ 2431 1156 2273 1281 \nQ 2116 1406 1581 1522 \nL 1381 1569 \nQ 847 1681 609 1914 \nQ 372 2147 372 2553 \nQ 372 3047 722 3315 \nQ 1072 3584 1716 3584 \nQ 2034 3584 2315 3537 \nQ 2597 3491 2834 3397 \nz\n\" transform=\"scale(0.015625)\"/>\n      <path id=\"DejaVuSans-68\" d=\"M 3513 2113 \nL 3513 0 \nL 2938 0 \nL 2938 2094 \nQ 2938 2591 2744 2837 \nQ 2550 3084 2163 3084 \nQ 1697 3084 1428 2787 \nQ 1159 2491 1159 1978 \nL 1159 0 \nL 581 0 \nL 581 4863 \nL 1159 4863 \nL 1159 2956 \nQ 1366 3272 1645 3428 \nQ 1925 3584 2291 3584 \nQ 2894 3584 3203 3211 \nQ 3513 2838 3513 2113 \nz\n\" transform=\"scale(0.015625)\"/>\n      <path id=\"DejaVuSans-69\" d=\"M 603 3500 \nL 1178 3500 \nL 1178 0 \nL 603 0 \nL 603 3500 \nz\nM 603 4863 \nL 1178 4863 \nL 1178 4134 \nL 603 4134 \nL 603 4863 \nz\n\" transform=\"scale(0.015625)\"/>\n      <path id=\"DejaVuSans-72\" d=\"M 2631 2963 \nQ 2534 3019 2420 3045 \nQ 2306 3072 2169 3072 \nQ 1681 3072 1420 2755 \nQ 1159 2438 1159 1844 \nL 1159 0 \nL 581 0 \nL 581 3500 \nL 1159 3500 \nL 1159 2956 \nQ 1341 3275 1631 3429 \nQ 1922 3584 2338 3584 \nQ 2397 3584 2469 3576 \nQ 2541 3569 2628 3553 \nL 2631 2963 \nz\n\" transform=\"scale(0.015625)\"/>\n     </defs>\n     <use xlink:href=\"#DejaVuSans-74\"/>\n     <use xlink:href=\"#DejaVuSans-2d\" x=\"39.208984\"/>\n     <use xlink:href=\"#DejaVuSans-73\" x=\"75.292969\"/>\n     <use xlink:href=\"#DejaVuSans-68\" x=\"127.392578\"/>\n     <use xlink:href=\"#DejaVuSans-69\" x=\"190.771484\"/>\n     <use xlink:href=\"#DejaVuSans-72\" x=\"218.554688\"/>\n     <use xlink:href=\"#DejaVuSans-74\" x=\"259.667969\"/>\n    </g>\n   </g>\n  </g>\n  <g id=\"axes_3\">\n   <g id=\"patch_12\">\n    <path d=\"M 197.483491 93.384163 \nL 268.549528 93.384163 \nL 268.549528 22.318125 \nL 197.483491 22.318125 \nz\n\" style=\"fill: #ffffff\"/>\n   </g>\n   <g clip-path=\"url(#p944585a2d5)\">\n    <image xlink:href=\"data:image/png;base64,\niVBORw0KGgoAAAANSUhEUgAAAGMAAABjCAYAAACPO76VAAAFJUlEQVR4nO2dv28cRRTHd+724sv54uicxARBZKSIghAEoUJCKAXuKQglBTSIioKKjn+CBiQU0dKhiIoeKQUFBQRREHACAdmKdcmd725/DDqDdt575x2vndvdJ+33U8149mZW/u77sbOzs2bL3LBBlRjD67bY8OHTF1k93tzIytPBCh9CdHl6e+iGu3uPtaWjUbFzLXieT0Kr9BFAYSCGIiCGIsLKRxS+t7W6mpX33nqJte2fd9dKtCq6IZdRKzliyFfPZWWTuPKc/v00K69/8xNrS4Yu1lQBLEMREEMRpurUtr22xup/fHjVnUzKjw33PR2RY1ux9aa27GdtXp+cN7njb37+S1ZOdnaDsoFlKAJiKAJiNDm1ffTmC6xO/fTKns3372IWxZB01oo4IENGK84/n94Dd3TU54NMXnkuK3e+Q8xoFBCjyW4q7nJX0Ipc2QpXRO+sZRtzTUck50mHpq82906+85i3xX03SCcoH1iGIiCGIiBGk2NGf3vC6uOnernTEQF90CYvm2NM4sg4wdpIUyr+G+MLLmacDsoHlqEIiNFkN9WeJrmuKBVns+C2loCvz5SkwHPW73CXWjawDEVADEVAjCbHDDONPI0BYyGdLQE6zZKKOY/w0dQdV/6pwDI0ATEa7aYikdrawx8YHfbQiHFCv5GG3Bcaso5Luim66KEKYBmKgBiKgBiKqD21pdMTRsQBVi0pt7RtEkPkk8axS22PWM67FGAZioAYiqj9lQCavlrhJljam3ruzuXvZDfkdTCayv43BH2CJX64+zCoEliGIiCGIiBGo2NGvKQk0RzjUBInaPw4gKbW8tRmnhnmEoBlKAJiKKL21Jalr1Y0+VyRPZnLkvBUl3dkkyruux2wDEVADEVAjCbHDDsa8z+YYtMh1nPZLDwh9B0r5jxYqiuz3n0sYmssEEMREKPRMSPOfw/YnvDSWPidJ/b43t1gT/3mpLjPaCwQo9ELEsSs6cJMacnIWdtwUu1+mT5gGYqAGIqAGI2OGT3+Em+ycvjWFQf43LnxHCfqdGWJTIPplhiztfzNLL2bES8JWIYiIEajd9V58Derm+RywTvloPi7GwLqmuQitrjryuGIp71VuCYKLEMREEMREKPRq0OOsX1EK8nfHNjXh2/2V24eSXeG6+7WOzUCy1AExFCEKjcV93hqSfe5lUtk6YI372K3g4Pzm7wzABUDy1AExFAExFBE/TGDpJqmXfydPlaXv/OkyzK+0H6O+lxQ2cAyFAExFFG7mzpF9h+PrOcOPCi+F7rvMz8+d9eudmntArAMRUAMRUAMRdQeM9haV8OvjbSd7/y7e2nup+GiHu8notMsskvSJPupGliGIiCGImp3U3IDR0pvJ8n97MLwUnjoVyjnrN3l+euZe+42f3whzL8jf4JXmJcBLEMREEMREEMRtccM+tXI3j/c1w833eltvf89a3uxdz8rr7cfs7afJ8+w+s07r2Xlja/4Wt/pgPwLan5VA5ahCIihiNrdVGvmfEO8wnPL6+/dzspvnHEfSj+od3ey8qDtvmg253LnR1a/em07K39s32Ft5752v5316702YRmKgBiKgBiN/jTcYMDqs7MuTrz70bes7WHsXuO6+dfrrO2zyK0+G0WnWNvF1SGrn+24R3ifvnyLtX0yfDsrr99GzAD/AzEUYbbMjVrvO8PNS1n51w+eZW3Pf/FnVo5/+30p46XXr7H67hX3HtnGlz+wNjt1n2yoAliGIiCGIiBGoId/AV2WUj/022DnAAAAAElFTkSuQmCC\" id=\"image08b31c3569\" transform=\"scale(1 -1) translate(0 -71.28)\" x=\"197.483491\" y=\"-22.104163\" width=\"71.28\" height=\"71.28\"/>\n   </g>\n   <g id=\"matplotlib.axis_5\">\n    <g id=\"xtick_5\">\n     <g id=\"line2d_11\">\n      <g>\n       <use xlink:href=\"#md1ee7f82eb\" x=\"198.752527\" y=\"93.384163\" style=\"stroke: #000000; stroke-width: 0.8\"/>\n      </g>\n     </g>\n     <g id=\"text_13\">\n      <!-- 0 -->\n      <g transform=\"translate(195.571277 107.9826) scale(0.1 -0.1)\">\n       <use xlink:href=\"#DejaVuSans-30\"/>\n      </g>\n     </g>\n    </g>\n    <g id=\"xtick_6\">\n     <g id=\"line2d_12\">\n      <g>\n       <use xlink:href=\"#md1ee7f82eb\" x=\"249.513982\" y=\"93.384163\" style=\"stroke: #000000; stroke-width: 0.8\"/>\n      </g>\n     </g>\n     <g id=\"text_14\">\n      <!-- 20 -->\n      <g transform=\"translate(243.151482 107.9826) scale(0.1 -0.1)\">\n       <use xlink:href=\"#DejaVuSans-32\"/>\n       <use xlink:href=\"#DejaVuSans-30\" x=\"63.623047\"/>\n      </g>\n     </g>\n    </g>\n   </g>\n   <g id=\"matplotlib.axis_6\">\n    <g id=\"ytick_7\">\n     <g id=\"line2d_13\">\n      <g>\n       <use xlink:href=\"#m6f4ac796fa\" x=\"197.483491\" y=\"23.587161\" style=\"stroke: #000000; stroke-width: 0.8\"/>\n      </g>\n     </g>\n     <g id=\"text_15\">\n      <!-- 0 -->\n      <g transform=\"translate(184.120991 27.38638) scale(0.1 -0.1)\">\n       <use xlink:href=\"#DejaVuSans-30\"/>\n      </g>\n     </g>\n    </g>\n    <g id=\"ytick_8\">\n     <g id=\"line2d_14\">\n      <g>\n       <use xlink:href=\"#m6f4ac796fa\" x=\"197.483491\" y=\"48.967889\" style=\"stroke: #000000; stroke-width: 0.8\"/>\n      </g>\n     </g>\n     <g id=\"text_16\">\n      <!-- 10 -->\n      <g transform=\"translate(177.758491 52.767108) scale(0.1 -0.1)\">\n       <use xlink:href=\"#DejaVuSans-31\"/>\n       <use xlink:href=\"#DejaVuSans-30\" x=\"63.623047\"/>\n      </g>\n     </g>\n    </g>\n    <g id=\"ytick_9\">\n     <g id=\"line2d_15\">\n      <g>\n       <use xlink:href=\"#m6f4ac796fa\" x=\"197.483491\" y=\"74.348617\" style=\"stroke: #000000; stroke-width: 0.8\"/>\n      </g>\n     </g>\n     <g id=\"text_17\">\n      <!-- 20 -->\n      <g transform=\"translate(177.758491 78.147836) scale(0.1 -0.1)\">\n       <use xlink:href=\"#DejaVuSans-32\"/>\n       <use xlink:href=\"#DejaVuSans-30\" x=\"63.623047\"/>\n      </g>\n     </g>\n    </g>\n   </g>\n   <g id=\"patch_13\">\n    <path d=\"M 197.483491 93.384163 \nL 197.483491 22.318125 \n\" style=\"fill: none; stroke: #000000; stroke-width: 0.8; stroke-linejoin: miter; stroke-linecap: square\"/>\n   </g>\n   <g id=\"patch_14\">\n    <path d=\"M 268.549528 93.384163 \nL 268.549528 22.318125 \n\" style=\"fill: none; stroke: #000000; stroke-width: 0.8; stroke-linejoin: miter; stroke-linecap: square\"/>\n   </g>\n   <g id=\"patch_15\">\n    <path d=\"M 197.483491 93.384163 \nL 268.549528 93.384163 \n\" style=\"fill: none; stroke: #000000; stroke-width: 0.8; stroke-linejoin: miter; stroke-linecap: square\"/>\n   </g>\n   <g id=\"patch_16\">\n    <path d=\"M 197.483491 22.318125 \nL 268.549528 22.318125 \n\" style=\"fill: none; stroke: #000000; stroke-width: 0.8; stroke-linejoin: miter; stroke-linecap: square\"/>\n   </g>\n   <g id=\"text_18\">\n    <!-- t-shirt -->\n    <g transform=\"translate(215.085884 16.318125) scale(0.12 -0.12)\">\n     <use xlink:href=\"#DejaVuSans-74\"/>\n     <use xlink:href=\"#DejaVuSans-2d\" x=\"39.208984\"/>\n     <use xlink:href=\"#DejaVuSans-73\" x=\"75.292969\"/>\n     <use xlink:href=\"#DejaVuSans-68\" x=\"127.392578\"/>\n     <use xlink:href=\"#DejaVuSans-69\" x=\"190.771484\"/>\n     <use xlink:href=\"#DejaVuSans-72\" x=\"218.554688\"/>\n     <use xlink:href=\"#DejaVuSans-74\" x=\"259.667969\"/>\n    </g>\n   </g>\n  </g>\n  <g id=\"axes_4\">\n   <g id=\"patch_17\">\n    <path d=\"M 282.762736 93.384163 \nL 353.828774 93.384163 \nL 353.828774 22.318125 \nL 282.762736 22.318125 \nz\n\" style=\"fill: #ffffff\"/>\n   </g>\n   <g clip-path=\"url(#pc128530da0)\">\n    <image xlink:href=\"data:image/png;base64,\niVBORw0KGgoAAAANSUhEUgAAAGMAAABjCAYAAACPO76VAAAHqklEQVR4nO1d22scVRify+7sLZtsmrqmxtoLmLagFFsfWltQpLYIiiC+iNpHwYf+BYLQR/HBB199Kj6IoIgP+iJiKVixD0WxN9qmTWuSJt1kN3uf3bnIRJjvksxSwyQ9TL7f03c4Z87O7Dff5XznO9/oJ/R3fC1m6GmLtP1+DxqGSQd7LnQdPECvu3ob5ty3l17293UtaTAe9w0IAMIMhSDMUAipjZh06hzT/dP5kC7epWOrh5yQTheRbdE0zbzxYkhbVXrd9icPw++9q5O+oRvUZmWqYBZrr3ZI38ivuZDunqqTvs7cUEgXpqmt2/nltZB2q+zm1gmRDIUgzEi6mtKnQC1xlqe60dd5PlU3FtIoRp+OnT2WgYYDqm5lLG1q1VfgR089S13iP355IaTby6Cy/psI1FtrF7jgARbf3B/SpXMXtTggkqEQhBkKQZiRdJuRalHd3y17IZ2tAs3hdunteGmgDYdGbQqzqPE8dVdTLXBJV1AB+3K1PE66Rm+CPVk6zt5ND57DR/YjgNWIfo71QiRDIQgzkq6mshUq0t3tQHfG6ErWrMNYL0uvcwrQNuniXOs8ASqkmKf+sucxNTUAvSLowqFSg/Q12sWQ1vPUtS3ct0M6rrC3SIZCEGYoBGFG0m1GbpG6ffWesaauD5BuQtuzqfbtF2Ees0ev81LQXm7SMEaJ2RcvC/NM3yqTvrFxsGE7itRmtHojIW3Uqa3T++2QFpuRQAgzkq6m+GpZR02XBUbNztor3gD+GFzoG7RPQ81ei24mefypLFBTuSk6trEHfqO+MBYZSUghdRrAWIANpbjW4iIZCkGYoRCEGUm3GYXbdGPfPzoa0jrbhcNhDp0rXxQp5bt3ZFiNRXv5Uzmg73Ua1dCcXRBK8RoskQGNtZbZdXMPtLghkqEQhBlJV1M8D9Ydhxyn7JUMXWUX0M10+N2Bmkp1VumwkPLRuLXcYB1FADiyOdCTznSW3jfSWvmHTL9tAEQyFIIwQyEIM5JuMzgKyE7gJIOVtoV282os5DFA13MXdZDNwMkEHjVZmj0Du4LZDr2u9xT408VbLTqnFj9EMhSCMCORagofD0NHwwLs/GEhpK9/PEz6rLugN3q0SzOb8K40Juh7Q1br7JVqT7CoMVqB29ui9VuvRN3n7AL8Pf7lK9pGQyRDIQgzFIIwI5E2g9kJDPfGrZDOXX+J9Fk1oEfu0kMYqQ7MmapB0lgApwS2pjtF/eV0i4Z4TRvmaU7QyCzG/HFqM/Z9MQO/9z9s5HohkqEQhBlbbQWOMXEe8o0C3HkLMhS8NFU3Th7aqS6NqHbKKFmBLdwtluNk2jBPH9JnV5B7APNkFuh1zvT96AeJSTVhiGQoBGGGQhBmJN5mDKic0x6nYdPhA4shvVSC3NYAejZaL+sVcFG9PHVJ/Wdosq3XY/eDYO8Fm1G8TO3SZkMkQyEIMxSCMCPxNmOAD56p0cDC3DKkhxhtqtutf9KRmSO43S/Qd8pkR5jTLT/yfEhvFNmMe+76qsvFBJEMhSDM2MqurZem/C+PQdj2QZ2ej+iVgE516HU26nNzdGcvw2pxdcroqBp7YmcIqyYWV9lkiGQoBGGGQhBmbOUQ+io3FB/44zCiz26YaOPPQcnTAexRnsQGdJrmomm40IXJjj5vNkQyFIIwYyurqfpu6vYW0DadwXJrrZqx5lkJ7s6mG4NdUh89JZ9HR8edeR7wZkMkQyEIMxSCMGMrR23bO1hysYfeB4+OdTPo6DGrqkPazCM1WSFjG0VmTfb64aToJkuuzm9wlJZDJEMhCDO2smuLXclVhbsMOta0o6OteAXOK/V4A6op+NG5CSQx7nFAJEMhCDMUgjAjiTYDb9hzNzC1dzfQe5qkr7sICt90ol3bNX4xpLy0H7lDuPKbbT1yVxC70/bT7CMdmwyRDIUgzEiimhq0Qv3gp/MhffavNyLHuSxnVm+akQUbyTi24OerdRy1XVVgDIP11U4fjf1TPoMgkqEQhBkKQZiR9HDIvU/o8eLvK9tC2p6nn43Th8CfNSyq/F1UAmd1pZy1wyYB+sPsvAau6Nag75+Hkth0lutbOQnh37EfaYKdW4FzJXFBJEMhCDMUgh7Xx9n7J+GjuMtnaF3b6iL6XE6N7vp7SE1pzoBiX8xd1UoDVst1XmFMeyRwl9gdjt4km/zwkhY3RDIUgjBDIQgzkujaTp9GZzDmWUk1tLtnlGm2QD4Dut9xqGvZ74Du99FnfVbmwUeP0Wd8AvDAic/6o+4N50YEMFHZi23oiHSA5fePhPTIV79rcUAkQyEIM5KopiY/A/Uzc5b2NRagdqzPEhJsVPHGZ30Yu56pRPY5TL+4rMzOUh3ODLguW4Ejd1pfoom45k6oAPRwhu5YTcakmjBEMhSCMEMhCDOSaDO8P6+FdOEbcPsCTH4EBSOrNo3aFtKwQ1i3aVWb8QKEVc7s+Jn0HcvCe/Rtk7rSLY/q/gvL+0L6XhM+ORSgaIGte/nwTdL3+aUTGxr+4BDJUAjCjCRGbR8VxnP7SXv2Ndh4Gn19lvTNVUH9lL+mCbXFC6D6uof2kL47b9N37L0jkEwwb1OVdvG7gyE98elv2uOESIZCEGYoBGGGpg7+Ba1rO+hbxLlHAAAAAElFTkSuQmCC\" id=\"imagec0b5a92a86\" transform=\"scale(1 -1) translate(0 -71.28)\" x=\"282.762736\" y=\"-22.104163\" width=\"71.28\" height=\"71.28\"/>\n   </g>\n   <g id=\"matplotlib.axis_7\">\n    <g id=\"xtick_7\">\n     <g id=\"line2d_16\">\n      <g>\n       <use xlink:href=\"#md1ee7f82eb\" x=\"284.031772\" y=\"93.384163\" style=\"stroke: #000000; stroke-width: 0.8\"/>\n      </g>\n     </g>\n     <g id=\"text_19\">\n      <!-- 0 -->\n      <g transform=\"translate(280.850522 107.9826) scale(0.1 -0.1)\">\n       <use xlink:href=\"#DejaVuSans-30\"/>\n      </g>\n     </g>\n    </g>\n    <g id=\"xtick_8\">\n     <g id=\"line2d_17\">\n      <g>\n       <use xlink:href=\"#md1ee7f82eb\" x=\"334.793228\" y=\"93.384163\" style=\"stroke: #000000; stroke-width: 0.8\"/>\n      </g>\n     </g>\n     <g id=\"text_20\">\n      <!-- 20 -->\n      <g transform=\"translate(328.430728 107.9826) scale(0.1 -0.1)\">\n       <use xlink:href=\"#DejaVuSans-32\"/>\n       <use xlink:href=\"#DejaVuSans-30\" x=\"63.623047\"/>\n      </g>\n     </g>\n    </g>\n   </g>\n   <g id=\"matplotlib.axis_8\">\n    <g id=\"ytick_10\">\n     <g id=\"line2d_18\">\n      <g>\n       <use xlink:href=\"#m6f4ac796fa\" x=\"282.762736\" y=\"23.587161\" style=\"stroke: #000000; stroke-width: 0.8\"/>\n      </g>\n     </g>\n     <g id=\"text_21\">\n      <!-- 0 -->\n      <g transform=\"translate(269.400236 27.38638) scale(0.1 -0.1)\">\n       <use xlink:href=\"#DejaVuSans-30\"/>\n      </g>\n     </g>\n    </g>\n    <g id=\"ytick_11\">\n     <g id=\"line2d_19\">\n      <g>\n       <use xlink:href=\"#m6f4ac796fa\" x=\"282.762736\" y=\"48.967889\" style=\"stroke: #000000; stroke-width: 0.8\"/>\n      </g>\n     </g>\n     <g id=\"text_22\">\n      <!-- 10 -->\n      <g transform=\"translate(263.037736 52.767108) scale(0.1 -0.1)\">\n       <use xlink:href=\"#DejaVuSans-31\"/>\n       <use xlink:href=\"#DejaVuSans-30\" x=\"63.623047\"/>\n      </g>\n     </g>\n    </g>\n    <g id=\"ytick_12\">\n     <g id=\"line2d_20\">\n      <g>\n       <use xlink:href=\"#m6f4ac796fa\" x=\"282.762736\" y=\"74.348617\" style=\"stroke: #000000; stroke-width: 0.8\"/>\n      </g>\n     </g>\n     <g id=\"text_23\">\n      <!-- 20 -->\n      <g transform=\"translate(263.037736 78.147836) scale(0.1 -0.1)\">\n       <use xlink:href=\"#DejaVuSans-32\"/>\n       <use xlink:href=\"#DejaVuSans-30\" x=\"63.623047\"/>\n      </g>\n     </g>\n    </g>\n   </g>\n   <g id=\"patch_18\">\n    <path d=\"M 282.762736 93.384163 \nL 282.762736 22.318125 \n\" style=\"fill: none; stroke: #000000; stroke-width: 0.8; stroke-linejoin: miter; stroke-linecap: square\"/>\n   </g>\n   <g id=\"patch_19\">\n    <path d=\"M 353.828774 93.384163 \nL 353.828774 22.318125 \n\" style=\"fill: none; stroke: #000000; stroke-width: 0.8; stroke-linejoin: miter; stroke-linecap: square\"/>\n   </g>\n   <g id=\"patch_20\">\n    <path d=\"M 282.762736 93.384163 \nL 353.828774 93.384163 \n\" style=\"fill: none; stroke: #000000; stroke-width: 0.8; stroke-linejoin: miter; stroke-linecap: square\"/>\n   </g>\n   <g id=\"patch_21\">\n    <path d=\"M 282.762736 22.318125 \nL 353.828774 22.318125 \n\" style=\"fill: none; stroke: #000000; stroke-width: 0.8; stroke-linejoin: miter; stroke-linecap: square\"/>\n   </g>\n   <g id=\"text_24\">\n    <!-- dress -->\n    <g transform=\"translate(302.212005 16.318125) scale(0.12 -0.12)\">\n     <defs>\n      <path id=\"DejaVuSans-64\" d=\"M 2906 2969 \nL 2906 4863 \nL 3481 4863 \nL 3481 0 \nL 2906 0 \nL 2906 525 \nQ 2725 213 2448 61 \nQ 2172 -91 1784 -91 \nQ 1150 -91 751 415 \nQ 353 922 353 1747 \nQ 353 2572 751 3078 \nQ 1150 3584 1784 3584 \nQ 2172 3584 2448 3432 \nQ 2725 3281 2906 2969 \nz\nM 947 1747 \nQ 947 1113 1208 752 \nQ 1469 391 1925 391 \nQ 2381 391 2643 752 \nQ 2906 1113 2906 1747 \nQ 2906 2381 2643 2742 \nQ 2381 3103 1925 3103 \nQ 1469 3103 1208 2742 \nQ 947 2381 947 1747 \nz\n\" transform=\"scale(0.015625)\"/>\n     </defs>\n     <use xlink:href=\"#DejaVuSans-64\"/>\n     <use xlink:href=\"#DejaVuSans-72\" x=\"63.476562\"/>\n     <use xlink:href=\"#DejaVuSans-65\" x=\"102.339844\"/>\n     <use xlink:href=\"#DejaVuSans-73\" x=\"163.863281\"/>\n     <use xlink:href=\"#DejaVuSans-73\" x=\"215.962891\"/>\n    </g>\n   </g>\n  </g>\n  <g id=\"axes_5\">\n   <g id=\"patch_22\">\n    <path d=\"M 368.041981 93.384163 \nL 439.108019 93.384163 \nL 439.108019 22.318125 \nL 368.041981 22.318125 \nz\n\" style=\"fill: #ffffff\"/>\n   </g>\n   <g clip-path=\"url(#p3c53e111ff)\">\n    <image xlink:href=\"data:image/png;base64,\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\" id=\"imagec767755727\" transform=\"scale(1 -1) translate(0 -71.28)\" x=\"368.041981\" y=\"-22.104163\" width=\"71.28\" height=\"71.28\"/>\n   </g>\n   <g id=\"matplotlib.axis_9\">\n    <g id=\"xtick_9\">\n     <g id=\"line2d_21\">\n      <g>\n       <use xlink:href=\"#md1ee7f82eb\" x=\"369.311018\" y=\"93.384163\" style=\"stroke: #000000; stroke-width: 0.8\"/>\n      </g>\n     </g>\n     <g id=\"text_25\">\n      <!-- 0 -->\n      <g transform=\"translate(366.129768 107.9826) scale(0.1 -0.1)\">\n       <use xlink:href=\"#DejaVuSans-30\"/>\n      </g>\n     </g>\n    </g>\n    <g id=\"xtick_10\">\n     <g id=\"line2d_22\">\n      <g>\n       <use xlink:href=\"#md1ee7f82eb\" x=\"420.072473\" y=\"93.384163\" style=\"stroke: #000000; stroke-width: 0.8\"/>\n      </g>\n     </g>\n     <g id=\"text_26\">\n      <!-- 20 -->\n      <g transform=\"translate(413.709973 107.9826) scale(0.1 -0.1)\">\n       <use xlink:href=\"#DejaVuSans-32\"/>\n       <use xlink:href=\"#DejaVuSans-30\" x=\"63.623047\"/>\n      </g>\n     </g>\n    </g>\n   </g>\n   <g id=\"matplotlib.axis_10\">\n    <g id=\"ytick_13\">\n     <g id=\"line2d_23\">\n      <g>\n       <use xlink:href=\"#m6f4ac796fa\" x=\"368.041981\" y=\"23.587161\" style=\"stroke: #000000; stroke-width: 0.8\"/>\n      </g>\n     </g>\n     <g id=\"text_27\">\n      <!-- 0 -->\n      <g transform=\"translate(354.679481 27.38638) scale(0.1 -0.1)\">\n       <use xlink:href=\"#DejaVuSans-30\"/>\n      </g>\n     </g>\n    </g>\n    <g id=\"ytick_14\">\n     <g id=\"line2d_24\">\n      <g>\n       <use xlink:href=\"#m6f4ac796fa\" x=\"368.041981\" y=\"48.967889\" style=\"stroke: #000000; stroke-width: 0.8\"/>\n      </g>\n     </g>\n     <g id=\"text_28\">\n      <!-- 10 -->\n      <g transform=\"translate(348.316981 52.767108) scale(0.1 -0.1)\">\n       <use xlink:href=\"#DejaVuSans-31\"/>\n       <use xlink:href=\"#DejaVuSans-30\" x=\"63.623047\"/>\n      </g>\n     </g>\n    </g>\n    <g id=\"ytick_15\">\n     <g id=\"line2d_25\">\n      <g>\n       <use xlink:href=\"#m6f4ac796fa\" x=\"368.041981\" y=\"74.348617\" style=\"stroke: #000000; stroke-width: 0.8\"/>\n      </g>\n     </g>\n     <g id=\"text_29\">\n      <!-- 20 -->\n      <g transform=\"translate(348.316981 78.147836) scale(0.1 -0.1)\">\n       <use xlink:href=\"#DejaVuSans-32\"/>\n       <use xlink:href=\"#DejaVuSans-30\" x=\"63.623047\"/>\n      </g>\n     </g>\n    </g>\n   </g>\n   <g id=\"patch_23\">\n    <path d=\"M 368.041981 93.384163 \nL 368.041981 22.318125 \n\" style=\"fill: none; stroke: #000000; stroke-width: 0.8; stroke-linejoin: miter; stroke-linecap: square\"/>\n   </g>\n   <g id=\"patch_24\">\n    <path d=\"M 439.108019 93.384163 \nL 439.108019 22.318125 \n\" style=\"fill: none; stroke: #000000; stroke-width: 0.8; stroke-linejoin: miter; stroke-linecap: square\"/>\n   </g>\n   <g id=\"patch_25\">\n    <path d=\"M 368.041981 93.384163 \nL 439.108019 93.384163 \n\" style=\"fill: none; stroke: #000000; stroke-width: 0.8; stroke-linejoin: miter; stroke-linecap: square\"/>\n   </g>\n   <g id=\"patch_26\">\n    <path d=\"M 368.041981 22.318125 \nL 439.108019 22.318125 \n\" style=\"fill: none; stroke: #000000; stroke-width: 0.8; stroke-linejoin: miter; stroke-linecap: square\"/>\n   </g>\n   <g id=\"text_30\">\n    <!-- t-shirt -->\n    <g transform=\"translate(385.644375 16.318125) scale(0.12 -0.12)\">\n     <use xlink:href=\"#DejaVuSans-74\"/>\n     <use xlink:href=\"#DejaVuSans-2d\" x=\"39.208984\"/>\n     <use xlink:href=\"#DejaVuSans-73\" x=\"75.292969\"/>\n     <use xlink:href=\"#DejaVuSans-68\" x=\"127.392578\"/>\n     <use xlink:href=\"#DejaVuSans-69\" x=\"190.771484\"/>\n     <use xlink:href=\"#DejaVuSans-72\" x=\"218.554688\"/>\n     <use xlink:href=\"#DejaVuSans-74\" x=\"259.667969\"/>\n    </g>\n   </g>\n  </g>\n  <g id=\"axes_6\">\n   <g id=\"patch_27\">\n    <path d=\"M 453.321226 93.384163 \nL 524.387264 93.384163 \nL 524.387264 22.318125 \nL 453.321226 22.318125 \nz\n\" style=\"fill: #ffffff\"/>\n   </g>\n   <g clip-path=\"url(#p06c8ffac13)\">\n    <image xlink:href=\"data:image/png;base64,\niVBORw0KGgoAAAANSUhEUgAAAGMAAABjCAYAAACPO76VAAAJc0lEQVR4nO1dXYwbVxUej2c89nrX8Xp3Sdw6PzTbJAgJ0oZQRbSFVhVFPNA+VGof+gJICJ6IhFSBQOINIRBISDwgISFBRMpDKxKhVm3VhxD6E5WmCS1N2mzTlKXJbrabxF7/j+cHjZHu+emO47UWcT0639O5OfbMdc7e754595wzqQdSj4TGCLjw24NknJ7wlDzzXJboikdehUEqFX/RcKSp/F+w8Ou7lDy98wbRZZ4sKblw9NTQ1zQ3aW6CTYAYQyOIMTSCtaEPl7cpee/uK0R3aOaSkn9/7R6iKx4Zz31hEH754B+V/GL100T3/P4ZJReOGkNDVoZGEGOMK00FjaaS/bBIdL0wrWS7Fm/j9396iIy9gq9kZxWuEQFd0kjBxz4G/Ln+mHvPaJwKmMoDpburQ3SVP8N/T+7Ya0RnGnChAN+g//sHuO8DICtDI4gxNIIYY1z3DKPXU2LecolqwoRxaoD3+uhXXiLjE8u3K7m6LUd0lWJVyV2fTtX1YaO4GUObaEJpk24aq428kh/adY7oji3C/rbrGL1m3uwqOWNCKGi9fWlYyMrQCGKMcaWpED09c3cOozcZz1PV3gQZt1xbyd0OyBEWLn8ifi4++jsy6f1SnCexa8umbWeAYpY6BaKbWIYPm/k8/R0+jNs+nbcJbL4hyMrQCGIMjSDGGFvXFsE0wvhwSAXCJhxFu0XG86VVGJTY5JCP6KSp+9gL0vFzY75lEMLfnMu+10F8X86uEd07DfQb53cQnW/8U8k2ux/zdIeGrAyNIMZIBE2xpYlpat/WFaJrx3zuv9cBKmj0nPj7eeHQlOkhWuqPAxhb7Al8rYuSJ6hna2RrECpuVyaJrhda8W7+iOdnsjI0ghhDI4gxxnXPSKFYAuZ6HhK4d2aB6J5HZNwNrFi+twaEO/ke5eLrMMrm18lY3vrfY78jy+IYmRp8b+UOmpjXDJzYPWtQ1HoQZGVoBDHG2CYkdODA3kzRKCZ2Weed5ViaanrUfR0U/TUR3bS8DNFl0gMyFBjwUzYHPmz6GN30QNfcQamv4QNtOYzezN5oPCUrQyOIMTSCGCMJ4ZDtOVqT0A3sdUMFHNe69KQPhydM5pLy0AUG5nce/uDbEI7w8uhv3nZj969UAPdwKg2iawWZWDd/UMLdIMjK0AhijCTQ1KiouTQ3amuurmSX0ZuHWMrnVITAaYK7qGlEf/yzk1Y39sAq3QQK+9JOKHmI0PKBpmzGS/IEngCIMTSCGCMZJ33xxOgzF9HatlXJDS8+amqZfqyOu6T4swEryOAucQfl6WbTNHSRQ2Of/W2mmhD+2TNBQzxLLtSnpFGtRn9MyzyGhqwMjSDGSKJriw+NMszV83ZAzmy9w5KKWBIABqYffmCEdR6vI2MP7tgtzgygQo4w66ybe8WTHCZYeYTpS9R27CHG0AhijCTsGTwZDXO4naL7QncWTsU6bcqvNuLwBktiyzB3No7rzZt0XchZvXXv158bCoHgfaA/18qUkmctmoe72ptcN9zSn/faaHVksjI0ghhDI4gxkrBneCzcXMpATUY2RUMObgE+22vTTA38/OCya+KTty4Lo9hpM5brQxYewTV+PEze8mA+BRRO7+vm4v973qlDiGf3JKoxiZ47FmF/2cjuIStDI4gxkkBTJy/fRsblqXpsFLW5DWxu53jUFFzd2yavER1PDotzrXmogic2kOgvq/HCFPfG9e1Uh3InLnVpGfS5ZWiEtmDPEd32Dz40RoGsDI0gxtAIYowk7Bntd2kntum7ryr5nsIFojt+8LNKdt6kCdPPLB1Qcv5D5qIiL5SVVRh+DvYBHkHnwN3WLFxgyFpLoAhHH52DsJ/9aBZKjSNcbM0q+Q87TxLdA3d+Q8npE28Mnhyey9CfFPzPIcbQCKlRe6EfOMPrFSDienqVuogzOeiKcKC4SHQ/nqMNtzAaAZzsXw+oS9pB7rPPXOkWS4bLopPHLSxqW7GAm952KYf98F8PK3lhdZZe8wU4ouxN0vuXf/GKMQpkZWgEMYZGEGMkYc9oPgLvj4hw5T6QrRLN4vrZ555W8veeeZzoyn+D23e30L+Ntd0ge3k2TTQMLaoLbVYv4QKnpwLK78XzMM7U6fduPAyRaK9H96GgConP37//L0R3/P7PwPeWaPLbIMjK0AhijCTQ1IXffJ7+A7pK+a8sZxV5wU6VuqiP/erZ2JzVix2IlJ5bKxPd5foWJXe99NCHS1unaDnYNyvQZ/epFYgGRGgchgMks0abloVXIOIQtKhuVMjK0AhiDI0gxkjCnsGRvh1O/t77OnBtBOdTNSXf+hPG739/a7jrF2iGdGoKwhhhntYJBgU69nOQdGDVadJBcPbcUCGfLxdo1PayN63kt1u3Et3pO0b7G5eVoRHEGEk4XProO/R1PU8c/pOSqz7tgoBLc+0j1LVd9YB+XrqOHrkNw/jHYkXJ6UXafMtqgvuapsxj2M0w9gDJdyiFVb8FLvp3v/gC0a24aG7NPUS3IwO5Ui9e2Ut00wZtfjYsZGVoBDGGRhBjJGHPmDtD+513QnAfX6lR7sc5rLc48Ooe3p3m7tJFortr+gMlm/uD2H2IJ7Hx5DccZuEdf3DCG+4MFGHWhtDJ2TrsXxFuoPeA1Ft0PwOnd2OQlaERxBhJoClrhZZVvVyDt4qttKH8KsJSCBHWN71biK6UbcWWjVmIQniDLxd1PeClBMUMTSwoZ2uxVIT78fKeu1fR7+iht59FcLYATWZP0N87KmRlaAQxhkYQYySijOx9cDsjvHVtXsnzRVpWdWkN3t+TRX3JI9RcVJbs0en4qHaijV4hF6Hbhc96Lv2eZdNEtWKhFXv/Qe0qcAPigkOTLOqoWXL56Hk6b2M0yMrQCGKMsaUp/PpH1pVg+gdAI4eevBj7lFt1aUS3japNHdbfvIncyVaTdk+YyMNTvWWx1zkw2sJPyNMl2o/XQbSFm0dGmLKBmj7q0HqB934HkdqZG68amwFZGRpBjKERxBhjm5AwYM/AsCr0gP78ExDx/NoXThPdtAVu51V0shZhygLO/naJvtT9kzar+Yqp64jwbAsSJE7W9hHdXAZKps83oJw4wuun4HRv789pk2FvGZLYNguyMjSCGCMReVP8Lec3acAVB2snlJwtfZUe4Ox5/F0l/7tOq2uXFqArgdmlc/FRRDXCQ3eeUfLxs/uJbt9huEdQB8raLMreCGRlaAQxhkYQYxj64D8SUvQU40pWkwAAAABJRU5ErkJggg==\" id=\"image5effabb52b\" transform=\"scale(1 -1) translate(0 -71.28)\" x=\"453.321226\" y=\"-22.104163\" width=\"71.28\" height=\"71.28\"/>\n   </g>\n   <g id=\"matplotlib.axis_11\">\n    <g id=\"xtick_11\">\n     <g id=\"line2d_26\">\n      <g>\n       <use xlink:href=\"#md1ee7f82eb\" x=\"454.590263\" y=\"93.384163\" style=\"stroke: #000000; stroke-width: 0.8\"/>\n      </g>\n     </g>\n     <g id=\"text_31\">\n      <!-- 0 -->\n      <g transform=\"translate(451.409013 107.9826) scale(0.1 -0.1)\">\n       <use xlink:href=\"#DejaVuSans-30\"/>\n      </g>\n     </g>\n    </g>\n    <g id=\"xtick_12\">\n     <g id=\"line2d_27\">\n      <g>\n       <use xlink:href=\"#md1ee7f82eb\" x=\"505.351718\" y=\"93.384163\" style=\"stroke: #000000; stroke-width: 0.8\"/>\n      </g>\n     </g>\n     <g id=\"text_32\">\n      <!-- 20 -->\n      <g transform=\"translate(498.989218 107.9826) scale(0.1 -0.1)\">\n       <use xlink:href=\"#DejaVuSans-32\"/>\n       <use xlink:href=\"#DejaVuSans-30\" x=\"63.623047\"/>\n      </g>\n     </g>\n    </g>\n   </g>\n   <g id=\"matplotlib.axis_12\">\n    <g id=\"ytick_16\">\n     <g id=\"line2d_28\">\n      <g>\n       <use xlink:href=\"#m6f4ac796fa\" x=\"453.321226\" y=\"23.587161\" style=\"stroke: #000000; stroke-width: 0.8\"/>\n      </g>\n     </g>\n     <g id=\"text_33\">\n      <!-- 0 -->\n      <g transform=\"translate(439.958726 27.38638) scale(0.1 -0.1)\">\n       <use xlink:href=\"#DejaVuSans-30\"/>\n      </g>\n     </g>\n    </g>\n    <g id=\"ytick_17\">\n     <g id=\"line2d_29\">\n      <g>\n       <use xlink:href=\"#m6f4ac796fa\" x=\"453.321226\" y=\"48.967889\" style=\"stroke: #000000; stroke-width: 0.8\"/>\n      </g>\n     </g>\n     <g id=\"text_34\">\n      <!-- 10 -->\n      <g transform=\"translate(433.596226 52.767108) scale(0.1 -0.1)\">\n       <use xlink:href=\"#DejaVuSans-31\"/>\n       <use xlink:href=\"#DejaVuSans-30\" x=\"63.623047\"/>\n      </g>\n     </g>\n    </g>\n    <g id=\"ytick_18\">\n     <g id=\"line2d_30\">\n      <g>\n       <use xlink:href=\"#m6f4ac796fa\" x=\"453.321226\" y=\"74.348617\" style=\"stroke: #000000; stroke-width: 0.8\"/>\n      </g>\n     </g>\n     <g id=\"text_35\">\n      <!-- 20 -->\n      <g transform=\"translate(433.596226 78.147836) scale(0.1 -0.1)\">\n       <use xlink:href=\"#DejaVuSans-32\"/>\n       <use xlink:href=\"#DejaVuSans-30\" x=\"63.623047\"/>\n      </g>\n     </g>\n    </g>\n   </g>\n   <g id=\"patch_28\">\n    <path d=\"M 453.321226 93.384163 \nL 453.321226 22.318125 \n\" style=\"fill: none; stroke: #000000; stroke-width: 0.8; stroke-linejoin: miter; stroke-linecap: square\"/>\n   </g>\n   <g id=\"patch_29\">\n    <path d=\"M 524.387264 93.384163 \nL 524.387264 22.318125 \n\" style=\"fill: none; stroke: #000000; stroke-width: 0.8; stroke-linejoin: miter; stroke-linecap: square\"/>\n   </g>\n   <g id=\"patch_30\">\n    <path d=\"M 453.321226 93.384163 \nL 524.387264 93.384163 \n\" style=\"fill: none; stroke: #000000; stroke-width: 0.8; stroke-linejoin: miter; stroke-linecap: square\"/>\n   </g>\n   <g id=\"patch_31\">\n    <path d=\"M 453.321226 22.318125 \nL 524.387264 22.318125 \n\" style=\"fill: none; stroke: #000000; stroke-width: 0.8; stroke-linejoin: miter; stroke-linecap: square\"/>\n   </g>\n   <g id=\"text_36\">\n    <!-- pullover -->\n    <g transform=\"translate(464.527995 16.318125) scale(0.12 -0.12)\">\n     <defs>\n      <path id=\"DejaVuSans-70\" d=\"M 1159 525 \nL 1159 -1331 \nL 581 -1331 \nL 581 3500 \nL 1159 3500 \nL 1159 2969 \nQ 1341 3281 1617 3432 \nQ 1894 3584 2278 3584 \nQ 2916 3584 3314 3078 \nQ 3713 2572 3713 1747 \nQ 3713 922 3314 415 \nQ 2916 -91 2278 -91 \nQ 1894 -91 1617 61 \nQ 1341 213 1159 525 \nz\nM 3116 1747 \nQ 3116 2381 2855 2742 \nQ 2594 3103 2138 3103 \nQ 1681 3103 1420 2742 \nQ 1159 2381 1159 1747 \nQ 1159 1113 1420 752 \nQ 1681 391 2138 391 \nQ 2594 391 2855 752 \nQ 3116 1113 3116 1747 \nz\n\" transform=\"scale(0.015625)\"/>\n      <path id=\"DejaVuSans-75\" d=\"M 544 1381 \nL 544 3500 \nL 1119 3500 \nL 1119 1403 \nQ 1119 906 1312 657 \nQ 1506 409 1894 409 \nQ 2359 409 2629 706 \nQ 2900 1003 2900 1516 \nL 2900 3500 \nL 3475 3500 \nL 3475 0 \nL 2900 0 \nL 2900 538 \nQ 2691 219 2414 64 \nQ 2138 -91 1772 -91 \nQ 1169 -91 856 284 \nQ 544 659 544 1381 \nz\nM 1991 3584 \nL 1991 3584 \nz\n\" transform=\"scale(0.015625)\"/>\n      <path id=\"DejaVuSans-76\" d=\"M 191 3500 \nL 800 3500 \nL 1894 563 \nL 2988 3500 \nL 3597 3500 \nL 2284 0 \nL 1503 0 \nL 191 3500 \nz\n\" transform=\"scale(0.015625)\"/>\n     </defs>\n     <use xlink:href=\"#DejaVuSans-70\"/>\n     <use xlink:href=\"#DejaVuSans-75\" x=\"63.476562\"/>\n     <use xlink:href=\"#DejaVuSans-6c\" x=\"126.855469\"/>\n     <use xlink:href=\"#DejaVuSans-6c\" x=\"154.638672\"/>\n     <use xlink:href=\"#DejaVuSans-6f\" x=\"182.421875\"/>\n     <use xlink:href=\"#DejaVuSans-76\" x=\"243.603516\"/>\n     <use xlink:href=\"#DejaVuSans-65\" x=\"302.783203\"/>\n     <use xlink:href=\"#DejaVuSans-72\" x=\"364.306641\"/>\n    </g>\n   </g>\n  </g>\n  <g id=\"axes_7\">\n   <g id=\"patch_32\">\n    <path d=\"M 538.600472 93.384163 \nL 609.666509 93.384163 \nL 609.666509 22.318125 \nL 538.600472 22.318125 \nz\n\" style=\"fill: #ffffff\"/>\n   </g>\n   <g clip-path=\"url(#p441e759ab5)\">\n    <image xlink:href=\"data:image/png;base64,\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\" id=\"image94370e7aa4\" transform=\"scale(1 -1) translate(0 -71.28)\" x=\"538.600472\" y=\"-22.104163\" width=\"71.28\" height=\"71.28\"/>\n   </g>\n   <g id=\"matplotlib.axis_13\">\n    <g id=\"xtick_13\">\n     <g id=\"line2d_31\">\n      <g>\n       <use xlink:href=\"#md1ee7f82eb\" x=\"539.869508\" y=\"93.384163\" style=\"stroke: #000000; stroke-width: 0.8\"/>\n      </g>\n     </g>\n     <g id=\"text_37\">\n      <!-- 0 -->\n      <g transform=\"translate(536.688258 107.9826) scale(0.1 -0.1)\">\n       <use xlink:href=\"#DejaVuSans-30\"/>\n      </g>\n     </g>\n    </g>\n    <g id=\"xtick_14\">\n     <g id=\"line2d_32\">\n      <g>\n       <use xlink:href=\"#md1ee7f82eb\" x=\"590.630964\" y=\"93.384163\" style=\"stroke: #000000; stroke-width: 0.8\"/>\n      </g>\n     </g>\n     <g id=\"text_38\">\n      <!-- 20 -->\n      <g transform=\"translate(584.268464 107.9826) scale(0.1 -0.1)\">\n       <use xlink:href=\"#DejaVuSans-32\"/>\n       <use xlink:href=\"#DejaVuSans-30\" x=\"63.623047\"/>\n      </g>\n     </g>\n    </g>\n   </g>\n   <g id=\"matplotlib.axis_14\">\n    <g id=\"ytick_19\">\n     <g id=\"line2d_33\">\n      <g>\n       <use xlink:href=\"#m6f4ac796fa\" x=\"538.600472\" y=\"23.587161\" style=\"stroke: #000000; stroke-width: 0.8\"/>\n      </g>\n     </g>\n     <g id=\"text_39\">\n      <!-- 0 -->\n      <g transform=\"translate(525.237972 27.38638) scale(0.1 -0.1)\">\n       <use xlink:href=\"#DejaVuSans-30\"/>\n      </g>\n     </g>\n    </g>\n    <g id=\"ytick_20\">\n     <g id=\"line2d_34\">\n      <g>\n       <use xlink:href=\"#m6f4ac796fa\" x=\"538.600472\" y=\"48.967889\" style=\"stroke: #000000; stroke-width: 0.8\"/>\n      </g>\n     </g>\n     <g id=\"text_40\">\n      <!-- 10 -->\n      <g transform=\"translate(518.875472 52.767108) scale(0.1 -0.1)\">\n       <use xlink:href=\"#DejaVuSans-31\"/>\n       <use xlink:href=\"#DejaVuSans-30\" x=\"63.623047\"/>\n      </g>\n     </g>\n    </g>\n    <g id=\"ytick_21\">\n     <g id=\"line2d_35\">\n      <g>\n       <use xlink:href=\"#m6f4ac796fa\" x=\"538.600472\" y=\"74.348617\" style=\"stroke: #000000; stroke-width: 0.8\"/>\n      </g>\n     </g>\n     <g id=\"text_41\">\n      <!-- 20 -->\n      <g transform=\"translate(518.875472 78.147836) scale(0.1 -0.1)\">\n       <use xlink:href=\"#DejaVuSans-32\"/>\n       <use xlink:href=\"#DejaVuSans-30\" x=\"63.623047\"/>\n      </g>\n     </g>\n    </g>\n   </g>\n   <g id=\"patch_33\">\n    <path d=\"M 538.600472 93.384163 \nL 538.600472 22.318125 \n\" style=\"fill: none; stroke: #000000; stroke-width: 0.8; stroke-linejoin: miter; stroke-linecap: square\"/>\n   </g>\n   <g id=\"patch_34\">\n    <path d=\"M 609.666509 93.384163 \nL 609.666509 22.318125 \n\" style=\"fill: none; stroke: #000000; stroke-width: 0.8; stroke-linejoin: miter; stroke-linecap: square\"/>\n   </g>\n   <g id=\"patch_35\">\n    <path d=\"M 538.600472 93.384163 \nL 609.666509 93.384163 \n\" style=\"fill: none; stroke: #000000; stroke-width: 0.8; stroke-linejoin: miter; stroke-linecap: square\"/>\n   </g>\n   <g id=\"patch_36\">\n    <path d=\"M 538.600472 22.318125 \nL 609.666509 22.318125 \n\" style=\"fill: none; stroke: #000000; stroke-width: 0.8; stroke-linejoin: miter; stroke-linecap: square\"/>\n   </g>\n   <g id=\"text_42\">\n    <!-- sneaker -->\n    <g transform=\"translate(550.421303 16.318125) scale(0.12 -0.12)\">\n     <use xlink:href=\"#DejaVuSans-73\"/>\n     <use xlink:href=\"#DejaVuSans-6e\" x=\"52.099609\"/>\n     <use xlink:href=\"#DejaVuSans-65\" x=\"115.478516\"/>\n     <use xlink:href=\"#DejaVuSans-61\" x=\"177.001953\"/>\n     <use xlink:href=\"#DejaVuSans-6b\" x=\"238.28125\"/>\n     <use xlink:href=\"#DejaVuSans-65\" x=\"292.566406\"/>\n     <use xlink:href=\"#DejaVuSans-72\" x=\"354.089844\"/>\n    </g>\n   </g>\n  </g>\n  <g id=\"axes_8\">\n   <g id=\"patch_37\">\n    <path d=\"M 623.879717 93.384163 \nL 694.945755 93.384163 \nL 694.945755 22.318125 \nL 623.879717 22.318125 \nz\n\" style=\"fill: #ffffff\"/>\n   </g>\n   <g clip-path=\"url(#pc8ad79f8fa)\">\n    <image xlink:href=\"data:image/png;base64,\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\" id=\"imagea6b149f4d8\" transform=\"scale(1 -1) translate(0 -71.28)\" x=\"623.879717\" y=\"-22.104163\" width=\"71.28\" height=\"71.28\"/>\n   </g>\n   <g id=\"matplotlib.axis_15\">\n    <g id=\"xtick_15\">\n     <g id=\"line2d_36\">\n      <g>\n       <use xlink:href=\"#md1ee7f82eb\" x=\"625.148753\" y=\"93.384163\" style=\"stroke: #000000; stroke-width: 0.8\"/>\n      </g>\n     </g>\n     <g id=\"text_43\">\n      <!-- 0 -->\n      <g transform=\"translate(621.967503 107.9826) scale(0.1 -0.1)\">\n       <use xlink:href=\"#DejaVuSans-30\"/>\n      </g>\n     </g>\n    </g>\n    <g id=\"xtick_16\">\n     <g id=\"line2d_37\">\n      <g>\n       <use xlink:href=\"#md1ee7f82eb\" x=\"675.910209\" y=\"93.384163\" style=\"stroke: #000000; stroke-width: 0.8\"/>\n      </g>\n     </g>\n     <g id=\"text_44\">\n      <!-- 20 -->\n      <g transform=\"translate(669.547709 107.9826) scale(0.1 -0.1)\">\n       <use xlink:href=\"#DejaVuSans-32\"/>\n       <use xlink:href=\"#DejaVuSans-30\" x=\"63.623047\"/>\n      </g>\n     </g>\n    </g>\n   </g>\n   <g id=\"matplotlib.axis_16\">\n    <g id=\"ytick_22\">\n     <g id=\"line2d_38\">\n      <g>\n       <use xlink:href=\"#m6f4ac796fa\" x=\"623.879717\" y=\"23.587161\" style=\"stroke: #000000; stroke-width: 0.8\"/>\n      </g>\n     </g>\n     <g id=\"text_45\">\n      <!-- 0 -->\n      <g transform=\"translate(610.517217 27.38638) scale(0.1 -0.1)\">\n       <use xlink:href=\"#DejaVuSans-30\"/>\n      </g>\n     </g>\n    </g>\n    <g id=\"ytick_23\">\n     <g id=\"line2d_39\">\n      <g>\n       <use xlink:href=\"#m6f4ac796fa\" x=\"623.879717\" y=\"48.967889\" style=\"stroke: #000000; stroke-width: 0.8\"/>\n      </g>\n     </g>\n     <g id=\"text_46\">\n      <!-- 10 -->\n      <g transform=\"translate(604.154717 52.767108) scale(0.1 -0.1)\">\n       <use xlink:href=\"#DejaVuSans-31\"/>\n       <use xlink:href=\"#DejaVuSans-30\" x=\"63.623047\"/>\n      </g>\n     </g>\n    </g>\n    <g id=\"ytick_24\">\n     <g id=\"line2d_40\">\n      <g>\n       <use xlink:href=\"#m6f4ac796fa\" x=\"623.879717\" y=\"74.348617\" style=\"stroke: #000000; stroke-width: 0.8\"/>\n      </g>\n     </g>\n     <g id=\"text_47\">\n      <!-- 20 -->\n      <g transform=\"translate(604.154717 78.147836) scale(0.1 -0.1)\">\n       <use xlink:href=\"#DejaVuSans-32\"/>\n       <use xlink:href=\"#DejaVuSans-30\" x=\"63.623047\"/>\n      </g>\n     </g>\n    </g>\n   </g>\n   <g id=\"patch_38\">\n    <path d=\"M 623.879717 93.384163 \nL 623.879717 22.318125 \n\" style=\"fill: none; stroke: #000000; stroke-width: 0.8; stroke-linejoin: miter; stroke-linecap: square\"/>\n   </g>\n   <g id=\"patch_39\">\n    <path d=\"M 694.945755 93.384163 \nL 694.945755 22.318125 \n\" style=\"fill: none; stroke: #000000; stroke-width: 0.8; stroke-linejoin: miter; stroke-linecap: square\"/>\n   </g>\n   <g id=\"patch_40\">\n    <path d=\"M 623.879717 93.384163 \nL 694.945755 93.384163 \n\" style=\"fill: none; stroke: #000000; stroke-width: 0.8; stroke-linejoin: miter; stroke-linecap: square\"/>\n   </g>\n   <g id=\"patch_41\">\n    <path d=\"M 623.879717 22.318125 \nL 694.945755 22.318125 \n\" style=\"fill: none; stroke: #000000; stroke-width: 0.8; stroke-linejoin: miter; stroke-linecap: square\"/>\n   </g>\n   <g id=\"text_48\">\n    <!-- pullover -->\n    <g transform=\"translate(635.086486 16.318125) scale(0.12 -0.12)\">\n     <use xlink:href=\"#DejaVuSans-70\"/>\n     <use xlink:href=\"#DejaVuSans-75\" x=\"63.476562\"/>\n     <use xlink:href=\"#DejaVuSans-6c\" x=\"126.855469\"/>\n     <use xlink:href=\"#DejaVuSans-6c\" x=\"154.638672\"/>\n     <use xlink:href=\"#DejaVuSans-6f\" x=\"182.421875\"/>\n     <use xlink:href=\"#DejaVuSans-76\" x=\"243.603516\"/>\n     <use xlink:href=\"#DejaVuSans-65\" x=\"302.783203\"/>\n     <use xlink:href=\"#DejaVuSans-72\" x=\"364.306641\"/>\n    </g>\n   </g>\n  </g>\n  <g id=\"axes_9\">\n   <g id=\"patch_42\">\n    <path d=\"M 709.158962 93.384163 \nL 780.225 93.384163 \nL 780.225 22.318125 \nL 709.158962 22.318125 \nz\n\" style=\"fill: #ffffff\"/>\n   </g>\n   <g clip-path=\"url(#p16554bea4a)\">\n    <image xlink:href=\"data:image/png;base64,\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\" id=\"image2a2db3f728\" transform=\"scale(1 -1) translate(0 -71.28)\" x=\"709.158962\" y=\"-22.104163\" width=\"71.28\" height=\"71.28\"/>\n   </g>\n   <g id=\"matplotlib.axis_17\">\n    <g id=\"xtick_17\">\n     <g id=\"line2d_41\">\n      <g>\n       <use xlink:href=\"#md1ee7f82eb\" x=\"710.427999\" y=\"93.384163\" style=\"stroke: #000000; stroke-width: 0.8\"/>\n      </g>\n     </g>\n     <g id=\"text_49\">\n      <!-- 0 -->\n      <g transform=\"translate(707.246749 107.9826) scale(0.1 -0.1)\">\n       <use xlink:href=\"#DejaVuSans-30\"/>\n      </g>\n     </g>\n    </g>\n    <g id=\"xtick_18\">\n     <g id=\"line2d_42\">\n      <g>\n       <use xlink:href=\"#md1ee7f82eb\" x=\"761.189454\" y=\"93.384163\" style=\"stroke: #000000; stroke-width: 0.8\"/>\n      </g>\n     </g>\n     <g id=\"text_50\">\n      <!-- 20 -->\n      <g transform=\"translate(754.826954 107.9826) scale(0.1 -0.1)\">\n       <use xlink:href=\"#DejaVuSans-32\"/>\n       <use xlink:href=\"#DejaVuSans-30\" x=\"63.623047\"/>\n      </g>\n     </g>\n    </g>\n   </g>\n   <g id=\"matplotlib.axis_18\">\n    <g id=\"ytick_25\">\n     <g id=\"line2d_43\">\n      <g>\n       <use xlink:href=\"#m6f4ac796fa\" x=\"709.158962\" y=\"23.587161\" style=\"stroke: #000000; stroke-width: 0.8\"/>\n      </g>\n     </g>\n     <g id=\"text_51\">\n      <!-- 0 -->\n      <g transform=\"translate(695.796462 27.38638) scale(0.1 -0.1)\">\n       <use xlink:href=\"#DejaVuSans-30\"/>\n      </g>\n     </g>\n    </g>\n    <g id=\"ytick_26\">\n     <g id=\"line2d_44\">\n      <g>\n       <use xlink:href=\"#m6f4ac796fa\" x=\"709.158962\" y=\"48.967889\" style=\"stroke: #000000; stroke-width: 0.8\"/>\n      </g>\n     </g>\n     <g id=\"text_52\">\n      <!-- 10 -->\n      <g transform=\"translate(689.433962 52.767108) scale(0.1 -0.1)\">\n       <use xlink:href=\"#DejaVuSans-31\"/>\n       <use xlink:href=\"#DejaVuSans-30\" x=\"63.623047\"/>\n      </g>\n     </g>\n    </g>\n    <g id=\"ytick_27\">\n     <g id=\"line2d_45\">\n      <g>\n       <use xlink:href=\"#m6f4ac796fa\" x=\"709.158962\" y=\"74.348617\" style=\"stroke: #000000; stroke-width: 0.8\"/>\n      </g>\n     </g>\n     <g id=\"text_53\">\n      <!-- 20 -->\n      <g transform=\"translate(689.433962 78.147836) scale(0.1 -0.1)\">\n       <use xlink:href=\"#DejaVuSans-32\"/>\n       <use xlink:href=\"#DejaVuSans-30\" x=\"63.623047\"/>\n      </g>\n     </g>\n    </g>\n   </g>\n   <g id=\"patch_43\">\n    <path d=\"M 709.158962 93.384163 \nL 709.158962 22.318125 \n\" style=\"fill: none; stroke: #000000; stroke-width: 0.8; stroke-linejoin: miter; stroke-linecap: square\"/>\n   </g>\n   <g id=\"patch_44\">\n    <path d=\"M 780.225 93.384163 \nL 780.225 22.318125 \n\" style=\"fill: none; stroke: #000000; stroke-width: 0.8; stroke-linejoin: miter; stroke-linecap: square\"/>\n   </g>\n   <g id=\"patch_45\">\n    <path d=\"M 709.158962 93.384163 \nL 780.225 93.384163 \n\" style=\"fill: none; stroke: #000000; stroke-width: 0.8; stroke-linejoin: miter; stroke-linecap: square\"/>\n   </g>\n   <g id=\"patch_46\">\n    <path d=\"M 709.158962 22.318125 \nL 780.225 22.318125 \n\" style=\"fill: none; stroke: #000000; stroke-width: 0.8; stroke-linejoin: miter; stroke-linecap: square\"/>\n   </g>\n   <g id=\"text_54\">\n    <!-- sandal -->\n    <g transform=\"translate(724.934169 16.318125) scale(0.12 -0.12)\">\n     <use xlink:href=\"#DejaVuSans-73\"/>\n     <use xlink:href=\"#DejaVuSans-61\" x=\"52.099609\"/>\n     <use xlink:href=\"#DejaVuSans-6e\" x=\"113.378906\"/>\n     <use xlink:href=\"#DejaVuSans-64\" x=\"176.757812\"/>\n     <use xlink:href=\"#DejaVuSans-61\" x=\"240.234375\"/>\n     <use xlink:href=\"#DejaVuSans-6c\" x=\"301.513672\"/>\n    </g>\n   </g>\n  </g>\n  <g id=\"axes_10\">\n   <g id=\"patch_47\">\n    <path d=\"M 26.925 184.104163 \nL 97.991038 184.104163 \nL 97.991038 113.038125 \nL 26.925 113.038125 \nz\n\" style=\"fill: #ffffff\"/>\n   </g>\n   <g clip-path=\"url(#p2e84b64d9b)\">\n    <image xlink:href=\"data:image/png;base64,\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\" id=\"image7d0b0fb8b3\" transform=\"scale(1 -1) translate(0 -71.28)\" x=\"26.925\" y=\"-112.824163\" width=\"71.28\" height=\"71.28\"/>\n   </g>\n   <g id=\"matplotlib.axis_19\">\n    <g id=\"xtick_19\">\n     <g id=\"line2d_46\">\n      <g>\n       <use xlink:href=\"#md1ee7f82eb\" x=\"28.194036\" y=\"184.104163\" style=\"stroke: #000000; stroke-width: 0.8\"/>\n      </g>\n     </g>\n     <g id=\"text_55\">\n      <!-- 0 -->\n      <g transform=\"translate(25.012786 198.7026) scale(0.1 -0.1)\">\n       <use xlink:href=\"#DejaVuSans-30\"/>\n      </g>\n     </g>\n    </g>\n    <g id=\"xtick_20\">\n     <g id=\"line2d_47\">\n      <g>\n       <use xlink:href=\"#md1ee7f82eb\" x=\"78.955492\" y=\"184.104163\" style=\"stroke: #000000; stroke-width: 0.8\"/>\n      </g>\n     </g>\n     <g id=\"text_56\">\n      <!-- 20 -->\n      <g transform=\"translate(72.592992 198.7026) scale(0.1 -0.1)\">\n       <use xlink:href=\"#DejaVuSans-32\"/>\n       <use xlink:href=\"#DejaVuSans-30\" x=\"63.623047\"/>\n      </g>\n     </g>\n    </g>\n   </g>\n   <g id=\"matplotlib.axis_20\">\n    <g id=\"ytick_28\">\n     <g id=\"line2d_48\">\n      <g>\n       <use xlink:href=\"#m6f4ac796fa\" x=\"26.925\" y=\"114.307161\" style=\"stroke: #000000; stroke-width: 0.8\"/>\n      </g>\n     </g>\n     <g id=\"text_57\">\n      <!-- 0 -->\n      <g transform=\"translate(13.5625 118.10638) scale(0.1 -0.1)\">\n       <use xlink:href=\"#DejaVuSans-30\"/>\n      </g>\n     </g>\n    </g>\n    <g id=\"ytick_29\">\n     <g id=\"line2d_49\">\n      <g>\n       <use xlink:href=\"#m6f4ac796fa\" x=\"26.925\" y=\"139.687889\" style=\"stroke: #000000; stroke-width: 0.8\"/>\n      </g>\n     </g>\n     <g id=\"text_58\">\n      <!-- 10 -->\n      <g transform=\"translate(7.2 143.487108) scale(0.1 -0.1)\">\n       <use xlink:href=\"#DejaVuSans-31\"/>\n       <use xlink:href=\"#DejaVuSans-30\" x=\"63.623047\"/>\n      </g>\n     </g>\n    </g>\n    <g id=\"ytick_30\">\n     <g id=\"line2d_50\">\n      <g>\n       <use xlink:href=\"#m6f4ac796fa\" x=\"26.925\" y=\"165.068617\" style=\"stroke: #000000; stroke-width: 0.8\"/>\n      </g>\n     </g>\n     <g id=\"text_59\">\n      <!-- 20 -->\n      <g transform=\"translate(7.2 168.867836) scale(0.1 -0.1)\">\n       <use xlink:href=\"#DejaVuSans-32\"/>\n       <use xlink:href=\"#DejaVuSans-30\" x=\"63.623047\"/>\n      </g>\n     </g>\n    </g>\n   </g>\n   <g id=\"patch_48\">\n    <path d=\"M 26.925 184.104163 \nL 26.925 113.038125 \n\" style=\"fill: none; stroke: #000000; stroke-width: 0.8; stroke-linejoin: miter; stroke-linecap: square\"/>\n   </g>\n   <g id=\"patch_49\">\n    <path d=\"M 97.991038 184.104163 \nL 97.991038 113.038125 \n\" style=\"fill: none; stroke: #000000; stroke-width: 0.8; stroke-linejoin: miter; stroke-linecap: square\"/>\n   </g>\n   <g id=\"patch_50\">\n    <path d=\"M 26.925 184.104163 \nL 97.991038 184.104163 \n\" style=\"fill: none; stroke: #000000; stroke-width: 0.8; stroke-linejoin: miter; stroke-linecap: square\"/>\n   </g>\n   <g id=\"patch_51\">\n    <path d=\"M 26.925 113.038125 \nL 97.991038 113.038125 \n\" style=\"fill: none; stroke: #000000; stroke-width: 0.8; stroke-linejoin: miter; stroke-linecap: square\"/>\n   </g>\n   <g id=\"text_60\">\n    <!-- sandal -->\n    <g transform=\"translate(42.700206 107.038125) scale(0.12 -0.12)\">\n     <use xlink:href=\"#DejaVuSans-73\"/>\n     <use xlink:href=\"#DejaVuSans-61\" x=\"52.099609\"/>\n     <use xlink:href=\"#DejaVuSans-6e\" x=\"113.378906\"/>\n     <use xlink:href=\"#DejaVuSans-64\" x=\"176.757812\"/>\n     <use xlink:href=\"#DejaVuSans-61\" x=\"240.234375\"/>\n     <use xlink:href=\"#DejaVuSans-6c\" x=\"301.513672\"/>\n    </g>\n   </g>\n  </g>\n  <g id=\"axes_11\">\n   <g id=\"patch_52\">\n    <path d=\"M 112.204245 184.104163 \nL 183.270283 184.104163 \nL 183.270283 113.038125 \nL 112.204245 113.038125 \nz\n\" style=\"fill: #ffffff\"/>\n   </g>\n   <g clip-path=\"url(#p6d082166b1)\">\n    <image xlink:href=\"data:image/png;base64,\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\" id=\"imagef6ad09ee44\" transform=\"scale(1 -1) translate(0 -71.28)\" x=\"112.204245\" y=\"-112.824163\" width=\"71.28\" height=\"71.28\"/>\n   </g>\n   <g id=\"matplotlib.axis_21\">\n    <g id=\"xtick_21\">\n     <g id=\"line2d_51\">\n      <g>\n       <use xlink:href=\"#md1ee7f82eb\" x=\"113.473282\" y=\"184.104163\" style=\"stroke: #000000; stroke-width: 0.8\"/>\n      </g>\n     </g>\n     <g id=\"text_61\">\n      <!-- 0 -->\n      <g transform=\"translate(110.292032 198.7026) scale(0.1 -0.1)\">\n       <use xlink:href=\"#DejaVuSans-30\"/>\n      </g>\n     </g>\n    </g>\n    <g id=\"xtick_22\">\n     <g id=\"line2d_52\">\n      <g>\n       <use xlink:href=\"#md1ee7f82eb\" x=\"164.234737\" y=\"184.104163\" style=\"stroke: #000000; stroke-width: 0.8\"/>\n      </g>\n     </g>\n     <g id=\"text_62\">\n      <!-- 20 -->\n      <g transform=\"translate(157.872237 198.7026) scale(0.1 -0.1)\">\n       <use xlink:href=\"#DejaVuSans-32\"/>\n       <use xlink:href=\"#DejaVuSans-30\" x=\"63.623047\"/>\n      </g>\n     </g>\n    </g>\n   </g>\n   <g id=\"matplotlib.axis_22\">\n    <g id=\"ytick_31\">\n     <g id=\"line2d_53\">\n      <g>\n       <use xlink:href=\"#m6f4ac796fa\" x=\"112.204245\" y=\"114.307161\" style=\"stroke: #000000; stroke-width: 0.8\"/>\n      </g>\n     </g>\n     <g id=\"text_63\">\n      <!-- 0 -->\n      <g transform=\"translate(98.841745 118.10638) scale(0.1 -0.1)\">\n       <use xlink:href=\"#DejaVuSans-30\"/>\n      </g>\n     </g>\n    </g>\n    <g id=\"ytick_32\">\n     <g id=\"line2d_54\">\n      <g>\n       <use xlink:href=\"#m6f4ac796fa\" x=\"112.204245\" y=\"139.687889\" style=\"stroke: #000000; stroke-width: 0.8\"/>\n      </g>\n     </g>\n     <g id=\"text_64\">\n      <!-- 10 -->\n      <g transform=\"translate(92.479245 143.487108) scale(0.1 -0.1)\">\n       <use xlink:href=\"#DejaVuSans-31\"/>\n       <use xlink:href=\"#DejaVuSans-30\" x=\"63.623047\"/>\n      </g>\n     </g>\n    </g>\n    <g id=\"ytick_33\">\n     <g id=\"line2d_55\">\n      <g>\n       <use xlink:href=\"#m6f4ac796fa\" x=\"112.204245\" y=\"165.068617\" style=\"stroke: #000000; stroke-width: 0.8\"/>\n      </g>\n     </g>\n     <g id=\"text_65\">\n      <!-- 20 -->\n      <g transform=\"translate(92.479245 168.867836) scale(0.1 -0.1)\">\n       <use xlink:href=\"#DejaVuSans-32\"/>\n       <use xlink:href=\"#DejaVuSans-30\" x=\"63.623047\"/>\n      </g>\n     </g>\n    </g>\n   </g>\n   <g id=\"patch_53\">\n    <path d=\"M 112.204245 184.104163 \nL 112.204245 113.038125 \n\" style=\"fill: none; stroke: #000000; stroke-width: 0.8; stroke-linejoin: miter; stroke-linecap: square\"/>\n   </g>\n   <g id=\"patch_54\">\n    <path d=\"M 183.270283 184.104163 \nL 183.270283 113.038125 \n\" style=\"fill: none; stroke: #000000; stroke-width: 0.8; stroke-linejoin: miter; stroke-linecap: square\"/>\n   </g>\n   <g id=\"patch_55\">\n    <path d=\"M 112.204245 184.104163 \nL 183.270283 184.104163 \n\" style=\"fill: none; stroke: #000000; stroke-width: 0.8; stroke-linejoin: miter; stroke-linecap: square\"/>\n   </g>\n   <g id=\"patch_56\">\n    <path d=\"M 112.204245 113.038125 \nL 183.270283 113.038125 \n\" style=\"fill: none; stroke: #000000; stroke-width: 0.8; stroke-linejoin: miter; stroke-linecap: square\"/>\n   </g>\n   <g id=\"text_66\">\n    <!-- t-shirt -->\n    <g transform=\"translate(129.806639 107.038125) scale(0.12 -0.12)\">\n     <use xlink:href=\"#DejaVuSans-74\"/>\n     <use xlink:href=\"#DejaVuSans-2d\" x=\"39.208984\"/>\n     <use xlink:href=\"#DejaVuSans-73\" x=\"75.292969\"/>\n     <use xlink:href=\"#DejaVuSans-68\" x=\"127.392578\"/>\n     <use xlink:href=\"#DejaVuSans-69\" x=\"190.771484\"/>\n     <use xlink:href=\"#DejaVuSans-72\" x=\"218.554688\"/>\n     <use xlink:href=\"#DejaVuSans-74\" x=\"259.667969\"/>\n    </g>\n   </g>\n  </g>\n  <g id=\"axes_12\">\n   <g id=\"patch_57\">\n    <path d=\"M 197.483491 184.104163 \nL 268.549528 184.104163 \nL 268.549528 113.038125 \nL 197.483491 113.038125 \nz\n\" style=\"fill: #ffffff\"/>\n   </g>\n   <g clip-path=\"url(#p1998c33238)\">\n    <image xlink:href=\"data:image/png;base64,\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\" id=\"image8170d2932e\" transform=\"scale(1 -1) translate(0 -71.28)\" x=\"197.483491\" y=\"-112.824163\" width=\"71.28\" height=\"71.28\"/>\n   </g>\n   <g id=\"matplotlib.axis_23\">\n    <g id=\"xtick_23\">\n     <g id=\"line2d_56\">\n      <g>\n       <use xlink:href=\"#md1ee7f82eb\" x=\"198.752527\" y=\"184.104163\" style=\"stroke: #000000; stroke-width: 0.8\"/>\n      </g>\n     </g>\n     <g id=\"text_67\">\n      <!-- 0 -->\n      <g transform=\"translate(195.571277 198.7026) scale(0.1 -0.1)\">\n       <use xlink:href=\"#DejaVuSans-30\"/>\n      </g>\n     </g>\n    </g>\n    <g id=\"xtick_24\">\n     <g id=\"line2d_57\">\n      <g>\n       <use xlink:href=\"#md1ee7f82eb\" x=\"249.513982\" y=\"184.104163\" style=\"stroke: #000000; stroke-width: 0.8\"/>\n      </g>\n     </g>\n     <g id=\"text_68\">\n      <!-- 20 -->\n      <g transform=\"translate(243.151482 198.7026) scale(0.1 -0.1)\">\n       <use xlink:href=\"#DejaVuSans-32\"/>\n       <use xlink:href=\"#DejaVuSans-30\" x=\"63.623047\"/>\n      </g>\n     </g>\n    </g>\n   </g>\n   <g id=\"matplotlib.axis_24\">\n    <g id=\"ytick_34\">\n     <g id=\"line2d_58\">\n      <g>\n       <use xlink:href=\"#m6f4ac796fa\" x=\"197.483491\" y=\"114.307161\" style=\"stroke: #000000; stroke-width: 0.8\"/>\n      </g>\n     </g>\n     <g id=\"text_69\">\n      <!-- 0 -->\n      <g transform=\"translate(184.120991 118.10638) scale(0.1 -0.1)\">\n       <use xlink:href=\"#DejaVuSans-30\"/>\n      </g>\n     </g>\n    </g>\n    <g id=\"ytick_35\">\n     <g id=\"line2d_59\">\n      <g>\n       <use xlink:href=\"#m6f4ac796fa\" x=\"197.483491\" y=\"139.687889\" style=\"stroke: #000000; stroke-width: 0.8\"/>\n      </g>\n     </g>\n     <g id=\"text_70\">\n      <!-- 10 -->\n      <g transform=\"translate(177.758491 143.487108) scale(0.1 -0.1)\">\n       <use xlink:href=\"#DejaVuSans-31\"/>\n       <use xlink:href=\"#DejaVuSans-30\" x=\"63.623047\"/>\n      </g>\n     </g>\n    </g>\n    <g id=\"ytick_36\">\n     <g id=\"line2d_60\">\n      <g>\n       <use xlink:href=\"#m6f4ac796fa\" x=\"197.483491\" y=\"165.068617\" style=\"stroke: #000000; stroke-width: 0.8\"/>\n      </g>\n     </g>\n     <g id=\"text_71\">\n      <!-- 20 -->\n      <g transform=\"translate(177.758491 168.867836) scale(0.1 -0.1)\">\n       <use xlink:href=\"#DejaVuSans-32\"/>\n       <use xlink:href=\"#DejaVuSans-30\" x=\"63.623047\"/>\n      </g>\n     </g>\n    </g>\n   </g>\n   <g id=\"patch_58\">\n    <path d=\"M 197.483491 184.104163 \nL 197.483491 113.038125 \n\" style=\"fill: none; stroke: #000000; stroke-width: 0.8; stroke-linejoin: miter; stroke-linecap: square\"/>\n   </g>\n   <g id=\"patch_59\">\n    <path d=\"M 268.549528 184.104163 \nL 268.549528 113.038125 \n\" style=\"fill: none; stroke: #000000; stroke-width: 0.8; stroke-linejoin: miter; stroke-linecap: square\"/>\n   </g>\n   <g id=\"patch_60\">\n    <path d=\"M 197.483491 184.104163 \nL 268.549528 184.104163 \n\" style=\"fill: none; stroke: #000000; stroke-width: 0.8; stroke-linejoin: miter; stroke-linecap: square\"/>\n   </g>\n   <g id=\"patch_61\">\n    <path d=\"M 197.483491 113.038125 \nL 268.549528 113.038125 \n\" style=\"fill: none; stroke: #000000; stroke-width: 0.8; stroke-linejoin: miter; stroke-linecap: square\"/>\n   </g>\n   <g id=\"text_72\">\n    <!-- ankle boot -->\n    <g transform=\"translate(201.293384 107.038125) scale(0.12 -0.12)\">\n     <use xlink:href=\"#DejaVuSans-61\"/>\n     <use xlink:href=\"#DejaVuSans-6e\" x=\"61.279297\"/>\n     <use xlink:href=\"#DejaVuSans-6b\" x=\"124.658203\"/>\n     <use xlink:href=\"#DejaVuSans-6c\" x=\"182.568359\"/>\n     <use xlink:href=\"#DejaVuSans-65\" x=\"210.351562\"/>\n     <use xlink:href=\"#DejaVuSans-20\" x=\"271.875\"/>\n     <use xlink:href=\"#DejaVuSans-62\" x=\"303.662109\"/>\n     <use xlink:href=\"#DejaVuSans-6f\" x=\"367.138672\"/>\n     <use xlink:href=\"#DejaVuSans-6f\" x=\"428.320312\"/>\n     <use xlink:href=\"#DejaVuSans-74\" x=\"489.501953\"/>\n    </g>\n   </g>\n  </g>\n  <g id=\"axes_13\">\n   <g id=\"patch_62\">\n    <path d=\"M 282.762736 184.104163 \nL 353.828774 184.104163 \nL 353.828774 113.038125 \nL 282.762736 113.038125 \nz\n\" style=\"fill: #ffffff\"/>\n   </g>\n   <g clip-path=\"url(#p6aeaefd286)\">\n    <image xlink:href=\"data:image/png;base64,\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\" id=\"image7fe5a0bcc7\" transform=\"scale(1 -1) translate(0 -71.28)\" x=\"282.762736\" y=\"-112.824163\" width=\"71.28\" height=\"71.28\"/>\n   </g>\n   <g id=\"matplotlib.axis_25\">\n    <g id=\"xtick_25\">\n     <g id=\"line2d_61\">\n      <g>\n       <use xlink:href=\"#md1ee7f82eb\" x=\"284.031772\" y=\"184.104163\" style=\"stroke: #000000; stroke-width: 0.8\"/>\n      </g>\n     </g>\n     <g id=\"text_73\">\n      <!-- 0 -->\n      <g transform=\"translate(280.850522 198.7026) scale(0.1 -0.1)\">\n       <use xlink:href=\"#DejaVuSans-30\"/>\n      </g>\n     </g>\n    </g>\n    <g id=\"xtick_26\">\n     <g id=\"line2d_62\">\n      <g>\n       <use xlink:href=\"#md1ee7f82eb\" x=\"334.793228\" y=\"184.104163\" style=\"stroke: #000000; stroke-width: 0.8\"/>\n      </g>\n     </g>\n     <g id=\"text_74\">\n      <!-- 20 -->\n      <g transform=\"translate(328.430728 198.7026) scale(0.1 -0.1)\">\n       <use xlink:href=\"#DejaVuSans-32\"/>\n       <use xlink:href=\"#DejaVuSans-30\" x=\"63.623047\"/>\n      </g>\n     </g>\n    </g>\n   </g>\n   <g id=\"matplotlib.axis_26\">\n    <g id=\"ytick_37\">\n     <g id=\"line2d_63\">\n      <g>\n       <use xlink:href=\"#m6f4ac796fa\" x=\"282.762736\" y=\"114.307161\" style=\"stroke: #000000; stroke-width: 0.8\"/>\n      </g>\n     </g>\n     <g id=\"text_75\">\n      <!-- 0 -->\n      <g transform=\"translate(269.400236 118.10638) scale(0.1 -0.1)\">\n       <use xlink:href=\"#DejaVuSans-30\"/>\n      </g>\n     </g>\n    </g>\n    <g id=\"ytick_38\">\n     <g id=\"line2d_64\">\n      <g>\n       <use xlink:href=\"#m6f4ac796fa\" x=\"282.762736\" y=\"139.687889\" style=\"stroke: #000000; stroke-width: 0.8\"/>\n      </g>\n     </g>\n     <g id=\"text_76\">\n      <!-- 10 -->\n      <g transform=\"translate(263.037736 143.487108) scale(0.1 -0.1)\">\n       <use xlink:href=\"#DejaVuSans-31\"/>\n       <use xlink:href=\"#DejaVuSans-30\" x=\"63.623047\"/>\n      </g>\n     </g>\n    </g>\n    <g id=\"ytick_39\">\n     <g id=\"line2d_65\">\n      <g>\n       <use xlink:href=\"#m6f4ac796fa\" x=\"282.762736\" y=\"165.068617\" style=\"stroke: #000000; stroke-width: 0.8\"/>\n      </g>\n     </g>\n     <g id=\"text_77\">\n      <!-- 20 -->\n      <g transform=\"translate(263.037736 168.867836) scale(0.1 -0.1)\">\n       <use xlink:href=\"#DejaVuSans-32\"/>\n       <use xlink:href=\"#DejaVuSans-30\" x=\"63.623047\"/>\n      </g>\n     </g>\n    </g>\n   </g>\n   <g id=\"patch_63\">\n    <path d=\"M 282.762736 184.104163 \nL 282.762736 113.038125 \n\" style=\"fill: none; stroke: #000000; stroke-width: 0.8; stroke-linejoin: miter; stroke-linecap: square\"/>\n   </g>\n   <g id=\"patch_64\">\n    <path d=\"M 353.828774 184.104163 \nL 353.828774 113.038125 \n\" style=\"fill: none; stroke: #000000; stroke-width: 0.8; stroke-linejoin: miter; stroke-linecap: square\"/>\n   </g>\n   <g id=\"patch_65\">\n    <path d=\"M 282.762736 184.104163 \nL 353.828774 184.104163 \n\" style=\"fill: none; stroke: #000000; stroke-width: 0.8; stroke-linejoin: miter; stroke-linecap: square\"/>\n   </g>\n   <g id=\"patch_66\">\n    <path d=\"M 282.762736 113.038125 \nL 353.828774 113.038125 \n\" style=\"fill: none; stroke: #000000; stroke-width: 0.8; stroke-linejoin: miter; stroke-linecap: square\"/>\n   </g>\n   <g id=\"text_78\">\n    <!-- sandal -->\n    <g transform=\"translate(298.537942 107.038125) scale(0.12 -0.12)\">\n     <use xlink:href=\"#DejaVuSans-73\"/>\n     <use xlink:href=\"#DejaVuSans-61\" x=\"52.099609\"/>\n     <use xlink:href=\"#DejaVuSans-6e\" x=\"113.378906\"/>\n     <use xlink:href=\"#DejaVuSans-64\" x=\"176.757812\"/>\n     <use xlink:href=\"#DejaVuSans-61\" x=\"240.234375\"/>\n     <use xlink:href=\"#DejaVuSans-6c\" x=\"301.513672\"/>\n    </g>\n   </g>\n  </g>\n  <g id=\"axes_14\">\n   <g id=\"patch_67\">\n    <path d=\"M 368.041981 184.104163 \nL 439.108019 184.104163 \nL 439.108019 113.038125 \nL 368.041981 113.038125 \nz\n\" style=\"fill: #ffffff\"/>\n   </g>\n   <g clip-path=\"url(#p686701f26e)\">\n    <image xlink:href=\"data:image/png;base64,\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\" id=\"imagef02c0e9883\" transform=\"scale(1 -1) translate(0 -71.28)\" x=\"368.041981\" y=\"-112.824163\" width=\"71.28\" height=\"71.28\"/>\n   </g>\n   <g id=\"matplotlib.axis_27\">\n    <g id=\"xtick_27\">\n     <g id=\"line2d_66\">\n      <g>\n       <use xlink:href=\"#md1ee7f82eb\" x=\"369.311018\" y=\"184.104163\" style=\"stroke: #000000; stroke-width: 0.8\"/>\n      </g>\n     </g>\n     <g id=\"text_79\">\n      <!-- 0 -->\n      <g transform=\"translate(366.129768 198.7026) scale(0.1 -0.1)\">\n       <use xlink:href=\"#DejaVuSans-30\"/>\n      </g>\n     </g>\n    </g>\n    <g id=\"xtick_28\">\n     <g id=\"line2d_67\">\n      <g>\n       <use xlink:href=\"#md1ee7f82eb\" x=\"420.072473\" y=\"184.104163\" style=\"stroke: #000000; stroke-width: 0.8\"/>\n      </g>\n     </g>\n     <g id=\"text_80\">\n      <!-- 20 -->\n      <g transform=\"translate(413.709973 198.7026) scale(0.1 -0.1)\">\n       <use xlink:href=\"#DejaVuSans-32\"/>\n       <use xlink:href=\"#DejaVuSans-30\" x=\"63.623047\"/>\n      </g>\n     </g>\n    </g>\n   </g>\n   <g id=\"matplotlib.axis_28\">\n    <g id=\"ytick_40\">\n     <g id=\"line2d_68\">\n      <g>\n       <use xlink:href=\"#m6f4ac796fa\" x=\"368.041981\" y=\"114.307161\" style=\"stroke: #000000; stroke-width: 0.8\"/>\n      </g>\n     </g>\n     <g id=\"text_81\">\n      <!-- 0 -->\n      <g transform=\"translate(354.679481 118.10638) scale(0.1 -0.1)\">\n       <use xlink:href=\"#DejaVuSans-30\"/>\n      </g>\n     </g>\n    </g>\n    <g id=\"ytick_41\">\n     <g id=\"line2d_69\">\n      <g>\n       <use xlink:href=\"#m6f4ac796fa\" x=\"368.041981\" y=\"139.687889\" style=\"stroke: #000000; stroke-width: 0.8\"/>\n      </g>\n     </g>\n     <g id=\"text_82\">\n      <!-- 10 -->\n      <g transform=\"translate(348.316981 143.487108) scale(0.1 -0.1)\">\n       <use xlink:href=\"#DejaVuSans-31\"/>\n       <use xlink:href=\"#DejaVuSans-30\" x=\"63.623047\"/>\n      </g>\n     </g>\n    </g>\n    <g id=\"ytick_42\">\n     <g id=\"line2d_70\">\n      <g>\n       <use xlink:href=\"#m6f4ac796fa\" x=\"368.041981\" y=\"165.068617\" style=\"stroke: #000000; stroke-width: 0.8\"/>\n      </g>\n     </g>\n     <g id=\"text_83\">\n      <!-- 20 -->\n      <g transform=\"translate(348.316981 168.867836) scale(0.1 -0.1)\">\n       <use xlink:href=\"#DejaVuSans-32\"/>\n       <use xlink:href=\"#DejaVuSans-30\" x=\"63.623047\"/>\n      </g>\n     </g>\n    </g>\n   </g>\n   <g id=\"patch_68\">\n    <path d=\"M 368.041981 184.104163 \nL 368.041981 113.038125 \n\" style=\"fill: none; stroke: #000000; stroke-width: 0.8; stroke-linejoin: miter; stroke-linecap: square\"/>\n   </g>\n   <g id=\"patch_69\">\n    <path d=\"M 439.108019 184.104163 \nL 439.108019 113.038125 \n\" style=\"fill: none; stroke: #000000; stroke-width: 0.8; stroke-linejoin: miter; stroke-linecap: square\"/>\n   </g>\n   <g id=\"patch_70\">\n    <path d=\"M 368.041981 184.104163 \nL 439.108019 184.104163 \n\" style=\"fill: none; stroke: #000000; stroke-width: 0.8; stroke-linejoin: miter; stroke-linecap: square\"/>\n   </g>\n   <g id=\"patch_71\">\n    <path d=\"M 368.041981 113.038125 \nL 439.108019 113.038125 \n\" style=\"fill: none; stroke: #000000; stroke-width: 0.8; stroke-linejoin: miter; stroke-linecap: square\"/>\n   </g>\n   <g id=\"text_84\">\n    <!-- sandal -->\n    <g transform=\"translate(383.817188 107.038125) scale(0.12 -0.12)\">\n     <use xlink:href=\"#DejaVuSans-73\"/>\n     <use xlink:href=\"#DejaVuSans-61\" x=\"52.099609\"/>\n     <use xlink:href=\"#DejaVuSans-6e\" x=\"113.378906\"/>\n     <use xlink:href=\"#DejaVuSans-64\" x=\"176.757812\"/>\n     <use xlink:href=\"#DejaVuSans-61\" x=\"240.234375\"/>\n     <use xlink:href=\"#DejaVuSans-6c\" x=\"301.513672\"/>\n    </g>\n   </g>\n  </g>\n  <g id=\"axes_15\">\n   <g id=\"patch_72\">\n    <path d=\"M 453.321226 184.104163 \nL 524.387264 184.104163 \nL 524.387264 113.038125 \nL 453.321226 113.038125 \nz\n\" style=\"fill: #ffffff\"/>\n   </g>\n   <g clip-path=\"url(#p2b955ce242)\">\n    <image xlink:href=\"data:image/png;base64,\niVBORw0KGgoAAAANSUhEUgAAAGMAAABjCAYAAACPO76VAAAErElEQVR4nO2cy24cRRSGu3um3Z4LTnwltkMCQnZMQEEiBMJlFbLIKgtExAOwIWyQ2CKRFUJBPAASSxY8APKKbBCChMsCECIKliLkaCIhEo89HsYz7p4uNEGqU6eSHplcyA/83+r0nOmqHn+uU9XVY4fHw1dMQCCI7vcFEIEygKAMICgDCMoAgjKAoAwgKAMIygCCMoCgDCAoAwjKAIIygKAMICgDCMoAgjKAoAwgKAMIygCCMoCgDCAoAwjKAIIygKAMICgDCMoAgjKAoAwgyv4LpalJOZjY7b27JHHWV6kwzWxs3PcNct57FUb+PMRUEn1ep1vYXxAN+T2KQn0cescFOVOKCvswlRF92bF8xjDLC5s3Jd13nsiPPG6s6e6Kr5L801AGEGVVloIg6F+7LgdufJcIE12Kgr6Un6ha1aleT87zSk1YrxV3kknJHGC60k7utPlX8s7/iu7vtOB+CjM5oXIcGUBQBhCUAUTZr+G/n37Oxs2ndO2df2hnc8h6p6KO66NSp4/N/qJy7b70Px7r9mfjdRvviTdUbjRMbxkPOBC3dDvluo17Rr+3k8txNYpV7nIquSvZLpX7NZ22cWr0Ut5lI9Pz4Iv1SzZ+693TKseRAQRlAFFuvPyweuH9Nz+y8evLr6nc2pd7bBxveg1tyQIv8dZ6YVteWJ6eKTyvN+HdKTvtjK/oO/C04t456/OM10xalxecqniDzKmouX/hDv1R77wpp9ylXoe5HCeTWyr10/ycjWfO67LMkQEEZQBBGUCEN/1XnchZpj3zuEq1HpFlWndCe9wekzir6ibjtlvf9QWkY/Le6lVdezePSL01Tb1rWluVhhZOrqjc3qosiQd8/vGRoAh35Vnydkq2ndVsueOdVzOF80m8IZ9jxJtbW4dlJ3rpbFvlODKAoAwgKAP5SV+QO+v5Cz+q1NgFJ3bnlkG9dZ4KmjnZKhjQflSK75Y316QPSLyxpLdfxr+SYtw8pO8zutNSs5/c1VC5lT/0vUxnrvj+IXJuFzoLeqskCOW8bEQ/zev33Kee3n3OvPM5Et3mwSm5t8iv6omIIwMIygAiPB6d0mM4dPyY/K4/FfMpPbZg48Z7umqWIum/2dC7pvG6lImkqctEvKmv05xo2rjV0jvKeVf6HPlN95+shbcsZzfaWZSyWdur16/ta/IU8pOXPlS5LzqLNj73hFOjOTKwoAwgKAOI8k3zgBnyhbNhDPui2JC5pn9RtjJmX9X72/2jB23cOql/b/J9sq2QL26rXKWmt62vfy1b/2a3ngf3nZPj0U/PBzvlQSfOjh1WuRMffGfj/WV9LW9cftrG04E89RvAkQEEZUDv2t7zHv2nebfXfXRoycarZ/RuQHdVLxlfOPqzjb/5TO9E739n56Xpdrjy9vPqeOZ7WSMny9+qHEcGEJQBBGX8r+eM+zAvtU89a+OxS/rLcPkPFwvPuxfbP8PgyACCMoD4b5apfykcGUBQBhCUAQRlAEEZQFAGEJQBBGUAQRlAUAYQlAEEZQBBGUBQBhCUAQRlAEEZQFAGEJQBBGUAQRlAUAYQlAEEZQBBGUBQBhCUAQRlAEEZQFAGEJQR4PAnizcax/lGjiIAAAAASUVORK5CYII=\" id=\"image9fdd6754a1\" transform=\"scale(1 -1) translate(0 -71.28)\" x=\"453.321226\" y=\"-112.824163\" width=\"71.28\" height=\"71.28\"/>\n   </g>\n   <g id=\"matplotlib.axis_29\">\n    <g id=\"xtick_29\">\n     <g id=\"line2d_71\">\n      <g>\n       <use xlink:href=\"#md1ee7f82eb\" x=\"454.590263\" y=\"184.104163\" style=\"stroke: #000000; stroke-width: 0.8\"/>\n      </g>\n     </g>\n     <g id=\"text_85\">\n      <!-- 0 -->\n      <g transform=\"translate(451.409013 198.7026) scale(0.1 -0.1)\">\n       <use xlink:href=\"#DejaVuSans-30\"/>\n      </g>\n     </g>\n    </g>\n    <g id=\"xtick_30\">\n     <g id=\"line2d_72\">\n      <g>\n       <use xlink:href=\"#md1ee7f82eb\" x=\"505.351718\" y=\"184.104163\" style=\"stroke: #000000; stroke-width: 0.8\"/>\n      </g>\n     </g>\n     <g id=\"text_86\">\n      <!-- 20 -->\n      <g transform=\"translate(498.989218 198.7026) scale(0.1 -0.1)\">\n       <use xlink:href=\"#DejaVuSans-32\"/>\n       <use xlink:href=\"#DejaVuSans-30\" x=\"63.623047\"/>\n      </g>\n     </g>\n    </g>\n   </g>\n   <g id=\"matplotlib.axis_30\">\n    <g id=\"ytick_43\">\n     <g id=\"line2d_73\">\n      <g>\n       <use xlink:href=\"#m6f4ac796fa\" x=\"453.321226\" y=\"114.307161\" style=\"stroke: #000000; stroke-width: 0.8\"/>\n      </g>\n     </g>\n     <g id=\"text_87\">\n      <!-- 0 -->\n      <g transform=\"translate(439.958726 118.10638) scale(0.1 -0.1)\">\n       <use xlink:href=\"#DejaVuSans-30\"/>\n      </g>\n     </g>\n    </g>\n    <g id=\"ytick_44\">\n     <g id=\"line2d_74\">\n      <g>\n       <use xlink:href=\"#m6f4ac796fa\" x=\"453.321226\" y=\"139.687889\" style=\"stroke: #000000; stroke-width: 0.8\"/>\n      </g>\n     </g>\n     <g id=\"text_88\">\n      <!-- 10 -->\n      <g transform=\"translate(433.596226 143.487108) scale(0.1 -0.1)\">\n       <use xlink:href=\"#DejaVuSans-31\"/>\n       <use xlink:href=\"#DejaVuSans-30\" x=\"63.623047\"/>\n      </g>\n     </g>\n    </g>\n    <g id=\"ytick_45\">\n     <g id=\"line2d_75\">\n      <g>\n       <use xlink:href=\"#m6f4ac796fa\" x=\"453.321226\" y=\"165.068617\" style=\"stroke: #000000; stroke-width: 0.8\"/>\n      </g>\n     </g>\n     <g id=\"text_89\">\n      <!-- 20 -->\n      <g transform=\"translate(433.596226 168.867836) scale(0.1 -0.1)\">\n       <use xlink:href=\"#DejaVuSans-32\"/>\n       <use xlink:href=\"#DejaVuSans-30\" x=\"63.623047\"/>\n      </g>\n     </g>\n    </g>\n   </g>\n   <g id=\"patch_73\">\n    <path d=\"M 453.321226 184.104163 \nL 453.321226 113.038125 \n\" style=\"fill: none; stroke: #000000; stroke-width: 0.8; stroke-linejoin: miter; stroke-linecap: square\"/>\n   </g>\n   <g id=\"patch_74\">\n    <path d=\"M 524.387264 184.104163 \nL 524.387264 113.038125 \n\" style=\"fill: none; stroke: #000000; stroke-width: 0.8; stroke-linejoin: miter; stroke-linecap: square\"/>\n   </g>\n   <g id=\"patch_75\">\n    <path d=\"M 453.321226 184.104163 \nL 524.387264 184.104163 \n\" style=\"fill: none; stroke: #000000; stroke-width: 0.8; stroke-linejoin: miter; stroke-linecap: square\"/>\n   </g>\n   <g id=\"patch_76\">\n    <path d=\"M 453.321226 113.038125 \nL 524.387264 113.038125 \n\" style=\"fill: none; stroke: #000000; stroke-width: 0.8; stroke-linejoin: miter; stroke-linecap: square\"/>\n   </g>\n   <g id=\"text_90\">\n    <!-- sneaker -->\n    <g transform=\"translate(465.142058 107.038125) scale(0.12 -0.12)\">\n     <use xlink:href=\"#DejaVuSans-73\"/>\n     <use xlink:href=\"#DejaVuSans-6e\" x=\"52.099609\"/>\n     <use xlink:href=\"#DejaVuSans-65\" x=\"115.478516\"/>\n     <use xlink:href=\"#DejaVuSans-61\" x=\"177.001953\"/>\n     <use xlink:href=\"#DejaVuSans-6b\" x=\"238.28125\"/>\n     <use xlink:href=\"#DejaVuSans-65\" x=\"292.566406\"/>\n     <use xlink:href=\"#DejaVuSans-72\" x=\"354.089844\"/>\n    </g>\n   </g>\n  </g>\n  <g id=\"axes_16\">\n   <g id=\"patch_77\">\n    <path d=\"M 538.600472 184.104163 \nL 609.666509 184.104163 \nL 609.666509 113.038125 \nL 538.600472 113.038125 \nz\n\" style=\"fill: #ffffff\"/>\n   </g>\n   <g clip-path=\"url(#pdfdbb64516)\">\n    <image xlink:href=\"data:image/png;base64,\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\" id=\"image546b911ca5\" transform=\"scale(1 -1) translate(0 -71.28)\" x=\"538.600472\" y=\"-112.824163\" width=\"71.28\" height=\"71.28\"/>\n   </g>\n   <g id=\"matplotlib.axis_31\">\n    <g id=\"xtick_31\">\n     <g id=\"line2d_76\">\n      <g>\n       <use xlink:href=\"#md1ee7f82eb\" x=\"539.869508\" y=\"184.104163\" style=\"stroke: #000000; stroke-width: 0.8\"/>\n      </g>\n     </g>\n     <g id=\"text_91\">\n      <!-- 0 -->\n      <g transform=\"translate(536.688258 198.7026) scale(0.1 -0.1)\">\n       <use xlink:href=\"#DejaVuSans-30\"/>\n      </g>\n     </g>\n    </g>\n    <g id=\"xtick_32\">\n     <g id=\"line2d_77\">\n      <g>\n       <use xlink:href=\"#md1ee7f82eb\" x=\"590.630964\" y=\"184.104163\" style=\"stroke: #000000; stroke-width: 0.8\"/>\n      </g>\n     </g>\n     <g id=\"text_92\">\n      <!-- 20 -->\n      <g transform=\"translate(584.268464 198.7026) scale(0.1 -0.1)\">\n       <use xlink:href=\"#DejaVuSans-32\"/>\n       <use xlink:href=\"#DejaVuSans-30\" x=\"63.623047\"/>\n      </g>\n     </g>\n    </g>\n   </g>\n   <g id=\"matplotlib.axis_32\">\n    <g id=\"ytick_46\">\n     <g id=\"line2d_78\">\n      <g>\n       <use xlink:href=\"#m6f4ac796fa\" x=\"538.600472\" y=\"114.307161\" style=\"stroke: #000000; stroke-width: 0.8\"/>\n      </g>\n     </g>\n     <g id=\"text_93\">\n      <!-- 0 -->\n      <g transform=\"translate(525.237972 118.10638) scale(0.1 -0.1)\">\n       <use xlink:href=\"#DejaVuSans-30\"/>\n      </g>\n     </g>\n    </g>\n    <g id=\"ytick_47\">\n     <g id=\"line2d_79\">\n      <g>\n       <use xlink:href=\"#m6f4ac796fa\" x=\"538.600472\" y=\"139.687889\" style=\"stroke: #000000; stroke-width: 0.8\"/>\n      </g>\n     </g>\n     <g id=\"text_94\">\n      <!-- 10 -->\n      <g transform=\"translate(518.875472 143.487108) scale(0.1 -0.1)\">\n       <use xlink:href=\"#DejaVuSans-31\"/>\n       <use xlink:href=\"#DejaVuSans-30\" x=\"63.623047\"/>\n      </g>\n     </g>\n    </g>\n    <g id=\"ytick_48\">\n     <g id=\"line2d_80\">\n      <g>\n       <use xlink:href=\"#m6f4ac796fa\" x=\"538.600472\" y=\"165.068617\" style=\"stroke: #000000; stroke-width: 0.8\"/>\n      </g>\n     </g>\n     <g id=\"text_95\">\n      <!-- 20 -->\n      <g transform=\"translate(518.875472 168.867836) scale(0.1 -0.1)\">\n       <use xlink:href=\"#DejaVuSans-32\"/>\n       <use xlink:href=\"#DejaVuSans-30\" x=\"63.623047\"/>\n      </g>\n     </g>\n    </g>\n   </g>\n   <g id=\"patch_78\">\n    <path d=\"M 538.600472 184.104163 \nL 538.600472 113.038125 \n\" style=\"fill: none; stroke: #000000; stroke-width: 0.8; stroke-linejoin: miter; stroke-linecap: square\"/>\n   </g>\n   <g id=\"patch_79\">\n    <path d=\"M 609.666509 184.104163 \nL 609.666509 113.038125 \n\" style=\"fill: none; stroke: #000000; stroke-width: 0.8; stroke-linejoin: miter; stroke-linecap: square\"/>\n   </g>\n   <g id=\"patch_80\">\n    <path d=\"M 538.600472 184.104163 \nL 609.666509 184.104163 \n\" style=\"fill: none; stroke: #000000; stroke-width: 0.8; stroke-linejoin: miter; stroke-linecap: square\"/>\n   </g>\n   <g id=\"patch_81\">\n    <path d=\"M 538.600472 113.038125 \nL 609.666509 113.038125 \n\" style=\"fill: none; stroke: #000000; stroke-width: 0.8; stroke-linejoin: miter; stroke-linecap: square\"/>\n   </g>\n   <g id=\"text_96\">\n    <!-- ankle boot -->\n    <g transform=\"translate(542.410366 107.038125) scale(0.12 -0.12)\">\n     <use xlink:href=\"#DejaVuSans-61\"/>\n     <use xlink:href=\"#DejaVuSans-6e\" x=\"61.279297\"/>\n     <use xlink:href=\"#DejaVuSans-6b\" x=\"124.658203\"/>\n     <use xlink:href=\"#DejaVuSans-6c\" x=\"182.568359\"/>\n     <use xlink:href=\"#DejaVuSans-65\" x=\"210.351562\"/>\n     <use xlink:href=\"#DejaVuSans-20\" x=\"271.875\"/>\n     <use xlink:href=\"#DejaVuSans-62\" x=\"303.662109\"/>\n     <use xlink:href=\"#DejaVuSans-6f\" x=\"367.138672\"/>\n     <use xlink:href=\"#DejaVuSans-6f\" x=\"428.320312\"/>\n     <use xlink:href=\"#DejaVuSans-74\" x=\"489.501953\"/>\n    </g>\n   </g>\n  </g>\n  <g id=\"axes_17\">\n   <g id=\"patch_82\">\n    <path d=\"M 623.879717 184.104163 \nL 694.945755 184.104163 \nL 694.945755 113.038125 \nL 623.879717 113.038125 \nz\n\" style=\"fill: #ffffff\"/>\n   </g>\n   <g clip-path=\"url(#p99797381df)\">\n    <image xlink:href=\"data:image/png;base64,\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\" id=\"image8d382d416f\" transform=\"scale(1 -1) translate(0 -71.28)\" x=\"623.879717\" y=\"-112.824163\" width=\"71.28\" height=\"71.28\"/>\n   </g>\n   <g id=\"matplotlib.axis_33\">\n    <g id=\"xtick_33\">\n     <g id=\"line2d_81\">\n      <g>\n       <use xlink:href=\"#md1ee7f82eb\" x=\"625.148753\" y=\"184.104163\" style=\"stroke: #000000; stroke-width: 0.8\"/>\n      </g>\n     </g>\n     <g id=\"text_97\">\n      <!-- 0 -->\n      <g transform=\"translate(621.967503 198.7026) scale(0.1 -0.1)\">\n       <use xlink:href=\"#DejaVuSans-30\"/>\n      </g>\n     </g>\n    </g>\n    <g id=\"xtick_34\">\n     <g id=\"line2d_82\">\n      <g>\n       <use xlink:href=\"#md1ee7f82eb\" x=\"675.910209\" y=\"184.104163\" style=\"stroke: #000000; stroke-width: 0.8\"/>\n      </g>\n     </g>\n     <g id=\"text_98\">\n      <!-- 20 -->\n      <g transform=\"translate(669.547709 198.7026) scale(0.1 -0.1)\">\n       <use xlink:href=\"#DejaVuSans-32\"/>\n       <use xlink:href=\"#DejaVuSans-30\" x=\"63.623047\"/>\n      </g>\n     </g>\n    </g>\n   </g>\n   <g id=\"matplotlib.axis_34\">\n    <g id=\"ytick_49\">\n     <g id=\"line2d_83\">\n      <g>\n       <use xlink:href=\"#m6f4ac796fa\" x=\"623.879717\" y=\"114.307161\" style=\"stroke: #000000; stroke-width: 0.8\"/>\n      </g>\n     </g>\n     <g id=\"text_99\">\n      <!-- 0 -->\n      <g transform=\"translate(610.517217 118.10638) scale(0.1 -0.1)\">\n       <use xlink:href=\"#DejaVuSans-30\"/>\n      </g>\n     </g>\n    </g>\n    <g id=\"ytick_50\">\n     <g id=\"line2d_84\">\n      <g>\n       <use xlink:href=\"#m6f4ac796fa\" x=\"623.879717\" y=\"139.687889\" style=\"stroke: #000000; stroke-width: 0.8\"/>\n      </g>\n     </g>\n     <g id=\"text_100\">\n      <!-- 10 -->\n      <g transform=\"translate(604.154717 143.487108) scale(0.1 -0.1)\">\n       <use xlink:href=\"#DejaVuSans-31\"/>\n       <use xlink:href=\"#DejaVuSans-30\" x=\"63.623047\"/>\n      </g>\n     </g>\n    </g>\n    <g id=\"ytick_51\">\n     <g id=\"line2d_85\">\n      <g>\n       <use xlink:href=\"#m6f4ac796fa\" x=\"623.879717\" y=\"165.068617\" style=\"stroke: #000000; stroke-width: 0.8\"/>\n      </g>\n     </g>\n     <g id=\"text_101\">\n      <!-- 20 -->\n      <g transform=\"translate(604.154717 168.867836) scale(0.1 -0.1)\">\n       <use xlink:href=\"#DejaVuSans-32\"/>\n       <use xlink:href=\"#DejaVuSans-30\" x=\"63.623047\"/>\n      </g>\n     </g>\n    </g>\n   </g>\n   <g id=\"patch_83\">\n    <path d=\"M 623.879717 184.104163 \nL 623.879717 113.038125 \n\" style=\"fill: none; stroke: #000000; stroke-width: 0.8; stroke-linejoin: miter; stroke-linecap: square\"/>\n   </g>\n   <g id=\"patch_84\">\n    <path d=\"M 694.945755 184.104163 \nL 694.945755 113.038125 \n\" style=\"fill: none; stroke: #000000; stroke-width: 0.8; stroke-linejoin: miter; stroke-linecap: square\"/>\n   </g>\n   <g id=\"patch_85\">\n    <path d=\"M 623.879717 184.104163 \nL 694.945755 184.104163 \n\" style=\"fill: none; stroke: #000000; stroke-width: 0.8; stroke-linejoin: miter; stroke-linecap: square\"/>\n   </g>\n   <g id=\"patch_86\">\n    <path d=\"M 623.879717 113.038125 \nL 694.945755 113.038125 \n\" style=\"fill: none; stroke: #000000; stroke-width: 0.8; stroke-linejoin: miter; stroke-linecap: square\"/>\n   </g>\n   <g id=\"text_102\">\n    <!-- trouser -->\n    <g transform=\"translate(637.971173 107.038125) scale(0.12 -0.12)\">\n     <use xlink:href=\"#DejaVuSans-74\"/>\n     <use xlink:href=\"#DejaVuSans-72\" x=\"39.208984\"/>\n     <use xlink:href=\"#DejaVuSans-6f\" x=\"78.072266\"/>\n     <use xlink:href=\"#DejaVuSans-75\" x=\"139.253906\"/>\n     <use xlink:href=\"#DejaVuSans-73\" x=\"202.632812\"/>\n     <use xlink:href=\"#DejaVuSans-65\" x=\"254.732422\"/>\n     <use xlink:href=\"#DejaVuSans-72\" x=\"316.255859\"/>\n    </g>\n   </g>\n  </g>\n  <g id=\"axes_18\">\n   <g id=\"patch_87\">\n    <path d=\"M 709.158962 184.104163 \nL 780.225 184.104163 \nL 780.225 113.038125 \nL 709.158962 113.038125 \nz\n\" style=\"fill: #ffffff\"/>\n   </g>\n   <g clip-path=\"url(#p1fd5a79e25)\">\n    <image xlink:href=\"data:image/png;base64,\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\" id=\"imagec5c9180591\" transform=\"scale(1 -1) translate(0 -71.28)\" x=\"709.158962\" y=\"-112.824163\" width=\"71.28\" height=\"71.28\"/>\n   </g>\n   <g id=\"matplotlib.axis_35\">\n    <g id=\"xtick_35\">\n     <g id=\"line2d_86\">\n      <g>\n       <use xlink:href=\"#md1ee7f82eb\" x=\"710.427999\" y=\"184.104163\" style=\"stroke: #000000; stroke-width: 0.8\"/>\n      </g>\n     </g>\n     <g id=\"text_103\">\n      <!-- 0 -->\n      <g transform=\"translate(707.246749 198.7026) scale(0.1 -0.1)\">\n       <use xlink:href=\"#DejaVuSans-30\"/>\n      </g>\n     </g>\n    </g>\n    <g id=\"xtick_36\">\n     <g id=\"line2d_87\">\n      <g>\n       <use xlink:href=\"#md1ee7f82eb\" x=\"761.189454\" y=\"184.104163\" style=\"stroke: #000000; stroke-width: 0.8\"/>\n      </g>\n     </g>\n     <g id=\"text_104\">\n      <!-- 20 -->\n      <g transform=\"translate(754.826954 198.7026) scale(0.1 -0.1)\">\n       <use xlink:href=\"#DejaVuSans-32\"/>\n       <use xlink:href=\"#DejaVuSans-30\" x=\"63.623047\"/>\n      </g>\n     </g>\n    </g>\n   </g>\n   <g id=\"matplotlib.axis_36\">\n    <g id=\"ytick_52\">\n     <g id=\"line2d_88\">\n      <g>\n       <use xlink:href=\"#m6f4ac796fa\" x=\"709.158962\" y=\"114.307161\" style=\"stroke: #000000; stroke-width: 0.8\"/>\n      </g>\n     </g>\n     <g id=\"text_105\">\n      <!-- 0 -->\n      <g transform=\"translate(695.796462 118.10638) scale(0.1 -0.1)\">\n       <use xlink:href=\"#DejaVuSans-30\"/>\n      </g>\n     </g>\n    </g>\n    <g id=\"ytick_53\">\n     <g id=\"line2d_89\">\n      <g>\n       <use xlink:href=\"#m6f4ac796fa\" x=\"709.158962\" y=\"139.687889\" style=\"stroke: #000000; stroke-width: 0.8\"/>\n      </g>\n     </g>\n     <g id=\"text_106\">\n      <!-- 10 -->\n      <g transform=\"translate(689.433962 143.487108) scale(0.1 -0.1)\">\n       <use xlink:href=\"#DejaVuSans-31\"/>\n       <use xlink:href=\"#DejaVuSans-30\" x=\"63.623047\"/>\n      </g>\n     </g>\n    </g>\n    <g id=\"ytick_54\">\n     <g id=\"line2d_90\">\n      <g>\n       <use xlink:href=\"#m6f4ac796fa\" x=\"709.158962\" y=\"165.068617\" style=\"stroke: #000000; stroke-width: 0.8\"/>\n      </g>\n     </g>\n     <g id=\"text_107\">\n      <!-- 20 -->\n      <g transform=\"translate(689.433962 168.867836) scale(0.1 -0.1)\">\n       <use xlink:href=\"#DejaVuSans-32\"/>\n       <use xlink:href=\"#DejaVuSans-30\" x=\"63.623047\"/>\n      </g>\n     </g>\n    </g>\n   </g>\n   <g id=\"patch_88\">\n    <path d=\"M 709.158962 184.104163 \nL 709.158962 113.038125 \n\" style=\"fill: none; stroke: #000000; stroke-width: 0.8; stroke-linejoin: miter; stroke-linecap: square\"/>\n   </g>\n   <g id=\"patch_89\">\n    <path d=\"M 780.225 184.104163 \nL 780.225 113.038125 \n\" style=\"fill: none; stroke: #000000; stroke-width: 0.8; stroke-linejoin: miter; stroke-linecap: square\"/>\n   </g>\n   <g id=\"patch_90\">\n    <path d=\"M 709.158962 184.104163 \nL 780.225 184.104163 \n\" style=\"fill: none; stroke: #000000; stroke-width: 0.8; stroke-linejoin: miter; stroke-linecap: square\"/>\n   </g>\n   <g id=\"patch_91\">\n    <path d=\"M 709.158962 113.038125 \nL 780.225 113.038125 \n\" style=\"fill: none; stroke: #000000; stroke-width: 0.8; stroke-linejoin: miter; stroke-linecap: square\"/>\n   </g>\n   <g id=\"text_108\">\n    <!-- t-shirt -->\n    <g transform=\"translate(726.761356 107.038125) scale(0.12 -0.12)\">\n     <use xlink:href=\"#DejaVuSans-74\"/>\n     <use xlink:href=\"#DejaVuSans-2d\" x=\"39.208984\"/>\n     <use xlink:href=\"#DejaVuSans-73\" x=\"75.292969\"/>\n     <use xlink:href=\"#DejaVuSans-68\" x=\"127.392578\"/>\n     <use xlink:href=\"#DejaVuSans-69\" x=\"190.771484\"/>\n     <use xlink:href=\"#DejaVuSans-72\" x=\"218.554688\"/>\n     <use xlink:href=\"#DejaVuSans-74\" x=\"259.667969\"/>\n    </g>\n   </g>\n  </g>\n </g>\n <defs>\n  <clipPath id=\"p3433ddb208\">\n   <rect x=\"26.925\" y=\"22.318125\" width=\"71.066038\" height=\"71.066038\"/>\n  </clipPath>\n  <clipPath id=\"p3f4e61e7a9\">\n   <rect x=\"112.204245\" y=\"22.318125\" width=\"71.066038\" height=\"71.066038\"/>\n  </clipPath>\n  <clipPath id=\"p944585a2d5\">\n   <rect x=\"197.483491\" y=\"22.318125\" width=\"71.066038\" height=\"71.066038\"/>\n  </clipPath>\n  <clipPath id=\"pc128530da0\">\n   <rect x=\"282.762736\" y=\"22.318125\" width=\"71.066038\" height=\"71.066038\"/>\n  </clipPath>\n  <clipPath id=\"p3c53e111ff\">\n   <rect x=\"368.041981\" y=\"22.318125\" width=\"71.066038\" height=\"71.066038\"/>\n  </clipPath>\n  <clipPath id=\"p06c8ffac13\">\n   <rect x=\"453.321226\" y=\"22.318125\" width=\"71.066038\" height=\"71.066038\"/>\n  </clipPath>\n  <clipPath id=\"p441e759ab5\">\n   <rect x=\"538.600472\" y=\"22.318125\" width=\"71.066038\" height=\"71.066038\"/>\n  </clipPath>\n  <clipPath id=\"pc8ad79f8fa\">\n   <rect x=\"623.879717\" y=\"22.318125\" width=\"71.066038\" height=\"71.066038\"/>\n  </clipPath>\n  <clipPath id=\"p16554bea4a\">\n   <rect x=\"709.158962\" y=\"22.318125\" width=\"71.066038\" height=\"71.066038\"/>\n  </clipPath>\n  <clipPath id=\"p2e84b64d9b\">\n   <rect x=\"26.925\" y=\"113.038125\" width=\"71.066038\" height=\"71.066038\"/>\n  </clipPath>\n  <clipPath id=\"p6d082166b1\">\n   <rect x=\"112.204245\" y=\"113.038125\" width=\"71.066038\" height=\"71.066038\"/>\n  </clipPath>\n  <clipPath id=\"p1998c33238\">\n   <rect x=\"197.483491\" y=\"113.038125\" width=\"71.066038\" height=\"71.066038\"/>\n  </clipPath>\n  <clipPath id=\"p6aeaefd286\">\n   <rect x=\"282.762736\" y=\"113.038125\" width=\"71.066038\" height=\"71.066038\"/>\n  </clipPath>\n  <clipPath id=\"p686701f26e\">\n   <rect x=\"368.041981\" y=\"113.038125\" width=\"71.066038\" height=\"71.066038\"/>\n  </clipPath>\n  <clipPath id=\"p2b955ce242\">\n   <rect x=\"453.321226\" y=\"113.038125\" width=\"71.066038\" height=\"71.066038\"/>\n  </clipPath>\n  <clipPath id=\"pdfdbb64516\">\n   <rect x=\"538.600472\" y=\"113.038125\" width=\"71.066038\" height=\"71.066038\"/>\n  </clipPath>\n  <clipPath id=\"p99797381df\">\n   <rect x=\"623.879717\" y=\"113.038125\" width=\"71.066038\" height=\"71.066038\"/>\n  </clipPath>\n  <clipPath id=\"p1fd5a79e25\">\n   <rect x=\"709.158962\" y=\"113.038125\" width=\"71.066038\" height=\"71.066038\"/>\n  </clipPath>\n </defs>\n</svg>\n"
     },
     "metadata": {},
     "output_type": "display_data"
    }
   ],
   "execution_count": 138
  },
  {
   "metadata": {
    "ExecuteTime": {
     "end_time": "2025-02-19T04:55:53.230299Z",
     "start_time": "2025-02-19T04:55:53.227329Z"
    }
   },
   "cell_type": "code",
   "source": [
    "batch_size = 256\n",
    "\n",
    "def get_dataloader_workers(): #@save\n",
    "    \"\"\"使用4个进程来读取数据\"\"\"\n",
    "    return 4\n",
    "\n",
    "train_iter = data.DataLoader(mnist_train, batch_size, shuffle=True,\n",
    "                             num_workers=get_dataloader_workers())"
   ],
   "id": "77b490666f386a1",
   "outputs": [],
   "execution_count": 151
  },
  {
   "metadata": {
    "ExecuteTime": {
     "end_time": "2025-02-19T04:55:55.220861Z",
     "start_time": "2025-02-19T04:55:53.517227Z"
    }
   },
   "cell_type": "code",
   "source": [
    "timer = d2l.Timer()\n",
    "for X, y in train_iter:\n",
    "    continue\n",
    "f'{timer.stop():.2f} sec'"
   ],
   "id": "f75ae06e7a686454",
   "outputs": [
    {
     "data": {
      "text/plain": [
       "'1.70 sec'"
      ]
     },
     "execution_count": 152,
     "metadata": {},
     "output_type": "execute_result"
    }
   ],
   "execution_count": 152
  },
  {
   "metadata": {
    "ExecuteTime": {
     "end_time": "2025-02-19T04:57:17.791127Z",
     "start_time": "2025-02-19T04:57:17.787858Z"
    }
   },
   "cell_type": "code",
   "source": [
    "def load_data_fashion_mnist(batch_size, resize=None): #@save\n",
    "    \"\"\"下载Fashion-MNIST数据集，然后将其加载到内存中\"\"\"\n",
    "    trans = [transforms.ToTensor()]\n",
    "    if resize:\n",
    "        trans.insert(0, transforms.Resize(resize))\n",
    "    trans = transforms.Compose(trans)\n",
    "    mnist_train = torchvision.datasets.FashionMNIST(\n",
    "    root=\"../data\", train=True, transform=trans, download=True)\n",
    "    mnist_test = torchvision.datasets.FashionMNIST(\n",
    "    root=\"../data\", train=False, transform=trans, download=True)\n",
    "    return (data.DataLoader(mnist_train, batch_size, shuffle=True,\n",
    "                            num_workers=get_dataloader_workers()),\n",
    "                            data.DataLoader(mnist_test, batch_size, shuffle=False,\n",
    "                            num_workers=get_dataloader_workers()))"
   ],
   "id": "960ff8aa8f9cdc10",
   "outputs": [],
   "execution_count": 153
  },
  {
   "metadata": {
    "ExecuteTime": {
     "end_time": "2025-02-19T04:57:36.436180Z",
     "start_time": "2025-02-19T04:57:34.960486Z"
    }
   },
   "cell_type": "code",
   "source": [
    "train_iter, test_iter = load_data_fashion_mnist(32, resize=64)\n",
    "for X, y in train_iter:\n",
    "    print(X.shape, X.dtype, y.shape, y.dtype)\n",
    "    break"
   ],
   "id": "984206590796b149",
   "outputs": [
    {
     "name": "stdout",
     "output_type": "stream",
     "text": [
      "torch.Size([32, 1, 64, 64]) torch.float32 torch.Size([32]) torch.int64\n"
     ]
    }
   ],
   "execution_count": 154
  },
  {
   "metadata": {
    "ExecuteTime": {
     "end_time": "2025-02-22T06:26:48.064198Z",
     "start_time": "2025-02-22T06:26:48.049635Z"
    }
   },
   "cell_type": "code",
   "source": [
    "import torch\n",
    "from IPython import display\n",
    "import d2l\n",
    "\n",
    "\n",
    "batch_size = 256\n",
    "train_iter, test_iter = d2l.load_data_fashion_mnist(batch_size)"
   ],
   "id": "415941e6d1f37370",
   "outputs": [],
   "execution_count": 10
  },
  {
   "metadata": {
    "ExecuteTime": {
     "end_time": "2025-02-22T06:26:52.187845Z",
     "start_time": "2025-02-22T06:26:52.185003Z"
    }
   },
   "cell_type": "code",
   "source": [
    "\"\"\"始数据集中的每个样本都是28×28的图像。本节将展平每个图像，把它们看作长度为784的向量。\"\"\"\n",
    "\"\"\"\"在softmax回归中，我们的输出与类别一样多。因为我们的数据集有10个类别，所以网络输出维度为10。因此，权重将构成一个784 ×10的矩阵，偏置将构成一个1 ×10的行向量。与线性回归一样，我们将使用正态分布初始化我们的权重W，偏置初始化为0。\"\"\"\n",
    "\n",
    "num_inputs = 784\n",
    "num_outputs = 10\n",
    "\n",
    "\"\"\"size=(784, 10)是因为我们为每个类别建立了这样一个映射：由784个向量的每个点建立一个向量点到类别的映射\"\"\"\n",
    "W = torch.normal(0, 0.01, size=(num_inputs, num_outputs), requires_grad=True)\n",
    "b = torch.zeros(num_outputs, requires_grad=True)"
   ],
   "id": "14acf43c054c3cc2",
   "outputs": [],
   "execution_count": 11
  },
  {
   "metadata": {
    "ExecuteTime": {
     "end_time": "2025-02-22T06:26:52.976216Z",
     "start_time": "2025-02-22T06:26:52.973818Z"
    }
   },
   "cell_type": "code",
   "source": [
    "def softmax(X):\n",
    "    X_exp = torch.exp(X)\n",
    "    partition = X_exp.sum(1, keepdim=True)\n",
    "    return X_exp / partition # 这里应用了广播机制"
   ],
   "id": "b14cee6444f1b7d5",
   "outputs": [],
   "execution_count": 12
  },
  {
   "metadata": {
    "ExecuteTime": {
     "end_time": "2025-02-22T06:26:53.971954Z",
     "start_time": "2025-02-22T06:26:53.967975Z"
    }
   },
   "cell_type": "code",
   "source": [
    "X = torch.normal(0, 1, (2, 5))\n",
    "X_prob = softmax(X)\n",
    "X_prob, X_prob.sum(1)"
   ],
   "id": "5fe993c58a668df3",
   "outputs": [
    {
     "data": {
      "text/plain": [
       "(tensor([[0.0335, 0.4663, 0.3386, 0.1375, 0.0241],\n",
       "         [0.0856, 0.2853, 0.1509, 0.0891, 0.3891]]),\n",
       " tensor([1.0000, 1.0000]))"
      ]
     },
     "execution_count": 13,
     "metadata": {},
     "output_type": "execute_result"
    }
   ],
   "execution_count": 13
  },
  {
   "metadata": {
    "ExecuteTime": {
     "end_time": "2025-02-22T06:26:54.974616Z",
     "start_time": "2025-02-22T06:26:54.972369Z"
    }
   },
   "cell_type": "code",
   "source": [
    "def net(X):\n",
    "    return softmax(torch.matmul(X.reshape((-1, W.shape[0])), W) + b)"
   ],
   "id": "6425436931fc077",
   "outputs": [],
   "execution_count": 14
  },
  {
   "metadata": {
    "ExecuteTime": {
     "end_time": "2025-02-22T06:26:56.751472Z",
     "start_time": "2025-02-22T06:26:56.747387Z"
    }
   },
   "cell_type": "code",
   "source": [
    "y = torch.tensor([0, 2])\n",
    "y_hat = torch.tensor([[0.1, 0.3, 0.6], [0.3, 0.2, 0.5]])\n",
    "\n",
    "\"\"\"\n",
    "y_hat[[0, 1], y] 运用了 PyTorch 中的高级索引（也称为花式索引）来从 y_hat 张量中选取特定的元素。下面逐步分析：\n",
    "- [0, 1]：这是一个索引列表，代表选取 y_hat 张量的第 0 行和第 1 行。\n",
    "- y：即 [0, 2]，它也是一个索引列表，用于指定在每一行中选取的列索引。\n",
    "\n",
    "具体来说，y_hat[[0, 1], y] 会按照以下方式选取元素：\n",
    "- 对于第 0 行（[0.1, 0.3, 0.6]），根据 y 中的第一个元素 0，选取第 0 列的元素，也就是 0.1。\n",
    "- 对于第 1 行（[0.3, 0.2, 0.5]），根据 y 中的第二个元素 2，选取第 2 列的元素，也就是 0.5。\n",
    "\"\"\"\n",
    "y_hat[[0,1],y]"
   ],
   "id": "2edc2ecf3083c39c",
   "outputs": [
    {
     "data": {
      "text/plain": [
       "tensor([0.1000, 0.5000])"
      ]
     },
     "execution_count": 15,
     "metadata": {},
     "output_type": "execute_result"
    }
   ],
   "execution_count": 15
  },
  {
   "metadata": {
    "ExecuteTime": {
     "end_time": "2025-02-22T06:26:58.833171Z",
     "start_time": "2025-02-22T06:26:58.829250Z"
    }
   },
   "cell_type": "code",
   "source": [
    "def cross_entropy(y_hat, y):\n",
    "    \"\"\"\n",
    "    - 这里运用了 PyTorch 的高级索引（花式索引）技术。range(len(y_hat)) 作为行索引，y 作为列索引。对于每个样本，会从 y_hat 中选取真实标签对应的预测概率。\n",
    "    - 具体来说，对于第 i 个样本，会选取 y_hat[i, y[i]]，即第 i 个样本真实标签对应的预测概率。\n",
    "    - softmax 函数的损失函数为交叉熵损失函数\n",
    "    \"\"\"\n",
    "    return - torch.log(y_hat[range(len(y_hat)), y])\n",
    "\n",
    "cross_entropy(y_hat, y)"
   ],
   "id": "eb8cd2a3c442338d",
   "outputs": [
    {
     "data": {
      "text/plain": [
       "tensor([2.3026, 0.6931])"
      ]
     },
     "execution_count": 16,
     "metadata": {},
     "output_type": "execute_result"
    }
   ],
   "execution_count": 16
  },
  {
   "metadata": {
    "ExecuteTime": {
     "end_time": "2025-02-22T06:30:00.340291Z",
     "start_time": "2025-02-22T06:30:00.338152Z"
    }
   },
   "cell_type": "code",
   "source": [
    "def accuracy(y_hat, y): #@save\n",
    "    \"\"\"计算预测正确的数量\"\"\"\n",
    "    \"\"\"y_hat.shape 为 (2,3)，表示 2 行 3 列。其中，y_hat.shape[1]表示列数\"\"\"\n",
    "    if len(y_hat.shape) > 1 and y_hat.shape[1] > 1:\n",
    "        \"\"\"argmax 即取最大值的索引，axis=1 即对每行而言，取最大值列的索引\"\"\"\n",
    "        y_hat = y_hat.argmax(axis=1)\n",
    "    \"\"\"由于等式运算符“==”对数据类型很敏感，因此我们将 y_hat 的数据类型转换为与 y 的数据类型一致。\"\"\"\n",
    "    cmp = y_hat.type(y.dtype) == y\n",
    "    return float(cmp.type(y.dtype).sum())"
   ],
   "id": "c5c231141ac7a207",
   "outputs": [],
   "execution_count": 23
  },
  {
   "metadata": {
    "ExecuteTime": {
     "end_time": "2025-02-22T06:30:05.169935Z",
     "start_time": "2025-02-22T06:30:05.167426Z"
    }
   },
   "cell_type": "code",
   "source": [
    "def evaluate_accuracy(net, data_iter): #@save\n",
    "    \"\"\"\n",
    "    计算在指定数据集上模型的精度\n",
    "    - net 为模型\n",
    "    - data_iter 为任意数据迭代器 data_iter 可访问的数据集\n",
    "    \"\"\"\n",
    "    if isinstance(net, torch.nn.Module):\n",
    "            net.eval() # 将模型设置为评估模式\n",
    "    metric = Accumulator(2) # 正确预测数、预测总数\n",
    "    with torch.no_grad():\n",
    "        for X, y in data_iter:\n",
    "            \"\"\"\n",
    "            - accuracy(net(X), y) 预测正确值为 1，预测错误值为 0\n",
    "            - y.numel() 为 y 的总数，这里 y.numel() 为 1\n",
    "            \"\"\"\n",
    "            metric.add(accuracy(net(X), y), y.numel())\n",
    "    return metric[0] / metric[1]"
   ],
   "id": "d9ff31d6d2d97045",
   "outputs": [],
   "execution_count": 24
  },
  {
   "metadata": {
    "ExecuteTime": {
     "end_time": "2025-02-21T21:25:09.048932Z",
     "start_time": "2025-02-21T21:25:09.046944Z"
    }
   },
   "cell_type": "code",
   "source": "from d2l import torch as d2l",
   "id": "88b91a4b1946f535",
   "outputs": [],
   "execution_count": 272
  },
  {
   "metadata": {
    "ExecuteTime": {
     "end_time": "2025-02-22T06:30:06.939713Z",
     "start_time": "2025-02-22T06:30:06.937009Z"
    }
   },
   "cell_type": "code",
   "source": [
    "class Accumulator: #@save\n",
    "    \"\"\"在n个变量上累加\"\"\"\n",
    "    def __init__(self, n):\n",
    "        self.data = [0.0] * n\n",
    "\n",
    "    def add(self,*args):\n",
    "        self.data = [a + float(b) for a, b in zip(self.data, args)]\n",
    "\n",
    "    def reset(self):\n",
    "        self.data = [0.0] * len(self.data)\n",
    "\n",
    "    def __getitem__(self, idx):\n",
    "        return self.data[idx]"
   ],
   "id": "732c28bd3b8f6f1f",
   "outputs": [],
   "execution_count": 25
  },
  {
   "metadata": {
    "ExecuteTime": {
     "end_time": "2025-02-22T06:30:08.781289Z",
     "start_time": "2025-02-22T06:30:08.777890Z"
    }
   },
   "cell_type": "code",
   "source": [
    "def train_epoch_ch3(net, train_iter, loss, updater): #@save\n",
    "    \"\"\"\n",
    "    该函数定义训练模型的一个迭代周期\n",
    "    updater时更新模型参数的常用函数，它接受批量大小作为参数。它可以是 d2l.sgd 函数，也可以是框架的内置优化函数\n",
    "    \"\"\"\n",
    "\n",
    "    # 将模型设置为训练模式\n",
    "    if isinstance(net, torch.nn.Module):\n",
    "        net.train()\n",
    "\n",
    "    # 训练损失总和、训练准确度总和、样本数\n",
    "    metric = Accumulator(3)\n",
    "    for X, y in train_iter:\n",
    "        # 计算梯度并更新参数\n",
    "        y_hat = net(X)\n",
    "        l = loss(y_hat, y)\n",
    "        if isinstance(updater, torch.optim.Optimizer):\n",
    "            # 使用 PyTorch 内置的优化器和损失函数\n",
    "            updater.zero_grad()\n",
    "            l.mean().backward()\n",
    "            updater.step()\n",
    "        else:\n",
    "            # 使用定制的优化器和损失函数\n",
    "            l.sum().backward()\n",
    "            updater(X.shape[0])\n",
    "        metric.add(float(l.sum()), accuracy(y_hat, y), y.numel())\n",
    "    # 返回训练损失和训练精度\n",
    "    return metric[0] / metric[2], metric[1] / metric[2]"
   ],
   "id": "8a63b4ed3656c2e9",
   "outputs": [],
   "execution_count": 26
  },
  {
   "metadata": {
    "ExecuteTime": {
     "end_time": "2025-02-22T06:30:10.608038Z",
     "start_time": "2025-02-22T06:30:10.602882Z"
    }
   },
   "cell_type": "code",
   "source": [
    "class Animator: #@save\n",
    "    \"\"\"在动画中绘制数据\"\"\"\n",
    "    def __init__(self, xlabel = None, ylabel = None, legend = None,\n",
    "                 xlim = None, ylim = None, xscale = \"linear\", yscale = \"linear\",\n",
    "                 fmts = ('-', 'm--', 'g-', 'r:'), nrows = 1, ncols = 1,\n",
    "                 figsize = (3.5, 2.5)):\n",
    "        # 增量地绘制多条线\n",
    "        if legend is None:\n",
    "            legend = []\n",
    "        d2l.use_svg_display()\n",
    "        self.fig, self.axes = d2l.plt.subplots(nrows, ncols, figsize=figsize)\n",
    "        if nrows * ncols == 1:\n",
    "            self.axes = [self.axes, ]\n",
    "        # 使用 lambda 函数捕获参数\n",
    "        self.config_axes = lambda: d2l.set_axes(\n",
    "            self.axes[0], xlabel, ylabel, xlim, ylim, xscale, yscale, legend\n",
    "        )\n",
    "        self.X, self.Y, self.fmts = None, None, fmts\n",
    "\n",
    "    def add(self, x, y):\n",
    "        # 向图表中添加多个数据点\n",
    "        if not hasattr(y, \"__len__\"):\n",
    "            y = [y]\n",
    "        n = len(y)\n",
    "        if not hasattr(x, \"__len__\"):\n",
    "            x = [x] * n\n",
    "        if not self.X:\n",
    "            self.X = [[] for _ in range(n)]\n",
    "        if not self.Y:\n",
    "            self.Y = [[] for _ in range(n)]\n",
    "        for i, (a,b) in enumerate(zip(x,y)):\n",
    "            if a is not None and b is not None:\n",
    "                self.X[i].append(a)\n",
    "                self.Y[i].append(b)\n",
    "        self.axes[0].cla()\n",
    "        for x, y, fmt in zip(self.X, self.Y, self.fmts):\n",
    "            self.axes[0].plot(x, y, fmt)\n",
    "        self.config_axes()\n",
    "        display.display(self.fig)\n",
    "        display.clear_output(wait=True)"
   ],
   "id": "807e751cf1bc409b",
   "outputs": [],
   "execution_count": 27
  },
  {
   "metadata": {
    "ExecuteTime": {
     "end_time": "2025-02-22T06:30:13.573483Z",
     "start_time": "2025-02-22T06:30:13.570701Z"
    }
   },
   "cell_type": "code",
   "source": [
    "def train_ch3(net, train_iter, test_iter, loss, num_epochs, updater): #@save\n",
    "    \"\"\"训练模型（定义见第3章）\"\"\"\n",
    "    animator = Animator(xlabel='epoch', xlim=[1, num_epochs], ylim=[0.3, 0.9],\n",
    "    legend=['train loss', 'train acc', 'test acc'])\n",
    "    for epoch in range(num_epochs):\n",
    "        train_metrics = train_epoch_ch3(net, train_iter, loss, updater)\n",
    "        test_acc = evaluate_accuracy(net, test_iter)\n",
    "        animator.add(epoch + 1, train_metrics + (test_acc,))\n",
    "    train_loss, train_acc = train_metrics\n",
    "    assert train_loss < 0.5, train_loss\n",
    "    assert train_acc <= 1 and train_acc > 0.7, train_acc\n",
    "    assert test_acc <= 1 and test_acc > 0.7, test_acc"
   ],
   "id": "51c7336330d9ea33",
   "outputs": [],
   "execution_count": 28
  },
  {
   "metadata": {
    "ExecuteTime": {
     "end_time": "2025-02-22T08:13:18.481942Z",
     "start_time": "2025-02-22T08:13:18.479593Z"
    }
   },
   "cell_type": "code",
   "source": [
    "lr = 0.1\n",
    "\n",
    "def updater(batch_size):\n",
    "    return d2l.sgd([W, b], lr, batch_size)"
   ],
   "id": "d89f9d274058f11a",
   "outputs": [],
   "execution_count": 32
  },
  {
   "metadata": {},
   "cell_type": "code",
   "source": [
    "num_epochs = 10\n",
    "\n",
    "train_ch3(net, train_iter, test_iter, cross_entropy, num_epochs, updater)"
   ],
   "id": "4b2145c2085edf80",
   "execution_count": 33,
   "outputs": []
  },
  {
   "metadata": {
    "ExecuteTime": {
     "end_time": "2025-02-20T01:02:47.773833Z",
     "start_time": "2025-02-20T01:02:47.770753Z"
    }
   },
   "cell_type": "code",
   "source": [
    "def predict(net, test_iter, n=6):\n",
    "    \"\"\"预测标签\"\"\"\n",
    "    for X, y in test_iter:\n",
    "        break\n",
    "    trues = d2l.get_fashion_mnist_labels(y)\n",
    "    preds = d2l.get_fashion_mnist_labels(net(X).argmax(axis=1))\n",
    "    titles = [true + '\\n' + pred for true, pred in zip(trues, preds)]\n",
    "    d2l.show_images(X[:n].reshape((n,28,28)), 1, n, titles[:n])"
   ],
   "id": "28db1b3aeeaac751",
   "outputs": [],
   "execution_count": 212
  },
  {
   "metadata": {
    "ExecuteTime": {
     "end_time": "2025-02-20T01:02:51.847366Z",
     "start_time": "2025-02-20T01:02:50.308592Z"
    }
   },
   "cell_type": "code",
   "source": "predict(net, test_iter)",
   "id": "28684169beffac9c",
   "outputs": [
    {
     "data": {
      "text/plain": [
       "<Figure size 900x150 with 6 Axes>"
      ],
      "image/svg+xml": "<?xml version=\"1.0\" encoding=\"utf-8\" standalone=\"no\"?>\n<!DOCTYPE svg PUBLIC \"-//W3C//DTD SVG 1.1//EN\"\n  \"http://www.w3.org/Graphics/SVG/1.1/DTD/svg11.dtd\">\n<svg xmlns:xlink=\"http://www.w3.org/1999/xlink\" width=\"516.6pt\" height=\"114.698357pt\" viewBox=\"0 0 516.6 114.698357\" xmlns=\"http://www.w3.org/2000/svg\" version=\"1.1\">\n <metadata>\n  <rdf:RDF xmlns:dc=\"http://purl.org/dc/elements/1.1/\" xmlns:cc=\"http://creativecommons.org/ns#\" xmlns:rdf=\"http://www.w3.org/1999/02/22-rdf-syntax-ns#\">\n   <cc:Work>\n    <dc:type rdf:resource=\"http://purl.org/dc/dcmitype/StillImage\"/>\n    <dc:date>2025-02-20T09:02:51.813864</dc:date>\n    <dc:format>image/svg+xml</dc:format>\n    <dc:creator>\n     <cc:Agent>\n      <dc:title>Matplotlib v3.7.2, https://matplotlib.org/</dc:title>\n     </cc:Agent>\n    </dc:creator>\n   </cc:Work>\n  </rdf:RDF>\n </metadata>\n <defs>\n  <style type=\"text/css\">*{stroke-linejoin: round; stroke-linecap: butt}</style>\n </defs>\n <g id=\"figure_1\">\n  <g id=\"patch_1\">\n   <path d=\"M 0 114.698357 \nL 516.6 114.698357 \nL 516.6 0 \nL 0 0 \nz\n\" style=\"fill: #ffffff\"/>\n  </g>\n  <g id=\"axes_1\">\n   <g id=\"patch_2\">\n    <path d=\"M 7.2 107.498357 \nL 78.942857 107.498357 \nL 78.942857 35.7555 \nL 7.2 35.7555 \nz\n\" style=\"fill: #ffffff\"/>\n   </g>\n   <g clip-path=\"url(#p6822dc9566)\">\n    <image xlink:href=\"data:image/png;base64,\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\" id=\"image1676993da7\" transform=\"scale(1 -1) translate(0 -72)\" x=\"7.2\" y=\"-35.498357\" width=\"72\" height=\"72\"/>\n   </g>\n   <g id=\"patch_3\">\n    <path d=\"M 7.2 107.498357 \nL 7.2 35.7555 \n\" style=\"fill: none; stroke: #000000; stroke-width: 0.8; stroke-linejoin: miter; stroke-linecap: square\"/>\n   </g>\n   <g id=\"patch_4\">\n    <path d=\"M 78.942857 107.498357 \nL 78.942857 35.7555 \n\" style=\"fill: none; stroke: #000000; stroke-width: 0.8; stroke-linejoin: miter; stroke-linecap: square\"/>\n   </g>\n   <g id=\"patch_5\">\n    <path d=\"M 7.2 107.498357 \nL 78.942857 107.498357 \n\" style=\"fill: none; stroke: #000000; stroke-width: 0.8; stroke-linejoin: miter; stroke-linecap: square\"/>\n   </g>\n   <g id=\"patch_6\">\n    <path d=\"M 7.2 35.7555 \nL 78.942857 35.7555 \n\" style=\"fill: none; stroke: #000000; stroke-width: 0.8; stroke-linejoin: miter; stroke-linecap: square\"/>\n   </g>\n   <g id=\"text_1\">\n    <!-- ankle boot -->\n    <g transform=\"translate(11.348304 16.318125) scale(0.12 -0.12)\">\n     <defs>\n      <path id=\"DejaVuSans-61\" d=\"M 2194 1759 \nQ 1497 1759 1228 1600 \nQ 959 1441 959 1056 \nQ 959 750 1161 570 \nQ 1363 391 1709 391 \nQ 2188 391 2477 730 \nQ 2766 1069 2766 1631 \nL 2766 1759 \nL 2194 1759 \nz\nM 3341 1997 \nL 3341 0 \nL 2766 0 \nL 2766 531 \nQ 2569 213 2275 61 \nQ 1981 -91 1556 -91 \nQ 1019 -91 701 211 \nQ 384 513 384 1019 \nQ 384 1609 779 1909 \nQ 1175 2209 1959 2209 \nL 2766 2209 \nL 2766 2266 \nQ 2766 2663 2505 2880 \nQ 2244 3097 1772 3097 \nQ 1472 3097 1187 3025 \nQ 903 2953 641 2809 \nL 641 3341 \nQ 956 3463 1253 3523 \nQ 1550 3584 1831 3584 \nQ 2591 3584 2966 3190 \nQ 3341 2797 3341 1997 \nz\n\" transform=\"scale(0.015625)\"/>\n      <path id=\"DejaVuSans-6e\" d=\"M 3513 2113 \nL 3513 0 \nL 2938 0 \nL 2938 2094 \nQ 2938 2591 2744 2837 \nQ 2550 3084 2163 3084 \nQ 1697 3084 1428 2787 \nQ 1159 2491 1159 1978 \nL 1159 0 \nL 581 0 \nL 581 3500 \nL 1159 3500 \nL 1159 2956 \nQ 1366 3272 1645 3428 \nQ 1925 3584 2291 3584 \nQ 2894 3584 3203 3211 \nQ 3513 2838 3513 2113 \nz\n\" transform=\"scale(0.015625)\"/>\n      <path id=\"DejaVuSans-6b\" d=\"M 581 4863 \nL 1159 4863 \nL 1159 1991 \nL 2875 3500 \nL 3609 3500 \nL 1753 1863 \nL 3688 0 \nL 2938 0 \nL 1159 1709 \nL 1159 0 \nL 581 0 \nL 581 4863 \nz\n\" transform=\"scale(0.015625)\"/>\n      <path id=\"DejaVuSans-6c\" d=\"M 603 4863 \nL 1178 4863 \nL 1178 0 \nL 603 0 \nL 603 4863 \nz\n\" transform=\"scale(0.015625)\"/>\n      <path id=\"DejaVuSans-65\" d=\"M 3597 1894 \nL 3597 1613 \nL 953 1613 \nQ 991 1019 1311 708 \nQ 1631 397 2203 397 \nQ 2534 397 2845 478 \nQ 3156 559 3463 722 \nL 3463 178 \nQ 3153 47 2828 -22 \nQ 2503 -91 2169 -91 \nQ 1331 -91 842 396 \nQ 353 884 353 1716 \nQ 353 2575 817 3079 \nQ 1281 3584 2069 3584 \nQ 2775 3584 3186 3129 \nQ 3597 2675 3597 1894 \nz\nM 3022 2063 \nQ 3016 2534 2758 2815 \nQ 2500 3097 2075 3097 \nQ 1594 3097 1305 2825 \nQ 1016 2553 972 2059 \nL 3022 2063 \nz\n\" transform=\"scale(0.015625)\"/>\n      <path id=\"DejaVuSans-20\" transform=\"scale(0.015625)\"/>\n      <path id=\"DejaVuSans-62\" d=\"M 3116 1747 \nQ 3116 2381 2855 2742 \nQ 2594 3103 2138 3103 \nQ 1681 3103 1420 2742 \nQ 1159 2381 1159 1747 \nQ 1159 1113 1420 752 \nQ 1681 391 2138 391 \nQ 2594 391 2855 752 \nQ 3116 1113 3116 1747 \nz\nM 1159 2969 \nQ 1341 3281 1617 3432 \nQ 1894 3584 2278 3584 \nQ 2916 3584 3314 3078 \nQ 3713 2572 3713 1747 \nQ 3713 922 3314 415 \nQ 2916 -91 2278 -91 \nQ 1894 -91 1617 61 \nQ 1341 213 1159 525 \nL 1159 0 \nL 581 0 \nL 581 4863 \nL 1159 4863 \nL 1159 2969 \nz\n\" transform=\"scale(0.015625)\"/>\n      <path id=\"DejaVuSans-6f\" d=\"M 1959 3097 \nQ 1497 3097 1228 2736 \nQ 959 2375 959 1747 \nQ 959 1119 1226 758 \nQ 1494 397 1959 397 \nQ 2419 397 2687 759 \nQ 2956 1122 2956 1747 \nQ 2956 2369 2687 2733 \nQ 2419 3097 1959 3097 \nz\nM 1959 3584 \nQ 2709 3584 3137 3096 \nQ 3566 2609 3566 1747 \nQ 3566 888 3137 398 \nQ 2709 -91 1959 -91 \nQ 1206 -91 779 398 \nQ 353 888 353 1747 \nQ 353 2609 779 3096 \nQ 1206 3584 1959 3584 \nz\n\" transform=\"scale(0.015625)\"/>\n      <path id=\"DejaVuSans-74\" d=\"M 1172 4494 \nL 1172 3500 \nL 2356 3500 \nL 2356 3053 \nL 1172 3053 \nL 1172 1153 \nQ 1172 725 1289 603 \nQ 1406 481 1766 481 \nL 2356 481 \nL 2356 0 \nL 1766 0 \nQ 1100 0 847 248 \nQ 594 497 594 1153 \nL 594 3053 \nL 172 3053 \nL 172 3500 \nL 594 3500 \nL 594 4494 \nL 1172 4494 \nz\n\" transform=\"scale(0.015625)\"/>\n     </defs>\n     <use xlink:href=\"#DejaVuSans-61\"/>\n     <use xlink:href=\"#DejaVuSans-6e\" x=\"61.279297\"/>\n     <use xlink:href=\"#DejaVuSans-6b\" x=\"124.658203\"/>\n     <use xlink:href=\"#DejaVuSans-6c\" x=\"182.568359\"/>\n     <use xlink:href=\"#DejaVuSans-65\" x=\"210.351562\"/>\n     <use xlink:href=\"#DejaVuSans-20\" x=\"271.875\"/>\n     <use xlink:href=\"#DejaVuSans-62\" x=\"303.662109\"/>\n     <use xlink:href=\"#DejaVuSans-6f\" x=\"367.138672\"/>\n     <use xlink:href=\"#DejaVuSans-6f\" x=\"428.320312\"/>\n     <use xlink:href=\"#DejaVuSans-74\" x=\"489.501953\"/>\n    </g>\n    <!-- ankle boot -->\n    <g transform=\"translate(11.348304 29.7555) scale(0.12 -0.12)\">\n     <use xlink:href=\"#DejaVuSans-61\"/>\n     <use xlink:href=\"#DejaVuSans-6e\" x=\"61.279297\"/>\n     <use xlink:href=\"#DejaVuSans-6b\" x=\"124.658203\"/>\n     <use xlink:href=\"#DejaVuSans-6c\" x=\"182.568359\"/>\n     <use xlink:href=\"#DejaVuSans-65\" x=\"210.351562\"/>\n     <use xlink:href=\"#DejaVuSans-20\" x=\"271.875\"/>\n     <use xlink:href=\"#DejaVuSans-62\" x=\"303.662109\"/>\n     <use xlink:href=\"#DejaVuSans-6f\" x=\"367.138672\"/>\n     <use xlink:href=\"#DejaVuSans-6f\" x=\"428.320312\"/>\n     <use xlink:href=\"#DejaVuSans-74\" x=\"489.501953\"/>\n    </g>\n   </g>\n  </g>\n  <g id=\"axes_2\">\n   <g id=\"patch_7\">\n    <path d=\"M 93.291429 107.498357 \nL 165.034286 107.498357 \nL 165.034286 35.7555 \nL 93.291429 35.7555 \nz\n\" style=\"fill: #ffffff\"/>\n   </g>\n   <g clip-path=\"url(#pf04f5b7eed)\">\n    <image xlink:href=\"data:image/png;base64,\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\" id=\"image73178988a1\" transform=\"scale(1 -1) translate(0 -72)\" x=\"93.291429\" y=\"-35.498357\" width=\"72\" height=\"72\"/>\n   </g>\n   <g id=\"patch_8\">\n    <path d=\"M 93.291429 107.498357 \nL 93.291429 35.7555 \n\" style=\"fill: none; stroke: #000000; stroke-width: 0.8; stroke-linejoin: miter; stroke-linecap: square\"/>\n   </g>\n   <g id=\"patch_9\">\n    <path d=\"M 165.034286 107.498357 \nL 165.034286 35.7555 \n\" style=\"fill: none; stroke: #000000; stroke-width: 0.8; stroke-linejoin: miter; stroke-linecap: square\"/>\n   </g>\n   <g id=\"patch_10\">\n    <path d=\"M 93.291429 107.498357 \nL 165.034286 107.498357 \n\" style=\"fill: none; stroke: #000000; stroke-width: 0.8; stroke-linejoin: miter; stroke-linecap: square\"/>\n   </g>\n   <g id=\"patch_11\">\n    <path d=\"M 93.291429 35.7555 \nL 165.034286 35.7555 \n\" style=\"fill: none; stroke: #000000; stroke-width: 0.8; stroke-linejoin: miter; stroke-linecap: square\"/>\n   </g>\n   <g id=\"text_2\">\n    <!-- pullover -->\n    <g transform=\"translate(104.836607 16.318125) scale(0.12 -0.12)\">\n     <defs>\n      <path id=\"DejaVuSans-70\" d=\"M 1159 525 \nL 1159 -1331 \nL 581 -1331 \nL 581 3500 \nL 1159 3500 \nL 1159 2969 \nQ 1341 3281 1617 3432 \nQ 1894 3584 2278 3584 \nQ 2916 3584 3314 3078 \nQ 3713 2572 3713 1747 \nQ 3713 922 3314 415 \nQ 2916 -91 2278 -91 \nQ 1894 -91 1617 61 \nQ 1341 213 1159 525 \nz\nM 3116 1747 \nQ 3116 2381 2855 2742 \nQ 2594 3103 2138 3103 \nQ 1681 3103 1420 2742 \nQ 1159 2381 1159 1747 \nQ 1159 1113 1420 752 \nQ 1681 391 2138 391 \nQ 2594 391 2855 752 \nQ 3116 1113 3116 1747 \nz\n\" transform=\"scale(0.015625)\"/>\n      <path id=\"DejaVuSans-75\" d=\"M 544 1381 \nL 544 3500 \nL 1119 3500 \nL 1119 1403 \nQ 1119 906 1312 657 \nQ 1506 409 1894 409 \nQ 2359 409 2629 706 \nQ 2900 1003 2900 1516 \nL 2900 3500 \nL 3475 3500 \nL 3475 0 \nL 2900 0 \nL 2900 538 \nQ 2691 219 2414 64 \nQ 2138 -91 1772 -91 \nQ 1169 -91 856 284 \nQ 544 659 544 1381 \nz\nM 1991 3584 \nL 1991 3584 \nz\n\" transform=\"scale(0.015625)\"/>\n      <path id=\"DejaVuSans-76\" d=\"M 191 3500 \nL 800 3500 \nL 1894 563 \nL 2988 3500 \nL 3597 3500 \nL 2284 0 \nL 1503 0 \nL 191 3500 \nz\n\" transform=\"scale(0.015625)\"/>\n      <path id=\"DejaVuSans-72\" d=\"M 2631 2963 \nQ 2534 3019 2420 3045 \nQ 2306 3072 2169 3072 \nQ 1681 3072 1420 2755 \nQ 1159 2438 1159 1844 \nL 1159 0 \nL 581 0 \nL 581 3500 \nL 1159 3500 \nL 1159 2956 \nQ 1341 3275 1631 3429 \nQ 1922 3584 2338 3584 \nQ 2397 3584 2469 3576 \nQ 2541 3569 2628 3553 \nL 2631 2963 \nz\n\" transform=\"scale(0.015625)\"/>\n     </defs>\n     <use xlink:href=\"#DejaVuSans-70\"/>\n     <use xlink:href=\"#DejaVuSans-75\" x=\"63.476562\"/>\n     <use xlink:href=\"#DejaVuSans-6c\" x=\"126.855469\"/>\n     <use xlink:href=\"#DejaVuSans-6c\" x=\"154.638672\"/>\n     <use xlink:href=\"#DejaVuSans-6f\" x=\"182.421875\"/>\n     <use xlink:href=\"#DejaVuSans-76\" x=\"243.603516\"/>\n     <use xlink:href=\"#DejaVuSans-65\" x=\"302.783203\"/>\n     <use xlink:href=\"#DejaVuSans-72\" x=\"364.306641\"/>\n    </g>\n    <!-- pullover -->\n    <g transform=\"translate(104.836607 29.7555) scale(0.12 -0.12)\">\n     <use xlink:href=\"#DejaVuSans-70\"/>\n     <use xlink:href=\"#DejaVuSans-75\" x=\"63.476562\"/>\n     <use xlink:href=\"#DejaVuSans-6c\" x=\"126.855469\"/>\n     <use xlink:href=\"#DejaVuSans-6c\" x=\"154.638672\"/>\n     <use xlink:href=\"#DejaVuSans-6f\" x=\"182.421875\"/>\n     <use xlink:href=\"#DejaVuSans-76\" x=\"243.603516\"/>\n     <use xlink:href=\"#DejaVuSans-65\" x=\"302.783203\"/>\n     <use xlink:href=\"#DejaVuSans-72\" x=\"364.306641\"/>\n    </g>\n   </g>\n  </g>\n  <g id=\"axes_3\">\n   <g id=\"patch_12\">\n    <path d=\"M 179.382857 107.498357 \nL 251.125714 107.498357 \nL 251.125714 35.7555 \nL 179.382857 35.7555 \nz\n\" style=\"fill: #ffffff\"/>\n   </g>\n   <g clip-path=\"url(#p242693bbc3)\">\n    <image xlink:href=\"data:image/png;base64,\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\" id=\"image4e896875ef\" transform=\"scale(1 -1) translate(0 -72)\" x=\"179.382857\" y=\"-35.498357\" width=\"72\" height=\"72\"/>\n   </g>\n   <g id=\"patch_13\">\n    <path d=\"M 179.382857 107.498357 \nL 179.382857 35.7555 \n\" style=\"fill: none; stroke: #000000; stroke-width: 0.8; stroke-linejoin: miter; stroke-linecap: square\"/>\n   </g>\n   <g id=\"patch_14\">\n    <path d=\"M 251.125714 107.498357 \nL 251.125714 35.7555 \n\" style=\"fill: none; stroke: #000000; stroke-width: 0.8; stroke-linejoin: miter; stroke-linecap: square\"/>\n   </g>\n   <g id=\"patch_15\">\n    <path d=\"M 179.382857 107.498357 \nL 251.125714 107.498357 \n\" style=\"fill: none; stroke: #000000; stroke-width: 0.8; stroke-linejoin: miter; stroke-linecap: square\"/>\n   </g>\n   <g id=\"patch_16\">\n    <path d=\"M 179.382857 35.7555 \nL 251.125714 35.7555 \n\" style=\"fill: none; stroke: #000000; stroke-width: 0.8; stroke-linejoin: miter; stroke-linecap: square\"/>\n   </g>\n   <g id=\"text_3\">\n    <!-- trouser -->\n    <g transform=\"translate(193.812723 16.318125) scale(0.12 -0.12)\">\n     <defs>\n      <path id=\"DejaVuSans-73\" d=\"M 2834 3397 \nL 2834 2853 \nQ 2591 2978 2328 3040 \nQ 2066 3103 1784 3103 \nQ 1356 3103 1142 2972 \nQ 928 2841 928 2578 \nQ 928 2378 1081 2264 \nQ 1234 2150 1697 2047 \nL 1894 2003 \nQ 2506 1872 2764 1633 \nQ 3022 1394 3022 966 \nQ 3022 478 2636 193 \nQ 2250 -91 1575 -91 \nQ 1294 -91 989 -36 \nQ 684 19 347 128 \nL 347 722 \nQ 666 556 975 473 \nQ 1284 391 1588 391 \nQ 1994 391 2212 530 \nQ 2431 669 2431 922 \nQ 2431 1156 2273 1281 \nQ 2116 1406 1581 1522 \nL 1381 1569 \nQ 847 1681 609 1914 \nQ 372 2147 372 2553 \nQ 372 3047 722 3315 \nQ 1072 3584 1716 3584 \nQ 2034 3584 2315 3537 \nQ 2597 3491 2834 3397 \nz\n\" transform=\"scale(0.015625)\"/>\n     </defs>\n     <use xlink:href=\"#DejaVuSans-74\"/>\n     <use xlink:href=\"#DejaVuSans-72\" x=\"39.208984\"/>\n     <use xlink:href=\"#DejaVuSans-6f\" x=\"78.072266\"/>\n     <use xlink:href=\"#DejaVuSans-75\" x=\"139.253906\"/>\n     <use xlink:href=\"#DejaVuSans-73\" x=\"202.632812\"/>\n     <use xlink:href=\"#DejaVuSans-65\" x=\"254.732422\"/>\n     <use xlink:href=\"#DejaVuSans-72\" x=\"316.255859\"/>\n    </g>\n    <!-- trouser -->\n    <g transform=\"translate(193.812723 29.7555) scale(0.12 -0.12)\">\n     <use xlink:href=\"#DejaVuSans-74\"/>\n     <use xlink:href=\"#DejaVuSans-72\" x=\"39.208984\"/>\n     <use xlink:href=\"#DejaVuSans-6f\" x=\"78.072266\"/>\n     <use xlink:href=\"#DejaVuSans-75\" x=\"139.253906\"/>\n     <use xlink:href=\"#DejaVuSans-73\" x=\"202.632812\"/>\n     <use xlink:href=\"#DejaVuSans-65\" x=\"254.732422\"/>\n     <use xlink:href=\"#DejaVuSans-72\" x=\"316.255859\"/>\n    </g>\n   </g>\n  </g>\n  <g id=\"axes_4\">\n   <g id=\"patch_17\">\n    <path d=\"M 265.474286 107.498357 \nL 337.217143 107.498357 \nL 337.217143 35.7555 \nL 265.474286 35.7555 \nz\n\" style=\"fill: #ffffff\"/>\n   </g>\n   <g clip-path=\"url(#p15d017746c)\">\n    <image xlink:href=\"data:image/png;base64,\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\" id=\"imagee7afd1ec86\" transform=\"scale(1 -1) translate(0 -72)\" x=\"265.474286\" y=\"-35.498357\" width=\"72\" height=\"72\"/>\n   </g>\n   <g id=\"patch_18\">\n    <path d=\"M 265.474286 107.498357 \nL 265.474286 35.7555 \n\" style=\"fill: none; stroke: #000000; stroke-width: 0.8; stroke-linejoin: miter; stroke-linecap: square\"/>\n   </g>\n   <g id=\"patch_19\">\n    <path d=\"M 337.217143 107.498357 \nL 337.217143 35.7555 \n\" style=\"fill: none; stroke: #000000; stroke-width: 0.8; stroke-linejoin: miter; stroke-linecap: square\"/>\n   </g>\n   <g id=\"patch_20\">\n    <path d=\"M 265.474286 107.498357 \nL 337.217143 107.498357 \n\" style=\"fill: none; stroke: #000000; stroke-width: 0.8; stroke-linejoin: miter; stroke-linecap: square\"/>\n   </g>\n   <g id=\"patch_21\">\n    <path d=\"M 265.474286 35.7555 \nL 337.217143 35.7555 \n\" style=\"fill: none; stroke: #000000; stroke-width: 0.8; stroke-linejoin: miter; stroke-linecap: square\"/>\n   </g>\n   <g id=\"text_4\">\n    <!-- trouser -->\n    <g transform=\"translate(279.904152 16.318125) scale(0.12 -0.12)\">\n     <use xlink:href=\"#DejaVuSans-74\"/>\n     <use xlink:href=\"#DejaVuSans-72\" x=\"39.208984\"/>\n     <use xlink:href=\"#DejaVuSans-6f\" x=\"78.072266\"/>\n     <use xlink:href=\"#DejaVuSans-75\" x=\"139.253906\"/>\n     <use xlink:href=\"#DejaVuSans-73\" x=\"202.632812\"/>\n     <use xlink:href=\"#DejaVuSans-65\" x=\"254.732422\"/>\n     <use xlink:href=\"#DejaVuSans-72\" x=\"316.255859\"/>\n    </g>\n    <!-- trouser -->\n    <g transform=\"translate(279.904152 29.7555) scale(0.12 -0.12)\">\n     <use xlink:href=\"#DejaVuSans-74\"/>\n     <use xlink:href=\"#DejaVuSans-72\" x=\"39.208984\"/>\n     <use xlink:href=\"#DejaVuSans-6f\" x=\"78.072266\"/>\n     <use xlink:href=\"#DejaVuSans-75\" x=\"139.253906\"/>\n     <use xlink:href=\"#DejaVuSans-73\" x=\"202.632812\"/>\n     <use xlink:href=\"#DejaVuSans-65\" x=\"254.732422\"/>\n     <use xlink:href=\"#DejaVuSans-72\" x=\"316.255859\"/>\n    </g>\n   </g>\n  </g>\n  <g id=\"axes_5\">\n   <g id=\"patch_22\">\n    <path d=\"M 351.565714 107.498357 \nL 423.308571 107.498357 \nL 423.308571 35.7555 \nL 351.565714 35.7555 \nz\n\" style=\"fill: #ffffff\"/>\n   </g>\n   <g clip-path=\"url(#pa30bc73125)\">\n    <image xlink:href=\"data:image/png;base64,\niVBORw0KGgoAAAANSUhEUgAAAGQAAABkCAYAAABw4pVUAAAJhklEQVR4nO1dS28cxxHumdmdfZFc7upB6mGJjmRTgqzACeQkEJAIAZQAOdgn5ZRLgOSSa4Ag1+Qv5K5bgJxyCHJwnAfgGLDsGIYMxQ9JfESUSIpPablc7nNewdLAVn21nMGKYOLeRX+nbtbuTA9r+6vq6uoa66Z1K1Iawbn8Sq9def0YyBpTdq/tjeP3IhL1wfZE36f2+JMQZJPvPOy1g0pF/b+R8BgGXwWMQjSDUYhmSB3ZlWyH2mGAonEk/PnfXOm1v/7GIsgujC302u8+tfAePt2jlG2DaONZEfqlYr3XrjUyIDsxWaP7l1dBtvQLslsrlct4zdv4HNk/f6SOGmaGaAajEM1gHZXba6WI/SKf+ZVKqbnb16Bvu0Rp7mIOZW3WRuZTmec01J1LOGwrRHrzj5Ovm593UZan77q7+L3mNLnB5UvPQFbKNnGsbz7vtcNGY2AKT4KZIZrBKEQzGIWMqtsr7QZHdhk5PHCJwy0R1uDYu4jCYDnda+eFS9ycFqbQs2LDKv4YfTaiS355jwLZkGYHhfUWPsfZxoqKRYQhmUFhZohmMAoZGcqykDIsx4mlr8k5nL4b14kyMjvMPVRKhaxbWBSUwSgs9xhlaeG+Bjn6rVmCzZwWfdbuiGhAmsaaTeNzbC9PqkH/Hyo63GrCzBDNYBSiGYxCRsaGCI5McntL78xBf/17F2M/G+Touuka8nL+EdmNxllxP0HhVof91hJsiF9AoZOj637z5DLI7v2hHDvuw9oMCTNDNINRyKiu1J1Sqdf2rpxH4Z1PoZuuMBdZUI3NVtitE0gD+TWSuc+Fu5yw4pZ0xpMegkwU+wvdao2BrPyvDehbZ8/Q/Ss7OJ46bZC9CMwM0QxGIZrBKGSYbcjaL6/32rUrHZBNnSIO/c7UZyB78PNL0J/4D7UbJ8WA6tT2kMJVh+UxOG0rNvmtiyhFckts2Dl86DbakOnybq997+4FkM2cw+jzP35/u9f+1ic/BpnHEjJad9FdPvfbOzggPpxYicFXAqMQzWAUMsw2xM+zTht1ubFEPLkyjj759rUJ6KfrxNse5repLCZ6IBjd22jCVOTE92V4JHTZbqKDspRN65fCE3zGrW9gwt1rH/6k127soez8KXqQpen4sJKEmSGawShkmCnr5F1y+1ZKyBHpXdLt3OkTIItK6KJO/YWiqBvXz+BnbXZdsdXH3VdJUdK15X0rELuJPFzi4m5mxiF6OflJC2SrN7LQL7L84voW53OldhqUAHjsrhhsAswM0QxGIZrBKGSYbUh2k5KNwxTGNRxGt3u7mECdKqEt8JcpwSy19xLexFIDhTw6E8JdbaCd4MlxfGz7Mm6mWJbJ/meZ25uax3B7+6dT0K81ydW1Wmgn3pqhLYe/7X5XDQozQzSDUchQ7xiyZLCogKvP0KW81/Qyrlqd2Vrs7iJPjJOQlAXHm8UuYIC3VGGOqMdp4e8uyHJexO+tVil0cGYCB3Bjdh76/3xIR7gjQX1pNni3Zs6HDC2MQjSDUcgw2xBnm3bTlI8uYJBl5/aqSMxXTj2Ffq1UHMhdtX1B8GF86CS1h327acd+Nkyx8yEe/ibrdQqPWFV0e69NLEH/PZsl/InwjMdumnuKGShJJ0fMDNEMRiHDTFnByhrrIWXxhDfpro6nsOpCzfMTkhNU7CZUwIKtPssB7iLzzIrN35VJdEBhIiXXZit1bwYzMLIJ5++iDBKRzS5sPeb/t2SYGaIZjEI0g1HIMNuQyCNSt1hSdJ/dELxcEDakM8N2FBOOVaSwkoXyWRA5yV3+ckAxbWGnZLZ3GNKFKrO4Q7jm4RnDiJfzEG7v03bxUJXpzAzRDEYhmsEoZFQO7NgipM19e+DoLi8Lnt6+mjs48Vl1wxoqfo3CbinDM31rDSaWIf4wHQ1kw6oUXd/HOrMLfTcR2SuP93iCNVatS4KZIZrBKGRUKCtdl25ndHAOsFLqg/WXoV/9NmUdFD5D1zKJhji9OOhJ94VrOiyxwhYuKT9bEo4jZ7kZCo8UrmKUdrtTwJuwZ7YdpKxqm54LM5uTYWaIZjAK0QxGIaNiQ/JryL08383nZ8QPqMymaunYkIfD3GA/3rz0f6/PppCd8FgFORmaD7Ki6DOzC1NjtUT3fWxCxHYYtj+l0P2EwmLRSTAzRDMYhYwKZY0/wWV09SJdKmRFLg9CfsWJX6mn41f8HPLIdF8ecOtgipJJdWnXj83tXdg8DrKbL2NVo0cpqhNfcPFBagsJ1ecSYGaIZjAK0QxGIaNiQwr3MYkseGs69kxfs4EFiHmuMy+w30W7zEpiiGhv6B4cFT4I3EPNbcW76F4nFev2dlrorp/PbUP/3Q4lypVzWIzfWRTGcUCYGaIZjEJGhbL8pSfiL0RZTh31bNVwyR1m4iO6Fj/6nIpfnctKcPkNpMk2P4otClTyqnXWOh4syb5K1NOs4NG8uTo9o4QvQgfu+5/32i9SBd7MEM1gFKIZjEJGtSppbpUu5Ykjy33V3/jx5mJCwpuF9+D2pvwF3mP9BsZOLHa2JGIvCti/DqsA5FbxN1nZolfjOXn0uz9YncHnYGGW2eImyBZb4iz2gDAzRDMYhWgGo5BRtSHHviAOX/0+ylxWyVq+n5AnUMudP5nglq7F7xj+7Pp70P/7OlVCXaucAlnwNeJ35z4OIL1Jhso/jSuItgil5PI02LfvvQayV9XH6jAwM0QzGIUMNWUlvE50/HMq+hjdxMLB8hWqXiGmXIbC0IlflOERam/+EKOpH1fwBQDVZjb2eLXH+q0pHJzTsA9MxugiGEM3OD9Jg7f/jRHtw76fyswQzWAUohmMQobahiS8TjR4uNBr51eoaH8XTfFiFn62Q54BCVikPreJ3NuiJA916dw6yB5s4JlyvtsXnUZDVX6fQu6NH2BNjug+pbNENv5ebfZK8C6qdXKZz/3uzpG8n8rMEM1gFKIZrJvWrcO97+0FXLnVXyOF1S+wqS9qrxfmyX30RM32zFWqKd8Sq+YxtmruYo9V9fFq6JJaTXLf7eP4vWCPWPz0eSxEv8tc6S5e+hXl9gYLj9RRwMwQzWAUohmMQobahki7cUg3zzlGoZXtN2dB9ux1+u6tGx+C7O3Hl9ktcCylPJ7VeKW41Ws/3EGXeDJLn3WF3/3gr3QWeuaPdI0ugvtYlfR/ATNDNINRyFBTVkK0N5HODvkm5faP3oC+X6DfT8BeW7Q/HCf+/rLIcn6Lxp7700dKJ5gZohmMQjSDUYjSC/8FY1XqYPzA8V8AAAAASUVORK5CYII=\" id=\"imagef14f865194\" transform=\"scale(1 -1) translate(0 -72)\" x=\"351.565714\" y=\"-35.498357\" width=\"72\" height=\"72\"/>\n   </g>\n   <g id=\"patch_23\">\n    <path d=\"M 351.565714 107.498357 \nL 351.565714 35.7555 \n\" style=\"fill: none; stroke: #000000; stroke-width: 0.8; stroke-linejoin: miter; stroke-linecap: square\"/>\n   </g>\n   <g id=\"patch_24\">\n    <path d=\"M 423.308571 107.498357 \nL 423.308571 35.7555 \n\" style=\"fill: none; stroke: #000000; stroke-width: 0.8; stroke-linejoin: miter; stroke-linecap: square\"/>\n   </g>\n   <g id=\"patch_25\">\n    <path d=\"M 351.565714 107.498357 \nL 423.308571 107.498357 \n\" style=\"fill: none; stroke: #000000; stroke-width: 0.8; stroke-linejoin: miter; stroke-linecap: square\"/>\n   </g>\n   <g id=\"patch_26\">\n    <path d=\"M 351.565714 35.7555 \nL 423.308571 35.7555 \n\" style=\"fill: none; stroke: #000000; stroke-width: 0.8; stroke-linejoin: miter; stroke-linecap: square\"/>\n   </g>\n   <g id=\"text_5\">\n    <!-- shirt -->\n    <g transform=\"translate(374.023393 16.318125) scale(0.12 -0.12)\">\n     <defs>\n      <path id=\"DejaVuSans-68\" d=\"M 3513 2113 \nL 3513 0 \nL 2938 0 \nL 2938 2094 \nQ 2938 2591 2744 2837 \nQ 2550 3084 2163 3084 \nQ 1697 3084 1428 2787 \nQ 1159 2491 1159 1978 \nL 1159 0 \nL 581 0 \nL 581 4863 \nL 1159 4863 \nL 1159 2956 \nQ 1366 3272 1645 3428 \nQ 1925 3584 2291 3584 \nQ 2894 3584 3203 3211 \nQ 3513 2838 3513 2113 \nz\n\" transform=\"scale(0.015625)\"/>\n      <path id=\"DejaVuSans-69\" d=\"M 603 3500 \nL 1178 3500 \nL 1178 0 \nL 603 0 \nL 603 3500 \nz\nM 603 4863 \nL 1178 4863 \nL 1178 4134 \nL 603 4134 \nL 603 4863 \nz\n\" transform=\"scale(0.015625)\"/>\n     </defs>\n     <use xlink:href=\"#DejaVuSans-73\"/>\n     <use xlink:href=\"#DejaVuSans-68\" x=\"52.099609\"/>\n     <use xlink:href=\"#DejaVuSans-69\" x=\"115.478516\"/>\n     <use xlink:href=\"#DejaVuSans-72\" x=\"143.261719\"/>\n     <use xlink:href=\"#DejaVuSans-74\" x=\"184.375\"/>\n    </g>\n    <!-- shirt -->\n    <g transform=\"translate(374.023393 29.7555) scale(0.12 -0.12)\">\n     <use xlink:href=\"#DejaVuSans-73\"/>\n     <use xlink:href=\"#DejaVuSans-68\" x=\"52.099609\"/>\n     <use xlink:href=\"#DejaVuSans-69\" x=\"115.478516\"/>\n     <use xlink:href=\"#DejaVuSans-72\" x=\"143.261719\"/>\n     <use xlink:href=\"#DejaVuSans-74\" x=\"184.375\"/>\n    </g>\n   </g>\n  </g>\n  <g id=\"axes_6\">\n   <g id=\"patch_27\">\n    <path d=\"M 437.657143 107.498357 \nL 509.4 107.498357 \nL 509.4 35.7555 \nL 437.657143 35.7555 \nz\n\" style=\"fill: #ffffff\"/>\n   </g>\n   <g clip-path=\"url(#pa5836883f6)\">\n    <image xlink:href=\"data:image/png;base64,\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\" id=\"imaged2d96bda21\" transform=\"scale(1 -1) translate(0 -72)\" x=\"437.657143\" y=\"-35.498357\" width=\"72\" height=\"72\"/>\n   </g>\n   <g id=\"patch_28\">\n    <path d=\"M 437.657143 107.498357 \nL 437.657143 35.7555 \n\" style=\"fill: none; stroke: #000000; stroke-width: 0.8; stroke-linejoin: miter; stroke-linecap: square\"/>\n   </g>\n   <g id=\"patch_29\">\n    <path d=\"M 509.4 107.498357 \nL 509.4 35.7555 \n\" style=\"fill: none; stroke: #000000; stroke-width: 0.8; stroke-linejoin: miter; stroke-linecap: square\"/>\n   </g>\n   <g id=\"patch_30\">\n    <path d=\"M 437.657143 107.498357 \nL 509.4 107.498357 \n\" style=\"fill: none; stroke: #000000; stroke-width: 0.8; stroke-linejoin: miter; stroke-linecap: square\"/>\n   </g>\n   <g id=\"patch_31\">\n    <path d=\"M 437.657143 35.7555 \nL 509.4 35.7555 \n\" style=\"fill: none; stroke: #000000; stroke-width: 0.8; stroke-linejoin: miter; stroke-linecap: square\"/>\n   </g>\n   <g id=\"text_6\">\n    <!-- trouser -->\n    <g transform=\"translate(452.087009 16.318125) scale(0.12 -0.12)\">\n     <use xlink:href=\"#DejaVuSans-74\"/>\n     <use xlink:href=\"#DejaVuSans-72\" x=\"39.208984\"/>\n     <use xlink:href=\"#DejaVuSans-6f\" x=\"78.072266\"/>\n     <use xlink:href=\"#DejaVuSans-75\" x=\"139.253906\"/>\n     <use xlink:href=\"#DejaVuSans-73\" x=\"202.632812\"/>\n     <use xlink:href=\"#DejaVuSans-65\" x=\"254.732422\"/>\n     <use xlink:href=\"#DejaVuSans-72\" x=\"316.255859\"/>\n    </g>\n    <!-- trouser -->\n    <g transform=\"translate(452.087009 29.7555) scale(0.12 -0.12)\">\n     <use xlink:href=\"#DejaVuSans-74\"/>\n     <use xlink:href=\"#DejaVuSans-72\" x=\"39.208984\"/>\n     <use xlink:href=\"#DejaVuSans-6f\" x=\"78.072266\"/>\n     <use xlink:href=\"#DejaVuSans-75\" x=\"139.253906\"/>\n     <use xlink:href=\"#DejaVuSans-73\" x=\"202.632812\"/>\n     <use xlink:href=\"#DejaVuSans-65\" x=\"254.732422\"/>\n     <use xlink:href=\"#DejaVuSans-72\" x=\"316.255859\"/>\n    </g>\n   </g>\n  </g>\n </g>\n <defs>\n  <clipPath id=\"p6822dc9566\">\n   <rect x=\"7.2\" y=\"35.7555\" width=\"71.742857\" height=\"71.742857\"/>\n  </clipPath>\n  <clipPath id=\"pf04f5b7eed\">\n   <rect x=\"93.291429\" y=\"35.7555\" width=\"71.742857\" height=\"71.742857\"/>\n  </clipPath>\n  <clipPath id=\"p242693bbc3\">\n   <rect x=\"179.382857\" y=\"35.7555\" width=\"71.742857\" height=\"71.742857\"/>\n  </clipPath>\n  <clipPath id=\"p15d017746c\">\n   <rect x=\"265.474286\" y=\"35.7555\" width=\"71.742857\" height=\"71.742857\"/>\n  </clipPath>\n  <clipPath id=\"pa30bc73125\">\n   <rect x=\"351.565714\" y=\"35.7555\" width=\"71.742857\" height=\"71.742857\"/>\n  </clipPath>\n  <clipPath id=\"pa5836883f6\">\n   <rect x=\"437.657143\" y=\"35.7555\" width=\"71.742857\" height=\"71.742857\"/>\n  </clipPath>\n </defs>\n</svg>\n"
     },
     "metadata": {},
     "output_type": "display_data"
    }
   ],
   "execution_count": 213
  },
  {
   "metadata": {
    "ExecuteTime": {
     "end_time": "2025-02-20T01:36:08.777312Z",
     "start_time": "2025-02-20T01:36:08.775359Z"
    }
   },
   "cell_type": "code",
   "source": [
    "import torch\n",
    "from torch import nn\n",
    "from d2l import torch as d2l"
   ],
   "id": "dc38eb00f6330f22",
   "outputs": [],
   "execution_count": 216
  },
  {
   "metadata": {
    "ExecuteTime": {
     "end_time": "2025-02-20T01:36:17.548863Z",
     "start_time": "2025-02-20T01:36:17.529455Z"
    }
   },
   "cell_type": "code",
   "source": [
    "batch_size = 256\n",
    "train_iter, test_iter = d2l.load_data_fashion_mnist(batch_size)"
   ],
   "id": "b982fd3e36bbd964",
   "outputs": [],
   "execution_count": 217
  },
  {
   "metadata": {
    "ExecuteTime": {
     "end_time": "2025-02-20T01:43:19.022896Z",
     "start_time": "2025-02-20T01:43:19.019079Z"
    }
   },
   "cell_type": "code",
   "source": [
    "\"\"\"PyTorch 不会隐式地调整输入的形状。因此，我们在线性层前面定义了展平层(flatten)，来调整网络输入的形状\"\"\"\n",
    "net = nn.Sequential(nn.Flatten(), nn.Linear(num_inputs, num_outputs))\n",
    "\n",
    "def init_weights(m):\n",
    "    if type(m) == nn.Linear:\n",
    "        nn.init.normal_(m.weight, std=0.01)\n",
    "\n",
    "net.apply(init_weights)"
   ],
   "id": "8816e60ae8a3caf1",
   "outputs": [
    {
     "data": {
      "text/plain": [
       "Sequential(\n",
       "  (0): Flatten(start_dim=1, end_dim=-1)\n",
       "  (1): Linear(in_features=784, out_features=10, bias=True)\n",
       ")"
      ]
     },
     "execution_count": 221,
     "metadata": {},
     "output_type": "execute_result"
    }
   ],
   "execution_count": 221
  },
  {
   "metadata": {},
   "cell_type": "markdown",
   "source": [
    "回想一下，softmax 函数\n",
    "$$\n",
    "\\hat y_j = \\dfrac{\\exp(o_j)}{\\sum_k \\exp(o_k)}\n",
    "$$\n",
    "如果 $o_k$ 中的一些数值非常大，那么 $\\exp(o_k)$ 可能大于数据类型容许的最大数字，即上溢 (overflow)。这将使分母或分子变为 `inf`（无穷大），最后得到的是 `inf`、 `0` 或是 `nan` 的 $\\hat y_j$。\n",
    "解决这个问题的一个技巧是：在继续 softmax 计算之前，先从所有 $o_k$ 中减去 $\\max(o_k)$。这里可以看到每个 $o_k$ 按常数进行的移动不会改变 softmax 的返回值：\n",
    "$$\n",
    "\\begin{aligned}\n",
    "\\hat y_j &= \\frac{\\exp(o_j - \\max(o_k))\\exp(\\max(o_k))}{\\sum_k \\exp(o_j - \\max(o_k))\\exp(\\max(o_k))}\\\\\n",
    "&= \\frac{\\exp(o_j - \\max(o_k))}{\\sum_k \\exp(o_j - \\max(o_k))}\n",
    "\\end{aligned}\n",
    "$$\n",
    "然而，在减法和规范化步骤之后，可能有些 $o_j - \\max(o_k)$ 具有较大的负值。由于精度受限，$\\exp(o_j - \\max(o_k))$ 将有接近零的值，即下溢 (underflow)。这些值可能会四舍五入为零，使 $\\hat y_j$ 为零，并且使得 $\\ln(\\hat y_j)$ 的值为 `-inf`。反向传播几步后将全是 `nan`。\n",
    "\n",
    "尽管我们要计算指数函数，但我们在最终计算交叉熵损失时会取它们的对数。通过将 softmax 和交叉熵结合在一起，可以避免反向传播过程中可能会困扰我们的数值稳定性问题。如下面的等式所示，我们避免计算 $\\exp(o_j - \\max(o_k))$，而可以直接使用 $o_j - \\max(o_k)$，因为 $\\ln(\\exp(\\cdot))$ 被抵消了。\n",
    "$$\n",
    "\\begin{aligned}\n",
    "\\ln(\\hat y_j) &= \\ln\\left(\\dfrac{\\exp(o_j - \\max(o_k))}{\\sum_k \\exp(o_k - \\max(o_k))} \\right)\\\\\n",
    "&= \\ln(\\exp(o_j - \\max(o_k))) - \\ln\\left(\\sum_k \\exp(o_k - \\max(o_k)) \\right)\\\\\n",
    "&= o_j - \\max(o_k) - \\ln\\left(\\sum\\limits_k \\exp(o_k) - \\max(o_k) \\right).\n",
    "\\end{aligned}\n",
    "$$\n",
    "而最下边的 ln 函数因为要计算所有指数值之和，所以下溢造成的误差就可以忽略不计了。"
   ],
   "id": "e488f1f9d53e957f"
  },
  {
   "metadata": {
    "ExecuteTime": {
     "end_time": "2025-02-20T02:02:47.380366Z",
     "start_time": "2025-02-20T02:02:47.378285Z"
    }
   },
   "cell_type": "code",
   "source": "loss = nn.CrossEntropyLoss(reduction='none')",
   "id": "49f3bfac0f3271fe",
   "outputs": [],
   "execution_count": 222
  },
  {
   "metadata": {
    "ExecuteTime": {
     "end_time": "2025-02-20T02:03:14.936900Z",
     "start_time": "2025-02-20T02:03:14.934700Z"
    }
   },
   "cell_type": "code",
   "source": "trainer = torch.optim.SGD(net.parameters(), lr=0.1)",
   "id": "6ab1bb682f097af0",
   "outputs": [],
   "execution_count": 223
  },
  {
   "metadata": {},
   "cell_type": "code",
   "source": [
    "num_epochs = 10\n",
    "train_ch3(net, train_iter, test_iter, loss, num_epochs, trainer)"
   ],
   "id": "7876e577e6a94ec1",
   "execution_count": 261,
   "outputs": []
  },
  {
   "metadata": {
    "ExecuteTime": {
     "end_time": "2025-02-20T04:19:19.666805Z",
     "start_time": "2025-02-20T04:19:18.397595Z"
    }
   },
   "cell_type": "code",
   "source": [
    "import torch\n",
    "if torch.backends.mps.is_available():\n",
    "    mps_device = torch.device(\"mps\")\n",
    "    x = torch.ones(1, device=mps_device)\n",
    "    print (x)\n",
    "else:\n",
    "    print (\"MPS device not found.\")"
   ],
   "id": "21b4f341ff1bc91d",
   "outputs": [
    {
     "name": "stdout",
     "output_type": "stream",
     "text": [
      "tensor([1.], device='mps:0')\n"
     ]
    }
   ],
   "execution_count": 232
  }
 ],
 "metadata": {
  "kernelspec": {
   "display_name": "Python 3",
   "language": "python",
   "name": "python3"
  },
  "language_info": {
   "codemirror_mode": {
    "name": "ipython",
    "version": 2
   },
   "file_extension": ".py",
   "mimetype": "text/x-python",
   "name": "python",
   "nbconvert_exporter": "python",
   "pygments_lexer": "ipython2",
   "version": "2.7.6"
  }
 },
 "nbformat": 4,
 "nbformat_minor": 5
}
