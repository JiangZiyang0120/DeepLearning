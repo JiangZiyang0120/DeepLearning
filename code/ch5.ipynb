{
 "cells": [
  {
   "metadata": {
    "ExecuteTime": {
     "end_time": "2025-02-25T00:59:48.724237Z",
     "start_time": "2025-02-25T00:59:48.721119Z"
    }
   },
   "cell_type": "code",
   "source": [
    "import torch\n",
    "from sympy.physics.vector.printing import params\n",
    "from torch import nn\n",
    "import d2l"
   ],
   "id": "b46ff6b0035f7903",
   "outputs": [],
   "execution_count": 3
  },
  {
   "metadata": {
    "collapsed": true,
    "ExecuteTime": {
     "end_time": "2025-02-25T00:59:52.880949Z",
     "start_time": "2025-02-25T00:59:52.876535Z"
    }
   },
   "cell_type": "code",
   "source": [
    "# 这个块包含一个多层感知机，其具有256个隐藏单元的隐藏层和一个10维输出层。\n",
    "# 该MLP类继承了表示块的类。我们的实现只需要提供我们自己的构造函数和前向传播函数即可\n",
    "class MLP(nn.Module):\n",
    "    def __init__(self, input_size, hidden_size, output_size):\n",
    "        # 首先调用父类 Module 的构造函数来执行必要的初始化\n",
    "        super(MLP, self).__init__()\n",
    "        self.hidden = nn.Linear(20, 256)\n",
    "        self.out = nn.Linear(256, 10)\n",
    "\n",
    "        # 定义模型的前向传播，即如何根据输入X返回所需的模型输出\n",
    "    def forward(self, X):\n",
    "        return self.out(F.relu(self.hidden(X)))"
   ],
   "id": "initial_id",
   "outputs": [],
   "execution_count": 4
  },
  {
   "metadata": {
    "ExecuteTime": {
     "end_time": "2025-02-25T01:05:43.004011Z",
     "start_time": "2025-02-25T01:05:43.000647Z"
    }
   },
   "cell_type": "code",
   "source": [
    "class MySequential(nn.Module):\n",
    "    \"\"\"\n",
    "    接下来考虑顺序块 Sequential 类是如何工作的\n",
    "    Sequential 的设计是为了把其他模块串起来。为了构建我们自己的简化的 MySequential，我们需要定义两个函数：\n",
    "    1. 一种将块逐个追加到列表中的函数；\n",
    "    2. 一种前向传播函数，用于将输入按追加的顺序传递给块组成“链条”\n",
    "    \"\"\"\n",
    "    def __init__(selfself, *args):\n",
    "        Super().__init__()\n",
    "        for idx, module in enumerate(args):\n",
    "            # 这里， module 是 Module 子类的一个实例。我们把它保存在 Module 类的成员变量 _modules 中。_module的类型是 OrderedDict\n",
    "            self._modules[str(idx)] = module\n",
    "\n",
    "    def forward(self, X):\n",
    "        # OrderedDict 保证了按照成员添加的顺序遍历它们\n",
    "        for block in self._modules.values():\n",
    "            X = block(X)\n",
    "        return X"
   ],
   "id": "c9be3cb3aa1093ac",
   "outputs": [],
   "execution_count": 5
  },
  {
   "metadata": {
    "ExecuteTime": {
     "end_time": "2025-02-25T01:55:53.848900Z",
     "start_time": "2025-02-25T01:55:53.846300Z"
    }
   },
   "cell_type": "code",
   "source": [
    "# 自定义 Module 并实现 forward 函数\n",
    "class FixedHiddenMLP(nn.Module):\n",
    "    def __init__(self, input_size):\n",
    "        super(FixedHiddenMLP, self).__init__()\n",
    "        # 不计算梯度的随机权重参数，在训练期间保持不变\n",
    "        self.rand_weight = torch.rand((20, 20), requires_grad=False)\n",
    "        self.linear = nn.Linear(input_size, input_size)\n",
    "\n",
    "    def forward(selfself, X):\n",
    "        X = self.linear(X)\n",
    "        # 使用创建的常量参数以及 relu 和 mm 函数\n",
    "        X = F.relu(torch.mm(X, self.rand_weight) + 1)\n",
    "        # 复用全连接层。这相当于两个全连接层共享参数\n",
    "        X = self.linear(X)\n",
    "        # 控制流\n",
    "        while X.abs().sum() > 1:\n",
    "            X /= 2\n",
    "        return X.sum()"
   ],
   "id": "e65f6b439d14ea8d",
   "outputs": [],
   "execution_count": 6
  },
  {
   "metadata": {
    "ExecuteTime": {
     "end_time": "2025-02-25T01:55:55.005359Z",
     "start_time": "2025-02-25T01:55:55.003098Z"
    }
   },
   "cell_type": "code",
   "source": "",
   "id": "c3b893de151bc98b",
   "outputs": [],
   "execution_count": null
  },
  {
   "metadata": {
    "ExecuteTime": {
     "end_time": "2025-02-25T02:07:02.674926Z",
     "start_time": "2025-02-25T02:07:02.670720Z"
    }
   },
   "cell_type": "code",
   "source": [
    "import torch\n",
    "from torch import nn\n",
    "\n",
    "net = nn.Sequential(nn.Linear(4, 8), nn.ReLU(), nn.Linear(8,1))\n",
    "X = torch.rand(size=(2,4))\n",
    "y = net(X)"
   ],
   "id": "d2dd68c206322a02",
   "outputs": [],
   "execution_count": 21
  },
  {
   "metadata": {
    "ExecuteTime": {
     "end_time": "2025-02-25T02:07:03.185198Z",
     "start_time": "2025-02-25T02:07:03.180856Z"
    }
   },
   "cell_type": "code",
   "source": "print(net[2].state_dict())",
   "id": "209edbbeeded7189",
   "outputs": [
    {
     "name": "stdout",
     "output_type": "stream",
     "text": [
      "OrderedDict([('weight', tensor([[-0.2649, -0.2580,  0.1591,  0.1057, -0.1232,  0.0184, -0.1005,  0.3013]])), ('bias', tensor([0.2092]))])\n"
     ]
    }
   ],
   "execution_count": 22
  },
  {
   "metadata": {
    "ExecuteTime": {
     "end_time": "2025-02-25T02:07:03.878553Z",
     "start_time": "2025-02-25T02:07:03.874129Z"
    }
   },
   "cell_type": "code",
   "source": [
    "print(type(net[2].bias))\n",
    "print(net[2].bias)\n",
    "print(net[2].bias.data)"
   ],
   "id": "5111b2b05c53f25f",
   "outputs": [
    {
     "name": "stdout",
     "output_type": "stream",
     "text": [
      "<class 'torch.nn.parameter.Parameter'>\n",
      "Parameter containing:\n",
      "tensor([0.2092], requires_grad=True)\n",
      "tensor([0.2092])\n"
     ]
    }
   ],
   "execution_count": 23
  },
  {
   "metadata": {
    "ExecuteTime": {
     "end_time": "2025-02-25T02:07:04.596207Z",
     "start_time": "2025-02-25T02:07:04.592073Z"
    }
   },
   "cell_type": "code",
   "source": "net[2].weight.grad == None",
   "id": "d6ead1957ed22e3e",
   "outputs": [
    {
     "data": {
      "text/plain": [
       "True"
      ]
     },
     "execution_count": 24,
     "metadata": {},
     "output_type": "execute_result"
    }
   ],
   "execution_count": 24
  },
  {
   "metadata": {
    "ExecuteTime": {
     "end_time": "2025-02-25T02:10:00.412850Z",
     "start_time": "2025-02-25T02:10:00.409579Z"
    }
   },
   "cell_type": "code",
   "source": "print(*[(name, param.shape) for name, param in net.named_parameters()])",
   "id": "15dc5b26c31b0de9",
   "outputs": [
    {
     "name": "stdout",
     "output_type": "stream",
     "text": [
      "('0.weight', torch.Size([8, 4])) ('0.bias', torch.Size([8])) ('2.weight', torch.Size([1, 8])) ('2.bias', torch.Size([1]))\n"
     ]
    }
   ],
   "execution_count": 25
  },
  {
   "metadata": {
    "ExecuteTime": {
     "end_time": "2025-02-25T02:10:19.986700Z",
     "start_time": "2025-02-25T02:10:19.983830Z"
    }
   },
   "cell_type": "code",
   "source": "net.state_dict()[\"2.bias\"].data",
   "id": "79c2efc8f7d75c44",
   "outputs": [
    {
     "data": {
      "text/plain": [
       "tensor([0.2092])"
      ]
     },
     "execution_count": 26,
     "metadata": {},
     "output_type": "execute_result"
    }
   ],
   "execution_count": 26
  },
  {
   "metadata": {
    "ExecuteTime": {
     "end_time": "2025-02-25T03:05:39.010171Z",
     "start_time": "2025-02-25T03:05:39.003331Z"
    }
   },
   "cell_type": "code",
   "source": [
    "def block1():\n",
    "    return nn.Sequential(nn.Linear(4, 8), nn.ReLU(),\n",
    "                         nn.Linear(8, 4), nn.ReLU())\n",
    "\n",
    "def block2():\n",
    "    net = nn.Sequential()\n",
    "    for i in range(4):\n",
    "        net.add_module(f\"block{i}\", block1())\n",
    "    return net\n",
    "\n",
    "regnet = nn.Sequential(block2(), nn.Linear(4,1))\n",
    "regnet(X)"
   ],
   "id": "f498871ed38e6e7e",
   "outputs": [
    {
     "data": {
      "text/plain": [
       "tensor([[-0.1216],\n",
       "        [-0.1216]], grad_fn=<AddmmBackward0>)"
      ]
     },
     "execution_count": 34,
     "metadata": {},
     "output_type": "execute_result"
    }
   ],
   "execution_count": 34
  },
  {
   "metadata": {
    "ExecuteTime": {
     "end_time": "2025-02-25T03:07:01.613980Z",
     "start_time": "2025-02-25T03:07:01.611381Z"
    }
   },
   "cell_type": "code",
   "source": "print(regnet)",
   "id": "29e76647c15a6826",
   "outputs": [
    {
     "name": "stdout",
     "output_type": "stream",
     "text": [
      "Sequential(\n",
      "  (0): Sequential(\n",
      "    (block0): Sequential(\n",
      "      (0): Linear(in_features=4, out_features=8, bias=True)\n",
      "      (1): ReLU()\n",
      "      (2): Linear(in_features=8, out_features=4, bias=True)\n",
      "      (3): ReLU()\n",
      "    )\n",
      "    (block1): Sequential(\n",
      "      (0): Linear(in_features=4, out_features=8, bias=True)\n",
      "      (1): ReLU()\n",
      "      (2): Linear(in_features=8, out_features=4, bias=True)\n",
      "      (3): ReLU()\n",
      "    )\n",
      "    (block2): Sequential(\n",
      "      (0): Linear(in_features=4, out_features=8, bias=True)\n",
      "      (1): ReLU()\n",
      "      (2): Linear(in_features=8, out_features=4, bias=True)\n",
      "      (3): ReLU()\n",
      "    )\n",
      "    (block3): Sequential(\n",
      "      (0): Linear(in_features=4, out_features=8, bias=True)\n",
      "      (1): ReLU()\n",
      "      (2): Linear(in_features=8, out_features=4, bias=True)\n",
      "      (3): ReLU()\n",
      "    )\n",
      "  )\n",
      "  (1): Linear(in_features=4, out_features=1, bias=True)\n",
      ")\n"
     ]
    }
   ],
   "execution_count": 35
  },
  {
   "metadata": {
    "ExecuteTime": {
     "end_time": "2025-02-25T03:07:47.393966Z",
     "start_time": "2025-02-25T03:07:47.391156Z"
    }
   },
   "cell_type": "code",
   "source": "regnet[0][1][0].bias.data",
   "id": "ef2e80f81ef1fc30",
   "outputs": [
    {
     "data": {
      "text/plain": [
       "tensor([ 0.3782, -0.1245, -0.3083, -0.3703,  0.2460,  0.0506,  0.3627, -0.4484])"
      ]
     },
     "execution_count": 36,
     "metadata": {},
     "output_type": "execute_result"
    }
   ],
   "execution_count": 36
  },
  {
   "metadata": {
    "ExecuteTime": {
     "end_time": "2025-02-25T03:12:33.371971Z",
     "start_time": "2025-02-25T03:12:33.367073Z"
    }
   },
   "cell_type": "code",
   "source": [
    "def init_normal(m):\n",
    "    if type(m) == nn.Linear:\n",
    "        nn.init.normal_(m.weight, mean=0, std=0.01)\n",
    "        nn.init.zeros_(m.bias)\n",
    "\n",
    "net.apply(init_normal)\n",
    "net[0].weight.data[0], net[0].bias.data[0]"
   ],
   "id": "15fd2ea555f4c496",
   "outputs": [
    {
     "data": {
      "text/plain": [
       "(tensor([-0.0062,  0.0044,  0.0095,  0.0020]), tensor(0.))"
      ]
     },
     "execution_count": 37,
     "metadata": {},
     "output_type": "execute_result"
    }
   ],
   "execution_count": 37
  },
  {
   "metadata": {
    "ExecuteTime": {
     "end_time": "2025-02-25T03:13:50.789967Z",
     "start_time": "2025-02-25T03:13:50.784710Z"
    }
   },
   "cell_type": "code",
   "source": [
    "def init_constant(m):\n",
    "    if type(m) == nn.Linear:\n",
    "        nn.init.constant_(m.weight, 1)\n",
    "        nn.init.zeros_(m.bias)\n",
    "\n",
    "net.apply(init_constant)\n",
    "net[0].weight.data[0], net[0].bias.data[0]"
   ],
   "id": "ca54d3f609d9d87c",
   "outputs": [
    {
     "data": {
      "text/plain": [
       "(tensor([1., 1., 1., 1.]), tensor(0.))"
      ]
     },
     "execution_count": 39,
     "metadata": {},
     "output_type": "execute_result"
    }
   ],
   "execution_count": 39
  },
  {
   "metadata": {
    "ExecuteTime": {
     "end_time": "2025-02-25T03:15:33.967653Z",
     "start_time": "2025-02-25T03:15:33.963533Z"
    }
   },
   "cell_type": "code",
   "source": [
    "def init_xavier(m):\n",
    "    if type(m) == nn.Linear:\n",
    "        nn.init.xavier_uniform_(m.weight)\n",
    "\n",
    "def init_42(m):\n",
    "    if type(m) == nn.Linear:\n",
    "        nn.init.constant_(m.weight, 42)\n",
    "\n",
    "net[0].apply(init_xavier)\n",
    "net[2].apply(init_42)\n",
    "print(net[0].weight.data[0])\n",
    "print(net[2].weight.data)"
   ],
   "id": "81694916b50d7397",
   "outputs": [
    {
     "name": "stdout",
     "output_type": "stream",
     "text": [
      "tensor([ 0.4689, -0.5319, -0.3076, -0.4791])\n",
      "tensor([[42., 42., 42., 42., 42., 42., 42., 42.]])\n"
     ]
    }
   ],
   "execution_count": 40
  },
  {
   "metadata": {
    "ExecuteTime": {
     "end_time": "2025-02-25T03:22:28.853229Z",
     "start_time": "2025-02-25T03:22:28.848528Z"
    }
   },
   "cell_type": "code",
   "source": [
    "def my_init(m):\n",
    "    if type(m) == nn.Linear:\n",
    "        print(\"Init\", *[(name, param.shape)\n",
    "                        for name, param in m.named_parameters()][0])\n",
    "        nn.init.uniform_(m.weight, -10, 10)\n",
    "        m.weight.data *= m.weight.data.abs() >= 5\n",
    "\n",
    "net.apply(my_init)\n",
    "print(net[0].weight[:2])"
   ],
   "id": "9dbb5c79b7a0aed1",
   "outputs": [
    {
     "name": "stdout",
     "output_type": "stream",
     "text": [
      "Init weight torch.Size([8, 4])\n",
      "Init weight torch.Size([1, 8])\n",
      "tensor([[-8.6139, -0.0000, -8.1797,  8.2329],\n",
      "        [ 8.3309, -8.4074, -0.0000, -0.0000]], grad_fn=<SliceBackward0>)\n"
     ]
    }
   ],
   "execution_count": 44
  },
  {
   "metadata": {
    "ExecuteTime": {
     "end_time": "2025-02-25T03:24:06.567643Z",
     "start_time": "2025-02-25T03:24:06.564131Z"
    }
   },
   "cell_type": "code",
   "source": [
    "net[0].weight.data[:] += 1\n",
    "net[0].weight.data[0, 0] = 42\n",
    "net[0].weight.data"
   ],
   "id": "751262e7a4064ceb",
   "outputs": [
    {
     "data": {
      "text/plain": [
       "tensor([[42.0000,  3.0000, -5.1797, 11.2329],\n",
       "        [11.3309, -5.4074,  3.0000,  3.0000],\n",
       "        [12.0012,  3.0000,  3.0000,  3.0000],\n",
       "        [ 3.0000, 12.2128, -5.7434,  3.0000],\n",
       "        [ 3.0000,  9.3810, 12.7544,  9.6391],\n",
       "        [ 3.0000,  9.1548,  3.0000, 12.9924],\n",
       "        [11.3120,  3.0000, -5.1478, -4.8658],\n",
       "        [-6.4457,  3.0000, 11.0230, -2.5043]])"
      ]
     },
     "execution_count": 48,
     "metadata": {},
     "output_type": "execute_result"
    }
   ],
   "execution_count": 48
  },
  {
   "metadata": {
    "ExecuteTime": {
     "end_time": "2025-02-25T03:28:34.756601Z",
     "start_time": "2025-02-25T03:28:34.751294Z"
    }
   },
   "cell_type": "code",
   "source": [
    "# 有时我们希望在多个层间共享参数：我们可以定义一个稠密层，然后使用它的参数来设置另一个层的参数。\n",
    "# 我们需要给共享层一个名称，以便可以引用它的参数\n",
    "shared = nn.Linear(8, 8)\n",
    "net = nn.Sequential(nn.Linear(4, 8), nn.ReLU(),\n",
    "                    shared, nn.ReLU(),\n",
    "                    shared, nn.ReLU(),\n",
    "                    nn.Linear(8, 1))\n",
    "\n",
    "net(X)\n",
    "# 检查参数是否相同\n",
    "print(net[2].weight.data[0] == net[4].weight.data[0])\n",
    "# 确保它们实际上是同一个对象，而不是只有相同的值\n",
    "net[2].weight.data[0,0] = 100\n",
    "print(net[2].weight.data[0] == net[4].weight.data[0])"
   ],
   "id": "c0021c12286481ef",
   "outputs": [
    {
     "name": "stdout",
     "output_type": "stream",
     "text": [
      "tensor([True, True, True, True, True, True, True, True])\n",
      "tensor([True, True, True, True, True, True, True, True])\n"
     ]
    }
   ],
   "execution_count": 49
  },
  {
   "metadata": {
    "ExecuteTime": {
     "end_time": "2025-02-25T03:46:00.387905Z",
     "start_time": "2025-02-25T03:46:00.384579Z"
    }
   },
   "cell_type": "code",
   "source": [
    "import torch\n",
    "import torch.nn.functional as F\n",
    "from torch import nn\n",
    "\n",
    "class CenteredLayer(nn.Module):\n",
    "    def __init__(self):\n",
    "        super().__init__()\n",
    "\n",
    "    def forward(self, X):\n",
    "        return X - X.mean()"
   ],
   "id": "efdd201ae6518037",
   "outputs": [],
   "execution_count": 53
  },
  {
   "metadata": {
    "ExecuteTime": {
     "end_time": "2025-02-25T03:46:01.264616Z",
     "start_time": "2025-02-25T03:46:01.260515Z"
    }
   },
   "cell_type": "code",
   "source": [
    "layer = CenteredLayer()\n",
    "layer(torch.FloatTensor([1, 2, 3, 4, 5]))"
   ],
   "id": "37badcb282ed2067",
   "outputs": [
    {
     "data": {
      "text/plain": [
       "tensor([-2., -1.,  0.,  1.,  2.])"
      ]
     },
     "execution_count": 54,
     "metadata": {},
     "output_type": "execute_result"
    }
   ],
   "execution_count": 54
  },
  {
   "metadata": {
    "ExecuteTime": {
     "end_time": "2025-02-25T03:46:32.087130Z",
     "start_time": "2025-02-25T03:46:32.084288Z"
    }
   },
   "cell_type": "code",
   "source": "net = nn.Sequential(nn.Linear(8, 128), CenteredLayer())",
   "id": "8efda45ca2eb98c6",
   "outputs": [],
   "execution_count": 55
  },
  {
   "metadata": {
    "ExecuteTime": {
     "end_time": "2025-02-25T03:47:11.477950Z",
     "start_time": "2025-02-25T03:47:11.475284Z"
    }
   },
   "cell_type": "code",
   "source": [
    "Y = net(torch.rand(4, 8))\n",
    "Y.mean()"
   ],
   "id": "a564a05aae4d796f",
   "outputs": [
    {
     "data": {
      "text/plain": [
       "tensor(-3.7253e-09, grad_fn=<MeanBackward0>)"
      ]
     },
     "execution_count": 56,
     "metadata": {},
     "output_type": "execute_result"
    }
   ],
   "execution_count": 56
  },
  {
   "metadata": {
    "ExecuteTime": {
     "end_time": "2025-02-25T03:52:55.411544Z",
     "start_time": "2025-02-25T03:52:55.408147Z"
    }
   },
   "cell_type": "code",
   "source": [
    "# 自定义版本的全连接层\n",
    "class MyLinear(nn.Module):\n",
    "    def __init__(self, in_units, units):\n",
    "        \"\"\"\n",
    "        :param in_units: 输入数\n",
    "        :param units:  输出数\n",
    "        两个参数共同确定了全连接层的维度\n",
    "        \"\"\"\n",
    "        super().__init__()\n",
    "        self.weight = nn.Parameter(torch.randn(in_units, units))\n",
    "        self.bias = nn.Parameter(torch.randn(units,))\n",
    "\n",
    "    def forward(self, X):\n",
    "        linear = torch.matmul(X, self.weight.data) + self.bias.data\n",
    "        return F.relu(linear)"
   ],
   "id": "8947398c2c1bed7e",
   "outputs": [],
   "execution_count": 57
  },
  {
   "metadata": {
    "ExecuteTime": {
     "end_time": "2025-02-25T03:53:16.226654Z",
     "start_time": "2025-02-25T03:53:16.222991Z"
    }
   },
   "cell_type": "code",
   "source": [
    "linear = MyLinear(5, 3)\n",
    "linear.weight"
   ],
   "id": "89857f9abd120fbc",
   "outputs": [
    {
     "data": {
      "text/plain": [
       "Parameter containing:\n",
       "tensor([[ 0.6505, -1.9611,  0.6972],\n",
       "        [-0.8842,  0.0967,  1.2107],\n",
       "        [-1.1519,  0.3771, -0.6761],\n",
       "        [ 1.6588,  0.7082, -0.3434],\n",
       "        [-1.0368, -1.1241, -2.0085]], requires_grad=True)"
      ]
     },
     "execution_count": 58,
     "metadata": {},
     "output_type": "execute_result"
    }
   ],
   "execution_count": 58
  },
  {
   "metadata": {
    "ExecuteTime": {
     "end_time": "2025-02-25T06:12:54.192731Z",
     "start_time": "2025-02-25T06:12:54.189385Z"
    }
   },
   "cell_type": "code",
   "source": "linear(torch.rand(2,5))",
   "id": "8151f3e0763ecac6",
   "outputs": [
    {
     "data": {
      "text/plain": [
       "tensor([[0.3808, 0.0000, 0.0000],\n",
       "        [0.0000, 0.0000, 0.0000]])"
      ]
     },
     "execution_count": 62,
     "metadata": {},
     "output_type": "execute_result"
    }
   ],
   "execution_count": 62
  },
  {
   "metadata": {
    "ExecuteTime": {
     "end_time": "2025-02-25T06:13:54.676708Z",
     "start_time": "2025-02-25T06:13:54.674615Z"
    }
   },
   "cell_type": "code",
   "source": [
    "import torch\n",
    "from torch import nn\n",
    "from torch.nn import functional as F"
   ],
   "id": "59f1c061e9332f71",
   "outputs": [],
   "execution_count": 64
  },
  {
   "metadata": {
    "ExecuteTime": {
     "end_time": "2025-02-25T06:15:02.933343Z",
     "start_time": "2025-02-25T06:15:02.929617Z"
    }
   },
   "cell_type": "code",
   "source": [
    "x = torch.arange(4)\n",
    "torch.save(x, \"x-file\")\n",
    "x2 = torch.load(\"x-file\")\n",
    "x2"
   ],
   "id": "91f2ef82c8638e0f",
   "outputs": [
    {
     "data": {
      "text/plain": [
       "tensor([0, 1, 2, 3])"
      ]
     },
     "execution_count": 65,
     "metadata": {},
     "output_type": "execute_result"
    }
   ],
   "execution_count": 65
  },
  {
   "metadata": {
    "ExecuteTime": {
     "end_time": "2025-02-25T06:16:06.133232Z",
     "start_time": "2025-02-25T06:16:06.128427Z"
    }
   },
   "cell_type": "code",
   "source": [
    "y = torch.zeros(4)\n",
    "torch.save([x,y], 'x-files')\n",
    "x2, y2 = torch.load(\"x-files\")\n",
    "(x2, y2)"
   ],
   "id": "bebeacc7eec820bf",
   "outputs": [
    {
     "data": {
      "text/plain": [
       "(tensor([0, 1, 2, 3]), tensor([0., 0., 0., 0.]))"
      ]
     },
     "execution_count": 66,
     "metadata": {},
     "output_type": "execute_result"
    }
   ],
   "execution_count": 66
  },
  {
   "metadata": {
    "ExecuteTime": {
     "end_time": "2025-02-25T06:17:26.032680Z",
     "start_time": "2025-02-25T06:17:26.028059Z"
    }
   },
   "cell_type": "code",
   "source": [
    "mydict = {'x':x, 'y':y}\n",
    "torch.save(mydict, 'mydict')\n",
    "mydict2 = torch.load('mydict')\n",
    "mydict2"
   ],
   "id": "2490f1393a576b82",
   "outputs": [
    {
     "data": {
      "text/plain": [
       "{'x': tensor([0, 1, 2, 3]), 'y': tensor([0., 0., 0., 0.])}"
      ]
     },
     "execution_count": 67,
     "metadata": {},
     "output_type": "execute_result"
    }
   ],
   "execution_count": 67
  },
  {
   "metadata": {},
   "cell_type": "markdown",
   "source": "## 加载和保存模型参数",
   "id": "1125932e71a0bd7b"
  },
  {
   "metadata": {
    "ExecuteTime": {
     "end_time": "2025-02-25T06:22:21.573148Z",
     "start_time": "2025-02-25T06:22:21.569623Z"
    }
   },
   "cell_type": "code",
   "source": [
    "class MLP(nn.Module):\n",
    "    def __init__(self):\n",
    "        super().__init__()\n",
    "        self.hidden = nn.Linear(20, 256)\n",
    "        self.output = nn.Linear(256, 10)\n",
    "\n",
    "    def forward(self, X):\n",
    "        return self.output(F.relu(self.hidden(X)))\n",
    "\n",
    "net = MLP()\n",
    "X = torch.randn(size=(2, 20))\n",
    "Y = net(X)"
   ],
   "id": "1c3c9e388b8d020c",
   "outputs": [],
   "execution_count": 69
  },
  {
   "metadata": {
    "ExecuteTime": {
     "end_time": "2025-02-25T06:22:55.031183Z",
     "start_time": "2025-02-25T06:22:55.028885Z"
    }
   },
   "cell_type": "code",
   "source": "torch.save(net.state_dict(), \"mlp.params\")",
   "id": "d3aeedc99da3308c",
   "outputs": [],
   "execution_count": 70
  },
  {
   "metadata": {
    "ExecuteTime": {
     "end_time": "2025-02-25T06:23:29.205395Z",
     "start_time": "2025-02-25T06:23:29.200814Z"
    }
   },
   "cell_type": "code",
   "source": [
    "clone = MLP()\n",
    "clone.load_state_dict(torch.load(\"mlp.params\"))\n",
    "clone.eval()"
   ],
   "id": "87c31001ce5f324d",
   "outputs": [
    {
     "data": {
      "text/plain": [
       "MLP(\n",
       "  (hidden): Linear(in_features=20, out_features=256, bias=True)\n",
       "  (output): Linear(in_features=256, out_features=10, bias=True)\n",
       ")"
      ]
     },
     "execution_count": 71,
     "metadata": {},
     "output_type": "execute_result"
    }
   ],
   "execution_count": 71
  },
  {
   "metadata": {
    "ExecuteTime": {
     "end_time": "2025-02-25T06:25:48.988950Z",
     "start_time": "2025-02-25T06:25:48.985277Z"
    }
   },
   "cell_type": "code",
   "outputs": [
    {
     "data": {
      "text/plain": [
       "tensor([[True, True, True, True, True, True, True, True, True, True],\n",
       "        [True, True, True, True, True, True, True, True, True, True]])"
      ]
     },
     "execution_count": 73,
     "metadata": {},
     "output_type": "execute_result"
    }
   ],
   "execution_count": 73,
   "source": [
    "# 两模型虽不是同一个模型，但两模型所表示的函数是相同的\n",
    "# 因此对相同的输入 X，它们的输出也应该是相同的\n",
    "Y_clone = clone(X)\n",
    "Y == Y_clone"
   ],
   "id": "7734d0725cb7ee8c"
  }
 ],
 "metadata": {
  "kernelspec": {
   "display_name": "Python 3",
   "language": "python",
   "name": "python3"
  },
  "language_info": {
   "codemirror_mode": {
    "name": "ipython",
    "version": 2
   },
   "file_extension": ".py",
   "mimetype": "text/x-python",
   "name": "python",
   "nbconvert_exporter": "python",
   "pygments_lexer": "ipython2",
   "version": "2.7.6"
  }
 },
 "nbformat": 4,
 "nbformat_minor": 5
}
