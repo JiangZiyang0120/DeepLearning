{
 "cells": [
  {
   "cell_type": "code",
   "id": "initial_id",
   "metadata": {
    "collapsed": true,
    "ExecuteTime": {
     "end_time": "2025-02-03T18:58:24.595130Z",
     "start_time": "2025-02-03T18:58:24.592704Z"
    }
   },
   "source": [
    "import torch\n",
    "from send2trash.win.legacy import shell32\n",
    "from torch.onnx.symbolic_opset9 import tensor\n",
    "\n",
    "print(torch.__version__)\n",
    "print(torch.mps.is_available())"
   ],
   "outputs": [
    {
     "name": "stdout",
     "output_type": "stream",
     "text": [
      "2.5.1\n",
      "True\n"
     ]
    }
   ],
   "execution_count": 48
  },
  {
   "metadata": {
    "ExecuteTime": {
     "end_time": "2025-02-03T18:30:56.595728Z",
     "start_time": "2025-02-03T18:30:56.582293Z"
    }
   },
   "cell_type": "code",
   "source": [
    "x = torch.arange(12)\n",
    "print(x)"
   ],
   "id": "fb64922c8d04b160",
   "outputs": [
    {
     "name": "stdout",
     "output_type": "stream",
     "text": [
      "tensor([ 0,  1,  2,  3,  4,  5,  6,  7,  8,  9, 10, 11])\n"
     ]
    }
   ],
   "execution_count": 4
  },
  {
   "metadata": {
    "ExecuteTime": {
     "end_time": "2025-02-03T18:31:09.526145Z",
     "start_time": "2025-02-03T18:31:09.521346Z"
    }
   },
   "cell_type": "code",
   "source": "x.size()",
   "id": "5dc6faefd19b8db8",
   "outputs": [
    {
     "data": {
      "text/plain": [
       "torch.Size([12])"
      ]
     },
     "execution_count": 5,
     "metadata": {},
     "output_type": "execute_result"
    }
   ],
   "execution_count": 5
  },
  {
   "metadata": {
    "ExecuteTime": {
     "end_time": "2025-02-03T18:32:23.027863Z",
     "start_time": "2025-02-03T18:32:23.023311Z"
    }
   },
   "cell_type": "code",
   "source": "x.numel()",
   "id": "71d8404e3decafe4",
   "outputs": [
    {
     "data": {
      "text/plain": [
       "12"
      ]
     },
     "execution_count": 6,
     "metadata": {},
     "output_type": "execute_result"
    }
   ],
   "execution_count": 6
  },
  {
   "metadata": {
    "ExecuteTime": {
     "end_time": "2025-02-03T18:33:06.444397Z",
     "start_time": "2025-02-03T18:33:06.441609Z"
    }
   },
   "cell_type": "code",
   "source": "X = x.reshape(3,4)",
   "id": "826f79ab860fc49e",
   "outputs": [],
   "execution_count": 7
  },
  {
   "metadata": {
    "ExecuteTime": {
     "end_time": "2025-02-03T18:33:10.959656Z",
     "start_time": "2025-02-03T18:33:10.956594Z"
    }
   },
   "cell_type": "code",
   "source": "print(X)",
   "id": "90e9dfb18534ce1d",
   "outputs": [
    {
     "name": "stdout",
     "output_type": "stream",
     "text": [
      "tensor([[ 0,  1,  2,  3],\n",
      "        [ 4,  5,  6,  7],\n",
      "        [ 8,  9, 10, 11]])\n"
     ]
    }
   ],
   "execution_count": 8
  },
  {
   "metadata": {
    "ExecuteTime": {
     "end_time": "2025-02-03T18:34:09.700846Z",
     "start_time": "2025-02-03T18:34:09.686509Z"
    }
   },
   "cell_type": "code",
   "source": "torch.zeros(2, 3,4)",
   "id": "20250d3b12b3885c",
   "outputs": [
    {
     "data": {
      "text/plain": [
       "tensor([[[0., 0., 0., 0.],\n",
       "         [0., 0., 0., 0.],\n",
       "         [0., 0., 0., 0.]],\n",
       "\n",
       "        [[0., 0., 0., 0.],\n",
       "         [0., 0., 0., 0.],\n",
       "         [0., 0., 0., 0.]]])"
      ]
     },
     "execution_count": 9,
     "metadata": {},
     "output_type": "execute_result"
    }
   ],
   "execution_count": 9
  },
  {
   "metadata": {
    "ExecuteTime": {
     "end_time": "2025-02-03T18:34:41.226578Z",
     "start_time": "2025-02-03T18:34:41.218863Z"
    }
   },
   "cell_type": "code",
   "source": "torch.ones(2, 3,4)",
   "id": "ada3bdc9b956ffcd",
   "outputs": [
    {
     "data": {
      "text/plain": [
       "tensor([[[1., 1., 1., 1.],\n",
       "         [1., 1., 1., 1.],\n",
       "         [1., 1., 1., 1.]],\n",
       "\n",
       "        [[1., 1., 1., 1.],\n",
       "         [1., 1., 1., 1.],\n",
       "         [1., 1., 1., 1.]]])"
      ]
     },
     "execution_count": 10,
     "metadata": {},
     "output_type": "execute_result"
    }
   ],
   "execution_count": 10
  },
  {
   "metadata": {
    "ExecuteTime": {
     "end_time": "2025-02-03T18:35:07.955846Z",
     "start_time": "2025-02-03T18:35:07.950079Z"
    }
   },
   "cell_type": "code",
   "source": "torch.randn(3,4)",
   "id": "5b04dd98305d9c00",
   "outputs": [
    {
     "data": {
      "text/plain": [
       "tensor([[-0.2455, -0.5153,  1.8096, -0.6618],\n",
       "        [ 0.4148, -0.0209,  0.1930,  0.6964],\n",
       "        [ 0.2523,  1.0094,  0.3413, -0.6387]])"
      ]
     },
     "execution_count": 11,
     "metadata": {},
     "output_type": "execute_result"
    }
   ],
   "execution_count": 11
  },
  {
   "metadata": {
    "ExecuteTime": {
     "end_time": "2025-02-03T18:35:46.382634Z",
     "start_time": "2025-02-03T18:35:46.378425Z"
    }
   },
   "cell_type": "code",
   "source": "torch.tensor([[2,1,4,3],[1,2,3,4],[4,3,2,1]])",
   "id": "396cbef903d5577",
   "outputs": [
    {
     "data": {
      "text/plain": [
       "tensor([[2, 1, 4, 3],\n",
       "        [1, 2, 3, 4],\n",
       "        [4, 3, 2, 1]])"
      ]
     },
     "execution_count": 12,
     "metadata": {},
     "output_type": "execute_result"
    }
   ],
   "execution_count": 12
  },
  {
   "metadata": {
    "ExecuteTime": {
     "end_time": "2025-02-03T18:37:50.399658Z",
     "start_time": "2025-02-03T18:37:50.396368Z"
    }
   },
   "cell_type": "code",
   "source": [
    "x = torch.tensor([1,2,4,8])\n",
    "y = torch.tensor([2,2,2,2])\n",
    "print(x+y)\n",
    "print(x-y)\n",
    "print(x*y)\n",
    "print(x/y)\n",
    "print(x**y)"
   ],
   "id": "5b99403c10885db3",
   "outputs": [
    {
     "name": "stdout",
     "output_type": "stream",
     "text": [
      "tensor([ 3,  4,  6, 10])\n",
      "tensor([-1,  0,  2,  6])\n",
      "tensor([ 2,  4,  8, 16])\n",
      "tensor([0.5000, 1.0000, 2.0000, 4.0000])\n",
      "tensor([ 1,  4, 16, 64])\n"
     ]
    }
   ],
   "execution_count": 14
  },
  {
   "metadata": {
    "ExecuteTime": {
     "end_time": "2025-02-03T18:38:26.940370Z",
     "start_time": "2025-02-03T18:38:26.936602Z"
    }
   },
   "cell_type": "code",
   "source": "torch.exp(x)",
   "id": "e29a6bb124430120",
   "outputs": [
    {
     "data": {
      "text/plain": [
       "tensor([2.7183e+00, 7.3891e+00, 5.4598e+01, 2.9810e+03])"
      ]
     },
     "execution_count": 15,
     "metadata": {},
     "output_type": "execute_result"
    }
   ],
   "execution_count": 15
  },
  {
   "metadata": {
    "ExecuteTime": {
     "end_time": "2025-02-03T18:41:25.145653Z",
     "start_time": "2025-02-03T18:41:25.138918Z"
    }
   },
   "cell_type": "code",
   "source": [
    "X = torch.arange(12, dtype=torch.float32).reshape((3,4))\n",
    "Y = torch.tensor([[2.0, 1, 4, 3], [1, 2, 3, 4], [4, 3, 2, 1]])\n",
    "torch.cat((X, Y), dim=0), torch.cat((X, Y), dim=1)"
   ],
   "id": "4eb5b408f9f6c04d",
   "outputs": [
    {
     "data": {
      "text/plain": [
       "(tensor([[ 0.,  1.,  2.,  3.],\n",
       "         [ 4.,  5.,  6.,  7.],\n",
       "         [ 8.,  9., 10., 11.],\n",
       "         [ 2.,  1.,  4.,  3.],\n",
       "         [ 1.,  2.,  3.,  4.],\n",
       "         [ 4.,  3.,  2.,  1.]]),\n",
       " tensor([[ 0.,  1.,  2.,  3.,  2.,  1.,  4.,  3.],\n",
       "         [ 4.,  5.,  6.,  7.,  1.,  2.,  3.,  4.],\n",
       "         [ 8.,  9., 10., 11.,  4.,  3.,  2.,  1.]]))"
      ]
     },
     "execution_count": 16,
     "metadata": {},
     "output_type": "execute_result"
    }
   ],
   "execution_count": 16
  },
  {
   "metadata": {
    "ExecuteTime": {
     "end_time": "2025-02-03T18:41:35.901229Z",
     "start_time": "2025-02-03T18:41:35.897535Z"
    }
   },
   "cell_type": "code",
   "source": "X == Y\n",
   "id": "807aaf22ac1a2541",
   "outputs": [
    {
     "data": {
      "text/plain": [
       "tensor([[False,  True, False,  True],\n",
       "        [False, False, False, False],\n",
       "        [False, False, False, False]])"
      ]
     },
     "execution_count": 17,
     "metadata": {},
     "output_type": "execute_result"
    }
   ],
   "execution_count": 17
  },
  {
   "metadata": {
    "ExecuteTime": {
     "end_time": "2025-02-03T18:41:46.294988Z",
     "start_time": "2025-02-03T18:41:46.291330Z"
    }
   },
   "cell_type": "code",
   "source": "X.sum()",
   "id": "deea53e3fd742421",
   "outputs": [
    {
     "data": {
      "text/plain": [
       "tensor(66.)"
      ]
     },
     "execution_count": 18,
     "metadata": {},
     "output_type": "execute_result"
    }
   ],
   "execution_count": 18
  },
  {
   "metadata": {
    "ExecuteTime": {
     "end_time": "2025-02-03T18:44:20.979976Z",
     "start_time": "2025-02-03T18:44:20.977807Z"
    }
   },
   "cell_type": "code",
   "source": [
    "a = torch.arange(3).reshape(3,1)\n",
    "b = torch.arange(2).reshape(1,2)"
   ],
   "id": "aed651762b0c1f8d",
   "outputs": [],
   "execution_count": 26
  },
  {
   "metadata": {
    "ExecuteTime": {
     "end_time": "2025-02-03T18:44:24.398352Z",
     "start_time": "2025-02-03T18:44:24.394543Z"
    }
   },
   "cell_type": "code",
   "source": "a * b",
   "id": "ce5714e0e116d374",
   "outputs": [
    {
     "data": {
      "text/plain": [
       "tensor([[0, 0],\n",
       "        [0, 1],\n",
       "        [0, 2]])"
      ]
     },
     "execution_count": 27,
     "metadata": {},
     "output_type": "execute_result"
    }
   ],
   "execution_count": 27
  },
  {
   "metadata": {
    "ExecuteTime": {
     "end_time": "2025-02-03T18:45:02.085186Z",
     "start_time": "2025-02-03T18:45:02.081202Z"
    }
   },
   "cell_type": "code",
   "source": "X",
   "id": "bcd957e97deed102",
   "outputs": [
    {
     "data": {
      "text/plain": [
       "tensor([[ 0.,  1.,  2.,  3.],\n",
       "        [ 4.,  5.,  6.,  7.],\n",
       "        [ 8.,  9., 10., 11.]])"
      ]
     },
     "execution_count": 28,
     "metadata": {},
     "output_type": "execute_result"
    }
   ],
   "execution_count": 28
  },
  {
   "metadata": {
    "ExecuteTime": {
     "end_time": "2025-02-03T18:45:07.317759Z",
     "start_time": "2025-02-03T18:45:07.313686Z"
    }
   },
   "cell_type": "code",
   "source": "X[0]",
   "id": "81db475dd24e604a",
   "outputs": [
    {
     "data": {
      "text/plain": [
       "tensor([0., 1., 2., 3.])"
      ]
     },
     "execution_count": 29,
     "metadata": {},
     "output_type": "execute_result"
    }
   ],
   "execution_count": 29
  },
  {
   "metadata": {
    "ExecuteTime": {
     "end_time": "2025-02-03T18:45:10.407311Z",
     "start_time": "2025-02-03T18:45:10.403638Z"
    }
   },
   "cell_type": "code",
   "source": "X[-1]",
   "id": "a2d72fddb74249a3",
   "outputs": [
    {
     "data": {
      "text/plain": [
       "tensor([ 8.,  9., 10., 11.])"
      ]
     },
     "execution_count": 30,
     "metadata": {},
     "output_type": "execute_result"
    }
   ],
   "execution_count": 30
  },
  {
   "metadata": {
    "ExecuteTime": {
     "end_time": "2025-02-03T18:45:16.754883Z",
     "start_time": "2025-02-03T18:45:16.751261Z"
    }
   },
   "cell_type": "code",
   "source": "X[1:]",
   "id": "8c02f6dbc9af0189",
   "outputs": [
    {
     "data": {
      "text/plain": [
       "tensor([[ 4.,  5.,  6.,  7.],\n",
       "        [ 8.,  9., 10., 11.]])"
      ]
     },
     "execution_count": 31,
     "metadata": {},
     "output_type": "execute_result"
    }
   ],
   "execution_count": 31
  },
  {
   "metadata": {
    "ExecuteTime": {
     "end_time": "2025-02-03T18:45:28.784146Z",
     "start_time": "2025-02-03T18:45:28.781173Z"
    }
   },
   "cell_type": "code",
   "source": "X[1,2] = 9",
   "id": "8b4a80d702c2ca52",
   "outputs": [],
   "execution_count": 32
  },
  {
   "metadata": {
    "ExecuteTime": {
     "end_time": "2025-02-03T18:45:32.132618Z",
     "start_time": "2025-02-03T18:45:32.129888Z"
    }
   },
   "cell_type": "code",
   "source": "X",
   "id": "6001558a290a7c5c",
   "outputs": [
    {
     "data": {
      "text/plain": [
       "tensor([[ 0.,  1.,  2.,  3.],\n",
       "        [ 4.,  5.,  9.,  7.],\n",
       "        [ 8.,  9., 10., 11.]])"
      ]
     },
     "execution_count": 33,
     "metadata": {},
     "output_type": "execute_result"
    }
   ],
   "execution_count": 33
  },
  {
   "metadata": {
    "ExecuteTime": {
     "end_time": "2025-02-03T18:46:12.110815Z",
     "start_time": "2025-02-03T18:46:12.106723Z"
    }
   },
   "cell_type": "code",
   "source": [
    "X[0:2,:] = 12\n",
    "X"
   ],
   "id": "e0b35082ce32f868",
   "outputs": [
    {
     "data": {
      "text/plain": [
       "tensor([[12., 12., 12., 12.],\n",
       "        [12., 12., 12., 12.],\n",
       "        [ 8.,  9., 10., 11.]])"
      ]
     },
     "execution_count": 34,
     "metadata": {},
     "output_type": "execute_result"
    }
   ],
   "execution_count": 34
  },
  {
   "metadata": {
    "ExecuteTime": {
     "end_time": "2025-02-03T18:49:06.365005Z",
     "start_time": "2025-02-03T18:49:06.360958Z"
    }
   },
   "cell_type": "code",
   "source": "X,Y",
   "id": "6e8e2f159f66fd6a",
   "outputs": [
    {
     "data": {
      "text/plain": [
       "(tensor([[12., 12., 12., 12.],\n",
       "         [12., 12., 12., 12.],\n",
       "         [ 8.,  9., 10., 11.]]),\n",
       " tensor([[2., 1., 4., 3.],\n",
       "         [1., 2., 3., 4.],\n",
       "         [4., 3., 2., 1.]]))"
      ]
     },
     "execution_count": 35,
     "metadata": {},
     "output_type": "execute_result"
    }
   ],
   "execution_count": 35
  },
  {
   "metadata": {
    "ExecuteTime": {
     "end_time": "2025-02-03T18:49:20.205428Z",
     "start_time": "2025-02-03T18:49:20.202611Z"
    }
   },
   "cell_type": "code",
   "source": "X = torch.arange(12).reshape(3,4)",
   "id": "e6f2c71a3dd159e4",
   "outputs": [],
   "execution_count": 36
  },
  {
   "metadata": {
    "ExecuteTime": {
     "end_time": "2025-02-03T18:49:21.975929Z",
     "start_time": "2025-02-03T18:49:21.972578Z"
    }
   },
   "cell_type": "code",
   "source": "X",
   "id": "5a72f9feb85ab354",
   "outputs": [
    {
     "data": {
      "text/plain": [
       "tensor([[ 0,  1,  2,  3],\n",
       "        [ 4,  5,  6,  7],\n",
       "        [ 8,  9, 10, 11]])"
      ]
     },
     "execution_count": 37,
     "metadata": {},
     "output_type": "execute_result"
    }
   ],
   "execution_count": 37
  },
  {
   "metadata": {
    "ExecuteTime": {
     "end_time": "2025-02-03T18:49:25.489233Z",
     "start_time": "2025-02-03T18:49:25.486107Z"
    }
   },
   "cell_type": "code",
   "source": "X < Y",
   "id": "6708f1a0701fc29d",
   "outputs": [
    {
     "data": {
      "text/plain": [
       "tensor([[ True, False,  True, False],\n",
       "        [False, False, False, False],\n",
       "        [False, False, False, False]])"
      ]
     },
     "execution_count": 38,
     "metadata": {},
     "output_type": "execute_result"
    }
   ],
   "execution_count": 38
  },
  {
   "metadata": {
    "ExecuteTime": {
     "end_time": "2025-02-04T06:05:22.502485Z",
     "start_time": "2025-02-04T06:05:22.028761Z"
    }
   },
   "cell_type": "code",
   "source": [
    "import pandas as pd\n",
    "data = pd.read_csv(\"../data/house_tiny.csv\")\n",
    "print(data)"
   ],
   "id": "8ba02eebcbc7d81",
   "outputs": [
    {
     "name": "stdout",
     "output_type": "stream",
     "text": [
      "   NumRooms  Alley   Price\n",
      "0       NaN   Pave  127500\n",
      "1       2.0    NaN  106000\n",
      "2       4.0    NaN  178100\n",
      "3       NaN    NaN  140000\n"
     ]
    }
   ],
   "execution_count": 4
  },
  {
   "metadata": {
    "ExecuteTime": {
     "end_time": "2025-02-04T06:05:23.999468Z",
     "start_time": "2025-02-04T06:05:23.993592Z"
    }
   },
   "cell_type": "code",
   "source": [
    "inputs, outputs = data.iloc[:, 0], data.iloc[:,1:]\n",
    "inputs = inputs.fillna(inputs.mean())\n",
    "print(pd.concat([inputs, outputs], axis=1))"
   ],
   "id": "827e63e3162150fb",
   "outputs": [
    {
     "name": "stdout",
     "output_type": "stream",
     "text": [
      "   NumRooms  Alley   Price\n",
      "0       3.0   Pave  127500\n",
      "1       2.0    NaN  106000\n",
      "2       4.0    NaN  178100\n",
      "3       3.0    NaN  140000\n"
     ]
    }
   ],
   "execution_count": 5
  },
  {
   "metadata": {
    "ExecuteTime": {
     "end_time": "2025-02-04T06:05:26.392317Z",
     "start_time": "2025-02-04T06:05:26.386068Z"
    }
   },
   "cell_type": "code",
   "source": [
    "outputs = pd.get_dummies(outputs, dummy_na=True)\n",
    "print(outputs)"
   ],
   "id": "aa40f59a92702399",
   "outputs": [
    {
     "name": "stdout",
     "output_type": "stream",
     "text": [
      "    Price  Alley_ NaN  Alley_ Pave  Alley_nan\n",
      "0  127500       False         True      False\n",
      "1  106000        True        False      False\n",
      "2  178100        True        False      False\n",
      "3  140000        True        False      False\n"
     ]
    }
   ],
   "execution_count": 6
  },
  {
   "metadata": {
    "ExecuteTime": {
     "end_time": "2025-02-04T06:05:44.252228Z",
     "start_time": "2025-02-04T06:05:43.553575Z"
    }
   },
   "cell_type": "code",
   "source": [
    "import torch\n",
    "\n",
    "X = torch.tensor(inputs.to_numpy(dtype=float))\n",
    "y = torch.tensor(outputs.to_numpy(dtype=float))\n",
    "X, y"
   ],
   "id": "4748c01daf526506",
   "outputs": [
    {
     "data": {
      "text/plain": [
       "(tensor([3., 2., 4., 3.], dtype=torch.float64),\n",
       " tensor([[1.2750e+05, 0.0000e+00, 1.0000e+00, 0.0000e+00],\n",
       "         [1.0600e+05, 1.0000e+00, 0.0000e+00, 0.0000e+00],\n",
       "         [1.7810e+05, 1.0000e+00, 0.0000e+00, 0.0000e+00],\n",
       "         [1.4000e+05, 1.0000e+00, 0.0000e+00, 0.0000e+00]], dtype=torch.float64))"
      ]
     },
     "execution_count": 8,
     "metadata": {},
     "output_type": "execute_result"
    }
   ],
   "execution_count": 8
  },
  {
   "metadata": {
    "ExecuteTime": {
     "end_time": "2025-02-04T06:07:43.535145Z",
     "start_time": "2025-02-04T06:07:43.531531Z"
    }
   },
   "cell_type": "code",
   "source": "x = torch.arange(20).reshape(-1,4)",
   "id": "a4f5216bafb32148",
   "outputs": [],
   "execution_count": 9
  },
  {
   "metadata": {
    "ExecuteTime": {
     "end_time": "2025-02-04T06:07:47.779638Z",
     "start_time": "2025-02-04T06:07:47.776431Z"
    }
   },
   "cell_type": "code",
   "source": "X",
   "id": "1cc3fe932788c09",
   "outputs": [
    {
     "data": {
      "text/plain": [
       "tensor([3., 2., 4., 3.], dtype=torch.float64)"
      ]
     },
     "execution_count": 10,
     "metadata": {},
     "output_type": "execute_result"
    }
   ],
   "execution_count": 10
  },
  {
   "metadata": {
    "ExecuteTime": {
     "end_time": "2025-02-04T06:07:52.412512Z",
     "start_time": "2025-02-04T06:07:52.409283Z"
    }
   },
   "cell_type": "code",
   "source": "x",
   "id": "6d2863b3fef1757f",
   "outputs": [
    {
     "data": {
      "text/plain": [
       "tensor([[ 0,  1,  2,  3],\n",
       "        [ 4,  5,  6,  7],\n",
       "        [ 8,  9, 10, 11],\n",
       "        [12, 13, 14, 15],\n",
       "        [16, 17, 18, 19]])"
      ]
     },
     "execution_count": 11,
     "metadata": {},
     "output_type": "execute_result"
    }
   ],
   "execution_count": 11
  },
  {
   "metadata": {
    "ExecuteTime": {
     "end_time": "2025-02-04T06:08:29.328146Z",
     "start_time": "2025-02-04T06:08:29.324645Z"
    }
   },
   "cell_type": "code",
   "source": "x.T",
   "id": "31fbd19e817a3992",
   "outputs": [
    {
     "data": {
      "text/plain": [
       "tensor([[ 0,  4,  8, 12, 16],\n",
       "        [ 1,  5,  9, 13, 17],\n",
       "        [ 2,  6, 10, 14, 18],\n",
       "        [ 3,  7, 11, 15, 19]])"
      ]
     },
     "execution_count": 12,
     "metadata": {},
     "output_type": "execute_result"
    }
   ],
   "execution_count": 12
  },
  {
   "metadata": {
    "ExecuteTime": {
     "end_time": "2025-02-04T06:19:53.914495Z",
     "start_time": "2025-02-04T06:19:53.911041Z"
    }
   },
   "cell_type": "code",
   "source": [
    "ttn = torch.randn([2,2,3,4])\n",
    "ttn"
   ],
   "id": "a6fc65a64bed389e",
   "outputs": [
    {
     "data": {
      "text/plain": [
       "tensor([[[[ 0.9127,  0.0448,  1.1320, -0.9705],\n",
       "          [-0.6676,  0.2675,  1.1920, -0.6590],\n",
       "          [-0.1604,  0.2583, -0.1241,  0.6702]],\n",
       "\n",
       "         [[-0.1964, -0.8118,  0.4121, -0.6241],\n",
       "          [-1.7053, -0.3964, -0.6474, -0.1587],\n",
       "          [-0.3527,  0.5926, -1.0765,  0.7107]]],\n",
       "\n",
       "\n",
       "        [[[-0.6461, -0.3423,  1.1179,  0.9252],\n",
       "          [ 1.4199, -1.3395,  0.3495,  0.4894],\n",
       "          [-1.3981,  0.0784,  1.2608, -0.4866]],\n",
       "\n",
       "         [[-0.5654, -0.4074, -1.1362, -0.1005],\n",
       "          [-2.3116, -1.0462, -1.6407, -1.3014],\n",
       "          [ 1.7432, -0.8467, -0.9256, -1.2719]]]])"
      ]
     },
     "execution_count": 24,
     "metadata": {},
     "output_type": "execute_result"
    }
   ],
   "execution_count": 24
  },
  {
   "metadata": {
    "ExecuteTime": {
     "end_time": "2025-02-04T06:14:05.246363Z",
     "start_time": "2025-02-04T06:14:05.244295Z"
    }
   },
   "cell_type": "code",
   "source": [
    "A = x\n",
    "B = A.clone()"
   ],
   "id": "c5ffed6d8d92bca2",
   "outputs": [],
   "execution_count": 15
  },
  {
   "metadata": {
    "ExecuteTime": {
     "end_time": "2025-02-04T06:14:10.043386Z",
     "start_time": "2025-02-04T06:14:10.039829Z"
    }
   },
   "cell_type": "code",
   "source": "A, A*B",
   "id": "670641211942a3ba",
   "outputs": [
    {
     "data": {
      "text/plain": [
       "(tensor([[ 0,  1,  2,  3],\n",
       "         [ 4,  5,  6,  7],\n",
       "         [ 8,  9, 10, 11],\n",
       "         [12, 13, 14, 15],\n",
       "         [16, 17, 18, 19]]),\n",
       " tensor([[  0,   1,   4,   9],\n",
       "         [ 16,  25,  36,  49],\n",
       "         [ 64,  81, 100, 121],\n",
       "         [144, 169, 196, 225],\n",
       "         [256, 289, 324, 361]]))"
      ]
     },
     "execution_count": 16,
     "metadata": {},
     "output_type": "execute_result"
    }
   ],
   "execution_count": 16
  },
  {
   "metadata": {
    "ExecuteTime": {
     "end_time": "2025-02-04T06:18:39.339316Z",
     "start_time": "2025-02-04T06:18:39.335671Z"
    }
   },
   "cell_type": "code",
   "source": [
    "A_sum_axis0 = A.sum(axis=0)\n",
    "A_sum_axis0, A_sum_axis0.shape"
   ],
   "id": "fdc05a34c4cd6874",
   "outputs": [
    {
     "data": {
      "text/plain": [
       "(tensor([40, 45, 50, 55]), torch.Size([4]))"
      ]
     },
     "execution_count": 20,
     "metadata": {},
     "output_type": "execute_result"
    }
   ],
   "execution_count": 20
  },
  {
   "metadata": {
    "ExecuteTime": {
     "end_time": "2025-02-04T06:20:25.051336Z",
     "start_time": "2025-02-04T06:20:25.047222Z"
    }
   },
   "cell_type": "code",
   "source": "ttn.sum(axis=[0,1])",
   "id": "e8be1eaf94abb6dc",
   "outputs": [
    {
     "data": {
      "text/plain": [
       "tensor([[-0.4951, -1.5166,  1.5258, -0.7700],\n",
       "        [-3.2645, -2.5146, -0.7465, -1.6297],\n",
       "        [-0.1680,  0.0827, -0.8654, -0.3777]])"
      ]
     },
     "execution_count": 25,
     "metadata": {},
     "output_type": "execute_result"
    }
   ],
   "execution_count": 25
  },
  {
   "metadata": {
    "ExecuteTime": {
     "end_time": "2025-02-04T15:44:35.606334Z",
     "start_time": "2025-02-04T15:44:35.603168Z"
    }
   },
   "cell_type": "code",
   "source": "ttn.numel()",
   "id": "39e15c67b9b1ee5e",
   "outputs": [
    {
     "data": {
      "text/plain": [
       "48"
      ]
     },
     "execution_count": 28,
     "metadata": {},
     "output_type": "execute_result"
    }
   ],
   "execution_count": 28
  },
  {
   "metadata": {
    "ExecuteTime": {
     "end_time": "2025-02-04T15:44:26.504521Z",
     "start_time": "2025-02-04T15:44:26.500885Z"
    }
   },
   "cell_type": "code",
   "source": "ttn.mean()",
   "id": "74bee9200dfa08d1",
   "outputs": [
    {
     "data": {
      "text/plain": [
       "tensor(-0.2237)"
      ]
     },
     "execution_count": 27,
     "metadata": {},
     "output_type": "execute_result"
    }
   ],
   "execution_count": 27
  },
  {
   "metadata": {
    "ExecuteTime": {
     "end_time": "2025-02-08T11:53:26.411075Z",
     "start_time": "2025-02-08T11:53:26.408760Z"
    }
   },
   "cell_type": "code",
   "source": "A = torch.arange(20).reshape(-1,4)",
   "id": "30456829b973bb34",
   "outputs": [],
   "execution_count": 29
  },
  {
   "metadata": {
    "ExecuteTime": {
     "end_time": "2025-02-08T11:53:28.315778Z",
     "start_time": "2025-02-08T11:53:28.312841Z"
    }
   },
   "cell_type": "code",
   "source": "A",
   "id": "e51691367689404",
   "outputs": [
    {
     "data": {
      "text/plain": [
       "tensor([[ 0,  1,  2,  3],\n",
       "        [ 4,  5,  6,  7],\n",
       "        [ 8,  9, 10, 11],\n",
       "        [12, 13, 14, 15],\n",
       "        [16, 17, 18, 19]])"
      ]
     },
     "execution_count": 30,
     "metadata": {},
     "output_type": "execute_result"
    }
   ],
   "execution_count": 30
  },
  {
   "metadata": {
    "ExecuteTime": {
     "end_time": "2025-02-08T11:54:18.122348Z",
     "start_time": "2025-02-08T11:54:18.119538Z"
    }
   },
   "cell_type": "code",
   "source": "A",
   "id": "7f4e3a65a15bd908",
   "outputs": [
    {
     "data": {
      "text/plain": [
       "tensor([[ 0,  1,  2,  3],\n",
       "        [ 4,  5,  6,  7],\n",
       "        [ 8,  9, 10, 11],\n",
       "        [12, 13, 14, 15],\n",
       "        [16, 17, 18, 19]])"
      ]
     },
     "execution_count": 33,
     "metadata": {},
     "output_type": "execute_result"
    }
   ],
   "execution_count": 33
  },
  {
   "metadata": {
    "ExecuteTime": {
     "end_time": "2025-02-08T11:54:34.290773Z",
     "start_time": "2025-02-08T11:54:34.287768Z"
    }
   },
   "cell_type": "code",
   "source": "A.sum()",
   "id": "3937b3c5feeaa934",
   "outputs": [
    {
     "data": {
      "text/plain": [
       "tensor(190)"
      ]
     },
     "execution_count": 34,
     "metadata": {},
     "output_type": "execute_result"
    }
   ],
   "execution_count": 34
  },
  {
   "metadata": {
    "ExecuteTime": {
     "end_time": "2025-02-08T11:59:53.444581Z",
     "start_time": "2025-02-08T11:59:53.442348Z"
    }
   },
   "cell_type": "code",
   "source": "sum_A = A.sum(axis=1, keepdim=True)",
   "id": "5ca39d801e8a74ec",
   "outputs": [],
   "execution_count": 45
  },
  {
   "metadata": {
    "ExecuteTime": {
     "end_time": "2025-02-08T11:59:53.988036Z",
     "start_time": "2025-02-08T11:59:53.984132Z"
    }
   },
   "cell_type": "code",
   "source": "sum_A, A / sum_A",
   "id": "8d55536b3a6a4015",
   "outputs": [
    {
     "data": {
      "text/plain": [
       "(tensor([[ 6],\n",
       "         [22],\n",
       "         [38],\n",
       "         [54],\n",
       "         [70]]),\n",
       " tensor([[0.0000, 0.1667, 0.3333, 0.5000],\n",
       "         [0.1818, 0.2273, 0.2727, 0.3182],\n",
       "         [0.2105, 0.2368, 0.2632, 0.2895],\n",
       "         [0.2222, 0.2407, 0.2593, 0.2778],\n",
       "         [0.2286, 0.2429, 0.2571, 0.2714]]))"
      ]
     },
     "execution_count": 46,
     "metadata": {},
     "output_type": "execute_result"
    }
   ],
   "execution_count": 46
  },
  {
   "metadata": {
    "ExecuteTime": {
     "end_time": "2025-02-08T12:01:26.332096Z",
     "start_time": "2025-02-08T12:01:26.330621Z"
    }
   },
   "cell_type": "code",
   "source": "y = torch.ones(4)",
   "id": "58a8543d92c99d78",
   "outputs": [],
   "execution_count": 49
  },
  {
   "metadata": {
    "ExecuteTime": {
     "end_time": "2025-02-08T12:02:40.286164Z",
     "start_time": "2025-02-08T12:02:40.283657Z"
    }
   },
   "cell_type": "code",
   "source": "x = torch.arange(4, dtype=torch.float32)",
   "id": "7ee5cd322aec2a42",
   "outputs": [],
   "execution_count": 53
  },
  {
   "metadata": {
    "ExecuteTime": {
     "end_time": "2025-02-08T12:02:41.182782Z",
     "start_time": "2025-02-08T12:02:41.178845Z"
    }
   },
   "cell_type": "code",
   "source": "x, y, torch.dot(x,y)",
   "id": "82b9c24ddd843ea7",
   "outputs": [
    {
     "data": {
      "text/plain": [
       "(tensor([0., 1., 2., 3.]), tensor([1., 1., 1., 1.]), tensor(6.))"
      ]
     },
     "execution_count": 54,
     "metadata": {},
     "output_type": "execute_result"
    }
   ],
   "execution_count": 54
  },
  {
   "metadata": {
    "ExecuteTime": {
     "end_time": "2025-02-08T12:03:02.429561Z",
     "start_time": "2025-02-08T12:03:02.426172Z"
    }
   },
   "cell_type": "code",
   "source": "x.T * y",
   "id": "bb88d597dd5247b3",
   "outputs": [
    {
     "data": {
      "text/plain": [
       "tensor([0., 1., 2., 3.])"
      ]
     },
     "execution_count": 56,
     "metadata": {},
     "output_type": "execute_result"
    }
   ],
   "execution_count": 56
  },
  {
   "metadata": {},
   "cell_type": "markdown",
   "source": "### 矩阵-向量积",
   "id": "e28bc699296a54d6"
  },
  {
   "metadata": {
    "ExecuteTime": {
     "end_time": "2025-02-10T13:41:13.652463Z",
     "start_time": "2025-02-10T13:41:13.648337Z"
    }
   },
   "cell_type": "code",
   "source": "torch.norm(torch.ones([3,4,5]))",
   "id": "1ac4974c920bfa3f",
   "outputs": [
    {
     "data": {
      "text/plain": [
       "tensor(7.7460)"
      ]
     },
     "execution_count": 11,
     "metadata": {},
     "output_type": "execute_result"
    }
   ],
   "execution_count": 11
  },
  {
   "metadata": {
    "ExecuteTime": {
     "end_time": "2025-02-10T13:41:53.588583Z",
     "start_time": "2025-02-10T13:41:53.585562Z"
    }
   },
   "cell_type": "code",
   "source": [
    "from math import sqrt\n",
    "sqrt(60)"
   ],
   "id": "3ef7c049d129e9ec",
   "outputs": [
    {
     "data": {
      "text/plain": [
       "7.745966692414834"
      ]
     },
     "execution_count": 13,
     "metadata": {},
     "output_type": "execute_result"
    }
   ],
   "execution_count": 13
  },
  {
   "metadata": {
    "ExecuteTime": {
     "end_time": "2025-02-14T13:37:20.769997Z",
     "start_time": "2025-02-14T13:37:20.761991Z"
    }
   },
   "cell_type": "code",
   "source": [
    "%matplotlib inline\n",
    "import numpy as np\n",
    "from matplotlib_inline import backend_inline\n",
    "from d2l import torch as d2l\n",
    "from IPython.core.interactiveshell import InteractiveShell\n",
    "\n",
    "shell = InteractiveShell.instance()\n",
    "\n",
    "def use_svg_display(): #@save\n",
    "    '''使用svg格式在Jupyter中显示绘图'''\n",
    "    backend_inline.select_figure_formats(shell=shell, formats='svg')\n",
    "    return\n",
    "\n",
    "def set_figsize(figsize=(3.5, 2.5)): #@save\n",
    "    \"\"\"设置matplotlib的图表大小\"\"\"\n",
    "    use_svg_display()\n",
    "    d2l.plt.rcParams['figure.figsize'] = figsize\n",
    "    return\n",
    "\n",
    "#@save\n",
    "def set_axes(axes, xlabel, ylabel, xlim, ylim, xscale, yscale, legend):\n",
    "    axes.set_xlabel(xlabel)\n",
    "    axes.set_ylabel(ylabel)\n",
    "    axes.set_xlim(xlim)\n",
    "    axes.set_ylim(ylim)\n",
    "    axes.set_xscale(xscale)\n",
    "    axes.set_yscale(yscale)\n",
    "    if legend:\n",
    "        axes.legend(legend)\n",
    "    axes.grid()\n",
    "    return\n",
    "\n",
    "#@save\n",
    "def plot(X, Y=None,\n",
    "         xlabel=None, ylabel=None,\n",
    "         legend=None,\n",
    "         xlim=None, ylim=None,\n",
    "         xscale='linear', yscale='linear',\n",
    "         fmts=('-', 'm--', 'g-.', 'r:'),\n",
    "         figsize=(3.5, 2.5),\n",
    "         axes=None):\n",
    "    \"\"\"绘制数据点\"\"\"\n",
    "    if legend is None:\n",
    "        legend = []\n",
    "\n",
    "    set_figsize(figsize)\n",
    "    axes = axes if axes else d2l.plt.gca()\n",
    "\n",
    "    # 如果X为一维数据，输出True\n",
    "    def has_one_axis(X):\n",
    "        return (hasattr(X, \"ndim\") and X.ndim == 1 or isinstance(X, list)\n",
    "                and not hasattr(X[0], \"__len__\"))\n",
    "\n",
    "    if has_one_axis(X):\n",
    "        X = [X]\n",
    "    if Y is None:\n",
    "        X, Y = [[]] * len(X), X\n",
    "    elif has_one_axis(Y):\n",
    "        Y = [Y]\n",
    "    if len(X) != len(Y):\n",
    "        X = X * len(Y)\n",
    "    axes.cla()\n",
    "    for x,y,fmt in zip(X, Y, fmts):\n",
    "        if len(x):\n",
    "            axes.plot(x, y, fmt)\n",
    "        else:\n",
    "            axes.plot(y, fmt)\n",
    "    set_axes(axes, xlabel, ylabel, xlim, ylim, xscale, yscale, legend)"
   ],
   "id": "176f1209d0c7a60",
   "outputs": [],
   "execution_count": 16
  },
  {
   "metadata": {},
   "cell_type": "markdown",
   "source": [
    "这段代码定义了一个名为 `plot` 的函数，其主要功能是绘制数据点，并且提供了丰富的参数来定制绘图的各个方面，如坐标轴标签、图例、坐标轴范围等。下面我们来详细解释代码的各个部分：\n",
    "\n",
    "### 函数定义与参数说明\n",
    "```python\n",
    "def plot(X, Y=None, legend=None,\n",
    "         xlabel=None, ylabel=None,\n",
    "         xlim=None, ylim=None,\n",
    "         xscale='linear', yscale='linear',\n",
    "         fmts=('-', 'm--', 'g-.', 'r:'),\n",
    "         figsize=(3.5, 2.5),\n",
    "         axes=None):\n",
    "    \"\"\"绘制数据点\"\"\"\n",
    "```\n",
    "- `X`：表示要绘制的数据的 x 坐标，可以是一维或多维的数据。\n",
    "- `Y`：表示要绘制的数据的 y 坐标，默认为 `None`。如果为 `None`，则 `X` 会被当作 y 坐标使用。\n",
    "- `legend`：图例列表，默认为 `None`。\n",
    "- `xlabel`：x 轴的标签，默认为 `None`。\n",
    "- `ylabel`：y 轴的标签，默认为 `None`。\n",
    "- `xlim`：x 轴的范围，默认为 `None`。\n",
    "- `ylim`：y 轴的范围，默认为 `None`。\n",
    "- `xscale`：x 轴的缩放类型，默认为 `'linear'`（线性缩放）。\n",
    "- `yscale`：y 轴的缩放类型，默认为 `'linear'`（线性缩放）。\n",
    "- `fmts`：绘图的格式字符串列表，默认为 `('-', 'm--', 'g-.', 'r:')`，分别表示实线、洋红色虚线、绿色点划线、红色点线。\n",
    "- `figsize`：图形的大小，默认为 `(3.5, 2.5)`。\n",
    "- `axes`：指定绘图的坐标轴对象，默认为 `None`。\n",
    "\n",
    "### 处理图例参数\n",
    "```python\n",
    "if legend is None:\n",
    "    legend = []\n",
    "```\n",
    "如果 `legend` 参数为 `None`，则将其初始化为一个空列表。\n",
    "\n",
    "### 设置图形大小并获取坐标轴对象\n",
    "```python\n",
    "set_figsize(figsize)\n",
    "axes = axes if axes else d2l.plt.gca()\n",
    "```\n",
    "- `set_figsize(figsize)`：调用 `set_figsize` 函数设置图形的大小。\n",
    "- `axes = axes if axes else d2l.plt.gca()`：如果 `axes` 参数为 `None`，则使用 `d2l.plt.gca()` 获取当前的坐标轴对象。\n",
    "\n",
    "### 定义辅助函数 `has_one_axis`\n",
    "```python\n",
    "# 如果X有一个轴，输出True\n",
    "def has_one_axis(X):\n",
    "    return (hasattr(X, \"ndim\") and X.ndim == 1 or isinstance(X, list)\n",
    "            and not hasattr(X[0], \"__len__\"))\n",
    "```\n",
    "该函数用于判断 `X` 是否为一维数据。如果 `X` 是一个具有 `ndim` 属性且维度为 1 的数组，或者 `X` 是一个列表且列表中的元素没有 `__len__` 属性（即不是可迭代对象），则返回 `True`。\n",
    "\n",
    "### 处理输入数据\n",
    "```python\n",
    "if has_one_axis(X):\n",
    "    X = [X]\n",
    "if Y is None:\n",
    "    X, Y = [[]] * len(X), X\n",
    "elif has_one_axis(Y):\n",
    "    Y = [Y]\n",
    "if len(X) != len(Y):\n",
    "    X = X * len(Y)\n",
    "```\n",
    "- `if has_one_axis(X): X = [X]`：如果 `X` 是一维数据，则将其转换为包含该一维数据的列表。\n",
    "- `if Y is None: X, Y = [[]] * len(X), X`：如果 `Y` 为 `None`，则将 `X` 作为 y 坐标，同时将 `X` 初始化为空列表。\n",
    "- `elif has_one_axis(Y): Y = [Y]`：如果 `Y` 是一维数据，则将其转换为包含该一维数据的列表。\n",
    "- `if len(X) != len(Y): X = X * len(Y)`：如果 `X` 和 `Y` 的长度不相等，则将 `X` 重复 `len(Y)` 次，以保证两者长度一致。\n",
    "\n",
    "### 清空坐标轴并绘制数据\n",
    "```python\n",
    "axes.cla()\n",
    "for x, y, fmt in zip(X, Y, fmts):\n",
    "    if len(x):\n",
    "        axes.plot(x, y, fmt)\n",
    "    else:\n",
    "        axes.plot(y, fmt)\n",
    "```\n",
    "- `axes.cla()`：清空当前坐标轴上的所有内容。\n",
    "- `for x, y, fmt in zip(X, Y, fmts):`：遍历 `X`、`Y` 和 `fmts` 列表，依次绘制每个数据序列。\n",
    "- `if len(x): axes.plot(x, y, fmt)`：如果 `x` 不为空，则使用 `x` 和 `y` 绘制图形，并使用对应的格式字符串 `fmt`。\n",
    "- `else: axes.plot(y, fmt)`：如果 `x` 为空，则只使用 `y` 绘制图形，并使用对应的格式字符串 `fmt`。\n",
    "\n",
    "### 设置坐标轴属性\n",
    "```python\n",
    "set_axes(axes, xlabel, ylabel, xlim, ylim, xscale, yscale, legend)\n",
    "```\n",
    "调用 `set_axes` 函数设置坐标轴的属性，包括坐标轴标签、坐标轴范围、缩放类型和图例等。\n",
    "\n",
    "综上所述，`plot` 函数提供了一个灵活的绘图接口，可以处理多种类型的输入数据，并允许用户定制绘图的各个方面。"
   ],
   "id": "73d193735fe645ca"
  },
  {
   "metadata": {
    "ExecuteTime": {
     "end_time": "2025-02-14T13:37:29.870953Z",
     "start_time": "2025-02-14T13:37:29.814200Z"
    }
   },
   "cell_type": "code",
   "source": [
    "def f(x):\n",
    "    return 3*x**2 - 4*x\n",
    "\n",
    "x = np.arange(0,3,0.01)\n",
    "plot(x, [f(x), 2*x-3], 'x', 'f(x)', legend=['f(x)', 'Tangent line (x=1)'])"
   ],
   "id": "fb45047b912467de",
   "outputs": [
    {
     "data": {
      "text/plain": [
       "<Figure size 350x250 with 1 Axes>"
      ],
      "image/svg+xml": "<?xml version=\"1.0\" encoding=\"utf-8\" standalone=\"no\"?>\n<!DOCTYPE svg PUBLIC \"-//W3C//DTD SVG 1.1//EN\"\n  \"http://www.w3.org/Graphics/SVG/1.1/DTD/svg11.dtd\">\n<svg xmlns:xlink=\"http://www.w3.org/1999/xlink\" width=\"243.103125pt\" height=\"183.35625pt\" viewBox=\"0 0 243.103125 183.35625\" xmlns=\"http://www.w3.org/2000/svg\" version=\"1.1\">\n <metadata>\n  <rdf:RDF xmlns:dc=\"http://purl.org/dc/elements/1.1/\" xmlns:cc=\"http://creativecommons.org/ns#\" xmlns:rdf=\"http://www.w3.org/1999/02/22-rdf-syntax-ns#\">\n   <cc:Work>\n    <dc:type rdf:resource=\"http://purl.org/dc/dcmitype/StillImage\"/>\n    <dc:date>2025-02-14T21:37:29.860826</dc:date>\n    <dc:format>image/svg+xml</dc:format>\n    <dc:creator>\n     <cc:Agent>\n      <dc:title>Matplotlib v3.7.2, https://matplotlib.org/</dc:title>\n     </cc:Agent>\n    </dc:creator>\n   </cc:Work>\n  </rdf:RDF>\n </metadata>\n <defs>\n  <style type=\"text/css\">*{stroke-linejoin: round; stroke-linecap: butt}</style>\n </defs>\n <g id=\"figure_1\">\n  <g id=\"patch_1\">\n   <path d=\"M 0 183.35625 \nL 243.103125 183.35625 \nL 243.103125 0 \nL 0 0 \nz\n\" style=\"fill: #ffffff\"/>\n  </g>\n  <g id=\"axes_1\">\n   <g id=\"patch_2\">\n    <path d=\"M 40.603125 145.8 \nL 235.903125 145.8 \nL 235.903125 7.2 \nL 40.603125 7.2 \nz\n\" style=\"fill: #ffffff\"/>\n   </g>\n   <g id=\"matplotlib.axis_1\">\n    <g id=\"xtick_1\">\n     <g id=\"line2d_1\">\n      <path d=\"M 49.480398 145.8 \nL 49.480398 7.2 \n\" clip-path=\"url(#p878546b064)\" style=\"fill: none; stroke: #b0b0b0; stroke-width: 0.8; stroke-linecap: square\"/>\n     </g>\n     <g id=\"line2d_2\">\n      <defs>\n       <path id=\"m35708c559e\" d=\"M 0 0 \nL 0 3.5 \n\" style=\"stroke: #000000; stroke-width: 0.8\"/>\n      </defs>\n      <g>\n       <use xlink:href=\"#m35708c559e\" x=\"49.480398\" y=\"145.8\" style=\"stroke: #000000; stroke-width: 0.8\"/>\n      </g>\n     </g>\n     <g id=\"text_1\">\n      <!-- 0 -->\n      <g transform=\"translate(46.299148 160.398438) scale(0.1 -0.1)\">\n       <defs>\n        <path id=\"DejaVuSans-30\" d=\"M 2034 4250 \nQ 1547 4250 1301 3770 \nQ 1056 3291 1056 2328 \nQ 1056 1369 1301 889 \nQ 1547 409 2034 409 \nQ 2525 409 2770 889 \nQ 3016 1369 3016 2328 \nQ 3016 3291 2770 3770 \nQ 2525 4250 2034 4250 \nz\nM 2034 4750 \nQ 2819 4750 3233 4129 \nQ 3647 3509 3647 2328 \nQ 3647 1150 3233 529 \nQ 2819 -91 2034 -91 \nQ 1250 -91 836 529 \nQ 422 1150 422 2328 \nQ 422 3509 836 4129 \nQ 1250 4750 2034 4750 \nz\n\" transform=\"scale(0.015625)\"/>\n       </defs>\n       <use xlink:href=\"#DejaVuSans-30\"/>\n      </g>\n     </g>\n    </g>\n    <g id=\"xtick_2\">\n     <g id=\"line2d_3\">\n      <path d=\"M 108.860148 145.8 \nL 108.860148 7.2 \n\" clip-path=\"url(#p878546b064)\" style=\"fill: none; stroke: #b0b0b0; stroke-width: 0.8; stroke-linecap: square\"/>\n     </g>\n     <g id=\"line2d_4\">\n      <g>\n       <use xlink:href=\"#m35708c559e\" x=\"108.860148\" y=\"145.8\" style=\"stroke: #000000; stroke-width: 0.8\"/>\n      </g>\n     </g>\n     <g id=\"text_2\">\n      <!-- 1 -->\n      <g transform=\"translate(105.678898 160.398438) scale(0.1 -0.1)\">\n       <defs>\n        <path id=\"DejaVuSans-31\" d=\"M 794 531 \nL 1825 531 \nL 1825 4091 \nL 703 3866 \nL 703 4441 \nL 1819 4666 \nL 2450 4666 \nL 2450 531 \nL 3481 531 \nL 3481 0 \nL 794 0 \nL 794 531 \nz\n\" transform=\"scale(0.015625)\"/>\n       </defs>\n       <use xlink:href=\"#DejaVuSans-31\"/>\n      </g>\n     </g>\n    </g>\n    <g id=\"xtick_3\">\n     <g id=\"line2d_5\">\n      <path d=\"M 168.239899 145.8 \nL 168.239899 7.2 \n\" clip-path=\"url(#p878546b064)\" style=\"fill: none; stroke: #b0b0b0; stroke-width: 0.8; stroke-linecap: square\"/>\n     </g>\n     <g id=\"line2d_6\">\n      <g>\n       <use xlink:href=\"#m35708c559e\" x=\"168.239899\" y=\"145.8\" style=\"stroke: #000000; stroke-width: 0.8\"/>\n      </g>\n     </g>\n     <g id=\"text_3\">\n      <!-- 2 -->\n      <g transform=\"translate(165.058649 160.398438) scale(0.1 -0.1)\">\n       <defs>\n        <path id=\"DejaVuSans-32\" d=\"M 1228 531 \nL 3431 531 \nL 3431 0 \nL 469 0 \nL 469 531 \nQ 828 903 1448 1529 \nQ 2069 2156 2228 2338 \nQ 2531 2678 2651 2914 \nQ 2772 3150 2772 3378 \nQ 2772 3750 2511 3984 \nQ 2250 4219 1831 4219 \nQ 1534 4219 1204 4116 \nQ 875 4013 500 3803 \nL 500 4441 \nQ 881 4594 1212 4672 \nQ 1544 4750 1819 4750 \nQ 2544 4750 2975 4387 \nQ 3406 4025 3406 3419 \nQ 3406 3131 3298 2873 \nQ 3191 2616 2906 2266 \nQ 2828 2175 2409 1742 \nQ 1991 1309 1228 531 \nz\n\" transform=\"scale(0.015625)\"/>\n       </defs>\n       <use xlink:href=\"#DejaVuSans-32\"/>\n      </g>\n     </g>\n    </g>\n    <g id=\"xtick_4\">\n     <g id=\"line2d_7\">\n      <path d=\"M 227.61965 145.8 \nL 227.61965 7.2 \n\" clip-path=\"url(#p878546b064)\" style=\"fill: none; stroke: #b0b0b0; stroke-width: 0.8; stroke-linecap: square\"/>\n     </g>\n     <g id=\"line2d_8\">\n      <g>\n       <use xlink:href=\"#m35708c559e\" x=\"227.61965\" y=\"145.8\" style=\"stroke: #000000; stroke-width: 0.8\"/>\n      </g>\n     </g>\n     <g id=\"text_4\">\n      <!-- 3 -->\n      <g transform=\"translate(224.4384 160.398438) scale(0.1 -0.1)\">\n       <defs>\n        <path id=\"DejaVuSans-33\" d=\"M 2597 2516 \nQ 3050 2419 3304 2112 \nQ 3559 1806 3559 1356 \nQ 3559 666 3084 287 \nQ 2609 -91 1734 -91 \nQ 1441 -91 1130 -33 \nQ 819 25 488 141 \nL 488 750 \nQ 750 597 1062 519 \nQ 1375 441 1716 441 \nQ 2309 441 2620 675 \nQ 2931 909 2931 1356 \nQ 2931 1769 2642 2001 \nQ 2353 2234 1838 2234 \nL 1294 2234 \nL 1294 2753 \nL 1863 2753 \nQ 2328 2753 2575 2939 \nQ 2822 3125 2822 3475 \nQ 2822 3834 2567 4026 \nQ 2313 4219 1838 4219 \nQ 1578 4219 1281 4162 \nQ 984 4106 628 3988 \nL 628 4550 \nQ 988 4650 1302 4700 \nQ 1616 4750 1894 4750 \nQ 2613 4750 3031 4423 \nQ 3450 4097 3450 3541 \nQ 3450 3153 3228 2886 \nQ 3006 2619 2597 2516 \nz\n\" transform=\"scale(0.015625)\"/>\n       </defs>\n       <use xlink:href=\"#DejaVuSans-33\"/>\n      </g>\n     </g>\n    </g>\n    <g id=\"text_5\">\n     <!-- x -->\n     <g transform=\"translate(135.29375 174.076563) scale(0.1 -0.1)\">\n      <defs>\n       <path id=\"DejaVuSans-78\" d=\"M 3513 3500 \nL 2247 1797 \nL 3578 0 \nL 2900 0 \nL 1881 1375 \nL 863 0 \nL 184 0 \nL 1544 1831 \nL 300 3500 \nL 978 3500 \nL 1906 2253 \nL 2834 3500 \nL 3513 3500 \nz\n\" transform=\"scale(0.015625)\"/>\n      </defs>\n      <use xlink:href=\"#DejaVuSans-78\"/>\n     </g>\n    </g>\n   </g>\n   <g id=\"matplotlib.axis_2\">\n    <g id=\"ytick_1\">\n     <g id=\"line2d_9\">\n      <path d=\"M 40.603125 118.335742 \nL 235.903125 118.335742 \n\" clip-path=\"url(#p878546b064)\" style=\"fill: none; stroke: #b0b0b0; stroke-width: 0.8; stroke-linecap: square\"/>\n     </g>\n     <g id=\"line2d_10\">\n      <defs>\n       <path id=\"mc9ee035722\" d=\"M 0 0 \nL -3.5 0 \n\" style=\"stroke: #000000; stroke-width: 0.8\"/>\n      </defs>\n      <g>\n       <use xlink:href=\"#mc9ee035722\" x=\"40.603125\" y=\"118.335742\" style=\"stroke: #000000; stroke-width: 0.8\"/>\n      </g>\n     </g>\n     <g id=\"text_6\">\n      <!-- 0 -->\n      <g transform=\"translate(27.240625 122.134961) scale(0.1 -0.1)\">\n       <use xlink:href=\"#DejaVuSans-30\"/>\n      </g>\n     </g>\n    </g>\n    <g id=\"ytick_2\">\n     <g id=\"line2d_11\">\n      <path d=\"M 40.603125 83.061978 \nL 235.903125 83.061978 \n\" clip-path=\"url(#p878546b064)\" style=\"fill: none; stroke: #b0b0b0; stroke-width: 0.8; stroke-linecap: square\"/>\n     </g>\n     <g id=\"line2d_12\">\n      <g>\n       <use xlink:href=\"#mc9ee035722\" x=\"40.603125\" y=\"83.061978\" style=\"stroke: #000000; stroke-width: 0.8\"/>\n      </g>\n     </g>\n     <g id=\"text_7\">\n      <!-- 5 -->\n      <g transform=\"translate(27.240625 86.861197) scale(0.1 -0.1)\">\n       <defs>\n        <path id=\"DejaVuSans-35\" d=\"M 691 4666 \nL 3169 4666 \nL 3169 4134 \nL 1269 4134 \nL 1269 2991 \nQ 1406 3038 1543 3061 \nQ 1681 3084 1819 3084 \nQ 2600 3084 3056 2656 \nQ 3513 2228 3513 1497 \nQ 3513 744 3044 326 \nQ 2575 -91 1722 -91 \nQ 1428 -91 1123 -41 \nQ 819 9 494 109 \nL 494 744 \nQ 775 591 1075 516 \nQ 1375 441 1709 441 \nQ 2250 441 2565 725 \nQ 2881 1009 2881 1497 \nQ 2881 1984 2565 2268 \nQ 2250 2553 1709 2553 \nQ 1456 2553 1204 2497 \nQ 953 2441 691 2322 \nL 691 4666 \nz\n\" transform=\"scale(0.015625)\"/>\n       </defs>\n       <use xlink:href=\"#DejaVuSans-35\"/>\n      </g>\n     </g>\n    </g>\n    <g id=\"ytick_3\">\n     <g id=\"line2d_13\">\n      <path d=\"M 40.603125 47.788215 \nL 235.903125 47.788215 \n\" clip-path=\"url(#p878546b064)\" style=\"fill: none; stroke: #b0b0b0; stroke-width: 0.8; stroke-linecap: square\"/>\n     </g>\n     <g id=\"line2d_14\">\n      <g>\n       <use xlink:href=\"#mc9ee035722\" x=\"40.603125\" y=\"47.788215\" style=\"stroke: #000000; stroke-width: 0.8\"/>\n      </g>\n     </g>\n     <g id=\"text_8\">\n      <!-- 10 -->\n      <g transform=\"translate(20.878125 51.587433) scale(0.1 -0.1)\">\n       <use xlink:href=\"#DejaVuSans-31\"/>\n       <use xlink:href=\"#DejaVuSans-30\" x=\"63.623047\"/>\n      </g>\n     </g>\n    </g>\n    <g id=\"ytick_4\">\n     <g id=\"line2d_15\">\n      <path d=\"M 40.603125 12.514451 \nL 235.903125 12.514451 \n\" clip-path=\"url(#p878546b064)\" style=\"fill: none; stroke: #b0b0b0; stroke-width: 0.8; stroke-linecap: square\"/>\n     </g>\n     <g id=\"line2d_16\">\n      <g>\n       <use xlink:href=\"#mc9ee035722\" x=\"40.603125\" y=\"12.514451\" style=\"stroke: #000000; stroke-width: 0.8\"/>\n      </g>\n     </g>\n     <g id=\"text_9\">\n      <!-- 15 -->\n      <g transform=\"translate(20.878125 16.31367) scale(0.1 -0.1)\">\n       <use xlink:href=\"#DejaVuSans-31\"/>\n       <use xlink:href=\"#DejaVuSans-35\" x=\"63.623047\"/>\n      </g>\n     </g>\n    </g>\n    <g id=\"text_10\">\n     <!-- f(x) -->\n     <g transform=\"translate(14.798437 85.121094) rotate(-90) scale(0.1 -0.1)\">\n      <defs>\n       <path id=\"DejaVuSans-66\" d=\"M 2375 4863 \nL 2375 4384 \nL 1825 4384 \nQ 1516 4384 1395 4259 \nQ 1275 4134 1275 3809 \nL 1275 3500 \nL 2222 3500 \nL 2222 3053 \nL 1275 3053 \nL 1275 0 \nL 697 0 \nL 697 3053 \nL 147 3053 \nL 147 3500 \nL 697 3500 \nL 697 3744 \nQ 697 4328 969 4595 \nQ 1241 4863 1831 4863 \nL 2375 4863 \nz\n\" transform=\"scale(0.015625)\"/>\n       <path id=\"DejaVuSans-28\" d=\"M 1984 4856 \nQ 1566 4138 1362 3434 \nQ 1159 2731 1159 2009 \nQ 1159 1288 1364 580 \nQ 1569 -128 1984 -844 \nL 1484 -844 \nQ 1016 -109 783 600 \nQ 550 1309 550 2009 \nQ 550 2706 781 3412 \nQ 1013 4119 1484 4856 \nL 1984 4856 \nz\n\" transform=\"scale(0.015625)\"/>\n       <path id=\"DejaVuSans-29\" d=\"M 513 4856 \nL 1013 4856 \nQ 1481 4119 1714 3412 \nQ 1947 2706 1947 2009 \nQ 1947 1309 1714 600 \nQ 1481 -109 1013 -844 \nL 513 -844 \nQ 928 -128 1133 580 \nQ 1338 1288 1338 2009 \nQ 1338 2731 1133 3434 \nQ 928 4138 513 4856 \nz\n\" transform=\"scale(0.015625)\"/>\n      </defs>\n      <use xlink:href=\"#DejaVuSans-66\"/>\n      <use xlink:href=\"#DejaVuSans-28\" x=\"35.205078\"/>\n      <use xlink:href=\"#DejaVuSans-78\" x=\"74.21875\"/>\n      <use xlink:href=\"#DejaVuSans-29\" x=\"133.398438\"/>\n     </g>\n    </g>\n   </g>\n   <g id=\"line2d_17\">\n    <path d=\"M 49.480398 118.335742 \nL 54.230778 120.457811 \nL 58.981158 122.308979 \nL 63.13774 123.706525 \nL 67.294323 124.896662 \nL 71.450905 125.879389 \nL 75.607488 126.654706 \nL 79.764071 127.222614 \nL 83.920653 127.583112 \nL 88.077236 127.7362 \nL 92.233818 127.681878 \nL 96.390401 127.420147 \nL 100.546983 126.951006 \nL 104.703566 126.274455 \nL 108.860148 125.390495 \nL 113.016731 124.299124 \nL 117.173314 123.000344 \nL 121.329896 121.494155 \nL 126.080276 119.518824 \nL 130.830656 117.272591 \nL 135.581036 114.755455 \nL 140.331416 111.967417 \nL 145.081796 108.908476 \nL 149.832176 105.578632 \nL 154.582556 101.977887 \nL 159.332936 98.106238 \nL 164.083317 93.963688 \nL 168.833697 89.550234 \nL 174.177874 84.261286 \nL 179.522052 78.629477 \nL 184.866229 72.654807 \nL 190.210407 66.337276 \nL 195.554584 59.676884 \nL 200.898762 52.673631 \nL 206.24294 45.327517 \nL 212.180915 36.763047 \nL 218.11889 27.775292 \nL 224.056865 18.364252 \nL 227.025852 13.5 \nL 227.025852 13.5 \n\" clip-path=\"url(#p878546b064)\" style=\"fill: none; stroke: #1f77b4; stroke-width: 1.5; stroke-linecap: square\"/>\n   </g>\n   <g id=\"line2d_18\">\n    <path d=\"M 49.480398 139.5 \nL 227.025852 97.312579 \nL 227.025852 97.312579 \n\" clip-path=\"url(#p878546b064)\" style=\"fill: none; stroke-dasharray: 5.55,2.4; stroke-dashoffset: 0; stroke: #bf00bf; stroke-width: 1.5\"/>\n   </g>\n   <g id=\"patch_3\">\n    <path d=\"M 40.603125 145.8 \nL 40.603125 7.2 \n\" style=\"fill: none; stroke: #000000; stroke-width: 0.8; stroke-linejoin: miter; stroke-linecap: square\"/>\n   </g>\n   <g id=\"patch_4\">\n    <path d=\"M 235.903125 145.8 \nL 235.903125 7.2 \n\" style=\"fill: none; stroke: #000000; stroke-width: 0.8; stroke-linejoin: miter; stroke-linecap: square\"/>\n   </g>\n   <g id=\"patch_5\">\n    <path d=\"M 40.603125 145.8 \nL 235.903125 145.8 \n\" style=\"fill: none; stroke: #000000; stroke-width: 0.8; stroke-linejoin: miter; stroke-linecap: square\"/>\n   </g>\n   <g id=\"patch_6\">\n    <path d=\"M 40.603125 7.2 \nL 235.903125 7.2 \n\" style=\"fill: none; stroke: #000000; stroke-width: 0.8; stroke-linejoin: miter; stroke-linecap: square\"/>\n   </g>\n   <g id=\"legend_1\">\n    <g id=\"patch_7\">\n     <path d=\"M 47.603125 44.55625 \nL 172.153125 44.55625 \nQ 174.153125 44.55625 174.153125 42.55625 \nL 174.153125 14.2 \nQ 174.153125 12.2 172.153125 12.2 \nL 47.603125 12.2 \nQ 45.603125 12.2 45.603125 14.2 \nL 45.603125 42.55625 \nQ 45.603125 44.55625 47.603125 44.55625 \nz\n\" style=\"fill: #ffffff; opacity: 0.8; stroke: #cccccc; stroke-linejoin: miter\"/>\n    </g>\n    <g id=\"line2d_19\">\n     <path d=\"M 49.603125 20.298438 \nL 59.603125 20.298438 \nL 69.603125 20.298438 \n\" style=\"fill: none; stroke: #1f77b4; stroke-width: 1.5; stroke-linecap: square\"/>\n    </g>\n    <g id=\"text_11\">\n     <!-- f(x) -->\n     <g transform=\"translate(77.603125 23.798438) scale(0.1 -0.1)\">\n      <use xlink:href=\"#DejaVuSans-66\"/>\n      <use xlink:href=\"#DejaVuSans-28\" x=\"35.205078\"/>\n      <use xlink:href=\"#DejaVuSans-78\" x=\"74.21875\"/>\n      <use xlink:href=\"#DejaVuSans-29\" x=\"133.398438\"/>\n     </g>\n    </g>\n    <g id=\"line2d_20\">\n     <path d=\"M 49.603125 34.976562 \nL 59.603125 34.976562 \nL 69.603125 34.976562 \n\" style=\"fill: none; stroke-dasharray: 5.55,2.4; stroke-dashoffset: 0; stroke: #bf00bf; stroke-width: 1.5\"/>\n    </g>\n    <g id=\"text_12\">\n     <!-- Tangent line (x=1) -->\n     <g transform=\"translate(77.603125 38.476562) scale(0.1 -0.1)\">\n      <defs>\n       <path id=\"DejaVuSans-54\" d=\"M -19 4666 \nL 3928 4666 \nL 3928 4134 \nL 2272 4134 \nL 2272 0 \nL 1638 0 \nL 1638 4134 \nL -19 4134 \nL -19 4666 \nz\n\" transform=\"scale(0.015625)\"/>\n       <path id=\"DejaVuSans-61\" d=\"M 2194 1759 \nQ 1497 1759 1228 1600 \nQ 959 1441 959 1056 \nQ 959 750 1161 570 \nQ 1363 391 1709 391 \nQ 2188 391 2477 730 \nQ 2766 1069 2766 1631 \nL 2766 1759 \nL 2194 1759 \nz\nM 3341 1997 \nL 3341 0 \nL 2766 0 \nL 2766 531 \nQ 2569 213 2275 61 \nQ 1981 -91 1556 -91 \nQ 1019 -91 701 211 \nQ 384 513 384 1019 \nQ 384 1609 779 1909 \nQ 1175 2209 1959 2209 \nL 2766 2209 \nL 2766 2266 \nQ 2766 2663 2505 2880 \nQ 2244 3097 1772 3097 \nQ 1472 3097 1187 3025 \nQ 903 2953 641 2809 \nL 641 3341 \nQ 956 3463 1253 3523 \nQ 1550 3584 1831 3584 \nQ 2591 3584 2966 3190 \nQ 3341 2797 3341 1997 \nz\n\" transform=\"scale(0.015625)\"/>\n       <path id=\"DejaVuSans-6e\" d=\"M 3513 2113 \nL 3513 0 \nL 2938 0 \nL 2938 2094 \nQ 2938 2591 2744 2837 \nQ 2550 3084 2163 3084 \nQ 1697 3084 1428 2787 \nQ 1159 2491 1159 1978 \nL 1159 0 \nL 581 0 \nL 581 3500 \nL 1159 3500 \nL 1159 2956 \nQ 1366 3272 1645 3428 \nQ 1925 3584 2291 3584 \nQ 2894 3584 3203 3211 \nQ 3513 2838 3513 2113 \nz\n\" transform=\"scale(0.015625)\"/>\n       <path id=\"DejaVuSans-67\" d=\"M 2906 1791 \nQ 2906 2416 2648 2759 \nQ 2391 3103 1925 3103 \nQ 1463 3103 1205 2759 \nQ 947 2416 947 1791 \nQ 947 1169 1205 825 \nQ 1463 481 1925 481 \nQ 2391 481 2648 825 \nQ 2906 1169 2906 1791 \nz\nM 3481 434 \nQ 3481 -459 3084 -895 \nQ 2688 -1331 1869 -1331 \nQ 1566 -1331 1297 -1286 \nQ 1028 -1241 775 -1147 \nL 775 -588 \nQ 1028 -725 1275 -790 \nQ 1522 -856 1778 -856 \nQ 2344 -856 2625 -561 \nQ 2906 -266 2906 331 \nL 2906 616 \nQ 2728 306 2450 153 \nQ 2172 0 1784 0 \nQ 1141 0 747 490 \nQ 353 981 353 1791 \nQ 353 2603 747 3093 \nQ 1141 3584 1784 3584 \nQ 2172 3584 2450 3431 \nQ 2728 3278 2906 2969 \nL 2906 3500 \nL 3481 3500 \nL 3481 434 \nz\n\" transform=\"scale(0.015625)\"/>\n       <path id=\"DejaVuSans-65\" d=\"M 3597 1894 \nL 3597 1613 \nL 953 1613 \nQ 991 1019 1311 708 \nQ 1631 397 2203 397 \nQ 2534 397 2845 478 \nQ 3156 559 3463 722 \nL 3463 178 \nQ 3153 47 2828 -22 \nQ 2503 -91 2169 -91 \nQ 1331 -91 842 396 \nQ 353 884 353 1716 \nQ 353 2575 817 3079 \nQ 1281 3584 2069 3584 \nQ 2775 3584 3186 3129 \nQ 3597 2675 3597 1894 \nz\nM 3022 2063 \nQ 3016 2534 2758 2815 \nQ 2500 3097 2075 3097 \nQ 1594 3097 1305 2825 \nQ 1016 2553 972 2059 \nL 3022 2063 \nz\n\" transform=\"scale(0.015625)\"/>\n       <path id=\"DejaVuSans-74\" d=\"M 1172 4494 \nL 1172 3500 \nL 2356 3500 \nL 2356 3053 \nL 1172 3053 \nL 1172 1153 \nQ 1172 725 1289 603 \nQ 1406 481 1766 481 \nL 2356 481 \nL 2356 0 \nL 1766 0 \nQ 1100 0 847 248 \nQ 594 497 594 1153 \nL 594 3053 \nL 172 3053 \nL 172 3500 \nL 594 3500 \nL 594 4494 \nL 1172 4494 \nz\n\" transform=\"scale(0.015625)\"/>\n       <path id=\"DejaVuSans-20\" transform=\"scale(0.015625)\"/>\n       <path id=\"DejaVuSans-6c\" d=\"M 603 4863 \nL 1178 4863 \nL 1178 0 \nL 603 0 \nL 603 4863 \nz\n\" transform=\"scale(0.015625)\"/>\n       <path id=\"DejaVuSans-69\" d=\"M 603 3500 \nL 1178 3500 \nL 1178 0 \nL 603 0 \nL 603 3500 \nz\nM 603 4863 \nL 1178 4863 \nL 1178 4134 \nL 603 4134 \nL 603 4863 \nz\n\" transform=\"scale(0.015625)\"/>\n       <path id=\"DejaVuSans-3d\" d=\"M 678 2906 \nL 4684 2906 \nL 4684 2381 \nL 678 2381 \nL 678 2906 \nz\nM 678 1631 \nL 4684 1631 \nL 4684 1100 \nL 678 1100 \nL 678 1631 \nz\n\" transform=\"scale(0.015625)\"/>\n      </defs>\n      <use xlink:href=\"#DejaVuSans-54\"/>\n      <use xlink:href=\"#DejaVuSans-61\" x=\"44.583984\"/>\n      <use xlink:href=\"#DejaVuSans-6e\" x=\"105.863281\"/>\n      <use xlink:href=\"#DejaVuSans-67\" x=\"169.242188\"/>\n      <use xlink:href=\"#DejaVuSans-65\" x=\"232.71875\"/>\n      <use xlink:href=\"#DejaVuSans-6e\" x=\"294.242188\"/>\n      <use xlink:href=\"#DejaVuSans-74\" x=\"357.621094\"/>\n      <use xlink:href=\"#DejaVuSans-20\" x=\"396.830078\"/>\n      <use xlink:href=\"#DejaVuSans-6c\" x=\"428.617188\"/>\n      <use xlink:href=\"#DejaVuSans-69\" x=\"456.400391\"/>\n      <use xlink:href=\"#DejaVuSans-6e\" x=\"484.183594\"/>\n      <use xlink:href=\"#DejaVuSans-65\" x=\"547.5625\"/>\n      <use xlink:href=\"#DejaVuSans-20\" x=\"609.085938\"/>\n      <use xlink:href=\"#DejaVuSans-28\" x=\"640.873047\"/>\n      <use xlink:href=\"#DejaVuSans-78\" x=\"679.886719\"/>\n      <use xlink:href=\"#DejaVuSans-3d\" x=\"739.066406\"/>\n      <use xlink:href=\"#DejaVuSans-31\" x=\"822.855469\"/>\n      <use xlink:href=\"#DejaVuSans-29\" x=\"886.478516\"/>\n     </g>\n    </g>\n   </g>\n  </g>\n </g>\n <defs>\n  <clipPath id=\"p878546b064\">\n   <rect x=\"40.603125\" y=\"7.2\" width=\"195.3\" height=\"138.6\"/>\n  </clipPath>\n </defs>\n</svg>\n"
     },
     "metadata": {},
     "output_type": "display_data"
    }
   ],
   "execution_count": 17
  },
  {
   "metadata": {},
   "cell_type": "markdown",
   "source": [
    "函数 $f(\\boldsymbol{x})$ 相对于 $\\boldsymbol{x}$ 的梯度是一个包含 $n$ 个偏导数的向量：\n",
    "$$\n",
    "\\nabla_{\\boldsymbol{x}}f(\\boldsymbol{x}) = \\left[ \\dfrac{\\partial f(\\boldsymbol{x})}{\\partial x_1}, \\dfrac{\\partial f(\\boldsymbol{x})}{\\partial x_2}, \\cdots, \\dfrac{\\partial f(\\boldsymbol{x})}{\\partial x_n} \\right]^T\n",
    "$$\n",
    "假设 $\\boldsymbol{x}$ 为 $n$ 维向量，在微分多元函数时经常使用以下规则：\n",
    "- 对于所有 $\\boldsymbol{A} \\in \\mathbb{R}^{m \\times n}$，都有 $\\nabla_\\boldsymbol{x} \\boldsymbol{Ax} = \\boldsymbol{A}^T$\n",
    "- 对于所有 $\\boldsymbol{A} \\in \\mathbb{R}^{m \\times n}$，都有 $\\nabla_\\boldsymbol{x}\\boldsymbol{x}^T\\boldsymbol{A} = \\boldsymbol{A}$\n",
    "- 对于所有 $\\boldsymbol{A} \\in \\mathbb{R}^{m \\times n}$，都有 $\\nabla_\\boldsymbol{x}\\boldsymbol{x}^T\\boldsymbol{Ax} = (\\boldsymbol{A} + \\boldsymbol{A}^T)\\boldsymbol{x}$\n",
    "$$\n",
    "\\nabla_\\boldsymbol{x}\\boldsymbol{x}^T\\boldsymbol{Ax} = (\\boldsymbol{x}^T\\boldsymbol{A})^T + \\boldsymbol{Ax} = (\\boldsymbol{A} + \\boldsymbol{A}^T)\\boldsymbol{x}\n",
    "$$\n",
    "- $\\nabla_\\boldsymbol{x}\\|\\boldsymbol{x}\\|^2 = \\nabla_\\boldsymbol{x}\\boldsymbol{x}^T\\boldsymbol{x} = 2\\boldsymbol{x}$\n",
    "$$\n",
    "\\nabla_\\boldsymbol{x}\\|\\boldsymbol{x}\\|^2 = \\nabla_\\boldsymbol{x}\\boldsymbol{x}^T\\boldsymbol{x} = 2(\\boldsymbol{E} + \\boldsymbol{E}^T)\\boldsymbol{x} = 2\\boldsymbol{x}\n",
    "$$"
   ],
   "id": "ec5884df7d1d5cf"
  },
  {
   "metadata": {
    "ExecuteTime": {
     "end_time": "2025-02-10T18:13:51.935787Z",
     "start_time": "2025-02-10T18:13:51.873109Z"
    }
   },
   "cell_type": "code",
   "source": [
    "def f2(x):\n",
    "    return x**3 - 1/x\n",
    "\n",
    "x = np.arange(0.2, 3, 0.01)\n",
    "plot(x, [f2(x), 4*x - 4], 'x', 'f(x)', legend=['f(x)', 'Tangent line (x=1)'])"
   ],
   "id": "7535ac04ce112ee1",
   "outputs": [
    {
     "data": {
      "text/plain": [
       "<Figure size 350x250 with 1 Axes>"
      ],
      "image/svg+xml": "<?xml version=\"1.0\" encoding=\"utf-8\" standalone=\"no\"?>\n<!DOCTYPE svg PUBLIC \"-//W3C//DTD SVG 1.1//EN\"\n  \"http://www.w3.org/Graphics/SVG/1.1/DTD/svg11.dtd\">\n<svg xmlns:xlink=\"http://www.w3.org/1999/xlink\" width=\"243.103125pt\" height=\"183.35625pt\" viewBox=\"0 0 243.103125 183.35625\" xmlns=\"http://www.w3.org/2000/svg\" version=\"1.1\">\n <metadata>\n  <rdf:RDF xmlns:dc=\"http://purl.org/dc/elements/1.1/\" xmlns:cc=\"http://creativecommons.org/ns#\" xmlns:rdf=\"http://www.w3.org/1999/02/22-rdf-syntax-ns#\">\n   <cc:Work>\n    <dc:type rdf:resource=\"http://purl.org/dc/dcmitype/StillImage\"/>\n    <dc:date>2025-02-11T02:13:51.926184</dc:date>\n    <dc:format>image/svg+xml</dc:format>\n    <dc:creator>\n     <cc:Agent>\n      <dc:title>Matplotlib v3.7.2, https://matplotlib.org/</dc:title>\n     </cc:Agent>\n    </dc:creator>\n   </cc:Work>\n  </rdf:RDF>\n </metadata>\n <defs>\n  <style type=\"text/css\">*{stroke-linejoin: round; stroke-linecap: butt}</style>\n </defs>\n <g id=\"figure_1\">\n  <g id=\"patch_1\">\n   <path d=\"M 0 183.35625 \nL 243.103125 183.35625 \nL 243.103125 0 \nL 0 0 \nz\n\" style=\"fill: #ffffff\"/>\n  </g>\n  <g id=\"axes_1\">\n   <g id=\"patch_2\">\n    <path d=\"M 40.603125 145.8 \nL 235.903125 145.8 \nL 235.903125 7.2 \nL 40.603125 7.2 \nz\n\" style=\"fill: #ffffff\"/>\n   </g>\n   <g id=\"matplotlib.axis_1\">\n    <g id=\"xtick_1\">\n     <g id=\"line2d_1\">\n      <path d=\"M 100.389489 145.8 \nL 100.389489 7.2 \n\" clip-path=\"url(#p72e2d08206)\" style=\"fill: none; stroke: #b0b0b0; stroke-width: 0.8; stroke-linecap: square\"/>\n     </g>\n     <g id=\"line2d_2\">\n      <defs>\n       <path id=\"m7491ece4c0\" d=\"M 0 0 \nL 0 3.5 \n\" style=\"stroke: #000000; stroke-width: 0.8\"/>\n      </defs>\n      <g>\n       <use xlink:href=\"#m7491ece4c0\" x=\"100.389489\" y=\"145.8\" style=\"stroke: #000000; stroke-width: 0.8\"/>\n      </g>\n     </g>\n     <g id=\"text_1\">\n      <!-- 1 -->\n      <g transform=\"translate(97.208239 160.398438) scale(0.1 -0.1)\">\n       <defs>\n        <path id=\"DejaVuSans-31\" d=\"M 794 531 \nL 1825 531 \nL 1825 4091 \nL 703 3866 \nL 703 4441 \nL 1819 4666 \nL 2450 4666 \nL 2450 531 \nL 3481 531 \nL 3481 0 \nL 794 0 \nL 794 531 \nz\n\" transform=\"scale(0.015625)\"/>\n       </defs>\n       <use xlink:href=\"#DejaVuSans-31\"/>\n      </g>\n     </g>\n    </g>\n    <g id=\"xtick_2\">\n     <g id=\"line2d_3\">\n      <path d=\"M 164.025852 145.8 \nL 164.025852 7.2 \n\" clip-path=\"url(#p72e2d08206)\" style=\"fill: none; stroke: #b0b0b0; stroke-width: 0.8; stroke-linecap: square\"/>\n     </g>\n     <g id=\"line2d_4\">\n      <g>\n       <use xlink:href=\"#m7491ece4c0\" x=\"164.025852\" y=\"145.8\" style=\"stroke: #000000; stroke-width: 0.8\"/>\n      </g>\n     </g>\n     <g id=\"text_2\">\n      <!-- 2 -->\n      <g transform=\"translate(160.844602 160.398438) scale(0.1 -0.1)\">\n       <defs>\n        <path id=\"DejaVuSans-32\" d=\"M 1228 531 \nL 3431 531 \nL 3431 0 \nL 469 0 \nL 469 531 \nQ 828 903 1448 1529 \nQ 2069 2156 2228 2338 \nQ 2531 2678 2651 2914 \nQ 2772 3150 2772 3378 \nQ 2772 3750 2511 3984 \nQ 2250 4219 1831 4219 \nQ 1534 4219 1204 4116 \nQ 875 4013 500 3803 \nL 500 4441 \nQ 881 4594 1212 4672 \nQ 1544 4750 1819 4750 \nQ 2544 4750 2975 4387 \nQ 3406 4025 3406 3419 \nQ 3406 3131 3298 2873 \nQ 3191 2616 2906 2266 \nQ 2828 2175 2409 1742 \nQ 1991 1309 1228 531 \nz\n\" transform=\"scale(0.015625)\"/>\n       </defs>\n       <use xlink:href=\"#DejaVuSans-32\"/>\n      </g>\n     </g>\n    </g>\n    <g id=\"xtick_3\">\n     <g id=\"line2d_5\">\n      <path d=\"M 227.662216 145.8 \nL 227.662216 7.2 \n\" clip-path=\"url(#p72e2d08206)\" style=\"fill: none; stroke: #b0b0b0; stroke-width: 0.8; stroke-linecap: square\"/>\n     </g>\n     <g id=\"line2d_6\">\n      <g>\n       <use xlink:href=\"#m7491ece4c0\" x=\"227.662216\" y=\"145.8\" style=\"stroke: #000000; stroke-width: 0.8\"/>\n      </g>\n     </g>\n     <g id=\"text_3\">\n      <!-- 3 -->\n      <g transform=\"translate(224.480966 160.398438) scale(0.1 -0.1)\">\n       <defs>\n        <path id=\"DejaVuSans-33\" d=\"M 2597 2516 \nQ 3050 2419 3304 2112 \nQ 3559 1806 3559 1356 \nQ 3559 666 3084 287 \nQ 2609 -91 1734 -91 \nQ 1441 -91 1130 -33 \nQ 819 25 488 141 \nL 488 750 \nQ 750 597 1062 519 \nQ 1375 441 1716 441 \nQ 2309 441 2620 675 \nQ 2931 909 2931 1356 \nQ 2931 1769 2642 2001 \nQ 2353 2234 1838 2234 \nL 1294 2234 \nL 1294 2753 \nL 1863 2753 \nQ 2328 2753 2575 2939 \nQ 2822 3125 2822 3475 \nQ 2822 3834 2567 4026 \nQ 2313 4219 1838 4219 \nQ 1578 4219 1281 4162 \nQ 984 4106 628 3988 \nL 628 4550 \nQ 988 4650 1302 4700 \nQ 1616 4750 1894 4750 \nQ 2613 4750 3031 4423 \nQ 3450 4097 3450 3541 \nQ 3450 3153 3228 2886 \nQ 3006 2619 2597 2516 \nz\n\" transform=\"scale(0.015625)\"/>\n       </defs>\n       <use xlink:href=\"#DejaVuSans-33\"/>\n      </g>\n     </g>\n    </g>\n    <g id=\"text_4\">\n     <!-- x -->\n     <g transform=\"translate(135.29375 174.076563) scale(0.1 -0.1)\">\n      <defs>\n       <path id=\"DejaVuSans-78\" d=\"M 3513 3500 \nL 2247 1797 \nL 3578 0 \nL 2900 0 \nL 1881 1375 \nL 863 0 \nL 184 0 \nL 1544 1831 \nL 300 3500 \nL 978 3500 \nL 1906 2253 \nL 2834 3500 \nL 3513 3500 \nz\n\" transform=\"scale(0.015625)\"/>\n      </defs>\n      <use xlink:href=\"#DejaVuSans-78\"/>\n     </g>\n    </g>\n   </g>\n   <g id=\"matplotlib.axis_2\">\n    <g id=\"ytick_1\">\n     <g id=\"line2d_7\">\n      <path d=\"M 40.603125 119.461037 \nL 235.903125 119.461037 \n\" clip-path=\"url(#p72e2d08206)\" style=\"fill: none; stroke: #b0b0b0; stroke-width: 0.8; stroke-linecap: square\"/>\n     </g>\n     <g id=\"line2d_8\">\n      <defs>\n       <path id=\"m1fee3f30ee\" d=\"M 0 0 \nL -3.5 0 \n\" style=\"stroke: #000000; stroke-width: 0.8\"/>\n      </defs>\n      <g>\n       <use xlink:href=\"#m1fee3f30ee\" x=\"40.603125\" y=\"119.461037\" style=\"stroke: #000000; stroke-width: 0.8\"/>\n      </g>\n     </g>\n     <g id=\"text_5\">\n      <!-- 0 -->\n      <g transform=\"translate(27.240625 123.260256) scale(0.1 -0.1)\">\n       <defs>\n        <path id=\"DejaVuSans-30\" d=\"M 2034 4250 \nQ 1547 4250 1301 3770 \nQ 1056 3291 1056 2328 \nQ 1056 1369 1301 889 \nQ 1547 409 2034 409 \nQ 2525 409 2770 889 \nQ 3016 1369 3016 2328 \nQ 3016 3291 2770 3770 \nQ 2525 4250 2034 4250 \nz\nM 2034 4750 \nQ 2819 4750 3233 4129 \nQ 3647 3509 3647 2328 \nQ 3647 1150 3233 529 \nQ 2819 -91 2034 -91 \nQ 1250 -91 836 529 \nQ 422 1150 422 2328 \nQ 422 3509 836 4129 \nQ 1250 4750 2034 4750 \nz\n\" transform=\"scale(0.015625)\"/>\n       </defs>\n       <use xlink:href=\"#DejaVuSans-30\"/>\n      </g>\n     </g>\n    </g>\n    <g id=\"ytick_2\">\n     <g id=\"line2d_9\">\n      <path d=\"M 40.603125 79.318884 \nL 235.903125 79.318884 \n\" clip-path=\"url(#p72e2d08206)\" style=\"fill: none; stroke: #b0b0b0; stroke-width: 0.8; stroke-linecap: square\"/>\n     </g>\n     <g id=\"line2d_10\">\n      <g>\n       <use xlink:href=\"#m1fee3f30ee\" x=\"40.603125\" y=\"79.318884\" style=\"stroke: #000000; stroke-width: 0.8\"/>\n      </g>\n     </g>\n     <g id=\"text_6\">\n      <!-- 10 -->\n      <g transform=\"translate(20.878125 83.118103) scale(0.1 -0.1)\">\n       <use xlink:href=\"#DejaVuSans-31\"/>\n       <use xlink:href=\"#DejaVuSans-30\" x=\"63.623047\"/>\n      </g>\n     </g>\n    </g>\n    <g id=\"ytick_3\">\n     <g id=\"line2d_11\">\n      <path d=\"M 40.603125 39.176731 \nL 235.903125 39.176731 \n\" clip-path=\"url(#p72e2d08206)\" style=\"fill: none; stroke: #b0b0b0; stroke-width: 0.8; stroke-linecap: square\"/>\n     </g>\n     <g id=\"line2d_12\">\n      <g>\n       <use xlink:href=\"#m1fee3f30ee\" x=\"40.603125\" y=\"39.176731\" style=\"stroke: #000000; stroke-width: 0.8\"/>\n      </g>\n     </g>\n     <g id=\"text_7\">\n      <!-- 20 -->\n      <g transform=\"translate(20.878125 42.97595) scale(0.1 -0.1)\">\n       <use xlink:href=\"#DejaVuSans-32\"/>\n       <use xlink:href=\"#DejaVuSans-30\" x=\"63.623047\"/>\n      </g>\n     </g>\n    </g>\n    <g id=\"text_8\">\n     <!-- f(x) -->\n     <g transform=\"translate(14.798437 85.121094) rotate(-90) scale(0.1 -0.1)\">\n      <defs>\n       <path id=\"DejaVuSans-66\" d=\"M 2375 4863 \nL 2375 4384 \nL 1825 4384 \nQ 1516 4384 1395 4259 \nQ 1275 4134 1275 3809 \nL 1275 3500 \nL 2222 3500 \nL 2222 3053 \nL 1275 3053 \nL 1275 0 \nL 697 0 \nL 697 3053 \nL 147 3053 \nL 147 3500 \nL 697 3500 \nL 697 3744 \nQ 697 4328 969 4595 \nQ 1241 4863 1831 4863 \nL 2375 4863 \nz\n\" transform=\"scale(0.015625)\"/>\n       <path id=\"DejaVuSans-28\" d=\"M 1984 4856 \nQ 1566 4138 1362 3434 \nQ 1159 2731 1159 2009 \nQ 1159 1288 1364 580 \nQ 1569 -128 1984 -844 \nL 1484 -844 \nQ 1016 -109 783 600 \nQ 550 1309 550 2009 \nQ 550 2706 781 3412 \nQ 1013 4119 1484 4856 \nL 1984 4856 \nz\n\" transform=\"scale(0.015625)\"/>\n       <path id=\"DejaVuSans-29\" d=\"M 513 4856 \nL 1013 4856 \nQ 1481 4119 1714 3412 \nQ 1947 2706 1947 2009 \nQ 1947 1309 1714 600 \nQ 1481 -109 1013 -844 \nL 513 -844 \nQ 928 -128 1133 580 \nQ 1338 1288 1338 2009 \nQ 1338 2731 1133 3434 \nQ 928 4138 513 4856 \nz\n\" transform=\"scale(0.015625)\"/>\n      </defs>\n      <use xlink:href=\"#DejaVuSans-66\"/>\n      <use xlink:href=\"#DejaVuSans-28\" x=\"35.205078\"/>\n      <use xlink:href=\"#DejaVuSans-78\" x=\"74.21875\"/>\n      <use xlink:href=\"#DejaVuSans-29\" x=\"133.398438\"/>\n     </g>\n    </g>\n   </g>\n   <g id=\"line2d_13\">\n    <path d=\"M 49.480398 139.5 \nL 50.753125 137.664727 \nL 52.025852 136.131442 \nL 53.934943 134.249489 \nL 55.844034 132.733371 \nL 57.753125 131.481067 \nL 60.29858 130.106936 \nL 62.844034 128.975142 \nL 66.025852 127.796865 \nL 69.844034 126.616251 \nL 74.934943 125.284326 \nL 83.20767 123.398364 \nL 97.844034 120.090991 \nL 105.480398 118.121148 \nL 111.844034 116.26743 \nL 118.20767 114.178723 \nL 123.934943 112.069157 \nL 129.662216 109.717716 \nL 135.389489 107.102417 \nL 140.480398 104.539195 \nL 145.571307 101.736608 \nL 150.662216 98.68073 \nL 155.753125 95.357908 \nL 160.844034 91.754704 \nL 165.934943 87.857858 \nL 171.025852 83.654247 \nL 176.116761 79.130866 \nL 181.20767 74.274804 \nL 186.29858 69.073229 \nL 191.389489 63.513375 \nL 196.480398 57.582532 \nL 201.571307 51.268035 \nL 206.662216 44.55726 \nL 211.753125 37.437618 \nL 216.844034 29.896547 \nL 221.934943 21.921512 \nL 227.025852 13.5 \nL 227.025852 13.5 \n\" clip-path=\"url(#p72e2d08206)\" style=\"fill: none; stroke: #1f77b4; stroke-width: 1.5; stroke-linecap: square\"/>\n   </g>\n   <g id=\"line2d_14\">\n    <path d=\"M 49.480398 132.306526 \nL 227.025852 87.507883 \nL 227.025852 87.507883 \n\" clip-path=\"url(#p72e2d08206)\" style=\"fill: none; stroke-dasharray: 5.55,2.4; stroke-dashoffset: 0; stroke: #bf00bf; stroke-width: 1.5\"/>\n   </g>\n   <g id=\"patch_3\">\n    <path d=\"M 40.603125 145.8 \nL 40.603125 7.2 \n\" style=\"fill: none; stroke: #000000; stroke-width: 0.8; stroke-linejoin: miter; stroke-linecap: square\"/>\n   </g>\n   <g id=\"patch_4\">\n    <path d=\"M 235.903125 145.8 \nL 235.903125 7.2 \n\" style=\"fill: none; stroke: #000000; stroke-width: 0.8; stroke-linejoin: miter; stroke-linecap: square\"/>\n   </g>\n   <g id=\"patch_5\">\n    <path d=\"M 40.603125 145.8 \nL 235.903125 145.8 \n\" style=\"fill: none; stroke: #000000; stroke-width: 0.8; stroke-linejoin: miter; stroke-linecap: square\"/>\n   </g>\n   <g id=\"patch_6\">\n    <path d=\"M 40.603125 7.2 \nL 235.903125 7.2 \n\" style=\"fill: none; stroke: #000000; stroke-width: 0.8; stroke-linejoin: miter; stroke-linecap: square\"/>\n   </g>\n   <g id=\"legend_1\">\n    <g id=\"patch_7\">\n     <path d=\"M 47.603125 44.55625 \nL 172.153125 44.55625 \nQ 174.153125 44.55625 174.153125 42.55625 \nL 174.153125 14.2 \nQ 174.153125 12.2 172.153125 12.2 \nL 47.603125 12.2 \nQ 45.603125 12.2 45.603125 14.2 \nL 45.603125 42.55625 \nQ 45.603125 44.55625 47.603125 44.55625 \nz\n\" style=\"fill: #ffffff; opacity: 0.8; stroke: #cccccc; stroke-linejoin: miter\"/>\n    </g>\n    <g id=\"line2d_15\">\n     <path d=\"M 49.603125 20.298438 \nL 59.603125 20.298438 \nL 69.603125 20.298438 \n\" style=\"fill: none; stroke: #1f77b4; stroke-width: 1.5; stroke-linecap: square\"/>\n    </g>\n    <g id=\"text_9\">\n     <!-- f(x) -->\n     <g transform=\"translate(77.603125 23.798438) scale(0.1 -0.1)\">\n      <use xlink:href=\"#DejaVuSans-66\"/>\n      <use xlink:href=\"#DejaVuSans-28\" x=\"35.205078\"/>\n      <use xlink:href=\"#DejaVuSans-78\" x=\"74.21875\"/>\n      <use xlink:href=\"#DejaVuSans-29\" x=\"133.398438\"/>\n     </g>\n    </g>\n    <g id=\"line2d_16\">\n     <path d=\"M 49.603125 34.976562 \nL 59.603125 34.976562 \nL 69.603125 34.976562 \n\" style=\"fill: none; stroke-dasharray: 5.55,2.4; stroke-dashoffset: 0; stroke: #bf00bf; stroke-width: 1.5\"/>\n    </g>\n    <g id=\"text_10\">\n     <!-- Tangent line (x=1) -->\n     <g transform=\"translate(77.603125 38.476562) scale(0.1 -0.1)\">\n      <defs>\n       <path id=\"DejaVuSans-54\" d=\"M -19 4666 \nL 3928 4666 \nL 3928 4134 \nL 2272 4134 \nL 2272 0 \nL 1638 0 \nL 1638 4134 \nL -19 4134 \nL -19 4666 \nz\n\" transform=\"scale(0.015625)\"/>\n       <path id=\"DejaVuSans-61\" d=\"M 2194 1759 \nQ 1497 1759 1228 1600 \nQ 959 1441 959 1056 \nQ 959 750 1161 570 \nQ 1363 391 1709 391 \nQ 2188 391 2477 730 \nQ 2766 1069 2766 1631 \nL 2766 1759 \nL 2194 1759 \nz\nM 3341 1997 \nL 3341 0 \nL 2766 0 \nL 2766 531 \nQ 2569 213 2275 61 \nQ 1981 -91 1556 -91 \nQ 1019 -91 701 211 \nQ 384 513 384 1019 \nQ 384 1609 779 1909 \nQ 1175 2209 1959 2209 \nL 2766 2209 \nL 2766 2266 \nQ 2766 2663 2505 2880 \nQ 2244 3097 1772 3097 \nQ 1472 3097 1187 3025 \nQ 903 2953 641 2809 \nL 641 3341 \nQ 956 3463 1253 3523 \nQ 1550 3584 1831 3584 \nQ 2591 3584 2966 3190 \nQ 3341 2797 3341 1997 \nz\n\" transform=\"scale(0.015625)\"/>\n       <path id=\"DejaVuSans-6e\" d=\"M 3513 2113 \nL 3513 0 \nL 2938 0 \nL 2938 2094 \nQ 2938 2591 2744 2837 \nQ 2550 3084 2163 3084 \nQ 1697 3084 1428 2787 \nQ 1159 2491 1159 1978 \nL 1159 0 \nL 581 0 \nL 581 3500 \nL 1159 3500 \nL 1159 2956 \nQ 1366 3272 1645 3428 \nQ 1925 3584 2291 3584 \nQ 2894 3584 3203 3211 \nQ 3513 2838 3513 2113 \nz\n\" transform=\"scale(0.015625)\"/>\n       <path id=\"DejaVuSans-67\" d=\"M 2906 1791 \nQ 2906 2416 2648 2759 \nQ 2391 3103 1925 3103 \nQ 1463 3103 1205 2759 \nQ 947 2416 947 1791 \nQ 947 1169 1205 825 \nQ 1463 481 1925 481 \nQ 2391 481 2648 825 \nQ 2906 1169 2906 1791 \nz\nM 3481 434 \nQ 3481 -459 3084 -895 \nQ 2688 -1331 1869 -1331 \nQ 1566 -1331 1297 -1286 \nQ 1028 -1241 775 -1147 \nL 775 -588 \nQ 1028 -725 1275 -790 \nQ 1522 -856 1778 -856 \nQ 2344 -856 2625 -561 \nQ 2906 -266 2906 331 \nL 2906 616 \nQ 2728 306 2450 153 \nQ 2172 0 1784 0 \nQ 1141 0 747 490 \nQ 353 981 353 1791 \nQ 353 2603 747 3093 \nQ 1141 3584 1784 3584 \nQ 2172 3584 2450 3431 \nQ 2728 3278 2906 2969 \nL 2906 3500 \nL 3481 3500 \nL 3481 434 \nz\n\" transform=\"scale(0.015625)\"/>\n       <path id=\"DejaVuSans-65\" d=\"M 3597 1894 \nL 3597 1613 \nL 953 1613 \nQ 991 1019 1311 708 \nQ 1631 397 2203 397 \nQ 2534 397 2845 478 \nQ 3156 559 3463 722 \nL 3463 178 \nQ 3153 47 2828 -22 \nQ 2503 -91 2169 -91 \nQ 1331 -91 842 396 \nQ 353 884 353 1716 \nQ 353 2575 817 3079 \nQ 1281 3584 2069 3584 \nQ 2775 3584 3186 3129 \nQ 3597 2675 3597 1894 \nz\nM 3022 2063 \nQ 3016 2534 2758 2815 \nQ 2500 3097 2075 3097 \nQ 1594 3097 1305 2825 \nQ 1016 2553 972 2059 \nL 3022 2063 \nz\n\" transform=\"scale(0.015625)\"/>\n       <path id=\"DejaVuSans-74\" d=\"M 1172 4494 \nL 1172 3500 \nL 2356 3500 \nL 2356 3053 \nL 1172 3053 \nL 1172 1153 \nQ 1172 725 1289 603 \nQ 1406 481 1766 481 \nL 2356 481 \nL 2356 0 \nL 1766 0 \nQ 1100 0 847 248 \nQ 594 497 594 1153 \nL 594 3053 \nL 172 3053 \nL 172 3500 \nL 594 3500 \nL 594 4494 \nL 1172 4494 \nz\n\" transform=\"scale(0.015625)\"/>\n       <path id=\"DejaVuSans-20\" transform=\"scale(0.015625)\"/>\n       <path id=\"DejaVuSans-6c\" d=\"M 603 4863 \nL 1178 4863 \nL 1178 0 \nL 603 0 \nL 603 4863 \nz\n\" transform=\"scale(0.015625)\"/>\n       <path id=\"DejaVuSans-69\" d=\"M 603 3500 \nL 1178 3500 \nL 1178 0 \nL 603 0 \nL 603 3500 \nz\nM 603 4863 \nL 1178 4863 \nL 1178 4134 \nL 603 4134 \nL 603 4863 \nz\n\" transform=\"scale(0.015625)\"/>\n       <path id=\"DejaVuSans-3d\" d=\"M 678 2906 \nL 4684 2906 \nL 4684 2381 \nL 678 2381 \nL 678 2906 \nz\nM 678 1631 \nL 4684 1631 \nL 4684 1100 \nL 678 1100 \nL 678 1631 \nz\n\" transform=\"scale(0.015625)\"/>\n      </defs>\n      <use xlink:href=\"#DejaVuSans-54\"/>\n      <use xlink:href=\"#DejaVuSans-61\" x=\"44.583984\"/>\n      <use xlink:href=\"#DejaVuSans-6e\" x=\"105.863281\"/>\n      <use xlink:href=\"#DejaVuSans-67\" x=\"169.242188\"/>\n      <use xlink:href=\"#DejaVuSans-65\" x=\"232.71875\"/>\n      <use xlink:href=\"#DejaVuSans-6e\" x=\"294.242188\"/>\n      <use xlink:href=\"#DejaVuSans-74\" x=\"357.621094\"/>\n      <use xlink:href=\"#DejaVuSans-20\" x=\"396.830078\"/>\n      <use xlink:href=\"#DejaVuSans-6c\" x=\"428.617188\"/>\n      <use xlink:href=\"#DejaVuSans-69\" x=\"456.400391\"/>\n      <use xlink:href=\"#DejaVuSans-6e\" x=\"484.183594\"/>\n      <use xlink:href=\"#DejaVuSans-65\" x=\"547.5625\"/>\n      <use xlink:href=\"#DejaVuSans-20\" x=\"609.085938\"/>\n      <use xlink:href=\"#DejaVuSans-28\" x=\"640.873047\"/>\n      <use xlink:href=\"#DejaVuSans-78\" x=\"679.886719\"/>\n      <use xlink:href=\"#DejaVuSans-3d\" x=\"739.066406\"/>\n      <use xlink:href=\"#DejaVuSans-31\" x=\"822.855469\"/>\n      <use xlink:href=\"#DejaVuSans-29\" x=\"886.478516\"/>\n     </g>\n    </g>\n   </g>\n  </g>\n </g>\n <defs>\n  <clipPath id=\"p72e2d08206\">\n   <rect x=\"40.603125\" y=\"7.2\" width=\"195.3\" height=\"138.6\"/>\n  </clipPath>\n </defs>\n</svg>\n"
     },
     "metadata": {},
     "output_type": "display_data"
    }
   ],
   "execution_count": 32
  },
  {
   "metadata": {},
   "cell_type": "markdown",
   "source": [
    "## 自动微分\n",
    "通过计算机来进行微分。使用反向传播(backpropagate)函数计算和重新填充每个参数的偏导数"
   ],
   "id": "5bb6e64c4d4a590d"
  },
  {
   "metadata": {
    "ExecuteTime": {
     "end_time": "2025-02-10T18:19:16.555032Z",
     "start_time": "2025-02-10T18:19:16.551381Z"
    }
   },
   "cell_type": "code",
   "source": [
    "import torch\n",
    "\n",
    "x = torch.arange(4.0, requires_grad=True)\n",
    "\n",
    "y = 2 * torch.dot(x, x)\n",
    "y"
   ],
   "id": "4235e9a068cef057",
   "outputs": [
    {
     "data": {
      "text/plain": [
       "tensor(28., grad_fn=<MulBackward0>)"
      ]
     },
     "execution_count": 34,
     "metadata": {},
     "output_type": "execute_result"
    }
   ],
   "execution_count": 34
  },
  {
   "metadata": {
    "ExecuteTime": {
     "end_time": "2025-02-10T18:19:48.635587Z",
     "start_time": "2025-02-10T18:19:48.617064Z"
    }
   },
   "cell_type": "code",
   "source": [
    "y.backward()\n",
    "x.grad"
   ],
   "id": "85811ed1fb30c9c7",
   "outputs": [
    {
     "data": {
      "text/plain": [
       "tensor([ 0.,  4.,  8., 12.])"
      ]
     },
     "execution_count": 35,
     "metadata": {},
     "output_type": "execute_result"
    }
   ],
   "execution_count": 35
  },
  {
   "metadata": {
    "ExecuteTime": {
     "end_time": "2025-02-10T18:27:06.037166Z",
     "start_time": "2025-02-10T18:27:06.034327Z"
    }
   },
   "cell_type": "code",
   "source": [
    "x.grad.zero_()\n",
    "y = x.sum()\n",
    "y.backward()\n",
    "x.grad"
   ],
   "id": "dc5564af8a8ba34b",
   "outputs": [
    {
     "data": {
      "text/plain": [
       "tensor([1., 1., 1., 1.])"
      ]
     },
     "execution_count": 39,
     "metadata": {},
     "output_type": "execute_result"
    }
   ],
   "execution_count": 39
  },
  {
   "metadata": {
    "ExecuteTime": {
     "end_time": "2025-02-14T13:22:23.893561Z",
     "start_time": "2025-02-14T13:22:23.016855Z"
    }
   },
   "cell_type": "code",
   "source": [
    "import torch\n",
    "\n",
    "x = torch.arange(5.0, requires_grad=True)\n",
    "y = x ** 2.5\n",
    "y.sum().backward()\n",
    "x.grad"
   ],
   "id": "e0e460d6e0467e71",
   "outputs": [
    {
     "data": {
      "text/plain": [
       "tensor([ 0.0000,  2.5000,  7.0711, 12.9904, 20.0000])"
      ]
     },
     "execution_count": 3,
     "metadata": {},
     "output_type": "execute_result"
    }
   ],
   "execution_count": 3
  },
  {
   "metadata": {
    "ExecuteTime": {
     "end_time": "2025-02-14T13:22:24.583753Z",
     "start_time": "2025-02-14T13:22:24.578536Z"
    }
   },
   "cell_type": "code",
   "source": [
    "x.grad.zero_()\n",
    "y = x * x\n",
    "# detach() 方法创建一个新的张量 u，它与 y 共享数据，但从计算图中分离出来。这意味着 u 不再跟踪其计算历史，后续对 u 的操作不会影响到 y 所在的计算图，也不会计算关于 y 的梯度。\n",
    "u = y.detach()\n",
    "z = u * x\n",
    "\n",
    "z.sum().backward()\n",
    "x.grad == u"
   ],
   "id": "7e35e2ccd3d89348",
   "outputs": [
    {
     "data": {
      "text/plain": [
       "tensor([True, True, True, True, True])"
      ]
     },
     "execution_count": 4,
     "metadata": {},
     "output_type": "execute_result"
    }
   ],
   "execution_count": 4
  },
  {
   "metadata": {
    "ExecuteTime": {
     "end_time": "2025-02-14T13:33:16.713359Z",
     "start_time": "2025-02-14T13:33:16.709124Z"
    }
   },
   "cell_type": "code",
   "source": [
    "def f(a):\n",
    "    b = a * 2\n",
    "    while b.norm() < 1000:\n",
    "        b = b * 2\n",
    "    if b.sum() > 0:\n",
    "        c = b\n",
    "    else:\n",
    "        c = 100 * b\n",
    "    return c\n",
    "\n",
    "#我们现在可以分析上面定义的f函数。请注意，它在其输入a中是分段线性的。换言之，对于任何a，存在某个常量标量k，使得f(a)=k*a，其中k的值取决于输入a，因此可以用d/a验证梯度是否正确\n",
    "a = torch.randn(size=[2,2], requires_grad=True)\n",
    "d = f(a)\n",
    "d.sum().backward()\n",
    "a.grad == d / a"
   ],
   "id": "3e4b4797164a0c9c",
   "outputs": [
    {
     "data": {
      "text/plain": [
       "tensor([[True, True],\n",
       "        [True, True]])"
      ]
     },
     "execution_count": 10,
     "metadata": {},
     "output_type": "execute_result"
    }
   ],
   "execution_count": 10
  },
  {
   "metadata": {
    "ExecuteTime": {
     "end_time": "2025-02-14T13:50:55.021977Z",
     "start_time": "2025-02-14T13:50:54.953097Z"
    }
   },
   "cell_type": "code",
   "source": [
    "from math import pi\n",
    "\n",
    "x = torch.arange(0,2*pi,0.01, requires_grad=True)\n",
    "y = torch.sin(x)\n",
    "y.sum().backward()\n",
    "plot(x.detach().numpy(), [y.detach().numpy(), x.grad.detach().numpy()], 'x', 'y', legend=['f(x)', 'f\\'(x)'])"
   ],
   "id": "8e1ae740c5d5e699",
   "outputs": [
    {
     "data": {
      "text/plain": [
       "<Figure size 350x250 with 1 Axes>"
      ],
      "image/svg+xml": "<?xml version=\"1.0\" encoding=\"utf-8\" standalone=\"no\"?>\n<!DOCTYPE svg PUBLIC \"-//W3C//DTD SVG 1.1//EN\"\n  \"http://www.w3.org/Graphics/SVG/1.1/DTD/svg11.dtd\">\n<svg xmlns:xlink=\"http://www.w3.org/1999/xlink\" width=\"254.660937pt\" height=\"183.35625pt\" viewBox=\"0 0 254.660937 183.35625\" xmlns=\"http://www.w3.org/2000/svg\" version=\"1.1\">\n <metadata>\n  <rdf:RDF xmlns:dc=\"http://purl.org/dc/elements/1.1/\" xmlns:cc=\"http://creativecommons.org/ns#\" xmlns:rdf=\"http://www.w3.org/1999/02/22-rdf-syntax-ns#\">\n   <cc:Work>\n    <dc:type rdf:resource=\"http://purl.org/dc/dcmitype/StillImage\"/>\n    <dc:date>2025-02-14T21:50:55.010450</dc:date>\n    <dc:format>image/svg+xml</dc:format>\n    <dc:creator>\n     <cc:Agent>\n      <dc:title>Matplotlib v3.7.2, https://matplotlib.org/</dc:title>\n     </cc:Agent>\n    </dc:creator>\n   </cc:Work>\n  </rdf:RDF>\n </metadata>\n <defs>\n  <style type=\"text/css\">*{stroke-linejoin: round; stroke-linecap: butt}</style>\n </defs>\n <g id=\"figure_1\">\n  <g id=\"patch_1\">\n   <path d=\"M 0 183.35625 \nL 254.660937 183.35625 \nL 254.660937 0 \nL 0 0 \nz\n\" style=\"fill: #ffffff\"/>\n  </g>\n  <g id=\"axes_1\">\n   <g id=\"patch_2\">\n    <path d=\"M 52.160938 145.8 \nL 247.460938 145.8 \nL 247.460938 7.2 \nL 52.160938 7.2 \nz\n\" style=\"fill: #ffffff\"/>\n   </g>\n   <g id=\"matplotlib.axis_1\">\n    <g id=\"xtick_1\">\n     <g id=\"line2d_1\">\n      <path d=\"M 61.03821 145.8 \nL 61.03821 7.2 \n\" clip-path=\"url(#p8571754f83)\" style=\"fill: none; stroke: #b0b0b0; stroke-width: 0.8; stroke-linecap: square\"/>\n     </g>\n     <g id=\"line2d_2\">\n      <defs>\n       <path id=\"md8abd43996\" d=\"M 0 0 \nL 0 3.5 \n\" style=\"stroke: #000000; stroke-width: 0.8\"/>\n      </defs>\n      <g>\n       <use xlink:href=\"#md8abd43996\" x=\"61.03821\" y=\"145.8\" style=\"stroke: #000000; stroke-width: 0.8\"/>\n      </g>\n     </g>\n     <g id=\"text_1\">\n      <!-- 0 -->\n      <g transform=\"translate(57.85696 160.398438) scale(0.1 -0.1)\">\n       <defs>\n        <path id=\"DejaVuSans-30\" d=\"M 2034 4250 \nQ 1547 4250 1301 3770 \nQ 1056 3291 1056 2328 \nQ 1056 1369 1301 889 \nQ 1547 409 2034 409 \nQ 2525 409 2770 889 \nQ 3016 1369 3016 2328 \nQ 3016 3291 2770 3770 \nQ 2525 4250 2034 4250 \nz\nM 2034 4750 \nQ 2819 4750 3233 4129 \nQ 3647 3509 3647 2328 \nQ 3647 1150 3233 529 \nQ 2819 -91 2034 -91 \nQ 1250 -91 836 529 \nQ 422 1150 422 2328 \nQ 422 3509 836 4129 \nQ 1250 4750 2034 4750 \nz\n\" transform=\"scale(0.015625)\"/>\n       </defs>\n       <use xlink:href=\"#DejaVuSans-30\"/>\n      </g>\n     </g>\n    </g>\n    <g id=\"xtick_2\">\n     <g id=\"line2d_3\">\n      <path d=\"M 117.581347 145.8 \nL 117.581347 7.2 \n\" clip-path=\"url(#p8571754f83)\" style=\"fill: none; stroke: #b0b0b0; stroke-width: 0.8; stroke-linecap: square\"/>\n     </g>\n     <g id=\"line2d_4\">\n      <g>\n       <use xlink:href=\"#md8abd43996\" x=\"117.581347\" y=\"145.8\" style=\"stroke: #000000; stroke-width: 0.8\"/>\n      </g>\n     </g>\n     <g id=\"text_2\">\n      <!-- 2 -->\n      <g transform=\"translate(114.400097 160.398438) scale(0.1 -0.1)\">\n       <defs>\n        <path id=\"DejaVuSans-32\" d=\"M 1228 531 \nL 3431 531 \nL 3431 0 \nL 469 0 \nL 469 531 \nQ 828 903 1448 1529 \nQ 2069 2156 2228 2338 \nQ 2531 2678 2651 2914 \nQ 2772 3150 2772 3378 \nQ 2772 3750 2511 3984 \nQ 2250 4219 1831 4219 \nQ 1534 4219 1204 4116 \nQ 875 4013 500 3803 \nL 500 4441 \nQ 881 4594 1212 4672 \nQ 1544 4750 1819 4750 \nQ 2544 4750 2975 4387 \nQ 3406 4025 3406 3419 \nQ 3406 3131 3298 2873 \nQ 3191 2616 2906 2266 \nQ 2828 2175 2409 1742 \nQ 1991 1309 1228 531 \nz\n\" transform=\"scale(0.015625)\"/>\n       </defs>\n       <use xlink:href=\"#DejaVuSans-32\"/>\n      </g>\n     </g>\n    </g>\n    <g id=\"xtick_3\">\n     <g id=\"line2d_5\">\n      <path d=\"M 174.124483 145.8 \nL 174.124483 7.2 \n\" clip-path=\"url(#p8571754f83)\" style=\"fill: none; stroke: #b0b0b0; stroke-width: 0.8; stroke-linecap: square\"/>\n     </g>\n     <g id=\"line2d_6\">\n      <g>\n       <use xlink:href=\"#md8abd43996\" x=\"174.124483\" y=\"145.8\" style=\"stroke: #000000; stroke-width: 0.8\"/>\n      </g>\n     </g>\n     <g id=\"text_3\">\n      <!-- 4 -->\n      <g transform=\"translate(170.943233 160.398438) scale(0.1 -0.1)\">\n       <defs>\n        <path id=\"DejaVuSans-34\" d=\"M 2419 4116 \nL 825 1625 \nL 2419 1625 \nL 2419 4116 \nz\nM 2253 4666 \nL 3047 4666 \nL 3047 1625 \nL 3713 1625 \nL 3713 1100 \nL 3047 1100 \nL 3047 0 \nL 2419 0 \nL 2419 1100 \nL 313 1100 \nL 313 1709 \nL 2253 4666 \nz\n\" transform=\"scale(0.015625)\"/>\n       </defs>\n       <use xlink:href=\"#DejaVuSans-34\"/>\n      </g>\n     </g>\n    </g>\n    <g id=\"xtick_4\">\n     <g id=\"line2d_7\">\n      <path d=\"M 230.66762 145.8 \nL 230.66762 7.2 \n\" clip-path=\"url(#p8571754f83)\" style=\"fill: none; stroke: #b0b0b0; stroke-width: 0.8; stroke-linecap: square\"/>\n     </g>\n     <g id=\"line2d_8\">\n      <g>\n       <use xlink:href=\"#md8abd43996\" x=\"230.66762\" y=\"145.8\" style=\"stroke: #000000; stroke-width: 0.8\"/>\n      </g>\n     </g>\n     <g id=\"text_4\">\n      <!-- 6 -->\n      <g transform=\"translate(227.48637 160.398438) scale(0.1 -0.1)\">\n       <defs>\n        <path id=\"DejaVuSans-36\" d=\"M 2113 2584 \nQ 1688 2584 1439 2293 \nQ 1191 2003 1191 1497 \nQ 1191 994 1439 701 \nQ 1688 409 2113 409 \nQ 2538 409 2786 701 \nQ 3034 994 3034 1497 \nQ 3034 2003 2786 2293 \nQ 2538 2584 2113 2584 \nz\nM 3366 4563 \nL 3366 3988 \nQ 3128 4100 2886 4159 \nQ 2644 4219 2406 4219 \nQ 1781 4219 1451 3797 \nQ 1122 3375 1075 2522 \nQ 1259 2794 1537 2939 \nQ 1816 3084 2150 3084 \nQ 2853 3084 3261 2657 \nQ 3669 2231 3669 1497 \nQ 3669 778 3244 343 \nQ 2819 -91 2113 -91 \nQ 1303 -91 875 529 \nQ 447 1150 447 2328 \nQ 447 3434 972 4092 \nQ 1497 4750 2381 4750 \nQ 2619 4750 2861 4703 \nQ 3103 4656 3366 4563 \nz\n\" transform=\"scale(0.015625)\"/>\n       </defs>\n       <use xlink:href=\"#DejaVuSans-36\"/>\n      </g>\n     </g>\n    </g>\n    <g id=\"text_5\">\n     <!-- x -->\n     <g transform=\"translate(146.851563 174.076563) scale(0.1 -0.1)\">\n      <defs>\n       <path id=\"DejaVuSans-78\" d=\"M 3513 3500 \nL 2247 1797 \nL 3578 0 \nL 2900 0 \nL 1881 1375 \nL 863 0 \nL 184 0 \nL 1544 1831 \nL 300 3500 \nL 978 3500 \nL 1906 2253 \nL 2834 3500 \nL 3513 3500 \nz\n\" transform=\"scale(0.015625)\"/>\n      </defs>\n      <use xlink:href=\"#DejaVuSans-78\"/>\n     </g>\n    </g>\n   </g>\n   <g id=\"matplotlib.axis_2\">\n    <g id=\"ytick_1\">\n     <g id=\"line2d_9\">\n      <path d=\"M 52.160938 139.500079 \nL 247.460938 139.500079 \n\" clip-path=\"url(#p8571754f83)\" style=\"fill: none; stroke: #b0b0b0; stroke-width: 0.8; stroke-linecap: square\"/>\n     </g>\n     <g id=\"line2d_10\">\n      <defs>\n       <path id=\"m3073fed86b\" d=\"M 0 0 \nL -3.5 0 \n\" style=\"stroke: #000000; stroke-width: 0.8\"/>\n      </defs>\n      <g>\n       <use xlink:href=\"#m3073fed86b\" x=\"52.160938\" y=\"139.500079\" style=\"stroke: #000000; stroke-width: 0.8\"/>\n      </g>\n     </g>\n     <g id=\"text_6\">\n      <!-- −1.0 -->\n      <g transform=\"translate(20.878125 143.299298) scale(0.1 -0.1)\">\n       <defs>\n        <path id=\"DejaVuSans-2212\" d=\"M 678 2272 \nL 4684 2272 \nL 4684 1741 \nL 678 1741 \nL 678 2272 \nz\n\" transform=\"scale(0.015625)\"/>\n        <path id=\"DejaVuSans-31\" d=\"M 794 531 \nL 1825 531 \nL 1825 4091 \nL 703 3866 \nL 703 4441 \nL 1819 4666 \nL 2450 4666 \nL 2450 531 \nL 3481 531 \nL 3481 0 \nL 794 0 \nL 794 531 \nz\n\" transform=\"scale(0.015625)\"/>\n        <path id=\"DejaVuSans-2e\" d=\"M 684 794 \nL 1344 794 \nL 1344 0 \nL 684 0 \nL 684 794 \nz\n\" transform=\"scale(0.015625)\"/>\n       </defs>\n       <use xlink:href=\"#DejaVuSans-2212\"/>\n       <use xlink:href=\"#DejaVuSans-31\" x=\"83.789062\"/>\n       <use xlink:href=\"#DejaVuSans-2e\" x=\"147.412109\"/>\n       <use xlink:href=\"#DejaVuSans-30\" x=\"179.199219\"/>\n      </g>\n     </g>\n    </g>\n    <g id=\"ytick_2\">\n     <g id=\"line2d_11\">\n      <path d=\"M 52.160938 108.000059 \nL 247.460938 108.000059 \n\" clip-path=\"url(#p8571754f83)\" style=\"fill: none; stroke: #b0b0b0; stroke-width: 0.8; stroke-linecap: square\"/>\n     </g>\n     <g id=\"line2d_12\">\n      <g>\n       <use xlink:href=\"#m3073fed86b\" x=\"52.160938\" y=\"108.000059\" style=\"stroke: #000000; stroke-width: 0.8\"/>\n      </g>\n     </g>\n     <g id=\"text_7\">\n      <!-- −0.5 -->\n      <g transform=\"translate(20.878125 111.799278) scale(0.1 -0.1)\">\n       <defs>\n        <path id=\"DejaVuSans-35\" d=\"M 691 4666 \nL 3169 4666 \nL 3169 4134 \nL 1269 4134 \nL 1269 2991 \nQ 1406 3038 1543 3061 \nQ 1681 3084 1819 3084 \nQ 2600 3084 3056 2656 \nQ 3513 2228 3513 1497 \nQ 3513 744 3044 326 \nQ 2575 -91 1722 -91 \nQ 1428 -91 1123 -41 \nQ 819 9 494 109 \nL 494 744 \nQ 775 591 1075 516 \nQ 1375 441 1709 441 \nQ 2250 441 2565 725 \nQ 2881 1009 2881 1497 \nQ 2881 1984 2565 2268 \nQ 2250 2553 1709 2553 \nQ 1456 2553 1204 2497 \nQ 953 2441 691 2322 \nL 691 4666 \nz\n\" transform=\"scale(0.015625)\"/>\n       </defs>\n       <use xlink:href=\"#DejaVuSans-2212\"/>\n       <use xlink:href=\"#DejaVuSans-30\" x=\"83.789062\"/>\n       <use xlink:href=\"#DejaVuSans-2e\" x=\"147.412109\"/>\n       <use xlink:href=\"#DejaVuSans-35\" x=\"179.199219\"/>\n      </g>\n     </g>\n    </g>\n    <g id=\"ytick_3\">\n     <g id=\"line2d_13\">\n      <path d=\"M 52.160938 76.500039 \nL 247.460938 76.500039 \n\" clip-path=\"url(#p8571754f83)\" style=\"fill: none; stroke: #b0b0b0; stroke-width: 0.8; stroke-linecap: square\"/>\n     </g>\n     <g id=\"line2d_14\">\n      <g>\n       <use xlink:href=\"#m3073fed86b\" x=\"52.160938\" y=\"76.500039\" style=\"stroke: #000000; stroke-width: 0.8\"/>\n      </g>\n     </g>\n     <g id=\"text_8\">\n      <!-- 0.0 -->\n      <g transform=\"translate(29.257812 80.299258) scale(0.1 -0.1)\">\n       <use xlink:href=\"#DejaVuSans-30\"/>\n       <use xlink:href=\"#DejaVuSans-2e\" x=\"63.623047\"/>\n       <use xlink:href=\"#DejaVuSans-30\" x=\"95.410156\"/>\n      </g>\n     </g>\n    </g>\n    <g id=\"ytick_4\">\n     <g id=\"line2d_15\">\n      <path d=\"M 52.160938 45.00002 \nL 247.460938 45.00002 \n\" clip-path=\"url(#p8571754f83)\" style=\"fill: none; stroke: #b0b0b0; stroke-width: 0.8; stroke-linecap: square\"/>\n     </g>\n     <g id=\"line2d_16\">\n      <g>\n       <use xlink:href=\"#m3073fed86b\" x=\"52.160938\" y=\"45.00002\" style=\"stroke: #000000; stroke-width: 0.8\"/>\n      </g>\n     </g>\n     <g id=\"text_9\">\n      <!-- 0.5 -->\n      <g transform=\"translate(29.257812 48.799238) scale(0.1 -0.1)\">\n       <use xlink:href=\"#DejaVuSans-30\"/>\n       <use xlink:href=\"#DejaVuSans-2e\" x=\"63.623047\"/>\n       <use xlink:href=\"#DejaVuSans-35\" x=\"95.410156\"/>\n      </g>\n     </g>\n    </g>\n    <g id=\"ytick_5\">\n     <g id=\"line2d_17\">\n      <path d=\"M 52.160938 13.5 \nL 247.460938 13.5 \n\" clip-path=\"url(#p8571754f83)\" style=\"fill: none; stroke: #b0b0b0; stroke-width: 0.8; stroke-linecap: square\"/>\n     </g>\n     <g id=\"line2d_18\">\n      <g>\n       <use xlink:href=\"#m3073fed86b\" x=\"52.160938\" y=\"13.5\" style=\"stroke: #000000; stroke-width: 0.8\"/>\n      </g>\n     </g>\n     <g id=\"text_10\">\n      <!-- 1.0 -->\n      <g transform=\"translate(29.257812 17.299219) scale(0.1 -0.1)\">\n       <use xlink:href=\"#DejaVuSans-31\"/>\n       <use xlink:href=\"#DejaVuSans-2e\" x=\"63.623047\"/>\n       <use xlink:href=\"#DejaVuSans-30\" x=\"95.410156\"/>\n      </g>\n     </g>\n    </g>\n    <g id=\"text_11\">\n     <!-- y -->\n     <g transform=\"translate(14.798438 79.459375) rotate(-90) scale(0.1 -0.1)\">\n      <defs>\n       <path id=\"DejaVuSans-79\" d=\"M 2059 -325 \nQ 1816 -950 1584 -1140 \nQ 1353 -1331 966 -1331 \nL 506 -1331 \nL 506 -850 \nL 844 -850 \nQ 1081 -850 1212 -737 \nQ 1344 -625 1503 -206 \nL 1606 56 \nL 191 3500 \nL 800 3500 \nL 1894 763 \nL 2988 3500 \nL 3597 3500 \nL 2059 -325 \nz\n\" transform=\"scale(0.015625)\"/>\n      </defs>\n      <use xlink:href=\"#DejaVuSans-79\"/>\n     </g>\n    </g>\n   </g>\n   <g id=\"line2d_19\">\n    <path d=\"M 61.03821 76.500039 \nL 69.236965 58.485039 \nL 73.760416 49.097194 \nL 77.435719 41.97451 \nL 80.545592 36.398171 \nL 83.372748 31.747756 \nL 85.91719 27.943458 \nL 88.461631 24.53221 \nL 90.723356 21.852345 \nL 92.985082 19.522035 \nL 94.964093 17.781541 \nL 96.943101 16.328649 \nL 98.922113 15.170473 \nL 100.618405 14.416667 \nL 102.314701 13.886294 \nL 104.010993 13.58126 \nL 105.707286 13.50267 \nL 107.403582 13.650797 \nL 109.099874 14.025116 \nL 110.79617 14.624279 \nL 112.492463 15.446123 \nL 114.471474 16.682409 \nL 116.450485 18.211679 \nL 118.429493 20.026441 \nL 120.691216 22.438579 \nL 122.952946 25.196535 \nL 125.497385 28.690523 \nL 128.041824 32.571508 \nL 130.868985 37.299304 \nL 133.978854 42.950316 \nL 137.371446 49.575092 \nL 141.612177 58.388907 \nL 146.983777 70.1107 \nL 159.140553 96.819816 \nL 163.381284 105.503103 \nL 166.773876 111.989682 \nL 169.883745 117.489443 \nL 172.710906 122.060922 \nL 175.255345 125.787231 \nL 177.79979 129.114594 \nL 180.061514 131.715463 \nL 182.32325 133.963158 \nL 184.302252 135.628782 \nL 186.281266 137.004811 \nL 188.260267 138.084476 \nL 189.95656 138.769987 \nL 191.652852 139.231394 \nL 193.349145 139.467038 \nL 195.045437 139.476065 \nL 196.741743 139.258446 \nL 198.438036 138.814969 \nL 200.134328 138.147223 \nL 201.830621 137.257615 \nL 203.809635 135.94364 \nL 205.788636 134.338517 \nL 207.767651 132.450095 \nL 210.029374 129.956941 \nL 212.291111 127.121825 \nL 214.835543 123.546288 \nL 217.379989 119.589912 \nL 220.207143 114.786361 \nL 223.317006 109.062597 \nL 226.992326 101.796336 \nL 231.233051 92.889974 \nL 237.170081 79.849135 \nL 238.583665 76.7007 \nL 238.583665 76.7007 \n\" clip-path=\"url(#p8571754f83)\" style=\"fill: none; stroke: #1f77b4; stroke-width: 1.5; stroke-linecap: square\"/>\n   </g>\n   <g id=\"line2d_20\">\n    <path d=\"M 61.03821 13.5 \nL 62.734504 13.613366 \nL 64.430798 13.953056 \nL 66.127092 14.517849 \nL 67.823386 15.305709 \nL 69.519681 16.313802 \nL 71.498691 17.763381 \nL 73.4777 19.500649 \nL 75.45671 21.517101 \nL 77.718435 24.150745 \nL 79.98016 27.119241 \nL 82.524602 30.835343 \nL 85.351758 35.396451 \nL 88.461631 40.886144 \nL 91.854221 47.363445 \nL 95.81224 55.44305 \nL 100.618405 65.792102 \nL 117.015916 101.566425 \nL 120.691216 108.84758 \nL 124.083808 115.08678 \nL 127.193678 120.320552 \nL 130.020838 124.620429 \nL 132.565277 128.080351 \nL 134.827 130.806122 \nL 137.08873 133.184527 \nL 139.067738 134.968656 \nL 141.046746 136.466405 \nL 143.025761 137.670443 \nL 144.722053 138.464191 \nL 146.418346 139.034931 \nL 148.114638 139.380614 \nL 149.810931 139.5 \nL 151.50723 139.392649 \nL 153.203522 139.058957 \nL 154.899815 138.500116 \nL 156.596107 137.718144 \nL 158.292407 136.715852 \nL 160.271415 135.272908 \nL 162.250422 133.542099 \nL 164.229437 131.531887 \nL 166.49116 128.90509 \nL 168.752884 125.943082 \nL 171.297329 122.233799 \nL 174.124483 117.679613 \nL 177.23436 112.196648 \nL 180.626944 105.725559 \nL 184.584974 97.651549 \nL 189.391129 87.306842 \nL 205.788636 51.525746 \nL 209.463944 44.238633 \nL 212.856542 37.992644 \nL 215.966405 32.751666 \nL 218.793559 28.444478 \nL 221.338004 24.977403 \nL 223.599728 22.244884 \nL 225.861464 19.8594 \nL 227.840466 18.068858 \nL 229.81948 16.564503 \nL 231.798481 15.353721 \nL 233.494774 14.554089 \nL 235.191066 13.977396 \nL 236.887359 13.625721 \nL 238.583665 13.500319 \nL 238.583665 13.500319 \n\" clip-path=\"url(#p8571754f83)\" style=\"fill: none; stroke-dasharray: 5.55,2.4; stroke-dashoffset: 0; stroke: #bf00bf; stroke-width: 1.5\"/>\n   </g>\n   <g id=\"patch_3\">\n    <path d=\"M 52.160938 145.8 \nL 52.160938 7.2 \n\" style=\"fill: none; stroke: #000000; stroke-width: 0.8; stroke-linejoin: miter; stroke-linecap: square\"/>\n   </g>\n   <g id=\"patch_4\">\n    <path d=\"M 247.460938 145.8 \nL 247.460938 7.2 \n\" style=\"fill: none; stroke: #000000; stroke-width: 0.8; stroke-linejoin: miter; stroke-linecap: square\"/>\n   </g>\n   <g id=\"patch_5\">\n    <path d=\"M 52.160938 145.8 \nL 247.460938 145.8 \n\" style=\"fill: none; stroke: #000000; stroke-width: 0.8; stroke-linejoin: miter; stroke-linecap: square\"/>\n   </g>\n   <g id=\"patch_6\">\n    <path d=\"M 52.160938 7.2 \nL 247.460938 7.2 \n\" style=\"fill: none; stroke: #000000; stroke-width: 0.8; stroke-linejoin: miter; stroke-linecap: square\"/>\n   </g>\n   <g id=\"legend_1\">\n    <g id=\"patch_7\">\n     <path d=\"M 59.160938 140.8 \nL 111.151562 140.8 \nQ 113.151562 140.8 113.151562 138.8 \nL 113.151562 110.44375 \nQ 113.151562 108.44375 111.151562 108.44375 \nL 59.160938 108.44375 \nQ 57.160938 108.44375 57.160938 110.44375 \nL 57.160938 138.8 \nQ 57.160938 140.8 59.160938 140.8 \nz\n\" style=\"fill: #ffffff; opacity: 0.8; stroke: #cccccc; stroke-linejoin: miter\"/>\n    </g>\n    <g id=\"line2d_21\">\n     <path d=\"M 61.160938 116.542188 \nL 71.160938 116.542188 \nL 81.160938 116.542188 \n\" style=\"fill: none; stroke: #1f77b4; stroke-width: 1.5; stroke-linecap: square\"/>\n    </g>\n    <g id=\"text_12\">\n     <!-- f(x) -->\n     <g transform=\"translate(89.160938 120.042188) scale(0.1 -0.1)\">\n      <defs>\n       <path id=\"DejaVuSans-66\" d=\"M 2375 4863 \nL 2375 4384 \nL 1825 4384 \nQ 1516 4384 1395 4259 \nQ 1275 4134 1275 3809 \nL 1275 3500 \nL 2222 3500 \nL 2222 3053 \nL 1275 3053 \nL 1275 0 \nL 697 0 \nL 697 3053 \nL 147 3053 \nL 147 3500 \nL 697 3500 \nL 697 3744 \nQ 697 4328 969 4595 \nQ 1241 4863 1831 4863 \nL 2375 4863 \nz\n\" transform=\"scale(0.015625)\"/>\n       <path id=\"DejaVuSans-28\" d=\"M 1984 4856 \nQ 1566 4138 1362 3434 \nQ 1159 2731 1159 2009 \nQ 1159 1288 1364 580 \nQ 1569 -128 1984 -844 \nL 1484 -844 \nQ 1016 -109 783 600 \nQ 550 1309 550 2009 \nQ 550 2706 781 3412 \nQ 1013 4119 1484 4856 \nL 1984 4856 \nz\n\" transform=\"scale(0.015625)\"/>\n       <path id=\"DejaVuSans-29\" d=\"M 513 4856 \nL 1013 4856 \nQ 1481 4119 1714 3412 \nQ 1947 2706 1947 2009 \nQ 1947 1309 1714 600 \nQ 1481 -109 1013 -844 \nL 513 -844 \nQ 928 -128 1133 580 \nQ 1338 1288 1338 2009 \nQ 1338 2731 1133 3434 \nQ 928 4138 513 4856 \nz\n\" transform=\"scale(0.015625)\"/>\n      </defs>\n      <use xlink:href=\"#DejaVuSans-66\"/>\n      <use xlink:href=\"#DejaVuSans-28\" x=\"35.205078\"/>\n      <use xlink:href=\"#DejaVuSans-78\" x=\"74.21875\"/>\n      <use xlink:href=\"#DejaVuSans-29\" x=\"133.398438\"/>\n     </g>\n    </g>\n    <g id=\"line2d_22\">\n     <path d=\"M 61.160938 131.220313 \nL 71.160938 131.220313 \nL 81.160938 131.220313 \n\" style=\"fill: none; stroke-dasharray: 5.55,2.4; stroke-dashoffset: 0; stroke: #bf00bf; stroke-width: 1.5\"/>\n    </g>\n    <g id=\"text_13\">\n     <!-- f'(x) -->\n     <g transform=\"translate(89.160938 134.720313) scale(0.1 -0.1)\">\n      <defs>\n       <path id=\"DejaVuSans-27\" d=\"M 1147 4666 \nL 1147 2931 \nL 616 2931 \nL 616 4666 \nL 1147 4666 \nz\n\" transform=\"scale(0.015625)\"/>\n      </defs>\n      <use xlink:href=\"#DejaVuSans-66\"/>\n      <use xlink:href=\"#DejaVuSans-27\" x=\"35.205078\"/>\n      <use xlink:href=\"#DejaVuSans-28\" x=\"62.695312\"/>\n      <use xlink:href=\"#DejaVuSans-78\" x=\"101.708984\"/>\n      <use xlink:href=\"#DejaVuSans-29\" x=\"160.888672\"/>\n     </g>\n    </g>\n   </g>\n  </g>\n </g>\n <defs>\n  <clipPath id=\"p8571754f83\">\n   <rect x=\"52.160938\" y=\"7.2\" width=\"195.3\" height=\"138.6\"/>\n  </clipPath>\n </defs>\n</svg>\n"
     },
     "metadata": {},
     "output_type": "display_data"
    }
   ],
   "execution_count": 39
  },
  {
   "metadata": {
    "ExecuteTime": {
     "end_time": "2025-02-15T00:57:17.286748Z",
     "start_time": "2025-02-15T00:57:17.284753Z"
    }
   },
   "cell_type": "code",
   "source": [
    "%matplotlib inline\n",
    "import torch\n",
    "from torch.distributions import multinomial\n",
    "from d2l import torch as d2l"
   ],
   "id": "afe39010f919c33e",
   "outputs": [],
   "execution_count": 48
  },
  {
   "metadata": {},
   "cell_type": "code",
   "outputs": [],
   "execution_count": null,
   "source": [
    "fair_probs = torch.ones(6) / 6\n",
    "counts = multinomial.Multinomial(10000, fair_probs).sample()\n",
    "counts / 10000"
   ],
   "id": "9574599b3389e068"
  },
  {
   "metadata": {
    "ExecuteTime": {
     "end_time": "2025-02-15T01:34:04.039620Z",
     "start_time": "2025-02-15T01:34:03.953936Z"
    }
   },
   "cell_type": "code",
   "source": [
    "r'''\n",
    "- multinomial.Multinomial 是 PyTorch 中用于创建多项分布对象的类。多项分布是二项分布的推广，用于描述在多次独立试验中，每个可能结果出现的次数的概率分布。\n",
    "- 10 表示每次实验中进行的独立试验次数，在这里可以理解为每次掷 10 次骰子。\n",
    "- .sample((500,)) 表示从这个多项分布中进行 500 次采样，每次采样代表一组实验（每组实验掷 10 次骰子）。最终 counts 是一个形状为 (500, 6) 的张量，其中每一行表示一组实验中每个点数出现的次数。\n",
    "'''\n",
    "counts = multinomial.Multinomial(10, fair_probs).sample((500,))\n",
    "'cumsum(dim=0) 是 PyTorch 张量的方法，用于沿着指定维度（这里是第 0 维，即行方向）计算累积和。cum_counts 是一个形状为 (500, 6) 的张量，其中第 i 行表示前 i+1 组实验中每个点数出现的累积次数。'\n",
    "cum_counts = counts.cumsum(dim=0)\n",
    "r'''\n",
    "- cum_counts.sum(dim=1, keepdims=True) 计算每一行的总和，并保持维度不变，得到一个形状为 (500, 1) 的张量，其中每个元素表示前 i+1 组实验中掷骰子的总次数。\n",
    "- 将 cum_counts 除以这个总和，就得到了每个点数在前 i+1 组实验中出现的频率，即估计概率。estimates 是一个形状为 (500, 6) 的张量，其中第 i 行表示前 i+1 组实验中每个点数出现的估计概率。\n",
    "'''\n",
    "estimates = cum_counts / cum_counts.sum(dim=1, keepdims=True)\n",
    "d2l.set_figsize((6, 4.5))\n",
    "for i in range(6):\n",
    "    d2l.plt.plot(estimates[:, i].numpy(),\n",
    "    label=(\"P(die=\" + str(i + 1) + \")\"))\n",
    "    d2l.plt.axhline(y=0.167, color='black', linestyle='dashed')\n",
    "    d2l.plt.gca().set_xlabel('Groups of experiments')\n",
    "    d2l.plt.gca().set_ylabel('Estimated probability')\n",
    "    d2l.plt.legend();"
   ],
   "id": "5ff002941586782",
   "outputs": [
    {
     "data": {
      "text/plain": [
       "<Figure size 600x450 with 1 Axes>"
      ],
      "image/svg+xml": "<?xml version=\"1.0\" encoding=\"utf-8\" standalone=\"no\"?>\n<!DOCTYPE svg PUBLIC \"-//W3C//DTD SVG 1.1//EN\"\n  \"http://www.w3.org/Graphics/SVG/1.1/DTD/svg11.dtd\">\n<svg xmlns:xlink=\"http://www.w3.org/1999/xlink\" width=\"392.14375pt\" height=\"294.23625pt\" viewBox=\"0 0 392.14375 294.23625\" xmlns=\"http://www.w3.org/2000/svg\" version=\"1.1\">\n <metadata>\n  <rdf:RDF xmlns:dc=\"http://purl.org/dc/elements/1.1/\" xmlns:cc=\"http://creativecommons.org/ns#\" xmlns:rdf=\"http://www.w3.org/1999/02/22-rdf-syntax-ns#\">\n   <cc:Work>\n    <dc:type rdf:resource=\"http://purl.org/dc/dcmitype/StillImage\"/>\n    <dc:date>2025-02-15T09:34:04.021679</dc:date>\n    <dc:format>image/svg+xml</dc:format>\n    <dc:creator>\n     <cc:Agent>\n      <dc:title>Matplotlib v3.7.2, https://matplotlib.org/</dc:title>\n     </cc:Agent>\n    </dc:creator>\n   </cc:Work>\n  </rdf:RDF>\n </metadata>\n <defs>\n  <style type=\"text/css\">*{stroke-linejoin: round; stroke-linecap: butt}</style>\n </defs>\n <g id=\"figure_1\">\n  <g id=\"patch_1\">\n   <path d=\"M 0 294.23625 \nL 392.14375 294.23625 \nL 392.14375 0 \nL 0 0 \nz\n\" style=\"fill: #ffffff\"/>\n  </g>\n  <g id=\"axes_1\">\n   <g id=\"patch_2\">\n    <path d=\"M 50.14375 256.68 \nL 384.94375 256.68 \nL 384.94375 7.2 \nL 50.14375 7.2 \nz\n\" style=\"fill: #ffffff\"/>\n   </g>\n   <g id=\"matplotlib.axis_1\">\n    <g id=\"xtick_1\">\n     <g id=\"line2d_1\">\n      <defs>\n       <path id=\"m6ab58c2d38\" d=\"M 0 0 \nL 0 3.5 \n\" style=\"stroke: #000000; stroke-width: 0.8\"/>\n      </defs>\n      <g>\n       <use xlink:href=\"#m6ab58c2d38\" x=\"65.361932\" y=\"256.68\" style=\"stroke: #000000; stroke-width: 0.8\"/>\n      </g>\n     </g>\n     <g id=\"text_1\">\n      <!-- 0 -->\n      <g transform=\"translate(62.180682 271.278437) scale(0.1 -0.1)\">\n       <defs>\n        <path id=\"DejaVuSans-30\" d=\"M 2034 4250 \nQ 1547 4250 1301 3770 \nQ 1056 3291 1056 2328 \nQ 1056 1369 1301 889 \nQ 1547 409 2034 409 \nQ 2525 409 2770 889 \nQ 3016 1369 3016 2328 \nQ 3016 3291 2770 3770 \nQ 2525 4250 2034 4250 \nz\nM 2034 4750 \nQ 2819 4750 3233 4129 \nQ 3647 3509 3647 2328 \nQ 3647 1150 3233 529 \nQ 2819 -91 2034 -91 \nQ 1250 -91 836 529 \nQ 422 1150 422 2328 \nQ 422 3509 836 4129 \nQ 1250 4750 2034 4750 \nz\n\" transform=\"scale(0.015625)\"/>\n       </defs>\n       <use xlink:href=\"#DejaVuSans-30\"/>\n      </g>\n     </g>\n    </g>\n    <g id=\"xtick_2\">\n     <g id=\"line2d_2\">\n      <g>\n       <use xlink:href=\"#m6ab58c2d38\" x=\"126.356649\" y=\"256.68\" style=\"stroke: #000000; stroke-width: 0.8\"/>\n      </g>\n     </g>\n     <g id=\"text_2\">\n      <!-- 100 -->\n      <g transform=\"translate(116.812899 271.278437) scale(0.1 -0.1)\">\n       <defs>\n        <path id=\"DejaVuSans-31\" d=\"M 794 531 \nL 1825 531 \nL 1825 4091 \nL 703 3866 \nL 703 4441 \nL 1819 4666 \nL 2450 4666 \nL 2450 531 \nL 3481 531 \nL 3481 0 \nL 794 0 \nL 794 531 \nz\n\" transform=\"scale(0.015625)\"/>\n       </defs>\n       <use xlink:href=\"#DejaVuSans-31\"/>\n       <use xlink:href=\"#DejaVuSans-30\" x=\"63.623047\"/>\n       <use xlink:href=\"#DejaVuSans-30\" x=\"127.246094\"/>\n      </g>\n     </g>\n    </g>\n    <g id=\"xtick_3\">\n     <g id=\"line2d_3\">\n      <g>\n       <use xlink:href=\"#m6ab58c2d38\" x=\"187.351365\" y=\"256.68\" style=\"stroke: #000000; stroke-width: 0.8\"/>\n      </g>\n     </g>\n     <g id=\"text_3\">\n      <!-- 200 -->\n      <g transform=\"translate(177.807615 271.278437) scale(0.1 -0.1)\">\n       <defs>\n        <path id=\"DejaVuSans-32\" d=\"M 1228 531 \nL 3431 531 \nL 3431 0 \nL 469 0 \nL 469 531 \nQ 828 903 1448 1529 \nQ 2069 2156 2228 2338 \nQ 2531 2678 2651 2914 \nQ 2772 3150 2772 3378 \nQ 2772 3750 2511 3984 \nQ 2250 4219 1831 4219 \nQ 1534 4219 1204 4116 \nQ 875 4013 500 3803 \nL 500 4441 \nQ 881 4594 1212 4672 \nQ 1544 4750 1819 4750 \nQ 2544 4750 2975 4387 \nQ 3406 4025 3406 3419 \nQ 3406 3131 3298 2873 \nQ 3191 2616 2906 2266 \nQ 2828 2175 2409 1742 \nQ 1991 1309 1228 531 \nz\n\" transform=\"scale(0.015625)\"/>\n       </defs>\n       <use xlink:href=\"#DejaVuSans-32\"/>\n       <use xlink:href=\"#DejaVuSans-30\" x=\"63.623047\"/>\n       <use xlink:href=\"#DejaVuSans-30\" x=\"127.246094\"/>\n      </g>\n     </g>\n    </g>\n    <g id=\"xtick_4\">\n     <g id=\"line2d_4\">\n      <g>\n       <use xlink:href=\"#m6ab58c2d38\" x=\"248.346082\" y=\"256.68\" style=\"stroke: #000000; stroke-width: 0.8\"/>\n      </g>\n     </g>\n     <g id=\"text_4\">\n      <!-- 300 -->\n      <g transform=\"translate(238.802332 271.278437) scale(0.1 -0.1)\">\n       <defs>\n        <path id=\"DejaVuSans-33\" d=\"M 2597 2516 \nQ 3050 2419 3304 2112 \nQ 3559 1806 3559 1356 \nQ 3559 666 3084 287 \nQ 2609 -91 1734 -91 \nQ 1441 -91 1130 -33 \nQ 819 25 488 141 \nL 488 750 \nQ 750 597 1062 519 \nQ 1375 441 1716 441 \nQ 2309 441 2620 675 \nQ 2931 909 2931 1356 \nQ 2931 1769 2642 2001 \nQ 2353 2234 1838 2234 \nL 1294 2234 \nL 1294 2753 \nL 1863 2753 \nQ 2328 2753 2575 2939 \nQ 2822 3125 2822 3475 \nQ 2822 3834 2567 4026 \nQ 2313 4219 1838 4219 \nQ 1578 4219 1281 4162 \nQ 984 4106 628 3988 \nL 628 4550 \nQ 988 4650 1302 4700 \nQ 1616 4750 1894 4750 \nQ 2613 4750 3031 4423 \nQ 3450 4097 3450 3541 \nQ 3450 3153 3228 2886 \nQ 3006 2619 2597 2516 \nz\n\" transform=\"scale(0.015625)\"/>\n       </defs>\n       <use xlink:href=\"#DejaVuSans-33\"/>\n       <use xlink:href=\"#DejaVuSans-30\" x=\"63.623047\"/>\n       <use xlink:href=\"#DejaVuSans-30\" x=\"127.246094\"/>\n      </g>\n     </g>\n    </g>\n    <g id=\"xtick_5\">\n     <g id=\"line2d_5\">\n      <g>\n       <use xlink:href=\"#m6ab58c2d38\" x=\"309.340799\" y=\"256.68\" style=\"stroke: #000000; stroke-width: 0.8\"/>\n      </g>\n     </g>\n     <g id=\"text_5\">\n      <!-- 400 -->\n      <g transform=\"translate(299.797049 271.278437) scale(0.1 -0.1)\">\n       <defs>\n        <path id=\"DejaVuSans-34\" d=\"M 2419 4116 \nL 825 1625 \nL 2419 1625 \nL 2419 4116 \nz\nM 2253 4666 \nL 3047 4666 \nL 3047 1625 \nL 3713 1625 \nL 3713 1100 \nL 3047 1100 \nL 3047 0 \nL 2419 0 \nL 2419 1100 \nL 313 1100 \nL 313 1709 \nL 2253 4666 \nz\n\" transform=\"scale(0.015625)\"/>\n       </defs>\n       <use xlink:href=\"#DejaVuSans-34\"/>\n       <use xlink:href=\"#DejaVuSans-30\" x=\"63.623047\"/>\n       <use xlink:href=\"#DejaVuSans-30\" x=\"127.246094\"/>\n      </g>\n     </g>\n    </g>\n    <g id=\"xtick_6\">\n     <g id=\"line2d_6\">\n      <g>\n       <use xlink:href=\"#m6ab58c2d38\" x=\"370.335515\" y=\"256.68\" style=\"stroke: #000000; stroke-width: 0.8\"/>\n      </g>\n     </g>\n     <g id=\"text_6\">\n      <!-- 500 -->\n      <g transform=\"translate(360.791765 271.278437) scale(0.1 -0.1)\">\n       <defs>\n        <path id=\"DejaVuSans-35\" d=\"M 691 4666 \nL 3169 4666 \nL 3169 4134 \nL 1269 4134 \nL 1269 2991 \nQ 1406 3038 1543 3061 \nQ 1681 3084 1819 3084 \nQ 2600 3084 3056 2656 \nQ 3513 2228 3513 1497 \nQ 3513 744 3044 326 \nQ 2575 -91 1722 -91 \nQ 1428 -91 1123 -41 \nQ 819 9 494 109 \nL 494 744 \nQ 775 591 1075 516 \nQ 1375 441 1709 441 \nQ 2250 441 2565 725 \nQ 2881 1009 2881 1497 \nQ 2881 1984 2565 2268 \nQ 2250 2553 1709 2553 \nQ 1456 2553 1204 2497 \nQ 953 2441 691 2322 \nL 691 4666 \nz\n\" transform=\"scale(0.015625)\"/>\n       </defs>\n       <use xlink:href=\"#DejaVuSans-35\"/>\n       <use xlink:href=\"#DejaVuSans-30\" x=\"63.623047\"/>\n       <use xlink:href=\"#DejaVuSans-30\" x=\"127.246094\"/>\n      </g>\n     </g>\n    </g>\n    <g id=\"text_7\">\n     <!-- Groups of experiments -->\n     <g transform=\"translate(160.397656 284.956562) scale(0.1 -0.1)\">\n      <defs>\n       <path id=\"DejaVuSans-47\" d=\"M 3809 666 \nL 3809 1919 \nL 2778 1919 \nL 2778 2438 \nL 4434 2438 \nL 4434 434 \nQ 4069 175 3628 42 \nQ 3188 -91 2688 -91 \nQ 1594 -91 976 548 \nQ 359 1188 359 2328 \nQ 359 3472 976 4111 \nQ 1594 4750 2688 4750 \nQ 3144 4750 3555 4637 \nQ 3966 4525 4313 4306 \nL 4313 3634 \nQ 3963 3931 3569 4081 \nQ 3175 4231 2741 4231 \nQ 1884 4231 1454 3753 \nQ 1025 3275 1025 2328 \nQ 1025 1384 1454 906 \nQ 1884 428 2741 428 \nQ 3075 428 3337 486 \nQ 3600 544 3809 666 \nz\n\" transform=\"scale(0.015625)\"/>\n       <path id=\"DejaVuSans-72\" d=\"M 2631 2963 \nQ 2534 3019 2420 3045 \nQ 2306 3072 2169 3072 \nQ 1681 3072 1420 2755 \nQ 1159 2438 1159 1844 \nL 1159 0 \nL 581 0 \nL 581 3500 \nL 1159 3500 \nL 1159 2956 \nQ 1341 3275 1631 3429 \nQ 1922 3584 2338 3584 \nQ 2397 3584 2469 3576 \nQ 2541 3569 2628 3553 \nL 2631 2963 \nz\n\" transform=\"scale(0.015625)\"/>\n       <path id=\"DejaVuSans-6f\" d=\"M 1959 3097 \nQ 1497 3097 1228 2736 \nQ 959 2375 959 1747 \nQ 959 1119 1226 758 \nQ 1494 397 1959 397 \nQ 2419 397 2687 759 \nQ 2956 1122 2956 1747 \nQ 2956 2369 2687 2733 \nQ 2419 3097 1959 3097 \nz\nM 1959 3584 \nQ 2709 3584 3137 3096 \nQ 3566 2609 3566 1747 \nQ 3566 888 3137 398 \nQ 2709 -91 1959 -91 \nQ 1206 -91 779 398 \nQ 353 888 353 1747 \nQ 353 2609 779 3096 \nQ 1206 3584 1959 3584 \nz\n\" transform=\"scale(0.015625)\"/>\n       <path id=\"DejaVuSans-75\" d=\"M 544 1381 \nL 544 3500 \nL 1119 3500 \nL 1119 1403 \nQ 1119 906 1312 657 \nQ 1506 409 1894 409 \nQ 2359 409 2629 706 \nQ 2900 1003 2900 1516 \nL 2900 3500 \nL 3475 3500 \nL 3475 0 \nL 2900 0 \nL 2900 538 \nQ 2691 219 2414 64 \nQ 2138 -91 1772 -91 \nQ 1169 -91 856 284 \nQ 544 659 544 1381 \nz\nM 1991 3584 \nL 1991 3584 \nz\n\" transform=\"scale(0.015625)\"/>\n       <path id=\"DejaVuSans-70\" d=\"M 1159 525 \nL 1159 -1331 \nL 581 -1331 \nL 581 3500 \nL 1159 3500 \nL 1159 2969 \nQ 1341 3281 1617 3432 \nQ 1894 3584 2278 3584 \nQ 2916 3584 3314 3078 \nQ 3713 2572 3713 1747 \nQ 3713 922 3314 415 \nQ 2916 -91 2278 -91 \nQ 1894 -91 1617 61 \nQ 1341 213 1159 525 \nz\nM 3116 1747 \nQ 3116 2381 2855 2742 \nQ 2594 3103 2138 3103 \nQ 1681 3103 1420 2742 \nQ 1159 2381 1159 1747 \nQ 1159 1113 1420 752 \nQ 1681 391 2138 391 \nQ 2594 391 2855 752 \nQ 3116 1113 3116 1747 \nz\n\" transform=\"scale(0.015625)\"/>\n       <path id=\"DejaVuSans-73\" d=\"M 2834 3397 \nL 2834 2853 \nQ 2591 2978 2328 3040 \nQ 2066 3103 1784 3103 \nQ 1356 3103 1142 2972 \nQ 928 2841 928 2578 \nQ 928 2378 1081 2264 \nQ 1234 2150 1697 2047 \nL 1894 2003 \nQ 2506 1872 2764 1633 \nQ 3022 1394 3022 966 \nQ 3022 478 2636 193 \nQ 2250 -91 1575 -91 \nQ 1294 -91 989 -36 \nQ 684 19 347 128 \nL 347 722 \nQ 666 556 975 473 \nQ 1284 391 1588 391 \nQ 1994 391 2212 530 \nQ 2431 669 2431 922 \nQ 2431 1156 2273 1281 \nQ 2116 1406 1581 1522 \nL 1381 1569 \nQ 847 1681 609 1914 \nQ 372 2147 372 2553 \nQ 372 3047 722 3315 \nQ 1072 3584 1716 3584 \nQ 2034 3584 2315 3537 \nQ 2597 3491 2834 3397 \nz\n\" transform=\"scale(0.015625)\"/>\n       <path id=\"DejaVuSans-20\" transform=\"scale(0.015625)\"/>\n       <path id=\"DejaVuSans-66\" d=\"M 2375 4863 \nL 2375 4384 \nL 1825 4384 \nQ 1516 4384 1395 4259 \nQ 1275 4134 1275 3809 \nL 1275 3500 \nL 2222 3500 \nL 2222 3053 \nL 1275 3053 \nL 1275 0 \nL 697 0 \nL 697 3053 \nL 147 3053 \nL 147 3500 \nL 697 3500 \nL 697 3744 \nQ 697 4328 969 4595 \nQ 1241 4863 1831 4863 \nL 2375 4863 \nz\n\" transform=\"scale(0.015625)\"/>\n       <path id=\"DejaVuSans-65\" d=\"M 3597 1894 \nL 3597 1613 \nL 953 1613 \nQ 991 1019 1311 708 \nQ 1631 397 2203 397 \nQ 2534 397 2845 478 \nQ 3156 559 3463 722 \nL 3463 178 \nQ 3153 47 2828 -22 \nQ 2503 -91 2169 -91 \nQ 1331 -91 842 396 \nQ 353 884 353 1716 \nQ 353 2575 817 3079 \nQ 1281 3584 2069 3584 \nQ 2775 3584 3186 3129 \nQ 3597 2675 3597 1894 \nz\nM 3022 2063 \nQ 3016 2534 2758 2815 \nQ 2500 3097 2075 3097 \nQ 1594 3097 1305 2825 \nQ 1016 2553 972 2059 \nL 3022 2063 \nz\n\" transform=\"scale(0.015625)\"/>\n       <path id=\"DejaVuSans-78\" d=\"M 3513 3500 \nL 2247 1797 \nL 3578 0 \nL 2900 0 \nL 1881 1375 \nL 863 0 \nL 184 0 \nL 1544 1831 \nL 300 3500 \nL 978 3500 \nL 1906 2253 \nL 2834 3500 \nL 3513 3500 \nz\n\" transform=\"scale(0.015625)\"/>\n       <path id=\"DejaVuSans-69\" d=\"M 603 3500 \nL 1178 3500 \nL 1178 0 \nL 603 0 \nL 603 3500 \nz\nM 603 4863 \nL 1178 4863 \nL 1178 4134 \nL 603 4134 \nL 603 4863 \nz\n\" transform=\"scale(0.015625)\"/>\n       <path id=\"DejaVuSans-6d\" d=\"M 3328 2828 \nQ 3544 3216 3844 3400 \nQ 4144 3584 4550 3584 \nQ 5097 3584 5394 3201 \nQ 5691 2819 5691 2113 \nL 5691 0 \nL 5113 0 \nL 5113 2094 \nQ 5113 2597 4934 2840 \nQ 4756 3084 4391 3084 \nQ 3944 3084 3684 2787 \nQ 3425 2491 3425 1978 \nL 3425 0 \nL 2847 0 \nL 2847 2094 \nQ 2847 2600 2669 2842 \nQ 2491 3084 2119 3084 \nQ 1678 3084 1418 2786 \nQ 1159 2488 1159 1978 \nL 1159 0 \nL 581 0 \nL 581 3500 \nL 1159 3500 \nL 1159 2956 \nQ 1356 3278 1631 3431 \nQ 1906 3584 2284 3584 \nQ 2666 3584 2933 3390 \nQ 3200 3197 3328 2828 \nz\n\" transform=\"scale(0.015625)\"/>\n       <path id=\"DejaVuSans-6e\" d=\"M 3513 2113 \nL 3513 0 \nL 2938 0 \nL 2938 2094 \nQ 2938 2591 2744 2837 \nQ 2550 3084 2163 3084 \nQ 1697 3084 1428 2787 \nQ 1159 2491 1159 1978 \nL 1159 0 \nL 581 0 \nL 581 3500 \nL 1159 3500 \nL 1159 2956 \nQ 1366 3272 1645 3428 \nQ 1925 3584 2291 3584 \nQ 2894 3584 3203 3211 \nQ 3513 2838 3513 2113 \nz\n\" transform=\"scale(0.015625)\"/>\n       <path id=\"DejaVuSans-74\" d=\"M 1172 4494 \nL 1172 3500 \nL 2356 3500 \nL 2356 3053 \nL 1172 3053 \nL 1172 1153 \nQ 1172 725 1289 603 \nQ 1406 481 1766 481 \nL 2356 481 \nL 2356 0 \nL 1766 0 \nQ 1100 0 847 248 \nQ 594 497 594 1153 \nL 594 3053 \nL 172 3053 \nL 172 3500 \nL 594 3500 \nL 594 4494 \nL 1172 4494 \nz\n\" transform=\"scale(0.015625)\"/>\n      </defs>\n      <use xlink:href=\"#DejaVuSans-47\"/>\n      <use xlink:href=\"#DejaVuSans-72\" x=\"77.490234\"/>\n      <use xlink:href=\"#DejaVuSans-6f\" x=\"116.353516\"/>\n      <use xlink:href=\"#DejaVuSans-75\" x=\"177.535156\"/>\n      <use xlink:href=\"#DejaVuSans-70\" x=\"240.914062\"/>\n      <use xlink:href=\"#DejaVuSans-73\" x=\"304.390625\"/>\n      <use xlink:href=\"#DejaVuSans-20\" x=\"356.490234\"/>\n      <use xlink:href=\"#DejaVuSans-6f\" x=\"388.277344\"/>\n      <use xlink:href=\"#DejaVuSans-66\" x=\"449.458984\"/>\n      <use xlink:href=\"#DejaVuSans-20\" x=\"484.664062\"/>\n      <use xlink:href=\"#DejaVuSans-65\" x=\"516.451172\"/>\n      <use xlink:href=\"#DejaVuSans-78\" x=\"576.224609\"/>\n      <use xlink:href=\"#DejaVuSans-70\" x=\"635.404297\"/>\n      <use xlink:href=\"#DejaVuSans-65\" x=\"698.880859\"/>\n      <use xlink:href=\"#DejaVuSans-72\" x=\"760.404297\"/>\n      <use xlink:href=\"#DejaVuSans-69\" x=\"801.517578\"/>\n      <use xlink:href=\"#DejaVuSans-6d\" x=\"829.300781\"/>\n      <use xlink:href=\"#DejaVuSans-65\" x=\"926.712891\"/>\n      <use xlink:href=\"#DejaVuSans-6e\" x=\"988.236328\"/>\n      <use xlink:href=\"#DejaVuSans-74\" x=\"1051.615234\"/>\n      <use xlink:href=\"#DejaVuSans-73\" x=\"1090.824219\"/>\n     </g>\n    </g>\n   </g>\n   <g id=\"matplotlib.axis_2\">\n    <g id=\"ytick_1\">\n     <g id=\"line2d_7\">\n      <defs>\n       <path id=\"mbab09bb192\" d=\"M 0 0 \nL -3.5 0 \n\" style=\"stroke: #000000; stroke-width: 0.8\"/>\n      </defs>\n      <g>\n       <use xlink:href=\"#mbab09bb192\" x=\"50.14375\" y=\"227.89385\" style=\"stroke: #000000; stroke-width: 0.8\"/>\n      </g>\n     </g>\n     <g id=\"text_8\">\n      <!-- 0.10 -->\n      <g transform=\"translate(20.878125 231.693068) scale(0.1 -0.1)\">\n       <defs>\n        <path id=\"DejaVuSans-2e\" d=\"M 684 794 \nL 1344 794 \nL 1344 0 \nL 684 0 \nL 684 794 \nz\n\" transform=\"scale(0.015625)\"/>\n       </defs>\n       <use xlink:href=\"#DejaVuSans-30\"/>\n       <use xlink:href=\"#DejaVuSans-2e\" x=\"63.623047\"/>\n       <use xlink:href=\"#DejaVuSans-31\" x=\"95.410156\"/>\n       <use xlink:href=\"#DejaVuSans-30\" x=\"159.033203\"/>\n      </g>\n     </g>\n    </g>\n    <g id=\"ytick_2\">\n     <g id=\"line2d_8\">\n      <g>\n       <use xlink:href=\"#mbab09bb192\" x=\"50.14375\" y=\"175.55539\" style=\"stroke: #000000; stroke-width: 0.8\"/>\n      </g>\n     </g>\n     <g id=\"text_9\">\n      <!-- 0.15 -->\n      <g transform=\"translate(20.878125 179.354609) scale(0.1 -0.1)\">\n       <use xlink:href=\"#DejaVuSans-30\"/>\n       <use xlink:href=\"#DejaVuSans-2e\" x=\"63.623047\"/>\n       <use xlink:href=\"#DejaVuSans-31\" x=\"95.410156\"/>\n       <use xlink:href=\"#DejaVuSans-35\" x=\"159.033203\"/>\n      </g>\n     </g>\n    </g>\n    <g id=\"ytick_3\">\n     <g id=\"line2d_9\">\n      <g>\n       <use xlink:href=\"#mbab09bb192\" x=\"50.14375\" y=\"123.216931\" style=\"stroke: #000000; stroke-width: 0.8\"/>\n      </g>\n     </g>\n     <g id=\"text_10\">\n      <!-- 0.20 -->\n      <g transform=\"translate(20.878125 127.01615) scale(0.1 -0.1)\">\n       <use xlink:href=\"#DejaVuSans-30\"/>\n       <use xlink:href=\"#DejaVuSans-2e\" x=\"63.623047\"/>\n       <use xlink:href=\"#DejaVuSans-32\" x=\"95.410156\"/>\n       <use xlink:href=\"#DejaVuSans-30\" x=\"159.033203\"/>\n      </g>\n     </g>\n    </g>\n    <g id=\"ytick_4\">\n     <g id=\"line2d_10\">\n      <g>\n       <use xlink:href=\"#mbab09bb192\" x=\"50.14375\" y=\"70.878472\" style=\"stroke: #000000; stroke-width: 0.8\"/>\n      </g>\n     </g>\n     <g id=\"text_11\">\n      <!-- 0.25 -->\n      <g transform=\"translate(20.878125 74.67769) scale(0.1 -0.1)\">\n       <use xlink:href=\"#DejaVuSans-30\"/>\n       <use xlink:href=\"#DejaVuSans-2e\" x=\"63.623047\"/>\n       <use xlink:href=\"#DejaVuSans-32\" x=\"95.410156\"/>\n       <use xlink:href=\"#DejaVuSans-35\" x=\"159.033203\"/>\n      </g>\n     </g>\n    </g>\n    <g id=\"ytick_5\">\n     <g id=\"line2d_11\">\n      <g>\n       <use xlink:href=\"#mbab09bb192\" x=\"50.14375\" y=\"18.540012\" style=\"stroke: #000000; stroke-width: 0.8\"/>\n      </g>\n     </g>\n     <g id=\"text_12\">\n      <!-- 0.30 -->\n      <g transform=\"translate(20.878125 22.339231) scale(0.1 -0.1)\">\n       <use xlink:href=\"#DejaVuSans-30\"/>\n       <use xlink:href=\"#DejaVuSans-2e\" x=\"63.623047\"/>\n       <use xlink:href=\"#DejaVuSans-33\" x=\"95.410156\"/>\n       <use xlink:href=\"#DejaVuSans-30\" x=\"159.033203\"/>\n      </g>\n     </g>\n    </g>\n    <g id=\"text_13\">\n     <!-- Estimated probability -->\n     <g transform=\"translate(14.798438 185.463437) rotate(-90) scale(0.1 -0.1)\">\n      <defs>\n       <path id=\"DejaVuSans-45\" d=\"M 628 4666 \nL 3578 4666 \nL 3578 4134 \nL 1259 4134 \nL 1259 2753 \nL 3481 2753 \nL 3481 2222 \nL 1259 2222 \nL 1259 531 \nL 3634 531 \nL 3634 0 \nL 628 0 \nL 628 4666 \nz\n\" transform=\"scale(0.015625)\"/>\n       <path id=\"DejaVuSans-61\" d=\"M 2194 1759 \nQ 1497 1759 1228 1600 \nQ 959 1441 959 1056 \nQ 959 750 1161 570 \nQ 1363 391 1709 391 \nQ 2188 391 2477 730 \nQ 2766 1069 2766 1631 \nL 2766 1759 \nL 2194 1759 \nz\nM 3341 1997 \nL 3341 0 \nL 2766 0 \nL 2766 531 \nQ 2569 213 2275 61 \nQ 1981 -91 1556 -91 \nQ 1019 -91 701 211 \nQ 384 513 384 1019 \nQ 384 1609 779 1909 \nQ 1175 2209 1959 2209 \nL 2766 2209 \nL 2766 2266 \nQ 2766 2663 2505 2880 \nQ 2244 3097 1772 3097 \nQ 1472 3097 1187 3025 \nQ 903 2953 641 2809 \nL 641 3341 \nQ 956 3463 1253 3523 \nQ 1550 3584 1831 3584 \nQ 2591 3584 2966 3190 \nQ 3341 2797 3341 1997 \nz\n\" transform=\"scale(0.015625)\"/>\n       <path id=\"DejaVuSans-64\" d=\"M 2906 2969 \nL 2906 4863 \nL 3481 4863 \nL 3481 0 \nL 2906 0 \nL 2906 525 \nQ 2725 213 2448 61 \nQ 2172 -91 1784 -91 \nQ 1150 -91 751 415 \nQ 353 922 353 1747 \nQ 353 2572 751 3078 \nQ 1150 3584 1784 3584 \nQ 2172 3584 2448 3432 \nQ 2725 3281 2906 2969 \nz\nM 947 1747 \nQ 947 1113 1208 752 \nQ 1469 391 1925 391 \nQ 2381 391 2643 752 \nQ 2906 1113 2906 1747 \nQ 2906 2381 2643 2742 \nQ 2381 3103 1925 3103 \nQ 1469 3103 1208 2742 \nQ 947 2381 947 1747 \nz\n\" transform=\"scale(0.015625)\"/>\n       <path id=\"DejaVuSans-62\" d=\"M 3116 1747 \nQ 3116 2381 2855 2742 \nQ 2594 3103 2138 3103 \nQ 1681 3103 1420 2742 \nQ 1159 2381 1159 1747 \nQ 1159 1113 1420 752 \nQ 1681 391 2138 391 \nQ 2594 391 2855 752 \nQ 3116 1113 3116 1747 \nz\nM 1159 2969 \nQ 1341 3281 1617 3432 \nQ 1894 3584 2278 3584 \nQ 2916 3584 3314 3078 \nQ 3713 2572 3713 1747 \nQ 3713 922 3314 415 \nQ 2916 -91 2278 -91 \nQ 1894 -91 1617 61 \nQ 1341 213 1159 525 \nL 1159 0 \nL 581 0 \nL 581 4863 \nL 1159 4863 \nL 1159 2969 \nz\n\" transform=\"scale(0.015625)\"/>\n       <path id=\"DejaVuSans-6c\" d=\"M 603 4863 \nL 1178 4863 \nL 1178 0 \nL 603 0 \nL 603 4863 \nz\n\" transform=\"scale(0.015625)\"/>\n       <path id=\"DejaVuSans-79\" d=\"M 2059 -325 \nQ 1816 -950 1584 -1140 \nQ 1353 -1331 966 -1331 \nL 506 -1331 \nL 506 -850 \nL 844 -850 \nQ 1081 -850 1212 -737 \nQ 1344 -625 1503 -206 \nL 1606 56 \nL 191 3500 \nL 800 3500 \nL 1894 763 \nL 2988 3500 \nL 3597 3500 \nL 2059 -325 \nz\n\" transform=\"scale(0.015625)\"/>\n      </defs>\n      <use xlink:href=\"#DejaVuSans-45\"/>\n      <use xlink:href=\"#DejaVuSans-73\" x=\"63.183594\"/>\n      <use xlink:href=\"#DejaVuSans-74\" x=\"115.283203\"/>\n      <use xlink:href=\"#DejaVuSans-69\" x=\"154.492188\"/>\n      <use xlink:href=\"#DejaVuSans-6d\" x=\"182.275391\"/>\n      <use xlink:href=\"#DejaVuSans-61\" x=\"279.6875\"/>\n      <use xlink:href=\"#DejaVuSans-74\" x=\"340.966797\"/>\n      <use xlink:href=\"#DejaVuSans-65\" x=\"380.175781\"/>\n      <use xlink:href=\"#DejaVuSans-64\" x=\"441.699219\"/>\n      <use xlink:href=\"#DejaVuSans-20\" x=\"505.175781\"/>\n      <use xlink:href=\"#DejaVuSans-70\" x=\"536.962891\"/>\n      <use xlink:href=\"#DejaVuSans-72\" x=\"600.439453\"/>\n      <use xlink:href=\"#DejaVuSans-6f\" x=\"639.302734\"/>\n      <use xlink:href=\"#DejaVuSans-62\" x=\"700.484375\"/>\n      <use xlink:href=\"#DejaVuSans-61\" x=\"763.960938\"/>\n      <use xlink:href=\"#DejaVuSans-62\" x=\"825.240234\"/>\n      <use xlink:href=\"#DejaVuSans-69\" x=\"888.716797\"/>\n      <use xlink:href=\"#DejaVuSans-6c\" x=\"916.5\"/>\n      <use xlink:href=\"#DejaVuSans-69\" x=\"944.283203\"/>\n      <use xlink:href=\"#DejaVuSans-74\" x=\"972.066406\"/>\n      <use xlink:href=\"#DejaVuSans-79\" x=\"1011.275391\"/>\n     </g>\n    </g>\n   </g>\n   <g id=\"line2d_12\">\n    <path d=\"M 65.361932 123.216928 \nL 66.581826 227.893848 \nL 67.191773 201.72462 \nL 67.80172 227.893848 \nL 68.411668 245.34 \nL 69.021615 227.893848 \nL 69.631562 227.893848 \nL 70.241509 193.001536 \nL 71.461403 180.313437 \nL 72.071351 184.278468 \nL 73.291245 175.555384 \nL 74.511139 155.928465 \nL 75.121086 166.319186 \nL 75.731034 169.74 \nL 76.340981 167.29143 \nL 76.950928 149.386164 \nL 78.170822 147.007145 \nL 78.780769 155.075125 \nL 79.390717 149.386164 \nL 80.000664 152.526462 \nL 80.610611 159.451244 \nL 81.220558 161.986165 \nL 81.830505 156.863086 \nL 82.440452 155.70287 \nL 83.0504 158.109232 \nL 84.880241 145.421133 \nL 85.490188 144.768057 \nL 87.32003 159.995305 \nL 87.929977 161.782111 \nL 88.539924 158.109232 \nL 89.759819 146.194797 \nL 90.979713 140.257358 \nL 91.58966 139.870074 \nL 92.199607 134.847696 \nL 93.419502 138.807112 \nL 94.029449 138.482313 \nL 94.639396 142.443304 \nL 95.85929 141.689324 \nL 96.469237 145.360129 \nL 97.079185 139.017218 \nL 97.689132 138.724629 \nL 98.299079 136.539448 \nL 98.909026 138.170772 \nL 99.518973 137.908428 \nL 100.738868 133.862038 \nL 101.348815 135.429239 \nL 101.958762 133.513015 \nL 103.178656 139.832311 \nL 103.788603 136.301546 \nL 104.398551 136.100237 \nL 105.008498 134.31903 \nL 106.228392 133.9925 \nL 108.058234 137.960152 \nL 109.278128 137.556239 \nL 110.498022 142.756623 \nL 111.107969 139.744868 \nL 111.717917 139.530223 \nL 112.327864 137.979057 \nL 112.937811 139.117217 \nL 113.547758 138.918466 \nL 114.157705 137.432313 \nL 115.3776 137.089779 \nL 116.597494 134.300375 \nL 117.207441 131.737143 \nL 117.817388 134.04558 \nL 119.64723 137.173853 \nL 120.257177 133.56959 \nL 121.477071 133.346958 \nL 122.087018 134.352769 \nL 123.306913 134.120779 \nL 123.91686 136.166654 \nL 124.526807 137.102647 \nL 125.746701 134.731397 \nL 126.356649 135.653789 \nL 126.966596 134.505614 \nL 127.576543 136.428577 \nL 128.796437 136.176933 \nL 129.406384 137.042189 \nL 130.016332 134.956399 \nL 130.626279 133.878463 \nL 131.236226 135.701332 \nL 131.846173 135.58784 \nL 132.45612 136.41942 \nL 133.676015 134.333069 \nL 134.285962 134.235549 \nL 135.505856 132.240805 \nL 136.115803 129.479649 \nL 136.72575 130.313678 \nL 137.335698 128.494755 \nL 137.945645 128.450784 \nL 138.555592 125.812229 \nL 139.165539 126.648957 \nL 139.775486 125.770021 \nL 141.605328 125.709235 \nL 144.655064 129.60941 \nL 145.265011 129.560993 \nL 145.874958 130.300326 \nL 146.484905 131.809815 \nL 147.704799 133.222813 \nL 148.924694 131.560744 \nL 149.534641 133.006858 \nL 150.144588 132.936932 \nL 151.364482 134.274357 \nL 151.97443 134.197022 \nL 153.194324 135.489401 \nL 153.804271 133.971412 \nL 154.414218 135.322423 \nL 155.024165 135.240627 \nL 155.634113 135.86246 \nL 156.24406 137.173853 \nL 156.854007 137.774644 \nL 157.463954 137.678872 \nL 158.073901 136.216022 \nL 158.683848 135.451903 \nL 159.293796 136.72363 \nL 159.903743 137.308058 \nL 160.51369 137.218307 \nL 161.123637 138.454704 \nL 161.733584 139.017218 \nL 162.343531 138.918466 \nL 162.953479 139.471106 \nL 163.563426 140.66308 \nL 164.173373 139.913858 \nL 166.003214 139.612113 \nL 166.613162 138.88713 \nL 167.223109 140.040015 \nL 167.833056 140.559852 \nL 168.443003 139.226341 \nL 169.05295 139.744868 \nL 170.272845 137.133516 \nL 170.882792 137.655131 \nL 171.492739 137.572617 \nL 172.102686 138.680564 \nL 173.32258 139.682959 \nL 173.932528 138.421402 \nL 174.542475 138.336923 \nL 175.152422 137.675066 \nL 175.762369 137.595625 \nL 176.982263 138.577134 \nL 177.592211 138.494105 \nL 178.202158 139.537523 \nL 179.422052 140.477494 \nL 180.641946 142.499519 \nL 181.251894 142.398569 \nL 181.861841 141.753463 \nL 183.081735 142.641509 \nL 183.691682 142.541899 \nL 184.911577 143.408419 \nL 185.521524 143.306439 \nL 186.131471 142.679474 \nL 186.741418 143.105552 \nL 187.961312 141.872227 \nL 188.57126 142.29598 \nL 189.181207 143.228698 \nL 189.791154 143.641689 \nL 190.401101 143.542547 \nL 191.011048 142.938668 \nL 191.620995 143.347103 \nL 192.84089 143.155387 \nL 193.450837 144.053088 \nL 194.060784 143.461047 \nL 194.670731 143.857457 \nL 195.890626 145.612927 \nL 197.720467 146.745222 \nL 198.330414 146.637798 \nL 199.550309 147.373138 \nL 200.160256 148.20737 \nL 200.770203 148.095298 \nL 203.209992 149.501449 \nL 203.819939 149.386164 \nL 204.429886 148.814775 \nL 205.039833 149.158603 \nL 205.64978 149.952592 \nL 206.259727 149.386164 \nL 206.869675 150.172354 \nL 207.479622 149.162487 \nL 208.089569 149.497518 \nL 209.309463 146.625694 \nL 209.91941 146.967152 \nL 211.139305 146.769243 \nL 211.749252 147.10585 \nL 212.359199 147.007145 \nL 212.969146 146.478464 \nL 213.579093 146.812138 \nL 214.189041 147.570329 \nL 214.798988 147.896859 \nL 215.408935 147.796938 \nL 216.018882 148.119912 \nL 216.628829 147.599513 \nL 217.238776 147.501979 \nL 218.458671 148.970771 \nL 219.068618 148.868978 \nL 219.678565 149.180098 \nL 220.288512 149.078289 \nL 222.118354 149.994754 \nL 222.728301 149.487192 \nL 223.338248 149.386164 \nL 223.948195 150.088015 \nL 224.558142 150.384987 \nL 225.16809 151.077713 \nL 225.778037 151.368679 \nL 226.387984 151.262441 \nL 226.997931 151.550537 \nL 227.607878 150.268266 \nL 228.217825 150.557922 \nL 228.827773 151.234551 \nL 229.43772 151.130777 \nL 230.657614 151.695209 \nL 231.267561 151.207458 \nL 231.877508 151.105306 \nL 232.487456 150.623247 \nL 233.097403 150.903217 \nL 233.70735 150.42537 \nL 234.317297 150.70403 \nL 234.927244 150.605512 \nL 235.537191 149.760003 \nL 236.757086 150.31414 \nL 237.367033 150.218399 \nL 237.97698 149.754746 \nL 239.806822 150.571524 \nL 240.416769 151.203464 \nL 241.026716 150.744429 \nL 242.24661 150.55524 \nL 242.856557 150.103129 \nL 243.466505 150.368624 \nL 244.076452 149.564185 \nL 245.296346 150.093443 \nL 245.906293 149.650489 \nL 246.51624 149.913051 \nL 247.126188 148.773503 \nL 248.346082 149.29922 \nL 248.956029 148.519628 \nL 249.565976 148.436116 \nL 250.785871 148.957154 \nL 251.395818 148.530952 \nL 253.225659 150.317759 \nL 253.835606 149.554997 \nL 254.445554 150.143466 \nL 255.055501 150.057162 \nL 255.665448 150.64028 \nL 256.885342 149.136922 \nL 258.105237 149.633814 \nL 258.715184 149.221573 \nL 259.325131 149.468194 \nL 260.545025 148.652446 \nL 261.154972 148.898537 \nL 262.984814 148.661477 \nL 263.594761 148.904511 \nL 264.814655 148.74789 \nL 266.03455 149.227563 \nL 266.644497 149.148979 \nL 267.254444 149.386164 \nL 269.084286 149.151803 \nL 270.30418 150.240346 \nL 271.524074 150.080918 \nL 272.743969 149.309421 \nL 273.353916 149.845278 \nL 273.963863 149.157278 \nL 274.57381 149.081861 \nL 276.403652 149.763232 \nL 277.623546 149.611104 \nL 278.233493 149.83478 \nL 278.84344 150.355397 \nL 279.453387 150.575673 \nL 280.063335 150.201631 \nL 280.673282 150.716804 \nL 281.893176 149.974227 \nL 282.503123 150.485703 \nL 283.11307 149.82475 \nL 283.723018 150.042219 \nL 284.332965 150.549234 \nL 284.942912 150.763489 \nL 285.552859 151.265716 \nL 286.162806 150.900082 \nL 286.772753 150.824026 \nL 287.382701 150.461604 \nL 287.992648 150.38717 \nL 288.602595 149.742689 \nL 291.042384 149.456698 \nL 291.652331 149.667553 \nL 292.872225 150.645646 \nL 293.482172 150.293363 \nL 294.092119 150.778136 \nL 294.702067 150.982689 \nL 295.312014 150.355397 \nL 297.141855 150.965937 \nL 299.581644 149.590077 \nL 300.191591 149.79293 \nL 300.801538 149.724268 \nL 302.63138 151.130777 \nL 303.241327 150.791675 \nL 303.851274 149.920226 \nL 305.071168 149.784679 \nL 305.681116 150.247427 \nL 306.291063 150.17917 \nL 306.90101 149.583916 \nL 308.120904 149.976442 \nL 308.730851 150.432935 \nL 309.340799 150.104018 \nL 309.950746 150.557922 \nL 311.780587 151.130777 \nL 312.390534 150.8042 \nL 313.000482 151.250805 \nL 313.610429 151.438652 \nL 314.220376 150.345913 \nL 315.44027 151.232648 \nL 316.660165 151.096976 \nL 319.099953 152.837737 \nL 319.7099 153.017302 \nL 320.319848 153.445828 \nL 320.929795 153.373859 \nL 321.539742 152.556301 \nL 322.149689 152.486781 \nL 322.759636 152.665051 \nL 323.369583 152.595593 \nL 323.979531 152.280168 \nL 324.589478 151.720509 \nL 325.809372 152.076458 \nL 326.419319 152.009183 \nL 327.639214 152.847049 \nL 328.249161 152.536164 \nL 329.469055 152.883424 \nL 330.079002 153.296508 \nL 330.688949 153.227518 \nL 331.298897 153.637919 \nL 331.908844 153.807438 \nL 333.128738 153.668397 \nL 333.738685 153.124617 \nL 336.178474 152.855784 \nL 336.788421 153.258745 \nL 337.398368 153.191533 \nL 338.008315 153.591935 \nL 338.618263 153.524287 \nL 340.448104 154.017888 \nL 341.058051 154.412036 \nL 342.887893 154.206812 \nL 343.49784 154.368049 \nL 344.717734 154.232314 \nL 345.327681 153.709779 \nL 345.937629 153.870689 \nL 346.547576 153.804334 \nL 347.157523 153.964355 \nL 347.76747 153.6725 \nL 348.377417 153.832115 \nL 348.987365 153.092532 \nL 349.597312 153.252709 \nL 350.817206 152.678231 \nL 351.427153 152.615558 \nL 352.0371 152.997633 \nL 352.647048 153.156297 \nL 353.256995 152.87171 \nL 353.866942 152.809146 \nL 354.476889 152.526462 \nL 355.086836 152.464896 \nL 355.696783 152.842479 \nL 356.306731 152.780492 \nL 356.916678 152.937315 \nL 357.526625 152.875391 \nL 358.746519 153.186666 \nL 359.966414 153.927934 \nL 361.186308 154.232314 \nL 361.796255 154.598511 \nL 362.406202 154.748704 \nL 363.016149 154.47017 \nL 363.626097 154.406373 \nL 364.236044 154.769247 \nL 364.845991 154.917866 \nL 365.455938 154.85357 \nL 366.065885 154.153841 \nL 366.675832 154.302802 \nL 367.28578 153.607003 \nL 367.895727 153.75648 \nL 369.115621 153.214524 \nL 369.725568 153.573233 \nL 369.725568 153.573233 \n\" clip-path=\"url(#p29fe278b52)\" style=\"fill: none; stroke: #1f77b4; stroke-width: 1.5; stroke-linecap: square\"/>\n   </g>\n   <g id=\"line2d_13\">\n    <path d=\"M 50.14375 157.760314 \nL 384.94375 157.760314 \n\" clip-path=\"url(#p29fe278b52)\" style=\"fill: none; stroke-dasharray: 5.55,2.4; stroke-dashoffset: 0; stroke: #000000; stroke-width: 1.5\"/>\n   </g>\n   <g id=\"line2d_14\">\n    <path d=\"M 65.361932 227.893848 \nL 65.971879 227.893848 \nL 66.581826 193.001536 \nL 67.191773 123.216928 \nL 67.80172 102.281549 \nL 68.411668 105.770776 \nL 69.021615 138.170772 \nL 69.631562 149.386164 \nL 70.241509 134.847696 \nL 70.851456 133.684625 \nL 71.461403 151.765182 \nL 72.681298 163.477279 \nL 73.901192 158.109232 \nL 74.511139 169.013083 \nL 75.121086 166.319186 \nL 75.731034 158.109232 \nL 76.340981 161.782111 \nL 76.950928 170.321543 \nL 77.560875 168.078462 \nL 78.170822 170.797347 \nL 79.390717 184.278468 \nL 80.000664 190.210151 \nL 80.610611 187.633489 \nL 81.220558 193.001536 \nL 81.830505 190.509229 \nL 82.440452 191.798363 \nL 83.0504 189.512309 \nL 84.270294 191.911153 \nL 84.880241 189.829511 \nL 85.490188 181.712849 \nL 86.100135 183.032306 \nL 86.710083 175.555384 \nL 87.32003 165.653522 \nL 88.539924 168.845326 \nL 89.149871 167.704623 \nL 90.369766 170.570769 \nL 90.979713 167.035169 \nL 91.58966 170.797347 \nL 92.809554 168.728636 \nL 93.419502 163.305965 \nL 94.639396 161.66968 \nL 95.249343 156.713547 \nL 95.85929 154.004255 \nL 97.079185 160.742624 \nL 97.689132 158.109232 \nL 98.909026 156.863086 \nL 100.12892 162.921972 \nL 101.348815 161.598475 \nL 101.958762 164.401293 \nL 102.568709 160.360346 \nL 103.788603 162.470782 \nL 105.008498 154.937207 \nL 105.618445 154.463774 \nL 106.228392 157.082988 \nL 107.448286 156.115392 \nL 108.668181 158.109232 \nL 109.278128 160.499122 \nL 109.888075 159.995305 \nL 110.498022 153.922162 \nL 111.107969 154.895467 \nL 111.717917 157.202937 \nL 112.327864 156.76722 \nL 112.937811 157.667557 \nL 113.547758 157.236925 \nL 114.157705 159.401548 \nL 114.767652 158.960263 \nL 116.597494 165.087702 \nL 117.207441 165.818004 \nL 118.427335 164.8498 \nL 119.037283 163.205872 \nL 119.64723 162.761545 \nL 120.257177 164.627574 \nL 120.867124 165.315262 \nL 121.477071 163.737034 \nL 122.087018 163.305965 \nL 122.696966 163.985838 \nL 123.91686 167.461807 \nL 125.746701 162.99416 \nL 126.966596 162.214209 \nL 127.576543 162.851874 \nL 128.18649 164.483791 \nL 128.796437 163.093847 \nL 129.406384 162.717652 \nL 130.626279 163.924616 \nL 131.236226 162.590824 \nL 132.45612 161.881377 \nL 133.066067 159.666934 \nL 133.676015 159.344366 \nL 134.285962 159.945671 \nL 134.895909 156.895592 \nL 136.115803 158.109232 \nL 136.72575 157.813539 \nL 137.945645 158.981539 \nL 138.555592 160.416172 \nL 139.165539 160.969264 \nL 139.775486 160.662325 \nL 140.385433 159.516178 \nL 142.215275 158.658721 \nL 142.825222 156.746256 \nL 143.435169 156.486346 \nL 144.655064 154.380293 \nL 145.265011 154.144201 \nL 145.874958 155.48576 \nL 147.094852 156.558471 \nL 147.704799 155.543629 \nL 148.314747 156.835789 \nL 148.924694 155.075125 \nL 149.534641 155.599002 \nL 150.144588 155.367698 \nL 150.754535 156.624451 \nL 151.364482 155.652036 \nL 152.584377 156.655398 \nL 153.194324 155.70287 \nL 153.804271 156.914295 \nL 154.414218 157.397149 \nL 155.634113 156.938347 \nL 156.24406 158.109232 \nL 156.854007 157.184937 \nL 159.293796 159.009678 \nL 159.903743 158.780246 \nL 161.733584 160.084276 \nL 162.953479 158.325967 \nL 163.563426 159.401548 \nL 164.78332 158.960263 \nL 166.003214 159.790798 \nL 166.613162 159.571786 \nL 167.223109 159.978474 \nL 167.833056 159.141559 \nL 168.443003 160.16172 \nL 169.05295 159.333525 \nL 169.662897 160.340724 \nL 170.272845 160.731206 \nL 170.882792 158.710834 \nL 172.102686 158.307484 \nL 172.712633 159.292034 \nL 173.32258 158.50129 \nL 173.932528 158.304161 \nL 175.152422 160.229759 \nL 176.982263 161.33298 \nL 177.592211 161.126945 \nL 178.812105 161.841041 \nL 179.422052 162.749176 \nL 180.031999 162.540006 \nL 180.641946 161.782111 \nL 181.861841 162.470782 \nL 182.471788 161.725022 \nL 183.081735 162.06609 \nL 183.691682 161.330063 \nL 186.741418 162.99416 \nL 187.351365 163.837828 \nL 188.57126 164.468911 \nL 189.181207 165.292942 \nL 189.791154 165.087702 \nL 191.011048 165.694514 \nL 191.620995 164.987048 \nL 192.230943 165.288044 \nL 192.84089 165.087702 \nL 193.450837 164.393167 \nL 194.670731 164.006521 \nL 195.890626 162.653357 \nL 196.500573 162.470782 \nL 197.11052 163.254647 \nL 197.720467 162.590824 \nL 198.330414 163.366985 \nL 199.550309 163.003628 \nL 200.160256 163.76745 \nL 200.770203 164.055016 \nL 201.38015 163.405387 \nL 202.600044 164.902428 \nL 203.209992 164.257666 \nL 205.039833 163.72234 \nL 205.64978 164.453297 \nL 206.259727 164.275557 \nL 206.869675 163.650074 \nL 207.479622 163.477279 \nL 208.089569 163.751399 \nL 208.699516 163.136102 \nL 209.309463 162.967658 \nL 210.529358 163.510971 \nL 211.139305 162.470782 \nL 211.749252 162.742235 \nL 212.969146 162.416922 \nL 213.579093 162.685271 \nL 214.189041 163.378683 \nL 214.798988 163.640949 \nL 216.018882 165.003285 \nL 217.238776 165.506401 \nL 217.848724 164.503851 \nL 218.458671 163.924616 \nL 219.068618 164.177461 \nL 219.678565 163.604091 \nL 220.288512 163.856203 \nL 220.898459 164.515253 \nL 221.508407 164.761858 \nL 222.118354 163.383659 \nL 222.728301 162.824421 \nL 223.948195 163.323029 \nL 224.558142 162.770421 \nL 225.16809 162.620024 \nL 226.997931 163.356206 \nL 227.607878 163.989956 \nL 228.217825 163.837828 \nL 228.827773 163.297683 \nL 229.43772 163.536926 \nL 230.047667 163.388151 \nL 230.657614 162.470782 \nL 231.877508 161.420189 \nL 232.487456 162.042552 \nL 233.097403 161.522621 \nL 234.927244 161.110723 \nL 237.367033 162.054656 \nL 237.97698 162.655073 \nL 238.586927 161.782111 \nL 239.196874 162.379268 \nL 239.806822 162.607546 \nL 240.416769 161.743849 \nL 241.026716 161.972751 \nL 241.636663 161.839106 \nL 243.466505 162.515439 \nL 244.076452 163.093847 \nL 245.296346 162.824421 \nL 245.906293 162.338604 \nL 246.51624 162.20733 \nL 247.126188 162.777097 \nL 248.346082 162.514254 \nL 248.956029 162.730739 \nL 249.565976 163.291256 \nL 250.175923 162.815109 \nL 250.785871 162.685271 \nL 251.395818 162.898372 \nL 252.005765 162.769126 \nL 252.615712 162.300841 \nL 253.225659 162.174356 \nL 253.835606 161.711031 \nL 254.445554 161.923835 \nL 256.275395 161.55402 \nL 256.885342 161.764626 \nL 257.495289 160.98012 \nL 258.105237 160.860998 \nL 259.325131 161.937546 \nL 259.935078 161.489429 \nL 261.154972 159.95138 \nL 261.76492 160.16172 \nL 263.594761 159.821745 \nL 265.424603 160.442455 \nL 266.03455 160.329649 \nL 266.644497 160.533781 \nL 268.474338 160.198594 \nL 269.084286 159.77573 \nL 269.694233 159.978474 \nL 270.30418 159.558777 \nL 271.524074 160.579484 \nL 272.134021 159.853846 \nL 272.743969 159.746406 \nL 273.963863 160.143767 \nL 274.57381 159.123544 \nL 275.183757 159.019473 \nL 275.793704 158.613455 \nL 276.403652 157.908126 \nL 277.013599 158.410025 \nL 277.623546 158.309199 \nL 278.233493 158.508012 \nL 279.453387 158.307484 \nL 280.063335 158.504612 \nL 280.673282 157.813539 \nL 281.283229 158.010948 \nL 281.893176 157.913211 \nL 282.503123 158.402445 \nL 283.11307 158.596563 \nL 283.723018 158.206424 \nL 284.332965 157.527704 \nL 284.942912 157.142697 \nL 286.772753 158.58853 \nL 287.992648 158.967251 \nL 288.602595 158.584615 \nL 289.212542 158.772946 \nL 289.822489 158.676596 \nL 291.042384 159.049734 \nL 291.652331 158.9534 \nL 292.262278 159.138237 \nL 292.872225 159.601952 \nL 293.482172 159.784075 \nL 294.092119 158.851622 \nL 296.531908 159.578384 \nL 297.141855 159.20821 \nL 298.36175 159.020269 \nL 298.971697 159.472223 \nL 299.581644 159.378042 \nL 300.191591 158.470811 \nL 300.801538 158.920691 \nL 302.021433 158.737117 \nL 302.63138 158.914451 \nL 303.241327 158.82314 \nL 303.851274 159.266375 \nL 304.461221 159.174659 \nL 305.071168 159.349061 \nL 305.681116 158.992582 \nL 306.90101 159.867042 \nL 307.510957 159.774951 \nL 308.730851 160.638928 \nL 309.950746 160.452749 \nL 311.780587 160.952309 \nL 312.390534 160.859376 \nL 313.610429 161.187965 \nL 314.220376 161.606991 \nL 314.830323 161.768681 \nL 315.44027 161.674874 \nL 316.050217 161.835597 \nL 316.660165 161.742086 \nL 317.270112 161.396199 \nL 319.7099 162.032538 \nL 320.929795 161.349233 \nL 321.539742 161.507304 \nL 322.149689 161.41657 \nL 322.759636 160.83133 \nL 323.979531 160.654323 \nL 324.589478 161.057877 \nL 325.199425 160.969264 \nL 327.029266 159.975573 \nL 328.249161 159.805398 \nL 328.859108 159.479149 \nL 329.469055 158.913204 \nL 330.688949 158.749471 \nL 331.298897 158.907682 \nL 331.908844 159.304185 \nL 332.518791 159.460415 \nL 333.128738 159.853846 \nL 333.738685 159.77077 \nL 334.348632 160.16172 \nL 334.95858 160.314613 \nL 336.178474 160.147885 \nL 336.788421 159.830386 \nL 338.008315 160.134237 \nL 338.618263 160.052019 \nL 341.058051 160.651063 \nL 342.277946 160.486519 \nL 342.887893 160.634342 \nL 343.49784 160.552468 \nL 344.717734 160.845883 \nL 345.327681 160.764087 \nL 345.937629 160.228511 \nL 346.547576 159.921822 \nL 347.157523 159.39038 \nL 348.377417 158.784566 \nL 348.987365 158.932873 \nL 349.597312 158.632251 \nL 350.207259 158.556569 \nL 350.817206 158.927601 \nL 353.866942 159.655095 \nL 355.696783 159.425928 \nL 357.526625 159.853846 \nL 358.746519 159.701827 \nL 359.356466 159.409566 \nL 359.966414 158.685971 \nL 360.576361 159.044493 \nL 361.186308 159.186154 \nL 362.406202 159.038753 \nL 363.016149 159.179556 \nL 363.626097 158.892536 \nL 364.236044 158.81988 \nL 364.845991 159.173021 \nL 365.455938 158.887763 \nL 366.065885 158.81556 \nL 366.675832 158.955116 \nL 367.28578 158.883053 \nL 368.505674 159.160215 \nL 369.725568 158.597733 \nL 369.725568 158.597733 \n\" clip-path=\"url(#p29fe278b52)\" style=\"fill: none; stroke: #ff7f0e; stroke-width: 1.5; stroke-linecap: square\"/>\n   </g>\n   <g id=\"line2d_15\">\n    <path d=\"M 50.14375 157.760314 \nL 384.94375 157.760314 \n\" clip-path=\"url(#p29fe278b52)\" style=\"fill: none; stroke-dasharray: 5.55,2.4; stroke-dashoffset: 0; stroke: #000000; stroke-width: 1.5\"/>\n   </g>\n   <g id=\"line2d_16\">\n    <path d=\"M 65.361932 227.893848 \nL 65.971879 227.893848 \nL 66.581826 193.001536 \nL 67.191773 227.893848 \nL 67.80172 206.958469 \nL 68.411668 158.109232 \nL 69.021615 123.216928 \nL 69.631562 123.216928 \nL 70.241509 134.847696 \nL 70.851456 133.684625 \nL 71.461403 142.249092 \nL 72.071351 131.940012 \nL 73.291245 130.69385 \nL 73.901192 123.216928 \nL 74.511139 129.759245 \nL 75.121086 110.901997 \nL 75.731034 99.955392 \nL 76.340981 95.670366 \nL 76.950928 102.281549 \nL 77.560875 103.278468 \nL 78.170822 113.700853 \nL 78.780769 114.114592 \nL 79.390717 123.216928 \nL 80.000664 106.468618 \nL 80.610611 99.060717 \nL 81.220558 88.324624 \nL 82.440452 90.730986 \nL 83.0504 98.792321 \nL 83.660347 92.826853 \nL 84.270294 93.776541 \nL 86.100135 114.244618 \nL 87.32003 120.387827 \nL 87.929977 114.952958 \nL 89.149871 125.833848 \nL 89.759819 125.770021 \nL 90.369766 123.216928 \nL 90.979713 125.651273 \nL 91.58966 130.353999 \nL 92.199607 130.195398 \nL 92.809554 134.594851 \nL 93.419502 132.125598 \nL 94.029449 127.578462 \nL 94.639396 127.489459 \nL 95.249343 129.49754 \nL 95.85929 127.321905 \nL 96.469237 121.203918 \nL 97.689132 125.155394 \nL 98.299079 125.120143 \nL 100.12892 130.43603 \nL 102.568709 136.72363 \nL 103.178656 138.170772 \nL 103.788603 141.208279 \nL 105.008498 143.835105 \nL 105.618445 146.652055 \nL 106.228392 146.307431 \nL 106.838339 147.489843 \nL 107.448286 147.143082 \nL 108.058234 145.331771 \nL 108.668181 146.478464 \nL 109.278128 146.159811 \nL 109.888075 147.264326 \nL 110.498022 145.548007 \nL 111.107969 146.631512 \nL 111.717917 143.608543 \nL 112.327864 144.689115 \nL 112.937811 144.417319 \nL 113.547758 146.769243 \nL 114.157705 146.478464 \nL 114.767652 148.74789 \nL 115.3776 148.440281 \nL 116.597494 145.383807 \nL 117.207441 147.560393 \nL 117.817388 148.483768 \nL 118.427335 148.196654 \nL 119.037283 150.268266 \nL 119.64723 151.130777 \nL 120.867124 150.52395 \nL 121.477071 152.481446 \nL 122.087018 152.170124 \nL 122.696966 152.967217 \nL 123.306913 152.657314 \nL 123.91686 151.274654 \nL 124.526807 150.988351 \nL 125.136754 152.822529 \nL 125.746701 152.526462 \nL 126.356649 153.272674 \nL 126.966596 150.925522 \nL 128.18649 150.392676 \nL 128.796437 151.130777 \nL 129.406384 150.867435 \nL 130.016332 151.587317 \nL 130.626279 151.324615 \nL 131.236226 150.106421 \nL 133.066067 152.190012 \nL 133.676015 151.93361 \nL 134.285962 152.599929 \nL 136.115803 157.214558 \nL 137.945645 156.364618 \nL 139.165539 157.537235 \nL 139.775486 158.960263 \nL 140.385433 157.827843 \nL 140.995381 155.876133 \nL 141.605328 156.447694 \nL 142.215275 157.834487 \nL 142.825222 158.38184 \nL 144.045116 157.840836 \nL 146.484905 159.931976 \nL 147.094852 158.109232 \nL 147.704799 157.852675 \nL 148.924694 160.38482 \nL 149.534641 160.117422 \nL 150.144588 159.106167 \nL 150.754535 156.624451 \nL 151.364482 156.389201 \nL 151.97443 157.621231 \nL 152.584377 158.109232 \nL 153.194324 157.14669 \nL 153.804271 157.63126 \nL 154.414218 158.821331 \nL 155.634113 158.343421 \nL 156.24406 157.41139 \nL 156.854007 157.878162 \nL 158.073901 157.425069 \nL 158.683848 155.843502 \nL 159.293796 154.957672 \nL 159.903743 155.425209 \nL 160.51369 153.886599 \nL 161.123637 154.355009 \nL 162.343531 156.582695 \nL 162.953479 156.375459 \nL 163.563426 155.524615 \nL 164.173373 155.32641 \nL 164.78332 156.40717 \nL 166.003214 156.007298 \nL 166.613162 156.437742 \nL 167.223109 153.747698 \nL 168.443003 152.157022 \nL 169.05295 153.212076 \nL 169.662897 153.037673 \nL 170.882792 153.898095 \nL 171.492739 153.124617 \nL 172.102686 154.144201 \nL 172.712633 153.37807 \nL 173.32258 153.208628 \nL 173.932528 153.625861 \nL 175.152422 153.289863 \nL 176.982263 156.212911 \nL 177.592211 156.034563 \nL 178.202158 155.295339 \nL 178.812105 155.683575 \nL 180.031999 155.340012 \nL 180.641946 155.721868 \nL 181.251894 155.003639 \nL 181.861841 154.838081 \nL 183.081735 155.591235 \nL 183.691682 155.425209 \nL 184.911577 154.035514 \nL 185.521524 153.87986 \nL 186.131471 154.251796 \nL 186.741418 153.573233 \nL 187.351365 153.942986 \nL 187.961312 153.790889 \nL 189.791154 151.811602 \nL 190.401101 151.672795 \nL 191.011048 152.041003 \nL 191.620995 152.908942 \nL 192.230943 152.766875 \nL 192.84089 152.127697 \nL 193.450837 151.990684 \nL 194.060784 152.842479 \nL 194.670731 152.211942 \nL 195.890626 153.889703 \nL 196.500573 153.747698 \nL 197.11052 152.642247 \nL 198.330414 152.373523 \nL 198.940361 152.71679 \nL 199.550309 152.583301 \nL 200.160256 151.507986 \nL 200.770203 150.911718 \nL 201.38015 150.788088 \nL 201.990097 150.200321 \nL 202.600044 150.080918 \nL 203.209992 150.423701 \nL 203.819939 149.845278 \nL 206.259727 149.386164 \nL 206.869675 148.824586 \nL 208.699516 149.829711 \nL 209.309463 150.60077 \nL 210.529358 151.247576 \nL 211.139305 152.003084 \nL 211.749252 151.883634 \nL 212.359199 152.630283 \nL 213.579093 153.247187 \nL 214.189041 153.124617 \nL 214.798988 153.428561 \nL 215.408935 153.306241 \nL 217.238776 154.201306 \nL 217.848724 154.911938 \nL 219.068618 155.488864 \nL 219.678565 154.949701 \nL 220.288512 155.235754 \nL 220.898459 155.928465 \nL 221.508407 155.801185 \nL 222.118354 156.080609 \nL 222.728301 155.549572 \nL 223.338248 155.425209 \nL 223.948195 154.900754 \nL 224.558142 155.179352 \nL 225.16809 155.057811 \nL 225.778037 155.33371 \nL 226.387984 155.212513 \nL 226.997931 154.698713 \nL 227.607878 154.580807 \nL 228.827773 155.125881 \nL 229.43772 153.844624 \nL 230.047667 153.731601 \nL 230.657614 154.004255 \nL 231.267561 153.891481 \nL 231.877508 153.015477 \nL 233.097403 152.799538 \nL 233.70735 153.070632 \nL 234.317297 152.21018 \nL 234.927244 152.481446 \nL 235.537191 153.124617 \nL 236.147139 152.645678 \nL 236.757086 151.798921 \nL 237.367033 151.697923 \nL 238.586927 152.232641 \nL 239.196874 151.765182 \nL 239.806822 151.665713 \nL 240.416769 151.203464 \nL 241.026716 151.831037 \nL 241.636663 152.093319 \nL 242.24661 151.994084 \nL 242.856557 151.53706 \nL 244.076452 151.344409 \nL 245.296346 150.447083 \nL 245.906293 151.06029 \nL 247.126188 150.173867 \nL 247.736135 150.084006 \nL 248.956029 151.292529 \nL 249.565976 150.854395 \nL 250.175923 150.763489 \nL 250.785871 150.329972 \nL 252.005765 150.835272 \nL 253.225659 149.978984 \nL 253.835606 150.567999 \nL 255.665448 150.305842 \nL 256.275395 150.886309 \nL 257.495289 150.711189 \nL 258.105237 150.95466 \nL 258.715184 150.867435 \nL 259.325131 151.108893 \nL 259.935078 151.021731 \nL 261.154972 152.149379 \nL 261.76492 152.059799 \nL 262.374867 152.293848 \nL 262.984814 152.204393 \nL 264.204708 153.307551 \nL 264.814655 152.57753 \nL 266.644497 152.311427 \nL 267.254444 151.277914 \nL 267.864391 151.507986 \nL 268.474338 151.109876 \nL 269.084286 151.33909 \nL 269.694233 151.878471 \nL 270.30418 151.48281 \nL 271.524074 151.93361 \nL 272.134021 152.464896 \nL 272.743969 152.072152 \nL 273.353916 151.375636 \nL 273.963863 150.988351 \nL 275.183757 151.434191 \nL 275.793704 151.957709 \nL 276.403652 151.874884 \nL 277.013599 152.394112 \nL 277.623546 152.610442 \nL 278.84344 152.442966 \nL 279.453387 151.765182 \nL 280.063335 151.980841 \nL 280.673282 151.012497 \nL 281.893176 152.032487 \nL 282.503123 151.951767 \nL 283.11307 152.1639 \nL 283.723018 152.666424 \nL 284.942912 153.083204 \nL 285.552859 152.133203 \nL 286.162806 152.341921 \nL 286.772753 151.974321 \nL 287.992648 152.389183 \nL 288.602595 152.880148 \nL 289.212542 152.515091 \nL 289.822489 152.435697 \nL 290.432436 152.073806 \nL 292.262278 151.841722 \nL 294.092119 152.448518 \nL 294.702067 151.815658 \nL 295.312014 152.016935 \nL 295.921961 151.940941 \nL 296.531908 152.416277 \nL 297.751802 152.811455 \nL 298.36175 153.280801 \nL 298.971697 152.929906 \nL 299.581644 153.396507 \nL 300.191591 153.31833 \nL 300.801538 152.970056 \nL 302.021433 152.817085 \nL 302.63138 152.204393 \nL 303.851274 153.124617 \nL 304.461221 153.048514 \nL 305.071168 153.238483 \nL 305.681116 153.692496 \nL 306.291063 153.086854 \nL 309.340799 152.714419 \nL 311.17064 151.718076 \nL 311.780587 151.906158 \nL 312.390534 151.835498 \nL 313.610429 152.208339 \nL 314.220376 152.649313 \nL 314.830323 152.832839 \nL 315.44027 152.760776 \nL 316.660165 153.124617 \nL 317.270112 153.558072 \nL 317.880059 153.737185 \nL 318.490006 153.663827 \nL 319.099953 153.339793 \nL 320.319848 153.695647 \nL 320.929795 154.121553 \nL 321.539742 154.048132 \nL 322.149689 154.471183 \nL 322.759636 154.644759 \nL 324.589478 154.423438 \nL 325.199425 154.595485 \nL 326.419319 154.449206 \nL 327.029266 154.620005 \nL 327.639214 153.818529 \nL 328.249161 153.747698 \nL 329.469055 154.089389 \nL 330.079002 153.777771 \nL 330.688949 153.707689 \nL 331.298897 153.158839 \nL 332.518791 152.545539 \nL 333.128738 152.478888 \nL 333.738685 152.887261 \nL 334.348632 152.820127 \nL 336.178474 153.326253 \nL 337.398368 154.128229 \nL 338.008315 154.059238 \nL 339.22821 154.852619 \nL 339.838157 155.014574 \nL 340.448104 155.407396 \nL 341.058051 155.336346 \nL 342.277946 155.65528 \nL 342.887893 155.125024 \nL 343.49784 155.284264 \nL 344.107787 154.985686 \nL 345.327681 155.757806 \nL 345.937629 155.687209 \nL 346.547576 156.07008 \nL 347.157523 155.999124 \nL 347.76747 155.70287 \nL 348.377417 155.858118 \nL 348.987365 155.788082 \nL 349.597312 156.166632 \nL 350.207259 155.872546 \nL 351.427153 155.733598 \nL 352.0371 155.886802 \nL 353.256995 155.748666 \nL 353.866942 155.459181 \nL 354.476889 155.832053 \nL 355.086836 155.983448 \nL 355.696783 155.695305 \nL 356.306731 155.846341 \nL 356.916678 155.341166 \nL 357.526625 155.492312 \nL 358.136572 155.860457 \nL 358.746519 156.009902 \nL 359.356466 155.508565 \nL 360.576361 155.375404 \nL 361.796255 155.673218 \nL 362.406202 156.035717 \nL 363.016149 156.182667 \nL 363.626097 155.901761 \nL 364.236044 155.835204 \nL 364.845991 155.130623 \nL 365.455938 154.85357 \nL 366.065885 155.213324 \nL 367.28578 155.506381 \nL 367.895727 155.441415 \nL 368.505674 155.586898 \nL 369.115621 155.522026 \nL 369.725568 155.038719 \nL 369.725568 155.038719 \n\" clip-path=\"url(#p29fe278b52)\" style=\"fill: none; stroke: #2ca02c; stroke-width: 1.5; stroke-linecap: square\"/>\n   </g>\n   <g id=\"line2d_17\">\n    <path d=\"M 50.14375 157.760314 \nL 384.94375 157.760314 \n\" clip-path=\"url(#p29fe278b52)\" style=\"fill: none; stroke-dasharray: 5.55,2.4; stroke-dashoffset: 0; stroke: #000000; stroke-width: 1.5\"/>\n   </g>\n   <g id=\"line2d_18\">\n    <path d=\"M 65.361932 123.216928 \nL 65.971879 18.54 \nL 66.581826 88.324624 \nL 67.191773 97.047708 \nL 67.80172 81.346169 \nL 68.411668 88.324624 \nL 69.021615 108.263083 \nL 69.631562 83.96309 \nL 70.241509 99.955392 \nL 70.851456 123.216928 \nL 71.461403 113.700853 \nL 72.071351 131.940012 \nL 73.291245 130.69385 \nL 73.901192 144.152307 \nL 74.511139 136.301546 \nL 75.731034 158.109232 \nL 76.950928 165.087702 \nL 77.560875 168.078462 \nL 78.780769 164.177461 \nL 80.000664 160.900617 \nL 81.220558 158.109232 \nL 82.440452 170.141073 \nL 83.0504 175.555384 \nL 83.660347 173.867048 \nL 84.270294 169.013083 \nL 84.880241 167.625322 \nL 85.490188 169.397919 \nL 86.100135 162.096927 \nL 86.710083 161.016932 \nL 87.32003 162.824421 \nL 87.929977 161.782111 \nL 88.539924 158.109232 \nL 90.369766 155.616925 \nL 90.979713 154.863444 \nL 91.58966 147.007145 \nL 92.199607 148.804621 \nL 92.809554 148.248362 \nL 93.419502 152.170124 \nL 94.029449 153.747698 \nL 94.639396 153.124617 \nL 95.85929 160.16172 \nL 96.469237 155.425209 \nL 98.299079 165.087702 \nL 98.909026 162.470782 \nL 99.518973 163.618551 \nL 100.738868 162.249008 \nL 101.348815 165.087702 \nL 101.958762 164.401293 \nL 102.568709 160.360346 \nL 103.178656 159.77077 \nL 104.398551 161.866871 \nL 105.008498 164.453297 \nL 105.618445 162.275478 \nL 106.228392 163.240453 \nL 106.838339 161.143354 \nL 108.668181 163.924616 \nL 109.278128 166.234847 \nL 109.888075 165.653522 \nL 111.107969 170.046081 \nL 112.327864 171.529349 \nL 113.547758 170.321543 \nL 114.157705 171.032316 \nL 114.767652 167.896105 \nL 115.3776 167.357799 \nL 116.597494 171.245168 \nL 117.207441 171.903874 \nL 117.817388 168.937885 \nL 119.037283 170.262738 \nL 119.64723 169.74 \nL 120.257177 170.379053 \nL 120.867124 168.728636 \nL 122.696966 170.597005 \nL 123.306913 169.013083 \nL 123.91686 168.54096 \nL 124.526807 169.146602 \nL 125.136754 168.682669 \nL 125.746701 169.274772 \nL 126.356649 168.818762 \nL 126.966596 170.424163 \nL 127.576543 166.916998 \nL 128.18649 168.509827 \nL 128.796437 169.075397 \nL 129.406384 170.617797 \nL 130.016332 170.174796 \nL 130.626279 170.709233 \nL 131.236226 170.273532 \nL 131.846173 170.797347 \nL 132.45612 170.368696 \nL 133.066067 171.816931 \nL 133.676015 172.313183 \nL 134.285962 173.71896 \nL 134.895909 174.190038 \nL 136.115803 173.318698 \nL 136.72575 172.007024 \nL 137.945645 172.938464 \nL 138.555592 174.257749 \nL 139.165539 172.981374 \nL 139.775486 172.576775 \nL 140.995381 175.136685 \nL 141.605328 174.724615 \nL 142.825222 175.555384 \nL 143.435169 174.338219 \nL 144.655064 175.155855 \nL 145.265011 174.762378 \nL 146.484905 170.868365 \nL 147.094852 171.290776 \nL 148.314747 170.588972 \nL 148.924694 171.004224 \nL 149.534641 170.660427 \nL 150.144588 171.069237 \nL 150.754535 170.729854 \nL 151.364482 171.132425 \nL 151.97443 170.797347 \nL 153.194324 168.697253 \nL 154.414218 168.078462 \nL 155.024165 169.189903 \nL 155.634113 168.881357 \nL 156.24406 169.274772 \nL 156.854007 168.969751 \nL 157.463954 167.980085 \nL 158.683848 168.758195 \nL 159.903743 166.832316 \nL 160.51369 167.221238 \nL 161.123637 166.942735 \nL 161.733584 166.009377 \nL 162.953479 165.477794 \nL 163.563426 164.570782 \nL 164.173373 164.959268 \nL 164.78332 164.066465 \nL 165.393267 163.818892 \nL 166.003214 162.943715 \nL 166.613162 162.705829 \nL 167.223109 163.716928 \nL 168.443003 164.471952 \nL 169.662897 163.992249 \nL 170.272845 164.361612 \nL 170.882792 165.328334 \nL 172.102686 166.03931 \nL 172.712633 165.797368 \nL 173.932528 166.491186 \nL 174.542475 166.250773 \nL 175.152422 167.169671 \nL 176.372316 166.689313 \nL 176.982263 165.315262 \nL 177.592211 165.653522 \nL 178.202158 165.425369 \nL 178.812105 163.520345 \nL 179.422052 162.749176 \nL 180.031999 163.647703 \nL 180.641946 163.434899 \nL 181.251894 164.320433 \nL 181.861841 164.651549 \nL 182.471788 163.35212 \nL 183.081735 162.605674 \nL 184.911577 163.599911 \nL 185.521524 163.39595 \nL 186.131471 162.668035 \nL 186.741418 163.517537 \nL 187.351365 162.796267 \nL 187.961312 163.118523 \nL 188.57126 162.406315 \nL 189.181207 162.214209 \nL 189.791154 161.002753 \nL 190.401101 161.327458 \nL 191.011048 162.154718 \nL 191.620995 161.967525 \nL 192.230943 160.780418 \nL 192.84089 161.100007 \nL 193.450837 160.424361 \nL 194.060784 160.248867 \nL 194.670731 159.583562 \nL 197.11052 160.842732 \nL 197.720467 160.67014 \nL 198.330414 160.977094 \nL 199.550309 160.635372 \nL 200.160256 160.938349 \nL 200.770203 161.707989 \nL 201.38015 162.003463 \nL 201.990097 160.435389 \nL 202.600044 161.197058 \nL 203.209992 161.490864 \nL 204.429886 161.156597 \nL 205.039833 161.446768 \nL 205.64978 160.828117 \nL 206.259727 161.568386 \nL 206.869675 161.853051 \nL 208.089569 161.524228 \nL 209.309463 162.967658 \nL 209.91941 162.360815 \nL 210.529358 163.072992 \nL 211.139305 163.343089 \nL 211.749252 164.045267 \nL 212.969146 164.570782 \nL 213.579093 164.401293 \nL 214.189041 164.66044 \nL 215.408935 164.324878 \nL 216.628829 163.153915 \nL 217.238776 163.412874 \nL 217.848724 163.252729 \nL 218.458671 162.67847 \nL 219.068618 162.522489 \nL 219.678565 162.779858 \nL 220.898459 162.470782 \nL 221.508407 161.910733 \nL 222.118354 162.166479 \nL 223.338248 163.477279 \nL 224.558142 163.969008 \nL 225.16809 164.610089 \nL 225.778037 163.660291 \nL 226.387984 163.507664 \nL 226.997931 162.569159 \nL 227.607878 163.205872 \nL 228.217825 162.275478 \nL 229.43772 163.536926 \nL 230.047667 163.774407 \nL 230.657614 164.394976 \nL 231.267561 164.627574 \nL 231.877508 165.240517 \nL 232.487456 165.087702 \nL 233.70735 166.296959 \nL 235.537191 165.835396 \nL 236.147139 166.056234 \nL 237.97698 165.603718 \nL 238.586927 165.822278 \nL 239.196874 164.941299 \nL 239.806822 164.431195 \nL 240.416769 164.651549 \nL 241.026716 164.145968 \nL 241.636663 164.365792 \nL 242.24661 163.864673 \nL 242.856557 163.72546 \nL 243.466505 163.944472 \nL 244.686399 163.668355 \nL 245.296346 163.885324 \nL 245.906293 163.39595 \nL 246.51624 163.963658 \nL 248.346082 164.600824 \nL 249.565976 164.32767 \nL 250.175923 163.848107 \nL 251.395818 164.266697 \nL 252.005765 163.110084 \nL 253.225659 163.529408 \nL 253.835606 164.074701 \nL 254.445554 163.606743 \nL 255.055501 163.477279 \nL 257.495289 164.292684 \nL 258.105237 163.832899 \nL 258.715184 163.705167 \nL 259.325131 163.250108 \nL 259.935078 163.779242 \nL 261.154972 163.527302 \nL 261.76492 163.07842 \nL 262.374867 162.955398 \nL 262.984814 163.155194 \nL 263.594761 162.7116 \nL 264.204708 162.910928 \nL 264.814655 163.428192 \nL 265.424603 163.305965 \nL 266.03455 162.867285 \nL 267.254444 163.258999 \nL 267.864391 162.824421 \nL 268.474338 162.705829 \nL 269.084286 162.900415 \nL 269.694233 162.159241 \nL 270.30418 162.354295 \nL 271.524074 161.505838 \nL 272.134021 162.008969 \nL 272.743969 162.202183 \nL 273.353916 162.088192 \nL 274.57381 163.079356 \nL 275.183757 162.963821 \nL 275.793704 162.546417 \nL 276.403652 162.734732 \nL 277.013599 162.621178 \nL 278.233493 161.797849 \nL 278.84344 161.986165 \nL 279.453387 161.876027 \nL 280.063335 161.469962 \nL 280.673282 161.9533 \nL 281.893176 162.323754 \nL 282.503123 161.627784 \nL 283.11307 161.228099 \nL 283.723018 161.413794 \nL 284.332965 161.016932 \nL 285.552859 161.386419 \nL 287.382701 161.072695 \nL 287.992648 160.683258 \nL 288.602595 161.151621 \nL 289.212542 161.33298 \nL 290.432436 161.126945 \nL 291.042384 161.589069 \nL 291.652331 161.767308 \nL 292.262278 161.102674 \nL 292.872225 160.16172 \nL 293.482172 160.063203 \nL 294.702067 160.423051 \nL 295.312014 160.878468 \nL 297.141855 159.757699 \nL 297.751802 159.662036 \nL 298.971697 160.017407 \nL 299.581644 159.921822 \nL 300.191591 160.369097 \nL 300.801538 160.273106 \nL 301.411485 159.907815 \nL 302.021433 159.813493 \nL 302.63138 159.988051 \nL 303.241327 160.429446 \nL 303.851274 160.334516 \nL 304.461221 160.506422 \nL 305.071168 160.411773 \nL 305.681116 159.787601 \nL 306.291063 160.223926 \nL 306.90101 160.394381 \nL 307.510957 160.300964 \nL 308.120904 159.945671 \nL 308.730851 160.11555 \nL 309.950746 160.973538 \nL 310.560693 160.620101 \nL 311.17064 160.527511 \nL 311.780587 159.918468 \nL 313.000482 160.252501 \nL 313.610429 159.905163 \nL 314.220376 160.071392 \nL 314.830323 159.470882 \nL 315.44027 159.127989 \nL 316.050217 159.040827 \nL 316.660165 159.207539 \nL 317.880059 159.034089 \nL 319.099953 158.360267 \nL 319.7099 158.526605 \nL 320.319848 158.19251 \nL 320.929795 158.109232 \nL 323.369583 158.76758 \nL 324.589478 159.583562 \nL 326.419319 160.061253 \nL 327.029266 159.975573 \nL 327.639214 160.376022 \nL 328.249161 160.532315 \nL 328.859108 160.446136 \nL 329.469055 160.119169 \nL 330.688949 160.430054 \nL 331.298897 160.344904 \nL 332.518791 160.652639 \nL 333.738685 160.008142 \nL 334.348632 160.398546 \nL 334.95858 160.314613 \nL 335.568527 160.702584 \nL 336.178474 160.853573 \nL 336.788421 160.534483 \nL 337.398368 159.982655 \nL 338.008315 159.666934 \nL 338.618263 159.585746 \nL 339.22821 158.80709 \nL 339.838157 159.192362 \nL 340.448104 159.112781 \nL 341.058051 158.802457 \nL 341.667998 158.954648 \nL 342.277946 158.876096 \nL 342.887893 159.02746 \nL 343.49784 158.720037 \nL 344.107787 159.099632 \nL 344.717734 159.021454 \nL 345.327681 159.398741 \nL 345.937629 159.547312 \nL 347.157523 159.39038 \nL 347.76747 159.538016 \nL 348.987365 160.28064 \nL 349.597312 160.425422 \nL 350.207259 160.345918 \nL 350.817206 160.713144 \nL 351.427153 160.856084 \nL 353.866942 160.538445 \nL 355.086836 160.821457 \nL 356.306731 160.226141 \nL 356.916678 160.148868 \nL 357.526625 160.508076 \nL 358.136572 160.430553 \nL 359.356466 161.143354 \nL 359.966414 161.281272 \nL 360.576361 160.771122 \nL 361.186308 161.124621 \nL 361.796255 160.831845 \nL 363.016149 160.678001 \nL 363.626097 161.028802 \nL 364.236044 160.951794 \nL 366.065885 161.358311 \nL 366.675832 161.281272 \nL 367.28578 161.415572 \nL 368.505674 161.262149 \nL 369.725568 161.947388 \nL 369.725568 161.947388 \n\" clip-path=\"url(#p29fe278b52)\" style=\"fill: none; stroke: #d62728; stroke-width: 1.5; stroke-linecap: square\"/>\n   </g>\n   <g id=\"line2d_19\">\n    <path d=\"M 50.14375 157.760314 \nL 384.94375 157.760314 \n\" clip-path=\"url(#p29fe278b52)\" style=\"fill: none; stroke-dasharray: 5.55,2.4; stroke-dashoffset: 0; stroke: #000000; stroke-width: 1.5\"/>\n   </g>\n   <g id=\"line2d_20\">\n    <path d=\"M 65.361932 18.54 \nL 65.971879 175.555384 \nL 66.581826 193.001536 \nL 67.191773 201.72462 \nL 67.80172 206.958469 \nL 68.411668 193.001536 \nL 69.021615 197.986151 \nL 69.631562 214.809238 \nL 70.241509 216.26308 \nL 71.461403 218.377766 \nL 72.071351 210.447696 \nL 72.681298 211.789708 \nL 73.291245 220.416926 \nL 74.511139 208.266929 \nL 75.121086 203.263986 \nL 75.731034 210.447696 \nL 76.950928 212.19231 \nL 78.170822 213.619721 \nL 78.780769 214.240337 \nL 79.390717 210.447696 \nL 80.000664 211.145546 \nL 80.610611 215.815743 \nL 81.220558 216.26308 \nL 81.830505 212.940003 \nL 82.440452 206.236558 \nL 83.0504 206.958469 \nL 84.270294 214.809238 \nL 84.880241 212.033708 \nL 85.490188 215.578917 \nL 86.100135 206.958469 \nL 86.710083 204.632312 \nL 87.32003 205.261 \nL 88.539924 201.053606 \nL 89.759819 202.362893 \nL 90.979713 208.419072 \nL 92.199607 209.284618 \nL 92.809554 207.413581 \nL 93.419502 210.076501 \nL 94.029449 210.447696 \nL 94.639396 208.66748 \nL 95.85929 209.421452 \nL 96.469237 211.789708 \nL 98.299079 206.958469 \nL 98.909026 209.201542 \nL 99.518973 202.183726 \nL 100.12892 199.017465 \nL 100.738868 199.506885 \nL 101.348815 198.235393 \nL 101.958762 198.7216 \nL 102.568709 200.880452 \nL 103.178656 196.324613 \nL 103.788603 193.546736 \nL 104.398551 194.075152 \nL 105.008498 196.173576 \nL 105.618445 195.084659 \nL 106.228392 190.949048 \nL 106.838339 191.484483 \nL 107.448286 193.500004 \nL 109.888075 184.042703 \nL 111.107969 185.19668 \nL 112.327864 183.607454 \nL 113.547758 179.48078 \nL 114.767652 180.661586 \nL 115.3776 179.969484 \nL 115.987547 180.539999 \nL 117.207441 176.772564 \nL 119.037283 174.967321 \nL 120.257177 176.130532 \nL 120.867124 175.555384 \nL 121.477071 177.243735 \nL 122.087018 176.668977 \nL 122.696966 175.00446 \nL 123.91686 173.936678 \nL 124.526807 174.487259 \nL 125.136754 173.969372 \nL 126.356649 175.037185 \nL 126.966596 176.581628 \nL 127.576543 177.079815 \nL 128.18649 173.542374 \nL 128.796437 173.063077 \nL 129.406384 171.605312 \nL 130.016332 172.131372 \nL 131.846173 170.797347 \nL 132.45612 168.482623 \nL 133.066067 169.947704 \nL 133.676015 169.534152 \nL 134.285962 167.29143 \nL 134.895909 168.728636 \nL 135.505856 169.238678 \nL 136.115803 168.845326 \nL 136.72575 170.232837 \nL 138.555592 171.662447 \nL 139.165539 172.981374 \nL 139.775486 173.427806 \nL 140.385433 174.711216 \nL 140.995381 175.136685 \nL 142.215275 174.319049 \nL 142.825222 173.102025 \nL 143.435169 173.526761 \nL 144.045116 173.139772 \nL 145.265011 173.969372 \nL 145.874958 173.58778 \nL 146.484905 173.993049 \nL 147.094852 172.841537 \nL 148.924694 174.038331 \nL 149.534641 172.919637 \nL 150.144588 174.060012 \nL 151.364482 174.818235 \nL 152.584377 172.6477 \nL 153.194324 173.750609 \nL 153.804271 173.404487 \nL 154.414218 172.350993 \nL 155.024165 172.019004 \nL 155.634113 172.394013 \nL 156.24406 171.368314 \nL 156.854007 171.742653 \nL 157.463954 171.423407 \nL 159.293796 172.51638 \nL 159.903743 171.529349 \nL 160.51369 171.22163 \nL 162.343531 172.284233 \nL 162.953479 171.979478 \nL 163.563426 172.324617 \nL 165.393267 175.238182 \nL 166.613162 175.868796 \nL 167.223109 175.555384 \nL 167.833056 175.865084 \nL 168.443003 175.555384 \nL 169.05295 175.861465 \nL 169.662897 176.772564 \nL 170.272845 176.462989 \nL 170.882792 176.758573 \nL 171.492739 176.452617 \nL 172.102686 175.555384 \nL 173.932528 176.432573 \nL 174.542475 176.136927 \nL 175.152422 175.266227 \nL 175.762369 175.555384 \nL 176.372316 175.269393 \nL 176.982263 175.555384 \nL 178.202158 173.867048 \nL 179.422052 174.441806 \nL 180.031999 173.616933 \nL 180.641946 173.351672 \nL 181.861841 173.919817 \nL 182.471788 174.741835 \nL 183.691682 175.286988 \nL 184.301629 173.953196 \nL 184.911577 174.227005 \nL 185.521524 173.440706 \nL 186.741418 172.938464 \nL 187.351365 173.211882 \nL 187.961312 174.000786 \nL 188.57126 174.266265 \nL 189.791154 175.810693 \nL 190.401101 175.555384 \nL 191.011048 174.291176 \nL 191.620995 174.548887 \nL 192.84089 176.053852 \nL 194.060784 176.542914 \nL 194.670731 177.275431 \nL 195.280678 177.511976 \nL 195.890626 176.772564 \nL 197.11052 176.278963 \nL 197.720467 176.995898 \nL 198.940361 177.458614 \nL 199.550309 178.160466 \nL 200.160256 177.441457 \nL 201.38015 176.957308 \nL 201.990097 177.648927 \nL 202.600044 176.018569 \nL 203.209992 175.785955 \nL 204.429886 177.155263 \nL 205.039833 176.920746 \nL 205.64978 176.235117 \nL 206.259727 176.45778 \nL 206.869675 176.229283 \nL 207.479622 176.450058 \nL 208.089569 177.114412 \nL 209.91941 177.754479 \nL 210.529358 177.088316 \nL 211.139305 177.300013 \nL 212.359199 175.987934 \nL 212.969146 176.632306 \nL 213.579093 175.984394 \nL 214.189041 174.914506 \nL 216.628829 175.765584 \nL 217.238776 175.555384 \nL 217.848724 174.929839 \nL 218.458671 174.724615 \nL 219.068618 174.10729 \nL 219.678565 174.319049 \nL 220.288512 174.118645 \nL 220.898459 172.693137 \nL 221.508407 172.907923 \nL 222.118354 173.526761 \nL 222.728301 173.73668 \nL 223.338248 172.334568 \nL 223.948195 172.146378 \nL 224.558142 172.75868 \nL 225.16809 172.172302 \nL 225.778037 171.986856 \nL 226.387984 172.592841 \nL 226.997931 172.800733 \nL 228.217825 173.993049 \nL 228.827773 173.026016 \nL 229.43772 172.841537 \nL 230.657614 171.70698 \nL 231.877508 172.881156 \nL 232.487456 172.700562 \nL 233.70735 171.587499 \nL 234.317297 171.79004 \nL 234.927244 171.615934 \nL 235.537191 172.19077 \nL 236.147139 171.643979 \nL 237.367033 172.041496 \nL 237.97698 171.86959 \nL 239.196874 172.261367 \nL 239.806822 172.090474 \nL 240.416769 172.284233 \nL 241.026716 172.838854 \nL 241.636663 172.306804 \nL 242.24661 172.138095 \nL 242.856557 172.329047 \nL 243.466505 171.804171 \nL 244.686399 172.184437 \nL 245.296346 171.665364 \nL 245.906293 171.854694 \nL 246.51624 171.340207 \nL 247.126188 171.529349 \nL 247.736135 171.019385 \nL 248.346082 170.860581 \nL 250.175923 171.423407 \nL 252.005765 170.952329 \nL 252.615712 171.477064 \nL 254.445554 172.021281 \nL 256.275395 171.554992 \nL 257.495289 171.91158 \nL 258.715184 171.605312 \nL 259.325131 171.125484 \nL 259.935078 170.975773 \nL 260.545025 171.153092 \nL 261.76492 170.856276 \nL 262.374867 171.032316 \nL 263.594761 170.738963 \nL 264.814655 169.810924 \nL 266.03455 170.162942 \nL 266.644497 170.021109 \nL 267.864391 170.997392 \nL 268.474338 171.167739 \nL 269.084286 171.649532 \nL 269.694233 171.50539 \nL 270.30418 171.672711 \nL 270.914127 171.529349 \nL 271.524074 171.078065 \nL 272.743969 172.025227 \nL 273.963863 172.350993 \nL 274.57381 172.208162 \nL 275.183757 172.369571 \nL 275.793704 172.227519 \nL 276.403652 172.387929 \nL 277.623546 172.10615 \nL 278.233493 172.564624 \nL 278.84344 172.125804 \nL 280.063335 172.441774 \nL 280.673282 172.894118 \nL 281.283229 172.459306 \nL 281.893176 172.615022 \nL 283.11307 173.508636 \nL 284.942912 173.96059 \nL 286.162806 173.68101 \nL 287.382701 173.97806 \nL 287.992648 173.553371 \nL 289.212542 173.279812 \nL 289.822489 173.711489 \nL 290.432436 173.857923 \nL 291.042384 173.157133 \nL 291.652331 173.30427 \nL 292.872225 173.036419 \nL 293.482172 173.182714 \nL 294.702067 172.91764 \nL 295.312014 172.509236 \nL 296.531908 172.249808 \nL 297.751802 172.541134 \nL 299.581644 172.156782 \nL 300.191591 172.301189 \nL 300.801538 171.903874 \nL 301.411485 171.778388 \nL 302.021433 172.191737 \nL 302.63138 172.334568 \nL 303.241327 172.208942 \nL 303.851274 172.618032 \nL 305.071168 172.367262 \nL 305.681116 172.507832 \nL 307.510957 172.136301 \nL 308.120904 171.751341 \nL 308.730851 171.106625 \nL 309.340799 171.509274 \nL 310.560693 171.26961 \nL 311.17064 171.409774 \nL 311.780587 171.290776 \nL 312.390534 171.430192 \nL 313.000482 171.311725 \nL 313.610429 170.937293 \nL 314.220376 171.332486 \nL 315.44027 171.098343 \nL 316.050217 171.49026 \nL 317.270112 170.24569 \nL 317.880059 169.375676 \nL 319.099953 169.154277 \nL 320.319848 168.435361 \nL 321.539742 169.215109 \nL 322.149689 169.106094 \nL 323.369583 169.383397 \nL 323.979531 169.274772 \nL 324.589478 168.920945 \nL 326.419319 169.333343 \nL 327.029266 169.22609 \nL 328.249161 169.497699 \nL 329.469055 170.249184 \nL 330.079002 169.900426 \nL 330.688949 170.273532 \nL 333.128738 169.845739 \nL 333.738685 170.214727 \nL 334.348632 169.87157 \nL 334.95858 169.766267 \nL 335.568527 169.897182 \nL 336.178474 169.55705 \nL 337.398368 169.349705 \nL 338.008315 169.480386 \nL 338.618263 169.144216 \nL 339.22821 169.274772 \nL 339.838157 169.172651 \nL 341.058051 168.507612 \nL 341.667998 168.638417 \nL 342.277946 168.308533 \nL 342.887893 168.439198 \nL 343.49784 168.798344 \nL 344.107787 168.698828 \nL 344.717734 168.371674 \nL 345.327681 168.501076 \nL 345.937629 168.402839 \nL 347.157523 168.659833 \nL 347.76747 169.013083 \nL 348.987365 169.265787 \nL 349.597312 168.718888 \nL 350.207259 169.069002 \nL 351.427153 168.873886 \nL 352.0371 168.332461 \nL 352.647048 168.236876 \nL 353.866942 168.488598 \nL 355.086836 168.298379 \nL 355.696783 168.42332 \nL 356.306731 168.109751 \nL 356.916678 168.234567 \nL 357.526625 168.140776 \nL 358.746519 167.520019 \nL 360.576361 167.893469 \nL 361.186308 167.370777 \nL 361.796255 167.709988 \nL 362.406202 167.189824 \nL 363.016149 166.885833 \nL 363.626097 166.796705 \nL 364.236044 167.134341 \nL 365.455938 167.380822 \nL 366.065885 167.715214 \nL 366.675832 167.836785 \nL 367.28578 168.168915 \nL 367.895727 168.078462 \nL 368.505674 168.198582 \nL 369.725568 168.018659 \nL 369.725568 168.018659 \n\" clip-path=\"url(#p29fe278b52)\" style=\"fill: none; stroke: #9467bd; stroke-width: 1.5; stroke-linecap: square\"/>\n   </g>\n   <g id=\"line2d_21\">\n    <path d=\"M 50.14375 157.760314 \nL 384.94375 157.760314 \n\" clip-path=\"url(#p29fe278b52)\" style=\"fill: none; stroke-dasharray: 5.55,2.4; stroke-dashoffset: 0; stroke: #000000; stroke-width: 1.5\"/>\n   </g>\n   <g id=\"line2d_22\">\n    <path d=\"M 65.361932 227.893848 \nL 65.971879 123.216928 \nL 66.581826 53.432304 \nL 67.191773 97.047708 \nL 67.80172 123.216928 \nL 68.411668 158.109232 \nL 69.021615 153.124617 \nL 69.631562 149.386164 \nL 70.241509 169.74 \nL 71.461403 142.249092 \nL 72.071351 131.940012 \nL 73.291245 130.69385 \nL 73.901192 144.152307 \nL 75.121086 154.004255 \nL 76.340981 150.763489 \nL 77.560875 148.140002 \nL 78.170822 137.491055 \nL 78.780769 123.216928 \nL 79.390717 118.855394 \nL 80.000664 127.404013 \nL 80.610611 127.242963 \nL 81.830505 134.432319 \nL 82.440452 134.04558 \nL 83.0504 119.727701 \nL 83.660347 126.593599 \nL 84.880241 132.733018 \nL 85.490188 129.374393 \nL 86.710083 134.847696 \nL 87.32003 134.533348 \nL 87.929977 139.744868 \nL 89.149871 144.152307 \nL 89.759819 148.74789 \nL 90.979713 152.429099 \nL 91.58966 151.765182 \nL 92.199607 155.783091 \nL 92.809554 152.799538 \nL 93.419502 152.170124 \nL 94.029449 155.928465 \nL 95.249343 154.620005 \nL 96.469237 157.438234 \nL 97.689132 156.170781 \nL 98.299079 157.474827 \nL 98.909026 154.993859 \nL 100.738868 158.700633 \nL 101.348815 154.620005 \nL 101.958762 152.389183 \nL 102.568709 153.607003 \nL 103.178656 153.124617 \nL 104.398551 155.425209 \nL 105.008498 154.937207 \nL 106.228392 157.082988 \nL 106.838339 156.592179 \nL 107.448286 153.124617 \nL 108.058234 154.177706 \nL 108.668181 153.747698 \nL 109.278128 151.895535 \nL 109.888075 151.507986 \nL 110.498022 153.922162 \nL 111.107969 152.140815 \nL 113.547758 155.928465 \nL 114.157705 154.232314 \nL 114.767652 155.130623 \nL 115.3776 154.746131 \nL 115.987547 153.124617 \nL 117.817388 155.70287 \nL 118.427335 155.33371 \nL 119.64723 152.293848 \nL 120.257177 153.124617 \nL 120.867124 155.075125 \nL 121.477071 152.481446 \nL 122.696966 151.865353 \nL 123.306913 152.657314 \nL 123.91686 151.274654 \nL 124.526807 150.988351 \nL 125.746701 154.620005 \nL 126.356649 153.272674 \nL 128.796437 156.115392 \nL 129.406384 155.805022 \nL 130.626279 157.139999 \nL 131.236226 158.749471 \nL 131.846173 158.426434 \nL 132.45612 159.995305 \nL 133.066067 159.666934 \nL 133.676015 161.197058 \nL 134.285962 160.863899 \nL 134.895909 161.446768 \nL 135.505856 160.214801 \nL 136.115803 161.68793 \nL 136.72575 161.361914 \nL 137.335698 161.920996 \nL 138.555592 159.551071 \nL 139.165539 157.537235 \nL 140.385433 156.983675 \nL 141.605328 158.109232 \nL 142.215275 156.186036 \nL 142.825222 157.564048 \nL 144.045116 158.64604 \nL 144.655064 157.576526 \nL 145.874958 157.05984 \nL 146.484905 156.026109 \nL 147.094852 157.333852 \nL 147.704799 157.852675 \nL 148.314747 156.071733 \nL 148.924694 156.592179 \nL 150.144588 156.115392 \nL 150.754535 156.624451 \nL 151.97443 156.157226 \nL 152.584377 156.655398 \nL 153.194324 157.8686 \nL 153.804271 158.348226 \nL 154.414218 156.685065 \nL 155.634113 156.235825 \nL 156.24406 155.317847 \nL 156.854007 155.105261 \nL 157.463954 156.272792 \nL 158.073901 156.740906 \nL 158.683848 157.88267 \nL 159.293796 157.659009 \nL 160.51369 159.887194 \nL 161.123637 157.667557 \nL 161.733584 156.134204 \nL 162.343531 155.928465 \nL 162.953479 157.025618 \nL 163.563426 156.170781 \nL 164.173373 155.968599 \nL 165.393267 154.302802 \nL 167.833056 156.044608 \nL 168.443003 157.082988 \nL 169.05295 156.272792 \nL 169.662897 156.080609 \nL 170.272845 156.49572 \nL 170.882792 156.304457 \nL 171.492739 157.311702 \nL 172.102686 155.928465 \nL 172.712633 155.152258 \nL 173.32258 154.972849 \nL 173.932528 155.380224 \nL 175.152422 155.024837 \nL 176.372316 152.389183 \nL 176.982263 151.661752 \nL 177.592211 152.639626 \nL 178.812105 153.444487 \nL 180.031999 152.016935 \nL 180.641946 151.865353 \nL 181.251894 151.167308 \nL 181.861841 151.021731 \nL 182.471788 151.420044 \nL 183.081735 150.735085 \nL 183.691682 151.130777 \nL 184.301629 152.056492 \nL 184.911577 151.37874 \nL 186.131471 153.199769 \nL 186.741418 152.526462 \nL 187.351365 152.380651 \nL 187.961312 151.718076 \nL 188.57126 152.093319 \nL 189.181207 150.412408 \nL 189.791154 151.300984 \nL 190.401101 151.164656 \nL 191.011048 151.535329 \nL 191.620995 150.895917 \nL 192.230943 151.264328 \nL 192.84089 151.130777 \nL 193.450837 151.494587 \nL 194.060784 151.361192 \nL 194.670731 151.720509 \nL 195.280678 150.119882 \nL 195.890626 149.507876 \nL 197.720467 149.146078 \nL 198.330414 148.071729 \nL 199.550309 146.899487 \nL 200.770203 146.687088 \nL 201.990097 147.408936 \nL 203.209992 147.195788 \nL 204.429886 147.900572 \nL 206.259727 147.581388 \nL 206.869675 147.926075 \nL 207.479622 148.71515 \nL 208.089569 147.270347 \nL 208.699516 148.055523 \nL 209.309463 147.95072 \nL 210.529358 146.867776 \nL 211.139305 146.769243 \nL 211.749252 146.237162 \nL 212.359199 146.142045 \nL 212.969146 145.616935 \nL 213.579093 145.525125 \nL 214.189041 145.006817 \nL 214.798988 144.067204 \nL 215.408935 143.559003 \nL 216.018882 142.632805 \nL 216.628829 142.97523 \nL 217.238776 142.477479 \nL 219.678565 143.822626 \nL 222.118354 143.503162 \nL 223.338248 144.957527 \nL 223.948195 144.47316 \nL 224.558142 143.592976 \nL 225.16809 143.117484 \nL 225.778037 143.438602 \nL 226.387984 142.96729 \nL 226.997931 143.680091 \nL 227.607878 143.2114 \nL 228.827773 143.062735 \nL 229.43772 143.764617 \nL 233.70735 145.890635 \nL 234.317297 146.562148 \nL 234.927244 146.85366 \nL 235.537191 146.395389 \nL 236.757086 146.973391 \nL 238.586927 146.723323 \nL 240.416769 147.568847 \nL 241.026716 147.122384 \nL 241.636663 147.400903 \nL 242.856557 148.669198 \nL 243.466505 148.582332 \nL 244.686399 149.120029 \nL 245.906293 150.355397 \nL 246.51624 150.615589 \nL 247.126188 151.224132 \nL 247.736135 151.479706 \nL 248.346082 150.690272 \nL 249.565976 150.508929 \nL 250.175923 151.107817 \nL 250.785871 151.359586 \nL 251.395818 151.267604 \nL 252.005765 151.858178 \nL 253.225659 150.995277 \nL 253.835606 150.905666 \nL 254.445554 150.480057 \nL 255.055501 151.063674 \nL 255.665448 150.64028 \nL 258.715184 151.854949 \nL 259.325131 151.765182 \nL 260.545025 152.891691 \nL 261.154972 153.124617 \nL 261.76492 153.680189 \nL 262.374867 153.586164 \nL 262.984814 153.814801 \nL 263.594761 153.720947 \nL 264.204708 153.307551 \nL 264.814655 153.854077 \nL 265.424603 153.442787 \nL 266.03455 153.668397 \nL 266.644497 153.5764 \nL 267.254444 153.800248 \nL 267.864391 153.708406 \nL 268.474338 154.243919 \nL 269.694233 153.436157 \nL 270.914127 153.257341 \nL 271.524074 153.477508 \nL 272.134021 153.080646 \nL 272.743969 153.300033 \nL 273.353916 153.212076 \nL 273.963863 153.429809 \nL 274.57381 153.950566 \nL 275.183757 153.558072 \nL 276.403652 153.98652 \nL 277.013599 153.296508 \nL 277.623546 153.810184 \nL 278.233493 153.423695 \nL 278.84344 153.33764 \nL 279.453387 153.846824 \nL 280.673282 154.265164 \nL 281.283229 154.177706 \nL 281.893176 153.796707 \nL 282.503123 153.124617 \nL 283.11307 153.333475 \nL 283.723018 152.666424 \nL 284.332965 152.875391 \nL 284.942912 152.503268 \nL 287.382701 152.182322 \nL 287.992648 152.67519 \nL 289.212542 153.083984 \nL 289.822489 153.003046 \nL 291.042384 153.406771 \nL 291.652331 153.044225 \nL 292.262278 153.244894 \nL 293.482172 153.084748 \nL 295.921961 153.874292 \nL 296.531908 153.518141 \nL 297.751802 153.907547 \nL 298.36175 153.82742 \nL 300.191591 154.403067 \nL 300.801538 154.863444 \nL 301.411485 155.051666 \nL 302.021433 154.431642 \nL 303.851274 153.391656 \nL 304.461221 153.581235 \nL 306.291063 153.351195 \nL 308.120904 153.911665 \nL 309.950746 152.901424 \nL 310.560693 153.347264 \nL 311.17064 153.272674 \nL 312.390534 153.640274 \nL 313.000482 152.793953 \nL 313.610429 152.978011 \nL 314.220376 152.649313 \nL 314.830323 152.57753 \nL 315.44027 152.760776 \nL 316.050217 152.180933 \nL 316.660165 152.617711 \nL 317.880059 152.980491 \nL 318.490006 152.908942 \nL 319.099953 153.088757 \nL 319.7099 152.766875 \nL 320.319848 153.195994 \nL 320.929795 152.875391 \nL 321.539742 153.053583 \nL 322.149689 152.734837 \nL 323.369583 152.595593 \nL 324.589478 152.949108 \nL 325.199425 152.389183 \nL 325.809372 152.32102 \nL 326.419319 152.497184 \nL 327.639214 152.36131 \nL 328.249161 152.536164 \nL 328.859108 152.226698 \nL 330.079002 152.574598 \nL 330.688949 152.267175 \nL 331.298897 152.440236 \nL 331.908844 152.134529 \nL 333.738685 152.64989 \nL 334.348632 152.346476 \nL 334.95858 152.28073 \nL 335.568527 151.743751 \nL 336.178474 151.914877 \nL 336.788421 151.850535 \nL 337.398368 152.020648 \nL 338.008315 151.722693 \nL 338.618263 151.892338 \nL 339.22821 151.82862 \nL 339.838157 151.068884 \nL 340.448104 150.775672 \nL 341.058051 150.945909 \nL 341.667998 150.654272 \nL 342.277946 151.054097 \nL 342.887893 151.222603 \nL 343.49784 150.932261 \nL 344.717734 150.8115 \nL 345.327681 150.52395 \nL 345.937629 150.918846 \nL 346.547576 150.858887 \nL 347.76747 151.642129 \nL 348.377417 151.130777 \nL 349.597312 151.459522 \nL 350.207259 151.846511 \nL 350.817206 151.562283 \nL 352.647048 151.382125 \nL 353.866942 151.704958 \nL 355.086836 151.585259 \nL 355.696783 151.745232 \nL 356.306731 152.123533 \nL 356.916678 152.281713 \nL 357.526625 151.785008 \nL 358.136572 151.72561 \nL 358.746519 151.44929 \nL 359.356466 151.390844 \nL 359.966414 151.548899 \nL 360.576361 151.490485 \nL 361.186308 151.216926 \nL 361.796255 150.729548 \nL 362.406202 150.887681 \nL 363.626097 151.629245 \nL 364.236044 151.144987 \nL 364.845991 151.088226 \nL 365.455938 151.45634 \nL 366.065885 151.399173 \nL 366.675832 150.919314 \nL 367.28578 151.0745 \nL 368.505674 150.962615 \nL 369.115621 151.326564 \nL 369.725568 151.479706 \nL 369.725568 151.479706 \n\" clip-path=\"url(#p29fe278b52)\" style=\"fill: none; stroke: #8c564b; stroke-width: 1.5; stroke-linecap: square\"/>\n   </g>\n   <g id=\"line2d_23\">\n    <path d=\"M 50.14375 157.760314 \nL 384.94375 157.760314 \n\" clip-path=\"url(#p29fe278b52)\" style=\"fill: none; stroke-dasharray: 5.55,2.4; stroke-dashoffset: 0; stroke: #000000; stroke-width: 1.5\"/>\n   </g>\n   <g id=\"patch_3\">\n    <path d=\"M 50.14375 256.68 \nL 50.14375 7.2 \n\" style=\"fill: none; stroke: #000000; stroke-width: 0.8; stroke-linejoin: miter; stroke-linecap: square\"/>\n   </g>\n   <g id=\"patch_4\">\n    <path d=\"M 384.94375 256.68 \nL 384.94375 7.2 \n\" style=\"fill: none; stroke: #000000; stroke-width: 0.8; stroke-linejoin: miter; stroke-linecap: square\"/>\n   </g>\n   <g id=\"patch_5\">\n    <path d=\"M 50.14375 256.68 \nL 384.94375 256.68 \n\" style=\"fill: none; stroke: #000000; stroke-width: 0.8; stroke-linejoin: miter; stroke-linecap: square\"/>\n   </g>\n   <g id=\"patch_6\">\n    <path d=\"M 50.14375 7.2 \nL 384.94375 7.2 \n\" style=\"fill: none; stroke: #000000; stroke-width: 0.8; stroke-linejoin: miter; stroke-linecap: square\"/>\n   </g>\n   <g id=\"legend_1\">\n    <g id=\"patch_7\">\n     <path d=\"M 302.089063 103.26875 \nL 377.94375 103.26875 \nQ 379.94375 103.26875 379.94375 101.26875 \nL 379.94375 14.2 \nQ 379.94375 12.2 377.94375 12.2 \nL 302.089063 12.2 \nQ 300.089063 12.2 300.089063 14.2 \nL 300.089063 101.26875 \nQ 300.089063 103.26875 302.089063 103.26875 \nz\n\" style=\"fill: #ffffff; opacity: 0.8; stroke: #cccccc; stroke-linejoin: miter\"/>\n    </g>\n    <g id=\"line2d_24\">\n     <path d=\"M 304.089063 20.298437 \nL 314.089063 20.298437 \nL 324.089063 20.298437 \n\" style=\"fill: none; stroke: #1f77b4; stroke-width: 1.5; stroke-linecap: square\"/>\n    </g>\n    <g id=\"text_14\">\n     <!-- P(die=1) -->\n     <g transform=\"translate(332.089063 23.798437) scale(0.1 -0.1)\">\n      <defs>\n       <path id=\"DejaVuSans-50\" d=\"M 1259 4147 \nL 1259 2394 \nL 2053 2394 \nQ 2494 2394 2734 2622 \nQ 2975 2850 2975 3272 \nQ 2975 3691 2734 3919 \nQ 2494 4147 2053 4147 \nL 1259 4147 \nz\nM 628 4666 \nL 2053 4666 \nQ 2838 4666 3239 4311 \nQ 3641 3956 3641 3272 \nQ 3641 2581 3239 2228 \nQ 2838 1875 2053 1875 \nL 1259 1875 \nL 1259 0 \nL 628 0 \nL 628 4666 \nz\n\" transform=\"scale(0.015625)\"/>\n       <path id=\"DejaVuSans-28\" d=\"M 1984 4856 \nQ 1566 4138 1362 3434 \nQ 1159 2731 1159 2009 \nQ 1159 1288 1364 580 \nQ 1569 -128 1984 -844 \nL 1484 -844 \nQ 1016 -109 783 600 \nQ 550 1309 550 2009 \nQ 550 2706 781 3412 \nQ 1013 4119 1484 4856 \nL 1984 4856 \nz\n\" transform=\"scale(0.015625)\"/>\n       <path id=\"DejaVuSans-3d\" d=\"M 678 2906 \nL 4684 2906 \nL 4684 2381 \nL 678 2381 \nL 678 2906 \nz\nM 678 1631 \nL 4684 1631 \nL 4684 1100 \nL 678 1100 \nL 678 1631 \nz\n\" transform=\"scale(0.015625)\"/>\n       <path id=\"DejaVuSans-29\" d=\"M 513 4856 \nL 1013 4856 \nQ 1481 4119 1714 3412 \nQ 1947 2706 1947 2009 \nQ 1947 1309 1714 600 \nQ 1481 -109 1013 -844 \nL 513 -844 \nQ 928 -128 1133 580 \nQ 1338 1288 1338 2009 \nQ 1338 2731 1133 3434 \nQ 928 4138 513 4856 \nz\n\" transform=\"scale(0.015625)\"/>\n      </defs>\n      <use xlink:href=\"#DejaVuSans-50\"/>\n      <use xlink:href=\"#DejaVuSans-28\" x=\"60.302734\"/>\n      <use xlink:href=\"#DejaVuSans-64\" x=\"99.316406\"/>\n      <use xlink:href=\"#DejaVuSans-69\" x=\"162.792969\"/>\n      <use xlink:href=\"#DejaVuSans-65\" x=\"190.576172\"/>\n      <use xlink:href=\"#DejaVuSans-3d\" x=\"252.099609\"/>\n      <use xlink:href=\"#DejaVuSans-31\" x=\"335.888672\"/>\n      <use xlink:href=\"#DejaVuSans-29\" x=\"399.511719\"/>\n     </g>\n    </g>\n    <g id=\"line2d_25\">\n     <path d=\"M 304.089063 34.976562 \nL 314.089063 34.976562 \nL 324.089063 34.976562 \n\" style=\"fill: none; stroke: #ff7f0e; stroke-width: 1.5; stroke-linecap: square\"/>\n    </g>\n    <g id=\"text_15\">\n     <!-- P(die=2) -->\n     <g transform=\"translate(332.089063 38.476562) scale(0.1 -0.1)\">\n      <use xlink:href=\"#DejaVuSans-50\"/>\n      <use xlink:href=\"#DejaVuSans-28\" x=\"60.302734\"/>\n      <use xlink:href=\"#DejaVuSans-64\" x=\"99.316406\"/>\n      <use xlink:href=\"#DejaVuSans-69\" x=\"162.792969\"/>\n      <use xlink:href=\"#DejaVuSans-65\" x=\"190.576172\"/>\n      <use xlink:href=\"#DejaVuSans-3d\" x=\"252.099609\"/>\n      <use xlink:href=\"#DejaVuSans-32\" x=\"335.888672\"/>\n      <use xlink:href=\"#DejaVuSans-29\" x=\"399.511719\"/>\n     </g>\n    </g>\n    <g id=\"line2d_26\">\n     <path d=\"M 304.089063 49.654687 \nL 314.089063 49.654687 \nL 324.089063 49.654687 \n\" style=\"fill: none; stroke: #2ca02c; stroke-width: 1.5; stroke-linecap: square\"/>\n    </g>\n    <g id=\"text_16\">\n     <!-- P(die=3) -->\n     <g transform=\"translate(332.089063 53.154687) scale(0.1 -0.1)\">\n      <use xlink:href=\"#DejaVuSans-50\"/>\n      <use xlink:href=\"#DejaVuSans-28\" x=\"60.302734\"/>\n      <use xlink:href=\"#DejaVuSans-64\" x=\"99.316406\"/>\n      <use xlink:href=\"#DejaVuSans-69\" x=\"162.792969\"/>\n      <use xlink:href=\"#DejaVuSans-65\" x=\"190.576172\"/>\n      <use xlink:href=\"#DejaVuSans-3d\" x=\"252.099609\"/>\n      <use xlink:href=\"#DejaVuSans-33\" x=\"335.888672\"/>\n      <use xlink:href=\"#DejaVuSans-29\" x=\"399.511719\"/>\n     </g>\n    </g>\n    <g id=\"line2d_27\">\n     <path d=\"M 304.089063 64.332812 \nL 314.089063 64.332812 \nL 324.089063 64.332812 \n\" style=\"fill: none; stroke: #d62728; stroke-width: 1.5; stroke-linecap: square\"/>\n    </g>\n    <g id=\"text_17\">\n     <!-- P(die=4) -->\n     <g transform=\"translate(332.089063 67.832812) scale(0.1 -0.1)\">\n      <use xlink:href=\"#DejaVuSans-50\"/>\n      <use xlink:href=\"#DejaVuSans-28\" x=\"60.302734\"/>\n      <use xlink:href=\"#DejaVuSans-64\" x=\"99.316406\"/>\n      <use xlink:href=\"#DejaVuSans-69\" x=\"162.792969\"/>\n      <use xlink:href=\"#DejaVuSans-65\" x=\"190.576172\"/>\n      <use xlink:href=\"#DejaVuSans-3d\" x=\"252.099609\"/>\n      <use xlink:href=\"#DejaVuSans-34\" x=\"335.888672\"/>\n      <use xlink:href=\"#DejaVuSans-29\" x=\"399.511719\"/>\n     </g>\n    </g>\n    <g id=\"line2d_28\">\n     <path d=\"M 304.089063 79.010937 \nL 314.089063 79.010937 \nL 324.089063 79.010937 \n\" style=\"fill: none; stroke: #9467bd; stroke-width: 1.5; stroke-linecap: square\"/>\n    </g>\n    <g id=\"text_18\">\n     <!-- P(die=5) -->\n     <g transform=\"translate(332.089063 82.510937) scale(0.1 -0.1)\">\n      <use xlink:href=\"#DejaVuSans-50\"/>\n      <use xlink:href=\"#DejaVuSans-28\" x=\"60.302734\"/>\n      <use xlink:href=\"#DejaVuSans-64\" x=\"99.316406\"/>\n      <use xlink:href=\"#DejaVuSans-69\" x=\"162.792969\"/>\n      <use xlink:href=\"#DejaVuSans-65\" x=\"190.576172\"/>\n      <use xlink:href=\"#DejaVuSans-3d\" x=\"252.099609\"/>\n      <use xlink:href=\"#DejaVuSans-35\" x=\"335.888672\"/>\n      <use xlink:href=\"#DejaVuSans-29\" x=\"399.511719\"/>\n     </g>\n    </g>\n    <g id=\"line2d_29\">\n     <path d=\"M 304.089063 93.689062 \nL 314.089063 93.689062 \nL 324.089063 93.689062 \n\" style=\"fill: none; stroke: #8c564b; stroke-width: 1.5; stroke-linecap: square\"/>\n    </g>\n    <g id=\"text_19\">\n     <!-- P(die=6) -->\n     <g transform=\"translate(332.089063 97.189062) scale(0.1 -0.1)\">\n      <defs>\n       <path id=\"DejaVuSans-36\" d=\"M 2113 2584 \nQ 1688 2584 1439 2293 \nQ 1191 2003 1191 1497 \nQ 1191 994 1439 701 \nQ 1688 409 2113 409 \nQ 2538 409 2786 701 \nQ 3034 994 3034 1497 \nQ 3034 2003 2786 2293 \nQ 2538 2584 2113 2584 \nz\nM 3366 4563 \nL 3366 3988 \nQ 3128 4100 2886 4159 \nQ 2644 4219 2406 4219 \nQ 1781 4219 1451 3797 \nQ 1122 3375 1075 2522 \nQ 1259 2794 1537 2939 \nQ 1816 3084 2150 3084 \nQ 2853 3084 3261 2657 \nQ 3669 2231 3669 1497 \nQ 3669 778 3244 343 \nQ 2819 -91 2113 -91 \nQ 1303 -91 875 529 \nQ 447 1150 447 2328 \nQ 447 3434 972 4092 \nQ 1497 4750 2381 4750 \nQ 2619 4750 2861 4703 \nQ 3103 4656 3366 4563 \nz\n\" transform=\"scale(0.015625)\"/>\n      </defs>\n      <use xlink:href=\"#DejaVuSans-50\"/>\n      <use xlink:href=\"#DejaVuSans-28\" x=\"60.302734\"/>\n      <use xlink:href=\"#DejaVuSans-64\" x=\"99.316406\"/>\n      <use xlink:href=\"#DejaVuSans-69\" x=\"162.792969\"/>\n      <use xlink:href=\"#DejaVuSans-65\" x=\"190.576172\"/>\n      <use xlink:href=\"#DejaVuSans-3d\" x=\"252.099609\"/>\n      <use xlink:href=\"#DejaVuSans-36\" x=\"335.888672\"/>\n      <use xlink:href=\"#DejaVuSans-29\" x=\"399.511719\"/>\n     </g>\n    </g>\n   </g>\n  </g>\n </g>\n <defs>\n  <clipPath id=\"p29fe278b52\">\n   <rect x=\"50.14375\" y=\"7.2\" width=\"334.8\" height=\"249.48\"/>\n  </clipPath>\n </defs>\n</svg>\n"
     },
     "metadata": {},
     "output_type": "display_data"
    }
   ],
   "execution_count": 52
  },
  {
   "metadata": {
    "ExecuteTime": {
     "end_time": "2025-02-15T21:11:12.331243Z",
     "start_time": "2025-02-15T21:11:12.328941Z"
    }
   },
   "cell_type": "code",
   "source": "1*0.0015/(0.0015 + 0.01*(1 - 0.0015))",
   "id": "263940f01490099d",
   "outputs": [
    {
     "data": {
      "text/plain": [
       "0.13060513713539398"
      ]
     },
     "execution_count": 53,
     "metadata": {},
     "output_type": "execute_result"
    }
   ],
   "execution_count": 53
  },
  {
   "metadata": {
    "ExecuteTime": {
     "end_time": "2025-02-15T22:14:53.603732Z",
     "start_time": "2025-02-15T22:14:53.362373Z"
    }
   },
   "cell_type": "code",
   "source": [
    "r'''\n",
    "- multinomial.Multinomial 是 PyTorch 中用于创建多项分布对象的类。多项分布是二项分布的推广，用于描述在多次独立试验中，每个可能结果出现的次数的概率分布。\n",
    "- 10 表示每次实验中进行的独立试验次数，在这里可以理解为每次掷 10 次骰子。\n",
    "- .sample((500,)) 表示从这个多项分布中进行 500 次采样，每次采样代表一组实验（每组实验掷 10 次骰子）。最终 counts 是一个形状为 (500, 6) 的张量，其中每一行表示一组实验中每个点数出现的次数。\n",
    "'''\n",
    "counts = multinomial.Multinomial(1000, fair_probs).sample((100,))\n",
    "'cumsum(dim=0) 是 PyTorch 张量的方法，用于沿着指定维度（这里是第 0 维，即行方向）计算累积和。cum_counts 是一个形状为 (500, 6) 的张量，其中第 i 行表示前 i+1 组实验中每个点数出现的累积次数。'\n",
    "cum_counts = counts.cumsum(dim=0)\n",
    "r'''\n",
    "- cum_counts.sum(dim=1, keepdims=True) 计算每一行的总和，并保持维度不变，得到一个形状为 (500, 1) 的张量，其中每个元素表示前 i+1 组实验中掷骰子的总次数。\n",
    "- 将 cum_counts 除以这个总和，就得到了每个点数在前 i+1 组实验中出现的频率，即估计概率。estimates 是一个形状为 (500, 6) 的张量，其中第 i 行表示前 i+1 组实验中每个点数出现的估计概率。\n",
    "'''\n",
    "estimates = cum_counts / cum_counts.sum(dim=1, keepdims=True)\n",
    "d2l.set_figsize((6, 4.5))\n",
    "for i in range(6):\n",
    "    d2l.plt.plot(estimates[:, i].numpy(),\n",
    "    label=(\"P(die=\" + str(i + 1) + \")\"))\n",
    "    d2l.plt.axhline(y=0.167, color='black', linestyle='dashed')\n",
    "    d2l.plt.gca().set_xlabel('Groups of experiments')\n",
    "    d2l.plt.gca().set_ylabel('Estimated probability')\n",
    "    d2l.plt.legend();\n",
    "    d2l.plt.savefig(\"test\")"
   ],
   "id": "abcdc97855f3912e",
   "outputs": [
    {
     "data": {
      "text/plain": [
       "<Figure size 600x450 with 1 Axes>"
      ],
      "image/svg+xml": "<?xml version=\"1.0\" encoding=\"utf-8\" standalone=\"no\"?>\n<!DOCTYPE svg PUBLIC \"-//W3C//DTD SVG 1.1//EN\"\n  \"http://www.w3.org/Graphics/SVG/1.1/DTD/svg11.dtd\">\n<svg xmlns:xlink=\"http://www.w3.org/1999/xlink\" width=\"398.50625pt\" height=\"294.23625pt\" viewBox=\"0 0 398.50625 294.23625\" xmlns=\"http://www.w3.org/2000/svg\" version=\"1.1\">\n <metadata>\n  <rdf:RDF xmlns:dc=\"http://purl.org/dc/elements/1.1/\" xmlns:cc=\"http://creativecommons.org/ns#\" xmlns:rdf=\"http://www.w3.org/1999/02/22-rdf-syntax-ns#\">\n   <cc:Work>\n    <dc:type rdf:resource=\"http://purl.org/dc/dcmitype/StillImage\"/>\n    <dc:date>2025-02-16T06:14:53.583258</dc:date>\n    <dc:format>image/svg+xml</dc:format>\n    <dc:creator>\n     <cc:Agent>\n      <dc:title>Matplotlib v3.7.2, https://matplotlib.org/</dc:title>\n     </cc:Agent>\n    </dc:creator>\n   </cc:Work>\n  </rdf:RDF>\n </metadata>\n <defs>\n  <style type=\"text/css\">*{stroke-linejoin: round; stroke-linecap: butt}</style>\n </defs>\n <g id=\"figure_1\">\n  <g id=\"patch_1\">\n   <path d=\"M 0 294.23625 \nL 398.50625 294.23625 \nL 398.50625 0 \nL 0 0 \nz\n\" style=\"fill: #ffffff\"/>\n  </g>\n  <g id=\"axes_1\">\n   <g id=\"patch_2\">\n    <path d=\"M 56.50625 256.68 \nL 391.30625 256.68 \nL 391.30625 7.2 \nL 56.50625 7.2 \nz\n\" style=\"fill: #ffffff\"/>\n   </g>\n   <g id=\"matplotlib.axis_1\">\n    <g id=\"xtick_1\">\n     <g id=\"line2d_1\">\n      <defs>\n       <path id=\"m26d011f91d\" d=\"M 0 0 \nL 0 3.5 \n\" style=\"stroke: #000000; stroke-width: 0.8\"/>\n      </defs>\n      <g>\n       <use xlink:href=\"#m26d011f91d\" x=\"71.724432\" y=\"256.68\" style=\"stroke: #000000; stroke-width: 0.8\"/>\n      </g>\n     </g>\n     <g id=\"text_1\">\n      <!-- 0 -->\n      <g transform=\"translate(68.543182 271.278437) scale(0.1 -0.1)\">\n       <defs>\n        <path id=\"DejaVuSans-30\" d=\"M 2034 4250 \nQ 1547 4250 1301 3770 \nQ 1056 3291 1056 2328 \nQ 1056 1369 1301 889 \nQ 1547 409 2034 409 \nQ 2525 409 2770 889 \nQ 3016 1369 3016 2328 \nQ 3016 3291 2770 3770 \nQ 2525 4250 2034 4250 \nz\nM 2034 4750 \nQ 2819 4750 3233 4129 \nQ 3647 3509 3647 2328 \nQ 3647 1150 3233 529 \nQ 2819 -91 2034 -91 \nQ 1250 -91 836 529 \nQ 422 1150 422 2328 \nQ 422 3509 836 4129 \nQ 1250 4750 2034 4750 \nz\n\" transform=\"scale(0.015625)\"/>\n       </defs>\n       <use xlink:href=\"#DejaVuSans-30\"/>\n      </g>\n     </g>\n    </g>\n    <g id=\"xtick_2\">\n     <g id=\"line2d_2\">\n      <g>\n       <use xlink:href=\"#m26d011f91d\" x=\"133.212035\" y=\"256.68\" style=\"stroke: #000000; stroke-width: 0.8\"/>\n      </g>\n     </g>\n     <g id=\"text_2\">\n      <!-- 20 -->\n      <g transform=\"translate(126.849535 271.278437) scale(0.1 -0.1)\">\n       <defs>\n        <path id=\"DejaVuSans-32\" d=\"M 1228 531 \nL 3431 531 \nL 3431 0 \nL 469 0 \nL 469 531 \nQ 828 903 1448 1529 \nQ 2069 2156 2228 2338 \nQ 2531 2678 2651 2914 \nQ 2772 3150 2772 3378 \nQ 2772 3750 2511 3984 \nQ 2250 4219 1831 4219 \nQ 1534 4219 1204 4116 \nQ 875 4013 500 3803 \nL 500 4441 \nQ 881 4594 1212 4672 \nQ 1544 4750 1819 4750 \nQ 2544 4750 2975 4387 \nQ 3406 4025 3406 3419 \nQ 3406 3131 3298 2873 \nQ 3191 2616 2906 2266 \nQ 2828 2175 2409 1742 \nQ 1991 1309 1228 531 \nz\n\" transform=\"scale(0.015625)\"/>\n       </defs>\n       <use xlink:href=\"#DejaVuSans-32\"/>\n       <use xlink:href=\"#DejaVuSans-30\" x=\"63.623047\"/>\n      </g>\n     </g>\n    </g>\n    <g id=\"xtick_3\">\n     <g id=\"line2d_3\">\n      <g>\n       <use xlink:href=\"#m26d011f91d\" x=\"194.699638\" y=\"256.68\" style=\"stroke: #000000; stroke-width: 0.8\"/>\n      </g>\n     </g>\n     <g id=\"text_3\">\n      <!-- 40 -->\n      <g transform=\"translate(188.337138 271.278437) scale(0.1 -0.1)\">\n       <defs>\n        <path id=\"DejaVuSans-34\" d=\"M 2419 4116 \nL 825 1625 \nL 2419 1625 \nL 2419 4116 \nz\nM 2253 4666 \nL 3047 4666 \nL 3047 1625 \nL 3713 1625 \nL 3713 1100 \nL 3047 1100 \nL 3047 0 \nL 2419 0 \nL 2419 1100 \nL 313 1100 \nL 313 1709 \nL 2253 4666 \nz\n\" transform=\"scale(0.015625)\"/>\n       </defs>\n       <use xlink:href=\"#DejaVuSans-34\"/>\n       <use xlink:href=\"#DejaVuSans-30\" x=\"63.623047\"/>\n      </g>\n     </g>\n    </g>\n    <g id=\"xtick_4\">\n     <g id=\"line2d_4\">\n      <g>\n       <use xlink:href=\"#m26d011f91d\" x=\"256.187242\" y=\"256.68\" style=\"stroke: #000000; stroke-width: 0.8\"/>\n      </g>\n     </g>\n     <g id=\"text_4\">\n      <!-- 60 -->\n      <g transform=\"translate(249.824742 271.278437) scale(0.1 -0.1)\">\n       <defs>\n        <path id=\"DejaVuSans-36\" d=\"M 2113 2584 \nQ 1688 2584 1439 2293 \nQ 1191 2003 1191 1497 \nQ 1191 994 1439 701 \nQ 1688 409 2113 409 \nQ 2538 409 2786 701 \nQ 3034 994 3034 1497 \nQ 3034 2003 2786 2293 \nQ 2538 2584 2113 2584 \nz\nM 3366 4563 \nL 3366 3988 \nQ 3128 4100 2886 4159 \nQ 2644 4219 2406 4219 \nQ 1781 4219 1451 3797 \nQ 1122 3375 1075 2522 \nQ 1259 2794 1537 2939 \nQ 1816 3084 2150 3084 \nQ 2853 3084 3261 2657 \nQ 3669 2231 3669 1497 \nQ 3669 778 3244 343 \nQ 2819 -91 2113 -91 \nQ 1303 -91 875 529 \nQ 447 1150 447 2328 \nQ 447 3434 972 4092 \nQ 1497 4750 2381 4750 \nQ 2619 4750 2861 4703 \nQ 3103 4656 3366 4563 \nz\n\" transform=\"scale(0.015625)\"/>\n       </defs>\n       <use xlink:href=\"#DejaVuSans-36\"/>\n       <use xlink:href=\"#DejaVuSans-30\" x=\"63.623047\"/>\n      </g>\n     </g>\n    </g>\n    <g id=\"xtick_5\">\n     <g id=\"line2d_5\">\n      <g>\n       <use xlink:href=\"#m26d011f91d\" x=\"317.674845\" y=\"256.68\" style=\"stroke: #000000; stroke-width: 0.8\"/>\n      </g>\n     </g>\n     <g id=\"text_5\">\n      <!-- 80 -->\n      <g transform=\"translate(311.312345 271.278437) scale(0.1 -0.1)\">\n       <defs>\n        <path id=\"DejaVuSans-38\" d=\"M 2034 2216 \nQ 1584 2216 1326 1975 \nQ 1069 1734 1069 1313 \nQ 1069 891 1326 650 \nQ 1584 409 2034 409 \nQ 2484 409 2743 651 \nQ 3003 894 3003 1313 \nQ 3003 1734 2745 1975 \nQ 2488 2216 2034 2216 \nz\nM 1403 2484 \nQ 997 2584 770 2862 \nQ 544 3141 544 3541 \nQ 544 4100 942 4425 \nQ 1341 4750 2034 4750 \nQ 2731 4750 3128 4425 \nQ 3525 4100 3525 3541 \nQ 3525 3141 3298 2862 \nQ 3072 2584 2669 2484 \nQ 3125 2378 3379 2068 \nQ 3634 1759 3634 1313 \nQ 3634 634 3220 271 \nQ 2806 -91 2034 -91 \nQ 1263 -91 848 271 \nQ 434 634 434 1313 \nQ 434 1759 690 2068 \nQ 947 2378 1403 2484 \nz\nM 1172 3481 \nQ 1172 3119 1398 2916 \nQ 1625 2713 2034 2713 \nQ 2441 2713 2670 2916 \nQ 2900 3119 2900 3481 \nQ 2900 3844 2670 4047 \nQ 2441 4250 2034 4250 \nQ 1625 4250 1398 4047 \nQ 1172 3844 1172 3481 \nz\n\" transform=\"scale(0.015625)\"/>\n       </defs>\n       <use xlink:href=\"#DejaVuSans-38\"/>\n       <use xlink:href=\"#DejaVuSans-30\" x=\"63.623047\"/>\n      </g>\n     </g>\n    </g>\n    <g id=\"xtick_6\">\n     <g id=\"line2d_6\">\n      <g>\n       <use xlink:href=\"#m26d011f91d\" x=\"379.162448\" y=\"256.68\" style=\"stroke: #000000; stroke-width: 0.8\"/>\n      </g>\n     </g>\n     <g id=\"text_6\">\n      <!-- 100 -->\n      <g transform=\"translate(369.618698 271.278437) scale(0.1 -0.1)\">\n       <defs>\n        <path id=\"DejaVuSans-31\" d=\"M 794 531 \nL 1825 531 \nL 1825 4091 \nL 703 3866 \nL 703 4441 \nL 1819 4666 \nL 2450 4666 \nL 2450 531 \nL 3481 531 \nL 3481 0 \nL 794 0 \nL 794 531 \nz\n\" transform=\"scale(0.015625)\"/>\n       </defs>\n       <use xlink:href=\"#DejaVuSans-31\"/>\n       <use xlink:href=\"#DejaVuSans-30\" x=\"63.623047\"/>\n       <use xlink:href=\"#DejaVuSans-30\" x=\"127.246094\"/>\n      </g>\n     </g>\n    </g>\n    <g id=\"text_7\">\n     <!-- Groups of experiments -->\n     <g transform=\"translate(166.760156 284.956562) scale(0.1 -0.1)\">\n      <defs>\n       <path id=\"DejaVuSans-47\" d=\"M 3809 666 \nL 3809 1919 \nL 2778 1919 \nL 2778 2438 \nL 4434 2438 \nL 4434 434 \nQ 4069 175 3628 42 \nQ 3188 -91 2688 -91 \nQ 1594 -91 976 548 \nQ 359 1188 359 2328 \nQ 359 3472 976 4111 \nQ 1594 4750 2688 4750 \nQ 3144 4750 3555 4637 \nQ 3966 4525 4313 4306 \nL 4313 3634 \nQ 3963 3931 3569 4081 \nQ 3175 4231 2741 4231 \nQ 1884 4231 1454 3753 \nQ 1025 3275 1025 2328 \nQ 1025 1384 1454 906 \nQ 1884 428 2741 428 \nQ 3075 428 3337 486 \nQ 3600 544 3809 666 \nz\n\" transform=\"scale(0.015625)\"/>\n       <path id=\"DejaVuSans-72\" d=\"M 2631 2963 \nQ 2534 3019 2420 3045 \nQ 2306 3072 2169 3072 \nQ 1681 3072 1420 2755 \nQ 1159 2438 1159 1844 \nL 1159 0 \nL 581 0 \nL 581 3500 \nL 1159 3500 \nL 1159 2956 \nQ 1341 3275 1631 3429 \nQ 1922 3584 2338 3584 \nQ 2397 3584 2469 3576 \nQ 2541 3569 2628 3553 \nL 2631 2963 \nz\n\" transform=\"scale(0.015625)\"/>\n       <path id=\"DejaVuSans-6f\" d=\"M 1959 3097 \nQ 1497 3097 1228 2736 \nQ 959 2375 959 1747 \nQ 959 1119 1226 758 \nQ 1494 397 1959 397 \nQ 2419 397 2687 759 \nQ 2956 1122 2956 1747 \nQ 2956 2369 2687 2733 \nQ 2419 3097 1959 3097 \nz\nM 1959 3584 \nQ 2709 3584 3137 3096 \nQ 3566 2609 3566 1747 \nQ 3566 888 3137 398 \nQ 2709 -91 1959 -91 \nQ 1206 -91 779 398 \nQ 353 888 353 1747 \nQ 353 2609 779 3096 \nQ 1206 3584 1959 3584 \nz\n\" transform=\"scale(0.015625)\"/>\n       <path id=\"DejaVuSans-75\" d=\"M 544 1381 \nL 544 3500 \nL 1119 3500 \nL 1119 1403 \nQ 1119 906 1312 657 \nQ 1506 409 1894 409 \nQ 2359 409 2629 706 \nQ 2900 1003 2900 1516 \nL 2900 3500 \nL 3475 3500 \nL 3475 0 \nL 2900 0 \nL 2900 538 \nQ 2691 219 2414 64 \nQ 2138 -91 1772 -91 \nQ 1169 -91 856 284 \nQ 544 659 544 1381 \nz\nM 1991 3584 \nL 1991 3584 \nz\n\" transform=\"scale(0.015625)\"/>\n       <path id=\"DejaVuSans-70\" d=\"M 1159 525 \nL 1159 -1331 \nL 581 -1331 \nL 581 3500 \nL 1159 3500 \nL 1159 2969 \nQ 1341 3281 1617 3432 \nQ 1894 3584 2278 3584 \nQ 2916 3584 3314 3078 \nQ 3713 2572 3713 1747 \nQ 3713 922 3314 415 \nQ 2916 -91 2278 -91 \nQ 1894 -91 1617 61 \nQ 1341 213 1159 525 \nz\nM 3116 1747 \nQ 3116 2381 2855 2742 \nQ 2594 3103 2138 3103 \nQ 1681 3103 1420 2742 \nQ 1159 2381 1159 1747 \nQ 1159 1113 1420 752 \nQ 1681 391 2138 391 \nQ 2594 391 2855 752 \nQ 3116 1113 3116 1747 \nz\n\" transform=\"scale(0.015625)\"/>\n       <path id=\"DejaVuSans-73\" d=\"M 2834 3397 \nL 2834 2853 \nQ 2591 2978 2328 3040 \nQ 2066 3103 1784 3103 \nQ 1356 3103 1142 2972 \nQ 928 2841 928 2578 \nQ 928 2378 1081 2264 \nQ 1234 2150 1697 2047 \nL 1894 2003 \nQ 2506 1872 2764 1633 \nQ 3022 1394 3022 966 \nQ 3022 478 2636 193 \nQ 2250 -91 1575 -91 \nQ 1294 -91 989 -36 \nQ 684 19 347 128 \nL 347 722 \nQ 666 556 975 473 \nQ 1284 391 1588 391 \nQ 1994 391 2212 530 \nQ 2431 669 2431 922 \nQ 2431 1156 2273 1281 \nQ 2116 1406 1581 1522 \nL 1381 1569 \nQ 847 1681 609 1914 \nQ 372 2147 372 2553 \nQ 372 3047 722 3315 \nQ 1072 3584 1716 3584 \nQ 2034 3584 2315 3537 \nQ 2597 3491 2834 3397 \nz\n\" transform=\"scale(0.015625)\"/>\n       <path id=\"DejaVuSans-20\" transform=\"scale(0.015625)\"/>\n       <path id=\"DejaVuSans-66\" d=\"M 2375 4863 \nL 2375 4384 \nL 1825 4384 \nQ 1516 4384 1395 4259 \nQ 1275 4134 1275 3809 \nL 1275 3500 \nL 2222 3500 \nL 2222 3053 \nL 1275 3053 \nL 1275 0 \nL 697 0 \nL 697 3053 \nL 147 3053 \nL 147 3500 \nL 697 3500 \nL 697 3744 \nQ 697 4328 969 4595 \nQ 1241 4863 1831 4863 \nL 2375 4863 \nz\n\" transform=\"scale(0.015625)\"/>\n       <path id=\"DejaVuSans-65\" d=\"M 3597 1894 \nL 3597 1613 \nL 953 1613 \nQ 991 1019 1311 708 \nQ 1631 397 2203 397 \nQ 2534 397 2845 478 \nQ 3156 559 3463 722 \nL 3463 178 \nQ 3153 47 2828 -22 \nQ 2503 -91 2169 -91 \nQ 1331 -91 842 396 \nQ 353 884 353 1716 \nQ 353 2575 817 3079 \nQ 1281 3584 2069 3584 \nQ 2775 3584 3186 3129 \nQ 3597 2675 3597 1894 \nz\nM 3022 2063 \nQ 3016 2534 2758 2815 \nQ 2500 3097 2075 3097 \nQ 1594 3097 1305 2825 \nQ 1016 2553 972 2059 \nL 3022 2063 \nz\n\" transform=\"scale(0.015625)\"/>\n       <path id=\"DejaVuSans-78\" d=\"M 3513 3500 \nL 2247 1797 \nL 3578 0 \nL 2900 0 \nL 1881 1375 \nL 863 0 \nL 184 0 \nL 1544 1831 \nL 300 3500 \nL 978 3500 \nL 1906 2253 \nL 2834 3500 \nL 3513 3500 \nz\n\" transform=\"scale(0.015625)\"/>\n       <path id=\"DejaVuSans-69\" d=\"M 603 3500 \nL 1178 3500 \nL 1178 0 \nL 603 0 \nL 603 3500 \nz\nM 603 4863 \nL 1178 4863 \nL 1178 4134 \nL 603 4134 \nL 603 4863 \nz\n\" transform=\"scale(0.015625)\"/>\n       <path id=\"DejaVuSans-6d\" d=\"M 3328 2828 \nQ 3544 3216 3844 3400 \nQ 4144 3584 4550 3584 \nQ 5097 3584 5394 3201 \nQ 5691 2819 5691 2113 \nL 5691 0 \nL 5113 0 \nL 5113 2094 \nQ 5113 2597 4934 2840 \nQ 4756 3084 4391 3084 \nQ 3944 3084 3684 2787 \nQ 3425 2491 3425 1978 \nL 3425 0 \nL 2847 0 \nL 2847 2094 \nQ 2847 2600 2669 2842 \nQ 2491 3084 2119 3084 \nQ 1678 3084 1418 2786 \nQ 1159 2488 1159 1978 \nL 1159 0 \nL 581 0 \nL 581 3500 \nL 1159 3500 \nL 1159 2956 \nQ 1356 3278 1631 3431 \nQ 1906 3584 2284 3584 \nQ 2666 3584 2933 3390 \nQ 3200 3197 3328 2828 \nz\n\" transform=\"scale(0.015625)\"/>\n       <path id=\"DejaVuSans-6e\" d=\"M 3513 2113 \nL 3513 0 \nL 2938 0 \nL 2938 2094 \nQ 2938 2591 2744 2837 \nQ 2550 3084 2163 3084 \nQ 1697 3084 1428 2787 \nQ 1159 2491 1159 1978 \nL 1159 0 \nL 581 0 \nL 581 3500 \nL 1159 3500 \nL 1159 2956 \nQ 1366 3272 1645 3428 \nQ 1925 3584 2291 3584 \nQ 2894 3584 3203 3211 \nQ 3513 2838 3513 2113 \nz\n\" transform=\"scale(0.015625)\"/>\n       <path id=\"DejaVuSans-74\" d=\"M 1172 4494 \nL 1172 3500 \nL 2356 3500 \nL 2356 3053 \nL 1172 3053 \nL 1172 1153 \nQ 1172 725 1289 603 \nQ 1406 481 1766 481 \nL 2356 481 \nL 2356 0 \nL 1766 0 \nQ 1100 0 847 248 \nQ 594 497 594 1153 \nL 594 3053 \nL 172 3053 \nL 172 3500 \nL 594 3500 \nL 594 4494 \nL 1172 4494 \nz\n\" transform=\"scale(0.015625)\"/>\n      </defs>\n      <use xlink:href=\"#DejaVuSans-47\"/>\n      <use xlink:href=\"#DejaVuSans-72\" x=\"77.490234\"/>\n      <use xlink:href=\"#DejaVuSans-6f\" x=\"116.353516\"/>\n      <use xlink:href=\"#DejaVuSans-75\" x=\"177.535156\"/>\n      <use xlink:href=\"#DejaVuSans-70\" x=\"240.914062\"/>\n      <use xlink:href=\"#DejaVuSans-73\" x=\"304.390625\"/>\n      <use xlink:href=\"#DejaVuSans-20\" x=\"356.490234\"/>\n      <use xlink:href=\"#DejaVuSans-6f\" x=\"388.277344\"/>\n      <use xlink:href=\"#DejaVuSans-66\" x=\"449.458984\"/>\n      <use xlink:href=\"#DejaVuSans-20\" x=\"484.664062\"/>\n      <use xlink:href=\"#DejaVuSans-65\" x=\"516.451172\"/>\n      <use xlink:href=\"#DejaVuSans-78\" x=\"576.224609\"/>\n      <use xlink:href=\"#DejaVuSans-70\" x=\"635.404297\"/>\n      <use xlink:href=\"#DejaVuSans-65\" x=\"698.880859\"/>\n      <use xlink:href=\"#DejaVuSans-72\" x=\"760.404297\"/>\n      <use xlink:href=\"#DejaVuSans-69\" x=\"801.517578\"/>\n      <use xlink:href=\"#DejaVuSans-6d\" x=\"829.300781\"/>\n      <use xlink:href=\"#DejaVuSans-65\" x=\"926.712891\"/>\n      <use xlink:href=\"#DejaVuSans-6e\" x=\"988.236328\"/>\n      <use xlink:href=\"#DejaVuSans-74\" x=\"1051.615234\"/>\n      <use xlink:href=\"#DejaVuSans-73\" x=\"1090.824219\"/>\n     </g>\n    </g>\n   </g>\n   <g id=\"matplotlib.axis_2\">\n    <g id=\"ytick_1\">\n     <g id=\"line2d_7\">\n      <defs>\n       <path id=\"m764aa0475c\" d=\"M 0 0 \nL -3.5 0 \n\" style=\"stroke: #000000; stroke-width: 0.8\"/>\n      </defs>\n      <g>\n       <use xlink:href=\"#m764aa0475c\" x=\"56.50625\" y=\"227.434766\" style=\"stroke: #000000; stroke-width: 0.8\"/>\n      </g>\n     </g>\n     <g id=\"text_8\">\n      <!-- 0.145 -->\n      <g transform=\"translate(20.878125 231.233985) scale(0.1 -0.1)\">\n       <defs>\n        <path id=\"DejaVuSans-2e\" d=\"M 684 794 \nL 1344 794 \nL 1344 0 \nL 684 0 \nL 684 794 \nz\n\" transform=\"scale(0.015625)\"/>\n        <path id=\"DejaVuSans-35\" d=\"M 691 4666 \nL 3169 4666 \nL 3169 4134 \nL 1269 4134 \nL 1269 2991 \nQ 1406 3038 1543 3061 \nQ 1681 3084 1819 3084 \nQ 2600 3084 3056 2656 \nQ 3513 2228 3513 1497 \nQ 3513 744 3044 326 \nQ 2575 -91 1722 -91 \nQ 1428 -91 1123 -41 \nQ 819 9 494 109 \nL 494 744 \nQ 775 591 1075 516 \nQ 1375 441 1709 441 \nQ 2250 441 2565 725 \nQ 2881 1009 2881 1497 \nQ 2881 1984 2565 2268 \nQ 2250 2553 1709 2553 \nQ 1456 2553 1204 2497 \nQ 953 2441 691 2322 \nL 691 4666 \nz\n\" transform=\"scale(0.015625)\"/>\n       </defs>\n       <use xlink:href=\"#DejaVuSans-30\"/>\n       <use xlink:href=\"#DejaVuSans-2e\" x=\"63.623047\"/>\n       <use xlink:href=\"#DejaVuSans-31\" x=\"95.410156\"/>\n       <use xlink:href=\"#DejaVuSans-34\" x=\"159.033203\"/>\n       <use xlink:href=\"#DejaVuSans-35\" x=\"222.65625\"/>\n      </g>\n     </g>\n    </g>\n    <g id=\"ytick_2\">\n     <g id=\"line2d_8\">\n      <g>\n       <use xlink:href=\"#m764aa0475c\" x=\"56.50625\" y=\"197.592662\" style=\"stroke: #000000; stroke-width: 0.8\"/>\n      </g>\n     </g>\n     <g id=\"text_9\">\n      <!-- 0.150 -->\n      <g transform=\"translate(20.878125 201.391881) scale(0.1 -0.1)\">\n       <use xlink:href=\"#DejaVuSans-30\"/>\n       <use xlink:href=\"#DejaVuSans-2e\" x=\"63.623047\"/>\n       <use xlink:href=\"#DejaVuSans-31\" x=\"95.410156\"/>\n       <use xlink:href=\"#DejaVuSans-35\" x=\"159.033203\"/>\n       <use xlink:href=\"#DejaVuSans-30\" x=\"222.65625\"/>\n      </g>\n     </g>\n    </g>\n    <g id=\"ytick_3\">\n     <g id=\"line2d_9\">\n      <g>\n       <use xlink:href=\"#m764aa0475c\" x=\"56.50625\" y=\"167.750559\" style=\"stroke: #000000; stroke-width: 0.8\"/>\n      </g>\n     </g>\n     <g id=\"text_10\">\n      <!-- 0.155 -->\n      <g transform=\"translate(20.878125 171.549778) scale(0.1 -0.1)\">\n       <use xlink:href=\"#DejaVuSans-30\"/>\n       <use xlink:href=\"#DejaVuSans-2e\" x=\"63.623047\"/>\n       <use xlink:href=\"#DejaVuSans-31\" x=\"95.410156\"/>\n       <use xlink:href=\"#DejaVuSans-35\" x=\"159.033203\"/>\n       <use xlink:href=\"#DejaVuSans-35\" x=\"222.65625\"/>\n      </g>\n     </g>\n    </g>\n    <g id=\"ytick_4\">\n     <g id=\"line2d_10\">\n      <g>\n       <use xlink:href=\"#m764aa0475c\" x=\"56.50625\" y=\"137.908456\" style=\"stroke: #000000; stroke-width: 0.8\"/>\n      </g>\n     </g>\n     <g id=\"text_11\">\n      <!-- 0.160 -->\n      <g transform=\"translate(20.878125 141.707675) scale(0.1 -0.1)\">\n       <use xlink:href=\"#DejaVuSans-30\"/>\n       <use xlink:href=\"#DejaVuSans-2e\" x=\"63.623047\"/>\n       <use xlink:href=\"#DejaVuSans-31\" x=\"95.410156\"/>\n       <use xlink:href=\"#DejaVuSans-36\" x=\"159.033203\"/>\n       <use xlink:href=\"#DejaVuSans-30\" x=\"222.65625\"/>\n      </g>\n     </g>\n    </g>\n    <g id=\"ytick_5\">\n     <g id=\"line2d_11\">\n      <g>\n       <use xlink:href=\"#m764aa0475c\" x=\"56.50625\" y=\"108.066353\" style=\"stroke: #000000; stroke-width: 0.8\"/>\n      </g>\n     </g>\n     <g id=\"text_12\">\n      <!-- 0.165 -->\n      <g transform=\"translate(20.878125 111.865571) scale(0.1 -0.1)\">\n       <use xlink:href=\"#DejaVuSans-30\"/>\n       <use xlink:href=\"#DejaVuSans-2e\" x=\"63.623047\"/>\n       <use xlink:href=\"#DejaVuSans-31\" x=\"95.410156\"/>\n       <use xlink:href=\"#DejaVuSans-36\" x=\"159.033203\"/>\n       <use xlink:href=\"#DejaVuSans-35\" x=\"222.65625\"/>\n      </g>\n     </g>\n    </g>\n    <g id=\"ytick_6\">\n     <g id=\"line2d_12\">\n      <g>\n       <use xlink:href=\"#m764aa0475c\" x=\"56.50625\" y=\"78.224249\" style=\"stroke: #000000; stroke-width: 0.8\"/>\n      </g>\n     </g>\n     <g id=\"text_13\">\n      <!-- 0.170 -->\n      <g transform=\"translate(20.878125 82.023468) scale(0.1 -0.1)\">\n       <defs>\n        <path id=\"DejaVuSans-37\" d=\"M 525 4666 \nL 3525 4666 \nL 3525 4397 \nL 1831 0 \nL 1172 0 \nL 2766 4134 \nL 525 4134 \nL 525 4666 \nz\n\" transform=\"scale(0.015625)\"/>\n       </defs>\n       <use xlink:href=\"#DejaVuSans-30\"/>\n       <use xlink:href=\"#DejaVuSans-2e\" x=\"63.623047\"/>\n       <use xlink:href=\"#DejaVuSans-31\" x=\"95.410156\"/>\n       <use xlink:href=\"#DejaVuSans-37\" x=\"159.033203\"/>\n       <use xlink:href=\"#DejaVuSans-30\" x=\"222.65625\"/>\n      </g>\n     </g>\n    </g>\n    <g id=\"ytick_7\">\n     <g id=\"line2d_13\">\n      <g>\n       <use xlink:href=\"#m764aa0475c\" x=\"56.50625\" y=\"48.382146\" style=\"stroke: #000000; stroke-width: 0.8\"/>\n      </g>\n     </g>\n     <g id=\"text_14\">\n      <!-- 0.175 -->\n      <g transform=\"translate(20.878125 52.181365) scale(0.1 -0.1)\">\n       <use xlink:href=\"#DejaVuSans-30\"/>\n       <use xlink:href=\"#DejaVuSans-2e\" x=\"63.623047\"/>\n       <use xlink:href=\"#DejaVuSans-31\" x=\"95.410156\"/>\n       <use xlink:href=\"#DejaVuSans-37\" x=\"159.033203\"/>\n       <use xlink:href=\"#DejaVuSans-35\" x=\"222.65625\"/>\n      </g>\n     </g>\n    </g>\n    <g id=\"ytick_8\">\n     <g id=\"line2d_14\">\n      <g>\n       <use xlink:href=\"#m764aa0475c\" x=\"56.50625\" y=\"18.540043\" style=\"stroke: #000000; stroke-width: 0.8\"/>\n      </g>\n     </g>\n     <g id=\"text_15\">\n      <!-- 0.180 -->\n      <g transform=\"translate(20.878125 22.339261) scale(0.1 -0.1)\">\n       <use xlink:href=\"#DejaVuSans-30\"/>\n       <use xlink:href=\"#DejaVuSans-2e\" x=\"63.623047\"/>\n       <use xlink:href=\"#DejaVuSans-31\" x=\"95.410156\"/>\n       <use xlink:href=\"#DejaVuSans-38\" x=\"159.033203\"/>\n       <use xlink:href=\"#DejaVuSans-30\" x=\"222.65625\"/>\n      </g>\n     </g>\n    </g>\n    <g id=\"text_16\">\n     <!-- Estimated probability -->\n     <g transform=\"translate(14.798438 185.463437) rotate(-90) scale(0.1 -0.1)\">\n      <defs>\n       <path id=\"DejaVuSans-45\" d=\"M 628 4666 \nL 3578 4666 \nL 3578 4134 \nL 1259 4134 \nL 1259 2753 \nL 3481 2753 \nL 3481 2222 \nL 1259 2222 \nL 1259 531 \nL 3634 531 \nL 3634 0 \nL 628 0 \nL 628 4666 \nz\n\" transform=\"scale(0.015625)\"/>\n       <path id=\"DejaVuSans-61\" d=\"M 2194 1759 \nQ 1497 1759 1228 1600 \nQ 959 1441 959 1056 \nQ 959 750 1161 570 \nQ 1363 391 1709 391 \nQ 2188 391 2477 730 \nQ 2766 1069 2766 1631 \nL 2766 1759 \nL 2194 1759 \nz\nM 3341 1997 \nL 3341 0 \nL 2766 0 \nL 2766 531 \nQ 2569 213 2275 61 \nQ 1981 -91 1556 -91 \nQ 1019 -91 701 211 \nQ 384 513 384 1019 \nQ 384 1609 779 1909 \nQ 1175 2209 1959 2209 \nL 2766 2209 \nL 2766 2266 \nQ 2766 2663 2505 2880 \nQ 2244 3097 1772 3097 \nQ 1472 3097 1187 3025 \nQ 903 2953 641 2809 \nL 641 3341 \nQ 956 3463 1253 3523 \nQ 1550 3584 1831 3584 \nQ 2591 3584 2966 3190 \nQ 3341 2797 3341 1997 \nz\n\" transform=\"scale(0.015625)\"/>\n       <path id=\"DejaVuSans-64\" d=\"M 2906 2969 \nL 2906 4863 \nL 3481 4863 \nL 3481 0 \nL 2906 0 \nL 2906 525 \nQ 2725 213 2448 61 \nQ 2172 -91 1784 -91 \nQ 1150 -91 751 415 \nQ 353 922 353 1747 \nQ 353 2572 751 3078 \nQ 1150 3584 1784 3584 \nQ 2172 3584 2448 3432 \nQ 2725 3281 2906 2969 \nz\nM 947 1747 \nQ 947 1113 1208 752 \nQ 1469 391 1925 391 \nQ 2381 391 2643 752 \nQ 2906 1113 2906 1747 \nQ 2906 2381 2643 2742 \nQ 2381 3103 1925 3103 \nQ 1469 3103 1208 2742 \nQ 947 2381 947 1747 \nz\n\" transform=\"scale(0.015625)\"/>\n       <path id=\"DejaVuSans-62\" d=\"M 3116 1747 \nQ 3116 2381 2855 2742 \nQ 2594 3103 2138 3103 \nQ 1681 3103 1420 2742 \nQ 1159 2381 1159 1747 \nQ 1159 1113 1420 752 \nQ 1681 391 2138 391 \nQ 2594 391 2855 752 \nQ 3116 1113 3116 1747 \nz\nM 1159 2969 \nQ 1341 3281 1617 3432 \nQ 1894 3584 2278 3584 \nQ 2916 3584 3314 3078 \nQ 3713 2572 3713 1747 \nQ 3713 922 3314 415 \nQ 2916 -91 2278 -91 \nQ 1894 -91 1617 61 \nQ 1341 213 1159 525 \nL 1159 0 \nL 581 0 \nL 581 4863 \nL 1159 4863 \nL 1159 2969 \nz\n\" transform=\"scale(0.015625)\"/>\n       <path id=\"DejaVuSans-6c\" d=\"M 603 4863 \nL 1178 4863 \nL 1178 0 \nL 603 0 \nL 603 4863 \nz\n\" transform=\"scale(0.015625)\"/>\n       <path id=\"DejaVuSans-79\" d=\"M 2059 -325 \nQ 1816 -950 1584 -1140 \nQ 1353 -1331 966 -1331 \nL 506 -1331 \nL 506 -850 \nL 844 -850 \nQ 1081 -850 1212 -737 \nQ 1344 -625 1503 -206 \nL 1606 56 \nL 191 3500 \nL 800 3500 \nL 1894 763 \nL 2988 3500 \nL 3597 3500 \nL 2059 -325 \nz\n\" transform=\"scale(0.015625)\"/>\n      </defs>\n      <use xlink:href=\"#DejaVuSans-45\"/>\n      <use xlink:href=\"#DejaVuSans-73\" x=\"63.183594\"/>\n      <use xlink:href=\"#DejaVuSans-74\" x=\"115.283203\"/>\n      <use xlink:href=\"#DejaVuSans-69\" x=\"154.492188\"/>\n      <use xlink:href=\"#DejaVuSans-6d\" x=\"182.275391\"/>\n      <use xlink:href=\"#DejaVuSans-61\" x=\"279.6875\"/>\n      <use xlink:href=\"#DejaVuSans-74\" x=\"340.966797\"/>\n      <use xlink:href=\"#DejaVuSans-65\" x=\"380.175781\"/>\n      <use xlink:href=\"#DejaVuSans-64\" x=\"441.699219\"/>\n      <use xlink:href=\"#DejaVuSans-20\" x=\"505.175781\"/>\n      <use xlink:href=\"#DejaVuSans-70\" x=\"536.962891\"/>\n      <use xlink:href=\"#DejaVuSans-72\" x=\"600.439453\"/>\n      <use xlink:href=\"#DejaVuSans-6f\" x=\"639.302734\"/>\n      <use xlink:href=\"#DejaVuSans-62\" x=\"700.484375\"/>\n      <use xlink:href=\"#DejaVuSans-61\" x=\"763.960938\"/>\n      <use xlink:href=\"#DejaVuSans-62\" x=\"825.240234\"/>\n      <use xlink:href=\"#DejaVuSans-69\" x=\"888.716797\"/>\n      <use xlink:href=\"#DejaVuSans-6c\" x=\"916.5\"/>\n      <use xlink:href=\"#DejaVuSans-69\" x=\"944.283203\"/>\n      <use xlink:href=\"#DejaVuSans-74\" x=\"972.066406\"/>\n      <use xlink:href=\"#DejaVuSans-79\" x=\"1011.275391\"/>\n     </g>\n    </g>\n   </g>\n   <g id=\"line2d_15\">\n    <path d=\"M 71.724432 18.54 \nL 74.798812 45.397903 \nL 77.873192 66.287373 \nL 80.947572 91.65319 \nL 84.021952 90.161104 \nL 87.096333 94.14003 \nL 90.170713 89.308471 \nL 93.245093 96.129537 \nL 96.319473 82.866363 \nL 99.393853 88.9674 \nL 102.468233 86.362986 \nL 105.542614 91.65319 \nL 108.616994 88.783746 \nL 111.691374 93.571637 \nL 114.765754 99.31266 \nL 117.840134 100.605795 \nL 120.914514 94.37411 \nL 123.988895 91.818968 \nL 127.063275 92.674091 \nL 130.137655 91.354808 \nL 133.212035 91.297889 \nL 136.286415 90.703705 \nL 139.360795 90.939564 \nL 142.435176 92.647944 \nL 145.509556 91.832219 \nL 148.583936 90.620194 \nL 151.658316 92.813721 \nL 154.732696 90.161104 \nL 157.807076 94.07146 \nL 160.881457 94.33898 \nL 163.955837 92.8565 \nL 167.030217 94.637362 \nL 170.104597 96.310345 \nL 173.178977 94.19855 \nL 176.253357 93.401057 \nL 179.327738 93.642697 \nL 182.402118 92.096805 \nL 185.476498 94.873043 \nL 188.550878 93.22185 \nL 191.625258 91.951661 \nL 194.699638 92.781348 \nL 197.774019 93.855789 \nL 200.848399 94.325106 \nL 203.922779 94.773079 \nL 206.997159 93.079018 \nL 210.071539 92.237058 \nL 213.145919 90.796021 \nL 216.2203 91.155858 \nL 219.29468 90.770141 \nL 222.36906 92.548424 \nL 225.44344 91.79949 \nL 228.51782 91.423645 \nL 231.5922 92.300736 \nL 234.666581 93.587379 \nL 237.740961 93.308119 \nL 240.815341 96.129537 \nL 243.889721 98.433079 \nL 246.964101 98.805011 \nL 250.038481 99.063104 \nL 253.112862 100.307413 \nL 256.187242 99.945353 \nL 259.261622 100.461451 \nL 262.336002 102.003163 \nL 265.410382 102.843968 \nL 268.484762 101.822445 \nL 271.559143 98.842453 \nL 274.633523 97.376603 \nL 277.707903 99.377049 \nL 280.782283 99.330002 \nL 283.856663 99.36949 \nL 286.931043 98.231104 \nL 290.005424 99.03082 \nL 293.079804 98.8276 \nL 296.154184 100.162269 \nL 299.228564 99.551365 \nL 302.302944 99.741956 \nL 305.377324 98.687437 \nL 308.451705 97.812925 \nL 311.526085 98.244889 \nL 314.600465 99.561326 \nL 317.674845 99.445264 \nL 320.749225 98.96812 \nL 323.823605 98.790158 \nL 326.897986 98.758497 \nL 329.972366 98.657287 \nL 333.046746 98.558479 \nL 336.121126 99.010809 \nL 339.195506 98.231993 \nL 342.269886 98.208425 \nL 345.344267 99.51161 \nL 348.418647 100.392703 \nL 351.493027 100.346367 \nL 354.567407 101.006898 \nL 357.641787 100.701046 \nL 360.716167 101.029932 \nL 363.790548 100.730128 \nL 366.864928 101.298076 \nL 369.939308 99.905421 \nL 373.013688 99.083559 \nL 376.088068 98.695975 \n\" clip-path=\"url(#p482514ecfe)\" style=\"fill: none; stroke: #1f77b4; stroke-width: 1.5; stroke-linecap: square\"/>\n   </g>\n   <g id=\"line2d_16\">\n    <path d=\"M 56.50625 96.129511 \nL 391.30625 96.129511 \n\" clip-path=\"url(#p482514ecfe)\" style=\"fill: none; stroke-dasharray: 5.55,2.4; stroke-dashoffset: 0; stroke: #000000; stroke-width: 1.5\"/>\n   </g>\n   <g id=\"line2d_17\">\n    <path d=\"M 71.724432 137.908477 \nL 74.798812 78.224239 \nL 77.873192 78.224239 \nL 80.947572 58.826854 \nL 84.021952 66.287373 \nL 87.096333 62.308448 \nL 90.170713 73.961072 \nL 93.245093 77.47824 \nL 96.319473 86.845288 \nL 99.393853 84.192671 \nL 102.468233 84.192671 \nL 105.542614 82.700585 \nL 108.616994 86.488209 \nL 111.691374 88.029477 \nL 114.765754 86.58008 \nL 117.840134 92.399278 \nL 120.914514 96.83169 \nL 123.988895 97.7874 \nL 127.063275 92.045844 \nL 130.137655 96.129537 \nL 133.212035 90.161104 \nL 136.286415 94.773079 \nL 139.360795 88.863611 \nL 142.435176 95.134783 \nL 145.509556 96.368242 \nL 148.583936 98.884164 \nL 151.658316 100.550565 \nL 154.732696 105.295322 \nL 157.807076 104.773443 \nL 160.881457 104.68424 \nL 163.955837 107.873855 \nL 167.030217 109.371989 \nL 170.104597 109.51322 \nL 173.178977 110.172861 \nL 176.253357 111.476846 \nL 179.327738 112.045328 \nL 182.402118 111.29257 \nL 185.476498 110.736451 \nL 188.550878 112.198299 \nL 191.625258 112.54266 \nL 194.699638 109.085347 \nL 197.774019 106.219016 \nL 200.848399 106.678372 \nL 203.922779 105.489114 \nL 206.997159 105.015795 \nL 210.071539 104.563109 \nL 213.145919 104.764639 \nL 216.2203 105.330808 \nL 219.29468 103.92499 \nL 222.36906 105.440288 \nL 225.44344 105.491783 \nL 228.51782 104.73778 \nL 231.5922 103.674456 \nL 234.666581 104.861046 \nL 237.740961 106.438599 \nL 240.815341 103.803236 \nL 243.889721 101.050832 \nL 246.964101 101.274685 \nL 250.038481 102.09797 \nL 253.112862 103.092634 \nL 256.187242 103.663428 \nL 259.261622 104.40827 \nL 262.336002 102.003163 \nL 265.410382 101.165383 \nL 268.484762 100.812394 \nL 271.559143 100.198911 \nL 274.633523 99.692774 \nL 277.707903 97.709403 \nL 280.782283 96.907997 \nL 283.856663 99.966342 \nL 286.931043 99.239821 \nL 290.005424 100.440017 \nL 293.079804 101.852683 \nL 296.154184 101.130075 \nL 299.228564 102.257077 \nL 302.302944 101.626785 \nL 305.377324 102.252986 \nL 308.451705 102.021395 \nL 311.526085 101.342455 \nL 314.600465 100.904265 \nL 317.674845 100.329469 \nL 320.749225 100.787759 \nL 323.823605 101.09121 \nL 326.897986 100.961096 \nL 329.972366 100.974436 \nL 333.046746 100.709939 \nL 336.121126 99.971234 \nL 339.195506 99.588451 \nL 342.269886 98.74489 \nL 345.344267 97.7874 \nL 348.418647 97.047716 \nL 351.493027 96.648481 \nL 354.567407 96.386207 \nL 357.641787 96.637453 \nL 360.716167 97.134696 \nL 363.790548 97.186457 \nL 366.864928 96.437168 \nL 369.939308 96.921249 \nL 373.013688 96.370643 \nL 376.088068 95.592361 \n\" clip-path=\"url(#p482514ecfe)\" style=\"fill: none; stroke: #ff7f0e; stroke-width: 1.5; stroke-linecap: square\"/>\n   </g>\n   <g id=\"line2d_18\">\n    <path d=\"M 56.50625 96.129511 \nL 391.30625 96.129511 \n\" clip-path=\"url(#p482514ecfe)\" style=\"fill: none; stroke-dasharray: 5.55,2.4; stroke-dashoffset: 0; stroke: #000000; stroke-width: 1.5\"/>\n   </g>\n   <g id=\"line2d_19\">\n    <path d=\"M 71.724432 245.34 \nL 74.798812 218.482097 \nL 77.873192 211.519 \nL 80.947572 205.053146 \nL 84.021952 195.205307 \nL 87.096333 192.618948 \nL 90.170713 179.687418 \nL 93.245093 184.163675 \nL 96.319473 183.666343 \nL 99.393853 167.750552 \nL 102.468233 150.930456 \nL 105.542614 153.326847 \nL 108.616994 150.304432 \nL 111.691374 141.31901 \nL 114.765754 143.479009 \nL 117.840134 137.16239 \nL 120.914514 139.663904 \nL 123.988895 137.245279 \nL 127.063275 130.683551 \nL 130.137655 132.536897 \nL 133.212035 130.519019 \nL 136.286415 133.839103 \nL 139.360795 137.129928 \nL 142.435176 132.437377 \nL 145.509556 133.611159 \nL 148.583936 134.006037 \nL 151.658316 135.91897 \nL 154.732696 134.497944 \nL 157.807076 136.056199 \nL 160.881457 133.133749 \nL 163.955837 132.325139 \nL 167.030217 131.940044 \nL 170.104597 127.418518 \nL 173.178977 126.673765 \nL 176.253357 124.948487 \nL 179.327738 125.142636 \nL 182.402118 126.616845 \nL 185.476498 124.086872 \nL 188.550878 120.768388 \nL 191.625258 120.898413 \nL 194.699638 120.294357 \nL 197.774019 120.855812 \nL 200.848399 121.391209 \nL 203.922779 119.189322 \nL 206.997159 118.809475 \nL 210.071539 119.613993 \nL 213.145919 119.876178 \nL 216.2203 118.884092 \nL 219.29468 119.637739 \nL 222.36906 116.899654 \nL 225.44344 118.013761 \nL 228.51782 119.085 \nL 231.5922 118.088823 \nL 234.666581 116.24526 \nL 237.740961 115.771052 \nL 240.815341 115.846647 \nL 243.889721 115.919575 \nL 246.964101 114.446433 \nL 250.038481 115.95684 \nL 253.112862 112.741611 \nL 256.187242 111.686558 \nL 259.261622 111.050574 \nL 262.336002 108.918947 \nL 265.410382 110.024782 \nL 268.484762 111.188337 \nL 271.559143 112.226136 \nL 274.633523 112.075033 \nL 277.707903 113.069253 \nL 280.782283 114.467244 \nL 283.856663 113.267403 \nL 286.931043 112.353493 \nL 290.005424 111.382129 \nL 293.079804 110.682644 \nL 296.154184 110.082679 \nL 299.228564 110.612918 \nL 302.302944 111.678821 \nL 305.377324 112.174464 \nL 308.451705 111.280119 \nL 311.526085 112.297107 \nL 314.600465 111.647426 \nL 317.674845 111.750593 \nL 320.749225 113.015802 \nL 323.823605 112.956126 \nL 326.897986 111.263755 \nL 329.972366 112.349579 \nL 333.046746 111.397604 \nL 336.121126 109.506994 \nL 339.195506 110.101 \nL 342.269886 110.145202 \nL 345.344267 108.994809 \nL 348.418647 109.706034 \nL 351.493027 109.817916 \nL 354.567407 109.734938 \nL 357.641787 109.463237 \nL 360.716167 107.940735 \nL 363.790548 106.947316 \nL 366.864928 107.204964 \nL 369.939308 108.553596 \nL 373.013688 107.885506 \nL 376.088068 109.37937 \n\" clip-path=\"url(#p482514ecfe)\" style=\"fill: none; stroke: #2ca02c; stroke-width: 1.5; stroke-linecap: square\"/>\n   </g>\n   <g id=\"line2d_20\">\n    <path d=\"M 56.50625 96.129511 \nL 391.30625 96.129511 \n\" clip-path=\"url(#p482514ecfe)\" style=\"fill: none; stroke-dasharray: 5.55,2.4; stroke-dashoffset: 0; stroke: #000000; stroke-width: 1.5\"/>\n   </g>\n   <g id=\"line2d_21\">\n    <path d=\"M 71.724432 60.319029 \nL 74.798812 125.971612 \nL 77.873192 108.066313 \nL 80.947572 105.082142 \nL 84.021952 99.710561 \nL 87.096333 81.208499 \nL 90.170713 83.340038 \nL 93.245093 69.271634 \nL 96.319473 77.561129 \nL 99.393853 71.658954 \nL 102.468233 72.255806 \nL 105.542614 70.266388 \nL 108.616994 64.451014 \nL 111.691374 64.155834 \nL 114.765754 63.10425 \nL 117.840134 71.882807 \nL 120.914514 75.766659 \nL 123.988895 81.208499 \nL 127.063275 88.590487 \nL 130.137655 84.192671 \nL 133.212035 88.455838 \nL 136.286415 83.65007 \nL 139.360795 83.154695 \nL 142.435176 87.674265 \nL 145.509556 82.282762 \nL 148.583936 77.994694 \nL 151.658316 78.666341 \nL 154.732696 75.666339 \nL 157.807076 70.197729 \nL 160.881457 74.643215 \nL 163.955837 77.646686 \nL 167.030217 78.410738 \nL 170.104597 82.022356 \nL 173.178977 82.261684 \nL 176.253357 84.02218 \nL 179.327738 84.358449 \nL 182.402118 85.644469 \nL 185.476498 84.97798 \nL 188.550878 84.804821 \nL 191.625258 85.087905 \nL 194.699638 86.521827 \nL 197.774019 89.166351 \nL 200.848399 85.303042 \nL 203.922779 86.634331 \nL 206.997159 88.038993 \nL 210.071539 89.77183 \nL 213.145919 89.272185 \nL 216.2203 87.425598 \nL 219.29468 89.186628 \nL 222.36906 89.206105 \nL 225.44344 86.650251 \nL 228.51782 87.865567 \nL 231.5922 89.710641 \nL 234.666581 87.840042 \nL 237.740961 85.928977 \nL 240.815341 84.832124 \nL 243.889721 84.820918 \nL 246.964101 85.324654 \nL 250.038481 83.079899 \nL 253.112862 85.485807 \nL 256.187242 86.247369 \nL 259.261622 87.754485 \nL 262.336002 89.592712 \nL 265.410382 88.48243 \nL 268.484762 88.04922 \nL 271.559143 89.7994 \nL 274.633523 89.003063 \nL 277.707903 87.879085 \nL 280.782283 87.13362 \nL 283.856663 85.556867 \nL 286.931043 87.555179 \nL 290.005424 87.259732 \nL 293.079804 86.972467 \nL 296.154184 87.096267 \nL 299.228564 86.659589 \nL 302.302944 87.412436 \nL 305.377324 87.603204 \nL 308.451705 88.324656 \nL 311.526085 89.405589 \nL 314.600465 89.489634 \nL 317.674845 90.308472 \nL 320.749225 91.762404 \nL 323.823605 91.095915 \nL 326.897986 91.937431 \nL 329.972366 89.669553 \nL 333.046746 90.855075 \nL 336.121126 91.464556 \nL 339.195506 93.891363 \nL 342.269886 94.587113 \nL 345.344267 94.33898 \nL 348.418647 93.899546 \nL 351.493027 94.377935 \nL 354.567407 94.525124 \nL 357.641787 96.066036 \nL 360.716167 94.810165 \nL 363.790548 95.383449 \nL 366.864928 94.591293 \nL 369.939308 94.728789 \nL 373.013688 96.069238 \nL 376.088068 94.995509 \n\" clip-path=\"url(#p482514ecfe)\" style=\"fill: none; stroke: #d62728; stroke-width: 1.5; stroke-linecap: square\"/>\n   </g>\n   <g id=\"line2d_22\">\n    <path d=\"M 56.50625 96.129511 \nL 391.30625 96.129511 \n\" clip-path=\"url(#p482514ecfe)\" style=\"fill: none; stroke-dasharray: 5.55,2.4; stroke-dashoffset: 0; stroke: #000000; stroke-width: 1.5\"/>\n   </g>\n   <g id=\"line2d_23\">\n    <path d=\"M 71.724432 84.192671 \nL 74.798812 51.366336 \nL 77.873192 48.382164 \nL 80.947572 51.366336 \nL 84.021952 54.350597 \nL 87.096333 64.297955 \nL 90.170713 75.666339 \nL 93.245093 70.76372 \nL 96.319473 78.224239 \nL 99.393853 85.983228 \nL 102.468233 90.161104 \nL 105.542614 92.150522 \nL 108.616994 93.374821 \nL 111.691374 100.392703 \nL 114.765754 96.129537 \nL 117.840134 89.788105 \nL 120.914514 84.543792 \nL 123.988895 83.861116 \nL 127.063275 87.962241 \nL 130.137655 85.386376 \nL 133.212035 91.58213 \nL 136.286415 89.618503 \nL 139.360795 92.75609 \nL 142.435176 88.171597 \nL 145.509556 88.4899 \nL 148.583936 87.176843 \nL 151.658316 88.392693 \nL 154.732696 87.390024 \nL 157.807076 87.691429 \nL 160.881457 86.58008 \nL 163.955837 84.192671 \nL 167.030217 82.327497 \nL 170.104597 82.022356 \nL 173.178977 81.208499 \nL 176.253357 82.316914 \nL 179.327738 81.374277 \nL 182.402118 82.740874 \nL 185.476498 81.993808 \nL 188.550878 86.794328 \nL 191.625258 89.26587 \nL 194.699638 90.452193 \nL 197.774019 89.450591 \nL 200.848399 91.271475 \nL 203.922779 92.331419 \nL 206.997159 92.283216 \nL 210.071539 90.680048 \nL 213.145919 90.034103 \nL 216.2203 90.534103 \nL 219.29468 91.622774 \nL 222.36906 87.773695 \nL 225.44344 86.767291 \nL 228.51782 88.324656 \nL 231.5922 86.782766 \nL 234.666581 86.403186 \nL 237.740961 88.099292 \nL 240.815341 86.32421 \nL 243.889721 88.799844 \nL 246.964101 88.103027 \nL 250.038481 88.34022 \nL 253.112862 87.077412 \nL 256.187242 86.834438 \nL 259.261622 85.05909 \nL 262.336002 85.803221 \nL 265.410382 85.498258 \nL 268.484762 84.743632 \nL 271.559143 85.368233 \nL 274.633523 86.06336 \nL 277.707903 85.333725 \nL 280.782283 85.490164 \nL 283.856663 84.960015 \nL 286.931043 86.294238 \nL 290.005424 86.265067 \nL 293.079804 86.154875 \nL 296.154184 85.321808 \nL 299.228564 83.874368 \nL 302.302944 83.17177 \nL 305.377324 83.65007 \nL 308.451705 85.26391 \nL 311.526085 85.099289 \nL 314.600465 84.565671 \nL 317.674845 84.413678 \nL 320.749225 83.100888 \nL 323.823605 83.976912 \nL 326.897986 84.050551 \nL 329.972366 84.894824 \nL 333.046746 84.400871 \nL 336.121126 86.525117 \nL 339.195506 86.295217 \nL 342.269886 86.740966 \nL 345.344267 88.105339 \nL 348.418647 88.390203 \nL 351.493027 87.890469 \nL 354.567407 88.107474 \nL 357.641787 87.748349 \nL 360.716167 88.841733 \nL 363.790548 88.979851 \nL 366.864928 89.484298 \nL 369.939308 90.039261 \nL 373.013688 90.281702 \nL 376.088068 90.578838 \n\" clip-path=\"url(#p482514ecfe)\" style=\"fill: none; stroke: #9467bd; stroke-width: 1.5; stroke-linecap: square\"/>\n   </g>\n   <g id=\"line2d_24\">\n    <path d=\"M 56.50625 96.129511 \nL 391.30625 96.129511 \n\" clip-path=\"url(#p482514ecfe)\" style=\"fill: none; stroke-dasharray: 5.55,2.4; stroke-dashoffset: 0; stroke: #000000; stroke-width: 1.5\"/>\n   </g>\n   <g id=\"line2d_25\">\n    <path d=\"M 71.724432 42.413731 \nL 74.798812 69.271634 \nL 77.873192 76.234731 \nL 80.947572 76.732153 \nL 84.021952 82.998967 \nL 87.096333 94.14003 \nL 90.170713 86.750571 \nL 93.245093 90.907103 \nL 96.319473 79.550547 \nL 99.393853 90.161104 \nL 102.468233 104.810886 \nL 105.542614 98.616376 \nL 108.616994 105.311686 \nL 111.691374 101.245336 \nL 114.765754 100.108462 \nL 117.840134 96.875535 \nL 120.914514 97.533843 \nL 123.988895 96.792647 \nL 127.063275 96.757784 \nL 130.137655 99.113709 \nL 133.212035 96.697929 \nL 136.286415 96.129537 \nL 139.360795 95.87002 \nL 142.435176 92.647944 \nL 145.509556 96.129537 \nL 148.583936 100.031977 \nL 151.658316 92.371618 \nL 154.732696 95.703176 \nL 157.807076 95.923738 \nL 160.881457 95.333734 \nL 163.955837 93.819147 \nL 167.030217 92.026189 \nL 170.104597 91.427114 \nL 173.178977 94.19855 \nL 176.253357 92.548424 \nL 179.327738 92.150522 \nL 182.402118 90.322435 \nL 185.476498 92.045844 \nL 188.550878 90.926313 \nL 191.625258 88.9674 \nL 194.699638 89.578838 \nL 197.774019 89.166351 \nL 200.848399 89.744704 \nL 203.922779 90.296732 \nL 206.997159 91.487413 \nL 210.071539 91.847783 \nL 213.145919 93.970695 \nL 216.2203 95.383449 \nL 219.29468 93.571637 \nL 222.36906 96.845742 \nL 225.44344 99.991422 \nL 228.51782 97.277261 \nL 231.5922 98.156486 \nL 234.666581 99.776908 \nL 237.740961 99.16796 \nL 240.815341 101.778154 \nL 243.889721 99.689661 \nL 246.964101 100.760188 \nL 250.038481 100.175876 \nL 253.112862 100.008943 \nL 256.187242 100.336762 \nL 259.261622 99.980127 \nL 262.336002 100.392703 \nL 265.410382 100.699089 \nL 268.484762 102.09797 \nL 271.559143 102.278777 \nL 274.633523 104.503077 \nL 277.707903 105.345482 \nL 280.782283 105.384881 \nL 283.856663 105.593704 \nL 286.931043 105.040075 \nL 290.005424 104.336054 \nL 293.079804 104.223638 \nL 296.154184 104.920811 \nL 299.228564 105.758592 \nL 302.302944 105.082142 \nL 305.377324 104.345748 \nL 308.451705 104.010903 \nL 311.526085 102.32458 \nL 314.600465 102.545587 \nL 317.674845 102.466344 \nL 320.749225 101.078936 \nL 323.823605 100.803589 \nL 326.897986 101.742669 \nL 329.972366 102.16814 \nL 333.046746 102.79194 \nL 336.121126 102.23511 \nL 339.195506 100.605795 \nL 342.269886 100.287313 \nL 345.344267 99.975858 \nL 348.418647 99.277708 \nL 351.493027 99.632742 \nL 354.567407 98.953268 \nL 357.641787 98.097788 \nL 360.716167 98.956647 \nL 363.790548 99.486708 \nL 366.864928 99.698288 \nL 369.939308 98.565594 \nL 373.013688 99.02326 \nL 376.088068 99.471856 \n\" clip-path=\"url(#p482514ecfe)\" style=\"fill: none; stroke: #8c564b; stroke-width: 1.5; stroke-linecap: square\"/>\n   </g>\n   <g id=\"line2d_26\">\n    <path d=\"M 56.50625 96.129511 \nL 391.30625 96.129511 \n\" clip-path=\"url(#p482514ecfe)\" style=\"fill: none; stroke-dasharray: 5.55,2.4; stroke-dashoffset: 0; stroke: #000000; stroke-width: 1.5\"/>\n   </g>\n   <g id=\"patch_3\">\n    <path d=\"M 56.50625 256.68 \nL 56.50625 7.2 \n\" style=\"fill: none; stroke: #000000; stroke-width: 0.8; stroke-linejoin: miter; stroke-linecap: square\"/>\n   </g>\n   <g id=\"patch_4\">\n    <path d=\"M 391.30625 256.68 \nL 391.30625 7.2 \n\" style=\"fill: none; stroke: #000000; stroke-width: 0.8; stroke-linejoin: miter; stroke-linecap: square\"/>\n   </g>\n   <g id=\"patch_5\">\n    <path d=\"M 56.50625 256.68 \nL 391.30625 256.68 \n\" style=\"fill: none; stroke: #000000; stroke-width: 0.8; stroke-linejoin: miter; stroke-linecap: square\"/>\n   </g>\n   <g id=\"patch_6\">\n    <path d=\"M 56.50625 7.2 \nL 391.30625 7.2 \n\" style=\"fill: none; stroke: #000000; stroke-width: 0.8; stroke-linejoin: miter; stroke-linecap: square\"/>\n   </g>\n   <g id=\"legend_1\">\n    <g id=\"patch_7\">\n     <path d=\"M 308.451563 251.68 \nL 384.30625 251.68 \nQ 386.30625 251.68 386.30625 249.68 \nL 386.30625 162.61125 \nQ 386.30625 160.61125 384.30625 160.61125 \nL 308.451563 160.61125 \nQ 306.451563 160.61125 306.451563 162.61125 \nL 306.451563 249.68 \nQ 306.451563 251.68 308.451563 251.68 \nz\n\" style=\"fill: #ffffff; opacity: 0.8; stroke: #cccccc; stroke-linejoin: miter\"/>\n    </g>\n    <g id=\"line2d_27\">\n     <path d=\"M 310.451563 168.709687 \nL 320.451563 168.709687 \nL 330.451563 168.709687 \n\" style=\"fill: none; stroke: #1f77b4; stroke-width: 1.5; stroke-linecap: square\"/>\n    </g>\n    <g id=\"text_17\">\n     <!-- P(die=1) -->\n     <g transform=\"translate(338.451563 172.209687) scale(0.1 -0.1)\">\n      <defs>\n       <path id=\"DejaVuSans-50\" d=\"M 1259 4147 \nL 1259 2394 \nL 2053 2394 \nQ 2494 2394 2734 2622 \nQ 2975 2850 2975 3272 \nQ 2975 3691 2734 3919 \nQ 2494 4147 2053 4147 \nL 1259 4147 \nz\nM 628 4666 \nL 2053 4666 \nQ 2838 4666 3239 4311 \nQ 3641 3956 3641 3272 \nQ 3641 2581 3239 2228 \nQ 2838 1875 2053 1875 \nL 1259 1875 \nL 1259 0 \nL 628 0 \nL 628 4666 \nz\n\" transform=\"scale(0.015625)\"/>\n       <path id=\"DejaVuSans-28\" d=\"M 1984 4856 \nQ 1566 4138 1362 3434 \nQ 1159 2731 1159 2009 \nQ 1159 1288 1364 580 \nQ 1569 -128 1984 -844 \nL 1484 -844 \nQ 1016 -109 783 600 \nQ 550 1309 550 2009 \nQ 550 2706 781 3412 \nQ 1013 4119 1484 4856 \nL 1984 4856 \nz\n\" transform=\"scale(0.015625)\"/>\n       <path id=\"DejaVuSans-3d\" d=\"M 678 2906 \nL 4684 2906 \nL 4684 2381 \nL 678 2381 \nL 678 2906 \nz\nM 678 1631 \nL 4684 1631 \nL 4684 1100 \nL 678 1100 \nL 678 1631 \nz\n\" transform=\"scale(0.015625)\"/>\n       <path id=\"DejaVuSans-29\" d=\"M 513 4856 \nL 1013 4856 \nQ 1481 4119 1714 3412 \nQ 1947 2706 1947 2009 \nQ 1947 1309 1714 600 \nQ 1481 -109 1013 -844 \nL 513 -844 \nQ 928 -128 1133 580 \nQ 1338 1288 1338 2009 \nQ 1338 2731 1133 3434 \nQ 928 4138 513 4856 \nz\n\" transform=\"scale(0.015625)\"/>\n      </defs>\n      <use xlink:href=\"#DejaVuSans-50\"/>\n      <use xlink:href=\"#DejaVuSans-28\" x=\"60.302734\"/>\n      <use xlink:href=\"#DejaVuSans-64\" x=\"99.316406\"/>\n      <use xlink:href=\"#DejaVuSans-69\" x=\"162.792969\"/>\n      <use xlink:href=\"#DejaVuSans-65\" x=\"190.576172\"/>\n      <use xlink:href=\"#DejaVuSans-3d\" x=\"252.099609\"/>\n      <use xlink:href=\"#DejaVuSans-31\" x=\"335.888672\"/>\n      <use xlink:href=\"#DejaVuSans-29\" x=\"399.511719\"/>\n     </g>\n    </g>\n    <g id=\"line2d_28\">\n     <path d=\"M 310.451563 183.387812 \nL 320.451563 183.387812 \nL 330.451563 183.387812 \n\" style=\"fill: none; stroke: #ff7f0e; stroke-width: 1.5; stroke-linecap: square\"/>\n    </g>\n    <g id=\"text_18\">\n     <!-- P(die=2) -->\n     <g transform=\"translate(338.451563 186.887812) scale(0.1 -0.1)\">\n      <use xlink:href=\"#DejaVuSans-50\"/>\n      <use xlink:href=\"#DejaVuSans-28\" x=\"60.302734\"/>\n      <use xlink:href=\"#DejaVuSans-64\" x=\"99.316406\"/>\n      <use xlink:href=\"#DejaVuSans-69\" x=\"162.792969\"/>\n      <use xlink:href=\"#DejaVuSans-65\" x=\"190.576172\"/>\n      <use xlink:href=\"#DejaVuSans-3d\" x=\"252.099609\"/>\n      <use xlink:href=\"#DejaVuSans-32\" x=\"335.888672\"/>\n      <use xlink:href=\"#DejaVuSans-29\" x=\"399.511719\"/>\n     </g>\n    </g>\n    <g id=\"line2d_29\">\n     <path d=\"M 310.451563 198.065937 \nL 320.451563 198.065937 \nL 330.451563 198.065937 \n\" style=\"fill: none; stroke: #2ca02c; stroke-width: 1.5; stroke-linecap: square\"/>\n    </g>\n    <g id=\"text_19\">\n     <!-- P(die=3) -->\n     <g transform=\"translate(338.451563 201.565937) scale(0.1 -0.1)\">\n      <defs>\n       <path id=\"DejaVuSans-33\" d=\"M 2597 2516 \nQ 3050 2419 3304 2112 \nQ 3559 1806 3559 1356 \nQ 3559 666 3084 287 \nQ 2609 -91 1734 -91 \nQ 1441 -91 1130 -33 \nQ 819 25 488 141 \nL 488 750 \nQ 750 597 1062 519 \nQ 1375 441 1716 441 \nQ 2309 441 2620 675 \nQ 2931 909 2931 1356 \nQ 2931 1769 2642 2001 \nQ 2353 2234 1838 2234 \nL 1294 2234 \nL 1294 2753 \nL 1863 2753 \nQ 2328 2753 2575 2939 \nQ 2822 3125 2822 3475 \nQ 2822 3834 2567 4026 \nQ 2313 4219 1838 4219 \nQ 1578 4219 1281 4162 \nQ 984 4106 628 3988 \nL 628 4550 \nQ 988 4650 1302 4700 \nQ 1616 4750 1894 4750 \nQ 2613 4750 3031 4423 \nQ 3450 4097 3450 3541 \nQ 3450 3153 3228 2886 \nQ 3006 2619 2597 2516 \nz\n\" transform=\"scale(0.015625)\"/>\n      </defs>\n      <use xlink:href=\"#DejaVuSans-50\"/>\n      <use xlink:href=\"#DejaVuSans-28\" x=\"60.302734\"/>\n      <use xlink:href=\"#DejaVuSans-64\" x=\"99.316406\"/>\n      <use xlink:href=\"#DejaVuSans-69\" x=\"162.792969\"/>\n      <use xlink:href=\"#DejaVuSans-65\" x=\"190.576172\"/>\n      <use xlink:href=\"#DejaVuSans-3d\" x=\"252.099609\"/>\n      <use xlink:href=\"#DejaVuSans-33\" x=\"335.888672\"/>\n      <use xlink:href=\"#DejaVuSans-29\" x=\"399.511719\"/>\n     </g>\n    </g>\n    <g id=\"line2d_30\">\n     <path d=\"M 310.451563 212.744062 \nL 320.451563 212.744062 \nL 330.451563 212.744062 \n\" style=\"fill: none; stroke: #d62728; stroke-width: 1.5; stroke-linecap: square\"/>\n    </g>\n    <g id=\"text_20\">\n     <!-- P(die=4) -->\n     <g transform=\"translate(338.451563 216.244062) scale(0.1 -0.1)\">\n      <use xlink:href=\"#DejaVuSans-50\"/>\n      <use xlink:href=\"#DejaVuSans-28\" x=\"60.302734\"/>\n      <use xlink:href=\"#DejaVuSans-64\" x=\"99.316406\"/>\n      <use xlink:href=\"#DejaVuSans-69\" x=\"162.792969\"/>\n      <use xlink:href=\"#DejaVuSans-65\" x=\"190.576172\"/>\n      <use xlink:href=\"#DejaVuSans-3d\" x=\"252.099609\"/>\n      <use xlink:href=\"#DejaVuSans-34\" x=\"335.888672\"/>\n      <use xlink:href=\"#DejaVuSans-29\" x=\"399.511719\"/>\n     </g>\n    </g>\n    <g id=\"line2d_31\">\n     <path d=\"M 310.451563 227.422187 \nL 320.451563 227.422187 \nL 330.451563 227.422187 \n\" style=\"fill: none; stroke: #9467bd; stroke-width: 1.5; stroke-linecap: square\"/>\n    </g>\n    <g id=\"text_21\">\n     <!-- P(die=5) -->\n     <g transform=\"translate(338.451563 230.922187) scale(0.1 -0.1)\">\n      <use xlink:href=\"#DejaVuSans-50\"/>\n      <use xlink:href=\"#DejaVuSans-28\" x=\"60.302734\"/>\n      <use xlink:href=\"#DejaVuSans-64\" x=\"99.316406\"/>\n      <use xlink:href=\"#DejaVuSans-69\" x=\"162.792969\"/>\n      <use xlink:href=\"#DejaVuSans-65\" x=\"190.576172\"/>\n      <use xlink:href=\"#DejaVuSans-3d\" x=\"252.099609\"/>\n      <use xlink:href=\"#DejaVuSans-35\" x=\"335.888672\"/>\n      <use xlink:href=\"#DejaVuSans-29\" x=\"399.511719\"/>\n     </g>\n    </g>\n    <g id=\"line2d_32\">\n     <path d=\"M 310.451563 242.100312 \nL 320.451563 242.100312 \nL 330.451563 242.100312 \n\" style=\"fill: none; stroke: #8c564b; stroke-width: 1.5; stroke-linecap: square\"/>\n    </g>\n    <g id=\"text_22\">\n     <!-- P(die=6) -->\n     <g transform=\"translate(338.451563 245.600312) scale(0.1 -0.1)\">\n      <use xlink:href=\"#DejaVuSans-50\"/>\n      <use xlink:href=\"#DejaVuSans-28\" x=\"60.302734\"/>\n      <use xlink:href=\"#DejaVuSans-64\" x=\"99.316406\"/>\n      <use xlink:href=\"#DejaVuSans-69\" x=\"162.792969\"/>\n      <use xlink:href=\"#DejaVuSans-65\" x=\"190.576172\"/>\n      <use xlink:href=\"#DejaVuSans-3d\" x=\"252.099609\"/>\n      <use xlink:href=\"#DejaVuSans-36\" x=\"335.888672\"/>\n      <use xlink:href=\"#DejaVuSans-29\" x=\"399.511719\"/>\n     </g>\n    </g>\n   </g>\n  </g>\n </g>\n <defs>\n  <clipPath id=\"p482514ecfe\">\n   <rect x=\"56.50625\" y=\"7.2\" width=\"334.8\" height=\"249.48\"/>\n  </clipPath>\n </defs>\n</svg>\n"
     },
     "metadata": {},
     "output_type": "display_data"
    }
   ],
   "execution_count": 60
  },
  {
   "metadata": {},
   "cell_type": "code",
   "outputs": [],
   "execution_count": null,
   "source": "",
   "id": "2ba605301c7af5e2"
  }
 ],
 "metadata": {
  "kernelspec": {
   "display_name": "Python 3",
   "language": "python",
   "name": "python3"
  },
  "language_info": {
   "codemirror_mode": {
    "name": "ipython",
    "version": 2
   },
   "file_extension": ".py",
   "mimetype": "text/x-python",
   "name": "python",
   "nbconvert_exporter": "python",
   "pygments_lexer": "ipython2",
   "version": "2.7.6"
  }
 },
 "nbformat": 4,
 "nbformat_minor": 5
}
